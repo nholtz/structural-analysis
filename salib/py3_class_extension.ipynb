{
 "cells": [
  {
   "cell_type": "code",
   "execution_count": 1,
   "metadata": {},
   "outputs": [],
   "source": [
    "import inspect\n",
    "import sys\n",
    "import types"
   ]
  },
  {
   "cell_type": "code",
   "execution_count": 2,
   "metadata": {},
   "outputs": [
    {
     "data": {
      "text/plain": [
       "(function, method)"
      ]
     },
     "execution_count": 2,
     "metadata": {},
     "output_type": "execute_result"
    }
   ],
   "source": [
    "types.FunctionType, types.MethodType"
   ]
  },
  {
   "cell_type": "code",
   "execution_count": 3,
   "metadata": {},
   "outputs": [
    {
     "name": "stdout",
     "output_type": "stream",
     "text": [
      "<class '__main__.Test'> 35256392 <__main__.Test object at 0x7f3be16fd8d0> 139895162001616\n"
     ]
    }
   ],
   "source": [
    "class Test:\n",
    "    pass\n",
    "\n",
    "OrigTest = Test\n",
    "TOBJ = Test()\n",
    "\n",
    "print(Test,id(Test),TOBJ,id(TOBJ))\n",
    "\n",
    "class Bar:\n",
    "    def imeth(self,*args):\n",
    "        return 'imeth',self,args\n",
    "    @staticmethod\n",
    "    def smeth(self,*args):\n",
    "        return 'smeth',self,args\n",
    "    @classmethod\n",
    "    def cmeth(self,*args):\n",
    "        return 'cmeth',self,args"
   ]
  },
  {
   "cell_type": "code",
   "execution_count": 4,
   "metadata": {},
   "outputs": [
    {
     "name": "stdout",
     "output_type": "stream",
     "text": [
      "cmeth <class 'method'> <bound method Bar.cmeth of <class '__main__.Bar'>> 139895179786760\n",
      "imeth <class 'function'> <function Bar.imeth at 0x7f3be1f7b6a8> 139895170905768\n",
      "smeth <class 'function'> <function Bar.smeth at 0x7f3be1f7b730> 139895170905904\n",
      "\n",
      "cmeth <class 'classmethod'> <classmethod object at 0x7f3be16fdbe0> 139895162002400\n",
      "imeth <class 'function'> <function Bar.imeth at 0x7f3be1f7b6a8> 139895170905768\n",
      "smeth <class 'staticmethod'> <staticmethod object at 0x7f3be16fd940> 139895162001728\n"
     ]
    }
   ],
   "source": [
    "for k,v in inspect.getmembers(Bar):\n",
    "    if not k.startswith('__'):\n",
    "        print(k,type(v),v,id(v))\n",
    "print()\n",
    "for k,v in Bar.__dict__.items():\n",
    "    if not k.startswith('__'):\n",
    "        print(k,type(v),v,id(v))"
   ]
  },
  {
   "cell_type": "code",
   "execution_count": 5,
   "metadata": {},
   "outputs": [],
   "source": [
    "def extend(newcls):\n",
    "    clsname = newcls.__name__\n",
    "    oldcls = getattr(sys.modules[newcls.__module__],clsname,None)\n",
    "    if oldcls is None:\n",
    "        raise TypeError(\"Class '{}' not previously defined; therefore cannot be extended.\"\n",
    "                        .format(clsname))\n",
    "\n",
    "    if len(newcls.__bases__) > 1 or (len(newcls.__bases__) == 1 and newcls.__bases__[0] is not object):\n",
    "        raise TypeError(\"Class '{}' extension cannot have any base classes.\"\n",
    "                        .format(clsname))\n",
    "\n",
    "    for a,v in newcls.__dict__.items():\n",
    "        if not a.startswith('__'):\n",
    "            ## print(a,v,type(v))\n",
    "            if hasattr(oldcls,a):\n",
    "                raise TypeError(\"Attribute '{}' in extended class '{}' already exists. Cannot be redefined.\"\n",
    "                               .format(a,clsname))\n",
    "            setattr(oldcls,a,v)\n",
    "            \n",
    "    return oldcls"
   ]
  },
  {
   "cell_type": "code",
   "execution_count": 6,
   "metadata": {},
   "outputs": [],
   "source": [
    "@extend\n",
    "class Test:\n",
    "    A = 1"
   ]
  },
  {
   "cell_type": "code",
   "execution_count": 7,
   "metadata": {},
   "outputs": [
    {
     "data": {
      "text/plain": [
       "(__main__.Test, 35256392)"
      ]
     },
     "execution_count": 7,
     "metadata": {},
     "output_type": "execute_result"
    }
   ],
   "source": [
    "Test, id(Test)"
   ]
  },
  {
   "cell_type": "code",
   "execution_count": 8,
   "metadata": {},
   "outputs": [
    {
     "data": {
      "text/plain": [
       "1"
      ]
     },
     "execution_count": 8,
     "metadata": {},
     "output_type": "execute_result"
    }
   ],
   "source": [
    "TOBJ.A"
   ]
  },
  {
   "cell_type": "code",
   "execution_count": 9,
   "metadata": {},
   "outputs": [
    {
     "data": {
      "text/plain": [
       "True"
      ]
     },
     "execution_count": 9,
     "metadata": {},
     "output_type": "execute_result"
    }
   ],
   "source": [
    "Test is OrigTest"
   ]
  },
  {
   "cell_type": "code",
   "execution_count": 10,
   "metadata": {
    "scrolled": true
   },
   "outputs": [],
   "source": [
    "@extend\n",
    "class Test:\n",
    "    def imeth(self,*args):\n",
    "        return self,args"
   ]
  },
  {
   "cell_type": "code",
   "execution_count": 11,
   "metadata": {},
   "outputs": [
    {
     "data": {
      "text/plain": [
       "True"
      ]
     },
     "execution_count": 11,
     "metadata": {},
     "output_type": "execute_result"
    }
   ],
   "source": [
    "Test is OrigTest"
   ]
  },
  {
   "cell_type": "code",
   "execution_count": 12,
   "metadata": {},
   "outputs": [
    {
     "data": {
      "text/plain": [
       "((<__main__.Test at 0x7f3be16fd8d0>, (10, 20, 30)), True)"
      ]
     },
     "execution_count": 12,
     "metadata": {},
     "output_type": "execute_result"
    }
   ],
   "source": [
    "TOBJ.imeth(10,20,30), TOBJ.imeth(10)[0].__class__ is OrigTest"
   ]
  },
  {
   "cell_type": "code",
   "execution_count": 13,
   "metadata": {},
   "outputs": [
    {
     "data": {
      "text/plain": [
       "((<__main__.Test at 0x7f3be170bd30>, (30, 40, 50)), True)"
      ]
     },
     "execution_count": 13,
     "metadata": {},
     "output_type": "execute_result"
    }
   ],
   "source": [
    "t2 = Test()\n",
    "t2.imeth(30,40,50), t2.imeth()[0].__class__ is OrigTest"
   ]
  },
  {
   "cell_type": "code",
   "execution_count": 14,
   "metadata": {},
   "outputs": [],
   "source": [
    "@extend\n",
    "class Test:\n",
    "    @classmethod\n",
    "    def cmeth(self,*args):\n",
    "        return self,args"
   ]
  },
  {
   "cell_type": "code",
   "execution_count": 15,
   "metadata": {},
   "outputs": [
    {
     "data": {
      "text/plain": [
       "True"
      ]
     },
     "execution_count": 15,
     "metadata": {},
     "output_type": "execute_result"
    }
   ],
   "source": [
    "Test is OrigTest"
   ]
  },
  {
   "cell_type": "code",
   "execution_count": 16,
   "metadata": {},
   "outputs": [
    {
     "data": {
      "text/plain": [
       "((__main__.Test, (10, 20, 30, 40)), True)"
      ]
     },
     "execution_count": 16,
     "metadata": {},
     "output_type": "execute_result"
    }
   ],
   "source": [
    "TOBJ.cmeth(10,20,30,40), TOBJ.cmeth(10)[0] is OrigTest"
   ]
  },
  {
   "cell_type": "code",
   "execution_count": 17,
   "metadata": {},
   "outputs": [
    {
     "data": {
      "text/plain": [
       "((__main__.Test, (40, 50)), (<__main__.Test at 0x7f3be170b9b0>, (1,)), 1, True)"
      ]
     },
     "execution_count": 17,
     "metadata": {},
     "output_type": "execute_result"
    }
   ],
   "source": [
    "t3 = Test()\n",
    "t3.cmeth(40,50),t3.imeth(1),t3.A, t3.cmeth()[0] is OrigTest"
   ]
  },
  {
   "cell_type": "code",
   "execution_count": 18,
   "metadata": {},
   "outputs": [],
   "source": [
    "@extend\n",
    "class Test:\n",
    "    @staticmethod\n",
    "    def smeth(self,*args):\n",
    "        return self,args"
   ]
  },
  {
   "cell_type": "code",
   "execution_count": 19,
   "metadata": {},
   "outputs": [
    {
     "data": {
      "text/plain": [
       "True"
      ]
     },
     "execution_count": 19,
     "metadata": {},
     "output_type": "execute_result"
    }
   ],
   "source": [
    "Test is OrigTest"
   ]
  },
  {
   "cell_type": "code",
   "execution_count": 20,
   "metadata": {},
   "outputs": [
    {
     "data": {
      "text/plain": [
       "(1, ())"
      ]
     },
     "execution_count": 20,
     "metadata": {},
     "output_type": "execute_result"
    }
   ],
   "source": [
    "TOBJ.smeth(1)"
   ]
  },
  {
   "cell_type": "code",
   "execution_count": 21,
   "metadata": {},
   "outputs": [
    {
     "data": {
      "text/plain": [
       "(1,\n",
       " (<__main__.Test at 0x7f3be17096d8>, (100,)),\n",
       " (__main__.Test, (200,)),\n",
       " (300, ()),\n",
       " True,\n",
       " True)"
      ]
     },
     "execution_count": 21,
     "metadata": {},
     "output_type": "execute_result"
    }
   ],
   "source": [
    "t4 = Test()\n",
    "t4.A, t4.imeth(100), t4.cmeth(200), t4.smeth(300), \\\n",
    "t4.imeth()[0].__class__ is OrigTest, t4.cmeth()[0] is OrigTest"
   ]
  },
  {
   "cell_type": "code",
   "execution_count": 22,
   "metadata": {},
   "outputs": [],
   "source": [
    "@extend\n",
    "class Test:\n",
    "    \n",
    "    @property\n",
    "    def P(self):\n",
    "        return self.pp\n",
    "    \n",
    "    @P.setter\n",
    "    def P(self,v):\n",
    "        self.pp = v*2\n",
    "    \n",
    "    @P.deleter\n",
    "    def P(self):\n",
    "        del self.pp\n"
   ]
  },
  {
   "cell_type": "code",
   "execution_count": 23,
   "metadata": {},
   "outputs": [
    {
     "data": {
      "text/plain": [
       "20"
      ]
     },
     "execution_count": 23,
     "metadata": {},
     "output_type": "execute_result"
    }
   ],
   "source": [
    "TOBJ.P = 10\n",
    "TOBJ.P"
   ]
  },
  {
   "cell_type": "code",
   "execution_count": 24,
   "metadata": {},
   "outputs": [],
   "source": [
    "del TOBJ.P"
   ]
  },
  {
   "cell_type": "code",
   "execution_count": 25,
   "metadata": {},
   "outputs": [
    {
     "name": "stdout",
     "output_type": "stream",
     "text": [
      "<class 'AttributeError'> 'Test' object has no attribute 'pp'\n"
     ]
    }
   ],
   "source": [
    "try:\n",
    "    TOBJ.P\n",
    "except Exception as e:\n",
    "    print(e.__class__,e)"
   ]
  },
  {
   "cell_type": "code",
   "execution_count": 26,
   "metadata": {},
   "outputs": [
    {
     "data": {
      "text/plain": [
       "(2,\n",
       " (10, ()),\n",
       " (__main__.Test, (20, 30)),\n",
       " (<__main__.Test at 0x7f3be171e278>, (40, 50, 60)))"
      ]
     },
     "execution_count": 26,
     "metadata": {},
     "output_type": "execute_result"
    }
   ],
   "source": [
    "t5 = Test()\n",
    "t5.P = 1\n",
    "t5.P, t5.smeth(10), t5.cmeth(20,30), t5.imeth(40,50,60)"
   ]
  },
  {
   "cell_type": "code",
   "execution_count": 27,
   "metadata": {},
   "outputs": [
    {
     "name": "stdout",
     "output_type": "stream",
     "text": [
      "<class 'TypeError'> Attribute 'imeth' in extended class 'Test' already exists. Cannot be redefined.\n"
     ]
    }
   ],
   "source": [
    "try:\n",
    "    @extend\n",
    "    class Test:\n",
    "        def imeth(self):\n",
    "            pass\n",
    "except Exception as e:\n",
    "    print(e.__class__,e)"
   ]
  },
  {
   "cell_type": "code",
   "execution_count": 28,
   "metadata": {},
   "outputs": [
    {
     "name": "stdout",
     "output_type": "stream",
     "text": [
      "<class 'TypeError'> Class 'Test' extension cannot have any base classes.\n"
     ]
    }
   ],
   "source": [
    "try:\n",
    "    @extend\n",
    "    class Test(Bar):\n",
    "        def imeth(self):\n",
    "            pass\n",
    "except Exception as e:\n",
    "    print(e.__class__,e)"
   ]
  },
  {
   "cell_type": "code",
   "execution_count": null,
   "metadata": {},
   "outputs": [],
   "source": []
  }
 ],
 "metadata": {
  "kernelspec": {
   "display_name": "Python 3",
   "language": "python",
   "name": "python3"
  },
  "language_info": {
   "codemirror_mode": {
    "name": "ipython",
    "version": 3
   },
   "file_extension": ".py",
   "mimetype": "text/x-python",
   "name": "python",
   "nbconvert_exporter": "python",
   "pygments_lexer": "ipython3",
   "version": "3.5.2"
  }
 },
 "nbformat": 4,
 "nbformat_minor": 2
}
