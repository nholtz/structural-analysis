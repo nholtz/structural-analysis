{
 "cells": [
  {
   "cell_type": "markdown",
   "metadata": {},
   "source": [
    "## Notebook Importer\n",
    "Importing the module created from this notebook allows you to \n",
    "directly import other notebooks.\n",
    "#### Instructions\n",
    "This notebook file must be manually downloaded as a `.py` file and \n",
    "copied to a correct location (because it can't be directly\n",
    "imported until it has been imported :-)).\n",
    "\n",
    "Then do:\n",
    "```\n",
    "from NBImporter import import_notebooks   # or some such\n",
    "import_notebooks()                        # to enable the importer\n",
    "```\n",
    "\n",
    "Note that ```salib``` has a module that enabales the importer automatically.\n",
    "Using that, all you have to do is:\n",
    "\n",
    "```\n",
    "from salib import import_notebooks\n",
    "```\n",
    "\n",
    "#### Implementation Method\n",
    "The basic method is to translate\n",
    "the notebook file to a Python (`.py`) file (but only if necessary) \n",
    "and then letting the normal import mechanism handle that (which\n",
    "means it can also be compiled to a `.pyc file`).  The `.find_module()`\n",
    "does the compiling to `.py` when it locates the proper `.ipynb` file, then returns\n",
    "`None` to indicate it didn't find anything.  The importer will then try\n",
    "the next import method in the chain."
   ]
  },
  {
   "cell_type": "code",
   "execution_count": 1,
   "metadata": {
    "collapsed": false
   },
   "outputs": [],
   "source": [
    "from __future__ import print_function\n",
    "\n",
    "import sys\n",
    "import os, os.path\n",
    "from IPython import get_ipython\n",
    "import nbformat\n",
    "import io\n",
    "import time"
   ]
  },
  {
   "cell_type": "code",
   "execution_count": null,
   "metadata": {
    "collapsed": true
   },
   "outputs": [],
   "source": [
    "class NotebookImporter(object):\n",
    "    \n",
    "    \"\"\"Module finder that locates IPython Notebooks and\n",
    "    translates them to Python, then lets the normal import\n",
    "    mechanism handle them.\n",
    "    \"\"\"\n",
    "    \n",
    "    NBVERSION = 4\n",
    "\n",
    "    def __init__(self):\n",
    "        pass\n",
    "    \n",
    "    def find_module(self, fullname, path=None):\n",
    "        \n",
    "        nb_path = self._find_notebook(fullname, path)\n",
    "        if not nb_path:\n",
    "            ##print('Notebook not found.')\n",
    "            return None\n",
    "        \n",
    "        ##print('Found:', nb_path)\n",
    "        if nb_path.endswith('.ipynb'):\n",
    "            py_path = nb_path[:-6] + '.py'\n",
    "        else:\n",
    "            py_path = nb_path + '.py'\n",
    "        if self._must_compile(nb_path,py_path):\n",
    "            print(\"Compiling notebook '{}' to '{}'.\".format(nb_path,py_path))\n",
    "            self._compile_to_py(nb_path,py_path)\n",
    "            \n",
    "        return None  # punt to normal import mechanism\n",
    "    \n",
    "    def _find_notebook(self, fullname, path=None):\n",
    "        \"\"\"find a notebook, given its fully qualified name and an optional path\n",
    "\n",
    "        This turns \"foo.bar\" into \"foo/bar.ipynb\"\n",
    "        and tries turning \"Foo_Bar\" into \"Foo-Bar\" and \"Foo Bar\" \n",
    "        if Foo_Bar does not exist.\n",
    "        \"\"\"\n",
    "        ##print('find_notebook args:',fullname,path)\n",
    "        parts = fullname.split('.')\n",
    "        name1 = parts[-1] + '.ipynb'\n",
    "        mpaths = [name1]\n",
    "        if '_' in name1:\n",
    "            mpaths.append(name1.replace('_','-'))\n",
    "            mpaths.append(name1.replace('_',' '))\n",
    "\n",
    "        if not path:\n",
    "            path = ['']\n",
    "        for d in path:\n",
    "            for p in mpaths:\n",
    "                nb_path = os.path.join(d,p)\n",
    "                ##print('find_notebook trying:',nb_path)\n",
    "                if os.path.isfile(nb_path):\n",
    "                    return nb_path\n",
    "                \n",
    "    def _must_compile(self,nb_path,py_path):\n",
    "        if not os.path.exists(py_path):\n",
    "            return True\n",
    "        nbt = os.path.getmtime(nb_path)\n",
    "        pyt = os.path.getmtime(py_path)\n",
    "        return pyt < nbt\n",
    "    \n",
    "    def _compile_to_py(self,nb_path,py_path):\n",
    "        \n",
    "        shell = get_ipython()\n",
    "                                       \n",
    "        # load the notebook object\n",
    "        with io.open(nb_path, 'r', encoding='utf-8') as f:\n",
    "            nb = nbformat.read(f,self.NBVERSION)\n",
    "        \n",
    "        with io.open(py_path,'w',encoding='utf-8') as pyf:\n",
    "            pyf.write(u'## Compiled from {} on {}\\n'.format(nb_path,time.ctime()))\n",
    "            for cell in nb['cells']:\n",
    "                if cell['cell_type'] == 'code':\n",
    "                    # transform the input to executable Python\n",
    "                    ##print (\"Source\",cell['source'])\n",
    "                    ec = cell['execution_count']\n",
    "                    code = shell.input_transformer_manager.transform_cell(cell['source'])\n",
    "                    if code.startswith('##test:'):\n",
    "                        continue\n",
    "                    if code.startswith('get_ipython().run_cell_magic('):\n",
    "                        continue\n",
    "                    if code.startswith('## Test Section:'):\n",
    "                        pyf.write(u'\\n## Import ended by \"## Test Section:\"\\n')\n",
    "                        break\n",
    "                    if code.startswith('#### End Import ####'):\n",
    "                        pyf.write(u'\\n## Import ended by \"#### End Import ####\"\\n')\n",
    "                        break\n",
    "\n",
    "                    pyf.write(u'\\n')\n",
    "                    pyf.write(u'## In [{}]:\\n'.format(' ' if ec is None else ec))\n",
    "                    pyf.write(code)"
   ]
  },
  {
   "cell_type": "markdown",
   "metadata": {},
   "source": [
    "**NOTE:** It might be possible to have an argument to optionally disable magics, output, etc ...\n",
    "It might be necessary to force recompile, but that leads to ugly non-localness ..."
   ]
  },
  {
   "cell_type": "code",
   "execution_count": 3,
   "metadata": {
    "collapsed": true
   },
   "outputs": [],
   "source": [
    "def import_notebooks():\n",
    "    for x in sys.meta_path:\n",
    "        if type(x) is NotebookImporter:\n",
    "            return\n",
    "    sys.meta_path.append(NotebookImporter())"
   ]
  },
  {
   "cell_type": "markdown",
   "metadata": {
    "collapsed": true
   },
   "source": [
    "#### Ugliness!\n",
    "One problem with compile-to-py and `import_notebooks()` is if you forget to call it (or even forget\n",
    "to import this module), your import statements may grab old out-of-date .py files and you might\n",
    "never know about it ...."
   ]
  },
  {
   "cell_type": "code",
   "execution_count": null,
   "metadata": {
    "collapsed": true
   },
   "outputs": [],
   "source": []
  }
 ],
 "metadata": {
  "kernelspec": {
   "display_name": "Python 2",
   "language": "python",
   "name": "python2"
  },
  "language_info": {
   "codemirror_mode": {
    "name": "ipython",
    "version": 2
   },
   "file_extension": ".py",
   "mimetype": "text/x-python",
   "name": "python",
   "nbconvert_exporter": "python",
   "pygments_lexer": "ipython2",
   "version": "2.7.6"
  },
  "widgets": {
   "state": {},
   "version": "1.1.1"
  }
 },
 "nbformat": 4,
 "nbformat_minor": 0
}
