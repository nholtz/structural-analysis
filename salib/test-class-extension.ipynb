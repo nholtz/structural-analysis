{
 "cells": [
  {
   "cell_type": "code",
   "execution_count": 1,
   "metadata": {
    "collapsed": true
   },
   "outputs": [],
   "source": [
    "import inspect"
   ]
  },
  {
   "cell_type": "code",
   "execution_count": 2,
   "metadata": {
    "collapsed": false
   },
   "outputs": [],
   "source": [
    "class Foo(object):\n",
    "    \n",
    "    def __init__(self):\n",
    "        self.zz = 4\n",
    "    \n",
    "    @property\n",
    "    def Z(self):\n",
    "        return self.zz\n",
    "    \n",
    "    @Z.setter\n",
    "    def Z(self,v):\n",
    "        self.zz = v\n",
    "    \n",
    "    @Z.deleter\n",
    "    def Z(self):\n",
    "        del self.zz\n",
    "\n",
    "class Bar(Foo):\n",
    "    \n",
    "    A = 1\n",
    "    \n",
    "    def B(self,*args):\n",
    "        return self,args\n",
    "    \n",
    "    @classmethod\n",
    "    def C(self,*args):\n",
    "        return self,args\n",
    "    \n",
    "    @staticmethod\n",
    "    def D(self,*args):\n",
    "        return self,args"
   ]
  },
  {
   "cell_type": "code",
   "execution_count": 3,
   "metadata": {
    "collapsed": false
   },
   "outputs": [],
   "source": [
    "b = Bar()\n",
    "\n",
    "Bar.X = lambda self,x: (self,x)"
   ]
  },
  {
   "cell_type": "code",
   "execution_count": 4,
   "metadata": {
    "collapsed": false
   },
   "outputs": [
    {
     "data": {
      "text/plain": [
       "(<__main__.Bar at 0x7f9878065be0>, (1, 3))"
      ]
     },
     "execution_count": 4,
     "metadata": {},
     "output_type": "execute_result"
    }
   ],
   "source": [
    "b.B(1,3)"
   ]
  },
  {
   "cell_type": "code",
   "execution_count": 5,
   "metadata": {
    "collapsed": false
   },
   "outputs": [
    {
     "data": {
      "text/plain": [
       "(__main__.Bar, (10, 20))"
      ]
     },
     "execution_count": 5,
     "metadata": {},
     "output_type": "execute_result"
    }
   ],
   "source": [
    "b.C(10,20)"
   ]
  },
  {
   "cell_type": "code",
   "execution_count": 6,
   "metadata": {
    "collapsed": false
   },
   "outputs": [
    {
     "data": {
      "text/plain": [
       "(30, (40,))"
      ]
     },
     "execution_count": 6,
     "metadata": {},
     "output_type": "execute_result"
    }
   ],
   "source": [
    "b.D(30,40)"
   ]
  },
  {
   "cell_type": "code",
   "execution_count": 7,
   "metadata": {
    "collapsed": false
   },
   "outputs": [
    {
     "data": {
      "text/plain": [
       "(<__main__.Bar at 0x7f9878065be0>, 1000)"
      ]
     },
     "execution_count": 7,
     "metadata": {},
     "output_type": "execute_result"
    }
   ],
   "source": [
    "b.X(1000)"
   ]
  },
  {
   "cell_type": "code",
   "execution_count": 8,
   "metadata": {
    "collapsed": false
   },
   "outputs": [
    {
     "data": {
      "text/plain": [
       "[('A', 1),\n",
       " ('B', <function __main__.Bar.B>),\n",
       " ('C', <bound method type.C of <class '__main__.Bar'>>),\n",
       " ('D', <function __main__.Bar.D>),\n",
       " ('X', <function __main__.<lambda>>),\n",
       " ('Z', <property at 0x7f987803bef8>),\n",
       " ('__class__', type),\n",
       " ('__delattr__', <slot wrapper '__delattr__' of 'object' objects>),\n",
       " ('__dict__',\n",
       "  mappingproxy({'X': <function <lambda> at 0x7f987c240840>, 'D': <staticmethod object at 0x7f987806b748>, 'C': <classmethod object at 0x7f987806b710>, 'B': <function Bar.B at 0x7f98780688c8>, 'A': 1, '__doc__': None, '__module__': '__main__'})),\n",
       " ('__dir__', <method '__dir__' of 'object' objects>),\n",
       " ('__doc__', None),\n",
       " ('__eq__', <slot wrapper '__eq__' of 'object' objects>),\n",
       " ('__format__', <method '__format__' of 'object' objects>),\n",
       " ('__ge__', <slot wrapper '__ge__' of 'object' objects>),\n",
       " ('__getattribute__', <slot wrapper '__getattribute__' of 'object' objects>),\n",
       " ('__gt__', <slot wrapper '__gt__' of 'object' objects>),\n",
       " ('__hash__', <slot wrapper '__hash__' of 'object' objects>),\n",
       " ('__init__', <function __main__.Foo.__init__>),\n",
       " ('__le__', <slot wrapper '__le__' of 'object' objects>),\n",
       " ('__lt__', <slot wrapper '__lt__' of 'object' objects>),\n",
       " ('__module__', '__main__'),\n",
       " ('__ne__', <slot wrapper '__ne__' of 'object' objects>),\n",
       " ('__new__', <function object.__new__>),\n",
       " ('__reduce__', <method '__reduce__' of 'object' objects>),\n",
       " ('__reduce_ex__', <method '__reduce_ex__' of 'object' objects>),\n",
       " ('__repr__', <slot wrapper '__repr__' of 'object' objects>),\n",
       " ('__setattr__', <slot wrapper '__setattr__' of 'object' objects>),\n",
       " ('__sizeof__', <method '__sizeof__' of 'object' objects>),\n",
       " ('__str__', <slot wrapper '__str__' of 'object' objects>),\n",
       " ('__subclasshook__', <function Bar.__subclasshook__>),\n",
       " ('__weakref__', <attribute '__weakref__' of 'Foo' objects>)]"
      ]
     },
     "execution_count": 8,
     "metadata": {},
     "output_type": "execute_result"
    }
   ],
   "source": [
    "m = inspect.getmembers(Bar)\n",
    "m"
   ]
  },
  {
   "cell_type": "code",
   "execution_count": 9,
   "metadata": {
    "collapsed": false
   },
   "outputs": [
    {
     "data": {
      "text/plain": [
       "<bound method type.C of <class '__main__.Bar'>>"
      ]
     },
     "execution_count": 9,
     "metadata": {},
     "output_type": "execute_result"
    }
   ],
   "source": [
    "m2 = m[2][1]\n",
    "m2"
   ]
  },
  {
   "cell_type": "code",
   "execution_count": 10,
   "metadata": {
    "collapsed": false
   },
   "outputs": [
    {
     "data": {
      "text/plain": [
       "[('__call__', <method-wrapper '__call__' of method object at 0x7f98780dd648>),\n",
       " ('__class__', method),\n",
       " ('__delattr__',\n",
       "  <method-wrapper '__delattr__' of method object at 0x7f98780dd648>),\n",
       " ('__dir__', <function method.__dir__>),\n",
       " ('__doc__', None),\n",
       " ('__eq__', <method-wrapper '__eq__' of method object at 0x7f98780dd648>),\n",
       " ('__format__', <function method.__format__>),\n",
       " ('__func__', <function __main__.Bar.C>),\n",
       " ('__ge__', <method-wrapper '__ge__' of method object at 0x7f98780dd648>),\n",
       " ('__get__', <method-wrapper '__get__' of method object at 0x7f98780dd648>),\n",
       " ('__getattribute__',\n",
       "  <method-wrapper '__getattribute__' of method object at 0x7f98780dd648>),\n",
       " ('__gt__', <method-wrapper '__gt__' of method object at 0x7f98780dd648>),\n",
       " ('__hash__', <method-wrapper '__hash__' of method object at 0x7f98780dd648>),\n",
       " ('__init__', <method-wrapper '__init__' of method object at 0x7f98780dd648>),\n",
       " ('__le__', <method-wrapper '__le__' of method object at 0x7f98780dd648>),\n",
       " ('__lt__', <method-wrapper '__lt__' of method object at 0x7f98780dd648>),\n",
       " ('__ne__', <method-wrapper '__ne__' of method object at 0x7f98780dd648>),\n",
       " ('__new__', <function method.__new__>),\n",
       " ('__reduce__', <function method.__reduce__>),\n",
       " ('__reduce_ex__', <function method.__reduce_ex__>),\n",
       " ('__repr__', <method-wrapper '__repr__' of method object at 0x7f98780dd648>),\n",
       " ('__self__', __main__.Bar),\n",
       " ('__setattr__',\n",
       "  <method-wrapper '__setattr__' of method object at 0x7f98780dd648>),\n",
       " ('__sizeof__', <function method.__sizeof__>),\n",
       " ('__str__', <method-wrapper '__str__' of method object at 0x7f98780dd648>),\n",
       " ('__subclasshook__', <function method.__subclasshook__>)]"
      ]
     },
     "execution_count": 10,
     "metadata": {},
     "output_type": "execute_result"
    }
   ],
   "source": [
    "inspect.getmembers(m2)"
   ]
  },
  {
   "cell_type": "code",
   "execution_count": 11,
   "metadata": {
    "collapsed": false
   },
   "outputs": [],
   "source": [
    "def extend(old):\n",
    "    def _fn(new,old=old):\n",
    "        for a,v in inspect.getmembers(new):\n",
    "            if not a.startswith('_'):\n",
    "                setattr(old,a,v)\n",
    "        return old\n",
    "    return _fn"
   ]
  },
  {
   "cell_type": "code",
   "execution_count": 12,
   "metadata": {
    "collapsed": false
   },
   "outputs": [],
   "source": [
    "@extend(Bar)\n",
    "class Zap:\n",
    "    \n",
    "    def Q(self):\n",
    "        return self"
   ]
  },
  {
   "cell_type": "code",
   "execution_count": 13,
   "metadata": {
    "collapsed": false
   },
   "outputs": [
    {
     "data": {
      "text/plain": [
       "[('A', 1),\n",
       " ('B', <function __main__.Bar.B>),\n",
       " ('C', <bound method type.C of <class '__main__.Bar'>>),\n",
       " ('D', <function __main__.Bar.D>),\n",
       " ('Q', <function __main__.Zap.Q>),\n",
       " ('X', <function __main__.<lambda>>),\n",
       " ('Z', <property at 0x7f987803bef8>),\n",
       " ('__class__', type),\n",
       " ('__delattr__', <slot wrapper '__delattr__' of 'object' objects>),\n",
       " ('__dict__',\n",
       "  mappingproxy({'X': <function <lambda> at 0x7f987c240840>, 'D': <staticmethod object at 0x7f987806b748>, 'C': <classmethod object at 0x7f987806b710>, 'Q': <function Zap.Q at 0x7f987803fbf8>, 'B': <function Bar.B at 0x7f98780688c8>, 'A': 1, '__doc__': None, '__module__': '__main__'})),\n",
       " ('__dir__', <method '__dir__' of 'object' objects>),\n",
       " ('__doc__', None),\n",
       " ('__eq__', <slot wrapper '__eq__' of 'object' objects>),\n",
       " ('__format__', <method '__format__' of 'object' objects>),\n",
       " ('__ge__', <slot wrapper '__ge__' of 'object' objects>),\n",
       " ('__getattribute__', <slot wrapper '__getattribute__' of 'object' objects>),\n",
       " ('__gt__', <slot wrapper '__gt__' of 'object' objects>),\n",
       " ('__hash__', <slot wrapper '__hash__' of 'object' objects>),\n",
       " ('__init__', <function __main__.Foo.__init__>),\n",
       " ('__le__', <slot wrapper '__le__' of 'object' objects>),\n",
       " ('__lt__', <slot wrapper '__lt__' of 'object' objects>),\n",
       " ('__module__', '__main__'),\n",
       " ('__ne__', <slot wrapper '__ne__' of 'object' objects>),\n",
       " ('__new__', <function object.__new__>),\n",
       " ('__reduce__', <method '__reduce__' of 'object' objects>),\n",
       " ('__reduce_ex__', <method '__reduce_ex__' of 'object' objects>),\n",
       " ('__repr__', <slot wrapper '__repr__' of 'object' objects>),\n",
       " ('__setattr__', <slot wrapper '__setattr__' of 'object' objects>),\n",
       " ('__sizeof__', <method '__sizeof__' of 'object' objects>),\n",
       " ('__str__', <slot wrapper '__str__' of 'object' objects>),\n",
       " ('__subclasshook__', <function Bar.__subclasshook__>),\n",
       " ('__weakref__', <attribute '__weakref__' of 'Foo' objects>)]"
      ]
     },
     "execution_count": 13,
     "metadata": {},
     "output_type": "execute_result"
    }
   ],
   "source": [
    "inspect.getmembers(Zap)"
   ]
  },
  {
   "cell_type": "code",
   "execution_count": 20,
   "metadata": {
    "collapsed": false
   },
   "outputs": [
    {
     "data": {
      "text/plain": [
       "True"
      ]
     },
     "execution_count": 20,
     "metadata": {},
     "output_type": "execute_result"
    }
   ],
   "source": [
    "Zap is Bar"
   ]
  },
  {
   "cell_type": "code",
   "execution_count": 21,
   "metadata": {
    "collapsed": false
   },
   "outputs": [
    {
     "data": {
      "text/plain": [
       "<__main__.Bar at 0x7f987806bb00>"
      ]
     },
     "execution_count": 21,
     "metadata": {},
     "output_type": "execute_result"
    }
   ],
   "source": [
    "z = Zap()\n",
    "z"
   ]
  },
  {
   "cell_type": "code",
   "execution_count": 22,
   "metadata": {
    "collapsed": false
   },
   "outputs": [
    {
     "data": {
      "text/plain": [
       "1"
      ]
     },
     "execution_count": 22,
     "metadata": {},
     "output_type": "execute_result"
    }
   ],
   "source": [
    "z.A"
   ]
  },
  {
   "cell_type": "code",
   "execution_count": 23,
   "metadata": {
    "collapsed": false
   },
   "outputs": [
    {
     "data": {
      "text/plain": [
       "(<__main__.Bar at 0x7f987806bb00>, ())"
      ]
     },
     "execution_count": 23,
     "metadata": {},
     "output_type": "execute_result"
    }
   ],
   "source": [
    "z.B()"
   ]
  },
  {
   "cell_type": "code",
   "execution_count": 24,
   "metadata": {
    "collapsed": false
   },
   "outputs": [
    {
     "data": {
      "text/plain": [
       "(__main__.Bar, ())"
      ]
     },
     "execution_count": 24,
     "metadata": {},
     "output_type": "execute_result"
    }
   ],
   "source": [
    "z.C()"
   ]
  },
  {
   "cell_type": "code",
   "execution_count": 26,
   "metadata": {
    "collapsed": false
   },
   "outputs": [
    {
     "data": {
      "text/plain": [
       "(33, ())"
      ]
     },
     "execution_count": 26,
     "metadata": {},
     "output_type": "execute_result"
    }
   ],
   "source": [
    "z.D(33)"
   ]
  },
  {
   "cell_type": "code",
   "execution_count": 28,
   "metadata": {
    "collapsed": false
   },
   "outputs": [
    {
     "data": {
      "text/plain": [
       "<bound method Bar.<lambda> of <__main__.Bar object at 0x7f987806bb00>>"
      ]
     },
     "execution_count": 28,
     "metadata": {},
     "output_type": "execute_result"
    }
   ],
   "source": [
    "z.X"
   ]
  },
  {
   "cell_type": "code",
   "execution_count": 29,
   "metadata": {
    "collapsed": false
   },
   "outputs": [
    {
     "data": {
      "text/plain": [
       "(<__main__.Bar at 0x7f987806bb00>, 10)"
      ]
     },
     "execution_count": 29,
     "metadata": {},
     "output_type": "execute_result"
    }
   ],
   "source": [
    "z.X(10)"
   ]
  },
  {
   "cell_type": "code",
   "execution_count": 30,
   "metadata": {
    "collapsed": false
   },
   "outputs": [
    {
     "data": {
      "text/plain": [
       "4"
      ]
     },
     "execution_count": 30,
     "metadata": {},
     "output_type": "execute_result"
    }
   ],
   "source": [
    "z.Z"
   ]
  },
  {
   "cell_type": "code",
   "execution_count": 32,
   "metadata": {
    "collapsed": true
   },
   "outputs": [],
   "source": [
    "z.Z = 5"
   ]
  },
  {
   "cell_type": "code",
   "execution_count": 33,
   "metadata": {
    "collapsed": false
   },
   "outputs": [
    {
     "data": {
      "text/plain": [
       "5"
      ]
     },
     "execution_count": 33,
     "metadata": {},
     "output_type": "execute_result"
    }
   ],
   "source": [
    "z.Z"
   ]
  },
  {
   "cell_type": "code",
   "execution_count": 34,
   "metadata": {
    "collapsed": true
   },
   "outputs": [],
   "source": [
    "del z.Z"
   ]
  },
  {
   "cell_type": "code",
   "execution_count": 35,
   "metadata": {
    "collapsed": false
   },
   "outputs": [
    {
     "ename": "AttributeError",
     "evalue": "'Bar' object has no attribute 'zz'",
     "output_type": "error",
     "traceback": [
      "\u001b[1;31m---------------------------------------------------------------------------\u001b[0m",
      "\u001b[1;31mAttributeError\u001b[0m                            Traceback (most recent call last)",
      "\u001b[1;32m<ipython-input-35-a95a9bf1870f>\u001b[0m in \u001b[0;36m<module>\u001b[1;34m()\u001b[0m\n\u001b[1;32m----> 1\u001b[1;33m \u001b[0mz\u001b[0m\u001b[1;33m.\u001b[0m\u001b[0mZ\u001b[0m\u001b[1;33m\u001b[0m\u001b[0m\n\u001b[0m",
      "\u001b[1;32m<ipython-input-2-1e857b0fb180>\u001b[0m in \u001b[0;36mZ\u001b[1;34m(self)\u001b[0m\n\u001b[0;32m      6\u001b[0m     \u001b[1;33m@\u001b[0m\u001b[0mproperty\u001b[0m\u001b[1;33m\u001b[0m\u001b[0m\n\u001b[0;32m      7\u001b[0m     \u001b[1;32mdef\u001b[0m \u001b[0mZ\u001b[0m\u001b[1;33m(\u001b[0m\u001b[0mself\u001b[0m\u001b[1;33m)\u001b[0m\u001b[1;33m:\u001b[0m\u001b[1;33m\u001b[0m\u001b[0m\n\u001b[1;32m----> 8\u001b[1;33m         \u001b[1;32mreturn\u001b[0m \u001b[0mself\u001b[0m\u001b[1;33m.\u001b[0m\u001b[0mzz\u001b[0m\u001b[1;33m\u001b[0m\u001b[0m\n\u001b[0m\u001b[0;32m      9\u001b[0m \u001b[1;33m\u001b[0m\u001b[0m\n\u001b[0;32m     10\u001b[0m     \u001b[1;33m@\u001b[0m\u001b[0mZ\u001b[0m\u001b[1;33m.\u001b[0m\u001b[0msetter\u001b[0m\u001b[1;33m\u001b[0m\u001b[0m\n",
      "\u001b[1;31mAttributeError\u001b[0m: 'Bar' object has no attribute 'zz'"
     ]
    }
   ],
   "source": [
    "z.Z"
   ]
  },
  {
   "cell_type": "code",
   "execution_count": 36,
   "metadata": {
    "collapsed": true
   },
   "outputs": [],
   "source": [
    "@extend(Bar)\n",
    "class Qwerty:\n",
    "    \n",
    "    @classmethod\n",
    "    def CM(self,*args):\n",
    "        return self,args"
   ]
  },
  {
   "cell_type": "code",
   "execution_count": 37,
   "metadata": {
    "collapsed": true
   },
   "outputs": [],
   "source": [
    "b = Bar()"
   ]
  },
  {
   "cell_type": "code",
   "execution_count": 38,
   "metadata": {
    "collapsed": false
   },
   "outputs": [
    {
     "data": {
      "text/plain": [
       "(__main__.Qwerty, (3, 4, 5))"
      ]
     },
     "execution_count": 38,
     "metadata": {},
     "output_type": "execute_result"
    }
   ],
   "source": [
    "b.CM(3,4,5)"
   ]
  },
  {
   "cell_type": "code",
   "execution_count": 40,
   "metadata": {
    "collapsed": false
   },
   "outputs": [
    {
     "data": {
      "text/plain": [
       "<bound method type.CM of <class '__main__.Qwerty'>>"
      ]
     },
     "execution_count": 40,
     "metadata": {},
     "output_type": "execute_result"
    }
   ],
   "source": [
    "m = inspect.getmembers(Qwerty)[3][1]\n",
    "m"
   ]
  },
  {
   "cell_type": "code",
   "execution_count": 41,
   "metadata": {
    "collapsed": false
   },
   "outputs": [
    {
     "data": {
      "text/plain": [
       "method"
      ]
     },
     "execution_count": 41,
     "metadata": {},
     "output_type": "execute_result"
    }
   ],
   "source": [
    "type(m)"
   ]
  },
  {
   "cell_type": "code",
   "execution_count": 42,
   "metadata": {
    "collapsed": false
   },
   "outputs": [
    {
     "data": {
      "text/plain": [
       "[('__call__', <method-wrapper '__call__' of method object at 0x7f98780deb08>),\n",
       " ('__class__', method),\n",
       " ('__delattr__',\n",
       "  <method-wrapper '__delattr__' of method object at 0x7f98780deb08>),\n",
       " ('__dir__', <function method.__dir__>),\n",
       " ('__doc__', None),\n",
       " ('__eq__', <method-wrapper '__eq__' of method object at 0x7f98780deb08>),\n",
       " ('__format__', <function method.__format__>),\n",
       " ('__func__', <function __main__.Qwerty.CM>),\n",
       " ('__ge__', <method-wrapper '__ge__' of method object at 0x7f98780deb08>),\n",
       " ('__get__', <method-wrapper '__get__' of method object at 0x7f98780deb08>),\n",
       " ('__getattribute__',\n",
       "  <method-wrapper '__getattribute__' of method object at 0x7f98780deb08>),\n",
       " ('__gt__', <method-wrapper '__gt__' of method object at 0x7f98780deb08>),\n",
       " ('__hash__', <method-wrapper '__hash__' of method object at 0x7f98780deb08>),\n",
       " ('__init__', <method-wrapper '__init__' of method object at 0x7f98780deb08>),\n",
       " ('__le__', <method-wrapper '__le__' of method object at 0x7f98780deb08>),\n",
       " ('__lt__', <method-wrapper '__lt__' of method object at 0x7f98780deb08>),\n",
       " ('__ne__', <method-wrapper '__ne__' of method object at 0x7f98780deb08>),\n",
       " ('__new__', <function method.__new__>),\n",
       " ('__reduce__', <function method.__reduce__>),\n",
       " ('__reduce_ex__', <function method.__reduce_ex__>),\n",
       " ('__repr__', <method-wrapper '__repr__' of method object at 0x7f98780deb08>),\n",
       " ('__self__', __main__.Qwerty),\n",
       " ('__setattr__',\n",
       "  <method-wrapper '__setattr__' of method object at 0x7f98780deb08>),\n",
       " ('__sizeof__', <function method.__sizeof__>),\n",
       " ('__str__', <method-wrapper '__str__' of method object at 0x7f98780deb08>),\n",
       " ('__subclasshook__', <function method.__subclasshook__>)]"
      ]
     },
     "execution_count": 42,
     "metadata": {},
     "output_type": "execute_result"
    }
   ],
   "source": [
    "inspect.getmembers(m)"
   ]
  },
  {
   "cell_type": "code",
   "execution_count": 43,
   "metadata": {
    "collapsed": false
   },
   "outputs": [
    {
     "data": {
      "text/plain": [
       "__main__.Bar"
      ]
     },
     "execution_count": 43,
     "metadata": {},
     "output_type": "execute_result"
    }
   ],
   "source": [
    "Bar"
   ]
  },
  {
   "cell_type": "code",
   "execution_count": 47,
   "metadata": {
    "collapsed": false
   },
   "outputs": [
    {
     "ename": "AttributeError",
     "evalue": "readonly attribute",
     "output_type": "error",
     "traceback": [
      "\u001b[1;31m---------------------------------------------------------------------------\u001b[0m",
      "\u001b[1;31mAttributeError\u001b[0m                            Traceback (most recent call last)",
      "\u001b[1;32m<ipython-input-47-253e3a4e7a1d>\u001b[0m in \u001b[0;36m<module>\u001b[1;34m()\u001b[0m\n\u001b[1;32m----> 1\u001b[1;33m \u001b[0mm\u001b[0m\u001b[1;33m.\u001b[0m\u001b[0m__setattr__\u001b[0m\u001b[1;33m(\u001b[0m\u001b[1;34m'__self__'\u001b[0m\u001b[1;33m,\u001b[0m \u001b[0mBar\u001b[0m\u001b[1;33m)\u001b[0m\u001b[1;33m\u001b[0m\u001b[0m\n\u001b[0m",
      "\u001b[1;31mAttributeError\u001b[0m: readonly attribute"
     ]
    }
   ],
   "source": [
    "#m.__setattr__('__self__', Bar)"
   ]
  },
  {
   "cell_type": "code",
   "execution_count": 49,
   "metadata": {
    "collapsed": false
   },
   "outputs": [],
   "source": [
    "c,x = b.CM()"
   ]
  },
  {
   "cell_type": "code",
   "execution_count": 51,
   "metadata": {
    "collapsed": false
   },
   "outputs": [],
   "source": [
    "cc = c()"
   ]
  },
  {
   "cell_type": "code",
   "execution_count": 54,
   "metadata": {
    "collapsed": false
   },
   "outputs": [
    {
     "data": {
      "text/plain": [
       "[('CM', <bound method type.CM of <class '__main__.Qwerty'>>),\n",
       " ('__class__', __main__.Qwerty),\n",
       " ('__delattr__',\n",
       "  <method-wrapper '__delattr__' of Qwerty object at 0x7f986afce080>),\n",
       " ('__dict__', {}),\n",
       " ('__dir__', <function Qwerty.__dir__>),\n",
       " ('__doc__', None),\n",
       " ('__eq__', <method-wrapper '__eq__' of Qwerty object at 0x7f986afce080>),\n",
       " ('__format__', <function Qwerty.__format__>),\n",
       " ('__ge__', <method-wrapper '__ge__' of Qwerty object at 0x7f986afce080>),\n",
       " ('__getattribute__',\n",
       "  <method-wrapper '__getattribute__' of Qwerty object at 0x7f986afce080>),\n",
       " ('__gt__', <method-wrapper '__gt__' of Qwerty object at 0x7f986afce080>),\n",
       " ('__hash__', <method-wrapper '__hash__' of Qwerty object at 0x7f986afce080>),\n",
       " ('__init__', <method-wrapper '__init__' of Qwerty object at 0x7f986afce080>),\n",
       " ('__le__', <method-wrapper '__le__' of Qwerty object at 0x7f986afce080>),\n",
       " ('__lt__', <method-wrapper '__lt__' of Qwerty object at 0x7f986afce080>),\n",
       " ('__module__', '__main__'),\n",
       " ('__ne__', <method-wrapper '__ne__' of Qwerty object at 0x7f986afce080>),\n",
       " ('__new__', <function object.__new__>),\n",
       " ('__reduce__', <function Qwerty.__reduce__>),\n",
       " ('__reduce_ex__', <function Qwerty.__reduce_ex__>),\n",
       " ('__repr__', <method-wrapper '__repr__' of Qwerty object at 0x7f986afce080>),\n",
       " ('__setattr__',\n",
       "  <method-wrapper '__setattr__' of Qwerty object at 0x7f986afce080>),\n",
       " ('__sizeof__', <function Qwerty.__sizeof__>),\n",
       " ('__str__', <method-wrapper '__str__' of Qwerty object at 0x7f986afce080>),\n",
       " ('__subclasshook__', <function Qwerty.__subclasshook__>),\n",
       " ('__weakref__', None)]"
      ]
     },
     "execution_count": 54,
     "metadata": {},
     "output_type": "execute_result"
    }
   ],
   "source": [
    "inspect.getmembers(cc)"
   ]
  },
  {
   "cell_type": "code",
   "execution_count": 56,
   "metadata": {
    "collapsed": false
   },
   "outputs": [],
   "source": [
    "cc = Qwerty()"
   ]
  },
  {
   "cell_type": "code",
   "execution_count": 57,
   "metadata": {
    "collapsed": false
   },
   "outputs": [
    {
     "data": {
      "text/plain": [
       "4"
      ]
     },
     "execution_count": 57,
     "metadata": {},
     "output_type": "execute_result"
    }
   ],
   "source": [
    "cc.Z"
   ]
  },
  {
   "cell_type": "code",
   "execution_count": 58,
   "metadata": {
    "collapsed": false
   },
   "outputs": [
    {
     "data": {
      "text/plain": [
       "__main__.Bar"
      ]
     },
     "execution_count": 58,
     "metadata": {},
     "output_type": "execute_result"
    }
   ],
   "source": [
    "Qwerty"
   ]
  },
  {
   "cell_type": "code",
   "execution_count": null,
   "metadata": {
    "collapsed": true
   },
   "outputs": [],
   "source": []
  }
 ],
 "metadata": {
  "kernelspec": {
   "display_name": "Python 3",
   "language": "python",
   "name": "python3"
  },
  "language_info": {
   "codemirror_mode": {
    "name": "ipython",
    "version": 3
   },
   "file_extension": ".py",
   "mimetype": "text/x-python",
   "name": "python",
   "nbconvert_exporter": "python",
   "pygments_lexer": "ipython3",
   "version": "3.4.3"
  }
 },
 "nbformat": 4,
 "nbformat_minor": 0
}
