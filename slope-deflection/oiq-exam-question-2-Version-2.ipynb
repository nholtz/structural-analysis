{
 "cells": [
  {
   "cell_type": "markdown",
   "metadata": {},
   "source": [
    "## OIQ Exam Question 2\n",
    "\n",
    "Question from OIQ Technical Exam, obviously meant to be solved using moment distribution, but\n",
    "here we see how easy it is using slope deflection instead.  This version users a newer version of 'sdutil'\n",
    "that computes end-shears as well as moments."
   ]
  },
  {
   "cell_type": "code",
   "execution_count": 1,
   "metadata": {
    "collapsed": false
   },
   "outputs": [
    {
     "data": {
      "image/svg+xml": [
       "<svg height=\"262.47266\" id=\"svg2\" inkscape:version=\"0.48.3.1 r9886\" sodipodi:docname=\"oiq-frame-1.svg\" version=\"1.1\" width=\"347.29523\" xmlns=\"http://www.w3.org/2000/svg\" xmlns:cc=\"http://creativecommons.org/ns#\" xmlns:dc=\"http://purl.org/dc/elements/1.1/\" xmlns:inkscape=\"http://www.inkscape.org/namespaces/inkscape\" xmlns:rdf=\"http://www.w3.org/1999/02/22-rdf-syntax-ns#\" xmlns:sodipodi=\"http://sodipodi.sourceforge.net/DTD/sodipodi-0.dtd\" xmlns:svg=\"http://www.w3.org/2000/svg\" xmlns:xlink=\"http://www.w3.org/1999/xlink\">\n",
       "  <script id=\"script3033\" xlink:href=\"\"/>\n",
       "  <defs id=\"defs4\">\n",
       "    <!-- markers by NMH <nholtz@cee.carleton.ca> -->\n",
       "    <marker id=\"DimensionTick\" inkscape:stockid=\"DimensionTick\" orient=\"auto\" refX=\"0\" refY=\"0\" style=\"overflow:visible\">\n",
       "      <path d=\"M 0,0 8,8\" id=\"path6\" inkscape:connector-curvature=\"0\" style=\"stroke:#4d4d4d;stroke-width:1px;marker-start:none\" transform=\"translate(-4,-4)\"/>\n",
       "    </marker>\n",
       "    <marker id=\"TrussNodeS\" inkscape:stockid=\"TrussNodeS\" markerUnits=\"userSpaceOnUse\" orient=\"auto\" refX=\"0\" refY=\"0\" style=\"overflow:visible\">\n",
       "      <circle cx=\"0\" cy=\"0\" id=\"circle9\" r=\"3\" sodipodi:cx=\"0\" sodipodi:cy=\"0\" sodipodi:rx=\"3\" sodipodi:ry=\"3\" style=\"fill:#ffffff;stroke:#000000;stroke-width:1\"/>\n",
       "    </marker>\n",
       "    <marker id=\"TrussNodeM\" inkscape:stockid=\"TrussNodeM\" markerUnits=\"userSpaceOnUse\" orient=\"auto\" refX=\"0\" refY=\"0\" style=\"overflow:visible\">\n",
       "      <circle cx=\"0\" cy=\"0\" id=\"circle12\" r=\"4\" sodipodi:cx=\"0\" sodipodi:cy=\"0\" sodipodi:rx=\"4\" sodipodi:ry=\"4\" style=\"fill:#ffffff;stroke:#000000;stroke-width:1\"/>\n",
       "    </marker>\n",
       "    <!-- patternss by NMH <nholtz@cee.carleton.ca> -->\n",
       "    <pattern height=\"18\" id=\"black-stripes-on-red\" patternUnits=\"userSpaceOnUse\" width=\"18\" x=\"0\" y=\"0\">\n",
       "      <path d=\"M 0,0 18,0 18,18 0,18 z\" id=\"path3006\" inkscape:connector-curvature=\"0\" style=\"fill:#ff0000;stroke:none\"/>\n",
       "      <path d=\"M 0,9 9,0 11,0 0,11 z\" id=\"path3008\" inkscape:connector-curvature=\"0\" style=\"fill:#000000;stroke:none\"/>\n",
       "      <path d=\"m 9,18 9,-9 0,2 -7,7 z\" id=\"path5234\" inkscape:connector-curvature=\"0\" style=\"fill:#000000;stroke:none\"/>\n",
       "    </pattern>\n",
       "    <pattern id=\"pattern3310\" inkscape:collect=\"always\" patternTransform=\"matrix(0.49719528,8.1203474e-4,-0.0010381,0.63561085,225.90763,180.74022)\" xlink:href=\"#pattern2251\"/>\n",
       "    <pattern id=\"pattern2251\" inkscape:collect=\"always\" patternTransform=\"matrix(0.99796804,0,0,1.3640134,225.90763,135.74022)\" xlink:href=\"#pattern4949\"/>\n",
       "    <pattern id=\"pattern4949\" inkscape:collect=\"always\" patternTransform=\"matrix(0.99796804,0,0,1.3640134,316.09135,828.80233)\" xlink:href=\"#pattern4380\"/>\n",
       "    <pattern height=\"83.375\" id=\"pattern4380\" patternTransform=\"translate(216,485.362)\" patternUnits=\"userSpaceOnUse\" width=\"36\">\n",
       "      <g id=\"g4376\" transform=\"translate(-216,-485.362)\">\n",
       "        <polygon class=\"dload\" id=\"polygon3581-2\" points=\"360,0 0,0 0,-12 360,-12 \" style=\"fill:#f0f0f0;stroke:none;visibility:visible\" transform=\"matrix(0.1,0,0,6.75,216,566.362)\"/>\n",
       "        <path class=\"cload\" d=\"m 234,485.362 0,78.625\" id=\"path3627-7\" inkscape:connector-curvature=\"0\" style=\"fill:none;stroke:#000000;stroke-width:1.58746088;marker-end:url(#CLArrowEnd-8);visibility:visible\"/>\n",
       "      </g>\n",
       "    </pattern>\n",
       "    <marker id=\"CLArrowEnd-8\" markerHeight=\"6\" markerUnits=\"userSpaceOnUse\" markerWidth=\"10\" orient=\"auto\" refX=\"7\" refY=\"3\" viewBox=\"0 0 10 6\">\n",
       "      <path d=\"M 0,0 10,3 0,6 2,3 z\" id=\"path3451-4\" inkscape:connector-curvature=\"0\"/>\n",
       "    </marker>\n",
       "    <marker id=\"CLArrowEnd\" markerHeight=\"6\" markerUnits=\"userSpaceOnUse\" markerWidth=\"10\" orient=\"auto\" refX=\"7\" refY=\"3\" viewBox=\"0 0 10 6\">\n",
       "      <path d=\"M 0,0 10,3 0,6 2,3 z\" id=\"path3451\" inkscape:connector-curvature=\"0\"/>\n",
       "    </marker>\n",
       "  </defs>\n",
       "  <sodipodi:namedview bordercolor=\"#666666\" borderopacity=\"1.0\" fit-margin-bottom=\"0.2\" fit-margin-left=\"0.2\" fit-margin-right=\"0.2\" fit-margin-top=\"0.2\" id=\"base\" inkscape:current-layer=\"layer1\" inkscape:cx=\"171.39542\" inkscape:cy=\"91.48312\" inkscape:document-units=\"in\" inkscape:object-paths=\"false\" inkscape:pageopacity=\"0.0\" inkscape:pageshadow=\"2\" inkscape:window-height=\"979\" inkscape:window-maximized=\"0\" inkscape:window-width=\"1179\" inkscape:window-x=\"597\" inkscape:window-y=\"26\" inkscape:zoom=\"2\" pagecolor=\"#ffffff\" showgrid=\"true\" showguides=\"true\" units=\"in\">\n",
       "    <inkscape:grid empspacing=\"5\" enabled=\"true\" id=\"grid2985\" originx=\"-2.2453308in\" originy=\"-6.5958333in\" snapvisiblegridlinesonly=\"true\" spacingx=\"0.1in\" spacingy=\"0.1in\" type=\"xygrid\" units=\"in\" visible=\"true\"/>\n",
       "    <sodipodi:guide id=\"guide3042\" orientation=\"0,765\" position=\"-202.07977,-593.625\"/>\n",
       "    <sodipodi:guide id=\"guide3044\" orientation=\"-990,0\" position=\"562.92023,-593.625\"/>\n",
       "    <sodipodi:guide id=\"guide3046\" orientation=\"0,-765\" position=\"562.92023,396.375\"/>\n",
       "    <sodipodi:guide id=\"guide3048\" orientation=\"990,0\" position=\"-202.07977,396.375\"/>\n",
       "    <sodipodi:guide id=\"guide3050\" orientation=\"0,765\" position=\"517.92023,-548.625\"/>\n",
       "    <sodipodi:guide id=\"guide3052\" orientation=\"-990,0\" position=\"517.92023,306.375\"/>\n",
       "    <sodipodi:guide id=\"guide3054\" orientation=\"0,-765\" position=\"-166.07977,351.375\"/>\n",
       "    <sodipodi:guide id=\"guide3056\" orientation=\"990,0\" position=\"-157.07977,279.375\"/>\n",
       "  </sodipodi:namedview>\n",
       "  <metadata id=\"metadata7\">\n",
       "    <rdf:RDF>\n",
       "      <cc:Work rdf:about=\"\">\n",
       "        <dc:format>image/svg+xml</dc:format>\n",
       "        <dc:type rdf:resource=\"http://purl.org/dc/dcmitype/StillImage\"/>\n",
       "        <dc:title/>\n",
       "        <cc:license rdf:resource=\"http://creativecommons.org/licenses/by-nc/3.0/\"/>\n",
       "      </cc:Work>\n",
       "      <cc:License rdf:about=\"http://creativecommons.org/licenses/by-nc/3.0/\">\n",
       "        <cc:permits rdf:resource=\"http://creativecommons.org/ns#Reproduction\"/>\n",
       "        <cc:permits rdf:resource=\"http://creativecommons.org/ns#Distribution\"/>\n",
       "        <cc:requires rdf:resource=\"http://creativecommons.org/ns#Notice\"/>\n",
       "        <cc:requires rdf:resource=\"http://creativecommons.org/ns#Attribution\"/>\n",
       "        <cc:prohibits rdf:resource=\"http://creativecommons.org/ns#CommercialUse\"/>\n",
       "        <cc:permits rdf:resource=\"http://creativecommons.org/ns#DerivativeWorks\"/>\n",
       "      </cc:License>\n",
       "    </rdf:RDF>\n",
       "  </metadata>\n",
       "  <g id=\"layer1\" inkscape:groupmode=\"layer\" inkscape:label=\"Layer 1\" transform=\"translate(-202.07977,-133.90234)\">\n",
       "    <rect height=\"18\" id=\"rect3421\" style=\"fill:url(#pattern3310);fill-opacity:1;stroke:#000000;stroke-width:0.90483356\" width=\"135\" x=\"225\" y=\"162\"/>\n",
       "    <path d=\"m 225,180 135,0 0,135 135,0\" id=\"path3229\" inkscape:connector-curvature=\"0\" style=\"fill:#000000;fill-opacity:0;fill-rule:nonzero;stroke:#000000;stroke-width:2;stroke-linecap:butt;stroke-linejoin:miter;stroke-miterlimit:4;stroke-opacity:1;stroke-dasharray:none;stroke-dashoffset:0\"/>\n",
       "    <g id=\"use3511\" transform=\"matrix(1.25,0,0,1.25,224.45477,178.79137)\">\n",
       "      <title id=\"title3743\">Fixed Support</title>\n",
       "      <path d=\"M 0,-6 0,6\" id=\"path3409\" inkscape:connector-curvature=\"0\" style=\"fill:none;stroke:#000000;stroke-width:1\"/>\n",
       "      <path d=\"m 0,-6 -3,3 m 3,0 -3,3 m 3,0 -3,3 m 3,0 -3,3 m 3,0 -3,3\" id=\"path3411\" inkscape:connector-curvature=\"0\" style=\"fill:none;stroke:#000000;stroke-width:1\"/>\n",
       "    </g>\n",
       "    <g id=\"g10775\" transform=\"translate(239.05956,-39.999869)\">\n",
       "      <title id=\"title3737\">Pin Support</title>\n",
       "      <g id=\"use90\" transform=\"matrix(1.25,0,0,1.25,255.65647,356.59727)\">\n",
       "        <path d=\"m 0.19825424,-1.057356 4.99127116,6.9251865 -10.5112203,0 z\" id=\"path5224\" inkscape:connector-curvature=\"0\" sodipodi:nodetypes=\"cccc\" style=\"fill:#000000;stroke:#000000;stroke-width:0\"/>\n",
       "        <path d=\"M -6,6 6,6\" id=\"path5226\" inkscape:connector-curvature=\"0\" style=\"fill:none;stroke:#000000;stroke-width:1\"/>\n",
       "        <path d=\"M 6,6 3,9 M 3,6 0,9 M 0,6 -3,9 m 0,-3 -3,3 m 0,-3 -3,3\" id=\"path5228\" inkscape:connector-curvature=\"0\" style=\"fill:none;stroke:#000000;stroke-width:1\"/>\n",
       "      </g>\n",
       "    </g>\n",
       "    <g id=\"g3395\" transform=\"translate(227.59813,-22.21247)\">\n",
       "      <title id=\"title3739\">Roller Support</title>\n",
       "      <path d=\"m 132.30977,337.64131 5,7.5 -10,0 z\" id=\"path5224-5\" inkscape:connector-curvature=\"0\" style=\"fill:#000000;stroke:#000000;stroke-width:0\"/>\n",
       "      <path d=\"m 124.80977,352.22885 15,0\" id=\"path5226-4\" inkscape:connector-curvature=\"0\" style=\"fill:none;stroke:#000000;stroke-width:1.25;stroke-linecap:square\"/>\n",
       "      <path d=\"m 139.80977,352.22885 -3.75,3.75 m 0,-3.75 -3.75,3.75 m 0,-3.75 -3.75,3.75 m 0,-3.75 -3.75,3.75 m 0,-3.75 -3.75,3.75\" id=\"path5228-7\" inkscape:connector-curvature=\"0\" style=\"fill:none;stroke:#000000;stroke-width:1.25\"/>\n",
       "      <path d=\"m 123.97004,345.62043 16.4794,0\" id=\"path3342\" inkscape:connector-curvature=\"0\" style=\"fill:none;stroke:#000000;stroke-width:1px;stroke-linecap:butt;stroke-linejoin:miter;stroke-opacity:1\"/>\n",
       "      <g id=\"use3513-4\" transform=\"matrix(0.93789014,0,0,0.93789014,136.50605,348.88774)\">\n",
       "        <circle cx=\"0\" cy=\"0\" d=\"M 2.5,0 C 2.5,1.3807119 1.3807119,2.5 0,2.5 -1.3807119,2.5 -2.5,1.3807119 -2.5,0 c 0,-1.3807119 1.1192881,-2.5 2.5,-2.5 1.3807119,0 2.5,1.1192881 2.5,2.5 z\" id=\"circle3573-4\" r=\"2.5\" sodipodi:cx=\"0\" sodipodi:cy=\"0\" sodipodi:rx=\"2.5\" sodipodi:ry=\"2.5\" style=\"fill:#ffffff;stroke:#000000;stroke-width:1\"/>\n",
       "      </g>\n",
       "      <g id=\"use3513-4-7\" transform=\"matrix(0.93789014,0,0,0.93789014,128.23072,348.94766)\">\n",
       "        <circle cx=\"0\" cy=\"0\" d=\"M 2.5,0 C 2.5,1.3807119 1.3807119,2.5 0,2.5 -1.3807119,2.5 -2.5,1.3807119 -2.5,0 c 0,-1.3807119 1.1192881,-2.5 2.5,-2.5 1.3807119,0 2.5,1.1192881 2.5,2.5 z\" id=\"circle3573-4-8\" r=\"2.5\" sodipodi:cx=\"0\" sodipodi:cy=\"0\" sodipodi:rx=\"2.5\" sodipodi:ry=\"2.5\" style=\"fill:#ffffff;stroke:#000000;stroke-width:1\"/>\n",
       "      </g>\n",
       "    </g>\n",
       "    <path class=\"cload\" d=\"m 427.84346,282.65654 0,28.75\" id=\"path3507\" inkscape:connector-curvature=\"0\" style=\"fill:none;stroke:#000000;stroke-width:1.25;marker-end:url(#CLArrowEnd)\"/>\n",
       "    <path d=\"m 225,198 0,180\" id=\"path3745\" inkscape:connector-curvature=\"0\" style=\"fill:#000000;fill-opacity:0;fill-rule:nonzero;stroke:#4d4d4d;stroke-width:0.75;stroke-linecap:butt;stroke-linejoin:miter;stroke-miterlimit:4;stroke-opacity:1;stroke-dasharray:none;stroke-dashoffset:0\"/>\n",
       "    <path d=\"m 360,342 0,36\" id=\"path3747\" inkscape:connector-curvature=\"0\" style=\"fill:#000000;fill-opacity:0;fill-rule:nonzero;stroke:#4d4d4d;stroke-width:0.75;stroke-linecap:butt;stroke-linejoin:miter;stroke-miterlimit:4;stroke-opacity:1;stroke-dasharray:none;stroke-dashoffset:0\"/>\n",
       "    <path d=\"m 428,324 0,54\" id=\"path3749\" inkscape:connector-curvature=\"0\" style=\"fill:#000000;fill-opacity:0;fill-rule:nonzero;stroke:#4d4d4d;stroke-width:0.75;stroke-linecap:butt;stroke-linejoin:miter;stroke-miterlimit:4;stroke-opacity:1;stroke-dasharray:none;stroke-dashoffset:0\"/>\n",
       "    <path d=\"m 495,333 0,45\" id=\"path3751\" inkscape:connector-curvature=\"0\" style=\"fill:#000000;fill-opacity:0;fill-rule:nonzero;stroke:#4d4d4d;stroke-width:0.75;stroke-linecap:butt;stroke-linejoin:miter;stroke-miterlimit:4;stroke-opacity:1;stroke-dasharray:none;stroke-dashoffset:0\"/>\n",
       "    <path d=\"m 225,369 135,0 68,0 67,0\" id=\"path3753\" inkscape:connector-curvature=\"0\" sodipodi:nodetypes=\"cccc\" style=\"fill:#000000;fill-opacity:0;fill-rule:nonzero;stroke:#4d4d4d;stroke-width:0.72000003;stroke-linecap:butt;stroke-linejoin:miter;stroke-miterlimit:4;stroke-opacity:1;stroke-dasharray:none;stroke-dashoffset:0;marker-start:url(#DimensionTick);marker-mid:url(#DimensionTick);marker-end:url(#DimensionTick)\"/>\n",
       "    <path d=\"m 504,315 27,0\" id=\"path3755\" inkscape:connector-curvature=\"0\" style=\"fill:#000000;fill-opacity:0;fill-rule:nonzero;stroke:#4d4d4d;stroke-width:0.75;stroke-linecap:butt;stroke-linejoin:miter;stroke-miterlimit:4;stroke-opacity:1;stroke-dasharray:none;stroke-dashoffset:0\"/>\n",
       "    <path d=\"m 369,180 162,0\" id=\"path3757\" inkscape:connector-curvature=\"0\" style=\"fill:#000000;fill-opacity:0;fill-rule:nonzero;stroke:#4d4d4d;stroke-width:0.75;stroke-linecap:butt;stroke-linejoin:miter;stroke-miterlimit:4;stroke-opacity:1;stroke-dasharray:none;stroke-dashoffset:0\"/>\n",
       "    <path d=\"m 522,180 0,135\" id=\"path3759\" inkscape:connector-curvature=\"0\" style=\"fill:#000000;fill-opacity:0;fill-rule:nonzero;stroke:#4d4d4d;stroke-width:0.72000003;stroke-linecap:butt;stroke-linejoin:miter;stroke-miterlimit:4;stroke-opacity:1;stroke-dasharray:none;stroke-dashoffset:0;marker-start:url(#DimensionTick);marker-mid:url(#DimensionTick);marker-end:url(#DimensionTick)\"/>\n",
       "    <text id=\"text5129\" sodipodi:linespacing=\"125%\" style=\"font-size:10px;font-style:normal;font-variant:normal;font-weight:normal;font-stretch:normal;text-align:start;line-height:125%;letter-spacing:0px;word-spacing:0px;writing-mode:lr-tb;text-anchor:start;fill:#000000;fill-opacity:1;stroke:none;font-family:Verdana;-inkscape-font-specification:Sans\" x=\"285.5\" xml:space=\"preserve\" y=\"365.5\"><tspan id=\"tspan5131\" sodipodi:role=\"line\" x=\"285.5\" y=\"365.5\">4m</tspan></text>\n",
       "    <text id=\"text5133\" sodipodi:linespacing=\"125%\" style=\"font-size:10px;font-style:normal;font-variant:normal;font-weight:normal;font-stretch:normal;text-align:start;line-height:125%;letter-spacing:0px;word-spacing:0px;writing-mode:lr-tb;text-anchor:start;fill:#000000;fill-opacity:1;stroke:none;font-family:Verdana;-inkscape-font-specification:Sans\" x=\"388.5\" xml:space=\"preserve\" y=\"365.5\"><tspan id=\"tspan5135\" sodipodi:role=\"line\" x=\"388.5\" y=\"365.5\">2m</tspan></text>\n",
       "    <text id=\"text5137\" sodipodi:linespacing=\"125%\" style=\"font-size:10px;font-style:normal;font-variant:normal;font-weight:normal;font-stretch:normal;text-align:start;line-height:125%;letter-spacing:0px;word-spacing:0px;writing-mode:lr-tb;text-anchor:start;fill:#000000;fill-opacity:1;stroke:none;font-family:Verdana;-inkscape-font-specification:Sans\" x=\"458\" xml:space=\"preserve\" y=\"366\"><tspan id=\"tspan5139\" sodipodi:role=\"line\" x=\"458\" y=\"366\">2m</tspan></text>\n",
       "    <text id=\"text5141\" sodipodi:linespacing=\"125%\" style=\"font-size:10px;font-style:normal;font-variant:normal;font-weight:normal;font-stretch:normal;text-align:start;line-height:125%;letter-spacing:0px;word-spacing:0px;writing-mode:lr-tb;text-anchor:start;fill:#000000;fill-opacity:1;stroke:none;font-family:Verdana;-inkscape-font-specification:Sans\" transform=\"matrix(0,-1,1,0,0,0)\" x=\"-253.16748\" xml:space=\"preserve\" y=\"518.43799\"><tspan id=\"tspan5143\" sodipodi:role=\"line\" x=\"-253.16748\" y=\"518.43799\">4m</tspan></text>\n",
       "    <text id=\"text5145\" sodipodi:linespacing=\"125%\" style=\"font-size:10px;font-style:normal;font-variant:normal;font-weight:normal;font-stretch:normal;text-align:start;line-height:125%;letter-spacing:0px;word-spacing:0px;writing-mode:lr-tb;text-anchor:start;fill:#000000;fill-opacity:1;stroke:none;font-family:Verdana;-inkscape-font-specification:Sans\" x=\"278\" xml:space=\"preserve\" y=\"190.5\"><tspan id=\"tspan5147\" sodipodi:role=\"line\" x=\"278\" y=\"190.5\">EI=4</tspan></text>\n",
       "    <text id=\"text5149\" sodipodi:linespacing=\"125%\" style=\"font-size:10px;font-style:normal;font-variant:normal;font-weight:normal;font-stretch:normal;text-align:start;line-height:125%;letter-spacing:0px;word-spacing:0px;writing-mode:lr-tb;text-anchor:start;fill:#000000;fill-opacity:1;stroke:none;font-family:Verdana;-inkscape-font-specification:Sans\" transform=\"matrix(0,-1,1,0,0,0)\" x=\"-260.49658\" xml:space=\"preserve\" y=\"353.91846\"><tspan id=\"tspan5151\" sodipodi:role=\"line\" x=\"-260.49658\" y=\"353.91846\">EI=2</tspan></text>\n",
       "    <text id=\"text5153\" sodipodi:linespacing=\"125%\" style=\"font-size:10px;font-style:normal;font-variant:normal;font-weight:normal;font-stretch:normal;text-align:start;line-height:125%;letter-spacing:0px;word-spacing:0px;writing-mode:lr-tb;text-anchor:start;fill:#000000;fill-opacity:1;stroke:none;font-family:Verdana;-inkscape-font-specification:Sans\" x=\"450.5\" xml:space=\"preserve\" y=\"325.5\"><tspan id=\"tspan5155\" sodipodi:role=\"line\" x=\"450.5\" y=\"325.5\">EI=4</tspan></text>\n",
       "    <text id=\"text5157\" sodipodi:linespacing=\"125%\" style=\"font-size:10px;font-style:normal;font-variant:normal;font-weight:normal;font-stretch:normal;text-align:start;line-height:125%;letter-spacing:0px;word-spacing:0px;writing-mode:lr-tb;text-anchor:start;fill:#000000;fill-opacity:1;stroke:none;font-family:Verdana;-inkscape-font-specification:Sans\" x=\"274\" xml:space=\"preserve\" y=\"159.5\"><tspan id=\"tspan5159\" sodipodi:role=\"line\" x=\"274\" y=\"159.5\">24kN/m</tspan></text>\n",
       "    <text id=\"text5161\" sodipodi:linespacing=\"125%\" style=\"font-size:10px;font-style:normal;font-variant:normal;font-weight:normal;font-stretch:normal;text-align:start;line-height:125%;letter-spacing:0px;word-spacing:0px;writing-mode:lr-tb;text-anchor:start;fill:#000000;fill-opacity:1;stroke:none;font-family:Verdana;-inkscape-font-specification:Sans\" x=\"432\" xml:space=\"preserve\" y=\"288\"><tspan id=\"tspan5163\" sodipodi:role=\"line\" x=\"432\" y=\"288\">72kN</tspan></text>\n",
       "    <text id=\"text5882\" sodipodi:linespacing=\"125%\" style=\"font-size:10px;font-style:italic;font-variant:normal;font-weight:normal;font-stretch:normal;text-align:start;line-height:125%;letter-spacing:0px;word-spacing:0px;writing-mode:lr-tb;text-anchor:start;fill:#000000;fill-opacity:1;stroke:none;font-family:Verdana;-inkscape-font-specification:Verdana Italic\" x=\"228\" xml:space=\"preserve\" y=\"188\"><tspan id=\"tspan5884\" sodipodi:role=\"line\" x=\"228\" y=\"188\">a</tspan></text>\n",
       "    <text id=\"text5886\" sodipodi:linespacing=\"125%\" style=\"font-size:10px;font-style:italic;font-variant:normal;font-weight:normal;font-stretch:normal;text-align:start;line-height:125%;letter-spacing:0px;word-spacing:0px;writing-mode:lr-tb;text-anchor:start;fill:#000000;fill-opacity:1;stroke:none;font-family:Verdana;-inkscape-font-specification:Verdana Italic\" x=\"350\" xml:space=\"preserve\" y=\"190\"><tspan id=\"tspan5888\" sodipodi:role=\"line\" x=\"350\" y=\"190\">b</tspan></text>\n",
       "    <text id=\"text5890\" sodipodi:linespacing=\"125%\" style=\"font-size:10px;font-style:italic;font-variant:normal;font-weight:normal;font-stretch:normal;text-align:start;line-height:125%;letter-spacing:0px;word-spacing:0px;writing-mode:lr-tb;text-anchor:start;fill:#000000;fill-opacity:1;stroke:none;font-family:Verdana;-inkscape-font-specification:Verdana Italic\" x=\"363.5\" xml:space=\"preserve\" y=\"311.5\"><tspan id=\"tspan5892\" sodipodi:role=\"line\" x=\"363.5\" y=\"311.5\">c</tspan></text>\n",
       "    <text id=\"text5894\" sodipodi:linespacing=\"125%\" style=\"font-size:10px;font-style:italic;font-variant:normal;font-weight:normal;font-stretch:normal;text-align:start;line-height:125%;letter-spacing:0px;word-spacing:0px;writing-mode:lr-tb;text-anchor:start;fill:#000000;fill-opacity:1;stroke:none;font-family:Verdana;-inkscape-font-specification:Verdana Italic\" x=\"496.5\" xml:space=\"preserve\" y=\"313\"><tspan id=\"tspan5896\" sodipodi:role=\"line\" x=\"496.5\" y=\"313\">d</tspan></text>\n",
       "  </g>\n",
       "</svg>"
      ],
      "text/plain": [
       "<IPython.core.display.SVG object>"
      ]
     },
     "execution_count": 1,
     "metadata": {},
     "output_type": "execute_result"
    }
   ],
   "source": [
    "from IPython import display\n",
    "display.SVG('oiq-frame-1.svg')"
   ]
  },
  {
   "cell_type": "markdown",
   "metadata": {},
   "source": [
    "### Solution 1\n",
    "Actually, solution 1 does not use any special library modules at all (except for 'sympy')."
   ]
  },
  {
   "cell_type": "code",
   "execution_count": 2,
   "metadata": {
    "collapsed": true
   },
   "outputs": [],
   "source": [
    "from sympy import *"
   ]
  },
  {
   "cell_type": "code",
   "execution_count": 3,
   "metadata": {
    "collapsed": false
   },
   "outputs": [],
   "source": [
    "var('EI ta tb tc td')\n",
    "Mab = (EI/4)*(4*ta + 2*tb) - 24*4**2/12\n",
    "Mba = (EI/4)*(2*ta + 4*tb) + 24*4**2/12\n",
    "Mbc = (EI/2/4)*(4*tb + 2*tc)\n",
    "Mcb = (EI/2/4)*(2*tb + 4*tc)\n",
    "Mcd = (EI/4)*(4*tc + 2*td) - 72*4/8\n",
    "Mdc = (EI/4)*(2*tc + 4*td) + 72*4/8"
   ]
  },
  {
   "cell_type": "code",
   "execution_count": 4,
   "metadata": {
    "collapsed": false
   },
   "outputs": [
    {
     "data": {
      "text/plain": [
       "{td: -60.551724137931/EI,\n",
       " ta: 0.0,\n",
       " tb: -29.5172413793103/EI,\n",
       " tc: 49.1034482758621/EI}"
      ]
     },
     "execution_count": 4,
     "metadata": {},
     "output_type": "execute_result"
    }
   ],
   "source": [
    "eqns = [ta, Mba+Mbc, Mcb+Mcd, Mdc]\n",
    "soln = solve( eqns, [ta, tb, tc, td] )\n",
    "soln"
   ]
  },
  {
   "cell_type": "code",
   "execution_count": 5,
   "metadata": {
    "collapsed": false
   },
   "outputs": [
    {
     "data": {
      "text/plain": [
       "[-46.76, 2.483, -2.483, 17.17, -17.17, 0]"
      ]
     },
     "execution_count": 5,
     "metadata": {},
     "output_type": "execute_result"
    }
   ],
   "source": [
    "[m.subs(soln).n(4) for m in [Mab,Mba,Mbc,Mcb,Mcd,Mdc]]"
   ]
  },
  {
   "cell_type": "code",
   "execution_count": 6,
   "metadata": {
    "collapsed": false
   },
   "outputs": [
    {
     "data": {
      "text/plain": [
       "[59.07, 77.22, 31.71, 3.672]"
      ]
     },
     "execution_count": 6,
     "metadata": {},
     "output_type": "execute_result"
    }
   ],
   "source": [
    "Rd = (Mcd + 72*2)/4\n",
    "Ra = (-(Mab + Mba) + 24*4*2)/4\n",
    "Rc = 24*4 + 72 - Ra - Rd\n",
    "Hd = (Mbc + 72*2 - Rd*4)/4\n",
    "[r.subs(soln).n(4) for r in [Ra,Rc,Rd,Hd]]"
   ]
  },
  {
   "cell_type": "markdown",
   "metadata": {},
   "source": [
    "### Solution 2\n",
    "Here it is again, using the SD utilities:"
   ]
  },
  {
   "cell_type": "code",
   "execution_count": 7,
   "metadata": {
    "collapsed": true
   },
   "outputs": [],
   "source": [
    "from sympy import *\n",
    "init_printing(use_latex='mathjax')\n",
    "from sdutil2 import SD,FEF"
   ]
  },
  {
   "cell_type": "code",
   "execution_count": 8,
   "metadata": {
    "collapsed": false
   },
   "outputs": [],
   "source": [
    "var('EI theta_a theta_b theta_c theta_d')\n",
    "M_ab, M_ba, V_ab, V_ba = SD(4,EI,theta_a,theta_b) + FEF.udl(4,24)\n",
    "M_bc, M_cb, V_bc, V_cb = SD(4,EI/2,theta_b,theta_c)\n",
    "M_cd, M_dc, V_cd, V_dc = SD(4,EI,theta_c,theta_d) + FEF.p(4,72,2)"
   ]
  },
  {
   "cell_type": "code",
   "execution_count": 9,
   "metadata": {
    "collapsed": false
   },
   "outputs": [
    {
     "data": {
      "text/latex": [
       "$$\\left \\{ \\theta_{a} : 0.0, \\quad \\theta_{b} : - \\frac{29.5172413793103}{EI}, \\quad \\theta_{c} : \\frac{49.1034482758621}{EI}, \\quad \\theta_{d} : - \\frac{60.551724137931}{EI}\\right \\}$$"
      ],
      "text/plain": [
       "⎧              -29.5172413793103        49.1034482758621       -60.55172413793\n",
       "⎨θₐ: 0.0, θ_b: ──────────────────, θ_c: ────────────────, θ_d: ───────────────\n",
       "⎩                      EI                      EI                      EI     \n",
       "\n",
       "1 ⎫\n",
       "──⎬\n",
       "  ⎭"
      ]
     },
     "execution_count": 9,
     "metadata": {},
     "output_type": "execute_result"
    }
   ],
   "source": [
    "eqns = [theta_a, M_ba+M_bc, M_cb+M_cd, M_dc]\n",
    "soln = solve( eqns, [theta_a, theta_b, theta_c, theta_d] )\n",
    "soln"
   ]
  },
  {
   "cell_type": "markdown",
   "metadata": {},
   "source": [
    "End moments and shears:"
   ]
  },
  {
   "cell_type": "code",
   "execution_count": 10,
   "metadata": {
    "collapsed": false
   },
   "outputs": [
    {
     "data": {
      "text/latex": [
       "$$\\left [ -46.76, \\quad 2.483, \\quad -2.483, \\quad 17.17, \\quad -17.17, \\quad 0\\right ]$$"
      ],
      "text/plain": [
       "[-46.76, 2.483, -2.483, 17.17, -17.17, 0]"
      ]
     },
     "execution_count": 10,
     "metadata": {},
     "output_type": "execute_result"
    }
   ],
   "source": [
    "[m.subs(soln).n(4) for m in [M_ab,M_ba,M_bc,M_cb,M_cd,M_dc]]"
   ]
  },
  {
   "cell_type": "code",
   "execution_count": 11,
   "metadata": {
    "collapsed": false
   },
   "outputs": [
    {
     "data": {
      "text/latex": [
       "$$\\left [ 59.07, \\quad -36.93, \\quad -3.672, \\quad -3.672, \\quad 40.29, \\quad -31.71\\right ]$$"
      ],
      "text/plain": [
       "[59.07, -36.93, -3.672, -3.672, 40.29, -31.71]"
      ]
     },
     "execution_count": 11,
     "metadata": {},
     "output_type": "execute_result"
    }
   ],
   "source": [
    "[m.subs(soln).n(4) for m in [V_ab,V_ba,V_bc,V_cb,V_cd,V_dc]]"
   ]
  },
  {
   "cell_type": "markdown",
   "metadata": {},
   "source": [
    "Reactions:"
   ]
  },
  {
   "cell_type": "code",
   "execution_count": 12,
   "metadata": {
    "collapsed": false
   },
   "outputs": [
    {
     "data": {
      "text/latex": [
       "$$\\left [ 59.07, \\quad 77.22, \\quad 31.71, \\quad 3.672, \\quad -3.672, \\quad -46.76\\right ]$$"
      ],
      "text/plain": [
       "[59.07, 77.22, 31.71, 3.672, -3.672, -46.76]"
      ]
     },
     "execution_count": 12,
     "metadata": {},
     "output_type": "execute_result"
    }
   ],
   "source": [
    "R_d = -V_dc\n",
    "R_c = V_cd - V_ba\n",
    "R_a = V_ab\n",
    "H_d = -V_cb\n",
    "H_a = V_cb\n",
    "M_a = M_ab\n",
    "[r.subs(soln).n(4) for r in [R_a,R_c,R_d,H_d,H_a,M_a]]"
   ]
  },
  {
   "cell_type": "markdown",
   "metadata": {},
   "source": [
    "#### Equilibrium check"
   ]
  },
  {
   "cell_type": "code",
   "execution_count": 13,
   "metadata": {
    "collapsed": false
   },
   "outputs": [
    {
     "data": {
      "text/latex": [
       "$$0$$"
      ],
      "text/plain": [
       "0"
      ]
     },
     "execution_count": 13,
     "metadata": {},
     "output_type": "execute_result"
    }
   ],
   "source": [
    "## sum vertical forces\n",
    "(R_a + R_c + R_d - 24*4 - 72).subs(soln)"
   ]
  },
  {
   "cell_type": "code",
   "execution_count": 14,
   "metadata": {
    "collapsed": false
   },
   "outputs": [
    {
     "data": {
      "text/latex": [
       "$$0$$"
      ],
      "text/plain": [
       "0"
      ]
     },
     "execution_count": 14,
     "metadata": {},
     "output_type": "execute_result"
    }
   ],
   "source": [
    "## sum horizontal forces\n",
    "(H_a+H_d).subs(soln)"
   ]
  },
  {
   "cell_type": "code",
   "execution_count": 15,
   "metadata": {
    "collapsed": false
   },
   "outputs": [
    {
     "data": {
      "text/latex": [
       "$$0$$"
      ],
      "text/plain": [
       "0"
      ]
     },
     "execution_count": 15,
     "metadata": {},
     "output_type": "execute_result"
    }
   ],
   "source": [
    "## sum moments about a\n",
    "(M_a + 24*4*2 - R_c*4 + 72*6 - R_d*8 - H_d*4).subs(soln)"
   ]
  },
  {
   "cell_type": "code",
   "execution_count": null,
   "metadata": {
    "collapsed": true
   },
   "outputs": [],
   "source": []
  }
 ],
 "metadata": {
  "kernelspec": {
   "display_name": "Python 3",
   "language": "python",
   "name": "python3"
  },
  "language_info": {
   "codemirror_mode": {
    "name": "ipython",
    "version": 3
   },
   "file_extension": ".py",
   "mimetype": "text/x-python",
   "name": "python",
   "nbconvert_exporter": "python",
   "pygments_lexer": "ipython3",
   "version": "3.4.3"
  }
 },
 "nbformat": 4,
 "nbformat_minor": 0
}
