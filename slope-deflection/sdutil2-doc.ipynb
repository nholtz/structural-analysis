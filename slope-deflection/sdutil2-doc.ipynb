{
 "cells": [
  {
   "cell_type": "markdown",
   "metadata": {},
   "source": [
    "# sdutil2\n",
    "Eventually will document `sdutil2` - for now just some examples."
   ]
  },
  {
   "cell_type": "markdown",
   "metadata": {},
   "source": [
    "**NOTE:** *The slope-deflection sign convention may seem strange to those used to matirx stiffness analysis, but it makes sense.  None of the slope deflection equations explicitly state a \n",
    "member 'direction' and it doesn't matter.  For example, whether you consider the column AB as\n",
    "going from A to B or as going from B to A, a +ive shear at end A is still directed toward the\n",
    "left. In matrix analysis, that direction matters.*\n",
    "![sd signs](sd-sign-convention.svg)"
   ]
  },
  {
   "cell_type": "code",
   "execution_count": 7,
   "metadata": {
    "collapsed": true
   },
   "outputs": [],
   "source": [
    "import sys\n",
    "m = 'sdutil2'\n",
    "if m in sys.modules:\n",
    "    del sys.modules[m]   # so we can easily re-import the library if it changes during debugging\n",
    "import sdutil2 as sd"
   ]
  },
  {
   "cell_type": "code",
   "execution_count": 8,
   "metadata": {
    "collapsed": false
   },
   "outputs": [
    {
     "data": {
      "text/plain": [
       "EF(4,-96.0,96.0,144.0,-144.0)"
      ]
     },
     "execution_count": 8,
     "metadata": {},
     "output_type": "execute_result"
    }
   ],
   "source": [
    "sd.FEF.udl(4,72)"
   ]
  },
  {
   "cell_type": "code",
   "execution_count": 9,
   "metadata": {
    "collapsed": false
   },
   "outputs": [
    {
     "data": {
      "text/plain": [
       "EF(4,-57.6,38.4,100.8,-43.2)"
      ]
     },
     "execution_count": 9,
     "metadata": {},
     "output_type": "execute_result"
    }
   ],
   "source": [
    "x = sd.FEF.lvl(4,72,0)\n",
    "x"
   ]
  },
  {
   "cell_type": "code",
   "execution_count": 10,
   "metadata": {
    "collapsed": false
   },
   "outputs": [
    {
     "data": {
      "text/plain": [
       "EF(4,-38.4,57.6,43.2,-100.8)"
      ]
     },
     "execution_count": 10,
     "metadata": {},
     "output_type": "execute_result"
    }
   ],
   "source": [
    "y = sd.FEF.lvl(4,0,72)\n",
    "y"
   ]
  },
  {
   "cell_type": "code",
   "execution_count": 11,
   "metadata": {
    "collapsed": false
   },
   "outputs": [
    {
     "data": {
      "text/plain": [
       "EF(4,-96.0,96.0,144.0,-144.0)"
      ]
     },
     "execution_count": 11,
     "metadata": {},
     "output_type": "execute_result"
    }
   ],
   "source": [
    "x+y"
   ]
  },
  {
   "cell_type": "code",
   "execution_count": 12,
   "metadata": {
    "collapsed": false
   },
   "outputs": [
    {
     "data": {
      "text/plain": [
       "EF(4,-960.0,960.0,1440.0,-1440.0)"
      ]
     },
     "execution_count": 12,
     "metadata": {},
     "output_type": "execute_result"
    }
   ],
   "source": [
    "(x+y)*10"
   ]
  },
  {
   "cell_type": "code",
   "execution_count": 13,
   "metadata": {
    "collapsed": false
   },
   "outputs": [
    {
     "data": {
      "text/plain": [
       "EF(4,-614.4,441.6,1051.2,-532.8)"
      ]
     },
     "execution_count": 13,
     "metadata": {},
     "output_type": "execute_result"
    }
   ],
   "source": [
    "10*x + y"
   ]
  },
  {
   "cell_type": "code",
   "execution_count": 14,
   "metadata": {
    "collapsed": false
   },
   "outputs": [
    {
     "data": {
      "text/plain": [
       "EF(4,-96.0,96.0,144.0,-144.0)"
      ]
     },
     "execution_count": 14,
     "metadata": {},
     "output_type": "execute_result"
    }
   ],
   "source": [
    "s1 = sd.FEF.lvl(4,72,0,a=0,b=2.5)\n",
    "s2 = sd.FEF.lvl(4,0,72,a=0,b=2.5)\n",
    "s3 = sd.FEF.lvl(4,72,0,a=2.5,b=1.5)\n",
    "s4 = sd.FEF.lvl(4,0,72,a=2.5,b=1.5)\n",
    "s1+s2+s3+s4"
   ]
  },
  {
   "cell_type": "code",
   "execution_count": 15,
   "metadata": {
    "collapsed": false
   },
   "outputs": [
    {
     "data": {
      "text/plain": [
       "EF(4,-96.0,96.0,144.0,-144.0)"
      ]
     },
     "execution_count": 15,
     "metadata": {},
     "output_type": "execute_result"
    }
   ],
   "source": [
    "s1 = sd.FEF.lvl(4,72,0,a=0,b=1.5)\n",
    "s2 = sd.FEF.lvl(4,0,72,a=0,b=1.5)\n",
    "s3 = sd.FEF.lvl(4,62,10,a=1.5,b=1)\n",
    "s4 = sd.FEF.lvl(4,10,62,a=1.5,b=1)\n",
    "s5 = sd.FEF.lvl(4,72,0,a=2.5,b=1.5)\n",
    "s6 = sd.FEF.lvl(4,0,72,a=2.5,b=1.5)\n",
    "s1+s2+s3+s4+s5+s6"
   ]
  },
  {
   "cell_type": "code",
   "execution_count": 16,
   "metadata": {
    "collapsed": false
   },
   "outputs": [
    {
     "data": {
      "text/plain": [
       "EF(10,-121.6,102.4,73.92,-46.08)"
      ]
     },
     "execution_count": 16,
     "metadata": {},
     "output_type": "execute_result"
    }
   ],
   "source": [
    "sd.FEF.lvl(10,15,a=0,b=8)"
   ]
  },
  {
   "cell_type": "code",
   "execution_count": 17,
   "metadata": {
    "collapsed": false
   },
   "outputs": [
    {
     "data": {
      "text/plain": [
       "EF(10,-121.6,102.4,73.92,-46.08)"
      ]
     },
     "execution_count": 17,
     "metadata": {},
     "output_type": "execute_result"
    }
   ],
   "source": [
    "sd.FEF.lvl(10,15,a=0,c=2)"
   ]
  },
  {
   "cell_type": "code",
   "execution_count": 18,
   "metadata": {
    "collapsed": false
   },
   "outputs": [
    {
     "data": {
      "text/plain": [
       "EF(10,-121.6,102.4,73.92,-46.08)"
      ]
     },
     "execution_count": 18,
     "metadata": {},
     "output_type": "execute_result"
    }
   ],
   "source": [
    "sd.FEF.lvl(10,15,b=8,c=2)"
   ]
  },
  {
   "cell_type": "code",
   "execution_count": 19,
   "metadata": {
    "collapsed": false
   },
   "outputs": [
    {
     "data": {
      "text/plain": [
       "EF(10,-121.6,102.4,73.92,-46.08)"
      ]
     },
     "execution_count": 19,
     "metadata": {},
     "output_type": "execute_result"
    }
   ],
   "source": [
    "sd.FEF.lvl(10,15,a=0,b=8,c=2)"
   ]
  },
  {
   "cell_type": "code",
   "execution_count": 21,
   "metadata": {
    "collapsed": false
   },
   "outputs": [
    {
     "name": "stdout",
     "output_type": "stream",
     "text": [
      "('***** Error:', 'Cannot specify all of a, b & c')\n"
     ]
    }
   ],
   "source": [
    "try:\n",
    "    sd.FEF.lvl(10,15,a=0,b=8,c=3)\n",
    "except Exception as e:\n",
    "    print('***** Error:',str(e))"
   ]
  },
  {
   "cell_type": "code",
   "execution_count": null,
   "metadata": {
    "collapsed": true
   },
   "outputs": [],
   "source": []
  },
  {
   "cell_type": "code",
   "execution_count": null,
   "metadata": {
    "collapsed": true
   },
   "outputs": [],
   "source": []
  }
 ],
 "metadata": {
  "kernelspec": {
   "display_name": "Python 2",
   "language": "python",
   "name": "python2"
  },
  "language_info": {
   "codemirror_mode": {
    "name": "ipython",
    "version": 2
   },
   "file_extension": ".py",
   "mimetype": "text/x-python",
   "name": "python",
   "nbconvert_exporter": "python",
   "pygments_lexer": "ipython2",
   "version": "2.7.6"
  },
  "widgets": {
   "state": {},
   "version": "1.1.1"
  }
 },
 "nbformat": 4,
 "nbformat_minor": 0
}
