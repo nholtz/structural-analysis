{
 "cells": [
  {
   "cell_type": "markdown",
   "metadata": {},
   "source": [
    "**NOTE:** *The slope-deflection sign convention may seem strange to those used to matirx stiffness analysis, but it makes sense.  None of the slope deflection equations explicitly state a \n",
    "member 'direction' and it doesn't matter.  For example, whether you consider the column AB as\n",
    "going from A to B or as going from B to A, a +ive shear at end A is still directed toward the\n",
    "left. In matrix analysis, that direction matters.*"
   ]
  },
  {
   "cell_type": "markdown",
   "metadata": {},
   "source": [
    "## Kulak & Grondin - Example 8.2\n",
    "This solves a close approximation to the first-order example of Kulak and Grondin.  The major\n",
    "differences are:\n",
    "* the lateral resistance of the outside column stacks are ignored; only the central rigid frame is included.\n",
    "* this method does not account for axial changes of length in any of the members.\n",
    "The results obtained here are \n",
    "compared with those obtained via a [first-order matrix analysis](../matrix-methods/frame2d/50-test-KG82sd.ipynb),\n",
    "and found to agree to about 6 significant figures."
   ]
  },
  {
   "cell_type": "code",
   "execution_count": 1,
   "metadata": {},
   "outputs": [
    {
     "data": {
      "image/svg+xml": [
       "<svg height=\"3.6068382in\" id=\"svg2\" inkscape:version=\"0.91 r\" sodipodi:docname=\"KG-8.2sd.svg\" version=\"1.1\" viewBox=\"0 0 726.79623 346.25647\" width=\"7.5707941in\" xmlns=\"http://www.w3.org/2000/svg\" xmlns:cc=\"http://creativecommons.org/ns#\" xmlns:dc=\"http://purl.org/dc/elements/1.1/\" xmlns:inkscape=\"http://www.inkscape.org/namespaces/inkscape\" xmlns:rdf=\"http://www.w3.org/1999/02/22-rdf-syntax-ns#\" xmlns:sodipodi=\"http://sodipodi.sourceforge.net/DTD/sodipodi-0.dtd\" xmlns:svg=\"http://www.w3.org/2000/svg\" xmlns:xlink=\"http://www.w3.org/1999/xlink\">\n",
       "  <sodipodi:namedview bordercolor=\"#666666\" borderopacity=\"1.0\" fit-margin-bottom=\"0.2\" fit-margin-left=\"0.2\" fit-margin-right=\"0.2\" fit-margin-top=\"0.2\" id=\"base\" inkscape:current-layer=\"layer1\" inkscape:cx=\"333.08628\" inkscape:cy=\"146.26164\" inkscape:document-units=\"in\" inkscape:pageopacity=\"0.0\" inkscape:pageshadow=\"2\" inkscape:snap-global=\"true\" inkscape:window-height=\"979\" inkscape:window-maximized=\"0\" inkscape:window-width=\"1577\" inkscape:window-x=\"304\" inkscape:window-y=\"53\" inkscape:zoom=\"1.4283557\" pagecolor=\"#ffffff\" showgrid=\"true\" showguides=\"true\" units=\"in\">\n",
       "    <inkscape:grid empspacing=\"5\" enabled=\"true\" id=\"grid2985\" originx=\"-47.6916\" originy=\"-566.39998\" snapvisiblegridlinesonly=\"true\" spacingx=\"0.1in\" spacingy=\"0.1in\" type=\"xygrid\" units=\"in\" visible=\"true\"/>\n",
       "    <sodipodi:guide id=\"guide3042\" orientation=\"0,765\" position=\"-47.6916,-566.39998\"/>\n",
       "    <sodipodi:guide id=\"guide3044\" orientation=\"-990,0\" position=\"768.30841,614.4\"/>\n",
       "    <sodipodi:guide id=\"guide3046\" orientation=\"0,-765\" position=\"-38.0916,489.6\"/>\n",
       "    <sodipodi:guide id=\"guide3048\" orientation=\"990,0\" position=\"-47.6916,423.6\"/>\n",
       "    <sodipodi:guide id=\"guide3050\" orientation=\"0,765\" position=\"672.30841,-521.39998\"/>\n",
       "    <sodipodi:guide id=\"guide3052\" orientation=\"-990,0\" position=\"720.30841,595.2\"/>\n",
       "    <sodipodi:guide id=\"guide3054\" orientation=\"0,-765\" position=\"38.708401,441.6\"/>\n",
       "    <sodipodi:guide id=\"guide3056\" orientation=\"990,0\" position=\"0.30840078,547.2\"/>\n",
       "  </sodipodi:namedview>\n",
       "  <script id=\"script3033\" xlink:href=\"\"/>\n",
       "  <defs id=\"defs4\">\n",
       "    <pattern id=\"pattern9149\" inkscape:collect=\"always\" patternTransform=\"matrix(1.3009964,0,0,1.1329968,33.715724,172.80063)\" xlink:href=\"#pattern4949\"/>\n",
       "    <pattern id=\"pattern9147\" inkscape:collect=\"always\" patternTransform=\"matrix(1.3009964,0,0,1.1329968,33.715724,184.54298)\" xlink:href=\"#pattern4949\"/>\n",
       "    <!-- markers by NMH <nholtz@cee.carleton.ca> -->\n",
       "    <marker id=\"DimensionTick\" inkscape:stockid=\"DimensionTick\" orient=\"auto\" refX=\"0\" refY=\"0\" style=\"overflow:visible\">\n",
       "      <path d=\"M 0,0 8,8\" id=\"path6\" inkscape:connector-curvature=\"0\" style=\"stroke:#4d4d4d;stroke-width:1px;marker-start:none\" transform=\"translate(-4,-4)\"/>\n",
       "    </marker>\n",
       "    <marker id=\"TrussNodeS\" inkscape:stockid=\"TrussNodeS\" markerUnits=\"userSpaceOnUse\" orient=\"auto\" refX=\"0\" refY=\"0\" style=\"overflow:visible\">\n",
       "      <circle cx=\"0\" cy=\"0\" id=\"circle9\" r=\"3\" style=\"fill:#ffffff;stroke:#000000;stroke-width:1\"/>\n",
       "    </marker>\n",
       "    <marker id=\"TrussNodeM\" inkscape:stockid=\"TrussNodeM\" markerUnits=\"userSpaceOnUse\" orient=\"auto\" refX=\"0\" refY=\"0\" style=\"overflow:visible\">\n",
       "      <circle cx=\"0\" cy=\"0\" id=\"circle12\" r=\"4\" style=\"fill:#ffffff;stroke:#000000;stroke-width:1\"/>\n",
       "    </marker>\n",
       "    <!-- patternss by NMH <nholtz@cee.carleton.ca> -->\n",
       "    <pattern height=\"18\" id=\"black-stripes-on-red\" patternUnits=\"userSpaceOnUse\" width=\"18\" x=\"0\" y=\"0\">\n",
       "      <path d=\"M 0,0 18,0 18,18 0,18 z\" id=\"path3006\" inkscape:connector-curvature=\"0\" style=\"fill:#ff0000;stroke:none\"/>\n",
       "      <path d=\"M 0,9 9,0 11,0 0,11 z\" id=\"path3008\" inkscape:connector-curvature=\"0\" style=\"fill:#000000;stroke:none\"/>\n",
       "      <path d=\"m 9,18 9,-9 0,2 -7,7 z\" id=\"path5234\" inkscape:connector-curvature=\"0\" style=\"fill:#000000;stroke:none\"/>\n",
       "    </pattern>\n",
       "    <marker id=\"CLArrowEnd\" markerHeight=\"6\" markerUnits=\"userSpaceOnUse\" markerWidth=\"10\" orient=\"auto\" refX=\"7\" refY=\"3\" viewBox=\"0 0 10 6\">\n",
       "      <path d=\"M 0,0 10,3 0,6 2,3 Z\" id=\"path3451\" inkscape:connector-curvature=\"0\"/>\n",
       "    </marker>\n",
       "    <marker id=\"CLArrowEnd-0\" markerHeight=\"6\" markerUnits=\"userSpaceOnUse\" markerWidth=\"10\" orient=\"auto\" refX=\"7\" refY=\"3\" viewBox=\"0 0 10 6\">\n",
       "      <path d=\"M 0,0 10,3 0,6 2,3 Z\" id=\"path3451-9\" inkscape:connector-curvature=\"0\"/>\n",
       "    </marker>\n",
       "    <pattern id=\"pattern4949\" inkscape:collect=\"always\" patternTransform=\"matrix(1.3009964,0,0,1.1329968,144,97.2)\" xlink:href=\"#pattern4380\"/>\n",
       "    <pattern height=\"83.375\" id=\"pattern4380\" patternTransform=\"translate(216,485.362)\" patternUnits=\"userSpaceOnUse\" width=\"36\">\n",
       "      <g id=\"g4376\" transform=\"translate(-216,-485.362)\">\n",
       "        <polygon class=\"dload\" id=\"polygon3581-2\" points=\"360,0 0,0 0,-12 360,-12 \" style=\"fill:#f0f0f0;stroke:none;visibility:visible\" transform=\"matrix(0.1,0,0,6.75,216,566.362)\"/>\n",
       "        <path class=\"cload\" d=\"m 234,485.362 0,78.625\" id=\"path3627-7\" inkscape:connector-curvature=\"0\" style=\"fill:none;stroke:#000000;stroke-width:1.58746088;marker-end:url(#CLArrowEnd-5);visibility:visible\"/>\n",
       "      </g>\n",
       "    </pattern>\n",
       "    <marker id=\"CLArrowEnd-5\" markerHeight=\"6\" markerUnits=\"userSpaceOnUse\" markerWidth=\"10\" orient=\"auto\" refX=\"7\" refY=\"3\" viewBox=\"0 0 10 6\">\n",
       "      <path d=\"M 0,0 10,3 0,6 2,3 Z\" id=\"path3451-1\" inkscape:connector-curvature=\"0\"/>\n",
       "    </marker>\n",
       "    <marker id=\"Arrow1Send\" inkscape:stockid=\"Arrow1Send\" orient=\"auto\" refX=\"0\" refY=\"0\" style=\"overflow:visible\">\n",
       "      <path d=\"M 0,0 5,-5 -12.5,0 5,5 0,0 Z\" id=\"path3878\" inkscape:connector-curvature=\"0\" style=\"fill-rule:evenodd;stroke:#000000;stroke-width:1pt;marker-start:none\" transform=\"matrix(-0.2,0,0,-0.2,-1.2,0)\"/>\n",
       "    </marker>\n",
       "    <marker id=\"CLArrowEnd-9\" markerHeight=\"6\" markerUnits=\"userSpaceOnUse\" markerWidth=\"10\" orient=\"auto\" refX=\"7\" refY=\"3\" viewBox=\"0 0 10 6\">\n",
       "      <path d=\"M 0,0 10,3 0,6 2,3 Z\" id=\"path3451-0\" inkscape:connector-curvature=\"0\"/>\n",
       "    </marker>\n",
       "  </defs>\n",
       "  <metadata id=\"metadata7\">\n",
       "    <rdf:RDF>\n",
       "      <cc:Work rdf:about=\"\">\n",
       "        <dc:format>image/svg+xml</dc:format>\n",
       "        <dc:type rdf:resource=\"http://purl.org/dc/dcmitype/StillImage\"/>\n",
       "        <dc:title/>\n",
       "        <cc:license rdf:resource=\"http://creativecommons.org/licenses/by-nc/3.0/\"/>\n",
       "      </cc:Work>\n",
       "      <cc:License rdf:about=\"http://creativecommons.org/licenses/by-nc/3.0/\">\n",
       "        <cc:permits rdf:resource=\"http://creativecommons.org/ns#Reproduction\"/>\n",
       "        <cc:permits rdf:resource=\"http://creativecommons.org/ns#Distribution\"/>\n",
       "        <cc:requires rdf:resource=\"http://creativecommons.org/ns#Notice\"/>\n",
       "        <cc:requires rdf:resource=\"http://creativecommons.org/ns#Attribution\"/>\n",
       "        <cc:prohibits rdf:resource=\"http://creativecommons.org/ns#CommercialUse\"/>\n",
       "        <cc:permits rdf:resource=\"http://creativecommons.org/ns#DerivativeWorks\"/>\n",
       "      </cc:License>\n",
       "    </rdf:RDF>\n",
       "  </metadata>\n",
       "  <g id=\"layer1\" inkscape:groupmode=\"layer\" inkscape:label=\"Layer 1\" style=\"display:inline\" transform=\"translate(-47.691599,-77.343538)\">\n",
       "    <g id=\"g9167\" transform=\"translate(140.79992,4.2666671)\">\n",
       "      <rect height=\"18.826611\" id=\"rect3421\" style=\"fill:url(#pattern9149);fill-opacity:1;stroke:#000000;stroke-width:0.96515584\" width=\"240.47137\" x=\"287.52863\" y=\"106.74646\"/>\n",
       "      <rect height=\"18.826611\" id=\"rect9145\" style=\"fill:url(#pattern9147);fill-opacity:1;stroke:#000000;stroke-width:0.96515584\" width=\"240.47137\" x=\"288.27539\" y=\"211.81924\"/>\n",
       "      <path d=\"m 288.00001,366.00001 0,-240 240.00001,0 0,240\" id=\"path4255\" inkscape:connector-curvature=\"0\" style=\"fill:none;fill-rule:evenodd;stroke:#000000;stroke-width:2.13333344;stroke-linecap:butt;stroke-linejoin:miter;stroke-opacity:1\"/>\n",
       "      <path d=\"m 288.00001,231.60001 240.00001,0\" id=\"path4257\" inkscape:connector-curvature=\"0\" style=\"fill:none;fill-rule:evenodd;stroke:#000000;stroke-width:2.13333344;stroke-linecap:butt;stroke-linejoin:miter;stroke-opacity:1\"/>\n",
       "      <g id=\"use3511\" transform=\"matrix(0,-1.3333333,1.3333333,0,285.80894,366.7905)\">\n",
       "        <title id=\"title3743\">Fixed Support</title>\n",
       "        <path d=\"M 0,-6 0,6\" id=\"path3409\" inkscape:connector-curvature=\"0\" style=\"fill:none;stroke:#000000;stroke-width:1\"/>\n",
       "        <path d=\"m 0,-6 -3,3 m 3,0 -3,3 m 3,0 -3,3 m 3,0 -3,3 m 3,0 -3,3\" id=\"path3411\" inkscape:connector-curvature=\"0\" style=\"fill:none;stroke:#000000;stroke-width:1\"/>\n",
       "      </g>\n",
       "      <g id=\"g7218\" transform=\"matrix(0,-1.3333333,1.3333333,0,526.07296,366.26244)\">\n",
       "        <title id=\"title7220\">Fixed Support</title>\n",
       "        <path d=\"M 0,-6 0,6\" id=\"path7222\" inkscape:connector-curvature=\"0\" style=\"fill:none;stroke:#000000;stroke-width:1\"/>\n",
       "        <path d=\"m 0,-6 -3,3 m 3,0 -3,3 m 3,0 -3,3 m 3,0 -3,3 m 3,0 -3,3\" id=\"path7224\" inkscape:connector-curvature=\"0\" style=\"fill:none;stroke:#000000;stroke-width:1\"/>\n",
       "      </g>\n",
       "      <path d=\"m 288.00001,375.60001 0,28.8\" id=\"path7226\" inkscape:connector-curvature=\"0\" style=\"fill:none;fill-rule:evenodd;stroke:#404040;stroke-width:0.75;stroke-linecap:butt;stroke-linejoin:miter;stroke-dasharray:none;stroke-dashoffset:0;stroke-opacity:1\"/>\n",
       "      <path d=\"m 528.00002,375.60001 0,28.8\" id=\"path7228\" inkscape:connector-curvature=\"0\" style=\"fill:none;fill-rule:evenodd;stroke:#404040;stroke-width:0.75;stroke-linecap:butt;stroke-linejoin:miter;stroke-dasharray:none;stroke-dashoffset:0;stroke-opacity:1\"/>\n",
       "      <path d=\"m 288,394.8 240,0\" id=\"path7230\" inkscape:connector-curvature=\"0\" style=\"fill:none;fill-rule:evenodd;stroke:#404040;stroke-width:0.75;stroke-linecap:butt;stroke-linejoin:miter;stroke-dasharray:none;stroke-dashoffset:0;stroke-opacity:1;marker-start:url(#DimensionTick);marker-mid:url(#DimensionTick);marker-end:url(#DimensionTick)\"/>\n",
       "      <path d=\"m 268.80001,366.00001 -28.8,0\" id=\"path7232\" inkscape:connector-curvature=\"0\" style=\"fill:none;fill-rule:evenodd;stroke:#404040;stroke-width:0.75;stroke-linecap:butt;stroke-linejoin:miter;stroke-dasharray:none;stroke-dashoffset:0;stroke-opacity:1\"/>\n",
       "      <path d=\"m 278.40001,231.60001 -38.4,0\" id=\"path7234\" inkscape:connector-curvature=\"0\" style=\"fill:none;fill-rule:evenodd;stroke:#404040;stroke-width:0.75;stroke-linecap:butt;stroke-linejoin:miter;stroke-dasharray:none;stroke-dashoffset:0;stroke-opacity:1\"/>\n",
       "      <path d=\"m 278.40001,126.00001 -38.4,0\" id=\"path7236\" inkscape:connector-curvature=\"0\" style=\"fill:none;fill-rule:evenodd;stroke:#404040;stroke-width:0.75;stroke-linecap:butt;stroke-linejoin:miter;stroke-dasharray:none;stroke-dashoffset:0;stroke-opacity:1\"/>\n",
       "      <path d=\"m 249.6,366 0,-134.4 0,-105.6\" id=\"path7238\" inkscape:connector-curvature=\"0\" style=\"fill:none;fill-rule:evenodd;stroke:#404040;stroke-width:0.75;stroke-linecap:butt;stroke-linejoin:miter;stroke-dasharray:none;stroke-dashoffset:0;stroke-opacity:1;marker-start:url(#DimensionTick);marker-mid:url(#DimensionTick);marker-end:url(#DimensionTick)\"/>\n",
       "      <text id=\"text7240\" sodipodi:linespacing=\"125%\" style=\"font-style:normal;font-weight:normal;font-size:10px;line-height:125%;font-family:Verdana;letter-spacing:0px;word-spacing:0px;fill:#000000;fill-opacity:1;stroke:none;stroke-width:1px;stroke-linecap:butt;stroke-linejoin:miter;stroke-opacity:1\" transform=\"translate(17.099995,-3.00001)\" x=\"374.40002\" xml:space=\"preserve\" y=\"394.80002\"><tspan id=\"tspan7242\" sodipodi:role=\"line\" x=\"374.40002\" y=\"394.80002\">10 500</tspan></text>\n",
       "      <text id=\"text7244\" sodipodi:linespacing=\"125%\" style=\"font-style:normal;font-weight:normal;font-size:10px;line-height:125%;font-family:Verdana;letter-spacing:0px;word-spacing:0px;fill:#000000;fill-opacity:1;stroke:none;stroke-width:1px;stroke-linecap:butt;stroke-linejoin:miter;stroke-opacity:1\" transform=\"matrix(0,-1,1,0,-1.28176,2.78384)\" x=\"-308.51617\" xml:space=\"preserve\" y=\"247.88177\"><tspan id=\"tspan7246\" sodipodi:role=\"line\" x=\"-308.51617\" y=\"247.88177\">6500</tspan></text>\n",
       "      <text id=\"text7248\" sodipodi:linespacing=\"125%\" style=\"font-style:normal;font-weight:normal;font-size:10px;line-height:125%;font-family:Verdana;letter-spacing:0px;word-spacing:0px;fill:#000000;fill-opacity:1;stroke:none;stroke-width:1px;stroke-linecap:butt;stroke-linejoin:miter;stroke-opacity:1\" transform=\"matrix(0,-1,1,0,0.69632,-6.27963)\" x=\"-197.57964\" xml:space=\"preserve\" y=\"245.90369\"><tspan id=\"tspan7250\" sodipodi:role=\"line\" x=\"-197.57964\" y=\"245.90369\">5500</tspan></text>\n",
       "      <text id=\"text7350\" sodipodi:linespacing=\"125%\" style=\"font-style:normal;font-weight:normal;font-size:10.66666698px;line-height:125%;font-family:sans-serif;letter-spacing:0px;word-spacing:0px;fill:#000000;fill-opacity:1;stroke:none;stroke-width:1px;stroke-linecap:butt;stroke-linejoin:miter;stroke-opacity:1\" x=\"277.87195\" xml:space=\"preserve\" y=\"363.79276\"><tspan id=\"tspan7352\" sodipodi:role=\"line\" x=\"277.87195\" y=\"363.79276\">A</tspan></text>\n",
       "      <text id=\"text7354\" sodipodi:linespacing=\"125%\" style=\"font-style:normal;font-weight:normal;font-size:10.66666698px;line-height:125%;font-family:sans-serif;letter-spacing:0px;word-spacing:0px;fill:#000000;fill-opacity:1;stroke:none;stroke-width:1px;stroke-linecap:butt;stroke-linejoin:miter;stroke-opacity:1\" x=\"277.87195\" xml:space=\"preserve\" y=\"228.8647\"><tspan id=\"tspan7356\" sodipodi:role=\"line\" x=\"277.87195\" y=\"228.8647\">B</tspan></text>\n",
       "      <text id=\"text7358\" sodipodi:linespacing=\"125%\" style=\"font-style:normal;font-weight:normal;font-size:10.66666698px;line-height:125%;font-family:sans-serif;letter-spacing:0px;word-spacing:0px;fill:#000000;fill-opacity:1;stroke:none;stroke-width:1px;stroke-linecap:butt;stroke-linejoin:miter;stroke-opacity:1\" x=\"278.39999\" xml:space=\"preserve\" y=\"123.26469\"><tspan id=\"tspan7360\" sodipodi:role=\"line\" x=\"278.39999\" y=\"123.26469\">C</tspan></text>\n",
       "      <text id=\"text7362\" sodipodi:linespacing=\"125%\" style=\"font-style:normal;font-weight:normal;font-size:10.66666698px;line-height:125%;font-family:sans-serif;letter-spacing:0px;word-spacing:0px;fill:#000000;fill-opacity:1;stroke:none;stroke-width:1px;stroke-linecap:butt;stroke-linejoin:miter;stroke-opacity:1\" x=\"530.20728\" xml:space=\"preserve\" y=\"363.79276\"><tspan id=\"tspan7364\" sodipodi:role=\"line\" x=\"530.20728\" y=\"363.79276\">D</tspan></text>\n",
       "      <text id=\"text7366\" sodipodi:linespacing=\"125%\" style=\"font-style:normal;font-weight:normal;font-size:10.66666698px;line-height:125%;font-family:sans-serif;letter-spacing:0px;word-spacing:0px;fill:#000000;fill-opacity:1;stroke:none;stroke-width:1px;stroke-linecap:butt;stroke-linejoin:miter;stroke-opacity:1\" x=\"529.67926\" xml:space=\"preserve\" y=\"227.80859\"><tspan id=\"tspan7368\" sodipodi:role=\"line\" x=\"529.67926\" y=\"227.80859\">E</tspan></text>\n",
       "      <text id=\"text7370\" sodipodi:linespacing=\"125%\" style=\"font-style:normal;font-weight:normal;font-size:10.66666698px;line-height:125%;font-family:sans-serif;letter-spacing:0px;word-spacing:0px;fill:#000000;fill-opacity:1;stroke:none;stroke-width:1px;stroke-linecap:butt;stroke-linejoin:miter;stroke-opacity:1\" x=\"530.73535\" xml:space=\"preserve\" y=\"121.68053\"><tspan id=\"tspan7372\" sodipodi:role=\"line\" x=\"530.73535\" y=\"121.68053\">F</tspan></text>\n",
       "      <path class=\"cload\" d=\"m 532.01718,231.7551 30.66667,0\" id=\"path3405\" inkscape:connector-curvature=\"0\" style=\"fill:none;stroke:#000000;stroke-width:1.33333337;marker-end:url(#CLArrowEnd)\"/>\n",
       "      <path class=\"cload\" d=\"m 532.64028,126.1551 30.66667,0\" id=\"path3405-5\" inkscape:connector-curvature=\"0\" style=\"fill:none;stroke:#000000;stroke-width:1.33333337;marker-end:url(#CLArrowEnd-0)\"/>\n",
       "      <text id=\"text7615\" sodipodi:linespacing=\"125%\" style=\"font-style:normal;font-weight:normal;font-size:10.66666698px;line-height:125%;font-family:sans-serif;letter-spacing:0px;word-spacing:0px;fill:#000000;fill-opacity:1;stroke:none;stroke-width:1px;stroke-linecap:butt;stroke-linejoin:miter;stroke-opacity:1\" transform=\"matrix(0,-1,1,0,0,0)\" x=\"-322.77753\" xml:space=\"preserve\" y=\"300.05731\"><tspan id=\"tspan7617\" sodipodi:role=\"line\" x=\"-322.77753\" y=\"300.05731\">W310x97</tspan></text>\n",
       "      <text id=\"text7619\" sodipodi:linespacing=\"125%\" style=\"font-style:normal;font-weight:normal;font-size:10.66666698px;line-height:125%;font-family:sans-serif;letter-spacing:0px;word-spacing:0px;fill:#000000;fill-opacity:1;stroke:none;stroke-width:1px;stroke-linecap:butt;stroke-linejoin:miter;stroke-opacity:1\" transform=\"matrix(0,-1,1,0,0,0)\" x=\"-323.30557\" xml:space=\"preserve\" y=\"524.47974\"><tspan id=\"tspan7621\" sodipodi:role=\"line\" x=\"-323.30557\" y=\"524.47974\">W310x97</tspan></text>\n",
       "      <text id=\"text7623\" sodipodi:linespacing=\"125%\" style=\"font-style:normal;font-weight:normal;font-size:10.66666698px;line-height:125%;font-family:sans-serif;letter-spacing:0px;word-spacing:0px;fill:#000000;fill-opacity:1;stroke:none;stroke-width:1px;stroke-linecap:butt;stroke-linejoin:miter;stroke-opacity:1\" x=\"383.03894\" xml:space=\"preserve\" y=\"137.27922\"><tspan id=\"tspan7625\" sodipodi:role=\"line\" x=\"383.03894\" y=\"137.27922\">W460x106</tspan></text>\n",
       "      <text id=\"text7627\" sodipodi:linespacing=\"125%\" style=\"font-style:normal;font-weight:normal;font-size:10.66666698px;line-height:125%;font-family:sans-serif;letter-spacing:0px;word-spacing:0px;fill:#000000;fill-opacity:1;stroke:none;stroke-width:1px;stroke-linecap:butt;stroke-linejoin:miter;stroke-opacity:1\" x=\"384.62311\" xml:space=\"preserve\" y=\"243.41783\"><tspan id=\"tspan7629\" sodipodi:role=\"line\" x=\"384.62311\" y=\"243.41783\">W460x106</tspan></text>\n",
       "      <text id=\"text9151\" sodipodi:linespacing=\"125%\" style=\"font-style:normal;font-weight:normal;font-size:10.66666698px;line-height:125%;font-family:sans-serif;letter-spacing:0px;word-spacing:0px;fill:#000000;fill-opacity:1;stroke:none;stroke-width:1px;stroke-linecap:butt;stroke-linejoin:miter;stroke-opacity:1\" x=\"566.8056\" xml:space=\"preserve\" y=\"122.24229\"><tspan id=\"tspan9153\" sodipodi:role=\"line\" x=\"566.8056\" y=\"122.24229\">21 900 N</tspan></text>\n",
       "      <text id=\"text9155\" sodipodi:linespacing=\"125%\" style=\"font-style:normal;font-weight:normal;font-size:10.66666698px;line-height:125%;font-family:sans-serif;letter-spacing:0px;word-spacing:0px;fill:#000000;fill-opacity:1;stroke:none;stroke-width:1px;stroke-linecap:butt;stroke-linejoin:miter;stroke-opacity:1\" x=\"566.0589\" xml:space=\"preserve\" y=\"229.77856\"><tspan id=\"tspan9157\" sodipodi:role=\"line\" x=\"566.0589\" y=\"229.77856\">43 400 N</tspan></text>\n",
       "      <text id=\"text9159\" sodipodi:linespacing=\"125%\" style=\"font-style:normal;font-weight:normal;font-size:10.66666698px;line-height:125%;font-family:sans-serif;letter-spacing:0px;word-spacing:0px;fill:#000000;fill-opacity:1;stroke:none;stroke-width:1px;stroke-linecap:butt;stroke-linejoin:miter;stroke-opacity:1\" x=\"341.2782\" xml:space=\"preserve\" y=\"104.31958\"><tspan id=\"tspan9161\" sodipodi:role=\"line\" x=\"341.2782\" y=\"104.31958\">45 N/mm</tspan></text>\n",
       "      <text id=\"text9163\" sodipodi:linespacing=\"125%\" style=\"font-style:normal;font-weight:normal;font-size:10.66666698px;line-height:125%;font-family:sans-serif;letter-spacing:0px;word-spacing:0px;fill:#000000;fill-opacity:1;stroke:none;stroke-width:1px;stroke-linecap:butt;stroke-linejoin:miter;stroke-opacity:1\" x=\"341.27823\" xml:space=\"preserve\" y=\"208.12195\"><tspan id=\"tspan9165\" sodipodi:role=\"line\" x=\"341.27823\" y=\"208.12195\">55 N/mm</tspan></text>\n",
       "    </g>\n",
       "    <g id=\"g9415\">\n",
       "      <g id=\"g9230\" inkscape:transform-center-x=\"-95.670831\" inkscape:transform-center-y=\"24.585415\" transform=\"matrix(0.99999999,1.3065882e-4,-1.3065882e-4,0.99999999,0.03520385,-0.01258395)\">\n",
       "        <path d=\"m 96.000003,270.00001 192.000007,0\" id=\"path9224\" inkscape:connector-curvature=\"0\" style=\"fill:none;fill-rule:evenodd;stroke:#000000;stroke-width:1.05599999;stroke-linecap:butt;stroke-linejoin:miter;stroke-miterlimit:4;stroke-dasharray:1.05600001, 4.22400004;stroke-dashoffset:0;stroke-opacity:1\"/>\n",
       "        <path d=\"m 96.000003,270.00001 192.000007,48\" id=\"path9226\" inkscape:connector-curvature=\"0\" style=\"fill:none;fill-rule:evenodd;stroke:#000000;stroke-width:1.06666672;stroke-linecap:butt;stroke-linejoin:miter;stroke-miterlimit:4;stroke-dasharray:1.06666667, 3.2;stroke-dashoffset:0;stroke-opacity:1\"/>\n",
       "        <path d=\"m 96.000003,270.00001 c 80.652177,84.38608 88.944447,-22.94405 192.000007,48\" id=\"path9228\" inkscape:connector-curvature=\"0\" sodipodi:nodetypes=\"cc\" style=\"fill:none;fill-rule:evenodd;stroke:#000000;stroke-width:2.13333344;stroke-linecap:butt;stroke-linejoin:miter;stroke-opacity:1\"/>\n",
       "      </g>\n",
       "      <g id=\"g8811\" transform=\"matrix(1.0666667,0,0,1.0666667,-177.10824,-145.02369)\">\n",
       "        <path d=\"m 241.78484,341.9452 a 13.5,13.5 0 0 1 -12.2737,-13.99361 13.5,13.5 0 0 1 13.36918,-12.95106\" id=\"path8813\" sodipodi:cx=\"243\" sodipodi:cy=\"328.5\" sodipodi:end=\"4.703524\" sodipodi:open=\"true\" sodipodi:rx=\"13.5\" sodipodi:ry=\"13.5\" sodipodi:start=\"1.6609303\" sodipodi:type=\"arc\" style=\"fill:none;stroke:#000000;stroke-width:1.5;stroke-linecap:square;stroke-linejoin:miter;stroke-miterlimit:4;stroke-dasharray:none;stroke-dashoffset:0;stroke-opacity:1;marker-end:none\" transform=\"translate(0,62.362)\"/>\n",
       "        <path d=\"m 243,315 3,0\" id=\"path8815\" inkscape:connector-curvature=\"0\" sodipodi:nodetypes=\"cc\" style=\"fill:none;stroke:#000000;stroke-width:1.5;stroke-linecap:square;stroke-linejoin:miter;stroke-miterlimit:4;stroke-dasharray:none;stroke-dashoffset:0;stroke-opacity:1;marker-end:url(#Arrow1Send)\" transform=\"translate(0,62.362)\"/>\n",
       "      </g>\n",
       "      <g id=\"g9304\" transform=\"matrix(-1.0666667,0,0,-1.0666667,559.35307,737.29748)\">\n",
       "        <path d=\"m 241.78484,341.9452 a 13.5,13.5 0 0 1 -12.2737,-13.99361 13.5,13.5 0 0 1 13.36918,-12.95106\" id=\"path9306\" sodipodi:cx=\"243\" sodipodi:cy=\"328.5\" sodipodi:end=\"4.703524\" sodipodi:open=\"true\" sodipodi:rx=\"13.5\" sodipodi:ry=\"13.5\" sodipodi:start=\"1.6609303\" sodipodi:type=\"arc\" style=\"fill:none;stroke:#000000;stroke-width:1.5;stroke-linecap:square;stroke-linejoin:miter;stroke-miterlimit:4;stroke-dasharray:none;stroke-dashoffset:0;stroke-opacity:1;marker-end:none\" transform=\"translate(0,62.362)\"/>\n",
       "        <path d=\"m 243,315 3,0\" id=\"path9308\" inkscape:connector-curvature=\"0\" sodipodi:nodetypes=\"cc\" style=\"fill:none;stroke:#000000;stroke-width:1.5;stroke-linecap:square;stroke-linejoin:miter;stroke-miterlimit:4;stroke-dasharray:none;stroke-dashoffset:0;stroke-opacity:1;marker-end:url(#Arrow1Send)\" transform=\"translate(0,62.362)\"/>\n",
       "      </g>\n",
       "      <path class=\"cload\" d=\"m 292.25003,301.84709 0,30.66667\" id=\"path3507\" inkscape:connector-curvature=\"0\" style=\"fill:none;stroke:#000000;stroke-width:1.33333337;marker-end:url(#CLArrowEnd-9)\"/>\n",
       "      <path class=\"cload\" d=\"m 91.366361,289.21343 0,-30.66667\" id=\"path9395\" inkscape:connector-curvature=\"0\" style=\"fill:none;stroke:#000000;stroke-width:1.33333337;marker-end:url(#CLArrowEnd-9)\"/>\n",
       "      <text id=\"text9397\" sodipodi:linespacing=\"125%\" style=\"font-style:normal;font-weight:normal;font-size:10.66666698px;line-height:125%;font-family:sans-serif;letter-spacing:0px;word-spacing:0px;fill:#000000;fill-opacity:1;stroke:none;stroke-width:1px;stroke-linecap:butt;stroke-linejoin:miter;stroke-opacity:1\" x=\"96.638664\" xml:space=\"preserve\" y=\"267.32715\"><tspan id=\"tspan9399\" sodipodi:role=\"line\" x=\"96.638664\" y=\"267.32715\">0</tspan></text>\n",
       "      <text id=\"text9401\" sodipodi:linespacing=\"125%\" style=\"font-style:normal;font-weight:normal;font-size:10.66666698px;line-height:125%;font-family:sans-serif;letter-spacing:0px;word-spacing:0px;fill:#000000;fill-opacity:1;stroke:none;stroke-width:1px;stroke-linecap:butt;stroke-linejoin:miter;stroke-opacity:1\" x=\"282.13388\" xml:space=\"preserve\" y=\"307.43695\"><tspan id=\"tspan9403\" sodipodi:role=\"line\" x=\"282.13388\" y=\"307.43695\">1</tspan></text>\n",
       "      <path d=\"m 182.4,270 a 86.400002,86.400002 0 0 1 -2.50106,20.63802\" id=\"path9405\" sodipodi:cx=\"96\" sodipodi:cy=\"270\" sodipodi:end=\"0.24119779\" sodipodi:open=\"true\" sodipodi:rx=\"86.400002\" sodipodi:ry=\"86.400002\" sodipodi:start=\"0\" sodipodi:type=\"arc\" style=\"fill:none;stroke:#000000;stroke-width:1.06666672;stroke-miterlimit:4;stroke-dasharray:none;stroke-dashoffset:0;marker-end:url(#CLArrowEnd-0)\"/>\n",
       "      <text id=\"text9407\" sodipodi:linespacing=\"125%\" style=\"font-style:normal;font-weight:normal;font-size:10.66666698px;line-height:125%;font-family:sans-serif;letter-spacing:0px;word-spacing:0px;fill:#000000;fill-opacity:1;stroke:none;stroke-width:1px;stroke-linecap:butt;stroke-linejoin:miter;stroke-opacity:1\" x=\"124.8\" xml:space=\"preserve\" y=\"346.80002\"><tspan id=\"tspan9409\" sodipodi:role=\"line\" x=\"124.8\" y=\"346.80002\">Sign Convention:</tspan></text>\n",
       "      <text id=\"text9411\" sodipodi:linespacing=\"125%\" style=\"font-style:normal;font-weight:normal;font-size:10.66666698px;line-height:125%;font-family:sans-serif;letter-spacing:0px;word-spacing:0px;fill:#000000;fill-opacity:1;stroke:none;stroke-width:1px;stroke-linecap:butt;stroke-linejoin:miter;stroke-opacity:1\" x=\"70.176979\" xml:space=\"preserve\" y=\"361.51932\"><tspan id=\"tspan9413\" sodipodi:role=\"line\" x=\"70.176979\" y=\"361.51932\">+ive shears, moments, rotations, deflections</tspan></text>\n",
       "    </g>\n",
       "  </g>\n",
       "</svg>"
      ],
      "text/plain": [
       "<IPython.core.display.SVG object>"
      ]
     },
     "execution_count": 1,
     "metadata": {},
     "output_type": "execute_result"
    }
   ],
   "source": [
    "from IPython import display\n",
    "display.SVG('KG-8.2sd.svg')"
   ]
  },
  {
   "cell_type": "markdown",
   "metadata": {},
   "source": [
    "### Solve for joint rotations and storey translations using slope-deflection"
   ]
  },
  {
   "cell_type": "code",
   "execution_count": 2,
   "metadata": {},
   "outputs": [],
   "source": [
    "import sympy as sy                  # use symbolic algebra\n",
    "sy.init_printing()                  # print pretty math\n",
    "from sdutil2 import SD, FEF         # slope-deflection library"
   ]
  },
  {
   "cell_type": "code",
   "execution_count": 3,
   "metadata": {},
   "outputs": [
    {
     "data": {
      "image/png": "[encoded data removed]",
      "text/latex": [
       "$$\\left ( \\theta_{a}, \\quad \\theta_{b}, \\quad \\theta_{c}, \\quad \\theta_{d}, \\quad \\theta_{e}, \\quad \\theta_{f}, \\quad \\Delta_{b}, \\quad \\Delta_{c}\\right )$$"
      ],
      "text/plain": [
       "(θₐ, θ_b, θ_c, θ_d, θₑ, θ_f, Δ_b, Δ_c)"
      ]
     },
     "execution_count": 3,
     "metadata": {},
     "output_type": "execute_result"
    }
   ],
   "source": [
    "sy.var('theta_a theta_b theta_c theta_d theta_e theta_f Delta_b Delta_c')"
   ]
  },
  {
   "cell_type": "code",
   "execution_count": 4,
   "metadata": {
    "collapsed": true
   },
   "outputs": [],
   "source": [
    "E = 200000\n",
    "Ic = 222E6   # W310x97\n",
    "Ib = 488E6   # W460x106\n",
    "Hf = 21900   # Horizontal load at F\n",
    "He = 43400   # Horizontal load at E\n",
    "\n",
    "Lab = 6500   # Length of column\n",
    "Lbc = 5500   # Length of column\n",
    "Lbe = 10500  # Length of beam"
   ]
  },
  {
   "cell_type": "code",
   "execution_count": 5,
   "metadata": {
    "collapsed": true
   },
   "outputs": [],
   "source": [
    "Mab,Mba,Vab,Vba = SD(Lab,E*Ic,theta_a,theta_b,Delta_b)             # column AB, BC\n",
    "Mbc,Mcb,Vbc,Vcb = SD(Lbc,E*Ic,theta_b,theta_c,Delta_c-Delta_b)\n",
    "\n",
    "Mde,Med,Vde,Ved = SD(Lab,E*Ic,theta_d,theta_e,Delta_b)             # column DE, EF\n",
    "Mef,Mfe,Vef,Vfe = SD(Lbc,E*Ic,theta_e,theta_f,Delta_c-Delta_b)\n",
    "\n",
    "Mbe,Meb,Vbe,Veb = SD(Lbe,E*Ib,theta_b,theta_e) + FEF.udl(Lbe,55)   # beams BE, CF\n",
    "Mcf,Mfc,Vcf,Vfc = SD(Lbe,E*Ib,theta_c,theta_f) + FEF.udl(Lbe,45)"
   ]
  },
  {
   "cell_type": "code",
   "execution_count": 6,
   "metadata": {},
   "outputs": [],
   "source": [
    "eqns = [ Mba+Mbe+Mbc,      # sum of moments at B = 0\n",
    "         Mcb+Mcf,          # sum of moments at C = 0\n",
    "         Med+Meb+Mef,      # sum of moments at E = 0\n",
    "         Mfe+Mfc,          # sum of moments at F = 0\n",
    "         -Vab-Vde+Hf+He,   # sum of Fx @ base of storey 1 = 0\n",
    "         -Vbc-Vef+Hf,      # sum of Fx @ base of storey 2 = 0\n",
    "         theta_a,          # fixed support at A, rotation = 0\n",
    "         theta_d]          # fixed support at F, rotation = 0"
   ]
  },
  {
   "cell_type": "code",
   "execution_count": 7,
   "metadata": {},
   "outputs": [
    {
     "data": {
      "image/png": "[encoded data removed]",
      "text/latex": [
       "$$\\left \\{ \\Delta_{b} : 23.3628188885579, \\quad \\Delta_{c} : 34.3068306465552, \\quad \\theta_{a} : 0.0, \\quad \\theta_{b} : 0.00712966246666336, \\quad \\theta_{c} : 0.00722695283139248, \\quad \\theta_{d} : 0.0, \\quad \\theta_{e} : -0.00310886822570279, \\quad \\theta_{f} : -0.00577523381182757\\right \\}$$"
      ],
      "text/plain": [
       "{Δ_b: 23.3628188885579, Δ_c: 34.3068306465552, θₐ: 0.0, θ_b: 0.007129662466663\n",
       "36, θ_c: 0.00722695283139248, θ_d: 0.0, θₑ: -0.00310886822570279, θ_f: -0.0057\n",
       "7523381182757}"
      ]
     },
     "execution_count": 7,
     "metadata": {},
     "output_type": "execute_result"
    }
   ],
   "source": [
    "soln = sy.solve(eqns)\n",
    "soln"
   ]
  },
  {
   "cell_type": "markdown",
   "metadata": {},
   "source": [
    "### Determine end moments and shears\n",
    "\n",
    "#### Demonstrate how to access and convert one end moment:"
   ]
  },
  {
   "cell_type": "code",
   "execution_count": 8,
   "metadata": {},
   "outputs": [
    {
     "data": {
      "image/png": "[encoded data removed]",
      "text/latex": [
       "$$- 6305325.44378698 \\Delta_{b} + 27323076923.0769 \\theta_{a} + 13661538461.5385 \\theta_{b}$$"
      ],
      "text/plain": [
       "-6305325.44378698⋅Δ_b + 27323076923.0769⋅θₐ + 13661538461.5385⋅θ_b"
      ]
     },
     "execution_count": 8,
     "metadata": {},
     "output_type": "execute_result"
    }
   ],
   "source": [
    "Mab"
   ]
  },
  {
   "cell_type": "code",
   "execution_count": 9,
   "metadata": {},
   "outputs": [
    {
     "data": {
      "image/png": "[encoded data removed]",
      "text/latex": [
       "$$-49908018.3705027$$"
      ],
      "text/plain": [
       "-49908018.3705027"
      ]
     },
     "execution_count": 9,
     "metadata": {},
     "output_type": "execute_result"
    }
   ],
   "source": [
    "Mab.subs(soln)"
   ]
  },
  {
   "cell_type": "code",
   "execution_count": 10,
   "metadata": {},
   "outputs": [
    {
     "data": {
      "image/png": "[encoded data removed]",
      "text/latex": [
       "$$-49.908224$$"
      ],
      "text/plain": [
       "-49.9082240000000"
      ]
     },
     "execution_count": 10,
     "metadata": {},
     "output_type": "execute_result"
    }
   ],
   "source": [
    "Mab.subs(soln).n(4) * 1E-6"
   ]
  },
  {
   "cell_type": "code",
   "execution_count": 11,
   "metadata": {},
   "outputs": [
    {
     "data": {
      "image/png": "[encoded data removed]",
      "text/latex": [
       "$$- 6305325.44378698 \\Delta_{b} + 27323076923.0769 \\theta_{a} + 13661538461.5385 \\theta_{b}$$"
      ],
      "text/plain": [
       "-6305325.44378698⋅Δ_b + 27323076923.0769⋅θₐ + 13661538461.5385⋅θ_b"
      ]
     },
     "execution_count": 11,
     "metadata": {},
     "output_type": "execute_result"
    }
   ],
   "source": [
    "V = globals()   # another way to access global variables\n",
    "V['Mab']"
   ]
  },
  {
   "cell_type": "code",
   "execution_count": 12,
   "metadata": {},
   "outputs": [
    {
     "data": {
      "text/plain": [
       "True"
      ]
     },
     "execution_count": 12,
     "metadata": {},
     "output_type": "execute_result"
    }
   ],
   "source": [
    "Mab is V['Mab']"
   ]
  },
  {
   "cell_type": "code",
   "execution_count": 13,
   "metadata": {},
   "outputs": [
    {
     "data": {
      "image/png": "[encoded data removed]",
      "text/latex": [
       "$$-49908018.3705027$$"
      ],
      "text/plain": [
       "-49908018.3705027"
      ]
     },
     "execution_count": 13,
     "metadata": {},
     "output_type": "execute_result"
    }
   ],
   "source": [
    "V['Mab'].subs(soln).n()"
   ]
  },
  {
   "cell_type": "markdown",
   "metadata": {},
   "source": [
    "#### Determine end moments by back substitution:"
   ]
  },
  {
   "cell_type": "code",
   "execution_count": 14,
   "metadata": {},
   "outputs": [
    {
     "data": {
      "text/plain": [
       "[('AB', -49.9080183705027, 47.4941396356060),\n",
       " ('BC', 250.526060428376, 252.096857589821),\n",
       " ('DE', -189.782099213905, -232.254022051198),\n",
       " ('EF', -290.011616822927, -333.061301195269),\n",
       " ('BE', -298.020200063982, 522.265638874126),\n",
       " ('CF', -252.096857589821, 333.061301195269)]"
      ]
     },
     "execution_count": 14,
     "metadata": {},
     "output_type": "execute_result"
    }
   ],
   "source": [
    "# collect the end moments in all 6 members\n",
    "allm = []\n",
    "V = globals()\n",
    "for m in 'ab,bc,de,ef,be,cf'.split(','):\n",
    "    mj = V['M'+m].subs(soln).n()*1E-6          # Mxy\n",
    "    mk = V['M'+m[::-1]].subs(soln).n()*1E-6    # Myx\n",
    "    allm.append((m.upper(),mj,mk))\n",
    "allm"
   ]
  },
  {
   "cell_type": "code",
   "execution_count": 15,
   "metadata": {},
   "outputs": [
    {
     "data": {
      "text/plain": [
       "[('AB', -49.9, 47.5),\n",
       " ('BC', 250.5, 252.1),\n",
       " ('DE', -189.8, -232.3),\n",
       " ('EF', -290.0, -333.1),\n",
       " ('BE', -298.0, 522.3),\n",
       " ('CF', -252.1, 333.1)]"
      ]
     },
     "execution_count": 15,
     "metadata": {},
     "output_type": "execute_result"
    }
   ],
   "source": [
    "[(m,round(a,1),round(b,1)) for m,a,b in allm]  # display to one decimal place"
   ]
  },
  {
   "cell_type": "markdown",
   "metadata": {},
   "source": [
    "#### Determine end shears by back substitution:"
   ]
  },
  {
   "cell_type": "code",
   "execution_count": 16,
   "metadata": {},
   "outputs": [
    {
     "data": {
      "text/plain": [
       "[('AB', 0.371365959214883, 0.371365959214883),\n",
       " ('BC', -91.3859850942176, -91.3859850942176),\n",
       " ('DE', 64.9286340407851, 64.9286340407851),\n",
       " ('EF', 113.285985094218, 113.285985094218),\n",
       " ('BE', 267.393291541891, -310.106708458109),\n",
       " ('CF', 228.539100609005, -243.960899390995)]"
      ]
     },
     "execution_count": 16,
     "metadata": {},
     "output_type": "execute_result"
    }
   ],
   "source": [
    "# collect the end shears in all 6 members\n",
    "allv = []\n",
    "V = globals()\n",
    "for m in 'ab,bc,de,ef,be,cf'.split(','):\n",
    "    mj = V['V'+m].subs(soln).n()*1E-3          # Mxy\n",
    "    mk = V['V'+m[::-1]].subs(soln).n()*1E-3    # Myx\n",
    "    allv.append((m.upper(),mj,mk))\n",
    "allv"
   ]
  },
  {
   "cell_type": "code",
   "execution_count": 17,
   "metadata": {},
   "outputs": [
    {
     "data": {
      "text/plain": [
       "[('AB', 0.4, 0.4),\n",
       " ('BC', -91.4, -91.4),\n",
       " ('DE', 64.9, 64.9),\n",
       " ('EF', 113.3, 113.3),\n",
       " ('BE', 267.4, -310.1),\n",
       " ('CF', 228.5, -244.0)]"
      ]
     },
     "execution_count": 17,
     "metadata": {},
     "output_type": "execute_result"
    }
   ],
   "source": [
    "[(m,round(a,1),round(b,1)) for m,a,b in allv]   # display to one decimal place"
   ]
  },
  {
   "cell_type": "markdown",
   "metadata": {},
   "source": [
    "### Now compare to matrix method solution (Frame2D):"
   ]
  },
  {
   "cell_type": "code",
   "execution_count": 18,
   "metadata": {
    "collapsed": true
   },
   "outputs": [],
   "source": [
    "import pandas as pd\n",
    "\n",
    "dd = '../matrix-methods/frame2d/data/KG82sd.d/all'   # location of mm solution"
   ]
  },
  {
   "cell_type": "markdown",
   "metadata": {},
   "source": [
    "### Compare Moments:\n",
    "#### Convert current member end moments solution to tabular form:"
   ]
  },
  {
   "cell_type": "code",
   "execution_count": 19,
   "metadata": {},
   "outputs": [
    {
     "data": {
      "text/html": [
       "<div>\n",
       "<style scoped>\n",
       "    .dataframe tbody tr th:only-of-type {\n",
       "        vertical-align: middle;\n",
       "    }\n",
       "\n",
       "    .dataframe tbody tr th {\n",
       "        vertical-align: top;\n",
       "    }\n",
       "\n",
       "    .dataframe thead th {\n",
       "        text-align: right;\n",
       "    }\n",
       "</style>\n",
       "<table border=\"1\" class=\"dataframe\">\n",
       "  <thead>\n",
       "    <tr style=\"text-align: right;\">\n",
       "      <th></th>\n",
       "      <th>MZJ</th>\n",
       "      <th>MZK</th>\n",
       "    </tr>\n",
       "    <tr>\n",
       "      <th>ID</th>\n",
       "      <th></th>\n",
       "      <th></th>\n",
       "    </tr>\n",
       "  </thead>\n",
       "  <tbody>\n",
       "    <tr>\n",
       "      <th>AB</th>\n",
       "      <td>-49.9080183705027</td>\n",
       "      <td>47.4941396356060</td>\n",
       "    </tr>\n",
       "    <tr>\n",
       "      <th>BC</th>\n",
       "      <td>250.526060428376</td>\n",
       "      <td>252.096857589821</td>\n",
       "    </tr>\n",
       "    <tr>\n",
       "      <th>DE</th>\n",
       "      <td>-189.782099213905</td>\n",
       "      <td>-232.254022051198</td>\n",
       "    </tr>\n",
       "    <tr>\n",
       "      <th>EF</th>\n",
       "      <td>-290.011616822927</td>\n",
       "      <td>-333.061301195269</td>\n",
       "    </tr>\n",
       "    <tr>\n",
       "      <th>BE</th>\n",
       "      <td>-298.020200063982</td>\n",
       "      <td>522.265638874126</td>\n",
       "    </tr>\n",
       "    <tr>\n",
       "      <th>CF</th>\n",
       "      <td>-252.096857589821</td>\n",
       "      <td>333.061301195269</td>\n",
       "    </tr>\n",
       "  </tbody>\n",
       "</table>\n",
       "</div>"
      ],
      "text/plain": [
       "                  MZJ                MZK\n",
       "ID                                      \n",
       "AB  -49.9080183705027   47.4941396356060\n",
       "BC   250.526060428376   252.096857589821\n",
       "DE  -189.782099213905  -232.254022051198\n",
       "EF  -290.011616822927  -333.061301195269\n",
       "BE  -298.020200063982   522.265638874126\n",
       "CF  -252.096857589821   333.061301195269"
      ]
     },
     "execution_count": 19,
     "metadata": {},
     "output_type": "execute_result"
    }
   ],
   "source": [
    "mems = pd.DataFrame(allm,columns=['ID','MZJ','MZK']).set_index('ID')\n",
    "mems"
   ]
  },
  {
   "cell_type": "markdown",
   "metadata": {},
   "source": [
    "#### Fetch solution from Frame2D:"
   ]
  },
  {
   "cell_type": "code",
   "execution_count": 20,
   "metadata": {},
   "outputs": [
    {
     "data": {
      "text/html": [
       "<div>\n",
       "<style scoped>\n",
       "    .dataframe tbody tr th:only-of-type {\n",
       "        vertical-align: middle;\n",
       "    }\n",
       "\n",
       "    .dataframe tbody tr th {\n",
       "        vertical-align: top;\n",
       "    }\n",
       "\n",
       "    .dataframe thead th {\n",
       "        text-align: right;\n",
       "    }\n",
       "</style>\n",
       "<table border=\"1\" class=\"dataframe\">\n",
       "  <thead>\n",
       "    <tr style=\"text-align: right;\">\n",
       "      <th></th>\n",
       "      <th>MZJ</th>\n",
       "      <th>MZK</th>\n",
       "    </tr>\n",
       "    <tr>\n",
       "      <th>ID</th>\n",
       "      <th></th>\n",
       "      <th></th>\n",
       "    </tr>\n",
       "  </thead>\n",
       "  <tbody>\n",
       "    <tr>\n",
       "      <th>AB</th>\n",
       "      <td>-49.908014</td>\n",
       "      <td>47.494144</td>\n",
       "    </tr>\n",
       "    <tr>\n",
       "      <th>BC</th>\n",
       "      <td>250.526061</td>\n",
       "      <td>252.096859</td>\n",
       "    </tr>\n",
       "    <tr>\n",
       "      <th>DE</th>\n",
       "      <td>-189.782098</td>\n",
       "      <td>-232.254022</td>\n",
       "    </tr>\n",
       "    <tr>\n",
       "      <th>EF</th>\n",
       "      <td>-290.011612</td>\n",
       "      <td>-333.061297</td>\n",
       "    </tr>\n",
       "    <tr>\n",
       "      <th>BE</th>\n",
       "      <td>-298.020204</td>\n",
       "      <td>522.265634</td>\n",
       "    </tr>\n",
       "    <tr>\n",
       "      <th>CF</th>\n",
       "      <td>-252.096859</td>\n",
       "      <td>333.061297</td>\n",
       "    </tr>\n",
       "  </tbody>\n",
       "</table>\n",
       "</div>"
      ],
      "text/plain": [
       "           MZJ         MZK\n",
       "ID                        \n",
       "AB  -49.908014   47.494144\n",
       "BC  250.526061  252.096859\n",
       "DE -189.782098 -232.254022\n",
       "EF -290.011612 -333.061297\n",
       "BE -298.020204  522.265634\n",
       "CF -252.096859  333.061297"
      ]
     },
     "execution_count": 20,
     "metadata": {},
     "output_type": "execute_result"
    }
   ],
   "source": [
    "mefs = pd.read_csv(dd+'/member_end_forces.csv').set_index('MEMBERID').loc[mems.index]\n",
    "mems2 = mefs[['MZJ','MZK']] * -1E-6    # convert sign and to kN-m\n",
    "mems2"
   ]
  },
  {
   "cell_type": "markdown",
   "metadata": {},
   "source": [
    "#### Compare member end moments in the two solutions:"
   ]
  },
  {
   "cell_type": "code",
   "execution_count": 21,
   "metadata": {},
   "outputs": [
    {
     "data": {
      "text/html": [
       "<div>\n",
       "<style scoped>\n",
       "    .dataframe tbody tr th:only-of-type {\n",
       "        vertical-align: middle;\n",
       "    }\n",
       "\n",
       "    .dataframe tbody tr th {\n",
       "        vertical-align: top;\n",
       "    }\n",
       "\n",
       "    .dataframe thead th {\n",
       "        text-align: right;\n",
       "    }\n",
       "</style>\n",
       "<table border=\"1\" class=\"dataframe\">\n",
       "  <thead>\n",
       "    <tr style=\"text-align: right;\">\n",
       "      <th></th>\n",
       "      <th>MZJ</th>\n",
       "      <th>MZK</th>\n",
       "    </tr>\n",
       "    <tr>\n",
       "      <th>ID</th>\n",
       "      <th></th>\n",
       "      <th></th>\n",
       "    </tr>\n",
       "  </thead>\n",
       "  <tbody>\n",
       "    <tr>\n",
       "      <th>AB</th>\n",
       "      <td>-9.17049660653646e-6</td>\n",
       "      <td>8.35047321290361e-6</td>\n",
       "    </tr>\n",
       "    <tr>\n",
       "      <th>BC</th>\n",
       "      <td>9.14187947564926e-8</td>\n",
       "      <td>6.57745258259013e-7</td>\n",
       "    </tr>\n",
       "    <tr>\n",
       "      <th>DE</th>\n",
       "      <td>-5.40915578994827e-7</td>\n",
       "      <td>4.17979983957650e-8</td>\n",
       "    </tr>\n",
       "    <tr>\n",
       "      <th>EF</th>\n",
       "      <td>-1.72059335667996e-6</td>\n",
       "      <td>-1.36026414576662e-6</td>\n",
       "    </tr>\n",
       "    <tr>\n",
       "      <th>BE</th>\n",
       "      <td>1.40762708156217e-6</td>\n",
       "      <td>-9.36849420263286e-7</td>\n",
       "    </tr>\n",
       "    <tr>\n",
       "      <th>CF</th>\n",
       "      <td>6.57745302667934e-7</td>\n",
       "      <td>-1.36026414576662e-6</td>\n",
       "    </tr>\n",
       "  </tbody>\n",
       "</table>\n",
       "</div>"
      ],
      "text/plain": [
       "                     MZJ                   MZK\n",
       "ID                                            \n",
       "AB  -9.17049660653646e-6   8.35047321290361e-6\n",
       "BC   9.14187947564926e-8   6.57745258259013e-7\n",
       "DE  -5.40915578994827e-7   4.17979983957650e-8\n",
       "EF  -1.72059335667996e-6  -1.36026414576662e-6\n",
       "BE   1.40762708156217e-6  -9.36849420263286e-7\n",
       "CF   6.57745302667934e-7  -1.36026414576662e-6"
      ]
     },
     "execution_count": 21,
     "metadata": {},
     "output_type": "execute_result"
    }
   ],
   "source": [
    "mdiff = (100*(1-mems/mems2))   # calculate % diff\n",
    "mdiff"
   ]
  },
  {
   "cell_type": "code",
   "execution_count": 22,
   "metadata": {},
   "outputs": [
    {
     "data": {
      "text/plain": [
       "MZJ    0.000009\n",
       "MZK    0.000008\n",
       "dtype: float64"
      ]
     },
     "execution_count": 22,
     "metadata": {},
     "output_type": "execute_result"
    }
   ],
   "source": [
    "mdiff.abs().max()"
   ]
  },
  {
   "cell_type": "markdown",
   "metadata": {},
   "source": [
    "The maximum difference in member end moments is 0.000009% (about 7 or 8 sig figs)."
   ]
  },
  {
   "cell_type": "markdown",
   "metadata": {},
   "source": [
    "### Compare Shears:\n",
    "\n",
    "#### Convert our end shears to tabular form:"
   ]
  },
  {
   "cell_type": "code",
   "execution_count": 23,
   "metadata": {},
   "outputs": [
    {
     "data": {
      "text/html": [
       "<div>\n",
       "<style scoped>\n",
       "    .dataframe tbody tr th:only-of-type {\n",
       "        vertical-align: middle;\n",
       "    }\n",
       "\n",
       "    .dataframe tbody tr th {\n",
       "        vertical-align: top;\n",
       "    }\n",
       "\n",
       "    .dataframe thead th {\n",
       "        text-align: right;\n",
       "    }\n",
       "</style>\n",
       "<table border=\"1\" class=\"dataframe\">\n",
       "  <thead>\n",
       "    <tr style=\"text-align: right;\">\n",
       "      <th></th>\n",
       "      <th>FYJ</th>\n",
       "      <th>FYK</th>\n",
       "    </tr>\n",
       "    <tr>\n",
       "      <th>ID</th>\n",
       "      <th></th>\n",
       "      <th></th>\n",
       "    </tr>\n",
       "  </thead>\n",
       "  <tbody>\n",
       "    <tr>\n",
       "      <th>AB</th>\n",
       "      <td>0.371365959214883</td>\n",
       "      <td>0.371365959214883</td>\n",
       "    </tr>\n",
       "    <tr>\n",
       "      <th>BC</th>\n",
       "      <td>-91.3859850942176</td>\n",
       "      <td>-91.3859850942176</td>\n",
       "    </tr>\n",
       "    <tr>\n",
       "      <th>DE</th>\n",
       "      <td>64.9286340407851</td>\n",
       "      <td>64.9286340407851</td>\n",
       "    </tr>\n",
       "    <tr>\n",
       "      <th>EF</th>\n",
       "      <td>113.285985094218</td>\n",
       "      <td>113.285985094218</td>\n",
       "    </tr>\n",
       "    <tr>\n",
       "      <th>BE</th>\n",
       "      <td>267.393291541891</td>\n",
       "      <td>-310.106708458109</td>\n",
       "    </tr>\n",
       "    <tr>\n",
       "      <th>CF</th>\n",
       "      <td>228.539100609005</td>\n",
       "      <td>-243.960899390995</td>\n",
       "    </tr>\n",
       "  </tbody>\n",
       "</table>\n",
       "</div>"
      ],
      "text/plain": [
       "                  FYJ                FYK\n",
       "ID                                      \n",
       "AB  0.371365959214883  0.371365959214883\n",
       "BC  -91.3859850942176  -91.3859850942176\n",
       "DE   64.9286340407851   64.9286340407851\n",
       "EF   113.285985094218   113.285985094218\n",
       "BE   267.393291541891  -310.106708458109\n",
       "CF   228.539100609005  -243.960899390995"
      ]
     },
     "execution_count": 23,
     "metadata": {},
     "output_type": "execute_result"
    }
   ],
   "source": [
    "mevs = pd.DataFrame(allv,columns=['ID','FYJ','FYK']).set_index('ID')\n",
    "mevs"
   ]
  },
  {
   "cell_type": "markdown",
   "metadata": {},
   "source": [
    "#### Extract the end shears from Frame2D results:"
   ]
  },
  {
   "cell_type": "code",
   "execution_count": 24,
   "metadata": {},
   "outputs": [
    {
     "data": {
      "text/html": [
       "<div>\n",
       "<style scoped>\n",
       "    .dataframe tbody tr th:only-of-type {\n",
       "        vertical-align: middle;\n",
       "    }\n",
       "\n",
       "    .dataframe tbody tr th {\n",
       "        vertical-align: top;\n",
       "    }\n",
       "\n",
       "    .dataframe thead th {\n",
       "        text-align: right;\n",
       "    }\n",
       "</style>\n",
       "<table border=\"1\" class=\"dataframe\">\n",
       "  <thead>\n",
       "    <tr style=\"text-align: right;\">\n",
       "      <th></th>\n",
       "      <th>FYJ</th>\n",
       "      <th>FYK</th>\n",
       "    </tr>\n",
       "    <tr>\n",
       "      <th>ID</th>\n",
       "      <th></th>\n",
       "      <th></th>\n",
       "    </tr>\n",
       "  </thead>\n",
       "  <tbody>\n",
       "    <tr>\n",
       "      <th>AB</th>\n",
       "      <td>0.371365</td>\n",
       "      <td>0.371365</td>\n",
       "    </tr>\n",
       "    <tr>\n",
       "      <th>BC</th>\n",
       "      <td>-91.385985</td>\n",
       "      <td>-91.385985</td>\n",
       "    </tr>\n",
       "    <tr>\n",
       "      <th>DE</th>\n",
       "      <td>64.928634</td>\n",
       "      <td>64.928634</td>\n",
       "    </tr>\n",
       "    <tr>\n",
       "      <th>EF</th>\n",
       "      <td>113.285983</td>\n",
       "      <td>113.285983</td>\n",
       "    </tr>\n",
       "    <tr>\n",
       "      <th>BE</th>\n",
       "      <td>267.393292</td>\n",
       "      <td>-310.106708</td>\n",
       "    </tr>\n",
       "    <tr>\n",
       "      <th>CF</th>\n",
       "      <td>228.539101</td>\n",
       "      <td>-243.960899</td>\n",
       "    </tr>\n",
       "  </tbody>\n",
       "</table>\n",
       "</div>"
      ],
      "text/plain": [
       "           FYJ         FYK\n",
       "ID                        \n",
       "AB    0.371365    0.371365\n",
       "BC  -91.385985  -91.385985\n",
       "DE   64.928634   64.928634\n",
       "EF  113.285983  113.285983\n",
       "BE  267.393292 -310.106708\n",
       "CF  228.539101 -243.960899"
      ]
     },
     "execution_count": 24,
     "metadata": {},
     "output_type": "execute_result"
    }
   ],
   "source": [
    "mevs2 = mefs[['FYJ','FYK']] * 1E-3\n",
    "mevs2[['FYK']] *= -1    # change sign on end k\n",
    "mevs2"
   ]
  },
  {
   "cell_type": "markdown",
   "metadata": {},
   "source": [
    "#### Compare end shears in the two results:"
   ]
  },
  {
   "cell_type": "code",
   "execution_count": 25,
   "metadata": {},
   "outputs": [
    {
     "data": {
      "text/html": [
       "<div>\n",
       "<style scoped>\n",
       "    .dataframe tbody tr th:only-of-type {\n",
       "        vertical-align: middle;\n",
       "    }\n",
       "\n",
       "    .dataframe tbody tr th {\n",
       "        vertical-align: top;\n",
       "    }\n",
       "\n",
       "    .dataframe thead th {\n",
       "        text-align: right;\n",
       "    }\n",
       "</style>\n",
       "<table border=\"1\" class=\"dataframe\">\n",
       "  <thead>\n",
       "    <tr style=\"text-align: right;\">\n",
       "      <th></th>\n",
       "      <th>FYJ</th>\n",
       "      <th>FYK</th>\n",
       "    </tr>\n",
       "    <tr>\n",
       "      <th>ID</th>\n",
       "      <th></th>\n",
       "      <th></th>\n",
       "    </tr>\n",
       "  </thead>\n",
       "  <tbody>\n",
       "    <tr>\n",
       "      <th>AB</th>\n",
       "      <td>-0.000353904629113444</td>\n",
       "      <td>-0.000353904629113444</td>\n",
       "    </tr>\n",
       "    <tr>\n",
       "      <th>BC</th>\n",
       "      <td>3.75466946422875e-7</td>\n",
       "      <td>3.75466946422875e-7</td>\n",
       "    </tr>\n",
       "    <tr>\n",
       "      <th>DE</th>\n",
       "      <td>-2.20237894588138e-7</td>\n",
       "      <td>-2.20237894588138e-7</td>\n",
       "    </tr>\n",
       "    <tr>\n",
       "      <th>EF</th>\n",
       "      <td>-1.52798038666191e-6</td>\n",
       "      <td>-1.52798038666191e-6</td>\n",
       "    </tr>\n",
       "    <tr>\n",
       "      <th>BE</th>\n",
       "      <td>3.23684223868526e-7</td>\n",
       "      <td>-2.79100675903976e-7</td>\n",
       "    </tr>\n",
       "    <tr>\n",
       "      <th>CF</th>\n",
       "      <td>2.57897703193066e-7</td>\n",
       "      <td>-2.41594921845945e-7</td>\n",
       "    </tr>\n",
       "  </tbody>\n",
       "</table>\n",
       "</div>"
      ],
      "text/plain": [
       "                      FYJ                    FYK\n",
       "ID                                              \n",
       "AB  -0.000353904629113444  -0.000353904629113444\n",
       "BC    3.75466946422875e-7    3.75466946422875e-7\n",
       "DE   -2.20237894588138e-7   -2.20237894588138e-7\n",
       "EF   -1.52798038666191e-6   -1.52798038666191e-6\n",
       "BE    3.23684223868526e-7   -2.79100675903976e-7\n",
       "CF    2.57897703193066e-7   -2.41594921845945e-7"
      ]
     },
     "execution_count": 25,
     "metadata": {},
     "output_type": "execute_result"
    }
   ],
   "source": [
    "vdiff = 100*(1-mevs/mevs2)\n",
    "vdiff"
   ]
  },
  {
   "cell_type": "code",
   "execution_count": 26,
   "metadata": {},
   "outputs": [
    {
     "data": {
      "text/plain": [
       "FYJ    0.000354\n",
       "FYK    0.000354\n",
       "dtype: float64"
      ]
     },
     "execution_count": 26,
     "metadata": {},
     "output_type": "execute_result"
    }
   ],
   "source": [
    "vdiff.abs().max()"
   ]
  },
  {
   "cell_type": "markdown",
   "metadata": {},
   "source": [
    "The maximum difference is about 0.00004% which is high, but end shears on column AB are very small."
   ]
  },
  {
   "cell_type": "markdown",
   "metadata": {},
   "source": [
    "### Compare Displacements"
   ]
  },
  {
   "cell_type": "code",
   "execution_count": 27,
   "metadata": {},
   "outputs": [
    {
     "data": {
      "text/html": [
       "<div>\n",
       "<style scoped>\n",
       "    .dataframe tbody tr th:only-of-type {\n",
       "        vertical-align: middle;\n",
       "    }\n",
       "\n",
       "    .dataframe tbody tr th {\n",
       "        vertical-align: top;\n",
       "    }\n",
       "\n",
       "    .dataframe thead th {\n",
       "        text-align: right;\n",
       "    }\n",
       "</style>\n",
       "<table border=\"1\" class=\"dataframe\">\n",
       "  <thead>\n",
       "    <tr style=\"text-align: right;\">\n",
       "      <th></th>\n",
       "      <th>DX</th>\n",
       "      <th>RZ</th>\n",
       "    </tr>\n",
       "    <tr>\n",
       "      <th>ID</th>\n",
       "      <th></th>\n",
       "      <th></th>\n",
       "    </tr>\n",
       "  </thead>\n",
       "  <tbody>\n",
       "    <tr>\n",
       "      <th>B</th>\n",
       "      <td>23.3628188885579</td>\n",
       "      <td>0.00712966246666336</td>\n",
       "    </tr>\n",
       "    <tr>\n",
       "      <th>C</th>\n",
       "      <td>34.3068306465552</td>\n",
       "      <td>0.00722695283139248</td>\n",
       "    </tr>\n",
       "  </tbody>\n",
       "</table>\n",
       "</div>"
      ],
      "text/plain": [
       "                  DX                   RZ\n",
       "ID                                       \n",
       "B   23.3628188885579  0.00712966246666336\n",
       "C   34.3068306465552  0.00722695283139248"
      ]
     },
     "execution_count": 27,
     "metadata": {},
     "output_type": "execute_result"
    }
   ],
   "source": [
    "deltw = pd.DataFrame([('B', soln[Delta_b], soln[theta_b]),\n",
    "                      ('C', soln[Delta_c], soln[theta_c])],columns=['ID','DX','RZ']).set_index('ID')\n",
    "deltw"
   ]
  },
  {
   "cell_type": "code",
   "execution_count": 28,
   "metadata": {},
   "outputs": [
    {
     "data": {
      "text/html": [
       "<div>\n",
       "<style scoped>\n",
       "    .dataframe tbody tr th:only-of-type {\n",
       "        vertical-align: middle;\n",
       "    }\n",
       "\n",
       "    .dataframe tbody tr th {\n",
       "        vertical-align: top;\n",
       "    }\n",
       "\n",
       "    .dataframe thead th {\n",
       "        text-align: right;\n",
       "    }\n",
       "</style>\n",
       "<table border=\"1\" class=\"dataframe\">\n",
       "  <thead>\n",
       "    <tr style=\"text-align: right;\">\n",
       "      <th></th>\n",
       "      <th>DX</th>\n",
       "      <th>RZ</th>\n",
       "    </tr>\n",
       "    <tr>\n",
       "      <th>ID</th>\n",
       "      <th></th>\n",
       "      <th></th>\n",
       "    </tr>\n",
       "  </thead>\n",
       "  <tbody>\n",
       "    <tr>\n",
       "      <th>B</th>\n",
       "      <td>23.362818</td>\n",
       "      <td>0.007130</td>\n",
       "    </tr>\n",
       "    <tr>\n",
       "      <th>C</th>\n",
       "      <td>34.306830</td>\n",
       "      <td>0.007227</td>\n",
       "    </tr>\n",
       "  </tbody>\n",
       "</table>\n",
       "</div>"
      ],
      "text/plain": [
       "           DX        RZ\n",
       "ID                     \n",
       "B   23.362818  0.007130\n",
       "C   34.306830  0.007227"
      ]
     },
     "execution_count": 28,
     "metadata": {},
     "output_type": "execute_result"
    }
   ],
   "source": [
    "disp = pd.read_csv(dd+'/node_displacements.csv').set_index('NODEID').loc[deltw.index][['DX','RZ']]\n",
    "disp['RZ'] *= -1\n",
    "disp"
   ]
  },
  {
   "cell_type": "code",
   "execution_count": 29,
   "metadata": {},
   "outputs": [
    {
     "data": {
      "text/html": [
       "<div>\n",
       "<style scoped>\n",
       "    .dataframe tbody tr th:only-of-type {\n",
       "        vertical-align: middle;\n",
       "    }\n",
       "\n",
       "    .dataframe tbody tr th {\n",
       "        vertical-align: top;\n",
       "    }\n",
       "\n",
       "    .dataframe thead th {\n",
       "        text-align: right;\n",
       "    }\n",
       "</style>\n",
       "<table border=\"1\" class=\"dataframe\">\n",
       "  <thead>\n",
       "    <tr style=\"text-align: right;\">\n",
       "      <th></th>\n",
       "      <th>DX</th>\n",
       "      <th>RZ</th>\n",
       "    </tr>\n",
       "    <tr>\n",
       "      <th>ID</th>\n",
       "      <th></th>\n",
       "      <th></th>\n",
       "    </tr>\n",
       "  </thead>\n",
       "  <tbody>\n",
       "    <tr>\n",
       "      <th>B</th>\n",
       "      <td>-3.52157611960280e-6</td>\n",
       "      <td>-6.27118601492782e-7</td>\n",
       "    </tr>\n",
       "    <tr>\n",
       "      <th>C</th>\n",
       "      <td>-2.71776707805316e-6</td>\n",
       "      <td>6.06124439528344e-7</td>\n",
       "    </tr>\n",
       "  </tbody>\n",
       "</table>\n",
       "</div>"
      ],
      "text/plain": [
       "                      DX                    RZ\n",
       "ID                                            \n",
       "B   -3.52157611960280e-6  -6.27118601492782e-7\n",
       "C   -2.71776707805316e-6   6.06124439528344e-7"
      ]
     },
     "execution_count": 29,
     "metadata": {},
     "output_type": "execute_result"
    }
   ],
   "source": [
    "diffd = (100*(1-deltw/disp))\n",
    "diffd"
   ]
  },
  {
   "cell_type": "code",
   "execution_count": 30,
   "metadata": {},
   "outputs": [
    {
     "data": {
      "text/plain": [
       "DX    3.521576e-06\n",
       "RZ    6.271186e-07\n",
       "dtype: float64"
      ]
     },
     "execution_count": 30,
     "metadata": {},
     "output_type": "execute_result"
    }
   ],
   "source": [
    "diffd.abs().max()"
   ]
  },
  {
   "cell_type": "markdown",
   "metadata": {},
   "source": [
    "Max difference in displacement is 0.000006%.\n",
    "\n",
    "Note that the matrix method solution was accomplished by setting A very high in order to minimize\n",
    "effects of axial deformation.  But there is a limit to how high this can be set, due to numerical\n",
    "instability in equation solving (probably).  Setting $A=10^{10}$ seems to be about as high as is possible - larger values lead to worse results."
   ]
  },
  {
   "cell_type": "code",
   "execution_count": null,
   "metadata": {
    "collapsed": true
   },
   "outputs": [],
   "source": []
  }
 ],
 "metadata": {
  "kernelspec": {
   "display_name": "Python 3",
   "language": "python",
   "name": "python3"
  },
  "language_info": {
   "codemirror_mode": {
    "name": "ipython",
    "version": 3
   },
   "file_extension": ".py",
   "mimetype": "text/x-python",
   "name": "python",
   "nbconvert_exporter": "python",
   "pygments_lexer": "ipython3",
   "version": "3.6.7"
  },
  "widgets": {
   "state": {},
   "version": "1.1.1"
  }
 },
 "nbformat": 4,
 "nbformat_minor": 2
}
