{
 "cells": [
  {
   "cell_type": "markdown",
   "metadata": {},
   "source": [
    "## Kulak & Grondin - Example 8.2\n",
    "This solves a close approximation to the first-order example of Kulak and Grondin.  The major\n",
    "differences are:\n",
    "* the lateral resistance of the outside column stacks are ignored; only the central rigid frame is included.\n",
    "* this method does not account for axial changes of length in any of the members.\n",
    "The results obtained here are \n",
    "compared with those obtained via a [first-order matrix analysis](../matrix-methods/frame2d/example-KG82sd.ipynb),\n",
    "and found to agree to about 6 significant figures.\n",
    "\n",
    "![Sign Conventions and Modified Frame](KG-8.2sd.svg)\n",
    "\n",
    "### Solve for joint rotations and storey translations using slope-deflection"
   ]
  },
  {
   "cell_type": "code",
   "execution_count": 1,
   "metadata": {
    "collapsed": false
   },
   "outputs": [],
   "source": [
    "import sympy as sy                  # use symbolic algebra\n",
    "sy.init_printing()                  # print pretty math\n",
    "from sdutil2 import SD, FEF         # slope-deflection library"
   ]
  },
  {
   "cell_type": "code",
   "execution_count": 2,
   "metadata": {
    "collapsed": false
   },
   "outputs": [
    {
     "data": {
      "image/png": "[encoded data removed]",
      "text/latex": [
       "$$\\left ( \\theta_{a}, \\quad \\theta_{b}, \\quad \\theta_{c}, \\quad \\theta_{d}, \\quad \\theta_{e}, \\quad \\theta_{f}, \\quad \\Delta_{b}, \\quad \\Delta_{c}\\right )$$"
      ],
      "text/plain": [
       "(θₐ, θ_b, θ_c, θ_d, θₑ, θ_f, Δ_b, Δ_c)"
      ]
     },
     "execution_count": 2,
     "metadata": {},
     "output_type": "execute_result"
    }
   ],
   "source": [
    "sy.var('theta_a theta_b theta_c theta_d theta_e theta_f Delta_b Delta_c')"
   ]
  },
  {
   "cell_type": "code",
   "execution_count": 3,
   "metadata": {
    "collapsed": true
   },
   "outputs": [],
   "source": [
    "E = 200000\n",
    "Ic = 222E6   # W310x97\n",
    "Ib = 488E6   # W460x106\n",
    "Hf = 21900   # Horizontal load at F\n",
    "He = 43400   # Horizontal load at E\n",
    "\n",
    "Lab = 6500   # Length of column\n",
    "Lbc = 5500   # Length of column\n",
    "Lbe = 10500  # Length of beam"
   ]
  },
  {
   "cell_type": "code",
   "execution_count": 4,
   "metadata": {
    "collapsed": true
   },
   "outputs": [],
   "source": [
    "Mab,Mba,Vab,Vba = SD(Lab,E*Ic,theta_a,theta_b,Delta_b)             # column A-B-C\n",
    "Mbc,Mcb,Vbc,Vcb = SD(Lbc,E*Ic,theta_b,theta_c,Delta_c-Delta_b)\n",
    "\n",
    "Mde,Med,Vde,Ved = SD(Lab,E*Ic,theta_d,theta_e,Delta_b)             # column D-E-F\n",
    "Mef,Mfe,Vef,Vfe = SD(Lbc,E*Ic,theta_e,theta_f,Delta_c-Delta_b)\n",
    "\n",
    "Mbe,Meb,Vbe,Veb = SD(Lbe,E*Ib,theta_b,theta_e) + FEF.udl(Lbe,55)   # beams BE and CF\n",
    "Mcf,Mfc,Vcf,Vfc = SD(Lbe,E*Ib,theta_c,theta_f) + FEF.udl(Lbe,45)"
   ]
  },
  {
   "cell_type": "code",
   "execution_count": 5,
   "metadata": {
    "collapsed": false
   },
   "outputs": [],
   "source": [
    "eqns = [ Mba+Mbe+Mbc,      # sum of moments at B = 0\n",
    "         Mcb+Mcf,          # sum of moments at C = 0\n",
    "         Med+Meb+Mef,      # sum of moments at E = 0\n",
    "         Mfe+Mfc,          # sum of moments at F = 0\n",
    "         -Vab-Vde+Hf+He,   # sum of Fx @ base of storey 1 = 0\n",
    "         -Vbc-Vef+Hf,      # sum of Fx @ base of storey 2 = 0\n",
    "         theta_a,          # fixed support at A, rotation = 0\n",
    "         theta_d]          # fixed support at F, rotation = 0"
   ]
  },
  {
   "cell_type": "code",
   "execution_count": 6,
   "metadata": {
    "collapsed": false
   },
   "outputs": [
    {
     "data": {
      "image/png": "[encoded data removed]",
      "text/latex": [
       "$$\\left \\{ \\Delta_{b} : 23.3628188885579, \\quad \\Delta_{c} : 34.3068306465552, \\quad \\theta_{a} : 0.0, \\quad \\theta_{b} : 0.00712966246666336, \\quad \\theta_{c} : 0.00722695283139248, \\quad \\theta_{d} : 0.0, \\quad \\theta_{e} : -0.00310886822570279, \\quad \\theta_{f} : -0.00577523381182757\\right \\}$$"
      ],
      "text/plain": [
       "{Δ_b: 23.3628188885579, Δ_c: 34.3068306465552, θₐ: 0.0, θ_b: 0.007129662466663\n",
       "36, θ_c: 0.00722695283139248, θ_d: 0.0, θₑ: -0.00310886822570279, θ_f: -0.0057\n",
       "7523381182757}"
      ]
     },
     "execution_count": 6,
     "metadata": {},
     "output_type": "execute_result"
    }
   ],
   "source": [
    "soln = sy.solve(eqns)\n",
    "soln"
   ]
  },
  {
   "cell_type": "markdown",
   "metadata": {},
   "source": [
    "### Determine end moments and shears\n",
    "\n",
    "#### Demonstrate how to access and convert one end moment:"
   ]
  },
  {
   "cell_type": "code",
   "execution_count": 7,
   "metadata": {
    "collapsed": false
   },
   "outputs": [
    {
     "data": {
      "image/png": "[encoded data removed]",
      "text/latex": [
       "$$- 6305325.44378698 \\Delta_{b} + 27323076923.0769 \\theta_{a} + 13661538461.5385 \\theta_{b}$$"
      ],
      "text/plain": [
       "--6305325.44378698⋅(-1)⋅Δ_b + 27323076923.0769⋅θₐ + 13661538461.5385⋅θ_b"
      ]
     },
     "execution_count": 7,
     "metadata": {},
     "output_type": "execute_result"
    }
   ],
   "source": [
    "Mab"
   ]
  },
  {
   "cell_type": "code",
   "execution_count": 8,
   "metadata": {
    "collapsed": false
   },
   "outputs": [
    {
     "data": {
      "image/png": "[encoded data removed]",
      "text/latex": [
       "$$- 6305325.44378698 \\Delta_{b} + 27323076923.0769 \\theta_{a} + 13661538461.5385 \\theta_{b}$$"
      ],
      "text/plain": [
       "--6305325.44378698⋅(-1)⋅Δ_b + 27323076923.0769⋅θₐ + 13661538461.5385⋅θ_b"
      ]
     },
     "execution_count": 8,
     "metadata": {},
     "output_type": "execute_result"
    }
   ],
   "source": [
    "V = globals()   # another way to access global variables\n",
    "V['Mab']"
   ]
  },
  {
   "cell_type": "code",
   "execution_count": 9,
   "metadata": {
    "collapsed": false
   },
   "outputs": [
    {
     "data": {
      "text/plain": [
       "True"
      ]
     },
     "execution_count": 9,
     "metadata": {},
     "output_type": "execute_result"
    }
   ],
   "source": [
    "Mab is V['Mab']"
   ]
  },
  {
   "cell_type": "code",
   "execution_count": 10,
   "metadata": {
    "collapsed": false
   },
   "outputs": [
    {
     "data": {
      "image/png": "[encoded data removed]",
      "text/latex": [
       "$$-49908018.3705027$$"
      ],
      "text/plain": [
       "-49908018.3705027"
      ]
     },
     "execution_count": 10,
     "metadata": {},
     "output_type": "execute_result"
    }
   ],
   "source": [
    "V['Mab'].subs(soln).n()"
   ]
  },
  {
   "cell_type": "markdown",
   "metadata": {},
   "source": [
    "#### Determine end moments by back substitution:"
   ]
  },
  {
   "cell_type": "code",
   "execution_count": 11,
   "metadata": {
    "collapsed": false
   },
   "outputs": [
    {
     "data": {
      "text/plain": [
       "[('AB', -49.9080183705027, 47.4941396356060),\n",
       " ('BC', 250.526060428376, 252.096857589821),\n",
       " ('DE', -189.782099213905, -232.254022051198),\n",
       " ('EF', -290.011616822927, -333.061301195269),\n",
       " ('BE', -298.020200063982, 522.265638874126),\n",
       " ('CF', -252.096857589821, 333.061301195269)]"
      ]
     },
     "execution_count": 11,
     "metadata": {},
     "output_type": "execute_result"
    }
   ],
   "source": [
    "# collect the end moments in all 6 members\n",
    "allm = []\n",
    "V = globals()\n",
    "for m in 'ab,bc,de,ef,be,cf'.split(','):\n",
    "    mj = V['M'+m].subs(soln).n()*1E-6          # Mxy\n",
    "    mk = V['M'+m[::-1]].subs(soln).n()*1E-6    # Myx\n",
    "    allm.append((m.upper(),mj,mk))\n",
    "allm"
   ]
  },
  {
   "cell_type": "code",
   "execution_count": 12,
   "metadata": {
    "collapsed": false
   },
   "outputs": [
    {
     "data": {
      "text/plain": [
       "[('AB', -49.9, 47.5),\n",
       " ('BC', 250.5, 252.1),\n",
       " ('DE', -189.8, -232.3),\n",
       " ('EF', -290.0, -333.1),\n",
       " ('BE', -298.0, 522.3),\n",
       " ('CF', -252.1, 333.1)]"
      ]
     },
     "execution_count": 12,
     "metadata": {},
     "output_type": "execute_result"
    }
   ],
   "source": [
    "[(m,round(a,1),round(b,1)) for m,a,b in allm]  # display to one decimal place"
   ]
  },
  {
   "cell_type": "markdown",
   "metadata": {},
   "source": [
    "#### Determine end shears by back substitution:"
   ]
  },
  {
   "cell_type": "code",
   "execution_count": 13,
   "metadata": {
    "collapsed": false
   },
   "outputs": [
    {
     "data": {
      "text/plain": [
       "[('AB', 0.371365959214883, 0.371365959214883),\n",
       " ('BC', -91.3859850942176, -91.3859850942176),\n",
       " ('DE', 64.9286340407851, 64.9286340407851),\n",
       " ('EF', 113.285985094218, 113.285985094218),\n",
       " ('BE', 267.393291541891, -310.106708458109),\n",
       " ('CF', 228.539100609005, -243.960899390995)]"
      ]
     },
     "execution_count": 13,
     "metadata": {},
     "output_type": "execute_result"
    }
   ],
   "source": [
    "# collect the end shears in all 6 members\n",
    "allv = []\n",
    "V = globals()\n",
    "for m in 'ab,bc,de,ef,be,cf'.split(','):\n",
    "    mj = V['V'+m].subs(soln).n()*1E-3          # Mxy\n",
    "    mk = V['V'+m[::-1]].subs(soln).n()*1E-3    # Myx\n",
    "    allv.append((m.upper(),mj,mk))\n",
    "allv"
   ]
  },
  {
   "cell_type": "code",
   "execution_count": 14,
   "metadata": {
    "collapsed": false
   },
   "outputs": [
    {
     "data": {
      "text/plain": [
       "[('AB', 0.4, 0.4),\n",
       " ('BC', -91.4, -91.4),\n",
       " ('DE', 64.9, 64.9),\n",
       " ('EF', 113.3, 113.3),\n",
       " ('BE', 267.4, -310.1),\n",
       " ('CF', 228.5, -244.0)]"
      ]
     },
     "execution_count": 14,
     "metadata": {},
     "output_type": "execute_result"
    }
   ],
   "source": [
    "[(m,round(a,1),round(b,1)) for m,a,b in allv]   # display to one decimal place"
   ]
  },
  {
   "cell_type": "markdown",
   "metadata": {},
   "source": [
    "### Now compare to matrix method solution (Frame2D):"
   ]
  },
  {
   "cell_type": "code",
   "execution_count": 15,
   "metadata": {
    "collapsed": true
   },
   "outputs": [],
   "source": [
    "import pandas as pd\n",
    "\n",
    "dd = '../matrix-methods/frame2d/KG82sd.d'   # location of mm solution"
   ]
  },
  {
   "cell_type": "markdown",
   "metadata": {},
   "source": [
    "### Compare Moments:\n",
    "#### Convert current member end moments solution to tabular form:"
   ]
  },
  {
   "cell_type": "code",
   "execution_count": 16,
   "metadata": {
    "collapsed": false
   },
   "outputs": [
    {
     "data": {
      "text/html": [
       "<div>\n",
       "<table border=\"1\" class=\"dataframe\">\n",
       "  <thead>\n",
       "    <tr style=\"text-align: right;\">\n",
       "      <th></th>\n",
       "      <th>MZJ</th>\n",
       "      <th>MZK</th>\n",
       "    </tr>\n",
       "    <tr>\n",
       "      <th>ID</th>\n",
       "      <th></th>\n",
       "      <th></th>\n",
       "    </tr>\n",
       "  </thead>\n",
       "  <tbody>\n",
       "    <tr>\n",
       "      <th>AB</th>\n",
       "      <td>-49.9080183705027</td>\n",
       "      <td>47.4941396356060</td>\n",
       "    </tr>\n",
       "    <tr>\n",
       "      <th>BC</th>\n",
       "      <td>250.526060428376</td>\n",
       "      <td>252.096857589821</td>\n",
       "    </tr>\n",
       "    <tr>\n",
       "      <th>DE</th>\n",
       "      <td>-189.782099213905</td>\n",
       "      <td>-232.254022051198</td>\n",
       "    </tr>\n",
       "    <tr>\n",
       "      <th>EF</th>\n",
       "      <td>-290.011616822927</td>\n",
       "      <td>-333.061301195269</td>\n",
       "    </tr>\n",
       "    <tr>\n",
       "      <th>BE</th>\n",
       "      <td>-298.020200063982</td>\n",
       "      <td>522.265638874126</td>\n",
       "    </tr>\n",
       "    <tr>\n",
       "      <th>CF</th>\n",
       "      <td>-252.096857589821</td>\n",
       "      <td>333.061301195269</td>\n",
       "    </tr>\n",
       "  </tbody>\n",
       "</table>\n",
       "</div>"
      ],
      "text/plain": [
       "                  MZJ                MZK\n",
       "ID                                      \n",
       "AB  -49.9080183705027   47.4941396356060\n",
       "BC   250.526060428376   252.096857589821\n",
       "DE  -189.782099213905  -232.254022051198\n",
       "EF  -290.011616822927  -333.061301195269\n",
       "BE  -298.020200063982   522.265638874126\n",
       "CF  -252.096857589821   333.061301195269"
      ]
     },
     "execution_count": 16,
     "metadata": {},
     "output_type": "execute_result"
    }
   ],
   "source": [
    "mems = pd.DataFrame(allm,columns=['ID','MZJ','MZK']).set_index('ID')\n",
    "mems"
   ]
  },
  {
   "cell_type": "markdown",
   "metadata": {},
   "source": [
    "#### Fetch solution from Frame2D:"
   ]
  },
  {
   "cell_type": "code",
   "execution_count": 17,
   "metadata": {
    "collapsed": false
   },
   "outputs": [
    {
     "data": {
      "text/html": [
       "<div>\n",
       "<table border=\"1\" class=\"dataframe\">\n",
       "  <thead>\n",
       "    <tr style=\"text-align: right;\">\n",
       "      <th></th>\n",
       "      <th>MZJ</th>\n",
       "      <th>MZK</th>\n",
       "    </tr>\n",
       "    <tr>\n",
       "      <th>ID</th>\n",
       "      <th></th>\n",
       "      <th></th>\n",
       "    </tr>\n",
       "  </thead>\n",
       "  <tbody>\n",
       "    <tr>\n",
       "      <th>AB</th>\n",
       "      <td>-49.908018</td>\n",
       "      <td>47.494140</td>\n",
       "    </tr>\n",
       "    <tr>\n",
       "      <th>BC</th>\n",
       "      <td>250.526060</td>\n",
       "      <td>252.096857</td>\n",
       "    </tr>\n",
       "    <tr>\n",
       "      <th>DE</th>\n",
       "      <td>-189.782103</td>\n",
       "      <td>-232.254025</td>\n",
       "    </tr>\n",
       "    <tr>\n",
       "      <th>EF</th>\n",
       "      <td>-290.011613</td>\n",
       "      <td>-333.061298</td>\n",
       "    </tr>\n",
       "    <tr>\n",
       "      <th>BE</th>\n",
       "      <td>-298.020200</td>\n",
       "      <td>522.265638</td>\n",
       "    </tr>\n",
       "    <tr>\n",
       "      <th>CF</th>\n",
       "      <td>-252.096857</td>\n",
       "      <td>333.061298</td>\n",
       "    </tr>\n",
       "  </tbody>\n",
       "</table>\n",
       "</div>"
      ],
      "text/plain": [
       "           MZJ         MZK\n",
       "ID                        \n",
       "AB  -49.908018   47.494140\n",
       "BC  250.526060  252.096857\n",
       "DE -189.782103 -232.254025\n",
       "EF -290.011613 -333.061298\n",
       "BE -298.020200  522.265638\n",
       "CF -252.096857  333.061298"
      ]
     },
     "execution_count": 17,
     "metadata": {},
     "output_type": "execute_result"
    }
   ],
   "source": [
    "mefs = pd.read_csv(dd+'/mefs.csv').set_index('ID').ix[mems.index]\n",
    "mems2 = mefs[['MZJ','MZK']] * -1E-6    # convert sign and to kN-m\n",
    "mems2"
   ]
  },
  {
   "cell_type": "markdown",
   "metadata": {},
   "source": [
    "#### Compare member end moments in the two solutions:"
   ]
  },
  {
   "cell_type": "code",
   "execution_count": 18,
   "metadata": {
    "collapsed": false
   },
   "outputs": [
    {
     "data": {
      "text/html": [
       "<div>\n",
       "<table border=\"1\" class=\"dataframe\">\n",
       "  <thead>\n",
       "    <tr style=\"text-align: right;\">\n",
       "      <th></th>\n",
       "      <th>MZJ</th>\n",
       "      <th>MZK</th>\n",
       "    </tr>\n",
       "    <tr>\n",
       "      <th>ID</th>\n",
       "      <th></th>\n",
       "      <th></th>\n",
       "    </tr>\n",
       "  </thead>\n",
       "  <tbody>\n",
       "    <tr>\n",
       "      <th>AB</th>\n",
       "      <td>-4.83895634673104e-7</td>\n",
       "      <td>1.46269419909473e-6</td>\n",
       "    </tr>\n",
       "    <tr>\n",
       "      <th>BC</th>\n",
       "      <td>-3.36642069775905e-7</td>\n",
       "      <td>-5.90332227545787e-8</td>\n",
       "    </tr>\n",
       "    <tr>\n",
       "      <th>DE</th>\n",
       "      <td>1.74362864147071e-6</td>\n",
       "      <td>1.45048144606363e-6</td>\n",
       "    </tr>\n",
       "    <tr>\n",
       "      <th>EF</th>\n",
       "      <td>-1.35095539199881e-6</td>\n",
       "      <td>-8.17648082573896e-7</td>\n",
       "    </tr>\n",
       "    <tr>\n",
       "      <th>BE</th>\n",
       "      <td>-4.99905228323883e-8</td>\n",
       "      <td>-1.05142983208850e-7</td>\n",
       "    </tr>\n",
       "    <tr>\n",
       "      <th>CF</th>\n",
       "      <td>-5.90331783456577e-8</td>\n",
       "      <td>-8.17648082573896e-7</td>\n",
       "    </tr>\n",
       "  </tbody>\n",
       "</table>\n",
       "</div>"
      ],
      "text/plain": [
       "                     MZJ                   MZK\n",
       "ID                                            \n",
       "AB  -4.83895634673104e-7   1.46269419909473e-6\n",
       "BC  -3.36642069775905e-7  -5.90332227545787e-8\n",
       "DE   1.74362864147071e-6   1.45048144606363e-6\n",
       "EF  -1.35095539199881e-6  -8.17648082573896e-7\n",
       "BE  -4.99905228323883e-8  -1.05142983208850e-7\n",
       "CF  -5.90331783456577e-8  -8.17648082573896e-7"
      ]
     },
     "execution_count": 18,
     "metadata": {},
     "output_type": "execute_result"
    }
   ],
   "source": [
    "mdiff = (100*(1-mems/mems2))   # calculate % diff\n",
    "mdiff"
   ]
  },
  {
   "cell_type": "code",
   "execution_count": 19,
   "metadata": {
    "collapsed": false
   },
   "outputs": [
    {
     "data": {
      "text/plain": [
       "MZJ    0.000002\n",
       "MZK    0.000001\n",
       "dtype: float64"
      ]
     },
     "execution_count": 19,
     "metadata": {},
     "output_type": "execute_result"
    }
   ],
   "source": [
    "mdiff.abs().max()"
   ]
  },
  {
   "cell_type": "markdown",
   "metadata": {},
   "source": [
    "The maximum difference in member end moments is 0.000002% (about 7 or 8 sig figs)."
   ]
  },
  {
   "cell_type": "markdown",
   "metadata": {},
   "source": [
    "### Compare Shears:\n",
    "\n",
    "#### Convert our end shears to tabular form:"
   ]
  },
  {
   "cell_type": "code",
   "execution_count": 20,
   "metadata": {
    "collapsed": false
   },
   "outputs": [
    {
     "data": {
      "text/html": [
       "<div>\n",
       "<table border=\"1\" class=\"dataframe\">\n",
       "  <thead>\n",
       "    <tr style=\"text-align: right;\">\n",
       "      <th></th>\n",
       "      <th>FYJ</th>\n",
       "      <th>FYK</th>\n",
       "    </tr>\n",
       "    <tr>\n",
       "      <th>ID</th>\n",
       "      <th></th>\n",
       "      <th></th>\n",
       "    </tr>\n",
       "  </thead>\n",
       "  <tbody>\n",
       "    <tr>\n",
       "      <th>AB</th>\n",
       "      <td>0.371365959214883</td>\n",
       "      <td>0.371365959214883</td>\n",
       "    </tr>\n",
       "    <tr>\n",
       "      <th>BC</th>\n",
       "      <td>-91.3859850942176</td>\n",
       "      <td>-91.3859850942176</td>\n",
       "    </tr>\n",
       "    <tr>\n",
       "      <th>DE</th>\n",
       "      <td>64.9286340407851</td>\n",
       "      <td>64.9286340407851</td>\n",
       "    </tr>\n",
       "    <tr>\n",
       "      <th>EF</th>\n",
       "      <td>113.285985094218</td>\n",
       "      <td>113.285985094218</td>\n",
       "    </tr>\n",
       "    <tr>\n",
       "      <th>BE</th>\n",
       "      <td>267.393291541891</td>\n",
       "      <td>-310.106708458109</td>\n",
       "    </tr>\n",
       "    <tr>\n",
       "      <th>CF</th>\n",
       "      <td>228.539100609005</td>\n",
       "      <td>-243.960899390995</td>\n",
       "    </tr>\n",
       "  </tbody>\n",
       "</table>\n",
       "</div>"
      ],
      "text/plain": [
       "                  FYJ                FYK\n",
       "ID                                      \n",
       "AB  0.371365959214883  0.371365959214883\n",
       "BC  -91.3859850942176  -91.3859850942176\n",
       "DE   64.9286340407851   64.9286340407851\n",
       "EF   113.285985094218   113.285985094218\n",
       "BE   267.393291541891  -310.106708458109\n",
       "CF   228.539100609005  -243.960899390995"
      ]
     },
     "execution_count": 20,
     "metadata": {},
     "output_type": "execute_result"
    }
   ],
   "source": [
    "mevs = pd.DataFrame(allv,columns=['ID','FYJ','FYK']).set_index('ID')\n",
    "mevs"
   ]
  },
  {
   "cell_type": "markdown",
   "metadata": {},
   "source": [
    "#### Extract the end shears from Frame2D results:"
   ]
  },
  {
   "cell_type": "code",
   "execution_count": 21,
   "metadata": {
    "collapsed": false
   },
   "outputs": [
    {
     "data": {
      "text/html": [
       "<div>\n",
       "<table border=\"1\" class=\"dataframe\">\n",
       "  <thead>\n",
       "    <tr style=\"text-align: right;\">\n",
       "      <th></th>\n",
       "      <th>FYJ</th>\n",
       "      <th>FYK</th>\n",
       "    </tr>\n",
       "    <tr>\n",
       "      <th>ID</th>\n",
       "      <th></th>\n",
       "      <th></th>\n",
       "    </tr>\n",
       "  </thead>\n",
       "  <tbody>\n",
       "    <tr>\n",
       "      <th>AB</th>\n",
       "      <td>0.371366</td>\n",
       "      <td>0.371366</td>\n",
       "    </tr>\n",
       "    <tr>\n",
       "      <th>BC</th>\n",
       "      <td>-91.385985</td>\n",
       "      <td>-91.385985</td>\n",
       "    </tr>\n",
       "    <tr>\n",
       "      <th>DE</th>\n",
       "      <td>64.928635</td>\n",
       "      <td>64.928635</td>\n",
       "    </tr>\n",
       "    <tr>\n",
       "      <th>EF</th>\n",
       "      <td>113.285984</td>\n",
       "      <td>113.285984</td>\n",
       "    </tr>\n",
       "    <tr>\n",
       "      <th>BE</th>\n",
       "      <td>267.393292</td>\n",
       "      <td>-310.106708</td>\n",
       "    </tr>\n",
       "    <tr>\n",
       "      <th>CF</th>\n",
       "      <td>228.539101</td>\n",
       "      <td>-243.960899</td>\n",
       "    </tr>\n",
       "  </tbody>\n",
       "</table>\n",
       "</div>"
      ],
      "text/plain": [
       "           FYJ         FYK\n",
       "ID                        \n",
       "AB    0.371366    0.371366\n",
       "BC  -91.385985  -91.385985\n",
       "DE   64.928635   64.928635\n",
       "EF  113.285984  113.285984\n",
       "BE  267.393292 -310.106708\n",
       "CF  228.539101 -243.960899"
      ]
     },
     "execution_count": 21,
     "metadata": {},
     "output_type": "execute_result"
    }
   ],
   "source": [
    "mevs2 = mefs[['FYJ','FYK']] * 1E-3\n",
    "mevs2[['FYK']] *= -1    # change sign on end k\n",
    "mevs2"
   ]
  },
  {
   "cell_type": "markdown",
   "metadata": {},
   "source": [
    "#### Compare end shears in the two results:"
   ]
  },
  {
   "cell_type": "code",
   "execution_count": 22,
   "metadata": {
    "collapsed": false
   },
   "outputs": [
    {
     "data": {
      "text/html": [
       "<div>\n",
       "<table border=\"1\" class=\"dataframe\">\n",
       "  <thead>\n",
       "    <tr style=\"text-align: right;\">\n",
       "      <th></th>\n",
       "      <th>FYJ</th>\n",
       "      <th>FYK</th>\n",
       "    </tr>\n",
       "    <tr>\n",
       "      <th>ID</th>\n",
       "      <th></th>\n",
       "      <th></th>\n",
       "    </tr>\n",
       "  </thead>\n",
       "  <tbody>\n",
       "    <tr>\n",
       "      <th>AB</th>\n",
       "      <td>-3.87803285706312e-5</td>\n",
       "      <td>-3.87803285706312e-5</td>\n",
       "    </tr>\n",
       "    <tr>\n",
       "      <th>BC</th>\n",
       "      <td>-1.97314298233664e-7</td>\n",
       "      <td>-1.97314298233664e-7</td>\n",
       "    </tr>\n",
       "    <tr>\n",
       "      <th>DE</th>\n",
       "      <td>1.58206752143286e-6</td>\n",
       "      <td>1.58206752143286e-6</td>\n",
       "    </tr>\n",
       "    <tr>\n",
       "      <th>EF</th>\n",
       "      <td>-1.06563722290787e-6</td>\n",
       "      <td>-1.06563722290787e-6</td>\n",
       "    </tr>\n",
       "    <tr>\n",
       "      <th>BE</th>\n",
       "      <td>1.42520106827249e-8</td>\n",
       "      <td>-1.22889920461944e-8</td>\n",
       "    </tr>\n",
       "    <tr>\n",
       "      <th>CF</th>\n",
       "      <td>1.07200526233697e-7</td>\n",
       "      <td>-1.00423935833760e-7</td>\n",
       "    </tr>\n",
       "  </tbody>\n",
       "</table>\n",
       "</div>"
      ],
      "text/plain": [
       "                     FYJ                   FYK\n",
       "ID                                            \n",
       "AB  -3.87803285706312e-5  -3.87803285706312e-5\n",
       "BC  -1.97314298233664e-7  -1.97314298233664e-7\n",
       "DE   1.58206752143286e-6   1.58206752143286e-6\n",
       "EF  -1.06563722290787e-6  -1.06563722290787e-6\n",
       "BE   1.42520106827249e-8  -1.22889920461944e-8\n",
       "CF   1.07200526233697e-7  -1.00423935833760e-7"
      ]
     },
     "execution_count": 22,
     "metadata": {},
     "output_type": "execute_result"
    }
   ],
   "source": [
    "vdiff = 100*(1-mevs/mevs2)\n",
    "vdiff"
   ]
  },
  {
   "cell_type": "code",
   "execution_count": 23,
   "metadata": {
    "collapsed": false
   },
   "outputs": [
    {
     "data": {
      "text/plain": [
       "FYJ    0.000039\n",
       "FYK    0.000039\n",
       "dtype: float64"
      ]
     },
     "execution_count": 23,
     "metadata": {},
     "output_type": "execute_result"
    }
   ],
   "source": [
    "vdiff.abs().max()"
   ]
  },
  {
   "cell_type": "markdown",
   "metadata": {},
   "source": [
    "The maximum difference is about 0.00004% which is high, but end shears on column AB are very small."
   ]
  },
  {
   "cell_type": "markdown",
   "metadata": {},
   "source": [
    "### Compare Displacements"
   ]
  },
  {
   "cell_type": "code",
   "execution_count": 24,
   "metadata": {
    "collapsed": false
   },
   "outputs": [
    {
     "data": {
      "text/html": [
       "<div>\n",
       "<table border=\"1\" class=\"dataframe\">\n",
       "  <thead>\n",
       "    <tr style=\"text-align: right;\">\n",
       "      <th></th>\n",
       "      <th>DX</th>\n",
       "      <th>RZ</th>\n",
       "    </tr>\n",
       "    <tr>\n",
       "      <th>ID</th>\n",
       "      <th></th>\n",
       "      <th></th>\n",
       "    </tr>\n",
       "  </thead>\n",
       "  <tbody>\n",
       "    <tr>\n",
       "      <th>B</th>\n",
       "      <td>23.3628188885579</td>\n",
       "      <td>0.00712966246666336</td>\n",
       "    </tr>\n",
       "    <tr>\n",
       "      <th>C</th>\n",
       "      <td>34.3068306465552</td>\n",
       "      <td>0.00722695283139248</td>\n",
       "    </tr>\n",
       "  </tbody>\n",
       "</table>\n",
       "</div>"
      ],
      "text/plain": [
       "                  DX                   RZ\n",
       "ID                                       \n",
       "B   23.3628188885579  0.00712966246666336\n",
       "C   34.3068306465552  0.00722695283139248"
      ]
     },
     "execution_count": 24,
     "metadata": {},
     "output_type": "execute_result"
    }
   ],
   "source": [
    "deltw = pd.DataFrame([('B', soln[Delta_b], soln[theta_b]),\n",
    "                      ('C', soln[Delta_c], soln[theta_c])],columns=['ID','DX','RZ']).set_index('ID')\n",
    "deltw"
   ]
  },
  {
   "cell_type": "code",
   "execution_count": 25,
   "metadata": {
    "collapsed": false
   },
   "outputs": [
    {
     "data": {
      "text/html": [
       "<div>\n",
       "<table border=\"1\" class=\"dataframe\">\n",
       "  <thead>\n",
       "    <tr style=\"text-align: right;\">\n",
       "      <th></th>\n",
       "      <th>DX</th>\n",
       "      <th>RZ</th>\n",
       "    </tr>\n",
       "    <tr>\n",
       "      <th>ID</th>\n",
       "      <th></th>\n",
       "      <th></th>\n",
       "    </tr>\n",
       "  </thead>\n",
       "  <tbody>\n",
       "    <tr>\n",
       "      <th>B</th>\n",
       "      <td>23.362819</td>\n",
       "      <td>0.007130</td>\n",
       "    </tr>\n",
       "    <tr>\n",
       "      <th>C</th>\n",
       "      <td>34.306831</td>\n",
       "      <td>0.007227</td>\n",
       "    </tr>\n",
       "  </tbody>\n",
       "</table>\n",
       "</div>"
      ],
      "text/plain": [
       "           DX        RZ\n",
       "ID                     \n",
       "B   23.362819  0.007130\n",
       "C   34.306831  0.007227"
      ]
     },
     "execution_count": 25,
     "metadata": {},
     "output_type": "execute_result"
    }
   ],
   "source": [
    "disp = pd.read_csv(dd+'/displacements.csv').set_index('ID').ix[deltw.index][['DX','RZ']]\n",
    "disp['RZ'] *= -1\n",
    "disp"
   ]
  },
  {
   "cell_type": "code",
   "execution_count": 26,
   "metadata": {
    "collapsed": false
   },
   "outputs": [
    {
     "data": {
      "text/html": [
       "<div>\n",
       "<table border=\"1\" class=\"dataframe\">\n",
       "  <thead>\n",
       "    <tr style=\"text-align: right;\">\n",
       "      <th></th>\n",
       "      <th>DX</th>\n",
       "      <th>RZ</th>\n",
       "    </tr>\n",
       "    <tr>\n",
       "      <th>ID</th>\n",
       "      <th></th>\n",
       "      <th></th>\n",
       "    </tr>\n",
       "  </thead>\n",
       "  <tbody>\n",
       "    <tr>\n",
       "      <th>B</th>\n",
       "      <td>1.43570333399623e-7</td>\n",
       "      <td>4.65332550270148e-7</td>\n",
       "    </tr>\n",
       "    <tr>\n",
       "      <th>C</th>\n",
       "      <td>1.13867926199163e-6</td>\n",
       "      <td>1.05435193908932e-6</td>\n",
       "    </tr>\n",
       "  </tbody>\n",
       "</table>\n",
       "</div>"
      ],
      "text/plain": [
       "                     DX                   RZ\n",
       "ID                                          \n",
       "B   1.43570333399623e-7  4.65332550270148e-7\n",
       "C   1.13867926199163e-6  1.05435193908932e-6"
      ]
     },
     "execution_count": 26,
     "metadata": {},
     "output_type": "execute_result"
    }
   ],
   "source": [
    "diffd = (100*(1-deltw/disp))\n",
    "diffd"
   ]
  },
  {
   "cell_type": "code",
   "execution_count": 27,
   "metadata": {
    "collapsed": false
   },
   "outputs": [
    {
     "data": {
      "text/plain": [
       "DX    0.000001\n",
       "RZ    0.000001\n",
       "dtype: float64"
      ]
     },
     "execution_count": 27,
     "metadata": {},
     "output_type": "execute_result"
    }
   ],
   "source": [
    "diffd.abs().max()"
   ]
  },
  {
   "cell_type": "markdown",
   "metadata": {},
   "source": [
    "Max difference in displacement is 0.000001%.\n",
    "\n",
    "Note that the matrix method solution was accomplished by setting A very high in order to minimize\n",
    "effects of axial deformation.  But there is a limit to how high this can be set, due to numerical\n",
    "instability in equation solving (probably).  Setting $A=10^{10}$ seems to be about as high as is possible - larger values lead to worse results."
   ]
  }
 ],
 "metadata": {
  "kernelspec": {
   "display_name": "Python 2",
   "language": "python",
   "name": "python2"
  },
  "language_info": {
   "codemirror_mode": {
    "name": "ipython",
    "version": 2
   },
   "file_extension": ".py",
   "mimetype": "text/x-python",
   "name": "python",
   "nbconvert_exporter": "python",
   "pygments_lexer": "ipython2",
   "version": "2.7.6"
  }
 },
 "nbformat": 4,
 "nbformat_minor": 0
}
