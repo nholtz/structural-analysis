{
 "cells": [
  {
   "cell_type": "markdown",
   "metadata": {},
   "source": [
    "## Kulak & Grondin - Example 8.2"
   ]
  },
  {
   "cell_type": "code",
   "execution_count": 1,
   "metadata": {
    "collapsed": true
   },
   "outputs": [],
   "source": [
    "import sympy as sy                  # use symbolic algebra\n",
    "sy.init_printing()                  # print pretty math\n",
    "from sdutil2 import SD, FEF"
   ]
  },
  {
   "cell_type": "code",
   "execution_count": 2,
   "metadata": {
    "collapsed": false
   },
   "outputs": [
    {
     "data": {
      "image/png": "[encoded data removed]",
      "text/latex": [
       "$$\\left ( \\theta_{a}, \\quad \\theta_{b}, \\quad \\theta_{c}, \\quad \\theta_{d}, \\quad \\theta_{e}, \\quad \\theta_{f}, \\quad \\Delta_{b}, \\quad \\Delta_{c}\\right )$$"
      ],
      "text/plain": [
       "(θₐ, θ_b, θ_c, θ_d, θₑ, θ_f, Δ_b, Δ_c)"
      ]
     },
     "execution_count": 2,
     "metadata": {},
     "output_type": "execute_result"
    }
   ],
   "source": [
    "sy.var('theta_a theta_b theta_c theta_d theta_e theta_f Delta_b Delta_c')"
   ]
  },
  {
   "cell_type": "code",
   "execution_count": 3,
   "metadata": {
    "collapsed": true
   },
   "outputs": [],
   "source": [
    "E = 200000\n",
    "Ic = 222E6   # W310x97\n",
    "Ib = 488E6   # W460x106\n",
    "Hf = 21900   # Horizontal load at F\n",
    "He = 43400   # Horizontal load at E\n",
    "\n",
    "Lab = 6500   # Length of column\n",
    "Lbc = 5500   # Length of column\n",
    "Lbe = 10500  # Length of beam"
   ]
  },
  {
   "cell_type": "code",
   "execution_count": 4,
   "metadata": {
    "collapsed": true
   },
   "outputs": [],
   "source": [
    "Mab,Mba,Vab,Vba = SD(Lab,E*Ic,theta_a,theta_b,Delta_b)\n",
    "Mde,Med,Vde,Ved = SD(Lab,E*Ic,theta_d,theta_e,Delta_b)\n",
    "Mbc,Mcb,Vbc,Vcb = SD(Lbc,E*Ic,theta_b,theta_c,Delta_c-Delta_b)\n",
    "Mef,Mfe,Vef,Vfe = SD(Lbc,E*Ic,theta_e,theta_f,Delta_c-Delta_b)\n",
    "Mbe,Meb,Vbe,Veb = SD(Lbe,E*Ib,theta_b,theta_e) + FEF.udl(Lbe,55)\n",
    "Mcf,Mfc,Vcf,Vfc = SD(Lbe,E*Ib,theta_c,theta_f) + FEF.udl(Lbe,45)"
   ]
  },
  {
   "cell_type": "code",
   "execution_count": 5,
   "metadata": {
    "collapsed": false
   },
   "outputs": [],
   "source": [
    "eqns = [ Mba+Mbe+Mbc,      # sum of moments at B = 0\n",
    "         Mcb+Mcf,          # sum of moments at C = 0\n",
    "         Med+Meb+Mef,      # sum of moments at E = 0\n",
    "         Mfe+Mfc,          # sum of moments at F = 0\n",
    "         -Vab-Vde+Hf+He,   # sum of Fx @ base of storey 1 = 0\n",
    "         -Vbc-Vef+Hf,      # sum of Fx @ base of storey 2 = 0\n",
    "         theta_a,          # fixed support at A, rotation = 0\n",
    "         theta_d]          # fixed support at F, rotation = 0"
   ]
  },
  {
   "cell_type": "code",
   "execution_count": 6,
   "metadata": {
    "collapsed": false
   },
   "outputs": [
    {
     "data": {
      "image/png": "[encoded data removed]",
      "text/latex": [
       "$$\\left \\{ \\Delta_{b} : 23.3628188885579, \\quad \\Delta_{c} : 34.3068306465552, \\quad \\theta_{a} : 0.0, \\quad \\theta_{b} : 0.00712966246666336, \\quad \\theta_{c} : 0.00722695283139248, \\quad \\theta_{d} : 0.0, \\quad \\theta_{e} : -0.00310886822570279, \\quad \\theta_{f} : -0.00577523381182757\\right \\}$$"
      ],
      "text/plain": [
       "{Δ_b: 23.3628188885579, Δ_c: 34.3068306465552, θₐ: 0.0, θ_b: 0.007129662466663\n",
       "36, θ_c: 0.00722695283139248, θ_d: 0.0, θₑ: -0.00310886822570279, θ_f: -0.0057\n",
       "7523381182757}"
      ]
     },
     "execution_count": 6,
     "metadata": {},
     "output_type": "execute_result"
    }
   ],
   "source": [
    "soln = sy.solve(eqns)\n",
    "soln"
   ]
  },
  {
   "cell_type": "code",
   "execution_count": 7,
   "metadata": {
    "collapsed": false
   },
   "outputs": [
    {
     "data": {
      "image/png": "[encoded data removed]",
      "text/latex": [
       "$$- 6305325.44378698 \\Delta_{b} + 27323076923.0769 \\theta_{a} + 13661538461.5385 \\theta_{b}$$"
      ],
      "text/plain": [
       "-6305325.44378698⋅Δ_b + 27323076923.0769⋅θₐ + 13661538461.5385⋅θ_b"
      ]
     },
     "execution_count": 7,
     "metadata": {},
     "output_type": "execute_result"
    }
   ],
   "source": [
    "Mab"
   ]
  },
  {
   "cell_type": "code",
   "execution_count": 8,
   "metadata": {
    "collapsed": false
   },
   "outputs": [
    {
     "data": {
      "text/plain": [
       "[('AB', -49.9, 47.5),\n",
       " ('BC', 250.5, 252.1),\n",
       " ('DE', -189.8, -232.3),\n",
       " ('EF', -290.0, -333.1),\n",
       " ('BE', -298.0, 522.3),\n",
       " ('CF', -252.1, 333.1)]"
      ]
     },
     "execution_count": 8,
     "metadata": {},
     "output_type": "execute_result"
    }
   ],
   "source": [
    "all = []\n",
    "V = globals()\n",
    "for m in 'ab,bc,de,ef,be,cf'.split(','):\n",
    "    mj = V['M'+m].subs(soln).n()*1E-6          # Mxy\n",
    "    mk = V['M'+m[::-1]].subs(soln).n()*1E-6    # Myx\n",
    "    all.append((m.upper(),round(mj,1),round(mk,1)))\n",
    "all"
   ]
  },
  {
   "cell_type": "code",
   "execution_count": null,
   "metadata": {
    "collapsed": false
   },
   "outputs": [],
   "source": []
  }
 ],
 "metadata": {
  "kernelspec": {
   "display_name": "Python 3",
   "language": "python",
   "name": "python3"
  },
  "language_info": {
   "codemirror_mode": {
    "name": "ipython",
    "version": 3
   },
   "file_extension": ".py",
   "mimetype": "text/x-python",
   "name": "python",
   "nbconvert_exporter": "python",
   "pygments_lexer": "ipython3",
   "version": "3.4.3"
  }
 },
 "nbformat": 4,
 "nbformat_minor": 0
}
