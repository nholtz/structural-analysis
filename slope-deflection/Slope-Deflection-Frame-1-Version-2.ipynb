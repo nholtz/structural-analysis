{
 "cells": [
  {
   "cell_type": "markdown",
   "metadata": {},
   "source": [
    "# Slope Deflection Example - Frame 1\n",
    "Illustrates the solution of simple, statically-indeterminate framed structures\n",
    "using the method of **slope-deflection** and symbolic algebra.\n",
    "This version uses an improved version of 'sdutil' that computes end shears as well as moments."
   ]
  },
  {
   "cell_type": "code",
   "execution_count": 1,
   "metadata": {},
   "outputs": [],
   "source": [
    "from sympy import *                 # use symbolic algebra\n",
    "init_printing(use_latex='mathjax')  # print nice math (use_latex arg is workaround for FormatterWarning messages)\n",
    "from IPython import display"
   ]
  },
  {
   "cell_type": "code",
   "execution_count": 2,
   "metadata": {},
   "outputs": [],
   "source": [
    "from sdutil2 import SD, FEF"
   ]
  },
  {
   "cell_type": "markdown",
   "metadata": {},
   "source": [
    "Analyze the following frame using the method of **slope-deflection**."
   ]
  },
  {
   "cell_type": "code",
   "execution_count": 3,
   "metadata": {},
   "outputs": [
    {
     "data": {
      "image/svg+xml": [
       "<svg height=\"246.96242\" id=\"svg2\" inkscape:version=\"0.48+devel r11381\" sodipodi:docname=\"frame1.svg\" version=\"1.1\" width=\"490.28937\" xmlns=\"http://www.w3.org/2000/svg\" xmlns:cc=\"http://creativecommons.org/ns#\" xmlns:dc=\"http://purl.org/dc/elements/1.1/\" xmlns:inkscape=\"http://www.inkscape.org/namespaces/inkscape\" xmlns:rdf=\"http://www.w3.org/1999/02/22-rdf-syntax-ns#\" xmlns:sodipodi=\"http://sodipodi.sourceforge.net/DTD/sodipodi-0.dtd\" xmlns:svg=\"http://www.w3.org/2000/svg\" xmlns:xlink=\"http://www.w3.org/1999/xlink\">\n",
       "  <script id=\"script3033\" xlink:href=\"\"/>\n",
       "  <defs id=\"defs4\">\n",
       "    <!-- markers by NMH <nholtz@cee.carleton.ca> -->\n",
       "    <marker id=\"DimensionTick\" inkscape:stockid=\"DimensionTick\" orient=\"auto\" refX=\"0\" refY=\"0\" style=\"overflow:visible\">\n",
       "      <path d=\"M 0,0 8,8\" id=\"path6\" inkscape:connector-curvature=\"0\" style=\"stroke:#4d4d4d;stroke-width:1px;marker-start:none\" transform=\"translate(-4,-4)\"/>\n",
       "    </marker>\n",
       "    <marker id=\"TrussNodeS\" inkscape:stockid=\"TrussNodeS\" markerUnits=\"userSpaceOnUse\" orient=\"auto\" refX=\"0\" refY=\"0\" style=\"overflow:visible\">\n",
       "      <circle cx=\"0\" cy=\"0\" id=\"circle9\" r=\"3\" sodipodi:cx=\"0\" sodipodi:cy=\"0\" sodipodi:rx=\"3\" sodipodi:ry=\"3\" style=\"fill:#ffffff;stroke:#000000;stroke-width:1\"/>\n",
       "    </marker>\n",
       "    <marker id=\"TrussNodeM\" inkscape:stockid=\"TrussNodeM\" markerUnits=\"userSpaceOnUse\" orient=\"auto\" refX=\"0\" refY=\"0\" style=\"overflow:visible\">\n",
       "      <circle cx=\"0\" cy=\"0\" id=\"circle12\" r=\"4\" sodipodi:cx=\"0\" sodipodi:cy=\"0\" sodipodi:rx=\"4\" sodipodi:ry=\"4\" style=\"fill:#ffffff;stroke:#000000;stroke-width:1\"/>\n",
       "    </marker>\n",
       "    <!-- patternss by NMH <nholtz@cee.carleton.ca> -->\n",
       "    <pattern height=\"18\" id=\"black-stripes-on-red\" patternUnits=\"userSpaceOnUse\" width=\"18\" x=\"0\" y=\"0\">\n",
       "      <path d=\"M 0,0 18,0 18,18 0,18 z\" id=\"path3006\" inkscape:connector-curvature=\"0\" style=\"fill:#ff0000;stroke:none\"/>\n",
       "      <path d=\"M 0,9 9,0 11,0 0,11 z\" id=\"path3008\" inkscape:connector-curvature=\"0\" style=\"fill:#000000;stroke:none\"/>\n",
       "      <path d=\"m 9,18 9,-9 0,2 -7,7 z\" id=\"path5234\" inkscape:connector-curvature=\"0\" style=\"fill:#000000;stroke:none\"/>\n",
       "    </pattern>\n",
       "    <marker id=\"CLArrowEnd\" markerHeight=\"6\" markerUnits=\"userSpaceOnUse\" markerWidth=\"10\" orient=\"auto\" refX=\"7\" refY=\"3\" viewBox=\"0 0 10 6\">\n",
       "      <path d=\"M 0,0 10,3 0,6 2,3 Z\" id=\"path3451\" inkscape:connector-curvature=\"0\"/>\n",
       "    </marker>\n",
       "    <pattern id=\"pattern2251\" inkscape:collect=\"always\" patternTransform=\"matrix(0.99796804,0,0,1.3640134,225.90763,135.74022)\" xlink:href=\"#pattern4949\"/>\n",
       "    <pattern id=\"pattern4949\" inkscape:collect=\"always\" patternTransform=\"matrix(0.99796804,0,0,1.3640134,316.09135,828.80233)\" xlink:href=\"#pattern4380\"/>\n",
       "    <pattern height=\"83.375\" id=\"pattern4380\" patternTransform=\"translate(216,485.362)\" patternUnits=\"userSpaceOnUse\" width=\"36\">\n",
       "      <g id=\"g4376\" transform=\"translate(-216,-485.362)\">\n",
       "        <polygon class=\"dload\" id=\"polygon3581-2\" points=\"360,0 0,0 0,-12 360,-12 \" style=\"fill:#f0f0f0;stroke:none;visibility:visible\" transform=\"matrix(0.1,0,0,6.75,216,566.362)\"/>\n",
       "        <path class=\"cload\" d=\"m 234,485.362 0,78.625\" id=\"path3627-7\" inkscape:connector-curvature=\"0\" style=\"fill:none;stroke:#000000;stroke-width:1.58746088;marker-end:url(#CLArrowEnd-8);visibility:visible\"/>\n",
       "      </g>\n",
       "    </pattern>\n",
       "    <marker id=\"CLArrowEnd-8\" markerHeight=\"6\" markerUnits=\"userSpaceOnUse\" markerWidth=\"10\" orient=\"auto\" refX=\"7\" refY=\"3\" viewBox=\"0 0 10 6\">\n",
       "      <path d=\"M 0,0 10,3 0,6 2,3 Z\" id=\"path3451-4\" inkscape:connector-curvature=\"0\"/>\n",
       "    </marker>\n",
       "  </defs>\n",
       "  <sodipodi:namedview bordercolor=\"#666666\" borderopacity=\"1.0\" fit-margin-bottom=\"0.2\" fit-margin-left=\"0.2\" fit-margin-right=\"0.2\" fit-margin-top=\"0.2\" id=\"base\" inkscape:current-layer=\"layer1\" inkscape:cx=\"223.50253\" inkscape:cy=\"268.7048\" inkscape:document-units=\"in\" inkscape:pageopacity=\"0.0\" inkscape:pageshadow=\"2\" inkscape:snap-grids=\"true\" inkscape:window-height=\"979\" inkscape:window-maximized=\"0\" inkscape:window-width=\"1179\" inkscape:window-x=\"165\" inkscape:window-y=\"55\" inkscape:zoom=\"1.4283557\" pagecolor=\"#ffffff\" showgrid=\"true\" showguides=\"true\" units=\"in\">\n",
       "    <inkscape:grid empspacing=\"5\" enabled=\"true\" id=\"grid2985\" originx=\"-0.75234044in\" originy=\"-7.3in\" snapvisiblegridlinesonly=\"true\" spacingx=\"0.1in\" spacingy=\"0.1in\" type=\"xygrid\" units=\"in\" visible=\"true\"/>\n",
       "    <sodipodi:guide id=\"guide3042\" orientation=\"0,765\" position=\"-67.71064,-657\"/>\n",
       "    <sodipodi:guide id=\"guide3044\" orientation=\"-990,0\" position=\"697.28936,-657\"/>\n",
       "    <sodipodi:guide id=\"guide3046\" orientation=\"0,-765\" position=\"697.28936,333\"/>\n",
       "    <sodipodi:guide id=\"guide3048\" orientation=\"990,0\" position=\"-67.71064,333\"/>\n",
       "    <sodipodi:guide id=\"guide3050\" orientation=\"0,765\" position=\"652.28936,-612\"/>\n",
       "    <sodipodi:guide id=\"guide3052\" orientation=\"-990,0\" position=\"652.28936,243\"/>\n",
       "    <sodipodi:guide id=\"guide3054\" orientation=\"0,-765\" position=\"-31.71064,288\"/>\n",
       "    <sodipodi:guide id=\"guide3056\" orientation=\"990,0\" position=\"-22.71064,216\"/>\n",
       "  </sodipodi:namedview>\n",
       "  <metadata id=\"metadata7\">\n",
       "    <rdf:RDF>\n",
       "      <cc:Work rdf:about=\"\">\n",
       "        <dc:format>image/svg+xml</dc:format>\n",
       "        <dc:type rdf:resource=\"http://purl.org/dc/dcmitype/StillImage\"/>\n",
       "        <dc:title/>\n",
       "        <cc:license rdf:resource=\"http://creativecommons.org/licenses/by-nc/3.0/\"/>\n",
       "      </cc:Work>\n",
       "      <cc:License rdf:about=\"http://creativecommons.org/licenses/by-nc/3.0/\">\n",
       "        <cc:permits rdf:resource=\"http://creativecommons.org/ns#Reproduction\"/>\n",
       "        <cc:permits rdf:resource=\"http://creativecommons.org/ns#Distribution\"/>\n",
       "        <cc:requires rdf:resource=\"http://creativecommons.org/ns#Notice\"/>\n",
       "        <cc:requires rdf:resource=\"http://creativecommons.org/ns#Attribution\"/>\n",
       "        <cc:prohibits rdf:resource=\"http://creativecommons.org/ns#CommercialUse\"/>\n",
       "        <cc:permits rdf:resource=\"http://creativecommons.org/ns#DerivativeWorks\"/>\n",
       "      </cc:License>\n",
       "    </rdf:RDF>\n",
       "  </metadata>\n",
       "  <g id=\"layer1\" inkscape:groupmode=\"layer\" inkscape:label=\"Layer 1\" transform=\"translate(-67.71064,-86.037582)\">\n",
       "    <path d=\"m 225,270 0,-135 270,0 0,90\" id=\"path27\" inkscape:connector-curvature=\"0\" style=\"fill:#000000;fill-opacity:0;fill-rule:nonzero;stroke:#000000;stroke-width:2;stroke-linecap:butt;stroke-linejoin:miter;stroke-miterlimit:4;stroke-opacity:1;stroke-dasharray:none;stroke-dashoffset:0\"/>\n",
       "    <g id=\"g10775\" transform=\"translate(-30.729802,-84.999869)\">\n",
       "      <title id=\"title3737\">Pin Support</title>\n",
       "      <g id=\"use90\" transform=\"matrix(1.25,0,0,1.25,255.65647,356.59727)\">\n",
       "        <path d=\"M 0.19825424,-1.057356 5.1895254,5.8678305 -5.3216949,5.8678305 Z\" id=\"path5224\" inkscape:connector-curvature=\"0\" sodipodi:nodetypes=\"cccc\" style=\"fill:#000000;stroke:#000000;stroke-width:0\"/>\n",
       "        <path d=\"M -6,6 6,6\" id=\"path5226\" inkscape:connector-curvature=\"0\" style=\"fill:none;stroke:#000000;stroke-width:1\"/>\n",
       "        <path d=\"M 6,6 3,9 M 3,6 0,9 M 0,6 -3,9 m 0,-3 -3,3 m 0,-3 -3,3\" id=\"path5228\" inkscape:connector-curvature=\"0\" style=\"fill:none;stroke:#000000;stroke-width:1\"/>\n",
       "      </g>\n",
       "    </g>\n",
       "    <g id=\"use3511\" transform=\"matrix(0,-1.25,1.25,0,492.41541,225.29137)\">\n",
       "      <title id=\"title3743\">Fixed Support</title>\n",
       "      <path d=\"M 0,-6 0,6\" id=\"path3409\" inkscape:connector-curvature=\"0\" style=\"fill:none;stroke:#000000;stroke-width:1\"/>\n",
       "      <path d=\"m 0,-6 -3,3 m 3,0 -3,3 m 3,0 -3,3 m 3,0 -3,3 m 3,0 -3,3\" id=\"path3411\" inkscape:connector-curvature=\"0\" style=\"fill:none;stroke:#000000;stroke-width:1\"/>\n",
       "    </g>\n",
       "    <path d=\"m 225,288 0,27\" id=\"path409\" inkscape:connector-curvature=\"0\" style=\"fill:#000000;fill-opacity:0;fill-rule:nonzero;stroke:#4d4d4d;stroke-width:0.75;stroke-linecap:butt;stroke-linejoin:miter;stroke-miterlimit:4;stroke-opacity:1;stroke-dasharray:none;stroke-dashoffset:0\"/>\n",
       "    <path d=\"m 495,234 0,81\" id=\"path411\" inkscape:connector-curvature=\"0\" style=\"fill:#000000;fill-opacity:0;fill-rule:nonzero;stroke:#4d4d4d;stroke-width:0.75;stroke-linecap:butt;stroke-linejoin:miter;stroke-miterlimit:4;stroke-opacity:1;stroke-dasharray:none;stroke-dashoffset:0\"/>\n",
       "    <path d=\"m 225,306 270,0\" id=\"path413\" inkscape:connector-curvature=\"0\" style=\"fill:#000000;fill-opacity:0;fill-rule:nonzero;stroke:#4d4d4d;stroke-width:0.72000003;stroke-linecap:butt;stroke-linejoin:miter;stroke-miterlimit:4;stroke-opacity:1;stroke-dasharray:none;stroke-dashoffset:0;marker-start:url(#DimensionTick);marker-mid:url(#DimensionTick);marker-end:url(#DimensionTick)\"/>\n",
       "    <path d=\"m 504,135 36,0\" id=\"path415\" inkscape:connector-curvature=\"0\" style=\"fill:#000000;fill-opacity:0;fill-rule:nonzero;stroke:#4d4d4d;stroke-width:0.75;stroke-linecap:butt;stroke-linejoin:miter;stroke-miterlimit:4;stroke-opacity:1;stroke-dasharray:none;stroke-dashoffset:0\"/>\n",
       "    <path d=\"m 504,225 36,0\" id=\"path417\" inkscape:connector-curvature=\"0\" style=\"fill:#000000;fill-opacity:0;fill-rule:nonzero;stroke:#4d4d4d;stroke-width:0.75;stroke-linecap:butt;stroke-linejoin:miter;stroke-miterlimit:4;stroke-opacity:1;stroke-dasharray:none;stroke-dashoffset:0\"/>\n",
       "    <path d=\"m 531,135 0,90\" id=\"path419\" inkscape:connector-curvature=\"0\" style=\"fill:#000000;fill-opacity:0;fill-rule:nonzero;stroke:#4d4d4d;stroke-width:0.72000003;stroke-linecap:butt;stroke-linejoin:miter;stroke-miterlimit:4;stroke-opacity:1;stroke-dasharray:none;stroke-dashoffset:0;marker-start:url(#DimensionTick);marker-mid:url(#DimensionTick);marker-end:url(#DimensionTick)\"/>\n",
       "    <path d=\"M 216,270 90,270\" id=\"path421\" inkscape:connector-curvature=\"0\" style=\"fill:#000000;fill-opacity:0;fill-rule:nonzero;stroke:#4d4d4d;stroke-width:0.75;stroke-linecap:butt;stroke-linejoin:miter;stroke-miterlimit:4;stroke-opacity:1;stroke-dasharray:none;stroke-dashoffset:0\"/>\n",
       "    <path d=\"m 171,135 -81,0\" id=\"path423\" inkscape:connector-curvature=\"0\" style=\"fill:#000000;fill-opacity:0;fill-rule:nonzero;stroke:#4d4d4d;stroke-width:0.75;stroke-linecap:butt;stroke-linejoin:miter;stroke-miterlimit:4;stroke-opacity:1;stroke-dasharray:none;stroke-dashoffset:0\"/>\n",
       "    <path d=\"m 99,135 0,135\" id=\"path425\" inkscape:connector-curvature=\"0\" style=\"fill:#000000;fill-opacity:0;fill-rule:nonzero;stroke:#4d4d4d;stroke-width:0.72000003;stroke-linecap:butt;stroke-linejoin:miter;stroke-miterlimit:4;stroke-opacity:1;stroke-dasharray:none;stroke-dashoffset:0;marker-start:url(#DimensionTick);marker-mid:url(#DimensionTick);marker-end:url(#DimensionTick)\"/>\n",
       "    <path class=\"cload\" d=\"m 179.99625,135.12366 40.13614,0.49505\" id=\"path3405\" inkscape:connector-curvature=\"0\" sodipodi:nodetypes=\"cc\" style=\"fill:none;stroke:#000000;stroke-width:1.25;marker-end:url(#CLArrowEnd)\"/>\n",
       "    <rect height=\"17.99999\" id=\"rect3421\" style=\"fill:url(#pattern2251);fill-opacity:1;stroke:#000000;stroke-width:0.90483356\" width=\"270\" x=\"225\" y=\"117\"/>\n",
       "    <text id=\"text2306\" sodipodi:linespacing=\"125%\" style=\"font-size:12.5px;font-style:normal;font-variant:normal;font-weight:normal;font-stretch:normal;text-align:start;line-height:125%;letter-spacing:0px;word-spacing:0px;writing-mode:lr-tb;text-anchor:start;fill:#000000;fill-opacity:1;stroke:none;font-family:Verdana;-inkscape-font-specification:Sans\" x=\"360\" xml:space=\"preserve\" y=\"297\"><tspan id=\"tspan2308\" sodipodi:role=\"line\" x=\"360\" y=\"297\">6m</tspan></text>\n",
       "    <text id=\"text2310\" sodipodi:linespacing=\"125%\" style=\"font-size:12.5px;font-style:normal;font-variant:normal;font-weight:normal;font-stretch:normal;text-align:start;line-height:125%;letter-spacing:0px;word-spacing:0px;writing-mode:lr-tb;text-anchor:start;fill:#000000;fill-opacity:1;stroke:none;font-family:Verdana;-inkscape-font-specification:Sans\" transform=\"matrix(0,-1,1,0,0,0)\" x=\"-211.58302\" xml:space=\"preserve\" y=\"94.987984\"><tspan id=\"tspan2312\" sodipodi:role=\"line\" x=\"-211.58302\" y=\"94.987984\">3m</tspan></text>\n",
       "    <text id=\"text2314\" sodipodi:linespacing=\"125%\" style=\"font-size:12.5px;font-style:normal;font-variant:normal;font-weight:normal;font-stretch:normal;text-align:start;line-height:125%;letter-spacing:0px;word-spacing:0px;writing-mode:lr-tb;text-anchor:start;fill:#000000;fill-opacity:1;stroke:none;font-family:Verdana;-inkscape-font-specification:Sans\" transform=\"matrix(0,-1,1,0,0,0)\" x=\"-194.37109\" xml:space=\"preserve\" y=\"527.64844\"><tspan id=\"tspan2316\" sodipodi:role=\"line\" x=\"-194.37109\" y=\"527.64844\">2m</tspan></text>\n",
       "    <text id=\"text2318\" sodipodi:linespacing=\"125%\" style=\"font-size:12.5px;font-style:normal;font-variant:normal;font-weight:normal;font-stretch:normal;text-align:start;line-height:125%;letter-spacing:0px;word-spacing:0px;writing-mode:lr-tb;text-anchor:start;fill:#000000;fill-opacity:1;stroke:none;font-family:Verdana;-inkscape-font-specification:Sans\" x=\"228.55446\" xml:space=\"preserve\" y=\"214.01981\"><tspan id=\"tspan2320\" sodipodi:role=\"line\" x=\"228.55446\" y=\"214.01981\">I</tspan></text>\n",
       "    <text id=\"text2322\" sodipodi:linespacing=\"125%\" style=\"font-size:12.5px;font-style:normal;font-variant:normal;font-weight:normal;font-stretch:normal;text-align:start;line-height:125%;letter-spacing:0px;word-spacing:0px;writing-mode:lr-tb;text-anchor:start;fill:#000000;fill-opacity:1;stroke:none;font-family:Verdana;-inkscape-font-specification:Sans\" x=\"483.52472\" xml:space=\"preserve\" y=\"144.85149\"><tspan id=\"tspan2324\" sodipodi:role=\"line\" x=\"483.52472\" y=\"144.85149\"><tspan id=\"tspan2369\" style=\"font-style:italic;font-variant:normal;font-weight:normal;font-stretch:normal;font-family:Verdana;-inkscape-font-specification:Verdana Italic\">c</tspan></tspan></text>\n",
       "    <text id=\"text2326\" sodipodi:linespacing=\"125%\" style=\"font-size:12.5px;font-style:normal;font-variant:normal;font-weight:normal;font-stretch:normal;text-align:start;line-height:125%;letter-spacing:0px;word-spacing:0px;writing-mode:lr-tb;text-anchor:start;fill:#000000;fill-opacity:1;stroke:none;font-family:Verdana;-inkscape-font-specification:Sans\" x=\"350.41583\" xml:space=\"preserve\" y=\"147.55444\"><tspan id=\"tspan2328\" sodipodi:role=\"line\" x=\"350.41583\" y=\"147.55444\">2I</tspan></text>\n",
       "    <text id=\"text2330\" sodipodi:linespacing=\"125%\" style=\"font-size:12.5px;font-style:normal;font-variant:normal;font-weight:normal;font-stretch:normal;text-align:start;line-height:125%;letter-spacing:0px;word-spacing:0px;writing-mode:lr-tb;text-anchor:start;fill:#000000;fill-opacity:1;stroke:none;font-family:Verdana;-inkscape-font-specification:Sans\" x=\"331.10892\" xml:space=\"preserve\" y=\"113.53465\"><tspan id=\"tspan2332\" sodipodi:role=\"line\" x=\"331.10892\" y=\"113.53465\">36 kN/m</tspan></text>\n",
       "    <text id=\"text2334\" sodipodi:linespacing=\"125%\" style=\"font-size:12.5px;font-style:normal;font-variant:normal;font-weight:normal;font-stretch:normal;text-align:start;line-height:125%;letter-spacing:0px;word-spacing:0px;writing-mode:lr-tb;text-anchor:start;fill:#000000;fill-opacity:1;stroke:none;font-family:Verdana;-inkscape-font-specification:Sans\" x=\"180.17822\" xml:space=\"preserve\" y=\"131.44554\"><tspan id=\"tspan2336\" sodipodi:role=\"line\" x=\"180.17822\" y=\"131.44554\">60kN</tspan></text>\n",
       "    <text id=\"text2357\" sodipodi:linespacing=\"125%\" style=\"font-size:11.25px;font-style:normal;font-variant:normal;font-weight:normal;font-stretch:normal;text-align:start;line-height:125%;letter-spacing:0px;word-spacing:0px;writing-mode:lr-tb;text-anchor:start;fill:#000000;fill-opacity:1;stroke:none;font-family:Verdana;-inkscape-font-specification:Sans\" x=\"229.21938\" xml:space=\"preserve\" y=\"268.13992\"><tspan id=\"tspan2359\" sodipodi:role=\"line\" style=\"font-style:italic;font-variant:normal;font-weight:normal;font-stretch:normal;font-family:Verdana;-inkscape-font-specification:Verdana Italic\" x=\"229.21938\" y=\"268.13992\">a</tspan></text>\n",
       "    <text id=\"text2361\" sodipodi:linespacing=\"125%\" style=\"font-size:11.25px;font-style:normal;font-variant:normal;font-weight:normal;font-stretch:normal;text-align:start;line-height:125%;letter-spacing:0px;word-spacing:0px;writing-mode:lr-tb;text-anchor:start;fill:#000000;fill-opacity:1;stroke:none;font-family:Verdana;-inkscape-font-specification:Sans\" x=\"228.55446\" xml:space=\"preserve\" y=\"146.56436\"><tspan id=\"tspan2363\" sodipodi:role=\"line\" style=\"font-style:italic;font-variant:normal;font-weight:normal;font-stretch:normal;font-family:Verdana;-inkscape-font-specification:Verdana Italic\" x=\"228.55446\" y=\"146.56436\">b</tspan></text>\n",
       "    <text id=\"text2365\" sodipodi:linespacing=\"125%\" style=\"font-size:11.25px;font-style:normal;font-variant:normal;font-weight:normal;font-stretch:normal;text-align:start;line-height:125%;letter-spacing:0px;word-spacing:0px;writing-mode:lr-tb;text-anchor:start;fill:#000000;fill-opacity:1;stroke:none;font-family:Verdana;-inkscape-font-specification:Sans\" x=\"485.41583\" xml:space=\"preserve\" y=\"222.43564\"><tspan id=\"tspan2367\" sodipodi:role=\"line\" style=\"font-style:italic;font-variant:normal;font-weight:normal;font-stretch:normal;font-family:Verdana;-inkscape-font-specification:Verdana Italic\" x=\"485.41583\" y=\"222.43564\">d</tspan></text>\n",
       "    <text id=\"text2373\" sodipodi:linespacing=\"125%\" style=\"font-size:12.5px;font-style:normal;font-variant:normal;font-weight:normal;font-stretch:normal;text-align:start;line-height:125%;letter-spacing:0px;word-spacing:0px;writing-mode:lr-tb;text-anchor:start;fill:#000000;fill-opacity:1;stroke:none;font-family:Verdana;-inkscape-font-specification:Sans\" x=\"485.51486\" xml:space=\"preserve\" y=\"189.67326\"><tspan id=\"tspan2375\" sodipodi:role=\"line\" x=\"485.51486\" y=\"189.67326\">I</tspan></text>\n",
       "  </g>\n",
       "</svg>"
      ],
      "text/plain": [
       "<IPython.core.display.SVG object>"
      ]
     },
     "execution_count": 3,
     "metadata": {},
     "output_type": "execute_result"
    }
   ],
   "source": [
    "display.SVG('frame1.svg')"
   ]
  },
  {
   "cell_type": "markdown",
   "metadata": {},
   "source": [
    "This frame has 5 independant joint displacements - rotations at the four\n",
    "joints *a*, \n",
    "*b*, \n",
    "*c*, \n",
    "and \n",
    "*d*, \n",
    "and a lateral displacement of joints \n",
    "*b*\n",
    "and \n",
    "*c* \n",
    "together.  Actually, we know that joint *d* does not rotate, but we\n",
    "will pretend it does for now, and will handle that as a displacement constraint\n",
    "later.\n",
    "\n",
    "So now we write the slope deflection equations.  These express the end moments\n",
    "as functions of the five unknown displacements.  Note also that we do not treat the\n",
    "pin-ended member *ab* specially -- it is not necessary to do so.\n",
    "\n",
    "We use a very simple utility function *SD()* to compute the end moments and shears of a segment,\n",
    "as a function of the end displacements:"
   ]
  },
  {
   "cell_type": "code",
   "execution_count": 4,
   "metadata": {},
   "outputs": [
    {
     "name": "stdout",
     "output_type": "stream",
     "text": [
      "Help on function SD in module sdutil2:\n",
      "\n",
      "SD(L, EI, t0, t1, d01=0)\n",
      "    Return the end moments and shears of a segment as computed by the slope \n",
      "    deflection equations.\n",
      "       L = length, \n",
      "       EI = stiffness, \n",
      "       t0 = rotation at end 0 (left), \n",
      "       t1 = rotation at end 1, \n",
      "       d01 = relative lateral displacment end 0 to end 1.  \n",
      "    SD sign convention: moments and rotation are +ive CW, \n",
      "    relative displacement d01 is +ive for CW rotation of chord.\n",
      "\n"
     ]
    }
   ],
   "source": [
    "help(SD)"
   ]
  },
  {
   "cell_type": "code",
   "execution_count": 5,
   "metadata": {},
   "outputs": [],
   "source": [
    "# Slope deflection equations:\n",
    "# theta_a,b,c,d - rotations of joints\n",
    "# Delta_ab - horizontal displacement of joint b (and c) relative to a (and d)\n",
    "var('EI theta_a theta_b theta_c theta_d Delta_ab')\n",
    "Mab,Mba,Vab,Vba = SD(3,EI,theta_a,theta_b,Delta_ab)\n",
    "Mbc,Mcb,Vbc,Vcb = SD(6,2*EI,theta_b,theta_c,0) + FEF.udl(6,36)\n",
    "Mcd,Mdc,Vcd,Vdc = SD(2,EI,theta_c,theta_d,Delta_ab)"
   ]
  },
  {
   "cell_type": "markdown",
   "metadata": {},
   "source": [
    "Display just one of the end moments to see what the values look like.  They are indeed algebraic expressions."
   ]
  },
  {
   "cell_type": "code",
   "execution_count": 6,
   "metadata": {},
   "outputs": [
    {
     "data": {
      "text/latex": [
       "$$\\frac{EI}{3} \\left(4 \\theta_{b} + 2 \\theta_{c}\\right) - 108.0$$"
      ],
      "text/plain": [
       "EI⋅(4⋅θ_b + 2⋅θ_c)        \n",
       "────────────────── - 108.0\n",
       "        3                 "
      ]
     },
     "execution_count": 6,
     "metadata": {},
     "output_type": "execute_result"
    }
   ],
   "source": [
    "Mbc"
   ]
  },
  {
   "cell_type": "markdown",
   "metadata": {},
   "source": [
    "Now we write five linear equations to solve for the five unknown displacements.\n",
    "Three are equilibrium equations and involve moments at three of the joints: $Mab = 0$, $Mba+Mbc=0$, and $Mcb+Mcd=0$.\n",
    "One equation involves the equilibrium of the column shears with the horizontal applied\n",
    "load: $Vab+Vdc-60=0$.  The fifth equation is just the known rotation at joint *d*: $\\theta_d=0$.\n",
    "\n",
    "In sympy, we build a list of the five equations, all expressed as $f(..,..) = 0$ and giving only the left side of each (the right side always being 0 is not given).  We then call the solver and give it a list of variables to solve for:"
   ]
  },
  {
   "cell_type": "code",
   "execution_count": 7,
   "metadata": {},
   "outputs": [
    {
     "data": {
      "text/latex": [
       "$$\\left \\{ \\Delta_{ab} : \\frac{14.2834008097166}{EI}, \\quad \\theta_{a} : - \\frac{22.4210526315789}{EI}, \\quad \\theta_{b} : \\frac{59.1255060728745}{EI}, \\quad \\theta_{c} : - \\frac{37.7975708502024}{EI}, \\quad \\theta_{d} : 0.0\\right \\}$$"
      ],
      "text/plain": [
       "⎧      14.2834008097166      -22.4210526315789        59.1255060728745       -\n",
       "⎨Δ_ab: ────────────────, θₐ: ──────────────────, θ_b: ────────────────, θ_c: ─\n",
       "⎩             EI                     EI                      EI               \n",
       "\n",
       "37.7975708502024           ⎫\n",
       "─────────────────, θ_d: 0.0⎬\n",
       "       EI                  ⎭"
      ]
     },
     "execution_count": 7,
     "metadata": {},
     "output_type": "execute_result"
    }
   ],
   "source": [
    "eqns = [Mab, Mba+Mbc, Mcb+Mcd, Vab+Vdc-60, theta_d]\n",
    "soln = solve(eqns,[theta_a,theta_b,theta_c,theta_d,Delta_ab])\n",
    "soln"
   ]
  },
  {
   "cell_type": "markdown",
   "metadata": {},
   "source": [
    "The above solution is returned as a Python dictionary, making it easy to substitute for those\n",
    "variables in other equations.\n",
    "\n",
    "In fact, that is done now, substituting the displacement solutions into each\n",
    "of the slope-deflection equations.  The result is a list of the member end moments (and shears).\n",
    "\n",
    "The '.n(4)' method forces a numerical answer with 4 significant figures."
   ]
  },
  {
   "cell_type": "code",
   "execution_count": 8,
   "metadata": {},
   "outputs": [
    {
     "data": {
      "text/plain": [
       "{'Mab': -4.737e-15,\n",
       " 'Mba': 54.36,\n",
       " 'Mbc': -54.36,\n",
       " 'Mcb': 97.02,\n",
       " 'Mcd': -97.02,\n",
       " 'Mdc': -59.22,\n",
       " 'Vab': -18.12,\n",
       " 'Vdc': 78.12}"
      ]
     },
     "execution_count": 8,
     "metadata": {},
     "output_type": "execute_result"
    }
   ],
   "source": [
    "{v:eval(v).subs(soln).n(4) for v in 'Mab,Mba,Mbc,Mcb,Mcd,Mdc,Vab,Vdc'.split(',')}"
   ]
  },
  {
   "cell_type": "markdown",
   "metadata": {},
   "source": [
    "And now - the reactions at supports *a* and *d*:"
   ]
  },
  {
   "cell_type": "code",
   "execution_count": 9,
   "metadata": {},
   "outputs": [
    {
     "data": {
      "text/latex": [
       "$$\\left [ 100.9, \\quad 18.12, \\quad 115.1, \\quad -78.12, \\quad -59.22\\right ]$$"
      ],
      "text/plain": [
       "[100.9, 18.12, 115.1, -78.12, -59.22]"
      ]
     },
     "execution_count": 9,
     "metadata": {},
     "output_type": "execute_result"
    }
   ],
   "source": [
    "Ra = Vbc\n",
    "Rd = -Vcb\n",
    "Ha = -Vab\n",
    "Hd = -Vdc\n",
    "Md = Mdc\n",
    "[v.subs(soln).n(4) for v in [Ra,Ha,Rd,Hd,Md]]"
   ]
  },
  {
   "cell_type": "markdown",
   "metadata": {},
   "source": [
    "#### Equilibrium checks:"
   ]
  },
  {
   "cell_type": "code",
   "execution_count": 10,
   "metadata": {},
   "outputs": [
    {
     "data": {
      "text/latex": [
       "$$0$$"
      ],
      "text/plain": [
       "0"
      ]
     },
     "execution_count": 10,
     "metadata": {},
     "output_type": "execute_result"
    }
   ],
   "source": [
    "# sum horizontal forces\n",
    "(Ha + Hd + 60).subs(soln)"
   ]
  },
  {
   "cell_type": "code",
   "execution_count": 11,
   "metadata": {},
   "outputs": [
    {
     "data": {
      "text/latex": [
       "$$0$$"
      ],
      "text/plain": [
       "0"
      ]
     },
     "execution_count": 11,
     "metadata": {},
     "output_type": "execute_result"
    }
   ],
   "source": [
    "# sum vertical forces\n",
    "(Ra + Rd - 36*6).subs(soln)"
   ]
  },
  {
   "cell_type": "code",
   "execution_count": 12,
   "metadata": {},
   "outputs": [
    {
     "data": {
      "text/latex": [
       "$$0$$"
      ],
      "text/plain": [
       "0"
      ]
     },
     "execution_count": 12,
     "metadata": {},
     "output_type": "execute_result"
    }
   ],
   "source": [
    "# sum moments about a\n",
    "(60*3 + 36*6*3 + Hd*1 + Md - Rd*6).subs(soln)"
   ]
  },
  {
   "cell_type": "markdown",
   "metadata": {},
   "source": [
    "### Plots\n",
    "Plot bending moment in *bc* as a function of distance *x* from left end, *b*:"
   ]
  },
  {
   "cell_type": "code",
   "execution_count": 13,
   "metadata": {},
   "outputs": [],
   "source": [
    "%matplotlib inline\n",
    "import numpy as np\n",
    "import matplotlib.pyplot as plt"
   ]
  },
  {
   "cell_type": "code",
   "execution_count": 14,
   "metadata": {},
   "outputs": [
    {
     "data": {
      "text/plain": [
       "<matplotlib.collections.PolyCollection at 0x7ff19b004cf8>"
      ]
     },
     "execution_count": 14,
     "metadata": {},
     "output_type": "execute_result"
    },
    {
     "data": {
      "image/png": "[encoded data removed]",
      "text/plain": [
       "<matplotlib.figure.Figure at 0x7ff19af83470>"
      ]
     },
     "metadata": {
      "needs_background": "light"
     },
     "output_type": "display_data"
    }
   ],
   "source": [
    "var('x')\n",
    "Mbcx = (Ra*x + Vab*3 - 36*x*x/2).subs(soln)  # M as a function of x\n",
    "fn = lambdify((x),Mbcx)   # convert moment expression to a function of one argument\n",
    "z = np.linspace(0,6)\n",
    "plt.plot(z,fn(z),[0,6],[0,0])\n",
    "plt.fill_between(z,fn(z),color='lightgrey')\n",
    "##plt.show()"
   ]
  },
  {
   "cell_type": "markdown",
   "metadata": {},
   "source": [
    "Find the locations along span *bc* of zero moment:"
   ]
  },
  {
   "cell_type": "code",
   "execution_count": 15,
   "metadata": {},
   "outputs": [
    {
     "data": {
      "text/latex": [
       "$$\\left [ 0.6039, \\quad 5.001\\right ]$$"
      ],
      "text/plain": [
       "[0.6039, 5.001]"
      ]
     },
     "execution_count": 15,
     "metadata": {},
     "output_type": "execute_result"
    }
   ],
   "source": [
    "[r.n(4) for r in solve(Mbcx)]"
   ]
  },
  {
   "cell_type": "markdown",
   "metadata": {},
   "source": [
    "Find point of maximum moment and the maximum moment in the span:"
   ]
  },
  {
   "cell_type": "code",
   "execution_count": 16,
   "metadata": {},
   "outputs": [
    {
     "data": {
      "text/latex": [
       "$$\\left \\{ x : 2.80251911830858\\right \\}$$"
      ],
      "text/plain": [
       "{x: 2.80251911830858}"
      ]
     },
     "execution_count": 16,
     "metadata": {},
     "output_type": "execute_result"
    }
   ],
   "source": [
    "xs = solve([Mbcx.diff(x)])\n",
    "xs"
   ]
  },
  {
   "cell_type": "code",
   "execution_count": 17,
   "metadata": {},
   "outputs": [
    {
     "data": {
      "text/latex": [
       "$$\\left ( 2.803, \\quad 87.01\\right )$$"
      ],
      "text/plain": [
       "(2.803, 87.01)"
      ]
     },
     "execution_count": 17,
     "metadata": {},
     "output_type": "execute_result"
    }
   ],
   "source": [
    "xs[x].n(4), Mbcx.subs(xs).n(4)"
   ]
  },
  {
   "cell_type": "code",
   "execution_count": null,
   "metadata": {
    "collapsed": true
   },
   "outputs": [],
   "source": []
  }
 ],
 "metadata": {
  "kernelspec": {
   "display_name": "Python 3",
   "language": "python",
   "name": "python3"
  },
  "language_info": {
   "codemirror_mode": {
    "name": "ipython",
    "version": 3
   },
   "file_extension": ".py",
   "mimetype": "text/x-python",
   "name": "python",
   "nbconvert_exporter": "python",
   "pygments_lexer": "ipython3",
   "version": "3.6.3"
  }
 },
 "nbformat": 4,
 "nbformat_minor": 2
}
