{
 "cells": [
  {
   "cell_type": "markdown",
   "metadata": {},
   "source": [
    "## OIQ-Exam-Question-1 (Version 2)\n",
    "Technical exam question from Ordre des ingénieurs du Québec.  Obviously meant to be done using moment-distribution, but even easier using slope-deflection.  This version use a newer 'sdutil' that also computes end shears."
   ]
  },
  {
   "cell_type": "code",
   "execution_count": 1,
   "metadata": {
    "collapsed": false
   },
   "outputs": [],
   "source": [
    "from sympy import *\n",
    "init_printing(use_latex='mathjax')\n",
    "from IPython import display"
   ]
  },
  {
   "cell_type": "code",
   "execution_count": 2,
   "metadata": {
    "collapsed": false
   },
   "outputs": [
    {
     "data": {
      "image/svg+xml": [
       "<svg height=\"153.49707\" id=\"svg2\" inkscape:version=\"0.48+devel r11381\" sodipodi:docname=\"peo-exam-1.svg\" version=\"1.1\" width=\"507.4776\" xmlns=\"http://www.w3.org/2000/svg\" xmlns:cc=\"http://creativecommons.org/ns#\" xmlns:dc=\"http://purl.org/dc/elements/1.1/\" xmlns:inkscape=\"http://www.inkscape.org/namespaces/inkscape\" xmlns:rdf=\"http://www.w3.org/1999/02/22-rdf-syntax-ns#\" xmlns:sodipodi=\"http://sodipodi.sourceforge.net/DTD/sodipodi-0.dtd\" xmlns:svg=\"http://www.w3.org/2000/svg\" xmlns:xlink=\"http://www.w3.org/1999/xlink\">\n",
       "  <script id=\"script3033\" xlink:href=\"\"/>\n",
       "  <defs id=\"defs4\">\n",
       "    <!-- markers by NMH <nholtz@cee.carleton.ca> -->\n",
       "    <marker id=\"DimensionTick\" inkscape:stockid=\"DimensionTick\" orient=\"auto\" refX=\"0\" refY=\"0\" style=\"overflow:visible\">\n",
       "      <path d=\"M 0,0 8,8\" id=\"path6\" inkscape:connector-curvature=\"0\" style=\"stroke:#4d4d4d;stroke-width:1px;marker-start:none\" transform=\"translate(-4,-4)\"/>\n",
       "    </marker>\n",
       "    <marker id=\"TrussNodeS\" inkscape:stockid=\"TrussNodeS\" markerUnits=\"userSpaceOnUse\" orient=\"auto\" refX=\"0\" refY=\"0\" style=\"overflow:visible\">\n",
       "      <circle cx=\"0\" cy=\"0\" id=\"circle9\" r=\"3\" sodipodi:cx=\"0\" sodipodi:cy=\"0\" sodipodi:rx=\"3\" sodipodi:ry=\"3\" style=\"fill:#ffffff;stroke:#000000;stroke-width:1\"/>\n",
       "    </marker>\n",
       "    <marker id=\"TrussNodeM\" inkscape:stockid=\"TrussNodeM\" markerUnits=\"userSpaceOnUse\" orient=\"auto\" refX=\"0\" refY=\"0\" style=\"overflow:visible\">\n",
       "      <circle cx=\"0\" cy=\"0\" id=\"circle12\" r=\"4\" sodipodi:cx=\"0\" sodipodi:cy=\"0\" sodipodi:rx=\"4\" sodipodi:ry=\"4\" style=\"fill:#ffffff;stroke:#000000;stroke-width:1\"/>\n",
       "    </marker>\n",
       "    <!-- patternss by NMH <nholtz@cee.carleton.ca> -->\n",
       "    <pattern height=\"18\" id=\"black-stripes-on-red\" patternUnits=\"userSpaceOnUse\" width=\"18\" x=\"0\" y=\"0\">\n",
       "      <path d=\"M 0,0 18,0 18,18 0,18 z\" id=\"path3006\" inkscape:connector-curvature=\"0\" style=\"fill:#ff0000;stroke:none\"/>\n",
       "      <path d=\"M 0,9 9,0 11,0 0,11 z\" id=\"path3008\" inkscape:connector-curvature=\"0\" style=\"fill:#000000;stroke:none\"/>\n",
       "      <path d=\"m 9,18 9,-9 0,2 -7,7 z\" id=\"path5234\" inkscape:connector-curvature=\"0\" style=\"fill:#000000;stroke:none\"/>\n",
       "    </pattern>\n",
       "    <pattern id=\"pattern2913\" inkscape:collect=\"always\" patternTransform=\"matrix(0.73660762,-0.00188981,0.00219173,0.85429005,315.29939,225.8416)\" xlink:href=\"#pattern4949\"/>\n",
       "    <pattern id=\"pattern4949\" inkscape:collect=\"always\" patternTransform=\"matrix(0.99796804,0,0,1.3640134,316.09135,828.80233)\" xlink:href=\"#pattern4380\"/>\n",
       "    <pattern height=\"83.375\" id=\"pattern4380\" patternTransform=\"translate(216,485.362)\" patternUnits=\"userSpaceOnUse\" width=\"36\">\n",
       "      <g id=\"g4376\" transform=\"translate(-216,-485.362)\">\n",
       "        <polygon class=\"dload\" id=\"polygon3581-2\" points=\"360,0 0,0 0,-12 360,-12 \" style=\"fill:#f0f0f0;stroke:none;visibility:visible\" transform=\"matrix(0.1,0,0,6.75,216,566.362)\"/>\n",
       "        <path class=\"cload\" d=\"m 234,485.362 0,78.625\" id=\"path3627-7\" inkscape:connector-curvature=\"0\" style=\"fill:none;stroke:#000000;stroke-width:1.58746088;marker-end:url(#CLArrowEnd);visibility:visible\"/>\n",
       "      </g>\n",
       "    </pattern>\n",
       "    <marker id=\"CLArrowEnd\" markerHeight=\"6\" markerUnits=\"userSpaceOnUse\" markerWidth=\"10\" orient=\"auto\" refX=\"7\" refY=\"3\" viewBox=\"0 0 10 6\">\n",
       "      <path d=\"M 0,0 10,3 0,6 2,3 Z\" id=\"path3451\" inkscape:connector-curvature=\"0\"/>\n",
       "    </marker>\n",
       "    <marker id=\"CLArrowEnd-1\" markerHeight=\"6\" markerUnits=\"userSpaceOnUse\" markerWidth=\"10\" orient=\"auto\" refX=\"7\" refY=\"3\" viewBox=\"0 0 10 6\">\n",
       "      <path d=\"M 0,0 10,3 0,6 2,3 Z\" id=\"path3451-0\" inkscape:connector-curvature=\"0\"/>\n",
       "    </marker>\n",
       "  </defs>\n",
       "  <sodipodi:namedview bordercolor=\"#666666\" borderopacity=\"1.0\" fit-margin-bottom=\"0.2\" fit-margin-left=\"0.2\" fit-margin-right=\"0.2\" fit-margin-top=\"0.2\" id=\"base\" inkscape:current-layer=\"layer1\" inkscape:cx=\"254.89198\" inkscape:cy=\"35.98594\" inkscape:document-units=\"in\" inkscape:pageopacity=\"0.0\" inkscape:pageshadow=\"2\" inkscape:window-height=\"979\" inkscape:window-maximized=\"0\" inkscape:window-width=\"1179\" inkscape:window-x=\"468\" inkscape:window-y=\"26\" inkscape:zoom=\"2.02\" pagecolor=\"#ffffff\" showgrid=\"true\" showguides=\"true\" units=\"in\">\n",
       "    <inkscape:grid empspacing=\"5\" enabled=\"true\" id=\"grid2985\" originx=\"-1.6692747in\" originy=\"-7.5in\" snapvisiblegridlinesonly=\"true\" spacingx=\"0.1in\" spacingy=\"0.1in\" type=\"xygrid\" units=\"in\" visible=\"true\"/>\n",
       "    <sodipodi:guide id=\"guide3042\" orientation=\"0,765\" position=\"-150.23473,-675\"/>\n",
       "    <sodipodi:guide id=\"guide3044\" orientation=\"-990,0\" position=\"614.76527,-675\"/>\n",
       "    <sodipodi:guide id=\"guide3046\" orientation=\"0,-765\" position=\"614.76527,315\"/>\n",
       "    <sodipodi:guide id=\"guide3048\" orientation=\"990,0\" position=\"-150.23473,315\"/>\n",
       "    <sodipodi:guide id=\"guide3050\" orientation=\"0,765\" position=\"569.76527,-630\"/>\n",
       "    <sodipodi:guide id=\"guide3052\" orientation=\"-990,0\" position=\"569.76527,225\"/>\n",
       "    <sodipodi:guide id=\"guide3054\" orientation=\"0,-765\" position=\"-114.23473,270\"/>\n",
       "    <sodipodi:guide id=\"guide3056\" orientation=\"990,0\" position=\"-105.23473,198\"/>\n",
       "  </sodipodi:namedview>\n",
       "  <metadata id=\"metadata7\">\n",
       "    <rdf:RDF>\n",
       "      <cc:Work rdf:about=\"\">\n",
       "        <dc:format>image/svg+xml</dc:format>\n",
       "        <dc:type rdf:resource=\"http://purl.org/dc/dcmitype/StillImage\"/>\n",
       "        <dc:title/>\n",
       "        <cc:license rdf:resource=\"http://creativecommons.org/licenses/by-nc/3.0/\"/>\n",
       "      </cc:Work>\n",
       "      <cc:License rdf:about=\"http://creativecommons.org/licenses/by-nc/3.0/\">\n",
       "        <cc:permits rdf:resource=\"http://creativecommons.org/ns#Reproduction\"/>\n",
       "        <cc:permits rdf:resource=\"http://creativecommons.org/ns#Distribution\"/>\n",
       "        <cc:requires rdf:resource=\"http://creativecommons.org/ns#Notice\"/>\n",
       "        <cc:requires rdf:resource=\"http://creativecommons.org/ns#Attribution\"/>\n",
       "        <cc:prohibits rdf:resource=\"http://creativecommons.org/ns#CommercialUse\"/>\n",
       "        <cc:permits rdf:resource=\"http://creativecommons.org/ns#DerivativeWorks\"/>\n",
       "      </cc:License>\n",
       "    </rdf:RDF>\n",
       "  </metadata>\n",
       "  <g id=\"layer1\" inkscape:groupmode=\"layer\" inkscape:label=\"Layer 1\" transform=\"translate(-150.23473,-161.50293)\">\n",
       "    <path d=\"m 180,225 135,0 180,0 135,0\" id=\"path845\" inkscape:connector-curvature=\"0\" style=\"fill:#000000;fill-opacity:0;fill-rule:nonzero;stroke:#000000;stroke-width:2;stroke-linecap:butt;stroke-linejoin:miter;stroke-miterlimit:4;stroke-opacity:1;stroke-dasharray:none;stroke-dashoffset:0\"/>\n",
       "    <g id=\"g10775\" transform=\"translate(-75.729802,-128.99668)\">\n",
       "      <title id=\"title3737\">Pin Support</title>\n",
       "      <g id=\"use90\" transform=\"matrix(1.25,0,0,1.25,255.65647,356.59727)\">\n",
       "        <path d=\"M 0.19825424,-1.057356 5.1895254,5.8678305 -5.3216949,5.8678305 Z\" id=\"path5224\" inkscape:connector-curvature=\"0\" sodipodi:nodetypes=\"cccc\" style=\"fill:#000000;stroke:#000000;stroke-width:0\"/>\n",
       "        <path d=\"M -6,6 6,6\" id=\"path5226\" inkscape:connector-curvature=\"0\" style=\"fill:none;stroke:#000000;stroke-width:1\"/>\n",
       "        <path d=\"M 6,6 3,9 M 3,6 0,9 M 0,6 -3,9 m 0,-3 -3,3 m 0,-3 -3,3\" id=\"path5228\" inkscape:connector-curvature=\"0\" style=\"fill:none;stroke:#000000;stroke-width:1\"/>\n",
       "      </g>\n",
       "    </g>\n",
       "    <g id=\"g3395\" transform=\"translate(182.4978,-111.21247)\">\n",
       "      <title id=\"title3739\">Roller Support</title>\n",
       "      <path d=\"m 132.30977,337.64131 5,7.5 L 127.30977,345.14131 Z\" id=\"path5224-5\" inkscape:connector-curvature=\"0\" style=\"fill:#000000;stroke:#000000;stroke-width:0\"/>\n",
       "      <path d=\"m 124.80977,352.22885 15,0\" id=\"path5226-4\" inkscape:connector-curvature=\"0\" style=\"fill:none;stroke:#000000;stroke-width:1.25;stroke-linecap:square\"/>\n",
       "      <path d=\"m 139.80977,352.22885 -3.75,3.75 m 0,-3.75 -3.75,3.75 m 0,-3.75 -3.75,3.75 m 0,-3.75 -3.75,3.75 m 0,-3.75 -3.75,3.75\" id=\"path5228-7\" inkscape:connector-curvature=\"0\" style=\"fill:none;stroke:#000000;stroke-width:1.25\"/>\n",
       "      <path d=\"m 123.97004,345.62043 16.4794,0\" id=\"path3342\" inkscape:connector-curvature=\"0\" style=\"fill:none;stroke:#000000;stroke-width:1px;stroke-linecap:butt;stroke-linejoin:miter;stroke-opacity:1\"/>\n",
       "      <g id=\"use3513-4\" transform=\"matrix(0.93789014,0,0,0.93789014,136.50605,348.88774)\">\n",
       "        <circle cx=\"0\" cy=\"0\" d=\"M 2.5,0 C 2.5,1.3807119 1.3807119,2.5 0,2.5 -1.3807119,2.5 -2.5,1.3807119 -2.5,0 -2.5,-1.3807119 -1.3807119,-2.5 0,-2.5 1.3807119,-2.5 2.5,-1.3807119 2.5,0 Z\" id=\"circle3573-4\" r=\"2.5\" sodipodi:cx=\"0\" sodipodi:cy=\"0\" sodipodi:rx=\"2.5\" sodipodi:ry=\"2.5\" style=\"fill:#ffffff;stroke:#000000;stroke-width:1\"/>\n",
       "      </g>\n",
       "      <g id=\"use3513-4-7\" transform=\"matrix(0.93789014,0,0,0.93789014,128.23072,348.94766)\">\n",
       "        <circle cx=\"0\" cy=\"0\" d=\"M 2.5,0 C 2.5,1.3807119 1.3807119,2.5 0,2.5 -1.3807119,2.5 -2.5,1.3807119 -2.5,0 -2.5,-1.3807119 -1.3807119,-2.5 0,-2.5 1.3807119,-2.5 2.5,-1.3807119 2.5,0 Z\" id=\"circle3573-4-8\" r=\"2.5\" sodipodi:cx=\"0\" sodipodi:cy=\"0\" sodipodi:rx=\"2.5\" sodipodi:ry=\"2.5\" style=\"fill:#ffffff;stroke:#000000;stroke-width:1\"/>\n",
       "      </g>\n",
       "    </g>\n",
       "    <g id=\"g3395-0\" transform=\"translate(363.19791,-111.21357)\">\n",
       "      <title id=\"title3739-3\">Roller Support</title>\n",
       "      <path d=\"m 132.30977,337.64131 5,7.5 L 127.30977,345.14131 Z\" id=\"path5224-5-9\" inkscape:connector-curvature=\"0\" style=\"fill:#000000;stroke:#000000;stroke-width:0\"/>\n",
       "      <path d=\"m 124.80977,352.22885 15,0\" id=\"path5226-4-1\" inkscape:connector-curvature=\"0\" style=\"fill:none;stroke:#000000;stroke-width:1.25;stroke-linecap:square\"/>\n",
       "      <path d=\"m 139.80977,352.22885 -3.75,3.75 m 0,-3.75 -3.75,3.75 m 0,-3.75 -3.75,3.75 m 0,-3.75 -3.75,3.75 m 0,-3.75 -3.75,3.75\" id=\"path5228-7-2\" inkscape:connector-curvature=\"0\" style=\"fill:none;stroke:#000000;stroke-width:1.25\"/>\n",
       "      <path d=\"m 123.97004,345.62043 16.4794,0\" id=\"path3342-6\" inkscape:connector-curvature=\"0\" style=\"fill:none;stroke:#000000;stroke-width:1px;stroke-linecap:butt;stroke-linejoin:miter;stroke-opacity:1\"/>\n",
       "      <g id=\"use3513-4-5\" transform=\"matrix(0.93789014,0,0,0.93789014,136.50605,348.88774)\">\n",
       "        <circle cx=\"0\" cy=\"0\" d=\"M 2.5,0 C 2.5,1.3807119 1.3807119,2.5 0,2.5 -1.3807119,2.5 -2.5,1.3807119 -2.5,0 -2.5,-1.3807119 -1.3807119,-2.5 0,-2.5 1.3807119,-2.5 2.5,-1.3807119 2.5,0 Z\" id=\"circle3573-4-4\" r=\"2.5\" sodipodi:cx=\"0\" sodipodi:cy=\"0\" sodipodi:rx=\"2.5\" sodipodi:ry=\"2.5\" style=\"fill:#ffffff;stroke:#000000;stroke-width:1\"/>\n",
       "      </g>\n",
       "      <g id=\"use3513-4-7-3\" transform=\"matrix(0.93789014,0,0,0.93789014,128.23072,348.94766)\">\n",
       "        <circle cx=\"0\" cy=\"0\" d=\"M 2.5,0 C 2.5,1.3807119 1.3807119,2.5 0,2.5 -1.3807119,2.5 -2.5,1.3807119 -2.5,0 -2.5,-1.3807119 -1.3807119,-2.5 0,-2.5 1.3807119,-2.5 2.5,-1.3807119 2.5,0 Z\" id=\"circle3573-4-8-5\" r=\"2.5\" sodipodi:cx=\"0\" sodipodi:cy=\"0\" sodipodi:rx=\"2.5\" sodipodi:ry=\"2.5\" style=\"fill:#ffffff;stroke:#000000;stroke-width:1\"/>\n",
       "      </g>\n",
       "    </g>\n",
       "    <g id=\"g3395-0-2\" transform=\"translate(498.19791,-111.21247)\">\n",
       "      <title id=\"title3739-3-5\">Roller Support</title>\n",
       "      <path d=\"m 132.30977,337.64131 5,7.5 L 127.30977,345.14131 Z\" id=\"path5224-5-9-8\" inkscape:connector-curvature=\"0\" style=\"fill:#000000;stroke:#000000;stroke-width:0\"/>\n",
       "      <path d=\"m 124.80977,352.22885 15,0\" id=\"path5226-4-1-6\" inkscape:connector-curvature=\"0\" style=\"fill:none;stroke:#000000;stroke-width:1.25;stroke-linecap:square\"/>\n",
       "      <path d=\"m 139.80977,352.22885 -3.75,3.75 m 0,-3.75 -3.75,3.75 m 0,-3.75 -3.75,3.75 m 0,-3.75 -3.75,3.75 m 0,-3.75 -3.75,3.75\" id=\"path5228-7-2-7\" inkscape:connector-curvature=\"0\" style=\"fill:none;stroke:#000000;stroke-width:1.25\"/>\n",
       "      <path d=\"m 123.97004,345.62043 16.4794,0\" id=\"path3342-6-6\" inkscape:connector-curvature=\"0\" style=\"fill:none;stroke:#000000;stroke-width:1px;stroke-linecap:butt;stroke-linejoin:miter;stroke-opacity:1\"/>\n",
       "      <g id=\"use3513-4-5-7\" transform=\"matrix(0.93789014,0,0,0.93789014,136.50605,348.88774)\">\n",
       "        <circle cx=\"0\" cy=\"0\" d=\"M 2.5,0 C 2.5,1.3807119 1.3807119,2.5 0,2.5 -1.3807119,2.5 -2.5,1.3807119 -2.5,0 -2.5,-1.3807119 -1.3807119,-2.5 0,-2.5 1.3807119,-2.5 2.5,-1.3807119 2.5,0 Z\" id=\"circle3573-4-4-4\" r=\"2.5\" sodipodi:cx=\"0\" sodipodi:cy=\"0\" sodipodi:rx=\"2.5\" sodipodi:ry=\"2.5\" style=\"fill:#ffffff;stroke:#000000;stroke-width:1\"/>\n",
       "      </g>\n",
       "      <g id=\"use3513-4-7-3-1\" transform=\"matrix(0.93789014,0,0,0.93789014,128.23072,348.94766)\">\n",
       "        <circle cx=\"0\" cy=\"0\" d=\"M 2.5,0 C 2.5,1.3807119 1.3807119,2.5 0,2.5 -1.3807119,2.5 -2.5,1.3807119 -2.5,0 -2.5,-1.3807119 -1.3807119,-2.5 0,-2.5 1.3807119,-2.5 2.5,-1.3807119 2.5,0 Z\" id=\"circle3573-4-8-5-7\" r=\"2.5\" sodipodi:cx=\"0\" sodipodi:cy=\"0\" sodipodi:rx=\"2.5\" sodipodi:ry=\"2.5\" style=\"fill:#ffffff;stroke:#000000;stroke-width:1\"/>\n",
       "      </g>\n",
       "    </g>\n",
       "    <rect height=\"18.000023\" id=\"rect3421\" style=\"fill:url(#pattern2913);fill-opacity:1;stroke:#000000;stroke-width:0.90483356\" width=\"180.00014\" x=\"315\" y=\"207\"/>\n",
       "    <path class=\"cload\" d=\"m 270.84346,194.15654 0,28.75\" id=\"path3507\" inkscape:connector-curvature=\"0\" style=\"fill:none;stroke:#000000;stroke-width:1.25;marker-end:url(#CLArrowEnd-1)\"/>\n",
       "    <text id=\"text3173\" sodipodi:linespacing=\"125%\" style=\"font-size:12.5px;font-style:normal;font-variant:normal;font-weight:normal;font-stretch:normal;text-align:start;line-height:125%;letter-spacing:0px;word-spacing:0px;writing-mode:lr-tb;text-anchor:start;fill:#000000;fill-opacity:1;stroke:none;font-family:Verdana;-inkscape-font-specification:Sans\" x=\"252\" xml:space=\"preserve\" y=\"189\"><tspan id=\"tspan3175\" sodipodi:role=\"line\" x=\"252\" y=\"189\">180kN</tspan></text>\n",
       "    <text id=\"text3177\" sodipodi:linespacing=\"125%\" style=\"font-size:12.5px;font-style:normal;font-variant:normal;font-weight:normal;font-stretch:normal;text-align:start;line-height:125%;letter-spacing:0px;word-spacing:0px;writing-mode:lr-tb;text-anchor:start;fill:#000000;fill-opacity:1;stroke:none;font-family:Verdana;-inkscape-font-specification:Sans\" x=\"387\" xml:space=\"preserve\" y=\"198\"><tspan id=\"tspan3179\" sodipodi:role=\"line\" x=\"387\" y=\"198\">45kN/m</tspan></text>\n",
       "    <text id=\"text3181\" sodipodi:linespacing=\"125%\" style=\"font-size:12.5px;font-style:normal;font-variant:normal;font-weight:normal;font-stretch:normal;text-align:start;line-height:125%;letter-spacing:0px;word-spacing:0px;writing-mode:lr-tb;text-anchor:start;fill:#000000;fill-opacity:1;stroke:none;font-family:Verdana;-inkscape-font-specification:Sans\" x=\"205.74709\" xml:space=\"preserve\" y=\"236.349\"><tspan id=\"tspan3183\" sodipodi:role=\"line\" x=\"205.74709\" y=\"236.349\">I</tspan></text>\n",
       "    <text id=\"text3185\" sodipodi:linespacing=\"125%\" style=\"font-size:12.5px;font-style:normal;font-variant:normal;font-weight:normal;font-stretch:normal;text-align:start;line-height:125%;letter-spacing:0px;word-spacing:0px;writing-mode:lr-tb;text-anchor:start;fill:#000000;fill-opacity:1;stroke:none;font-family:Verdana;-inkscape-font-specification:Sans\" x=\"354.88699\" xml:space=\"preserve\" y=\"237.39915\"><tspan id=\"tspan3187\" sodipodi:role=\"line\" x=\"354.88699\" y=\"237.39915\">2I</tspan></text>\n",
       "    <text id=\"text3189\" sodipodi:linespacing=\"125%\" style=\"font-size:12.5px;font-style:normal;font-variant:normal;font-weight:normal;font-stretch:normal;text-align:start;line-height:125%;letter-spacing:0px;word-spacing:0px;writing-mode:lr-tb;text-anchor:start;fill:#000000;fill-opacity:1;stroke:none;font-family:Verdana;-inkscape-font-specification:Sans\" x=\"514.14203\" xml:space=\"preserve\" y=\"237.0491\"><tspan id=\"tspan3191\" sodipodi:role=\"line\" x=\"514.14203\" y=\"237.0491\">I</tspan></text>\n",
       "    <text id=\"text3193\" sodipodi:linespacing=\"125%\" style=\"font-size:12.5px;font-style:normal;font-variant:normal;font-weight:normal;font-stretch:normal;text-align:start;line-height:125%;letter-spacing:0px;word-spacing:0px;writing-mode:lr-tb;text-anchor:start;fill:#000000;fill-opacity:1;stroke:none;font-family:Verdana;-inkscape-font-specification:Sans\" x=\"215.89862\" xml:space=\"preserve\" y=\"259.14841\"><tspan id=\"tspan3195\" sodipodi:role=\"line\" x=\"215.89862\" y=\"259.14841\">4m</tspan></text>\n",
       "    <text id=\"text3197\" sodipodi:linespacing=\"125%\" style=\"font-size:12.5px;font-style:normal;font-variant:normal;font-weight:normal;font-stretch:normal;text-align:start;line-height:125%;letter-spacing:0px;word-spacing:0px;writing-mode:lr-tb;text-anchor:start;fill:#000000;fill-opacity:1;stroke:none;font-family:Verdana;-inkscape-font-specification:Sans\" x=\"284.14941\" xml:space=\"preserve\" y=\"258.44821\"><tspan id=\"tspan3199\" sodipodi:role=\"line\" x=\"284.14941\" y=\"258.44821\">2m</tspan></text>\n",
       "    <text id=\"text3201\" sodipodi:linespacing=\"125%\" style=\"font-size:12.5px;font-style:normal;font-variant:normal;font-weight:normal;font-stretch:normal;text-align:start;line-height:125%;letter-spacing:0px;word-spacing:0px;writing-mode:lr-tb;text-anchor:start;fill:#000000;fill-opacity:1;stroke:none;font-family:Verdana;-inkscape-font-specification:Sans\" x=\"235.99895\" xml:space=\"preserve\" y=\"285.89975\"><tspan id=\"tspan3203\" sodipodi:role=\"line\" x=\"235.99895\" y=\"285.89975\">6m</tspan></text>\n",
       "    <text id=\"text3205\" sodipodi:linespacing=\"125%\" style=\"font-size:12.5px;font-style:normal;font-variant:normal;font-weight:normal;font-stretch:normal;text-align:start;line-height:125%;letter-spacing:0px;word-spacing:0px;writing-mode:lr-tb;text-anchor:start;fill:#000000;fill-opacity:1;stroke:none;font-family:Verdana;-inkscape-font-specification:Sans\" x=\"396.7001\" xml:space=\"preserve\" y=\"285.65109\"><tspan id=\"tspan3207\" sodipodi:role=\"line\" x=\"396.7001\" y=\"285.65109\">8m</tspan></text>\n",
       "    <text id=\"text3209\" sodipodi:linespacing=\"125%\" style=\"font-size:12.5px;font-style:normal;font-variant:normal;font-weight:normal;font-stretch:normal;text-align:start;line-height:125%;letter-spacing:0px;word-spacing:0px;writing-mode:lr-tb;text-anchor:start;fill:#000000;fill-opacity:1;stroke:none;font-family:Verdana;-inkscape-font-specification:Sans\" x=\"555.09821\" xml:space=\"preserve\" y=\"285.75244\"><tspan id=\"tspan3211\" sodipodi:role=\"line\" x=\"555.09821\" y=\"285.75244\">6m</tspan></text>\n",
       "    <path d=\"m 180,243 0,54\" id=\"path3213\" inkscape:connector-curvature=\"0\" style=\"fill:#000000;fill-opacity:0;fill-rule:nonzero;stroke:#4d4d4d;stroke-width:0.75;stroke-linecap:butt;stroke-linejoin:miter;stroke-miterlimit:4;stroke-opacity:1;stroke-dasharray:none;stroke-dashoffset:0\"/>\n",
       "    <path d=\"m 315,252 0,45\" id=\"path3215\" inkscape:connector-curvature=\"0\" style=\"fill:#000000;fill-opacity:0;fill-rule:nonzero;stroke:#4d4d4d;stroke-width:0.75;stroke-linecap:butt;stroke-linejoin:miter;stroke-miterlimit:4;stroke-opacity:1;stroke-dasharray:none;stroke-dashoffset:0\"/>\n",
       "    <path d=\"m 495,252 0,44.40127\" id=\"path3217\" inkscape:connector-curvature=\"0\" sodipodi:nodetypes=\"cc\" style=\"fill:#000000;fill-opacity:0;fill-rule:nonzero;stroke:#4d4d4d;stroke-width:0.75;stroke-linecap:butt;stroke-linejoin:miter;stroke-miterlimit:4;stroke-opacity:1;stroke-dasharray:none;stroke-dashoffset:0\"/>\n",
       "    <path d=\"m 630,252 0,44.40127\" id=\"path3219\" inkscape:connector-curvature=\"0\" sodipodi:nodetypes=\"cc\" style=\"fill:#000000;fill-opacity:0;fill-rule:nonzero;stroke:#4d4d4d;stroke-width:0.75;stroke-linecap:butt;stroke-linejoin:miter;stroke-miterlimit:4;stroke-opacity:1;stroke-dasharray:none;stroke-dashoffset:0\"/>\n",
       "    <path d=\"m 270,234 0,36\" id=\"path3221\" inkscape:connector-curvature=\"0\" style=\"fill:#000000;fill-opacity:0;fill-rule:nonzero;stroke:#4d4d4d;stroke-width:0.75;stroke-linecap:butt;stroke-linejoin:miter;stroke-miterlimit:4;stroke-opacity:1;stroke-dasharray:none;stroke-dashoffset:0\"/>\n",
       "    <path d=\"m 180,288 135,0 180,0 135,0\" id=\"path3223\" inkscape:connector-curvature=\"0\" style=\"fill:#000000;fill-opacity:0;fill-rule:nonzero;stroke:#4d4d4d;stroke-width:0.72000003;stroke-linecap:butt;stroke-linejoin:miter;stroke-miterlimit:4;stroke-opacity:1;stroke-dasharray:none;stroke-dashoffset:0;marker-start:url(#DimensionTick);marker-mid:url(#DimensionTick);marker-end:url(#DimensionTick)\"/>\n",
       "    <path d=\"m 180,261 90,0 45,0\" id=\"path3225\" inkscape:connector-curvature=\"0\" style=\"fill:#000000;fill-opacity:0;fill-rule:nonzero;stroke:#4d4d4d;stroke-width:0.72000003;stroke-linecap:butt;stroke-linejoin:miter;stroke-miterlimit:4;stroke-opacity:1;stroke-dasharray:none;stroke-dashoffset:0;marker-start:url(#DimensionTick);marker-mid:url(#DimensionTick);marker-end:url(#DimensionTick)\"/>\n",
       "    <text id=\"text3227\" sodipodi:linespacing=\"125%\" style=\"font-size:11.25px;font-style:normal;font-variant:normal;font-weight:normal;font-stretch:normal;text-align:start;line-height:125%;letter-spacing:0px;word-spacing:0px;writing-mode:lr-tb;text-anchor:start;fill:#000000;fill-opacity:1;stroke:none;font-family:Verdana;-inkscape-font-specification:Sans\" x=\"181.15154\" xml:space=\"preserve\" y=\"221.84952\"><tspan id=\"tspan3229\" sodipodi:role=\"line\" style=\"font-style:italic;font-variant:normal;font-weight:normal;font-stretch:normal;font-family:Verdana;-inkscape-font-specification:Verdana Italic\" x=\"181.15154\" y=\"221.84952\">a</tspan></text>\n",
       "    <text id=\"text3231\" sodipodi:linespacing=\"125%\" style=\"font-size:11.25px;font-style:normal;font-variant:normal;font-weight:normal;font-stretch:normal;text-align:start;line-height:125%;letter-spacing:0px;word-spacing:0px;writing-mode:lr-tb;text-anchor:start;fill:#000000;fill-opacity:1;stroke:none;font-family:Verdana;-inkscape-font-specification:Sans\" x=\"304.3511\" xml:space=\"preserve\" y=\"221.60085\"><tspan id=\"tspan3233\" sodipodi:role=\"line\" style=\"font-style:italic;font-variant:normal;font-weight:normal;font-stretch:normal;font-family:Verdana;-inkscape-font-specification:Verdana Italic\" x=\"304.3511\" y=\"221.60085\">b</tspan></text>\n",
       "    <text id=\"text3235\" sodipodi:linespacing=\"125%\" style=\"font-size:11.25px;font-style:normal;font-variant:normal;font-weight:normal;font-stretch:normal;text-align:start;line-height:125%;letter-spacing:0px;word-spacing:0px;writing-mode:lr-tb;text-anchor:start;fill:#000000;fill-opacity:1;stroke:none;font-family:Verdana;-inkscape-font-specification:Sans\" x=\"496.99893\" xml:space=\"preserve\" y=\"220.90074\"><tspan id=\"tspan3237\" sodipodi:role=\"line\" style=\"font-style:italic;font-variant:normal;font-weight:normal;font-stretch:normal;font-family:Verdana;-inkscape-font-specification:Verdana Italic\" x=\"496.99893\" y=\"220.90074\">c</tspan></text>\n",
       "    <text id=\"text3239\" sodipodi:linespacing=\"125%\" style=\"font-size:11.25px;font-style:italic;font-variant:normal;font-weight:normal;font-stretch:normal;text-align:start;line-height:125%;letter-spacing:0px;word-spacing:0px;writing-mode:lr-tb;text-anchor:start;fill:#000000;fill-opacity:1;stroke:none;font-family:Verdana;-inkscape-font-specification:Verdana Italic\" x=\"632.45038\" xml:space=\"preserve\" y=\"221.9509\"><tspan id=\"tspan3241\" sodipodi:role=\"line\" x=\"632.45038\" y=\"221.9509\">d</tspan></text>\n",
       "  </g>\n",
       "</svg>"
      ],
      "text/plain": [
       "<IPython.core.display.SVG object>"
      ]
     },
     "execution_count": 2,
     "metadata": {},
     "output_type": "execute_result"
    }
   ],
   "source": [
    "display.SVG('oiq-exam-1.svg')"
   ]
  },
  {
   "cell_type": "code",
   "execution_count": 3,
   "metadata": {
    "collapsed": false
   },
   "outputs": [],
   "source": [
    "from sdutil2 import SD, FEF\n",
    "var('EI theta_a theta_b theta_c theta_d')\n",
    "Mab,Mba,Vab,Vba = SD(6,EI,theta_a,theta_b) + FEF.p(6,180,4)\n",
    "Mbc,Mcb,Vbc,Vcb = SD(8,2*EI,theta_b,theta_c) + FEF.udl(8,45)\n",
    "Mcd,Mdc,Vcd,Vdc = SD(6,EI,theta_c,theta_d)"
   ]
  },
  {
   "cell_type": "markdown",
   "metadata": {},
   "source": [
    "Solve equilbrium equations for rotations:"
   ]
  },
  {
   "cell_type": "code",
   "execution_count": 4,
   "metadata": {
    "collapsed": false
   },
   "outputs": [
    {
     "data": {
      "text/latex": [
       "$$\\left \\{ \\theta_{a} : \\frac{75.0}{EI}, \\quad \\theta_{b} : \\frac{90.0}{EI}, \\quad \\theta_{c} : - \\frac{190.0}{EI}, \\quad \\theta_{d} : \\frac{95.0}{EI}\\right \\}$$"
      ],
      "text/plain": [
       "⎧    75.0       90.0       -190.0        95.0⎫\n",
       "⎨θₐ: ────, θ_b: ────, θ_c: ───────, θ_d: ────⎬\n",
       "⎩     EI         EI           EI          EI ⎭"
      ]
     },
     "execution_count": 4,
     "metadata": {},
     "output_type": "execute_result"
    }
   ],
   "source": [
    "soln = solve( [Mab,Mba+Mbc,Mcb+Mcd,Mdc],[theta_a,theta_b,theta_c,theta_d] )\n",
    "soln"
   ]
  },
  {
   "cell_type": "markdown",
   "metadata": {},
   "source": [
    "Member end moments:"
   ]
  },
  {
   "cell_type": "code",
   "execution_count": 5,
   "metadata": {
    "collapsed": false
   },
   "outputs": [
    {
     "data": {
      "text/latex": [
       "$$\\left [ 0, \\quad 245.0, \\quad -245.0, \\quad 95.0, \\quad -95.0, \\quad 0\\right ]$$"
      ],
      "text/plain": [
       "[0, 245.0, -245.0, 95.0, -95.0, 0]"
      ]
     },
     "execution_count": 5,
     "metadata": {},
     "output_type": "execute_result"
    }
   ],
   "source": [
    "[m.subs(soln) for m in [Mab,Mba,Mbc,Mcb,Mcd,Mdc]]"
   ]
  },
  {
   "cell_type": "markdown",
   "metadata": {},
   "source": [
    "Member end shears:"
   ]
  },
  {
   "cell_type": "code",
   "execution_count": 6,
   "metadata": {
    "collapsed": false
   },
   "outputs": [
    {
     "data": {
      "text/latex": [
       "$$\\left [ 19.17, \\quad -160.8, \\quad 198.8, \\quad -161.3, \\quad 15.83, \\quad 15.83\\right ]$$"
      ],
      "text/plain": [
       "[19.17, -160.8, 198.8, -161.3, 15.83, 15.83]"
      ]
     },
     "execution_count": 6,
     "metadata": {},
     "output_type": "execute_result"
    }
   ],
   "source": [
    "[v.subs(soln).n(4) for v in [Vab,Vba,Vbc,Vcb,Vcd,Vdc]]"
   ]
  },
  {
   "cell_type": "markdown",
   "metadata": {},
   "source": [
    "Reactions:"
   ]
  },
  {
   "cell_type": "code",
   "execution_count": 7,
   "metadata": {
    "collapsed": false
   },
   "outputs": [
    {
     "data": {
      "text/latex": [
       "$$\\left [ 19.17, \\quad 359.6, \\quad 177.1, \\quad -15.83\\right ]$$"
      ],
      "text/plain": [
       "[19.17, 359.6, 177.1, -15.83]"
      ]
     },
     "execution_count": 7,
     "metadata": {},
     "output_type": "execute_result"
    }
   ],
   "source": [
    "Ra = Vab\n",
    "Rb = Vbc - Vba\n",
    "Rc = Vcd - Vcb\n",
    "Rd = -Vdc\n",
    "[r.subs(soln).n(4) for r in [Ra,Rb,Rc,Rd]]"
   ]
  },
  {
   "cell_type": "markdown",
   "metadata": {},
   "source": [
    "#### Check overal equilibrium"
   ]
  },
  {
   "cell_type": "code",
   "execution_count": 8,
   "metadata": {
    "collapsed": false
   },
   "outputs": [
    {
     "data": {
      "text/latex": [
       "$$0$$"
      ],
      "text/plain": [
       "0"
      ]
     },
     "execution_count": 8,
     "metadata": {},
     "output_type": "execute_result"
    }
   ],
   "source": [
    "# sum forces in vertical dirn.\n",
    "(Ra+Rb+Rc+Rd - 180 - 45*8).subs(soln)"
   ]
  },
  {
   "cell_type": "code",
   "execution_count": 9,
   "metadata": {
    "collapsed": false
   },
   "outputs": [
    {
     "data": {
      "text/latex": [
       "$$0$$"
      ],
      "text/plain": [
       "0"
      ]
     },
     "execution_count": 9,
     "metadata": {},
     "output_type": "execute_result"
    }
   ],
   "source": [
    "# sum moments about left\n",
    "(-Rb*6 - Rc*(6+8) -Rd*(6+8+6) + 180*4 + 45*8*(6 + 8/2.)).subs(soln)"
   ]
  },
  {
   "cell_type": "code",
   "execution_count": 10,
   "metadata": {
    "collapsed": false
   },
   "outputs": [
    {
     "data": {
      "text/latex": [
       "$$- \\frac{EI \\theta_{a}}{6} - \\frac{EI \\theta_{b}}{6} + 46.6666666666667$$"
      ],
      "text/plain": [
       "  EI⋅θₐ   EI⋅θ_b                   \n",
       "- ───── - ────── + 46.6666666666667\n",
       "    6       6                      "
      ]
     },
     "execution_count": 10,
     "metadata": {},
     "output_type": "execute_result"
    }
   ],
   "source": [
    "Ra.expand()"
   ]
  },
  {
   "cell_type": "code",
   "execution_count": null,
   "metadata": {
    "collapsed": true
   },
   "outputs": [],
   "source": []
  }
 ],
 "metadata": {
  "kernelspec": {
   "display_name": "Python 3",
   "language": "python",
   "name": "python3"
  },
  "language_info": {
   "codemirror_mode": {
    "name": "ipython",
    "version": 3
   },
   "file_extension": ".py",
   "mimetype": "text/x-python",
   "name": "python",
   "nbconvert_exporter": "python",
   "pygments_lexer": "ipython3",
   "version": "3.4.3"
  }
 },
 "nbformat": 4,
 "nbformat_minor": 0
}
