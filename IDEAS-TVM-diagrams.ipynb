{
 "cells": [
  {
   "cell_type": "markdown",
   "metadata": {},
   "source": [
    "# Thrust, Shear, Moment Diagrams\n",
    "Compact representation of the complete axial, shear and moment diagrams of a member.  \n",
    " - allows complete accurate plotting\n",
    " - allows determination of extremes and locations\n",
    " - allows determination of regions with values exceeding limits"
   ]
  },
  {
   "cell_type": "code",
   "execution_count": 1,
   "metadata": {
    "collapsed": true
   },
   "outputs": [],
   "source": [
    "# uses frame sign convention, not beam sign convention\n",
    "\n",
    "class TVMSegment(object):\n",
    "    \n",
    "    def __init__(self,l,t0,v0,m0,w0,w1=None,p0=0.,p1=0.):\n",
    "        self.l = l    # length of segment\n",
    "        self.t0 = t0  # thrust at start of segment\n",
    "        self.v0 = v0  # shear at start of segment\n",
    "        self.m0 = m0  # moment at start of segment\n",
    "        self.w0 = w0  # transverse distributed load intenstity at start of segment\n",
    "        self.w1 = w1 if w1 is not None else w0  # at end of segment\n",
    "        self.p0 = p0  # parallel distributed load at start\n",
    "        self.p1 = p1  # parallel distributed load at end\n",
    "        \n",
    "    @property\n",
    "    def t1(self):\n",
    "        return -self.t0 - (self.p0+self.p1)*self.l/2.\n",
    "    \n",
    "    @property\n",
    "    def v1(self):\n",
    "        return -self.v0 - (self.w0+self.w1)*self.l/2.\n",
    "    \n",
    "    @property\n",
    "    def m1(self):\n",
    "        return -self.m0 + self.v0*self.l + (self.w0*self.l*self.l/2.) + ((self.w1-self.w0)*self.l*self.l/6.)"
   ]
  },
  {
   "cell_type": "code",
   "execution_count": 2,
   "metadata": {
    "collapsed": true
   },
   "outputs": [],
   "source": [
    "class TVMPoint(object):\n",
    "    \n",
    "    def __init__(self,t0,v0,m0,N=0.,P=0.,M=0.):\n",
    "        self.l = 0.\n",
    "        self.t0 = t0      # thust before the point\n",
    "        self.v0 = v0      # shear before the point\n",
    "        self.m0 = m0      # moment before the point\n",
    "        self.N = N        # applied normal force\n",
    "        self.P = P        # applied transverse force\n",
    "        self.M = M        # applied moment\n",
    "        \n",
    "    @property\n",
    "    def t1(self):\n",
    "        return -self.t0 - self.T\n",
    "    \n",
    "    @property\n",
    "    def v1(self):\n",
    "        return -self.v0 - self.P\n",
    "    \n",
    "    def m1(self):\n",
    "        return -self.m0 - self.M"
   ]
  },
  {
   "cell_type": "markdown",
   "metadata": {},
   "source": [
    "Now need a class to represent end-to-end lists of these things, with operations:\n",
    " - change a segment to segment-point-segment (eg add a point load to udl, 'splitting' it)\n",
    " - the left values of one segment are always the neg of the right value of the previous segment"
   ]
  },
  {
   "cell_type": "code",
   "execution_count": null,
   "metadata": {
    "collapsed": true
   },
   "outputs": [],
   "source": []
  }
 ],
 "metadata": {
  "kernelspec": {
   "display_name": "Python 2",
   "language": "python",
   "name": "python2"
  },
  "language_info": {
   "codemirror_mode": {
    "name": "ipython",
    "version": 2
   },
   "file_extension": ".py",
   "mimetype": "text/x-python",
   "name": "python",
   "nbconvert_exporter": "python",
   "pygments_lexer": "ipython2",
   "version": "2.7.6"
  },
  "widgets": {
   "state": {},
   "version": "1.1.1"
  }
 },
 "nbformat": 4,
 "nbformat_minor": 0
}
