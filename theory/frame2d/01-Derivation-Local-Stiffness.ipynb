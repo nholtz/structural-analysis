{
 "cells": [
  {
   "cell_type": "markdown",
   "metadata": {},
   "source": [
    "### Plane Frame Member Local Stiffness Matrix\n",
    "This page develops the various member stiffness relationships needed to analyze a planar frame by the matrix stiffness method."
   ]
  },
  {
   "cell_type": "code",
   "execution_count": 1,
   "metadata": {
    "collapsed": false,
    "scrolled": true
   },
   "outputs": [],
   "source": [
    "from salib import showImage"
   ]
  },
  {
   "cell_type": "markdown",
   "metadata": {},
   "source": [
    "#### Numbering and Sign Convention, Local Coordinates"
   ]
  },
  {
   "cell_type": "code",
   "execution_count": 2,
   "metadata": {
    "collapsed": false
   },
   "outputs": [
    {
     "data": {
      "image/svg+xml": [
       "<svg height=\"1.7141756in\" id=\"svg2\" inkscape:version=\"0.91 r\" sodipodi:docname=\"numbering-and-signs.svg\" version=\"1.1\" viewBox=\"0 0 323.19484 164.56086\" width=\"3.3666129in\" xmlns=\"http://www.w3.org/2000/svg\" xmlns:cc=\"http://creativecommons.org/ns#\" xmlns:dc=\"http://purl.org/dc/elements/1.1/\" xmlns:inkscape=\"http://www.inkscape.org/namespaces/inkscape\" xmlns:rdf=\"http://www.w3.org/1999/02/22-rdf-syntax-ns#\" xmlns:sodipodi=\"http://sodipodi.sourceforge.net/DTD/sodipodi-0.dtd\" xmlns:svg=\"http://www.w3.org/2000/svg\" xmlns:xlink=\"http://www.w3.org/1999/xlink\">\n",
       "  <sodipodi:namedview bordercolor=\"#666666\" borderopacity=\"1.0\" fit-margin-bottom=\"0.2\" fit-margin-left=\"0.2\" fit-margin-right=\"0.2\" fit-margin-top=\"0.2\" id=\"base\" inkscape:current-layer=\"g5894\" inkscape:cx=\"165.58312\" inkscape:cy=\"153.87312\" inkscape:document-units=\"in\" inkscape:pageopacity=\"0.0\" inkscape:pageshadow=\"2\" inkscape:snap-global=\"true\" inkscape:window-height=\"979\" inkscape:window-maximized=\"0\" inkscape:window-width=\"1179\" inkscape:window-x=\"615\" inkscape:window-y=\"56\" inkscape:zoom=\"2.02\" pagecolor=\"#ffffff\" showgrid=\"true\" showguides=\"true\" units=\"in\">\n",
       "    <inkscape:grid empspacing=\"5\" enabled=\"true\" id=\"grid2985\" originx=\"-355.83931\" originy=\"-688.86938\" snapvisiblegridlinesonly=\"true\" spacingx=\"0.1in\" spacingy=\"0.1in\" type=\"xygrid\" units=\"in\" visible=\"true\"/>\n",
       "    <sodipodi:guide id=\"guide3042\" orientation=\"0,765\" position=\"-355.83931,-688.86938\"/>\n",
       "    <sodipodi:guide id=\"guide3044\" orientation=\"-990,0\" position=\"460.16073,491.93065\"/>\n",
       "    <sodipodi:guide id=\"guide3046\" orientation=\"0,-765\" position=\"-346.23931,367.13065\"/>\n",
       "    <sodipodi:guide id=\"guide3048\" orientation=\"990,0\" position=\"-355.83931,301.13064\"/>\n",
       "    <sodipodi:guide id=\"guide3050\" orientation=\"0,765\" position=\"364.16072,-643.86938\"/>\n",
       "    <sodipodi:guide id=\"guide3052\" orientation=\"-990,0\" position=\"412.16072,472.73065\"/>\n",
       "    <sodipodi:guide id=\"guide3054\" orientation=\"0,-765\" position=\"-269.4393,319.13065\"/>\n",
       "    <sodipodi:guide id=\"guide3056\" orientation=\"990,0\" position=\"-307.83931,424.73066\"/>\n",
       "  </sodipodi:namedview>\n",
       "  <script id=\"script3033\" xlink:href=\"\"/>\n",
       "  <defs id=\"defs4\">\n",
       "    <marker id=\"marker5880\" inkscape:isstock=\"true\" inkscape:stockid=\"Arrow2Mstart\" orient=\"auto\" refX=\"0.0\" refY=\"0.0\" style=\"overflow:visible\">\n",
       "      <path d=\"M 8.7185878,4.0337352 L -2.2072895,0.016013256 L 8.7185884,-4.0017078 C 6.9730900,-1.6296469 6.9831476,1.6157441 8.7185878,4.0337352 z \" id=\"path5882\" style=\"fill-rule:evenodd;stroke-width:0.625;stroke-linejoin:round;stroke:#000000;stroke-opacity:1;fill:#000000;fill-opacity:1\" transform=\"scale(0.6) translate(0,0)\"/>\n",
       "    </marker>\n",
       "    <marker id=\"marker5876\" inkscape:isstock=\"true\" inkscape:stockid=\"Arrow1Mstart\" orient=\"auto\" refX=\"0.0\" refY=\"0.0\" style=\"overflow:visible\">\n",
       "      <path d=\"M 0.0,0.0 L 5.0,-5.0 L -12.5,0.0 L 5.0,5.0 L 0.0,0.0 z \" id=\"path5878\" style=\"fill-rule:evenodd;stroke:#000000;stroke-width:1pt;stroke-opacity:1;fill:#000000;fill-opacity:1\" transform=\"scale(0.4) translate(10,0)\"/>\n",
       "    </marker>\n",
       "    <marker id=\"Arrow2Mstart\" inkscape:isstock=\"true\" inkscape:stockid=\"Arrow2Mstart\" orient=\"auto\" refX=\"0.0\" refY=\"0.0\" style=\"overflow:visible\">\n",
       "      <path d=\"M 8.7185878,4.0337352 L -2.2072895,0.016013256 L 8.7185884,-4.0017078 C 6.9730900,-1.6296469 6.9831476,1.6157441 8.7185878,4.0337352 z \" id=\"path5620\" style=\"fill-rule:evenodd;stroke-width:0.625;stroke-linejoin:round;stroke:#000000;stroke-opacity:1;fill:#000000;fill-opacity:1\" transform=\"scale(0.6) translate(0,0)\"/>\n",
       "    </marker>\n",
       "    <marker id=\"Arrow1Mstart\" inkscape:isstock=\"true\" inkscape:stockid=\"Arrow1Mstart\" orient=\"auto\" refX=\"0.0\" refY=\"0.0\" style=\"overflow:visible\">\n",
       "      <path d=\"M 0.0,0.0 L 5.0,-5.0 L -12.5,0.0 L 5.0,5.0 L 0.0,0.0 z \" id=\"path5602\" style=\"fill-rule:evenodd;stroke:#000000;stroke-width:1pt;stroke-opacity:1;fill:#000000;fill-opacity:1\" transform=\"scale(0.4) translate(10,0)\"/>\n",
       "    </marker>\n",
       "    <marker id=\"marker5866\" inkscape:isstock=\"true\" inkscape:stockid=\"Arrow2Mend\" orient=\"auto\" refX=\"0.0\" refY=\"0.0\" style=\"overflow:visible;\">\n",
       "      <path d=\"M 8.7185878,4.0337352 L -2.2072895,0.016013256 L 8.7185884,-4.0017078 C 6.9730900,-1.6296469 6.9831476,1.6157441 8.7185878,4.0337352 z \" id=\"path5868\" style=\"fill-rule:evenodd;stroke-width:0.62500000;stroke-linejoin:round;\" transform=\"scale(0.6) rotate(180) translate(0,0)\"/>\n",
       "    </marker>\n",
       "    <marker id=\"marker5862\" inkscape:isstock=\"true\" inkscape:stockid=\"Arrow2Mend\" orient=\"auto\" refX=\"0.0\" refY=\"0.0\" style=\"overflow:visible;\">\n",
       "      <path d=\"M 8.7185878,4.0337352 L -2.2072895,0.016013256 L 8.7185884,-4.0017078 C 6.9730900,-1.6296469 6.9831476,1.6157441 8.7185878,4.0337352 z \" id=\"path5864\" style=\"fill-rule:evenodd;stroke-width:0.625;stroke-linejoin:round;stroke:#000000;stroke-opacity:1;fill:#000000;fill-opacity:1\" transform=\"scale(0.6) rotate(180) translate(0,0)\"/>\n",
       "    </marker>\n",
       "    <marker id=\"marker5858\" inkscape:isstock=\"true\" inkscape:stockid=\"Arrow2Mend\" orient=\"auto\" refX=\"0.0\" refY=\"0.0\" style=\"overflow:visible;\">\n",
       "      <path d=\"M 8.7185878,4.0337352 L -2.2072895,0.016013256 L 8.7185884,-4.0017078 C 6.9730900,-1.6296469 6.9831476,1.6157441 8.7185878,4.0337352 z \" id=\"path5860\" style=\"fill-rule:evenodd;stroke-width:0.625;stroke-linejoin:round;stroke:#000000;stroke-opacity:1;fill:#000000;fill-opacity:1\" transform=\"scale(0.6) rotate(180) translate(0,0)\"/>\n",
       "    </marker>\n",
       "    <marker id=\"marker5854\" inkscape:isstock=\"true\" inkscape:stockid=\"Arrow2Mend\" orient=\"auto\" refX=\"0.0\" refY=\"0.0\" style=\"overflow:visible;\">\n",
       "      <path d=\"M 8.7185878,4.0337352 L -2.2072895,0.016013256 L 8.7185884,-4.0017078 C 6.9730900,-1.6296469 6.9831476,1.6157441 8.7185878,4.0337352 z \" id=\"path5856\" style=\"fill-rule:evenodd;stroke-width:0.625;stroke-linejoin:round;stroke:#000000;stroke-opacity:1;fill:#000000;fill-opacity:1\" transform=\"scale(0.6) rotate(180) translate(0,0)\"/>\n",
       "    </marker>\n",
       "    <marker id=\"Arrow2Mend\" inkscape:collect=\"always\" inkscape:isstock=\"true\" inkscape:stockid=\"Arrow2Mend\" orient=\"auto\" refX=\"0.0\" refY=\"0.0\" style=\"overflow:visible;\">\n",
       "      <path d=\"M 8.7185878,4.0337352 L -2.2072895,0.016013256 L 8.7185884,-4.0017078 C 6.9730900,-1.6296469 6.9831476,1.6157441 8.7185878,4.0337352 z \" id=\"path5623\" style=\"fill-rule:evenodd;stroke-width:0.625;stroke-linejoin:round;stroke:#000000;stroke-opacity:1;fill:#000000;fill-opacity:1\" transform=\"scale(0.6) rotate(180) translate(0,0)\"/>\n",
       "    </marker>\n",
       "    <marker id=\"marker5571\" inkscape:isstock=\"true\" inkscape:stockid=\"Arrow2Send\" orient=\"auto\" refX=\"0\" refY=\"0\" style=\"overflow:visible\">\n",
       "      <path d=\"M 8.7185878,4.0337352 -2.2072895,0.01601326 8.7185884,-4.0017078 c -1.7454984,2.3720609 -1.7354408,5.6174519 -6e-7,8.035443 z\" id=\"path5573\" inkscape:connector-curvature=\"0\" style=\"fill:#000000;fill-opacity:1;fill-rule:evenodd;stroke:#000000;stroke-width:0.625;stroke-linejoin:round;stroke-opacity:1\" transform=\"matrix(-0.3,0,0,-0.3,0.69,0)\"/>\n",
       "    </marker>\n",
       "    <marker id=\"marker5567\" inkscape:isstock=\"true\" inkscape:stockid=\"Arrow1Send\" orient=\"auto\" refX=\"0\" refY=\"0\" style=\"overflow:visible\">\n",
       "      <path d=\"M 0,0 5,-5 -12.5,0 5,5 0,0 Z\" id=\"path5569\" inkscape:connector-curvature=\"0\" style=\"fill:#000000;fill-opacity:1;fill-rule:evenodd;stroke:#000000;stroke-width:1pt;stroke-opacity:1\" transform=\"matrix(-0.2,0,0,-0.2,-1.2,0)\"/>\n",
       "    </marker>\n",
       "    <marker id=\"Arrow1Mend\" inkscape:isstock=\"true\" inkscape:stockid=\"Arrow1Mend\" orient=\"auto\" refX=\"0\" refY=\"0\" style=\"overflow:visible\">\n",
       "      <path d=\"M 0,0 5,-5 -12.5,0 5,5 0,0 Z\" id=\"path5261\" inkscape:connector-curvature=\"0\" style=\"fill:#000000;fill-opacity:1;fill-rule:evenodd;stroke:#000000;stroke-width:1pt;stroke-opacity:1\" transform=\"matrix(-0.4,0,0,-0.4,-4,0)\"/>\n",
       "    </marker>\n",
       "    <!-- markers by NMH <nholtz@cee.carleton.ca> -->\n",
       "    <marker id=\"DimensionTick\" inkscape:stockid=\"DimensionTick\" orient=\"auto\" refX=\"0\" refY=\"0\" style=\"overflow:visible\">\n",
       "      <path d=\"M 0,0 8,8\" id=\"path6\" inkscape:connector-curvature=\"0\" style=\"stroke:#4d4d4d;stroke-width:1px;marker-start:none\" transform=\"translate(-4,-4)\"/>\n",
       "    </marker>\n",
       "    <marker id=\"TrussNodeS\" inkscape:stockid=\"TrussNodeS\" markerUnits=\"userSpaceOnUse\" orient=\"auto\" refX=\"0\" refY=\"0\" style=\"overflow:visible\">\n",
       "      <circle cx=\"0\" cy=\"0\" id=\"circle9\" r=\"3\" style=\"fill:#ffffff;stroke:#000000;stroke-width:1\"/>\n",
       "    </marker>\n",
       "    <marker id=\"TrussNodeM\" inkscape:stockid=\"TrussNodeM\" markerUnits=\"userSpaceOnUse\" orient=\"auto\" refX=\"0\" refY=\"0\" style=\"overflow:visible\">\n",
       "      <circle cx=\"0\" cy=\"0\" id=\"circle12\" r=\"4\" style=\"fill:#ffffff;stroke:#000000;stroke-width:1\"/>\n",
       "    </marker>\n",
       "    <!-- patternss by NMH <nholtz@cee.carleton.ca> -->\n",
       "    <pattern height=\"18\" id=\"black-stripes-on-red\" patternUnits=\"userSpaceOnUse\" width=\"18\" x=\"0\" y=\"0\">\n",
       "      <path d=\"M 0,0 18,0 18,18 0,18 z\" id=\"path3006\" inkscape:connector-curvature=\"0\" style=\"fill:#ff0000;stroke:none\"/>\n",
       "      <path d=\"M 0,9 9,0 11,0 0,11 z\" id=\"path3008\" inkscape:connector-curvature=\"0\" style=\"fill:#000000;stroke:none\"/>\n",
       "      <path d=\"m 9,18 9,-9 0,2 -7,7 z\" id=\"path5234\" inkscape:connector-curvature=\"0\" style=\"fill:#000000;stroke:none\"/>\n",
       "    </pattern>\n",
       "    <marker id=\"Arrow2Sstart-3\" inkscape:stockid=\"Arrow2Sstart\" orient=\"auto\" refX=\"0\" refY=\"0\" style=\"overflow:visible\">\n",
       "      <path d=\"M 8.7185878,4.0337352 -2.2072895,0.01601326 8.7185884,-4.0017078 c -1.7454984,2.3720609 -1.7354408,5.6174519 -6e-7,8.035443 z\" id=\"path4929-9\" inkscape:connector-curvature=\"0\" style=\"fill-rule:evenodd;stroke-width:0.625;stroke-linejoin:round\" transform=\"matrix(0.3,0,0,0.3,-0.69,0)\"/>\n",
       "    </marker>\n",
       "  </defs>\n",
       "  <metadata id=\"metadata7\">\n",
       "    <rdf:RDF>\n",
       "      <cc:Work rdf:about=\"\">\n",
       "        <dc:format>image/svg+xml</dc:format>\n",
       "        <dc:type rdf:resource=\"http://purl.org/dc/dcmitype/StillImage\"/>\n",
       "        <dc:title/>\n",
       "        <cc:license rdf:resource=\"http://creativecommons.org/licenses/by-nc/3.0/\"/>\n",
       "      </cc:Work>\n",
       "      <cc:License rdf:about=\"http://creativecommons.org/licenses/by-nc/3.0/\">\n",
       "        <cc:permits rdf:resource=\"http://creativecommons.org/ns#Reproduction\"/>\n",
       "        <cc:permits rdf:resource=\"http://creativecommons.org/ns#Distribution\"/>\n",
       "        <cc:requires rdf:resource=\"http://creativecommons.org/ns#Notice\"/>\n",
       "        <cc:requires rdf:resource=\"http://creativecommons.org/ns#Attribution\"/>\n",
       "        <cc:prohibits rdf:resource=\"http://creativecommons.org/ns#CommercialUse\"/>\n",
       "        <cc:permits rdf:resource=\"http://creativecommons.org/ns#DerivativeWorks\"/>\n",
       "      </cc:License>\n",
       "    </rdf:RDF>\n",
       "  </metadata>\n",
       "  <g id=\"layer1\" inkscape:groupmode=\"layer\" inkscape:label=\"Layer 1\" transform=\"translate(-355.83929,-136.56978)\">\n",
       "    <text id=\"text5546\" sodipodi:linespacing=\"125%\" style=\"color:#000000;font-style:normal;font-variant:normal;font-weight:normal;font-stretch:normal;font-size:10.66666698px;line-height:125%;font-family:Verdana;-inkscape-font-specification:Verdana;text-indent:0;text-align:center;text-decoration:none;text-decoration-line:none;text-decoration-style:solid;text-decoration-color:#000000;letter-spacing:0px;word-spacing:0px;text-transform:none;direction:ltr;block-progression:tb;writing-mode:lr-tb;baseline-shift:baseline;text-anchor:middle;white-space:normal;clip-rule:nonzero;display:inline;overflow:visible;visibility:visible;opacity:1;isolation:auto;mix-blend-mode:normal;color-interpolation:sRGB;color-interpolation-filters:linearRGB;solid-color:#000000;solid-opacity:1;fill:#000000;fill-opacity:1;fill-rule:nonzero;stroke:none;stroke-width:0.46875;stroke-linecap:butt;stroke-linejoin:miter;stroke-miterlimit:4;stroke-dasharray:none;stroke-dashoffset:0;stroke-opacity:1;color-rendering:auto;image-rendering:auto;shape-rendering:auto;text-rendering:auto;enable-background:accumulate\" x=\"545.19281\" xml:space=\"preserve\" y=\"266.45148\"><tspan id=\"tspan5548\" sodipodi:role=\"line\" x=\"545.19281\" y=\"266.45148\">Local Member Numbering:</tspan><tspan id=\"tspan5580\" sodipodi:role=\"line\" x=\"547.06781\" y=\"279.78482\">Forces &amp; Displacements </tspan></text>\n",
       "    <g id=\"g5894\">\n",
       "      <path d=\"m 437.57402,209.01327 191.99992,0.18184\" id=\"path5018\" inkscape:connector-curvature=\"0\" style=\"opacity:1;fill:none;fill-opacity:1;stroke:#000000;stroke-width:2.13333344;stroke-miterlimit:8;stroke-dasharray:none;stroke-dashoffset:0;stroke-opacity:1\"/>\n",
       "      <path class=\"cload\" d=\"m 407.99351,209.03057 24.85806,0.0446\" id=\"path5024\" inkscape:connector-curvature=\"0\" sodipodi:nodetypes=\"cc\" style=\"fill:none;stroke:#000000;stroke-width:1.05600013;marker-end:url(#marker5858);stroke-miterlimit:4;stroke-dasharray:none\"/>\n",
       "      <path class=\"cload\" d=\"m 437.3426,204.29178 0.0446,-24.85807\" id=\"path5026\" inkscape:connector-curvature=\"0\" sodipodi:nodetypes=\"cc\" style=\"fill:none;stroke:#000000;stroke-width:1.05600013;marker-end:url(#marker5854);stroke-miterlimit:4;stroke-dasharray:none\"/>\n",
       "      <g id=\"g5884\" transform=\"translate(0,4.2666674)\">\n",
       "        <path class=\"mload\" d=\"m 435.53248,215.67605 a 9.4757261,9.5968176 0.05426444 0 0 0.0182,-19.19362\" id=\"path5030\" inkscape:connector-curvature=\"0\" style=\"visibility:visible;fill:none;stroke:#000000;stroke-width:1.0666666;stroke-miterlimit:4;stroke-dasharray:none;marker-end:none\"/>\n",
       "        <path d=\"m 430.2745,196.48605 5.47687,0.003\" id=\"path5032\" inkscape:connector-curvature=\"0\" sodipodi:nodetypes=\"cc\" style=\"fill:none;stroke:#000000;stroke-width:1.0666666;stroke-linecap:butt;stroke-miterlimit:4;stroke-dasharray:none;stroke-dashoffset:0;stroke-opacity:1;marker-start:url(#marker5880);marker-end:none\"/>\n",
       "      </g>\n",
       "      <path class=\"cload\" d=\"m 632.21192,208.73201 24.85806,0.0446\" id=\"path5036\" inkscape:connector-curvature=\"0\" sodipodi:nodetypes=\"cc\" style=\"fill:none;stroke:#000000;stroke-width:1.05600013;marker-end:url(#marker5862);stroke-miterlimit:4;stroke-dasharray:none\"/>\n",
       "      <path class=\"cload\" d=\"m 629.34249,204.58063 0.0446,-24.85807\" id=\"path5038\" inkscape:connector-curvature=\"0\" sodipodi:nodetypes=\"cc\" style=\"fill:none;stroke:#000000;stroke-width:1.05600013;marker-end:url(#Arrow2Mend);stroke-miterlimit:4;stroke-dasharray:none\"/>\n",
       "      <text id=\"text5058\" sodipodi:linespacing=\"125%\" style=\"color:#000000;font-style:normal;font-variant:normal;font-weight:normal;font-stretch:normal;font-size:12px;line-height:125%;font-family:Verdana;-inkscape-font-specification:Verdana;text-indent:0;text-align:start;text-decoration:none;text-decoration-line:none;text-decoration-style:solid;text-decoration-color:#000000;letter-spacing:0px;word-spacing:0px;text-transform:none;direction:ltr;block-progression:tb;writing-mode:lr-tb;baseline-shift:baseline;text-anchor:start;white-space:normal;clip-rule:nonzero;display:inline;overflow:visible;visibility:visible;opacity:1;isolation:auto;mix-blend-mode:normal;color-interpolation:sRGB;color-interpolation-filters:linearRGB;solid-color:#000000;solid-opacity:1;fill:#000000;fill-opacity:1;fill-rule:nonzero;stroke:none;stroke-width:0.46875;stroke-linecap:butt;stroke-linejoin:miter;stroke-miterlimit:4;stroke-dasharray:none;stroke-dashoffset:0;stroke-opacity:1;color-rendering:auto;image-rendering:auto;shape-rendering:auto;text-rendering:auto;enable-background:accumulate\" transform=\"matrix(0.99999955,9.4709271e-4,-9.4709271e-4,0.99999955,0,0)\" x=\"422.61411\" xml:space=\"preserve\" y=\"221.07411\"><tspan id=\"tspan5060\" sodipodi:role=\"line\" x=\"422.61411\" y=\"221.07411\">0</tspan></text>\n",
       "      <text id=\"text5062\" sodipodi:linespacing=\"125%\" style=\"color:#000000;font-style:normal;font-variant:normal;font-weight:normal;font-stretch:normal;font-size:12px;line-height:125%;font-family:Verdana;-inkscape-font-specification:Verdana;text-indent:0;text-align:start;text-decoration:none;text-decoration-line:none;text-decoration-style:solid;text-decoration-color:#000000;letter-spacing:0px;word-spacing:0px;text-transform:none;direction:ltr;block-progression:tb;writing-mode:lr-tb;baseline-shift:baseline;text-anchor:start;white-space:normal;clip-rule:nonzero;display:inline;overflow:visible;visibility:visible;opacity:1;isolation:auto;mix-blend-mode:normal;color-interpolation:sRGB;color-interpolation-filters:linearRGB;solid-color:#000000;solid-opacity:1;fill:#000000;fill-opacity:1;fill-rule:nonzero;stroke:none;stroke-width:0.46875;stroke-linecap:butt;stroke-linejoin:miter;stroke-miterlimit:4;stroke-dasharray:none;stroke-dashoffset:0;stroke-opacity:1;color-rendering:auto;image-rendering:auto;shape-rendering:auto;text-rendering:auto;enable-background:accumulate\" transform=\"matrix(0.99999955,9.4709271e-4,-9.4709271e-4,0.99999955,0,0)\" x=\"439.98306\" xml:space=\"preserve\" y=\"185.55452\"><tspan id=\"tspan5064\" sodipodi:role=\"line\" x=\"439.98306\" y=\"185.55452\">1</tspan></text>\n",
       "      <text id=\"text5066\" sodipodi:linespacing=\"125%\" style=\"color:#000000;font-style:normal;font-variant:normal;font-weight:normal;font-stretch:normal;font-size:12px;line-height:125%;font-family:Verdana;-inkscape-font-specification:Verdana;text-indent:0;text-align:start;text-decoration:none;text-decoration-line:none;text-decoration-style:solid;text-decoration-color:#000000;letter-spacing:0px;word-spacing:0px;text-transform:none;direction:ltr;block-progression:tb;writing-mode:lr-tb;baseline-shift:baseline;text-anchor:start;white-space:normal;clip-rule:nonzero;display:inline;overflow:visible;visibility:visible;opacity:1;isolation:auto;mix-blend-mode:normal;color-interpolation:sRGB;color-interpolation-filters:linearRGB;solid-color:#000000;solid-opacity:1;fill:#000000;fill-opacity:1;fill-rule:nonzero;stroke:none;stroke-width:0.46875;stroke-linecap:butt;stroke-linejoin:miter;stroke-miterlimit:4;stroke-dasharray:none;stroke-dashoffset:0;stroke-opacity:1;color-rendering:auto;image-rendering:auto;shape-rendering:auto;text-rendering:auto;enable-background:accumulate\" transform=\"matrix(0.99999955,9.4709271e-4,-9.4709271e-4,0.99999955,0,0)\" x=\"421.69791\" xml:space=\"preserve\" y=\"199.57108\"><tspan id=\"tspan5068\" sodipodi:role=\"line\" x=\"421.69791\" y=\"199.57108\">2</tspan></text>\n",
       "      <text id=\"text5070\" sodipodi:linespacing=\"125%\" style=\"color:#000000;font-style:normal;font-variant:normal;font-weight:normal;font-stretch:normal;font-size:12px;line-height:125%;font-family:Verdana;-inkscape-font-specification:Verdana;text-indent:0;text-align:start;text-decoration:none;text-decoration-line:none;text-decoration-style:solid;text-decoration-color:#000000;letter-spacing:0px;word-spacing:0px;text-transform:none;direction:ltr;block-progression:tb;writing-mode:lr-tb;baseline-shift:baseline;text-anchor:start;white-space:normal;clip-rule:nonzero;display:inline;overflow:visible;visibility:visible;opacity:1;isolation:auto;mix-blend-mode:normal;color-interpolation:sRGB;color-interpolation-filters:linearRGB;solid-color:#000000;solid-opacity:1;fill:#000000;fill-opacity:1;fill-rule:nonzero;stroke:none;stroke-width:0.46875;stroke-linecap:butt;stroke-linejoin:miter;stroke-miterlimit:4;stroke-dasharray:none;stroke-dashoffset:0;stroke-opacity:1;color-rendering:auto;image-rendering:auto;shape-rendering:auto;text-rendering:auto;enable-background:accumulate\" transform=\"matrix(0.99999955,9.4709271e-4,-9.4709271e-4,0.99999955,0,0)\" x=\"648.81982\" xml:space=\"preserve\" y=\"220.47189\"><tspan id=\"tspan5072\" sodipodi:role=\"line\" x=\"648.81982\" y=\"220.47189\">3</tspan></text>\n",
       "      <text id=\"text5074\" sodipodi:linespacing=\"125%\" style=\"color:#000000;font-style:normal;font-variant:normal;font-weight:normal;font-stretch:normal;font-size:12px;line-height:125%;font-family:Verdana;-inkscape-font-specification:Verdana;text-indent:0;text-align:start;text-decoration:none;text-decoration-line:none;text-decoration-style:solid;text-decoration-color:#000000;letter-spacing:0px;word-spacing:0px;text-transform:none;direction:ltr;block-progression:tb;writing-mode:lr-tb;baseline-shift:baseline;text-anchor:start;white-space:normal;clip-rule:nonzero;display:inline;overflow:visible;visibility:visible;opacity:1;isolation:auto;mix-blend-mode:normal;color-interpolation:sRGB;color-interpolation-filters:linearRGB;solid-color:#000000;solid-opacity:1;fill:#000000;fill-opacity:1;fill-rule:nonzero;stroke:none;stroke-width:0.46875;stroke-linecap:butt;stroke-linejoin:miter;stroke-miterlimit:4;stroke-dasharray:none;stroke-dashoffset:0;stroke-opacity:1;color-rendering:auto;image-rendering:auto;shape-rendering:auto;text-rendering:auto;enable-background:accumulate\" transform=\"matrix(0.99999955,9.4709271e-4,-9.4709271e-4,0.99999955,0,0)\" x=\"631.81989\" xml:space=\"preserve\" y=\"184.98528\"><tspan id=\"tspan5076\" sodipodi:role=\"line\" x=\"631.81989\" y=\"184.98528\">4</tspan></text>\n",
       "      <text id=\"text5078\" sodipodi:linespacing=\"125%\" style=\"color:#000000;font-style:normal;font-variant:normal;font-weight:normal;font-stretch:normal;font-size:12px;line-height:125%;font-family:Verdana;-inkscape-font-specification:Verdana;text-indent:0;text-align:start;text-decoration:none;text-decoration-line:none;text-decoration-style:solid;text-decoration-color:#000000;letter-spacing:0px;word-spacing:0px;text-transform:none;direction:ltr;block-progression:tb;writing-mode:lr-tb;baseline-shift:baseline;text-anchor:start;white-space:normal;clip-rule:nonzero;display:inline;overflow:visible;visibility:visible;opacity:1;isolation:auto;mix-blend-mode:normal;color-interpolation:sRGB;color-interpolation-filters:linearRGB;solid-color:#000000;solid-opacity:1;fill:#000000;fill-opacity:1;fill-rule:nonzero;stroke:none;stroke-width:0.46875;stroke-linecap:butt;stroke-linejoin:miter;stroke-miterlimit:4;stroke-dasharray:none;stroke-dashoffset:0;stroke-opacity:1;color-rendering:auto;image-rendering:auto;shape-rendering:auto;text-rendering:auto;enable-background:accumulate\" transform=\"matrix(0.99999955,9.4709271e-4,-9.4709271e-4,0.99999955,0,0)\" x=\"614.07019\" xml:space=\"preserve\" y=\"197.76448\"><tspan id=\"tspan5080\" sodipodi:role=\"line\" x=\"614.07019\" y=\"197.76448\">5</tspan></text>\n",
       "      <path d=\"m 437.56493,218.61327 -0.0273,28.79998\" id=\"path5086\" inkscape:connector-curvature=\"0\" style=\"opacity:1;fill:none;fill-opacity:1;stroke:#606060;stroke-width:1;stroke-miterlimit:8;stroke-dasharray:none;stroke-dashoffset:0;stroke-opacity:1\"/>\n",
       "      <path d=\"m 629.56485,218.79511 -0.0273,28.79999\" id=\"path5088\" inkscape:connector-curvature=\"0\" style=\"opacity:1;fill:none;fill-opacity:1;stroke:#606060;stroke-width:1;stroke-miterlimit:8;stroke-dasharray:none;stroke-dashoffset:0;stroke-opacity:1\"/>\n",
       "      <path d=\"m 437.54673,237.81325 191.99992,0.18184\" id=\"path5090\" inkscape:connector-curvature=\"0\" style=\"opacity:1;fill:none;fill-opacity:1;stroke:#606060;stroke-width:1;stroke-miterlimit:8;stroke-dasharray:none;stroke-dashoffset:0;stroke-opacity:1;marker-start:url(#DimensionTick);marker-mid:url(#DimensionTick);marker-end:url(#DimensionTick)\"/>\n",
       "      <text id=\"text5092\" sodipodi:linespacing=\"125%\" style=\"color:#000000;font-style:normal;font-variant:normal;font-weight:normal;font-stretch:normal;font-size:12px;line-height:125%;font-family:verdana;-inkscape-font-specification:Verdana;text-indent:0;text-align:start;text-decoration:none;text-decoration-line:none;text-decoration-style:solid;text-decoration-color:#000000;letter-spacing:0px;word-spacing:0px;text-transform:none;direction:ltr;block-progression:tb;writing-mode:lr-tb;baseline-shift:baseline;text-anchor:start;white-space:normal;clip-rule:nonzero;display:inline;overflow:visible;visibility:visible;opacity:1;isolation:auto;mix-blend-mode:normal;color-interpolation:sRGB;color-interpolation-filters:linearRGB;solid-color:#000000;solid-opacity:1;fill:#000000;fill-opacity:1;fill-rule:nonzero;stroke:none;stroke-width:0.46875;stroke-linecap:butt;stroke-linejoin:miter;stroke-miterlimit:4;stroke-dasharray:none;stroke-dashoffset:0;stroke-opacity:1;color-rendering:auto;image-rendering:auto;shape-rendering:auto;text-rendering:auto;enable-background:accumulate\" transform=\"matrix(0.99999955,9.4709271e-4,-9.4709271e-4,0.99999955,0,0)\" x=\"531.57178\" xml:space=\"preserve\" y=\"234.39874\"><tspan id=\"tspan5094\" sodipodi:role=\"line\" x=\"531.57178\" y=\"234.39874\">L</tspan></text>\n",
       "      <text id=\"text5242\" sodipodi:linespacing=\"125%\" style=\"color:#000000;font-style:normal;font-variant:normal;font-weight:normal;font-stretch:normal;font-size:12px;line-height:125%;font-family:Verdana;-inkscape-font-specification:Verdana;text-indent:0;text-align:start;text-decoration:none;text-decoration-line:none;text-decoration-style:solid;text-decoration-color:#000000;letter-spacing:0px;word-spacing:0px;text-transform:none;direction:ltr;block-progression:tb;writing-mode:lr-tb;baseline-shift:baseline;text-anchor:start;white-space:normal;clip-rule:nonzero;display:inline;overflow:visible;visibility:visible;opacity:1;isolation:auto;mix-blend-mode:normal;color-interpolation:sRGB;color-interpolation-filters:linearRGB;solid-color:#000000;solid-opacity:1;fill:#000000;fill-opacity:1;fill-rule:nonzero;stroke:none;stroke-width:0.46875;stroke-linecap:butt;stroke-linejoin:miter;stroke-miterlimit:4;stroke-dasharray:none;stroke-dashoffset:0;stroke-opacity:1;color-rendering:auto;image-rendering:auto;shape-rendering:auto;text-rendering:auto;enable-background:accumulate\" transform=\"matrix(0.99999955,9.4709271e-4,-9.4709271e-4,0.99999955,0,0)\" x=\"500.88464\" xml:space=\"preserve\" y=\"192.66211\"><tspan id=\"tspan5244\" sodipodi:role=\"line\" x=\"500.88464\" y=\"192.66211\">E,I,A</tspan></text>\n",
       "      <path d=\"m 533.59217,189.9042 28.79999,0.0273 17.0505,17.08282\" id=\"path5246\" inkscape:connector-curvature=\"0\" sodipodi:nodetypes=\"ccc\" style=\"opacity:1;fill:none;fill-opacity:1;stroke:#000000;stroke-width:0.76800001;stroke-miterlimit:8;stroke-dasharray:none;stroke-dashoffset:0;stroke-opacity:1;marker-end:url(#Arrow1Mend)\"/>\n",
       "      <text id=\"text4257\" sodipodi:linespacing=\"125%\" style=\"color:#000000;font-style:normal;font-variant:normal;font-weight:normal;font-stretch:normal;font-size:10.66666794px;line-height:125%;font-family:Verdana;-inkscape-font-specification:Verdana;text-indent:0;text-align:start;text-decoration:none;text-decoration-line:none;text-decoration-style:solid;text-decoration-color:#000000;letter-spacing:0px;word-spacing:0px;text-transform:none;direction:ltr;block-progression:tb;writing-mode:lr-tb;baseline-shift:baseline;text-anchor:start;white-space:normal;clip-rule:nonzero;display:inline;overflow:visible;visibility:visible;opacity:1;isolation:auto;mix-blend-mode:normal;color-interpolation:sRGB;color-interpolation-filters:linearRGB;solid-color:#000000;solid-opacity:1;fill:#000000;fill-opacity:1;fill-rule:nonzero;stroke:none;stroke-width:0.46875;stroke-linecap:butt;stroke-linejoin:miter;stroke-miterlimit:4;stroke-dasharray:none;stroke-dashoffset:0;stroke-opacity:1;color-rendering:auto;image-rendering:auto;shape-rendering:auto;text-rendering:auto;enable-background:accumulate\" x=\"614.32605\" xml:space=\"preserve\" y=\"165.40332\"><tspan id=\"tspan4259\" sodipodi:role=\"line\" x=\"614.32605\" y=\"165.40332\">end k</tspan></text>\n",
       "      <text id=\"text4261\" sodipodi:linespacing=\"125%\" style=\"color:#000000;font-style:normal;font-variant:normal;font-weight:normal;font-stretch:normal;font-size:10.66666794px;line-height:125%;font-family:Verdana;-inkscape-font-specification:Verdana;text-indent:0;text-align:start;text-decoration:none;text-decoration-line:none;text-decoration-style:solid;text-decoration-color:#000000;letter-spacing:0px;word-spacing:0px;text-transform:none;direction:ltr;block-progression:tb;writing-mode:lr-tb;baseline-shift:baseline;text-anchor:start;white-space:normal;clip-rule:nonzero;display:inline;overflow:visible;visibility:visible;opacity:1;isolation:auto;mix-blend-mode:normal;color-interpolation:sRGB;color-interpolation-filters:linearRGB;solid-color:#000000;solid-opacity:1;fill:#000000;fill-opacity:1;fill-rule:nonzero;stroke:none;stroke-width:0.46875;stroke-linecap:butt;stroke-linejoin:miter;stroke-miterlimit:4;stroke-dasharray:none;stroke-dashoffset:0;stroke-opacity:1;color-rendering:auto;image-rendering:auto;shape-rendering:auto;text-rendering:auto;enable-background:accumulate\" x=\"424.13623\" xml:space=\"preserve\" y=\"163.87395\"><tspan id=\"tspan4263\" sodipodi:role=\"line\" x=\"424.13623\" y=\"163.87395\">end j</tspan></text>\n",
       "      <text id=\"text5582\" sodipodi:linespacing=\"125%\" style=\"color:#000000;font-style:normal;font-variant:normal;font-weight:normal;font-stretch:normal;font-size:10.66666794px;line-height:125%;font-family:Verdana;-inkscape-font-specification:Verdana;text-indent:0;text-align:center;text-decoration:none;text-decoration-line:none;text-decoration-style:solid;text-decoration-color:#000000;letter-spacing:0px;word-spacing:0px;text-transform:none;direction:ltr;block-progression:tb;writing-mode:lr-tb;baseline-shift:baseline;text-anchor:middle;white-space:normal;clip-rule:nonzero;display:inline;overflow:visible;visibility:visible;opacity:1;isolation:auto;mix-blend-mode:normal;color-interpolation:sRGB;color-interpolation-filters:linearRGB;solid-color:#000000;solid-opacity:1;fill:#000000;fill-opacity:1;fill-rule:nonzero;stroke:none;stroke-width:0.46875;stroke-linecap:butt;stroke-linejoin:miter;stroke-miterlimit:4;stroke-dasharray:none;stroke-dashoffset:0;stroke-opacity:1;color-rendering:auto;image-rendering:auto;shape-rendering:auto;text-rendering:auto;enable-background:accumulate;\" x=\"388.14401\" xml:space=\"preserve\" y=\"232.84622\"><tspan id=\"tspan5586\" sodipodi:role=\"line\" x=\"374.68512\" y=\"232.84622\">f<tspan id=\"tspan5588\" style=\"font-size:69.3333447%;baseline-shift:sub;text-anchor:middle;text-align:center;\">0</tspan>, δ<tspan id=\"tspan5590\" style=\"font-size:69.3333447%;baseline-shift:sub;text-anchor:middle;text-align:center;\">0</tspan> </tspan><tspan id=\"tspan5935\" sodipodi:role=\"line\" x=\"374.68512\" y=\"246.17955\">etc.</tspan></text>\n",
       "      <g id=\"g5888\" transform=\"translate(191.41915,2.904291)\">\n",
       "        <path class=\"mload\" d=\"m 435.53248,215.67605 a 9.4757261,9.5968176 0.05426444 0 0 0.0182,-19.19362\" id=\"path5890\" inkscape:connector-curvature=\"0\" style=\"visibility:visible;fill:none;stroke:#000000;stroke-width:1.0666666;stroke-miterlimit:4;stroke-dasharray:none;marker-end:none\"/>\n",
       "        <path d=\"m 430.2745,196.48605 5.47687,0.003\" id=\"path5892\" inkscape:connector-curvature=\"0\" sodipodi:nodetypes=\"cc\" style=\"fill:none;stroke:#000000;stroke-width:1.0666666;stroke-linecap:butt;stroke-miterlimit:4;stroke-dasharray:none;stroke-dashoffset:0;stroke-opacity:1;marker-start:url(#marker5880);marker-end:none\"/>\n",
       "      </g>\n",
       "    </g>\n",
       "  </g>\n",
       "</svg>"
      ],
      "text/plain": [
       "<IPython.core.display.SVG object>"
      ]
     },
     "metadata": {},
     "output_type": "display_data"
    }
   ],
   "source": [
    "showImage('numbering-and-signs')"
   ]
  },
  {
   "cell_type": "markdown",
   "metadata": {},
   "source": [
    "The above figure shows the numbering and sign convention used for the six end displacements and forces for a general 2D frame member.  These are shown relative to the local coordinate system of the member, with origin at the left, or *j-end*, and *x*-axis coincident with the axis of the member.  The *y*-axis is positive upwards. It is sometimes necessary to distinguish member ends; the term *j-end* is used to refer to the left end or origin, and *k-end* is the other end (note that the CAL manual uses the *i-* and *j-* end for the same purpose).\n",
    "\n",
    "Of course $f_0$ and $f_3$ are axial forces, $f_1$ and $f_4$ are shear forces, and $f_2$ and $f_5$ are bending moments.\n",
    "\n",
    "$\\newcommand{\\mat}[1]{\\left[\\begin{matrix}#1\\end{matrix}\\right]}$\n",
    "The local member stiffness matrix, $\\mat{K_l}$, expresses the end forces as a function of the end displacements, thus:\n",
    "$$\n",
    "\\mat{f_0\\\\ f_1\\\\ f_2\\\\ f_3\\\\ f_4\\\\ f_5} =\n",
    "\\mat{K_l}\n",
    "\\mat{\\delta_0\\\\ \\delta_1\\\\ \\delta_2\\\\ \\delta_3\\\\ \\delta_4\\\\ \\delta_5}\n",
    "$$"
   ]
  },
  {
   "cell_type": "markdown",
   "metadata": {},
   "source": [
    "### Derivation of the Local Member Stiffness Matrix, $\\mat{K_l}$"
   ]
  },
  {
   "cell_type": "code",
   "execution_count": 3,
   "metadata": {
    "collapsed": false
   },
   "outputs": [],
   "source": [
    "from sympy import *\n",
    "init_printing(use_latex='mathjax')\n",
    "from sympy.matrices import Matrix"
   ]
  },
  {
   "cell_type": "markdown",
   "metadata": {},
   "source": [
    "#### Moment Flexibility Coefficients\n",
    "\n",
    "We will first determine the inverse relationship for end moments -- the rotation flexibility matrix, $\\mat{F}$, that expresses the end *rotations* as a function of the end *moments*, as shown in the following figure.\n",
    "\n",
    "$$\n",
    "\\mat{\\delta_2\\\\ \\delta_5} = \\mat{F} \\mat{f_2\\\\f_5}\n",
    "$$"
   ]
  },
  {
   "cell_type": "code",
   "execution_count": 4,
   "metadata": {
    "collapsed": false,
    "scrolled": true
   },
   "outputs": [
    {
     "data": {
      "image/svg+xml": [
       "<svg height=\"2.7111783in\" id=\"svg2\" inkscape:version=\"0.91 r\" sodipodi:docname=\"flexibility.svg\" version=\"1.1\" viewBox=\"0 0 465.21469 260.27312\" width=\"4.8459864in\" xmlns=\"http://www.w3.org/2000/svg\" xmlns:cc=\"http://creativecommons.org/ns#\" xmlns:dc=\"http://purl.org/dc/elements/1.1/\" xmlns:inkscape=\"http://www.inkscape.org/namespaces/inkscape\" xmlns:ns0=\"http://www.iki.fi/pav/software/textext/\" xmlns:rdf=\"http://www.w3.org/1999/02/22-rdf-syntax-ns#\" xmlns:sodipodi=\"http://sodipodi.sourceforge.net/DTD/sodipodi-0.dtd\" xmlns:svg=\"http://www.w3.org/2000/svg\" xmlns:xlink=\"http://www.w3.org/1999/xlink\">\n",
       "  <sodipodi:namedview bordercolor=\"#666666\" borderopacity=\"1.0\" fit-margin-bottom=\"0.2\" fit-margin-left=\"0.2\" fit-margin-right=\"0.2\" fit-margin-top=\"0.2\" id=\"base\" inkscape:current-layer=\"svg2\" inkscape:cx=\"219.23907\" inkscape:cy=\"110.54803\" inkscape:document-units=\"in\" inkscape:guide-bbox=\"true\" inkscape:pageopacity=\"0.0\" inkscape:pageshadow=\"2\" inkscape:window-height=\"979\" inkscape:window-maximized=\"0\" inkscape:window-width=\"1179\" inkscape:window-x=\"463\" inkscape:window-y=\"35\" inkscape:zoom=\"2.02\" pagecolor=\"#ffffff\" showgrid=\"true\" showguides=\"false\" units=\"in\">\n",
       "    <inkscape:grid empspacing=\"5\" enabled=\"true\" id=\"grid2985\" originx=\"-151.32023\" originy=\"-623.45908\" snapvisiblegridlinesonly=\"true\" spacingx=\"0.1in\" spacingy=\"0.1in\" type=\"xygrid\" units=\"in\" visible=\"true\"/>\n",
       "    <sodipodi:guide id=\"guide3042\" orientation=\"0,765\" position=\"-151.32023,-623.45908\"/>\n",
       "    <sodipodi:guide id=\"guide3044\" orientation=\"-990,0\" position=\"664.67979,557.34096\"/>\n",
       "    <sodipodi:guide id=\"guide3046\" orientation=\"0,-765\" position=\"-141.72023,432.54095\"/>\n",
       "    <sodipodi:guide id=\"guide3048\" orientation=\"990,0\" position=\"-151.32023,366.54095\"/>\n",
       "    <sodipodi:guide id=\"guide3050\" orientation=\"0,765\" position=\"568.67979,-578.45908\"/>\n",
       "    <sodipodi:guide id=\"guide3052\" orientation=\"-990,0\" position=\"616.67979,538.14096\"/>\n",
       "    <sodipodi:guide id=\"guide3054\" orientation=\"0,-765\" position=\"-64.920224,384.54095\"/>\n",
       "    <sodipodi:guide id=\"guide3056\" orientation=\"990,0\" position=\"-103.32022,490.14095\"/>\n",
       "  </sodipodi:namedview>\n",
       "  <script id=\"script3033\" xlink:href=\"\"/>\n",
       "  <defs id=\"defs4\">\n",
       "    <marker id=\"Arrow2Mend\" inkscape:isstock=\"true\" inkscape:stockid=\"Arrow2Mend\" orient=\"auto\" refX=\"0\" refY=\"0\" style=\"overflow:visible\">\n",
       "      <path d=\"M 8.7185878,4.0337352 -2.2072895,0.01601326 8.7185884,-4.0017078 c -1.7454984,2.3720609 -1.7354408,5.6174519 -6e-7,8.035443 z\" id=\"path8449\" inkscape:connector-curvature=\"0\" style=\"fill:#808080;fill-opacity:1;fill-rule:evenodd;stroke:#808080;stroke-width:0.625;stroke-linejoin:round;stroke-opacity:1\" transform=\"scale(-0.6,-0.6)\"/>\n",
       "    </marker>\n",
       "    <marker id=\"marker8794\" inkscape:isstock=\"true\" inkscape:stockid=\"Arrow2Mstart\" orient=\"auto\" refX=\"0\" refY=\"0\" style=\"overflow:visible\">\n",
       "      <path d=\"M 8.7185878,4.0337352 -2.2072895,0.01601326 8.7185884,-4.0017078 c -1.7454984,2.3720609 -1.7354408,5.6174519 -6e-7,8.035443 z\" id=\"path8796\" inkscape:connector-curvature=\"0\" style=\"fill:#808080;fill-opacity:1;fill-rule:evenodd;stroke:#808080;stroke-width:0.625;stroke-linejoin:round;stroke-opacity:1\" transform=\"scale(0.6,0.6)\"/>\n",
       "    </marker>\n",
       "    <marker id=\"Arrow2Mstart\" inkscape:collect=\"always\" inkscape:isstock=\"true\" inkscape:stockid=\"Arrow2Mstart\" orient=\"auto\" refX=\"0\" refY=\"0\" style=\"overflow:visible\">\n",
       "      <path d=\"M 8.7185878,4.0337352 -2.2072895,0.01601326 8.7185884,-4.0017078 c -1.7454984,2.3720609 -1.7354408,5.6174519 -6e-7,8.035443 z\" id=\"path8446\" inkscape:connector-curvature=\"0\" style=\"fill:#808080;fill-opacity:1;fill-rule:evenodd;stroke:#808080;stroke-width:0.625;stroke-linejoin:round;stroke-opacity:1\" transform=\"scale(0.6,0.6)\"/>\n",
       "    </marker>\n",
       "    <marker id=\"Arrow1Mstart\" inkscape:isstock=\"true\" inkscape:stockid=\"Arrow1Mstart\" orient=\"auto\" refX=\"0\" refY=\"0\" style=\"overflow:visible\">\n",
       "      <path d=\"M 0,0 5,-5 -12.5,0 5,5 0,0 Z\" id=\"path8428\" inkscape:connector-curvature=\"0\" style=\"fill:#808080;fill-opacity:1;fill-rule:evenodd;stroke:#808080;stroke-width:1pt;stroke-opacity:1\" transform=\"matrix(0.4,0,0,0.4,4,0)\"/>\n",
       "    </marker>\n",
       "    <marker id=\"Arrow1Lstart\" inkscape:isstock=\"true\" inkscape:stockid=\"Arrow1Lstart\" orient=\"auto\" refX=\"0\" refY=\"0\" style=\"overflow:visible\">\n",
       "      <path d=\"M 0,0 5,-5 -12.5,0 5,5 0,0 Z\" id=\"path8422\" inkscape:connector-curvature=\"0\" style=\"fill:#808080;fill-opacity:1;fill-rule:evenodd;stroke:#808080;stroke-width:1pt;stroke-opacity:1\" transform=\"matrix(0.8,0,0,0.8,10,0)\"/>\n",
       "    </marker>\n",
       "    <!-- markers by NMH <nholtz@cee.carleton.ca> -->\n",
       "    <marker id=\"DimensionTick\" inkscape:stockid=\"DimensionTick\" orient=\"auto\" refX=\"0\" refY=\"0\" style=\"overflow:visible\">\n",
       "      <path d=\"M 0,0 8,8\" id=\"path6\" inkscape:connector-curvature=\"0\" style=\"stroke:#4d4d4d;stroke-width:1px;marker-start:none\" transform=\"translate(-4,-4)\"/>\n",
       "    </marker>\n",
       "    <marker id=\"TrussNodeS\" inkscape:stockid=\"TrussNodeS\" markerUnits=\"userSpaceOnUse\" orient=\"auto\" refX=\"0\" refY=\"0\" style=\"overflow:visible\">\n",
       "      <circle cx=\"0\" cy=\"0\" id=\"circle9\" r=\"3\" style=\"fill:#ffffff;stroke:#000000;stroke-width:1\"/>\n",
       "    </marker>\n",
       "    <marker id=\"TrussNodeM\" inkscape:stockid=\"TrussNodeM\" markerUnits=\"userSpaceOnUse\" orient=\"auto\" refX=\"0\" refY=\"0\" style=\"overflow:visible\">\n",
       "      <circle cx=\"0\" cy=\"0\" id=\"circle12\" r=\"4\" style=\"fill:#ffffff;stroke:#000000;stroke-width:1\"/>\n",
       "    </marker>\n",
       "    <!-- patternss by NMH <nholtz@cee.carleton.ca> -->\n",
       "    <pattern height=\"18\" id=\"black-stripes-on-red\" patternUnits=\"userSpaceOnUse\" width=\"18\" x=\"0\" y=\"0\">\n",
       "      <path d=\"M 0,0 18,0 18,18 0,18 z\" id=\"path3006\" inkscape:connector-curvature=\"0\" style=\"fill:#ff0000;stroke:none\"/>\n",
       "      <path d=\"M 0,9 9,0 11,0 0,11 z\" id=\"path3008\" inkscape:connector-curvature=\"0\" style=\"fill:#000000;stroke:none\"/>\n",
       "      <path d=\"m 9,18 9,-9 0,2 -7,7 z\" id=\"path5234\" inkscape:connector-curvature=\"0\" style=\"fill:#000000;stroke:none\"/>\n",
       "    </pattern>\n",
       "    <marker id=\"marker5880\" inkscape:isstock=\"true\" inkscape:stockid=\"Arrow2Mstart\" orient=\"auto\" refX=\"0\" refY=\"0\" style=\"overflow:visible\">\n",
       "      <path d=\"M 8.7185878,4.0337352 -2.2072895,0.01601326 8.7185884,-4.0017078 c -1.7454984,2.3720609 -1.7354408,5.6174519 -6e-7,8.035443 z\" id=\"path5882\" inkscape:connector-curvature=\"0\" style=\"fill:#000000;fill-opacity:1;fill-rule:evenodd;stroke:#000000;stroke-width:0.625;stroke-linejoin:round;stroke-opacity:1\" transform=\"scale(0.6,0.6)\"/>\n",
       "    </marker>\n",
       "  </defs>\n",
       "  <metadata id=\"metadata7\">\n",
       "    <rdf:RDF>\n",
       "      <cc:Work rdf:about=\"\">\n",
       "        <dc:format>image/svg+xml</dc:format>\n",
       "        <dc:type rdf:resource=\"http://purl.org/dc/dcmitype/StillImage\"/>\n",
       "        <dc:title/>\n",
       "        <cc:license rdf:resource=\"http://creativecommons.org/licenses/by-nc/3.0/\"/>\n",
       "      </cc:Work>\n",
       "      <cc:License rdf:about=\"http://creativecommons.org/licenses/by-nc/3.0/\">\n",
       "        <cc:permits rdf:resource=\"http://creativecommons.org/ns#Reproduction\"/>\n",
       "        <cc:permits rdf:resource=\"http://creativecommons.org/ns#Distribution\"/>\n",
       "        <cc:requires rdf:resource=\"http://creativecommons.org/ns#Notice\"/>\n",
       "        <cc:requires rdf:resource=\"http://creativecommons.org/ns#Attribution\"/>\n",
       "        <cc:prohibits rdf:resource=\"http://creativecommons.org/ns#CommercialUse\"/>\n",
       "        <cc:permits rdf:resource=\"http://creativecommons.org/ns#DerivativeWorks\"/>\n",
       "      </cc:License>\n",
       "    </rdf:RDF>\n",
       "  </metadata>\n",
       "  <g id=\"layer1\" inkscape:groupmode=\"layer\" inkscape:label=\"Layer 1\" transform=\"translate(-151.32022,-106.26782)\">\n",
       "    <path d=\"M 192.00001,222.00001 C 336,126 432.36966,318.10562 576.00002,222.00001\" id=\"path4849\" inkscape:connector-curvature=\"0\" sodipodi:nodetypes=\"cc\" style=\"opacity:1;fill:none;fill-opacity:1;stroke:#000000;stroke-width:3.20000005;stroke-linecap:round;stroke-linejoin:bevel;stroke-miterlimit:4;stroke-dasharray:none;stroke-dashoffset:0;stroke-opacity:1\"/>\n",
       "    <path d=\"m 192.00001,222.00001 384.00001,0\" id=\"path4851\" inkscape:connector-curvature=\"0\" style=\"opacity:1;fill:none;fill-opacity:1;stroke:#808080;stroke-width:1.05599999;stroke-linecap:round;stroke-linejoin:bevel;stroke-miterlimit:4;stroke-dasharray:2.11200002, 4.22400004;stroke-dashoffset:0;stroke-opacity:1\"/>\n",
       "    <path d=\"m 192.00001,222.00001 144,-96\" id=\"path4853\" inkscape:connector-curvature=\"0\" style=\"opacity:1;fill:none;fill-opacity:1;stroke:#808080;stroke-width:1.05599999;stroke-linecap:round;stroke-linejoin:bevel;stroke-miterlimit:4;stroke-dasharray:2.11200009, 4.22400017;stroke-dashoffset:0;stroke-opacity:1\"/>\n",
       "    <path d=\"m 432.00001,318.00001 144.00001,-96\" id=\"path4855\" inkscape:connector-curvature=\"0\" style=\"opacity:1;fill:none;fill-opacity:1;stroke:#808080;stroke-width:1.05599999;stroke-linecap:round;stroke-linejoin:bevel;stroke-miterlimit:4;stroke-dasharray:2.11200009, 4.22400017;stroke-dashoffset:0;stroke-opacity:1\"/>\n",
       "    <g id=\"g5055\" transform=\"matrix(-1,0,0,-1,348.05314,299.84708)\">\n",
       "      <path class=\"mload\" d=\"m 154.30895,99.974725 a 21.866382,22.154019 89.947274 0 0 0.0425,-43.732731\" id=\"path5030\" inkscape:connector-curvature=\"0\" style=\"visibility:visible;fill:none;stroke:#000000;stroke-width:2.13333344;stroke-miterlimit:4;stroke-dasharray:none;marker-end:none\"/>\n",
       "      <path d=\"m 142.01592,56.250243 12.80479,0.0068\" id=\"path5032\" inkscape:connector-curvature=\"0\" sodipodi:nodetypes=\"cc\" style=\"fill:none;stroke:#000000;stroke-width:2.13333344;stroke-linecap:butt;stroke-miterlimit:4;stroke-dasharray:none;stroke-dashoffset:0;stroke-opacity:1;marker-start:url(#marker5880);marker-end:none\"/>\n",
       "    </g>\n",
       "    <g id=\"g10775\" transform=\"matrix(1.0666667,0,0,1.0666667,-81.820953,-155.38832)\">\n",
       "      <title id=\"title3737\">Pin Support</title>\n",
       "      <g id=\"use90\" transform=\"matrix(1.25,0,0,1.25,255.65647,356.59727)\">\n",
       "        <path d=\"m 0.19825424,-1.057356 4.99127116,6.9251865 -10.5112203,0 z\" id=\"path5224\" inkscape:connector-curvature=\"0\" sodipodi:nodetypes=\"cccc\" style=\"fill:#000000;stroke:#000000;stroke-width:0\"/>\n",
       "        <path d=\"M -6,6 6,6\" id=\"path5226\" inkscape:connector-curvature=\"0\" style=\"fill:none;stroke:#000000;stroke-width:1\"/>\n",
       "        <path d=\"M 6,6 3,9 M 3,6 0,9 M 0,6 -3,9 m 0,-3 -3,3 m 0,-3 -3,3\" id=\"path5228\" inkscape:connector-curvature=\"0\" style=\"fill:none;stroke:#000000;stroke-width:1\"/>\n",
       "      </g>\n",
       "    </g>\n",
       "    <g id=\"g7419\" transform=\"matrix(1.0666667,0,0,1.0666667,303.65759,-156.44443)\">\n",
       "      <title id=\"title7421\">Pin Support</title>\n",
       "      <g id=\"g7423\" transform=\"matrix(1.25,0,0,1.25,255.65647,356.59727)\">\n",
       "        <path d=\"m 0.19825424,-1.057356 4.99127116,6.9251865 -10.5112203,0 z\" id=\"path7425\" inkscape:connector-curvature=\"0\" sodipodi:nodetypes=\"cccc\" style=\"fill:#000000;stroke:#000000;stroke-width:0\"/>\n",
       "        <path d=\"M -6,6 6,6\" id=\"path7427\" inkscape:connector-curvature=\"0\" style=\"fill:none;stroke:#000000;stroke-width:1\"/>\n",
       "        <path d=\"M 6,6 3,9 M 3,6 0,9 M 0,6 -3,9 m 0,-3 -3,3 m 0,-3 -3,3\" id=\"path7429\" inkscape:connector-curvature=\"0\" style=\"fill:none;stroke:#000000;stroke-width:1\"/>\n",
       "      </g>\n",
       "    </g>\n",
       "    <g id=\"g8408\" transform=\"translate(419.80198,144.15842)\">\n",
       "      <path class=\"mload\" d=\"m 154.30895,99.974725 a 21.866382,22.154019 89.947274 0 0 0.0425,-43.732731\" id=\"path8410\" inkscape:connector-curvature=\"0\" style=\"visibility:visible;fill:none;stroke:#000000;stroke-width:2.13333344;stroke-miterlimit:4;stroke-dasharray:none;marker-end:none\"/>\n",
       "      <path d=\"m 142.01592,56.250243 12.80479,0.0068\" id=\"path8412\" inkscape:connector-curvature=\"0\" sodipodi:nodetypes=\"cc\" style=\"fill:none;stroke:#000000;stroke-width:2.13333344;stroke-linecap:butt;stroke-miterlimit:4;stroke-dasharray:none;stroke-dashoffset:0;stroke-opacity:1;marker-start:url(#marker5880);marker-end:none\"/>\n",
       "    </g>\n",
       "    <path d=\"m 296.28509,153.44594 a 124.8,124.80002 0 0 1 20.51264,67.80067\" id=\"path8416\" sodipodi:cx=\"192\" sodipodi:cy=\"222.00002\" sodipodi:end=\"6.2771484\" sodipodi:open=\"true\" sodipodi:rx=\"124.8\" sodipodi:ry=\"124.80002\" sodipodi:start=\"5.7016453\" sodipodi:type=\"arc\" style=\"opacity:1;fill:none;fill-opacity:1;stroke:#808080;stroke-width:1.06666672;stroke-linecap:round;stroke-linejoin:bevel;stroke-miterlimit:4;stroke-dasharray:none;stroke-dashoffset:0;stroke-opacity:1;marker-start:url(#Arrow2Mstart)\"/>\n",
       "    <path d=\"m -472.04529,-290.42154 a 124.8,124.80002 0 0 1 20.51264,67.80068\" id=\"path8792\" sodipodi:cx=\"-576.33038\" sodipodi:cy=\"-221.86746\" sodipodi:end=\"6.2771484\" sodipodi:open=\"true\" sodipodi:rx=\"124.8\" sodipodi:ry=\"124.80002\" sodipodi:start=\"5.7016453\" sodipodi:type=\"arc\" style=\"opacity:1;fill:none;fill-opacity:1;stroke:#808080;stroke-width:1.06666672;stroke-linecap:round;stroke-linejoin:bevel;stroke-miterlimit:4;stroke-dasharray:none;stroke-dashoffset:0;stroke-opacity:1;marker-start:url(#marker8794)\" transform=\"scale(-1,-1)\"/>\n",
       "  </g>\n",
       "  <g id=\"g10386\" transform=\"translate(-151.32022,-172.26782)\">\n",
       "    <g id=\"g8060\" ns0:preamble=\"\" ns0:text=\"$f_2$\" transform=\"matrix(2,0,0,2,-50.693071,46.468647)\">\n",
       "      <defs id=\"defs8062\">\n",
       "        <g id=\"g8064\">\n",
       "          <symbol id=\"textext-2209017f-0\" overflow=\"visible\" style=\"overflow:visible\">\n",
       "            <path d=\"\" id=\"path8067\" inkscape:connector-curvature=\"0\" style=\"stroke:none\"/>\n",
       "          </symbol>\n",
       "          <symbol id=\"textext-2209017f-1\" overflow=\"visible\" style=\"overflow:visible\">\n",
       "            <path d=\"m 4,-4.359375 0.9375,0 c 0.21875,0 0.328125,0 0.328125,-0.21875 0,-0.125 -0.109375,-0.125 -0.296875,-0.125 l -0.90625,0 L 4.296875,-5.9375 C 4.34375,-6.171875 4.5,-6.953125 4.5625,-7.078125 c 0.09375,-0.203125 0.28125,-0.375 0.515625,-0.375 0.03125,0 0.328125,0 0.53125,0.203125 -0.484375,0.046875 -0.59375,0.421875 -0.59375,0.59375 0,0.25 0.203125,0.375 0.40625,0.375 0.28125,0 0.59375,-0.234375 0.59375,-0.65625 0,-0.5 -0.5,-0.75 -0.9375,-0.75 -0.375,0 -1.0625,0.1875 -1.390625,1.28125 -0.0625,0.21875 -0.09375,0.328125 -0.359375,1.703125 l -0.75,0 c -0.21875,0 -0.328125,0 -0.328125,0.203125 0,0.140625 0.09375,0.140625 0.296875,0.140625 l 0.71875,0 -0.8125,4.3125 C 2.25,1 2.078125,2 1.5,2 1.46875,2 1.1875,2 0.984375,1.796875 c 0.5,-0.03125 0.59375,-0.421875 0.59375,-0.59375 0,-0.25 -0.1875,-0.375 -0.40625,-0.375 -0.28125,0 -0.59375,0.234375 -0.59375,0.65625 0,0.484375 0.484375,0.75 0.921875,0.75 0.609375,0 1.046875,-0.640625 1.234375,-1.0625 0.359375,-0.6875 0.609375,-2 0.609375,-2.078125 z m 0,0\" id=\"path8070\" inkscape:connector-curvature=\"0\" style=\"stroke:none\"/>\n",
       "          </symbol>\n",
       "          <symbol id=\"textext-2209017f-2\" overflow=\"visible\" style=\"overflow:visible\">\n",
       "            <path d=\"\" id=\"path8073\" inkscape:connector-curvature=\"0\" style=\"stroke:none\"/>\n",
       "          </symbol>\n",
       "          <symbol id=\"textext-2209017f-3\" overflow=\"visible\" style=\"overflow:visible\">\n",
       "            <path d=\"m 2.25,-1.625 c 0.125,-0.125 0.453125,-0.390625 0.59375,-0.5 0.484375,-0.453125 0.953125,-0.890625 0.953125,-1.609375 0,-0.953125 -0.796875,-1.5625 -1.78125,-1.5625 -0.96875,0 -1.59375,0.71875 -1.59375,1.4375 0,0.390625 0.3125,0.4375 0.421875,0.4375 0.171875,0 0.421875,-0.109375 0.421875,-0.421875 0,-0.40625 -0.40625,-0.40625 -0.5,-0.40625 C 1,-4.84375 1.53125,-5.03125 1.921875,-5.03125 c 0.734375,0 1.125,0.625 1.125,1.296875 0,0.828125 -0.578125,1.4375 -1.53125,2.390625 l -1,1.046875 C 0.421875,-0.21875 0.421875,-0.203125 0.421875,0 l 3.140625,0 0.234375,-1.421875 -0.25,0 C 3.53125,-1.265625 3.46875,-0.875 3.375,-0.71875 c -0.046875,0.0625 -0.65625,0.0625 -0.78125,0.0625 l -1.421875,0 z m 0,0\" id=\"path8076\" inkscape:connector-curvature=\"0\" style=\"stroke:none\"/>\n",
       "          </symbol>\n",
       "        </g>\n",
       "      </defs>\n",
       "      <g id=\"textext-2209017f-4\">\n",
       "        <g id=\"g8079\" style=\"fill:#000000;fill-opacity:1\">\n",
       "          <use height=\"100%\" id=\"use8081\" width=\"100%\" x=\"125.798\" xlink:href=\"#textext-2209017f-1\" y=\"140.742\"/>\n",
       "        </g>\n",
       "        <g id=\"g8083\" style=\"fill:#000000;fill-opacity:1\">\n",
       "          <use height=\"100%\" id=\"use8085\" width=\"100%\" x=\"131.13901\" xlink:href=\"#textext-2209017f-3\" y=\"142.379\"/>\n",
       "        </g>\n",
       "      </g>\n",
       "    </g>\n",
       "    <g id=\"g8273\" ns0:preamble=\"\" ns0:text=\"$f_5$\" transform=\"matrix(2,0,0,2,300.46204,-23.762374)\">\n",
       "      <defs id=\"defs8275\">\n",
       "        <g id=\"g8277\">\n",
       "          <symbol id=\"textext-2cd51dc2-0\" overflow=\"visible\" style=\"overflow:visible\">\n",
       "            <path d=\"\" id=\"path8280\" inkscape:connector-curvature=\"0\" style=\"stroke:none\"/>\n",
       "          </symbol>\n",
       "          <symbol id=\"textext-2cd51dc2-1\" overflow=\"visible\" style=\"overflow:visible\">\n",
       "            <path d=\"m 4,-4.359375 0.9375,0 c 0.21875,0 0.328125,0 0.328125,-0.21875 0,-0.125 -0.109375,-0.125 -0.296875,-0.125 l -0.90625,0 L 4.296875,-5.9375 C 4.34375,-6.171875 4.5,-6.953125 4.5625,-7.078125 c 0.09375,-0.203125 0.28125,-0.375 0.515625,-0.375 0.03125,0 0.328125,0 0.53125,0.203125 -0.484375,0.046875 -0.59375,0.421875 -0.59375,0.59375 0,0.25 0.203125,0.375 0.40625,0.375 0.28125,0 0.59375,-0.234375 0.59375,-0.65625 0,-0.5 -0.5,-0.75 -0.9375,-0.75 -0.375,0 -1.0625,0.1875 -1.390625,1.28125 -0.0625,0.21875 -0.09375,0.328125 -0.359375,1.703125 l -0.75,0 c -0.21875,0 -0.328125,0 -0.328125,0.203125 0,0.140625 0.09375,0.140625 0.296875,0.140625 l 0.71875,0 -0.8125,4.3125 C 2.25,1 2.078125,2 1.5,2 1.46875,2 1.1875,2 0.984375,1.796875 c 0.5,-0.03125 0.59375,-0.421875 0.59375,-0.59375 0,-0.25 -0.1875,-0.375 -0.40625,-0.375 -0.28125,0 -0.59375,0.234375 -0.59375,0.65625 0,0.484375 0.484375,0.75 0.921875,0.75 0.609375,0 1.046875,-0.640625 1.234375,-1.0625 0.359375,-0.6875 0.609375,-2 0.609375,-2.078125 z m 0,0\" id=\"path8283\" inkscape:connector-curvature=\"0\" style=\"stroke:none\"/>\n",
       "          </symbol>\n",
       "          <symbol id=\"textext-2cd51dc2-2\" overflow=\"visible\" style=\"overflow:visible\">\n",
       "            <path d=\"\" id=\"path8286\" inkscape:connector-curvature=\"0\" style=\"stroke:none\"/>\n",
       "          </symbol>\n",
       "          <symbol id=\"textext-2cd51dc2-3\" overflow=\"visible\" style=\"overflow:visible\">\n",
       "            <path d=\"m 1.109375,-4.484375 c 0.109375,0.03125 0.421875,0.125 0.765625,0.125 1,0 1.59375,-0.703125 1.59375,-0.828125 0,-0.09375 -0.046875,-0.109375 -0.09375,-0.109375 -0.015625,0 -0.03125,0 -0.09375,0.03125 -0.3125,0.125 -0.6875,0.21875 -1.109375,0.21875 -0.46875,0 -0.859375,-0.109375 -1.109375,-0.21875 -0.078125,-0.03125 -0.09375,-0.03125 -0.109375,-0.03125 -0.09375,0 -0.09375,0.078125 -0.09375,0.234375 l 0,2.328125 c 0,0.140625 0,0.234375 0.125,0.234375 0.0625,0 0.078125,-0.03125 0.125,-0.09375 C 1.203125,-2.703125 1.5,-3.109375 2.1875,-3.109375 c 0.4375,0 0.65625,0.359375 0.734375,0.515625 0.125,0.28125 0.140625,0.65625 0.140625,0.953125 0,0.296875 0,0.734375 -0.21875,1.078125 -0.15625,0.25 -0.484375,0.484375 -0.90625,0.484375 -0.515625,0 -1.015625,-0.3125 -1.203125,-0.84375 C 0.75,-0.90625 0.8125,-0.90625 0.8125,-0.90625 c 0.21875,0 0.40625,-0.140625 0.40625,-0.390625 0,-0.296875 -0.234375,-0.40625 -0.390625,-0.40625 -0.15625,0 -0.40625,0.078125 -0.40625,0.421875 0,0.71875 0.625,1.453125 1.53125,1.453125 1,0 1.84375,-0.78125 1.84375,-1.765625 0,-0.921875 -0.671875,-1.75 -1.609375,-1.75 -0.390625,0 -0.765625,0.125 -1.078125,0.40625 z m 0,0\" id=\"path8289\" inkscape:connector-curvature=\"0\" style=\"stroke:none\"/>\n",
       "          </symbol>\n",
       "        </g>\n",
       "      </defs>\n",
       "      <g id=\"textext-2cd51dc2-4\">\n",
       "        <g id=\"g8292\" style=\"fill:#000000;fill-opacity:1\">\n",
       "          <use height=\"100%\" id=\"use8294\" width=\"100%\" x=\"125.798\" xlink:href=\"#textext-2cd51dc2-1\" y=\"140.742\"/>\n",
       "        </g>\n",
       "        <g id=\"g8296\" style=\"fill:#000000;fill-opacity:1\">\n",
       "          <use height=\"100%\" id=\"use8298\" width=\"100%\" x=\"131.13901\" xlink:href=\"#textext-2cd51dc2-3\" y=\"142.379\"/>\n",
       "        </g>\n",
       "      </g>\n",
       "    </g>\n",
       "    <path d=\"m 192.00001,316.80001 0,96\" id=\"path9768\" inkscape:connector-curvature=\"0\" style=\"opacity:1;fill:none;fill-opacity:1;stroke:#808080;stroke-width:1.06666672;stroke-linecap:round;stroke-linejoin:bevel;stroke-miterlimit:4;stroke-dasharray:none;stroke-dashoffset:0;stroke-opacity:1\"/>\n",
       "    <path d=\"m 576.00002,316.80001 0,96\" id=\"path9770\" inkscape:connector-curvature=\"0\" style=\"opacity:1;fill:none;fill-opacity:1;stroke:#808080;stroke-width:1.06666672;stroke-linecap:round;stroke-linejoin:bevel;stroke-miterlimit:4;stroke-dasharray:none;stroke-dashoffset:0;stroke-opacity:1\"/>\n",
       "    <path d=\"m 192.00001,403.20001 384.00001,0\" id=\"path9772\" inkscape:connector-curvature=\"0\" style=\"opacity:1;fill:none;fill-opacity:1;stroke:#808080;stroke-width:1.06666672;stroke-linecap:round;stroke-linejoin:bevel;stroke-miterlimit:4;stroke-dasharray:none;stroke-dashoffset:0;stroke-opacity:1;marker-start:url(#DimensionTick);marker-end:url(#DimensionTick)\"/>\n",
       "    <g id=\"g9900\" ns0:preamble=\"\" ns0:text=\"$L$\" transform=\"matrix(2,0,0,2,124.09241,118.81188)\">\n",
       "      <defs id=\"defs9902\">\n",
       "        <g id=\"g9904\">\n",
       "          <symbol id=\"textext-8cde7063-0\" overflow=\"visible\" style=\"overflow:visible\">\n",
       "            <path d=\"\" id=\"path9907\" inkscape:connector-curvature=\"0\" style=\"stroke:none\"/>\n",
       "          </symbol>\n",
       "          <symbol id=\"textext-8cde7063-1\" overflow=\"visible\" style=\"overflow:visible\">\n",
       "            <path d=\"m 4.078125,-6.59375 c 0.09375,-0.390625 0.125,-0.515625 1.15625,-0.515625 0.328125,0 0.421875,0 0.421875,-0.203125 0,-0.140625 -0.125,-0.140625 -0.1875,-0.140625 -0.359375,0 -1.25,0.03125 -1.609375,0.03125 -0.328125,0 -1.125,-0.03125 -1.453125,-0.03125 -0.078125,0 -0.203125,0 -0.203125,0.21875 0,0.125 0.09375,0.125 0.3125,0.125 0.015625,0 0.21875,0 0.40625,0.015625 0.203125,0.03125 0.296875,0.03125 0.296875,0.171875 0,0.046875 -0.015625,0.078125 -0.046875,0.21875 L 1.71875,-0.84375 c -0.109375,0.421875 -0.140625,0.5 -1,0.5 -0.1875,0 -0.296875,0 -0.296875,0.21875 C 0.421875,0 0.53125,0 0.71875,0 l 5.046875,0 c 0.265625,0 0.28125,0 0.34375,-0.1875 L 6.96875,-2.546875 C 7.015625,-2.65625 7.015625,-2.6875 7.015625,-2.6875 c 0,-0.046875 -0.03125,-0.125 -0.140625,-0.125 -0.09375,0 -0.109375,0.046875 -0.171875,0.234375 -0.375,1 -0.859375,2.234375 -2.75,2.234375 l -1.015625,0 c -0.15625,0 -0.171875,0 -0.25,0 C 2.578125,-0.359375 2.546875,-0.375 2.546875,-0.453125 c 0,-0.03125 0,-0.0625 0.0625,-0.25 z m 0,0\" id=\"path9910\" inkscape:connector-curvature=\"0\" style=\"stroke:none\"/>\n",
       "          </symbol>\n",
       "        </g>\n",
       "      </defs>\n",
       "      <g id=\"textext-8cde7063-2\">\n",
       "        <g id=\"g9913\" style=\"fill:#000000;fill-opacity:1\">\n",
       "          <use height=\"100%\" id=\"use9915\" width=\"100%\" x=\"125.798\" xlink:href=\"#textext-8cde7063-1\" y=\"140.742\"/>\n",
       "        </g>\n",
       "      </g>\n",
       "    </g>\n",
       "    <g id=\"g10187\" ns0:preamble=\"\" ns0:text=\"$E, I$\" transform=\"matrix(2,0,0,2,58.613861,52.277228)\">\n",
       "      <defs id=\"defs10189\">\n",
       "        <g id=\"g10191\">\n",
       "          <symbol id=\"textext-f71672eb-0\" overflow=\"visible\" style=\"overflow:visible\">\n",
       "            <path d=\"\" id=\"path10194\" inkscape:connector-curvature=\"0\" style=\"stroke:none\"/>\n",
       "          </symbol>\n",
       "          <symbol id=\"textext-f71672eb-1\" overflow=\"visible\" style=\"overflow:visible\">\n",
       "            <path d=\"m 7.71875,-2.546875 c 0.03125,-0.046875 0.0625,-0.125 0.0625,-0.140625 0,-0.015625 0,-0.125 -0.140625,-0.125 -0.09375,0 -0.109375,0.0625 -0.140625,0.125 -0.703125,1.625 -1.109375,2.34375 -2.96875,2.34375 l -1.59375,0 c -0.15625,0 -0.171875,0 -0.25,0 C 2.578125,-0.359375 2.546875,-0.375 2.546875,-0.453125 c 0,-0.03125 0,-0.0625 0.0625,-0.25 L 3.34375,-3.6875 l 1.078125,0 c 0.9375,0 0.9375,0.234375 0.9375,0.5 0,0.078125 0,0.203125 -0.078125,0.53125 C 5.25,-2.59375 5.25,-2.5625 5.25,-2.53125 c 0,0.0625 0.046875,0.125 0.140625,0.125 0.078125,0 0.109375,-0.0625 0.15625,-0.21875 l 0.625,-2.5625 c 0,-0.0625 -0.046875,-0.109375 -0.125,-0.109375 -0.109375,0 -0.125,0.0625 -0.15625,0.1875 C 5.65625,-4.28125 5.46875,-4.03125 4.453125,-4.03125 l -1.015625,0 0.65625,-2.625 c 0.09375,-0.375 0.109375,-0.421875 0.578125,-0.421875 l 1.546875,0 c 1.328125,0 1.65625,0.3125 1.65625,1.203125 0,0.265625 0,0.296875 -0.046875,0.578125 0,0.078125 -0.015625,0.15625 -0.015625,0.203125 0,0.0625 0.046875,0.125 0.140625,0.125 0.125,0 0.125,-0.0625 0.15625,-0.265625 L 8.328125,-7.125 C 8.359375,-7.421875 8.296875,-7.421875 8.03125,-7.421875 l -5.515625,0 c -0.21875,0 -0.328125,0 -0.328125,0.21875 0,0.125 0.109375,0.125 0.3125,0.125 0.40625,0 0.703125,0 0.703125,0.203125 0,0.03125 0,0.0625 -0.046875,0.25 l -1.4375,5.78125 c -0.109375,0.421875 -0.140625,0.5 -1,0.5 -0.1875,0 -0.296875,0 -0.296875,0.21875 C 0.421875,0 0.515625,0 0.71875,0 L 6.375,0 c 0.25,0 0.265625,-0.015625 0.34375,-0.1875 z m 0,0\" id=\"path10197\" inkscape:connector-curvature=\"0\" style=\"stroke:none\"/>\n",
       "          </symbol>\n",
       "          <symbol id=\"textext-f71672eb-2\" overflow=\"visible\" style=\"overflow:visible\">\n",
       "            <path d=\"m 2.21875,-0.015625 c 0,-0.71875 -0.28125,-1.140625 -0.703125,-1.140625 -0.359375,0 -0.578125,0.265625 -0.578125,0.578125 C 0.9375,-0.28125 1.15625,0 1.515625,0 c 0.125,0 0.265625,-0.046875 0.375,-0.140625 0.046875,-0.015625 0.046875,-0.03125 0.0625,-0.03125 0.015625,0 0.015625,0.015625 0.015625,0.15625 0,0.8125 -0.375,1.46875 -0.734375,1.828125 -0.125,0.125 -0.125,0.140625 -0.125,0.171875 0,0.078125 0.0625,0.125 0.109375,0.125 0.125,0 1,-0.84375 1,-2.125 z m 0,0\" id=\"path10200\" inkscape:connector-curvature=\"0\" style=\"stroke:none\"/>\n",
       "          </symbol>\n",
       "          <symbol id=\"textext-f71672eb-3\" overflow=\"visible\" style=\"overflow:visible\">\n",
       "            <path d=\"m 4.078125,-6.609375 c 0.09375,-0.390625 0.125,-0.5 1,-0.5 0.25,0 0.34375,0 0.34375,-0.203125 0,-0.140625 -0.125,-0.140625 -0.171875,-0.140625 -0.3125,0 -1.109375,0.03125 -1.4375,0.03125 -0.328125,0 -1.125,-0.03125 -1.453125,-0.03125 -0.0625,0 -0.203125,0 -0.203125,0.21875 0,0.125 0.09375,0.125 0.296875,0.125 0.453125,0 0.75,0 0.75,0.203125 0,0.0625 0,0.078125 -0.015625,0.171875 L 1.71875,-0.84375 c -0.109375,0.390625 -0.140625,0.5 -1,0.5 -0.25,0 -0.34375,0 -0.34375,0.21875 C 0.375,0 0.5,0 0.53125,0 0.84375,0 1.640625,-0.03125 1.96875,-0.03125 2.296875,-0.03125 3.09375,0 3.421875,0 c 0.09375,0 0.21875,0 0.21875,-0.203125 0,-0.140625 -0.078125,-0.140625 -0.328125,-0.140625 -0.1875,0 -0.25,0 -0.46875,-0.015625 -0.21875,-0.015625 -0.265625,-0.0625 -0.265625,-0.1875 0,-0.078125 0.015625,-0.171875 0.046875,-0.25 z m 0,0\" id=\"path10203\" inkscape:connector-curvature=\"0\" style=\"stroke:none\"/>\n",
       "          </symbol>\n",
       "        </g>\n",
       "      </defs>\n",
       "      <g id=\"textext-f71672eb-4\">\n",
       "        <g id=\"g10206\" style=\"fill:#000000;fill-opacity:1\">\n",
       "          <use height=\"100%\" id=\"use10208\" width=\"100%\" x=\"125.798\" xlink:href=\"#textext-f71672eb-1\" y=\"140.742\"/>\n",
       "        </g>\n",
       "        <g id=\"g10210\" style=\"fill:#000000;fill-opacity:1\">\n",
       "          <use height=\"100%\" id=\"use10212\" width=\"100%\" x=\"134.48383\" xlink:href=\"#textext-f71672eb-2\" y=\"140.742\"/>\n",
       "        </g>\n",
       "        <g id=\"g10214\" style=\"fill:#000000;fill-opacity:1\">\n",
       "          <use height=\"100%\" id=\"use10216\" width=\"100%\" x=\"139.32529\" xlink:href=\"#textext-f71672eb-3\" y=\"140.742\"/>\n",
       "        </g>\n",
       "      </g>\n",
       "    </g>\n",
       "    <path d=\"m 355.20001,326.40001 48,0 19.2,-19.2\" id=\"path10370\" inkscape:connector-curvature=\"0\" style=\"opacity:1;fill:none;fill-opacity:1;stroke:#808080;stroke-width:1.06666672;stroke-linecap:round;stroke-linejoin:bevel;stroke-miterlimit:4;stroke-dasharray:none;stroke-dashoffset:0;stroke-opacity:1;marker-end:url(#Arrow2Mend)\"/>\n",
       "    <g id=\"g10645\" ns0:preamble=\"\" ns0:text=\"$\\\\delta_2$\" transform=\"matrix(2,0,0,2,62.838284,-26.930688)\">\n",
       "      <defs id=\"defs10647\">\n",
       "        <g id=\"g10649\">\n",
       "          <symbol id=\"textext-c4bc4119-0\" overflow=\"visible\" style=\"overflow:visible\">\n",
       "            <path d=\"\" id=\"path10652\" inkscape:connector-curvature=\"0\" style=\"stroke:none\"/>\n",
       "          </symbol>\n",
       "          <symbol id=\"textext-c4bc4119-1\" overflow=\"visible\" style=\"overflow:visible\">\n",
       "            <path d=\"m 2.875,-4.765625 c -1.359375,0.328125 -2.421875,1.75 -2.421875,3.0625 0,1.046875 0.703125,1.828125 1.734375,1.828125 1.265625,0 2.171875,-1.703125 2.171875,-3.21875 0,-0.984375 -0.4375,-1.53125 -0.796875,-2.015625 -0.40625,-0.5 -1.046875,-1.3125 -1.046875,-1.796875 0,-0.234375 0.21875,-0.5 0.609375,-0.5 0.328125,0 0.546875,0.140625 0.765625,0.296875 0.21875,0.125 0.4375,0.265625 0.609375,0.265625 0.265625,0 0.421875,-0.25 0.421875,-0.4375 0,-0.234375 -0.171875,-0.265625 -0.5625,-0.359375 C 3.796875,-7.75 3.640625,-7.75 3.46875,-7.75 c -0.84375,0 -1.25,0.46875 -1.25,1.125 0,0.578125 0.328125,1.1875 0.65625,1.859375 z m 0.140625,0.234375 c 0.265625,0.5 0.59375,1.09375 0.59375,1.875 0,0.71875 -0.40625,2.546875 -1.421875,2.546875 -0.609375,0 -1.046875,-0.453125 -1.046875,-1.28125 0,-0.6875 0.390625,-2.75 1.875,-3.140625 z m 0,0\" id=\"path10655\" inkscape:connector-curvature=\"0\" style=\"stroke:none\"/>\n",
       "          </symbol>\n",
       "          <symbol id=\"textext-c4bc4119-2\" overflow=\"visible\" style=\"overflow:visible\">\n",
       "            <path d=\"\" id=\"path10658\" inkscape:connector-curvature=\"0\" style=\"stroke:none\"/>\n",
       "          </symbol>\n",
       "          <symbol id=\"textext-c4bc4119-3\" overflow=\"visible\" style=\"overflow:visible\">\n",
       "            <path d=\"m 2.25,-1.625 c 0.125,-0.125 0.453125,-0.390625 0.59375,-0.5 0.484375,-0.453125 0.953125,-0.890625 0.953125,-1.609375 0,-0.953125 -0.796875,-1.5625 -1.78125,-1.5625 -0.96875,0 -1.59375,0.71875 -1.59375,1.4375 0,0.390625 0.3125,0.4375 0.421875,0.4375 0.171875,0 0.421875,-0.109375 0.421875,-0.421875 0,-0.40625 -0.40625,-0.40625 -0.5,-0.40625 C 1,-4.84375 1.53125,-5.03125 1.921875,-5.03125 c 0.734375,0 1.125,0.625 1.125,1.296875 0,0.828125 -0.578125,1.4375 -1.53125,2.390625 l -1,1.046875 C 0.421875,-0.21875 0.421875,-0.203125 0.421875,0 l 3.140625,0 0.234375,-1.421875 -0.25,0 C 3.53125,-1.265625 3.46875,-0.875 3.375,-0.71875 c -0.046875,0.0625 -0.65625,0.0625 -0.78125,0.0625 l -1.421875,0 z m 0,0\" id=\"path10661\" inkscape:connector-curvature=\"0\" style=\"stroke:none\"/>\n",
       "          </symbol>\n",
       "        </g>\n",
       "      </defs>\n",
       "      <g id=\"textext-c4bc4119-4\">\n",
       "        <g id=\"g10664\" style=\"fill:#000000;fill-opacity:1\">\n",
       "          <use height=\"100%\" id=\"use10666\" width=\"100%\" x=\"125.798\" xlink:href=\"#textext-c4bc4119-1\" y=\"140.742\"/>\n",
       "        </g>\n",
       "        <g id=\"g10668\" style=\"fill:#000000;fill-opacity:1\">\n",
       "          <use height=\"100%\" id=\"use10670\" width=\"100%\" x=\"130.647\" xlink:href=\"#textext-c4bc4119-3\" y=\"142.379\"/>\n",
       "        </g>\n",
       "      </g>\n",
       "    </g>\n",
       "    <g id=\"g10970\" ns0:preamble=\"\" ns0:text=\"$\\\\delta_5$\" transform=\"matrix(2,0,0,2,190.62706,62.838283)\">\n",
       "      <defs id=\"defs10972\">\n",
       "        <g id=\"g10974\">\n",
       "          <symbol id=\"textext-2f074079-0\" overflow=\"visible\" style=\"overflow:visible\">\n",
       "            <path d=\"\" id=\"path10977\" inkscape:connector-curvature=\"0\" style=\"stroke:none\"/>\n",
       "          </symbol>\n",
       "          <symbol id=\"textext-2f074079-1\" overflow=\"visible\" style=\"overflow:visible\">\n",
       "            <path d=\"m 2.875,-4.765625 c -1.359375,0.328125 -2.421875,1.75 -2.421875,3.0625 0,1.046875 0.703125,1.828125 1.734375,1.828125 1.265625,0 2.171875,-1.703125 2.171875,-3.21875 0,-0.984375 -0.4375,-1.53125 -0.796875,-2.015625 -0.40625,-0.5 -1.046875,-1.3125 -1.046875,-1.796875 0,-0.234375 0.21875,-0.5 0.609375,-0.5 0.328125,0 0.546875,0.140625 0.765625,0.296875 0.21875,0.125 0.4375,0.265625 0.609375,0.265625 0.265625,0 0.421875,-0.25 0.421875,-0.4375 0,-0.234375 -0.171875,-0.265625 -0.5625,-0.359375 C 3.796875,-7.75 3.640625,-7.75 3.46875,-7.75 c -0.84375,0 -1.25,0.46875 -1.25,1.125 0,0.578125 0.328125,1.1875 0.65625,1.859375 z m 0.140625,0.234375 c 0.265625,0.5 0.59375,1.09375 0.59375,1.875 0,0.71875 -0.40625,2.546875 -1.421875,2.546875 -0.609375,0 -1.046875,-0.453125 -1.046875,-1.28125 0,-0.6875 0.390625,-2.75 1.875,-3.140625 z m 0,0\" id=\"path10980\" inkscape:connector-curvature=\"0\" style=\"stroke:none\"/>\n",
       "          </symbol>\n",
       "          <symbol id=\"textext-2f074079-2\" overflow=\"visible\" style=\"overflow:visible\">\n",
       "            <path d=\"\" id=\"path10983\" inkscape:connector-curvature=\"0\" style=\"stroke:none\"/>\n",
       "          </symbol>\n",
       "          <symbol id=\"textext-2f074079-3\" overflow=\"visible\" style=\"overflow:visible\">\n",
       "            <path d=\"m 1.109375,-4.484375 c 0.109375,0.03125 0.421875,0.125 0.765625,0.125 1,0 1.59375,-0.703125 1.59375,-0.828125 0,-0.09375 -0.046875,-0.109375 -0.09375,-0.109375 -0.015625,0 -0.03125,0 -0.09375,0.03125 -0.3125,0.125 -0.6875,0.21875 -1.109375,0.21875 -0.46875,0 -0.859375,-0.109375 -1.109375,-0.21875 -0.078125,-0.03125 -0.09375,-0.03125 -0.109375,-0.03125 -0.09375,0 -0.09375,0.078125 -0.09375,0.234375 l 0,2.328125 c 0,0.140625 0,0.234375 0.125,0.234375 0.0625,0 0.078125,-0.03125 0.125,-0.09375 C 1.203125,-2.703125 1.5,-3.109375 2.1875,-3.109375 c 0.4375,0 0.65625,0.359375 0.734375,0.515625 0.125,0.28125 0.140625,0.65625 0.140625,0.953125 0,0.296875 0,0.734375 -0.21875,1.078125 -0.15625,0.25 -0.484375,0.484375 -0.90625,0.484375 -0.515625,0 -1.015625,-0.3125 -1.203125,-0.84375 C 0.75,-0.90625 0.8125,-0.90625 0.8125,-0.90625 c 0.21875,0 0.40625,-0.140625 0.40625,-0.390625 0,-0.296875 -0.234375,-0.40625 -0.390625,-0.40625 -0.15625,0 -0.40625,0.078125 -0.40625,0.421875 0,0.71875 0.625,1.453125 1.53125,1.453125 1,0 1.84375,-0.78125 1.84375,-1.765625 0,-0.921875 -0.671875,-1.75 -1.609375,-1.75 -0.390625,0 -0.765625,0.125 -1.078125,0.40625 z m 0,0\" id=\"path10986\" inkscape:connector-curvature=\"0\" style=\"stroke:none\"/>\n",
       "          </symbol>\n",
       "        </g>\n",
       "      </defs>\n",
       "      <g id=\"textext-2f074079-4\">\n",
       "        <g id=\"g10989\" style=\"fill:#000000;fill-opacity:1\">\n",
       "          <use height=\"100%\" id=\"use10991\" width=\"100%\" x=\"125.798\" xlink:href=\"#textext-2f074079-1\" y=\"140.742\"/>\n",
       "        </g>\n",
       "        <g id=\"g10993\" style=\"fill:#000000;fill-opacity:1\">\n",
       "          <use height=\"100%\" id=\"use10995\" width=\"100%\" x=\"130.647\" xlink:href=\"#textext-2f074079-3\" y=\"142.379\"/>\n",
       "        </g>\n",
       "      </g>\n",
       "    </g>\n",
       "  </g>\n",
       "</svg>"
      ],
      "text/plain": [
       "<IPython.core.display.SVG object>"
      ]
     },
     "metadata": {},
     "output_type": "display_data"
    }
   ],
   "source": [
    "showImage('flexibility')"
   ]
  },
  {
   "cell_type": "markdown",
   "metadata": {},
   "source": [
    "Note that at each end, there are two other forces acting, $f_0$, $f_1$ and $f_3$, $f_4$; they are omitted from\n",
    "the drawings just to make the drawings a little simpler."
   ]
  },
  {
   "cell_type": "markdown",
   "metadata": {},
   "source": [
    "The method of virtual work is probably the simplest and most direct way to do develop the rotation flexibility matrix.\n",
    "\n",
    "The following figure shows unit moments placed individually at each end (at location #s 2 and 5).  It also\n",
    "shows the resulting rotational displacements; these are the coefficients of the flexibility matrix:"
   ]
  },
  {
   "cell_type": "code",
   "execution_count": 5,
   "metadata": {
    "collapsed": false
   },
   "outputs": [
    {
     "data": {
      "image/svg+xml": [
       "<svg height=\"5.2498622in\" id=\"svg2\" version=\"1.1\" viewBox=\"0 0 599.98485 503.98678\" width=\"6.2498422in\" xmlns=\"http://www.w3.org/2000/svg\" xmlns:cc=\"http://creativecommons.org/ns#\" xmlns:dc=\"http://purl.org/dc/elements/1.1/\" xmlns:ns0=\"http://www.iki.fi/pav/software/textext/\" xmlns:rdf=\"http://www.w3.org/1999/02/22-rdf-syntax-ns#\" xmlns:svg=\"http://www.w3.org/2000/svg\" xmlns:xlink=\"http://www.w3.org/1999/xlink\">\n",
       "  <script id=\"script3033\" xlink:href=\"\"/>\n",
       "  <defs id=\"defs4\">\n",
       "    <marker id=\"marker18702\" orient=\"auto\" refX=\"0\" refY=\"0\" style=\"overflow:visible\">\n",
       "      <path d=\"M 8.7185878,4.0337352 -2.2072895,0.01601326 8.7185884,-4.0017078 c -1.7454984,2.3720609 -1.7354408,5.6174519 -6e-7,8.035443 z\" id=\"path18704\" style=\"fill:#b3b3b3;fill-opacity:1;fill-rule:evenodd;stroke:#808080;stroke-width:0.625;stroke-linejoin:round;stroke-opacity:1\" transform=\"matrix(-1.1,0,0,-1.1,-1.1,0)\"/>\n",
       "    </marker>\n",
       "    <marker id=\"Arrow2Lend\" orient=\"auto\" refX=\"0\" refY=\"0\" style=\"overflow:visible\">\n",
       "      <path d=\"M 8.7185878,4.0337352 -2.2072895,0.01601326 8.7185884,-4.0017078 c -1.7454984,2.3720609 -1.7354408,5.6174519 -6e-7,8.035443 z\" id=\"path8443\" style=\"fill:#000000;fill-opacity:1;fill-rule:evenodd;stroke:#808080;stroke-width:0.625;stroke-linejoin:round;stroke-opacity:1\" transform=\"matrix(-1.1,0,0,-1.1,-1.1,0)\"/>\n",
       "    </marker>\n",
       "    <marker id=\"marker17339\" orient=\"auto\" refX=\"0\" refY=\"0\" style=\"overflow:visible\">\n",
       "      <path d=\"M 8.7185878,4.0337352 -2.2072895,0.01601326 8.7185884,-4.0017078 c -1.7454984,2.3720609 -1.7354408,5.6174519 -6e-7,8.035443 z\" id=\"path17341\" style=\"fill:#000000;fill-opacity:1;fill-rule:evenodd;stroke:#000000;stroke-width:0.625;stroke-linejoin:round;stroke-opacity:1\" transform=\"matrix(1.1,0,0,1.1,1.1,0)\"/>\n",
       "    </marker>\n",
       "    <marker id=\"marker17249\" orient=\"auto\" refX=\"0\" refY=\"0\" style=\"overflow:visible\">\n",
       "      <path d=\"M 8.7185878,4.0337352 -2.2072895,0.01601326 8.7185884,-4.0017078 c -1.7454984,2.3720609 -1.7354408,5.6174519 -6e-7,8.035443 z\" id=\"path17251\" style=\"fill:#000000;fill-opacity:1;fill-rule:evenodd;stroke:#000000;stroke-width:0.625;stroke-linejoin:round;stroke-opacity:1\" transform=\"matrix(1.1,0,0,1.1,1.1,0)\"/>\n",
       "    </marker>\n",
       "    <marker id=\"marker17141\" orient=\"auto\" refX=\"0\" refY=\"0\" style=\"overflow:visible\">\n",
       "      <path d=\"M 8.7185878,4.0337352 -2.2072895,0.01601326 8.7185884,-4.0017078 c -1.7454984,2.3720609 -1.7354408,5.6174519 -6e-7,8.035443 z\" id=\"path17143\" style=\"fill:#000000;fill-opacity:1;fill-rule:evenodd;stroke:#000000;stroke-width:0.625;stroke-linejoin:round;stroke-opacity:1\" transform=\"matrix(1.1,0,0,1.1,1.1,0)\"/>\n",
       "    </marker>\n",
       "    <marker id=\"Arrow2Lstart\" orient=\"auto\" refX=\"0\" refY=\"0\" style=\"overflow:visible\">\n",
       "      <path d=\"M 8.7185878,4.0337352 -2.2072895,0.01601326 8.7185884,-4.0017078 c -1.7454984,2.3720609 -1.7354408,5.6174519 -6e-7,8.035443 z\" id=\"path8440\" style=\"fill:#000000;fill-opacity:1;fill-rule:evenodd;stroke:#000000;stroke-width:0.625;stroke-linejoin:round;stroke-opacity:1\" transform=\"matrix(1.1,0,0,1.1,1.1,0)\"/>\n",
       "    </marker>\n",
       "    <marker id=\"marker17001\" orient=\"auto\" refX=\"0\" refY=\"0\" style=\"overflow:visible\">\n",
       "      <path d=\"M 8.7185878,4.0337352 -2.2072895,0.01601326 8.7185884,-4.0017078 c -1.7454984,2.3720609 -1.7354408,5.6174519 -6e-7,8.035443 z\" id=\"path17003\" style=\"fill:#808080;fill-opacity:1;fill-rule:evenodd;stroke:#808080;stroke-width:0.625;stroke-linejoin:round;stroke-opacity:1\" transform=\"scale(0.6,0.6)\"/>\n",
       "    </marker>\n",
       "    <marker id=\"marker16927\" orient=\"auto\" refX=\"0\" refY=\"0\" style=\"overflow:visible\">\n",
       "      <path d=\"M 8.7185878,4.0337352 -2.2072895,0.01601326 8.7185884,-4.0017078 c -1.7454984,2.3720609 -1.7354408,5.6174519 -6e-7,8.035443 z\" id=\"path16929\" style=\"fill:#808080;fill-opacity:1;fill-rule:evenodd;stroke:#808080;stroke-width:0.625;stroke-linejoin:round;stroke-opacity:1\" transform=\"scale(0.6,0.6)\"/>\n",
       "    </marker>\n",
       "    <marker id=\"marker16857\" orient=\"auto\" refX=\"0\" refY=\"0\" style=\"overflow:visible\">\n",
       "      <path d=\"M 8.7185878,4.0337352 -2.2072895,0.01601326 8.7185884,-4.0017078 c -1.7454984,2.3720609 -1.7354408,5.6174519 -6e-7,8.035443 z\" id=\"path16859\" style=\"fill:#808080;fill-opacity:1;fill-rule:evenodd;stroke:#808080;stroke-width:0.625;stroke-linejoin:round;stroke-opacity:1\" transform=\"scale(0.6,0.6)\"/>\n",
       "    </marker>\n",
       "    <marker id=\"marker16785\" orient=\"auto\" refX=\"0\" refY=\"0\" style=\"overflow:visible\">\n",
       "      <path d=\"M 8.7185878,4.0337352 -2.2072895,0.01601326 8.7185884,-4.0017078 c -1.7454984,2.3720609 -1.7354408,5.6174519 -6e-7,8.035443 z\" id=\"path16787\" style=\"fill:#808080;fill-opacity:1;fill-rule:evenodd;stroke:#808080;stroke-width:0.625;stroke-linejoin:round;stroke-opacity:1\" transform=\"scale(0.6,0.6)\"/>\n",
       "    </marker>\n",
       "    <marker id=\"marker12306\" orient=\"auto\" refX=\"0\" refY=\"0\" style=\"overflow:visible\">\n",
       "      <path d=\"M 8.7185878,4.0337352 -2.2072895,0.01601326 8.7185884,-4.0017078 c -1.7454984,2.3720609 -1.7354408,5.6174519 -6e-7,8.035443 z\" id=\"path12308\" style=\"fill:#808080;fill-opacity:1;fill-rule:evenodd;stroke:#808080;stroke-width:0.625;stroke-linejoin:round;stroke-opacity:1\" transform=\"scale(0.6,0.6)\"/>\n",
       "    </marker>\n",
       "    <marker id=\"Arrow2Mend\" orient=\"auto\" refX=\"0\" refY=\"0\" style=\"overflow:visible\">\n",
       "      <path d=\"M 8.7185878,4.0337352 -2.2072895,0.01601326 8.7185884,-4.0017078 c -1.7454984,2.3720609 -1.7354408,5.6174519 -6e-7,8.035443 z\" id=\"path8449\" style=\"fill:#808080;fill-opacity:1;fill-rule:evenodd;stroke:#808080;stroke-width:0.625;stroke-linejoin:round;stroke-opacity:1\" transform=\"scale(-0.6,-0.6)\"/>\n",
       "    </marker>\n",
       "    <marker id=\"Arrow1Mstart\" orient=\"auto\" refX=\"0\" refY=\"0\" style=\"overflow:visible\">\n",
       "      <path d=\"M 0,0 5,-5 -12.5,0 5,5 0,0 Z\" id=\"path8428\" style=\"fill:#808080;fill-opacity:1;fill-rule:evenodd;stroke:#808080;stroke-width:1pt;stroke-opacity:1\" transform=\"matrix(0.4,0,0,0.4,4,0)\"/>\n",
       "    </marker>\n",
       "    <marker id=\"Arrow1Lstart\" orient=\"auto\" refX=\"0\" refY=\"0\" style=\"overflow:visible\">\n",
       "      <path d=\"M 0,0 5,-5 -12.5,0 5,5 0,0 Z\" id=\"path8422\" style=\"fill:#808080;fill-opacity:1;fill-rule:evenodd;stroke:#808080;stroke-width:1pt;stroke-opacity:1\" transform=\"matrix(0.8,0,0,0.8,10,0)\"/>\n",
       "    </marker>\n",
       "    <!-- markers by NMH <nholtz@cee.carleton.ca> -->\n",
       "    <marker id=\"DimensionTick\" orient=\"auto\" refX=\"0\" refY=\"0\" style=\"overflow:visible\">\n",
       "      <path d=\"M 0,0 8,8\" id=\"path6\" style=\"stroke:#4d4d4d;stroke-width:1px;marker-start:none\" transform=\"translate(-4,-4)\"/>\n",
       "    </marker>\n",
       "    <marker id=\"TrussNodeS\" markerUnits=\"userSpaceOnUse\" orient=\"auto\" refX=\"0\" refY=\"0\" style=\"overflow:visible\">\n",
       "      <circle cx=\"0\" cy=\"0\" id=\"circle9\" r=\"3\" style=\"fill:#ffffff;stroke:#000000;stroke-width:1\"/>\n",
       "    </marker>\n",
       "    <marker id=\"TrussNodeM\" markerUnits=\"userSpaceOnUse\" orient=\"auto\" refX=\"0\" refY=\"0\" style=\"overflow:visible\">\n",
       "      <circle cx=\"0\" cy=\"0\" id=\"circle12\" r=\"4\" style=\"fill:#ffffff;stroke:#000000;stroke-width:1\"/>\n",
       "    </marker>\n",
       "    <!-- patternss by NMH <nholtz@cee.carleton.ca> -->\n",
       "    <pattern height=\"18\" id=\"black-stripes-on-red\" patternUnits=\"userSpaceOnUse\" width=\"18\" x=\"0\" y=\"0\">\n",
       "      <path d=\"M 0,0 18,0 18,18 0,18 z\" id=\"path3006\" style=\"fill:#ff0000;stroke:none\"/>\n",
       "      <path d=\"M 0,9 9,0 11,0 0,11 z\" id=\"path3008\" style=\"fill:#000000;stroke:none\"/>\n",
       "      <path d=\"m 9,18 9,-9 0,2 -7,7 z\" id=\"path5234\" style=\"fill:#000000;stroke:none\"/>\n",
       "    </pattern>\n",
       "    <marker id=\"marker5880\" orient=\"auto\" refX=\"0\" refY=\"0\" style=\"overflow:visible\">\n",
       "      <path d=\"M 8.7185878,4.0337352 -2.2072895,0.01601326 8.7185884,-4.0017078 c -1.7454984,2.3720609 -1.7354408,5.6174519 -6e-7,8.035443 z\" id=\"path5882\" style=\"fill:#000000;fill-opacity:1;fill-rule:evenodd;stroke:#000000;stroke-width:0.625;stroke-linejoin:round;stroke-opacity:1\" transform=\"scale(0.6,0.6)\"/>\n",
       "    </marker>\n",
       "  </defs>\n",
       "  <metadata id=\"metadata7\">\n",
       "    <rdf:RDF>\n",
       "      <cc:Work rdf:about=\"\">\n",
       "        <dc:format>image/svg+xml</dc:format>\n",
       "        <dc:type rdf:resource=\"http://purl.org/dc/dcmitype/StillImage\"/>\n",
       "        <dc:title/>\n",
       "        <cc:license rdf:resource=\"http://creativecommons.org/licenses/by-nc/3.0/\"/>\n",
       "      </cc:Work>\n",
       "      <cc:License rdf:about=\"http://creativecommons.org/licenses/by-nc/3.0/\">\n",
       "        <cc:permits rdf:resource=\"http://creativecommons.org/ns#Reproduction\"/>\n",
       "        <cc:permits rdf:resource=\"http://creativecommons.org/ns#Distribution\"/>\n",
       "        <cc:requires rdf:resource=\"http://creativecommons.org/ns#Notice\"/>\n",
       "        <cc:requires rdf:resource=\"http://creativecommons.org/ns#Attribution\"/>\n",
       "        <cc:prohibits rdf:resource=\"http://creativecommons.org/ns#CommercialUse\"/>\n",
       "        <cc:permits rdf:resource=\"http://creativecommons.org/ns#DerivativeWorks\"/>\n",
       "      </cc:License>\n",
       "    </rdf:RDF>\n",
       "  </metadata>\n",
       "  <g id=\"layer1\" transform=\"translate(-144.43951,-106.26782)\">\n",
       "    <path d=\"M 192.00001,222.00001 C 336,126 432.36966,318.10562 576.00002,222.00001\" id=\"path4849\" style=\"opacity:1;fill:none;fill-opacity:1;stroke:#000000;stroke-width:3.20000005;stroke-linecap:round;stroke-linejoin:bevel;stroke-miterlimit:4;stroke-dasharray:none;stroke-dashoffset:0;stroke-opacity:1\"/>\n",
       "    <path d=\"m 192.00001,222.00001 384.00001,0\" id=\"path4851\" style=\"opacity:1;fill:none;fill-opacity:1;stroke:#808080;stroke-width:1.05599999;stroke-linecap:round;stroke-linejoin:bevel;stroke-miterlimit:4;stroke-dasharray:2.11200002, 4.22400004;stroke-dashoffset:0;stroke-opacity:1\"/>\n",
       "    <path d=\"m 192.00001,222.00001 144,-96\" id=\"path4853\" style=\"opacity:1;fill:none;fill-opacity:1;stroke:#808080;stroke-width:1.05599999;stroke-linecap:round;stroke-linejoin:bevel;stroke-miterlimit:4;stroke-dasharray:2.11200009, 4.22400017;stroke-dashoffset:0;stroke-opacity:1\"/>\n",
       "    <path d=\"m 432.00001,318.00001 144.00001,-96\" id=\"path4855\" style=\"opacity:1;fill:none;fill-opacity:1;stroke:#808080;stroke-width:1.05599999;stroke-linecap:round;stroke-linejoin:bevel;stroke-miterlimit:4;stroke-dasharray:2.11200009, 4.22400017;stroke-dashoffset:0;stroke-opacity:1\"/>\n",
       "    <g id=\"g5055\" transform=\"matrix(-1,0,0,-1,348.05314,299.84708)\">\n",
       "      <path class=\"mload\" d=\"m 154.30895,99.974725 a 21.866382,22.154019 89.947274 0 0 0.0425,-43.732731\" id=\"path5030\" style=\"visibility:visible;fill:none;stroke:#000000;stroke-width:2.13333344;stroke-miterlimit:4;stroke-dasharray:none;marker-end:none\"/>\n",
       "      <path d=\"m 142.01592,56.250243 12.80479,0.0068\" id=\"path5032\" style=\"fill:none;stroke:#000000;stroke-width:2.13333344;stroke-linecap:butt;stroke-miterlimit:4;stroke-dasharray:none;stroke-dashoffset:0;stroke-opacity:1;marker-start:url(#marker5880);marker-end:none\"/>\n",
       "    </g>\n",
       "    <g id=\"g10775\" transform=\"matrix(1.0666667,0,0,1.0666667,-81.820953,-155.38832)\">\n",
       "      <title id=\"title3737\">Pin Support</title>\n",
       "      <g id=\"use90\" transform=\"matrix(1.25,0,0,1.25,255.65647,356.59727)\">\n",
       "        <path d=\"m 0.19825424,-1.057356 4.99127116,6.9251865 -10.5112203,0 z\" id=\"path5224\" style=\"fill:#000000;stroke:#000000;stroke-width:0\"/>\n",
       "        <path d=\"M -6,6 6,6\" id=\"path5226\" style=\"fill:none;stroke:#000000;stroke-width:1\"/>\n",
       "        <path d=\"M 6,6 3,9 M 3,6 0,9 M 0,6 -3,9 m 0,-3 -3,3 m 0,-3 -3,3\" id=\"path5228\" style=\"fill:none;stroke:#000000;stroke-width:1\"/>\n",
       "      </g>\n",
       "    </g>\n",
       "    <g id=\"g7419\" transform=\"matrix(1.0666667,0,0,1.0666667,303.65759,-156.44443)\">\n",
       "      <title id=\"title7421\">Pin Support</title>\n",
       "      <g id=\"g7423\" transform=\"matrix(1.25,0,0,1.25,255.65647,356.59727)\">\n",
       "        <path d=\"m 0.19825424,-1.057356 4.99127116,6.9251865 -10.5112203,0 z\" id=\"path7425\" style=\"fill:#000000;stroke:#000000;stroke-width:0\"/>\n",
       "        <path d=\"M -6,6 6,6\" id=\"path7427\" style=\"fill:none;stroke:#000000;stroke-width:1\"/>\n",
       "        <path d=\"M 6,6 3,9 M 3,6 0,9 M 0,6 -3,9 m 0,-3 -3,3 m 0,-3 -3,3\" id=\"path7429\" style=\"fill:none;stroke:#000000;stroke-width:1\"/>\n",
       "      </g>\n",
       "    </g>\n",
       "    <path d=\"m 296.28509,153.44594 a 124.8,124.80002 0 0 1 20.51264,67.80067\" id=\"path8416\" style=\"opacity:1;fill:none;fill-opacity:1;stroke:#000000;stroke-width:1.05599999;stroke-linecap:round;stroke-linejoin:bevel;stroke-miterlimit:4;stroke-dasharray:none;stroke-dashoffset:0;stroke-opacity:1;marker-start:url(#Arrow2Lstart)\"/>\n",
       "    <path d=\"m -472.04529,-290.42154 a 124.8,124.80002 0 0 1 20.51264,67.80068\" id=\"path8792\" style=\"opacity:1;fill:none;fill-opacity:1;stroke:#000000;stroke-width:1.06666672;stroke-linecap:round;stroke-linejoin:bevel;stroke-miterlimit:4;stroke-dasharray:none;stroke-dashoffset:0;stroke-opacity:1;marker-start:url(#marker17339)\" transform=\"scale(-1,-1)\"/>\n",
       "    <path d=\"m 192.00001,463.06649 c 143.99999,-96.00001 240.36965,96.10561 384.00001,0\" id=\"path12234\" style=\"opacity:1;fill:none;fill-opacity:1;stroke:#000000;stroke-width:3.20000005;stroke-linecap:round;stroke-linejoin:bevel;stroke-miterlimit:4;stroke-dasharray:none;stroke-dashoffset:0;stroke-opacity:1\"/>\n",
       "    <path d=\"m 192.00001,463.06649 384.00001,0\" id=\"path12236\" style=\"opacity:1;fill:none;fill-opacity:1;stroke:#808080;stroke-width:1.05599999;stroke-linecap:round;stroke-linejoin:bevel;stroke-miterlimit:4;stroke-dasharray:2.11200002, 4.22400004;stroke-dashoffset:0;stroke-opacity:1\"/>\n",
       "    <path d=\"m 192.00001,463.06649 144,-96\" id=\"path12238\" style=\"opacity:1;fill:none;fill-opacity:1;stroke:#808080;stroke-width:1.05599999;stroke-linecap:round;stroke-linejoin:bevel;stroke-miterlimit:4;stroke-dasharray:2.11200009, 4.22400017;stroke-dashoffset:0;stroke-opacity:1\"/>\n",
       "    <path d=\"m 432.00001,559.06649 144.00001,-96\" id=\"path12240\" style=\"opacity:1;fill:none;fill-opacity:1;stroke:#808080;stroke-width:1.05599999;stroke-linecap:round;stroke-linejoin:bevel;stroke-miterlimit:4;stroke-dasharray:2.11200009, 4.22400017;stroke-dashoffset:0;stroke-opacity:1\"/>\n",
       "    <g id=\"g12248\" transform=\"matrix(1.0666667,0,0,1.0666667,-81.820953,85.678132)\">\n",
       "      <title id=\"title12250\">Pin Support</title>\n",
       "      <g id=\"g12252\" transform=\"matrix(1.25,0,0,1.25,255.65647,356.59727)\">\n",
       "        <path d=\"m 0.19825424,-1.057356 4.99127116,6.9251865 -10.5112203,0 z\" id=\"path12254\" style=\"fill:#000000;stroke:#000000;stroke-width:0\"/>\n",
       "        <path d=\"M -6,6 6,6\" id=\"path12256\" style=\"fill:none;stroke:#000000;stroke-width:1\"/>\n",
       "        <path d=\"M 6,6 3,9 M 3,6 0,9 M 0,6 -3,9 m 0,-3 -3,3 m 0,-3 -3,3\" id=\"path12258\" style=\"fill:none;stroke:#000000;stroke-width:1\"/>\n",
       "      </g>\n",
       "    </g>\n",
       "    <g id=\"g12260\" transform=\"matrix(1.0666667,0,0,1.0666667,303.65759,84.622018)\">\n",
       "      <title id=\"title12262\">Pin Support</title>\n",
       "      <g id=\"g12264\" transform=\"matrix(1.25,0,0,1.25,255.65647,356.59727)\">\n",
       "        <path d=\"m 0.19825424,-1.057356 4.99127116,6.9251865 -10.5112203,0 z\" id=\"path12266\" style=\"fill:#000000;stroke:#000000;stroke-width:0\"/>\n",
       "        <path d=\"M -6,6 6,6\" id=\"path12268\" style=\"fill:none;stroke:#000000;stroke-width:1\"/>\n",
       "        <path d=\"M 6,6 3,9 M 3,6 0,9 M 0,6 -3,9 m 0,-3 -3,3 m 0,-3 -3,3\" id=\"path12270\" style=\"fill:none;stroke:#000000;stroke-width:1\"/>\n",
       "      </g>\n",
       "    </g>\n",
       "    <g id=\"g12272\" transform=\"translate(419.80198,385.2249)\">\n",
       "      <path class=\"mload\" d=\"m 154.30895,99.974725 a 21.866382,22.154019 89.947274 0 0 0.0425,-43.732731\" id=\"path12274\" style=\"visibility:visible;fill:none;stroke:#000000;stroke-width:2.13333344;stroke-miterlimit:4;stroke-dasharray:none;marker-end:none\"/>\n",
       "      <path d=\"m 142.01592,56.250243 12.80479,0.0068\" id=\"path12276\" style=\"fill:none;stroke:#000000;stroke-width:2.13333344;stroke-linecap:butt;stroke-miterlimit:4;stroke-dasharray:none;stroke-dashoffset:0;stroke-opacity:1;marker-start:url(#marker5880);marker-end:none\"/>\n",
       "    </g>\n",
       "    <path d=\"m 296.28509,394.51028 a 124.8,124.80002 0 0 1 20.51264,67.80068\" id=\"path12278\" style=\"opacity:1;fill:none;fill-opacity:1;stroke:#000000;stroke-width:1.06666672;stroke-linecap:round;stroke-linejoin:bevel;stroke-miterlimit:4;stroke-dasharray:none;stroke-dashoffset:0;stroke-opacity:1;marker-start:url(#marker17249)\"/>\n",
       "    <path d=\"m -472.04529,-531.4859 a 124.8,124.80002 0 0 1 20.51264,67.80067\" id=\"path12280\" style=\"opacity:1;fill:none;fill-opacity:1;stroke:#000000;stroke-width:1.06666672;stroke-linecap:round;stroke-linejoin:bevel;stroke-miterlimit:4;stroke-dasharray:none;stroke-dashoffset:0;stroke-opacity:1;marker-start:url(#marker17141)\" transform=\"scale(-1,-1)\"/>\n",
       "    <g id=\"g12565\" ns0:preamble=\"\" ns0:text=\"1\" transform=\"matrix(2,0,0,2,-65.478552,-14.78548)\">\n",
       "      <defs id=\"defs12567\">\n",
       "        <g id=\"g12569\">\n",
       "          <symbol id=\"textext-9e5f9dc7-0\" overflow=\"visible\" style=\"overflow:visible\">\n",
       "            <path d=\"\" id=\"path12572\" style=\"stroke:none\"/>\n",
       "          </symbol>\n",
       "          <symbol id=\"textext-9e5f9dc7-1\" overflow=\"visible\" style=\"overflow:visible\">\n",
       "            <path d=\"m 3.203125,-6.984375 c 0,-0.25 0,-0.28125 -0.25,-0.28125 C 2.28125,-6.5625 1.3125,-6.5625 0.96875,-6.5625 l 0,0.328125 c 0.21875,0 0.859375,0 1.4375,-0.28125 l 0,5.65625 c 0,0.390625 -0.046875,0.515625 -1.015625,0.515625 l -0.359375,0 0,0.34375 c 0.390625,-0.03125 1.328125,-0.03125 1.765625,-0.03125 0.4375,0 1.390625,0 1.765625,0.03125 l 0,-0.34375 -0.34375,0 c -0.984375,0 -1.015625,-0.109375 -1.015625,-0.515625 z m 0,0\" id=\"path12575\" style=\"stroke:none\"/>\n",
       "          </symbol>\n",
       "        </g>\n",
       "      </defs>\n",
       "      <g id=\"textext-9e5f9dc7-2\">\n",
       "        <g id=\"g12578\" style=\"fill:#000000;fill-opacity:1\">\n",
       "          <use height=\"100%\" id=\"use12580\" width=\"100%\" x=\"125.798\" xlink:href=\"#textext-9e5f9dc7-1\" y=\"140.742\"/>\n",
       "        </g>\n",
       "      </g>\n",
       "    </g>\n",
       "    <g id=\"g12671\" ns0:preamble=\"\" ns0:text=\"1\" transform=\"matrix(2,0,0,2,304.15844,153.34688)\">\n",
       "      <defs id=\"defs12673\">\n",
       "        <g id=\"g12675\">\n",
       "          <symbol id=\"symbol12677\" overflow=\"visible\" style=\"overflow:visible\">\n",
       "            <path d=\"\" id=\"path12679\" style=\"stroke:none\"/>\n",
       "          </symbol>\n",
       "          <symbol id=\"symbol12681\" overflow=\"visible\" style=\"overflow:visible\">\n",
       "            <path d=\"m 3.203125,-6.984375 c 0,-0.25 0,-0.28125 -0.25,-0.28125 C 2.28125,-6.5625 1.3125,-6.5625 0.96875,-6.5625 l 0,0.328125 c 0.21875,0 0.859375,0 1.4375,-0.28125 l 0,5.65625 c 0,0.390625 -0.046875,0.515625 -1.015625,0.515625 l -0.359375,0 0,0.34375 c 0.390625,-0.03125 1.328125,-0.03125 1.765625,-0.03125 0.4375,0 1.390625,0 1.765625,0.03125 l 0,-0.34375 -0.34375,0 c -0.984375,0 -1.015625,-0.109375 -1.015625,-0.515625 z m 0,0\" id=\"path12683\" style=\"stroke:none\"/>\n",
       "          </symbol>\n",
       "        </g>\n",
       "      </defs>\n",
       "      <g id=\"g12685\">\n",
       "        <g id=\"g12687\" style=\"fill:#000000;fill-opacity:1\">\n",
       "          <use height=\"100%\" id=\"use12689\" width=\"100%\" x=\"125.798\" xlink:href=\"#textext-9e5f9dc7-1\" y=\"140.742\"/>\n",
       "        </g>\n",
       "      </g>\n",
       "    </g>\n",
       "    <g id=\"g12792\" ns0:preamble=\"\" ns0:text=\"$\\\\alpha_{22}$\" transform=\"matrix(2,0,0,2,62.310235,-96.105623)\">\n",
       "      <defs id=\"defs12794\">\n",
       "        <g id=\"g12796\">\n",
       "          <symbol id=\"textext-546eead7-0\" overflow=\"visible\" style=\"overflow:visible\">\n",
       "            <path d=\"\" id=\"path12799\" style=\"stroke:none\"/>\n",
       "          </symbol>\n",
       "          <symbol id=\"textext-546eead7-1\" overflow=\"visible\" style=\"overflow:visible\">\n",
       "            <path d=\"m 5.203125,-2.578125 c 0,-1.703125 -1.015625,-2.25 -1.828125,-2.25 -1.484375,0 -2.921875,1.5625 -2.921875,3.109375 0,1.015625 0.640625,1.84375 1.765625,1.84375 0.6875,0 1.46875,-0.25 2.296875,-0.921875 C 4.65625,-0.21875 5.015625,0.125 5.5,0.125 c 0.578125,0 0.921875,-0.609375 0.921875,-0.78125 0,-0.078125 -0.0625,-0.109375 -0.125,-0.109375 -0.078125,0 -0.109375,0.03125 -0.140625,0.109375 C 5.953125,-0.125 5.5625,-0.125 5.546875,-0.125 c -0.34375,0 -0.34375,-0.84375 -0.34375,-1.109375 0,-0.234375 0,-0.25 0.109375,-0.375 1.03125,-1.296875 1.25,-2.5625 1.25,-2.5625 0,-0.03125 -0.015625,-0.109375 -0.125,-0.109375 -0.109375,0 -0.109375,0.03125 -0.171875,0.21875 -0.1875,0.6875 -0.546875,1.515625 -1.0625,2.171875 z m -0.734375,1.5 C 3.515625,-0.234375 2.671875,-0.125 2.234375,-0.125 1.578125,-0.125 1.25,-0.609375 1.25,-1.3125 c 0,-0.53125 0.28125,-1.703125 0.640625,-2.265625 0.515625,-0.796875 1.09375,-1 1.484375,-1 1.078125,0 1.078125,1.421875 1.078125,2.28125 0,0.40625 0,1.03125 0.015625,1.21875 z m 0,0\" id=\"path12802\" style=\"stroke:none\"/>\n",
       "          </symbol>\n",
       "          <symbol id=\"textext-546eead7-2\" overflow=\"visible\" style=\"overflow:visible\">\n",
       "            <path d=\"\" id=\"path12805\" style=\"stroke:none\"/>\n",
       "          </symbol>\n",
       "          <symbol id=\"textext-546eead7-3\" overflow=\"visible\" style=\"overflow:visible\">\n",
       "            <path d=\"m 2.25,-1.625 c 0.125,-0.125 0.453125,-0.390625 0.59375,-0.5 0.484375,-0.453125 0.953125,-0.890625 0.953125,-1.609375 0,-0.953125 -0.796875,-1.5625 -1.78125,-1.5625 -0.96875,0 -1.59375,0.71875 -1.59375,1.4375 0,0.390625 0.3125,0.4375 0.421875,0.4375 0.171875,0 0.421875,-0.109375 0.421875,-0.421875 0,-0.40625 -0.40625,-0.40625 -0.5,-0.40625 C 1,-4.84375 1.53125,-5.03125 1.921875,-5.03125 c 0.734375,0 1.125,0.625 1.125,1.296875 0,0.828125 -0.578125,1.4375 -1.53125,2.390625 l -1,1.046875 C 0.421875,-0.21875 0.421875,-0.203125 0.421875,0 l 3.140625,0 0.234375,-1.421875 -0.25,0 C 3.53125,-1.265625 3.46875,-0.875 3.375,-0.71875 c -0.046875,0.0625 -0.65625,0.0625 -0.78125,0.0625 l -1.421875,0 z m 0,0\" id=\"path12808\" style=\"stroke:none\"/>\n",
       "          </symbol>\n",
       "        </g>\n",
       "      </defs>\n",
       "      <g id=\"textext-546eead7-4\">\n",
       "        <g id=\"g12811\" style=\"fill:#000000;fill-opacity:1\">\n",
       "          <use height=\"100%\" id=\"use12813\" width=\"100%\" x=\"125.798\" xlink:href=\"#textext-546eead7-1\" y=\"140.742\"/>\n",
       "        </g>\n",
       "        <g id=\"g12815\" style=\"fill:#000000;fill-opacity:1\">\n",
       "          <use height=\"100%\" id=\"use12817\" width=\"100%\" x=\"132.77699\" xlink:href=\"#textext-546eead7-3\" y=\"142.379\"/>\n",
       "          <use height=\"100%\" id=\"use12819\" width=\"100%\" x=\"137.01152\" xlink:href=\"#textext-546eead7-3\" y=\"142.379\"/>\n",
       "        </g>\n",
       "      </g>\n",
       "    </g>\n",
       "    <g id=\"g13191\" ns0:preamble=\"\" ns0:text=\"$\\\\alpha_{52}$\" transform=\"matrix(2,0,0,2,173.20133,-9.504952)\">\n",
       "      <defs id=\"defs13193\">\n",
       "        <g id=\"g13195\">\n",
       "          <symbol id=\"textext-a52510c3-0\" overflow=\"visible\" style=\"overflow:visible\">\n",
       "            <path d=\"\" id=\"path13198\" style=\"stroke:none\"/>\n",
       "          </symbol>\n",
       "          <symbol id=\"textext-a52510c3-1\" overflow=\"visible\" style=\"overflow:visible\">\n",
       "            <path d=\"m 5.203125,-2.578125 c 0,-1.703125 -1.015625,-2.25 -1.828125,-2.25 -1.484375,0 -2.921875,1.5625 -2.921875,3.109375 0,1.015625 0.640625,1.84375 1.765625,1.84375 0.6875,0 1.46875,-0.25 2.296875,-0.921875 C 4.65625,-0.21875 5.015625,0.125 5.5,0.125 c 0.578125,0 0.921875,-0.609375 0.921875,-0.78125 0,-0.078125 -0.0625,-0.109375 -0.125,-0.109375 -0.078125,0 -0.109375,0.03125 -0.140625,0.109375 C 5.953125,-0.125 5.5625,-0.125 5.546875,-0.125 c -0.34375,0 -0.34375,-0.84375 -0.34375,-1.109375 0,-0.234375 0,-0.25 0.109375,-0.375 1.03125,-1.296875 1.25,-2.5625 1.25,-2.5625 0,-0.03125 -0.015625,-0.109375 -0.125,-0.109375 -0.109375,0 -0.109375,0.03125 -0.171875,0.21875 -0.1875,0.6875 -0.546875,1.515625 -1.0625,2.171875 z m -0.734375,1.5 C 3.515625,-0.234375 2.671875,-0.125 2.234375,-0.125 1.578125,-0.125 1.25,-0.609375 1.25,-1.3125 c 0,-0.53125 0.28125,-1.703125 0.640625,-2.265625 0.515625,-0.796875 1.09375,-1 1.484375,-1 1.078125,0 1.078125,1.421875 1.078125,2.28125 0,0.40625 0,1.03125 0.015625,1.21875 z m 0,0\" id=\"path13201\" style=\"stroke:none\"/>\n",
       "          </symbol>\n",
       "          <symbol id=\"textext-a52510c3-2\" overflow=\"visible\" style=\"overflow:visible\">\n",
       "            <path d=\"\" id=\"path13204\" style=\"stroke:none\"/>\n",
       "          </symbol>\n",
       "          <symbol id=\"textext-a52510c3-3\" overflow=\"visible\" style=\"overflow:visible\">\n",
       "            <path d=\"m 1.109375,-4.484375 c 0.109375,0.03125 0.421875,0.125 0.765625,0.125 1,0 1.59375,-0.703125 1.59375,-0.828125 0,-0.09375 -0.046875,-0.109375 -0.09375,-0.109375 -0.015625,0 -0.03125,0 -0.09375,0.03125 -0.3125,0.125 -0.6875,0.21875 -1.109375,0.21875 -0.46875,0 -0.859375,-0.109375 -1.109375,-0.21875 -0.078125,-0.03125 -0.09375,-0.03125 -0.109375,-0.03125 -0.09375,0 -0.09375,0.078125 -0.09375,0.234375 l 0,2.328125 c 0,0.140625 0,0.234375 0.125,0.234375 0.0625,0 0.078125,-0.03125 0.125,-0.09375 C 1.203125,-2.703125 1.5,-3.109375 2.1875,-3.109375 c 0.4375,0 0.65625,0.359375 0.734375,0.515625 0.125,0.28125 0.140625,0.65625 0.140625,0.953125 0,0.296875 0,0.734375 -0.21875,1.078125 -0.15625,0.25 -0.484375,0.484375 -0.90625,0.484375 -0.515625,0 -1.015625,-0.3125 -1.203125,-0.84375 C 0.75,-0.90625 0.8125,-0.90625 0.8125,-0.90625 c 0.21875,0 0.40625,-0.140625 0.40625,-0.390625 0,-0.296875 -0.234375,-0.40625 -0.390625,-0.40625 -0.15625,0 -0.40625,0.078125 -0.40625,0.421875 0,0.71875 0.625,1.453125 1.53125,1.453125 1,0 1.84375,-0.78125 1.84375,-1.765625 0,-0.921875 -0.671875,-1.75 -1.609375,-1.75 -0.390625,0 -0.765625,0.125 -1.078125,0.40625 z m 0,0\" id=\"path13207\" style=\"stroke:none\"/>\n",
       "          </symbol>\n",
       "          <symbol id=\"textext-a52510c3-4\" overflow=\"visible\" style=\"overflow:visible\">\n",
       "            <path d=\"m 2.25,-1.625 c 0.125,-0.125 0.453125,-0.390625 0.59375,-0.5 0.484375,-0.453125 0.953125,-0.890625 0.953125,-1.609375 0,-0.953125 -0.796875,-1.5625 -1.78125,-1.5625 -0.96875,0 -1.59375,0.71875 -1.59375,1.4375 0,0.390625 0.3125,0.4375 0.421875,0.4375 0.171875,0 0.421875,-0.109375 0.421875,-0.421875 0,-0.40625 -0.40625,-0.40625 -0.5,-0.40625 C 1,-4.84375 1.53125,-5.03125 1.921875,-5.03125 c 0.734375,0 1.125,0.625 1.125,1.296875 0,0.828125 -0.578125,1.4375 -1.53125,2.390625 l -1,1.046875 C 0.421875,-0.21875 0.421875,-0.203125 0.421875,0 l 3.140625,0 0.234375,-1.421875 -0.25,0 C 3.53125,-1.265625 3.46875,-0.875 3.375,-0.71875 c -0.046875,0.0625 -0.65625,0.0625 -0.78125,0.0625 l -1.421875,0 z m 0,0\" id=\"path13210\" style=\"stroke:none\"/>\n",
       "          </symbol>\n",
       "        </g>\n",
       "      </defs>\n",
       "      <g id=\"textext-a52510c3-5\">\n",
       "        <g id=\"g13213\" style=\"fill:#000000;fill-opacity:1\">\n",
       "          <use height=\"100%\" id=\"use13215\" width=\"100%\" x=\"125.798\" xlink:href=\"#textext-a52510c3-1\" y=\"140.742\"/>\n",
       "        </g>\n",
       "        <g id=\"g13217\" style=\"fill:#000000;fill-opacity:1\">\n",
       "          <use height=\"100%\" id=\"use13219\" width=\"100%\" x=\"132.77699\" xlink:href=\"#textext-a52510c3-3\" y=\"142.379\"/>\n",
       "          <use height=\"100%\" id=\"use13221\" width=\"100%\" x=\"137.01152\" xlink:href=\"#textext-a52510c3-4\" y=\"142.379\"/>\n",
       "        </g>\n",
       "      </g>\n",
       "    </g>\n",
       "    <g id=\"g13546\" ns0:preamble=\"\" ns0:text=\"$\\\\alpha_{25}$\" transform=\"matrix(2,0,0,2,62.310234,141.72971)\">\n",
       "      <defs id=\"defs13548\">\n",
       "        <g id=\"g13550\">\n",
       "          <symbol id=\"textext-54f994f7-0\" overflow=\"visible\" style=\"overflow:visible\">\n",
       "            <path d=\"\" id=\"path13553\" style=\"stroke:none\"/>\n",
       "          </symbol>\n",
       "          <symbol id=\"textext-54f994f7-1\" overflow=\"visible\" style=\"overflow:visible\">\n",
       "            <path d=\"m 5.203125,-2.578125 c 0,-1.703125 -1.015625,-2.25 -1.828125,-2.25 -1.484375,0 -2.921875,1.5625 -2.921875,3.109375 0,1.015625 0.640625,1.84375 1.765625,1.84375 0.6875,0 1.46875,-0.25 2.296875,-0.921875 C 4.65625,-0.21875 5.015625,0.125 5.5,0.125 c 0.578125,0 0.921875,-0.609375 0.921875,-0.78125 0,-0.078125 -0.0625,-0.109375 -0.125,-0.109375 -0.078125,0 -0.109375,0.03125 -0.140625,0.109375 C 5.953125,-0.125 5.5625,-0.125 5.546875,-0.125 c -0.34375,0 -0.34375,-0.84375 -0.34375,-1.109375 0,-0.234375 0,-0.25 0.109375,-0.375 1.03125,-1.296875 1.25,-2.5625 1.25,-2.5625 0,-0.03125 -0.015625,-0.109375 -0.125,-0.109375 -0.109375,0 -0.109375,0.03125 -0.171875,0.21875 -0.1875,0.6875 -0.546875,1.515625 -1.0625,2.171875 z m -0.734375,1.5 C 3.515625,-0.234375 2.671875,-0.125 2.234375,-0.125 1.578125,-0.125 1.25,-0.609375 1.25,-1.3125 c 0,-0.53125 0.28125,-1.703125 0.640625,-2.265625 0.515625,-0.796875 1.09375,-1 1.484375,-1 1.078125,0 1.078125,1.421875 1.078125,2.28125 0,0.40625 0,1.03125 0.015625,1.21875 z m 0,0\" id=\"path13556\" style=\"stroke:none\"/>\n",
       "          </symbol>\n",
       "          <symbol id=\"textext-54f994f7-2\" overflow=\"visible\" style=\"overflow:visible\">\n",
       "            <path d=\"\" id=\"path13559\" style=\"stroke:none\"/>\n",
       "          </symbol>\n",
       "          <symbol id=\"textext-54f994f7-3\" overflow=\"visible\" style=\"overflow:visible\">\n",
       "            <path d=\"m 2.25,-1.625 c 0.125,-0.125 0.453125,-0.390625 0.59375,-0.5 0.484375,-0.453125 0.953125,-0.890625 0.953125,-1.609375 0,-0.953125 -0.796875,-1.5625 -1.78125,-1.5625 -0.96875,0 -1.59375,0.71875 -1.59375,1.4375 0,0.390625 0.3125,0.4375 0.421875,0.4375 0.171875,0 0.421875,-0.109375 0.421875,-0.421875 0,-0.40625 -0.40625,-0.40625 -0.5,-0.40625 C 1,-4.84375 1.53125,-5.03125 1.921875,-5.03125 c 0.734375,0 1.125,0.625 1.125,1.296875 0,0.828125 -0.578125,1.4375 -1.53125,2.390625 l -1,1.046875 C 0.421875,-0.21875 0.421875,-0.203125 0.421875,0 l 3.140625,0 0.234375,-1.421875 -0.25,0 C 3.53125,-1.265625 3.46875,-0.875 3.375,-0.71875 c -0.046875,0.0625 -0.65625,0.0625 -0.78125,0.0625 l -1.421875,0 z m 0,0\" id=\"path13562\" style=\"stroke:none\"/>\n",
       "          </symbol>\n",
       "          <symbol id=\"textext-54f994f7-4\" overflow=\"visible\" style=\"overflow:visible\">\n",
       "            <path d=\"m 1.109375,-4.484375 c 0.109375,0.03125 0.421875,0.125 0.765625,0.125 1,0 1.59375,-0.703125 1.59375,-0.828125 0,-0.09375 -0.046875,-0.109375 -0.09375,-0.109375 -0.015625,0 -0.03125,0 -0.09375,0.03125 -0.3125,0.125 -0.6875,0.21875 -1.109375,0.21875 -0.46875,0 -0.859375,-0.109375 -1.109375,-0.21875 -0.078125,-0.03125 -0.09375,-0.03125 -0.109375,-0.03125 -0.09375,0 -0.09375,0.078125 -0.09375,0.234375 l 0,2.328125 c 0,0.140625 0,0.234375 0.125,0.234375 0.0625,0 0.078125,-0.03125 0.125,-0.09375 C 1.203125,-2.703125 1.5,-3.109375 2.1875,-3.109375 c 0.4375,0 0.65625,0.359375 0.734375,0.515625 0.125,0.28125 0.140625,0.65625 0.140625,0.953125 0,0.296875 0,0.734375 -0.21875,1.078125 -0.15625,0.25 -0.484375,0.484375 -0.90625,0.484375 -0.515625,0 -1.015625,-0.3125 -1.203125,-0.84375 C 0.75,-0.90625 0.8125,-0.90625 0.8125,-0.90625 c 0.21875,0 0.40625,-0.140625 0.40625,-0.390625 0,-0.296875 -0.234375,-0.40625 -0.390625,-0.40625 -0.15625,0 -0.40625,0.078125 -0.40625,0.421875 0,0.71875 0.625,1.453125 1.53125,1.453125 1,0 1.84375,-0.78125 1.84375,-1.765625 0,-0.921875 -0.671875,-1.75 -1.609375,-1.75 -0.390625,0 -0.765625,0.125 -1.078125,0.40625 z m 0,0\" id=\"path13565\" style=\"stroke:none\"/>\n",
       "          </symbol>\n",
       "        </g>\n",
       "      </defs>\n",
       "      <g id=\"textext-54f994f7-5\">\n",
       "        <g id=\"g13568\" style=\"fill:#000000;fill-opacity:1\">\n",
       "          <use height=\"100%\" id=\"use13570\" width=\"100%\" x=\"125.798\" xlink:href=\"#textext-54f994f7-1\" y=\"140.742\"/>\n",
       "        </g>\n",
       "        <g id=\"g13572\" style=\"fill:#000000;fill-opacity:1\">\n",
       "          <use height=\"100%\" id=\"use13574\" width=\"100%\" x=\"132.77699\" xlink:href=\"#textext-54f994f7-3\" y=\"142.379\"/>\n",
       "          <use height=\"100%\" id=\"use13576\" width=\"100%\" x=\"137.01152\" xlink:href=\"#textext-54f994f7-4\" y=\"142.379\"/>\n",
       "        </g>\n",
       "      </g>\n",
       "    </g>\n",
       "    <g id=\"g13905\" ns0:preamble=\"\" ns0:text=\"$\\\\alpha_{55}$\" transform=\"matrix(2,0,0,2,172.14522,234.66702)\">\n",
       "      <defs id=\"defs13907\">\n",
       "        <g id=\"g13909\">\n",
       "          <symbol id=\"textext-d4aaa8fc-0\" overflow=\"visible\" style=\"overflow:visible\">\n",
       "            <path d=\"\" id=\"path13912\" style=\"stroke:none\"/>\n",
       "          </symbol>\n",
       "          <symbol id=\"textext-d4aaa8fc-1\" overflow=\"visible\" style=\"overflow:visible\">\n",
       "            <path d=\"m 5.203125,-2.578125 c 0,-1.703125 -1.015625,-2.25 -1.828125,-2.25 -1.484375,0 -2.921875,1.5625 -2.921875,3.109375 0,1.015625 0.640625,1.84375 1.765625,1.84375 0.6875,0 1.46875,-0.25 2.296875,-0.921875 C 4.65625,-0.21875 5.015625,0.125 5.5,0.125 c 0.578125,0 0.921875,-0.609375 0.921875,-0.78125 0,-0.078125 -0.0625,-0.109375 -0.125,-0.109375 -0.078125,0 -0.109375,0.03125 -0.140625,0.109375 C 5.953125,-0.125 5.5625,-0.125 5.546875,-0.125 c -0.34375,0 -0.34375,-0.84375 -0.34375,-1.109375 0,-0.234375 0,-0.25 0.109375,-0.375 1.03125,-1.296875 1.25,-2.5625 1.25,-2.5625 0,-0.03125 -0.015625,-0.109375 -0.125,-0.109375 -0.109375,0 -0.109375,0.03125 -0.171875,0.21875 -0.1875,0.6875 -0.546875,1.515625 -1.0625,2.171875 z m -0.734375,1.5 C 3.515625,-0.234375 2.671875,-0.125 2.234375,-0.125 1.578125,-0.125 1.25,-0.609375 1.25,-1.3125 c 0,-0.53125 0.28125,-1.703125 0.640625,-2.265625 0.515625,-0.796875 1.09375,-1 1.484375,-1 1.078125,0 1.078125,1.421875 1.078125,2.28125 0,0.40625 0,1.03125 0.015625,1.21875 z m 0,0\" id=\"path13915\" style=\"stroke:none\"/>\n",
       "          </symbol>\n",
       "          <symbol id=\"textext-d4aaa8fc-2\" overflow=\"visible\" style=\"overflow:visible\">\n",
       "            <path d=\"\" id=\"path13918\" style=\"stroke:none\"/>\n",
       "          </symbol>\n",
       "          <symbol id=\"textext-d4aaa8fc-3\" overflow=\"visible\" style=\"overflow:visible\">\n",
       "            <path d=\"m 1.109375,-4.484375 c 0.109375,0.03125 0.421875,0.125 0.765625,0.125 1,0 1.59375,-0.703125 1.59375,-0.828125 0,-0.09375 -0.046875,-0.109375 -0.09375,-0.109375 -0.015625,0 -0.03125,0 -0.09375,0.03125 -0.3125,0.125 -0.6875,0.21875 -1.109375,0.21875 -0.46875,0 -0.859375,-0.109375 -1.109375,-0.21875 -0.078125,-0.03125 -0.09375,-0.03125 -0.109375,-0.03125 -0.09375,0 -0.09375,0.078125 -0.09375,0.234375 l 0,2.328125 c 0,0.140625 0,0.234375 0.125,0.234375 0.0625,0 0.078125,-0.03125 0.125,-0.09375 C 1.203125,-2.703125 1.5,-3.109375 2.1875,-3.109375 c 0.4375,0 0.65625,0.359375 0.734375,0.515625 0.125,0.28125 0.140625,0.65625 0.140625,0.953125 0,0.296875 0,0.734375 -0.21875,1.078125 -0.15625,0.25 -0.484375,0.484375 -0.90625,0.484375 -0.515625,0 -1.015625,-0.3125 -1.203125,-0.84375 C 0.75,-0.90625 0.8125,-0.90625 0.8125,-0.90625 c 0.21875,0 0.40625,-0.140625 0.40625,-0.390625 0,-0.296875 -0.234375,-0.40625 -0.390625,-0.40625 -0.15625,0 -0.40625,0.078125 -0.40625,0.421875 0,0.71875 0.625,1.453125 1.53125,1.453125 1,0 1.84375,-0.78125 1.84375,-1.765625 0,-0.921875 -0.671875,-1.75 -1.609375,-1.75 -0.390625,0 -0.765625,0.125 -1.078125,0.40625 z m 0,0\" id=\"path13921\" style=\"stroke:none\"/>\n",
       "          </symbol>\n",
       "        </g>\n",
       "      </defs>\n",
       "      <g id=\"textext-d4aaa8fc-4\">\n",
       "        <g id=\"g13924\" style=\"fill:#000000;fill-opacity:1\">\n",
       "          <use height=\"100%\" id=\"use13926\" width=\"100%\" x=\"125.798\" xlink:href=\"#textext-d4aaa8fc-1\" y=\"140.742\"/>\n",
       "        </g>\n",
       "        <g id=\"g13928\" style=\"fill:#000000;fill-opacity:1\">\n",
       "          <use height=\"100%\" id=\"use13930\" width=\"100%\" x=\"132.77699\" xlink:href=\"#textext-d4aaa8fc-3\" y=\"142.379\"/>\n",
       "          <use height=\"100%\" id=\"use13932\" width=\"100%\" x=\"137.01152\" xlink:href=\"#textext-d4aaa8fc-3\" y=\"142.379\"/>\n",
       "        </g>\n",
       "      </g>\n",
       "    </g>\n",
       "    <path d=\"m 575.99999,319.06669 -384.00002,0 0,48 z\" id=\"path14105\" style=\"opacity:1;fill:#b3b3b3;fill-opacity:1;stroke:#000000;stroke-width:1.06666672;stroke-linecap:round;stroke-linejoin:bevel;stroke-miterlimit:4;stroke-dasharray:none;stroke-dashoffset:0;stroke-opacity:1\"/>\n",
       "    <path d=\"m 191.99997,584.66707 384.00002,0 0,-48.00001 z\" id=\"path14107\" style=\"opacity:1;fill:#b3b3b3;fill-opacity:1;stroke:#000000;stroke-width:1.06666672;stroke-linecap:round;stroke-linejoin:bevel;stroke-miterlimit:4;stroke-dasharray:none;stroke-dashoffset:0;stroke-opacity:1\"/>\n",
       "    <g id=\"g16039\" ns0:preamble=\"\" ns0:text=\"$-1$\" transform=\"matrix(2,0,0,2,-89.768982,93.908918)\">\n",
       "      <defs id=\"defs16041\">\n",
       "        <g id=\"g16043\">\n",
       "          <symbol id=\"textext-7023560b-0\" overflow=\"visible\" style=\"overflow:visible\">\n",
       "            <path d=\"\" id=\"path16046\" style=\"stroke:none\"/>\n",
       "          </symbol>\n",
       "          <symbol id=\"textext-7023560b-1\" overflow=\"visible\" style=\"overflow:visible\">\n",
       "            <path d=\"m 7.1875,-2.515625 c 0.1875,0 0.375,0 0.375,-0.203125 0,-0.21875 -0.1875,-0.21875 -0.375,-0.21875 l -5.90625,0 c -0.1875,0 -0.375,0 -0.375,0.21875 0,0.203125 0.1875,0.203125 0.375,0.203125 z m 0,0\" id=\"path16049\" style=\"stroke:none\"/>\n",
       "          </symbol>\n",
       "          <symbol id=\"textext-7023560b-2\" overflow=\"visible\" style=\"overflow:visible\">\n",
       "            <path d=\"\" id=\"path16052\" style=\"stroke:none\"/>\n",
       "          </symbol>\n",
       "          <symbol id=\"textext-7023560b-3\" overflow=\"visible\" style=\"overflow:visible\">\n",
       "            <path d=\"m 3.203125,-6.984375 c 0,-0.25 0,-0.28125 -0.25,-0.28125 C 2.28125,-6.5625 1.3125,-6.5625 0.96875,-6.5625 l 0,0.328125 c 0.21875,0 0.859375,0 1.4375,-0.28125 l 0,5.65625 c 0,0.390625 -0.046875,0.515625 -1.015625,0.515625 l -0.359375,0 0,0.34375 c 0.390625,-0.03125 1.328125,-0.03125 1.765625,-0.03125 0.4375,0 1.390625,0 1.765625,0.03125 l 0,-0.34375 -0.34375,0 c -0.984375,0 -1.015625,-0.109375 -1.015625,-0.515625 z m 0,0\" id=\"path16055\" style=\"stroke:none\"/>\n",
       "          </symbol>\n",
       "        </g>\n",
       "      </defs>\n",
       "      <g id=\"textext-7023560b-4\">\n",
       "        <g id=\"g16058\" style=\"fill:#000000;fill-opacity:1\">\n",
       "          <use height=\"100%\" id=\"use16060\" width=\"100%\" x=\"125.798\" xlink:href=\"#textext-7023560b-1\" y=\"140.742\"/>\n",
       "        </g>\n",
       "        <g id=\"g16062\" style=\"fill:#000000;fill-opacity:1\">\n",
       "          <use height=\"100%\" id=\"use16064\" width=\"100%\" x=\"134.283\" xlink:href=\"#textext-7023560b-3\" y=\"140.742\"/>\n",
       "        </g>\n",
       "      </g>\n",
       "    </g>\n",
       "    <g id=\"g16523\" ns0:preamble=\"\" ns0:text=\"$+1$\" transform=\"matrix(2,0,0,2,331.59606,262.92845)\">\n",
       "      <defs id=\"defs16525\">\n",
       "        <g id=\"g16527\">\n",
       "          <symbol id=\"textext-389d8f7c-0\" overflow=\"visible\" style=\"overflow:visible\">\n",
       "            <path d=\"\" id=\"path16530\" style=\"stroke:none\"/>\n",
       "          </symbol>\n",
       "          <symbol id=\"textext-389d8f7c-1\" overflow=\"visible\" style=\"overflow:visible\">\n",
       "            <path d=\"m 4.453125,-2.515625 3.046875,0 c 0.15625,0 0.359375,0 0.359375,-0.203125 C 7.859375,-2.9375 7.65625,-2.9375 7.5,-2.9375 l -3.046875,0 0,-3.0625 c 0,-0.15625 0,-0.359375 -0.203125,-0.359375 -0.21875,0 -0.21875,0.203125 -0.21875,0.359375 l 0,3.0625 -3.0625,0 c -0.15625,0 -0.359375,0 -0.359375,0.21875 0,0.203125 0.203125,0.203125 0.359375,0.203125 l 3.0625,0 0,3.0625 c 0,0.15625 0,0.359375 0.21875,0.359375 0.203125,0 0.203125,-0.203125 0.203125,-0.359375 z m 0,0\" id=\"path16533\" style=\"stroke:none\"/>\n",
       "          </symbol>\n",
       "          <symbol id=\"textext-389d8f7c-2\" overflow=\"visible\" style=\"overflow:visible\">\n",
       "            <path d=\"m 3.203125,-6.984375 c 0,-0.25 0,-0.28125 -0.25,-0.28125 C 2.28125,-6.5625 1.3125,-6.5625 0.96875,-6.5625 l 0,0.328125 c 0.21875,0 0.859375,0 1.4375,-0.28125 l 0,5.65625 c 0,0.390625 -0.046875,0.515625 -1.015625,0.515625 l -0.359375,0 0,0.34375 c 0.390625,-0.03125 1.328125,-0.03125 1.765625,-0.03125 0.4375,0 1.390625,0 1.765625,0.03125 l 0,-0.34375 -0.34375,0 c -0.984375,0 -1.015625,-0.109375 -1.015625,-0.515625 z m 0,0\" id=\"path16536\" style=\"stroke:none\"/>\n",
       "          </symbol>\n",
       "        </g>\n",
       "      </defs>\n",
       "      <g id=\"textext-389d8f7c-3\">\n",
       "        <g id=\"g16539\" style=\"fill:#000000;fill-opacity:1\">\n",
       "          <use height=\"100%\" id=\"use16541\" width=\"100%\" x=\"125.798\" xlink:href=\"#textext-389d8f7c-1\" y=\"140.742\"/>\n",
       "          <use height=\"100%\" id=\"use16543\" width=\"100%\" x=\"134.2831\" xlink:href=\"#textext-389d8f7c-2\" y=\"140.742\"/>\n",
       "        </g>\n",
       "      </g>\n",
       "    </g>\n",
       "    <g id=\"g17682\" ns0:preamble=\"\" ns0:text=\"$m_2 = -1 + \\\\frac{x}{L}$\" transform=\"matrix(2,0,0,2,347.45874,46.384165)\">\n",
       "      <defs id=\"defs17684\">\n",
       "        <g id=\"g17686\">\n",
       "          <symbol id=\"textext-6328689e-0\" overflow=\"visible\" style=\"overflow:visible\">\n",
       "            <path d=\"\" id=\"path17689\" style=\"stroke:none\"/>\n",
       "          </symbol>\n",
       "          <symbol id=\"textext-6328689e-1\" overflow=\"visible\" style=\"overflow:visible\">\n",
       "            <path d=\"m 0.953125,-0.640625 c -0.03125,0.15625 -0.09375,0.40625 -0.09375,0.46875 0,0.1875 0.15625,0.296875 0.3125,0.296875 C 1.3125,0.125 1.5,0.03125 1.578125,-0.1875 1.59375,-0.203125 1.71875,-0.71875 1.78125,-1 l 0.25,-0.96875 c 0.0625,-0.25 0.125,-0.484375 0.1875,-0.734375 0.03125,-0.1875 0.125,-0.5 0.140625,-0.546875 0.15625,-0.34375 0.734375,-1.328125 1.78125,-1.328125 0.484375,0 0.578125,0.40625 0.578125,0.765625 0,0.265625 -0.078125,0.578125 -0.15625,0.90625 L 4.25,-1.640625 4.03125,-0.8125 c -0.046875,0.21875 -0.140625,0.578125 -0.140625,0.640625 0,0.1875 0.15625,0.296875 0.3125,0.296875 0.34375,0 0.40625,-0.28125 0.5,-0.625 0.15625,-0.609375 0.546875,-2.203125 0.65625,-2.625 0.03125,-0.140625 0.609375,-1.453125 1.796875,-1.453125 0.46875,0 0.59375,0.375 0.59375,0.765625 0,0.609375 -0.46875,1.859375 -0.6875,2.4375 -0.09375,0.265625 -0.140625,0.375 -0.140625,0.59375 0,0.515625 0.390625,0.90625 0.890625,0.90625 1.03125,0 1.4375,-1.59375 1.4375,-1.6875 0,-0.109375 -0.09375,-0.109375 -0.125,-0.109375 -0.109375,0 -0.109375,0.03125 -0.171875,0.203125 C 8.796875,-0.890625 8.4375,-0.125 7.84375,-0.125 c -0.1875,0 -0.265625,-0.109375 -0.265625,-0.359375 0,-0.265625 0.09375,-0.53125 0.203125,-0.765625 0.203125,-0.578125 0.65625,-1.78125 0.65625,-2.40625 0,-0.703125 -0.4375,-1.171875 -1.25,-1.171875 -0.8125,0 -1.375,0.484375 -1.78125,1.0625 C 5.40625,-3.90625 5.359375,-4.28125 5.0625,-4.53125 4.78125,-4.765625 4.4375,-4.828125 4.171875,-4.828125 3.1875,-4.828125 2.65625,-4.125 2.46875,-3.875 c -0.0625,-0.625 -0.515625,-0.953125 -1,-0.953125 -0.515625,0 -0.71875,0.4375 -0.8125,0.625 -0.203125,0.390625 -0.34375,1.03125 -0.34375,1.0625 0,0.109375 0.109375,0.109375 0.140625,0.109375 0.109375,0 0.109375,-0.015625 0.171875,-0.25 0.1875,-0.78125 0.40625,-1.296875 0.796875,-1.296875 0.1875,0 0.34375,0.078125 0.34375,0.5 0,0.234375 -0.03125,0.34375 -0.171875,0.921875 z m 0,0\" id=\"path17692\" style=\"stroke:none\"/>\n",
       "          </symbol>\n",
       "          <symbol id=\"textext-6328689e-2\" overflow=\"visible\" style=\"overflow:visible\">\n",
       "            <path d=\"\" id=\"path17695\" style=\"stroke:none\"/>\n",
       "          </symbol>\n",
       "          <symbol id=\"textext-6328689e-3\" overflow=\"visible\" style=\"overflow:visible\">\n",
       "            <path d=\"m 2.25,-1.625 c 0.125,-0.125 0.453125,-0.390625 0.59375,-0.5 0.484375,-0.453125 0.953125,-0.890625 0.953125,-1.609375 0,-0.953125 -0.796875,-1.5625 -1.78125,-1.5625 -0.96875,0 -1.59375,0.71875 -1.59375,1.4375 0,0.390625 0.3125,0.4375 0.421875,0.4375 0.171875,0 0.421875,-0.109375 0.421875,-0.421875 0,-0.40625 -0.40625,-0.40625 -0.5,-0.40625 C 1,-4.84375 1.53125,-5.03125 1.921875,-5.03125 c 0.734375,0 1.125,0.625 1.125,1.296875 0,0.828125 -0.578125,1.4375 -1.53125,2.390625 l -1,1.046875 C 0.421875,-0.21875 0.421875,-0.203125 0.421875,0 l 3.140625,0 0.234375,-1.421875 -0.25,0 C 3.53125,-1.265625 3.46875,-0.875 3.375,-0.71875 c -0.046875,0.0625 -0.65625,0.0625 -0.78125,0.0625 l -1.421875,0 z m 0,0\" id=\"path17698\" style=\"stroke:none\"/>\n",
       "          </symbol>\n",
       "          <symbol id=\"textext-6328689e-4\" overflow=\"visible\" style=\"overflow:visible\">\n",
       "            <path d=\"\" id=\"path17701\" style=\"stroke:none\"/>\n",
       "          </symbol>\n",
       "          <symbol id=\"textext-6328689e-5\" overflow=\"visible\" style=\"overflow:visible\">\n",
       "            <path d=\"m 7.5,-3.5625 c 0.15625,0 0.359375,0 0.359375,-0.21875 C 7.859375,-4 7.65625,-4 7.5,-4 l -6.53125,0 c -0.15625,0 -0.359375,0 -0.359375,0.21875 0,0.21875 0.203125,0.21875 0.375,0.21875 z m 0,2.109375 c 0.15625,0 0.359375,0 0.359375,-0.21875 0,-0.21875 -0.203125,-0.21875 -0.359375,-0.21875 l -6.515625,0 c -0.171875,0 -0.375,0 -0.375,0.21875 0,0.21875 0.203125,0.21875 0.359375,0.21875 z m 0,0\" id=\"path17704\" style=\"stroke:none\"/>\n",
       "          </symbol>\n",
       "          <symbol id=\"textext-6328689e-6\" overflow=\"visible\" style=\"overflow:visible\">\n",
       "            <path d=\"m 3.203125,-6.984375 c 0,-0.25 0,-0.28125 -0.25,-0.28125 C 2.28125,-6.5625 1.3125,-6.5625 0.96875,-6.5625 l 0,0.328125 c 0.21875,0 0.859375,0 1.4375,-0.28125 l 0,5.65625 c 0,0.390625 -0.046875,0.515625 -1.015625,0.515625 l -0.359375,0 0,0.34375 c 0.390625,-0.03125 1.328125,-0.03125 1.765625,-0.03125 0.4375,0 1.390625,0 1.765625,0.03125 l 0,-0.34375 -0.34375,0 c -0.984375,0 -1.015625,-0.109375 -1.015625,-0.515625 z m 0,0\" id=\"path17707\" style=\"stroke:none\"/>\n",
       "          </symbol>\n",
       "          <symbol id=\"textext-6328689e-7\" overflow=\"visible\" style=\"overflow:visible\">\n",
       "            <path d=\"m 4.453125,-2.515625 3.046875,0 c 0.15625,0 0.359375,0 0.359375,-0.203125 C 7.859375,-2.9375 7.65625,-2.9375 7.5,-2.9375 l -3.046875,0 0,-3.0625 c 0,-0.15625 0,-0.359375 -0.203125,-0.359375 -0.21875,0 -0.21875,0.203125 -0.21875,0.359375 l 0,3.0625 -3.0625,0 c -0.15625,0 -0.359375,0 -0.359375,0.21875 0,0.203125 0.203125,0.203125 0.359375,0.203125 l 3.0625,0 0,3.0625 c 0,0.15625 0,0.359375 0.21875,0.359375 0.203125,0 0.203125,-0.203125 0.203125,-0.359375 z m 0,0\" id=\"path17710\" style=\"stroke:none\"/>\n",
       "          </symbol>\n",
       "          <symbol id=\"textext-6328689e-8\" overflow=\"visible\" style=\"overflow:visible\">\n",
       "            <path d=\"\" id=\"path17713\" style=\"stroke:none\"/>\n",
       "          </symbol>\n",
       "          <symbol id=\"textext-6328689e-9\" overflow=\"visible\" style=\"overflow:visible\">\n",
       "            <path d=\"m 7.1875,-2.515625 c 0.1875,0 0.375,0 0.375,-0.203125 0,-0.21875 -0.1875,-0.21875 -0.375,-0.21875 l -5.90625,0 c -0.1875,0 -0.375,0 -0.375,0.21875 0,0.203125 0.1875,0.203125 0.375,0.203125 z m 0,0\" id=\"path17716\" style=\"stroke:none\"/>\n",
       "          </symbol>\n",
       "          <symbol id=\"textext-6328689e-10\" overflow=\"visible\" style=\"overflow:visible\">\n",
       "            <path d=\"\" id=\"path17719\" style=\"stroke:none\"/>\n",
       "          </symbol>\n",
       "          <symbol id=\"textext-6328689e-11\" overflow=\"visible\" style=\"overflow:visible\">\n",
       "            <path d=\"M 4,-3.171875 C 3.640625,-3.09375 3.625,-2.78125 3.625,-2.75 c 0,0.171875 0.140625,0.296875 0.3125,0.296875 0.171875,0 0.4375,-0.140625 0.4375,-0.484375 0,-0.453125 -0.5,-0.578125 -0.796875,-0.578125 C 3.21875,-3.515625 2.90625,-3.25 2.71875,-2.9375 2.546875,-3.359375 2.140625,-3.515625 1.8125,-3.515625 c -0.875,0 -1.359375,1 -1.359375,1.21875 0,0.078125 0.0625,0.109375 0.125,0.109375 0.09375,0 0.109375,-0.046875 0.125,-0.140625 0.1875,-0.578125 0.671875,-0.96875 1.078125,-0.96875 0.3125,0 0.46875,0.234375 0.46875,0.515625 C 2.25,-2.625 2.15625,-2.25 2.09375,-2 c -0.0625,0.234375 -0.234375,0.9375 -0.28125,1.09375 -0.109375,0.421875 -0.390625,0.765625 -0.75,0.765625 -0.03125,0 -0.234375,0 -0.40625,-0.109375 0.359375,-0.09375 0.359375,-0.421875 0.359375,-0.4375 0,-0.1875 -0.140625,-0.296875 -0.3125,-0.296875 -0.21875,0 -0.453125,0.1875 -0.453125,0.484375 0,0.375 0.390625,0.578125 0.796875,0.578125 0.421875,0 0.71875,-0.3125 0.859375,-0.578125 0.1875,0.390625 0.546875,0.578125 0.9375,0.578125 0.859375,0 1.34375,-1 1.34375,-1.21875 C 4.1875,-1.21875 4.125,-1.25 4.0625,-1.25 c -0.09375,0 -0.109375,0.0625 -0.140625,0.140625 -0.15625,0.53125 -0.609375,0.96875 -1.0625,0.96875 -0.265625,0 -0.453125,-0.171875 -0.453125,-0.515625 0,-0.15625 0.046875,-0.34375 0.15625,-0.78125 0.046875,-0.25 0.21875,-0.9375 0.265625,-1.09375 0.109375,-0.421875 0.390625,-0.765625 0.75,-0.765625 0.046875,0 0.25,0 0.421875,0.125 z m 0,0\" id=\"path17722\" style=\"stroke:none\"/>\n",
       "          </symbol>\n",
       "          <symbol id=\"textext-6328689e-12\" overflow=\"visible\" style=\"overflow:visible\">\n",
       "            <path d=\"m 3.09375,-4.828125 c 0.0625,-0.265625 0.078125,-0.34375 0.8125,-0.34375 0.234375,0 0.3125,0 0.3125,-0.15625 0,-0.015625 -0.015625,-0.109375 -0.140625,-0.109375 -0.171875,0 -0.40625,0.015625 -0.578125,0.015625 l -0.5625,0 c -0.828125,0 -1.03125,-0.015625 -1.078125,-0.015625 -0.03125,0 -0.15625,0 -0.15625,0.140625 0,0.125 0.09375,0.125 0.21875,0.125 0.265625,0 0.5,0 0.5,0.125 0,0.03125 0,0.03125 -0.03125,0.140625 l -1.0625,4.28125 c -0.078125,0.296875 -0.09375,0.359375 -0.6875,0.359375 -0.140625,0 -0.25,0 -0.25,0.15625 C 0.390625,0 0.5,0 0.640625,0 l 3.84375,0 C 4.6875,0 4.6875,-0.015625 4.75,-0.15625 4.84375,-0.375 5.421875,-1.875 5.421875,-1.953125 c 0,-0.078125 -0.0625,-0.125 -0.125,-0.125 -0.078125,0 -0.09375,0.0625 -0.15625,0.1875 -0.28125,0.734375 -0.625,1.625 -2.0625,1.625 l -1,0 C 2,-0.28125 1.96875,-0.28125 1.96875,-0.328125 c 0,-0.0625 0.015625,-0.140625 0.046875,-0.1875 z m 0,0\" id=\"path17725\" style=\"stroke:none\"/>\n",
       "          </symbol>\n",
       "        </g>\n",
       "      </defs>\n",
       "      <g id=\"textext-6328689e-13\">\n",
       "        <g id=\"g17728\" style=\"fill:#000000;fill-opacity:1\">\n",
       "          <use height=\"100%\" id=\"use17730\" width=\"100%\" x=\"125.798\" xlink:href=\"#textext-6328689e-1\" y=\"140.742\"/>\n",
       "        </g>\n",
       "        <g id=\"g17732\" style=\"fill:#000000;fill-opacity:1\">\n",
       "          <use height=\"100%\" id=\"use17734\" width=\"100%\" x=\"135.377\" xlink:href=\"#textext-6328689e-3\" y=\"142.379\"/>\n",
       "        </g>\n",
       "        <g id=\"g17736\" style=\"fill:#000000;fill-opacity:1\">\n",
       "          <use height=\"100%\" id=\"use17738\" width=\"100%\" x=\"143.13901\" xlink:href=\"#textext-6328689e-5\" y=\"140.742\"/>\n",
       "        </g>\n",
       "        <g id=\"g17740\" style=\"fill:#000000;fill-opacity:1\">\n",
       "          <use height=\"100%\" id=\"use17742\" width=\"100%\" x=\"154.65401\" xlink:href=\"#textext-6328689e-9\" y=\"140.742\"/>\n",
       "        </g>\n",
       "        <g id=\"g17744\" style=\"fill:#000000;fill-opacity:1\">\n",
       "          <use height=\"100%\" id=\"use17746\" width=\"100%\" x=\"163.13901\" xlink:href=\"#textext-6328689e-6\" y=\"140.742\"/>\n",
       "        </g>\n",
       "        <g id=\"g17748\" style=\"fill:#000000;fill-opacity:1\">\n",
       "          <use height=\"100%\" id=\"use17750\" width=\"100%\" x=\"171.01537\" xlink:href=\"#textext-6328689e-7\" y=\"140.742\"/>\n",
       "        </g>\n",
       "        <g id=\"g17752\" style=\"fill:#000000;fill-opacity:1\">\n",
       "          <use height=\"100%\" id=\"use17754\" width=\"100%\" x=\"183.619\" xlink:href=\"#textext-6328689e-11\" y=\"136.44701\"/>\n",
       "        </g>\n",
       "        <path d=\"m -9.0625e-4,-6.25e-4 5.76171825,0\" id=\"path17756\" style=\"fill:none;stroke:#000000;stroke-width:0.398;stroke-linecap:butt;stroke-linejoin:miter;stroke-miterlimit:10;stroke-opacity:1\" transform=\"matrix(1,0,0,-1,183.122,138.015)\"/>\n",
       "        <g id=\"g17758\" style=\"fill:#000000;fill-opacity:1\">\n",
       "          <use height=\"100%\" id=\"use17760\" width=\"100%\" x=\"183.12199\" xlink:href=\"#textext-6328689e-12\" y=\"144.504\"/>\n",
       "        </g>\n",
       "      </g>\n",
       "    </g>\n",
       "    <g id=\"g18302\" ns0:preamble=\"\" ns0:text=\"$m_5 = \\\\frac{x}{L}$\" transform=\"matrix(2,0,0,2,353.79537,302.0466)\">\n",
       "      <defs id=\"defs18304\">\n",
       "        <g id=\"g18306\">\n",
       "          <symbol id=\"textext-3b8a55be-0\" overflow=\"visible\" style=\"overflow:visible\">\n",
       "            <path d=\"\" id=\"path18309\" style=\"stroke:none\"/>\n",
       "          </symbol>\n",
       "          <symbol id=\"textext-3b8a55be-1\" overflow=\"visible\" style=\"overflow:visible\">\n",
       "            <path d=\"m 0.953125,-0.640625 c -0.03125,0.15625 -0.09375,0.40625 -0.09375,0.46875 0,0.1875 0.15625,0.296875 0.3125,0.296875 C 1.3125,0.125 1.5,0.03125 1.578125,-0.1875 1.59375,-0.203125 1.71875,-0.71875 1.78125,-1 l 0.25,-0.96875 c 0.0625,-0.25 0.125,-0.484375 0.1875,-0.734375 0.03125,-0.1875 0.125,-0.5 0.140625,-0.546875 0.15625,-0.34375 0.734375,-1.328125 1.78125,-1.328125 0.484375,0 0.578125,0.40625 0.578125,0.765625 0,0.265625 -0.078125,0.578125 -0.15625,0.90625 L 4.25,-1.640625 4.03125,-0.8125 c -0.046875,0.21875 -0.140625,0.578125 -0.140625,0.640625 0,0.1875 0.15625,0.296875 0.3125,0.296875 0.34375,0 0.40625,-0.28125 0.5,-0.625 0.15625,-0.609375 0.546875,-2.203125 0.65625,-2.625 0.03125,-0.140625 0.609375,-1.453125 1.796875,-1.453125 0.46875,0 0.59375,0.375 0.59375,0.765625 0,0.609375 -0.46875,1.859375 -0.6875,2.4375 -0.09375,0.265625 -0.140625,0.375 -0.140625,0.59375 0,0.515625 0.390625,0.90625 0.890625,0.90625 1.03125,0 1.4375,-1.59375 1.4375,-1.6875 0,-0.109375 -0.09375,-0.109375 -0.125,-0.109375 -0.109375,0 -0.109375,0.03125 -0.171875,0.203125 C 8.796875,-0.890625 8.4375,-0.125 7.84375,-0.125 c -0.1875,0 -0.265625,-0.109375 -0.265625,-0.359375 0,-0.265625 0.09375,-0.53125 0.203125,-0.765625 0.203125,-0.578125 0.65625,-1.78125 0.65625,-2.40625 0,-0.703125 -0.4375,-1.171875 -1.25,-1.171875 -0.8125,0 -1.375,0.484375 -1.78125,1.0625 C 5.40625,-3.90625 5.359375,-4.28125 5.0625,-4.53125 4.78125,-4.765625 4.4375,-4.828125 4.171875,-4.828125 3.1875,-4.828125 2.65625,-4.125 2.46875,-3.875 c -0.0625,-0.625 -0.515625,-0.953125 -1,-0.953125 -0.515625,0 -0.71875,0.4375 -0.8125,0.625 -0.203125,0.390625 -0.34375,1.03125 -0.34375,1.0625 0,0.109375 0.109375,0.109375 0.140625,0.109375 0.109375,0 0.109375,-0.015625 0.171875,-0.25 0.1875,-0.78125 0.40625,-1.296875 0.796875,-1.296875 0.1875,0 0.34375,0.078125 0.34375,0.5 0,0.234375 -0.03125,0.34375 -0.171875,0.921875 z m 0,0\" id=\"path18312\" style=\"stroke:none\"/>\n",
       "          </symbol>\n",
       "          <symbol id=\"textext-3b8a55be-2\" overflow=\"visible\" style=\"overflow:visible\">\n",
       "            <path d=\"\" id=\"path18315\" style=\"stroke:none\"/>\n",
       "          </symbol>\n",
       "          <symbol id=\"textext-3b8a55be-3\" overflow=\"visible\" style=\"overflow:visible\">\n",
       "            <path d=\"m 1.109375,-4.484375 c 0.109375,0.03125 0.421875,0.125 0.765625,0.125 1,0 1.59375,-0.703125 1.59375,-0.828125 0,-0.09375 -0.046875,-0.109375 -0.09375,-0.109375 -0.015625,0 -0.03125,0 -0.09375,0.03125 -0.3125,0.125 -0.6875,0.21875 -1.109375,0.21875 -0.46875,0 -0.859375,-0.109375 -1.109375,-0.21875 -0.078125,-0.03125 -0.09375,-0.03125 -0.109375,-0.03125 -0.09375,0 -0.09375,0.078125 -0.09375,0.234375 l 0,2.328125 c 0,0.140625 0,0.234375 0.125,0.234375 0.0625,0 0.078125,-0.03125 0.125,-0.09375 C 1.203125,-2.703125 1.5,-3.109375 2.1875,-3.109375 c 0.4375,0 0.65625,0.359375 0.734375,0.515625 0.125,0.28125 0.140625,0.65625 0.140625,0.953125 0,0.296875 0,0.734375 -0.21875,1.078125 -0.15625,0.25 -0.484375,0.484375 -0.90625,0.484375 -0.515625,0 -1.015625,-0.3125 -1.203125,-0.84375 C 0.75,-0.90625 0.8125,-0.90625 0.8125,-0.90625 c 0.21875,0 0.40625,-0.140625 0.40625,-0.390625 0,-0.296875 -0.234375,-0.40625 -0.390625,-0.40625 -0.15625,0 -0.40625,0.078125 -0.40625,0.421875 0,0.71875 0.625,1.453125 1.53125,1.453125 1,0 1.84375,-0.78125 1.84375,-1.765625 0,-0.921875 -0.671875,-1.75 -1.609375,-1.75 -0.390625,0 -0.765625,0.125 -1.078125,0.40625 z m 0,0\" id=\"path18318\" style=\"stroke:none\"/>\n",
       "          </symbol>\n",
       "          <symbol id=\"textext-3b8a55be-4\" overflow=\"visible\" style=\"overflow:visible\">\n",
       "            <path d=\"\" id=\"path18321\" style=\"stroke:none\"/>\n",
       "          </symbol>\n",
       "          <symbol id=\"textext-3b8a55be-5\" overflow=\"visible\" style=\"overflow:visible\">\n",
       "            <path d=\"m 7.5,-3.5625 c 0.15625,0 0.359375,0 0.359375,-0.21875 C 7.859375,-4 7.65625,-4 7.5,-4 l -6.53125,0 c -0.15625,0 -0.359375,0 -0.359375,0.21875 0,0.21875 0.203125,0.21875 0.375,0.21875 z m 0,2.109375 c 0.15625,0 0.359375,0 0.359375,-0.21875 0,-0.21875 -0.203125,-0.21875 -0.359375,-0.21875 l -6.515625,0 c -0.171875,0 -0.375,0 -0.375,0.21875 0,0.21875 0.203125,0.21875 0.359375,0.21875 z m 0,0\" id=\"path18324\" style=\"stroke:none\"/>\n",
       "          </symbol>\n",
       "          <symbol id=\"textext-3b8a55be-6\" overflow=\"visible\" style=\"overflow:visible\">\n",
       "            <path d=\"\" id=\"path18327\" style=\"stroke:none\"/>\n",
       "          </symbol>\n",
       "          <symbol id=\"textext-3b8a55be-7\" overflow=\"visible\" style=\"overflow:visible\">\n",
       "            <path d=\"M 4,-3.171875 C 3.640625,-3.09375 3.625,-2.78125 3.625,-2.75 c 0,0.171875 0.140625,0.296875 0.3125,0.296875 0.171875,0 0.4375,-0.140625 0.4375,-0.484375 0,-0.453125 -0.5,-0.578125 -0.796875,-0.578125 C 3.21875,-3.515625 2.90625,-3.25 2.71875,-2.9375 2.546875,-3.359375 2.140625,-3.515625 1.8125,-3.515625 c -0.875,0 -1.359375,1 -1.359375,1.21875 0,0.078125 0.0625,0.109375 0.125,0.109375 0.09375,0 0.109375,-0.046875 0.125,-0.140625 0.1875,-0.578125 0.671875,-0.96875 1.078125,-0.96875 0.3125,0 0.46875,0.234375 0.46875,0.515625 C 2.25,-2.625 2.15625,-2.25 2.09375,-2 c -0.0625,0.234375 -0.234375,0.9375 -0.28125,1.09375 -0.109375,0.421875 -0.390625,0.765625 -0.75,0.765625 -0.03125,0 -0.234375,0 -0.40625,-0.109375 0.359375,-0.09375 0.359375,-0.421875 0.359375,-0.4375 0,-0.1875 -0.140625,-0.296875 -0.3125,-0.296875 -0.21875,0 -0.453125,0.1875 -0.453125,0.484375 0,0.375 0.390625,0.578125 0.796875,0.578125 0.421875,0 0.71875,-0.3125 0.859375,-0.578125 0.1875,0.390625 0.546875,0.578125 0.9375,0.578125 0.859375,0 1.34375,-1 1.34375,-1.21875 C 4.1875,-1.21875 4.125,-1.25 4.0625,-1.25 c -0.09375,0 -0.109375,0.0625 -0.140625,0.140625 -0.15625,0.53125 -0.609375,0.96875 -1.0625,0.96875 -0.265625,0 -0.453125,-0.171875 -0.453125,-0.515625 0,-0.15625 0.046875,-0.34375 0.15625,-0.78125 0.046875,-0.25 0.21875,-0.9375 0.265625,-1.09375 0.109375,-0.421875 0.390625,-0.765625 0.75,-0.765625 0.046875,0 0.25,0 0.421875,0.125 z m 0,0\" id=\"path18330\" style=\"stroke:none\"/>\n",
       "          </symbol>\n",
       "          <symbol id=\"textext-3b8a55be-8\" overflow=\"visible\" style=\"overflow:visible\">\n",
       "            <path d=\"m 3.09375,-4.828125 c 0.0625,-0.265625 0.078125,-0.34375 0.8125,-0.34375 0.234375,0 0.3125,0 0.3125,-0.15625 0,-0.015625 -0.015625,-0.109375 -0.140625,-0.109375 -0.171875,0 -0.40625,0.015625 -0.578125,0.015625 l -0.5625,0 c -0.828125,0 -1.03125,-0.015625 -1.078125,-0.015625 -0.03125,0 -0.15625,0 -0.15625,0.140625 0,0.125 0.09375,0.125 0.21875,0.125 0.265625,0 0.5,0 0.5,0.125 0,0.03125 0,0.03125 -0.03125,0.140625 l -1.0625,4.28125 c -0.078125,0.296875 -0.09375,0.359375 -0.6875,0.359375 -0.140625,0 -0.25,0 -0.25,0.15625 C 0.390625,0 0.5,0 0.640625,0 l 3.84375,0 C 4.6875,0 4.6875,-0.015625 4.75,-0.15625 4.84375,-0.375 5.421875,-1.875 5.421875,-1.953125 c 0,-0.078125 -0.0625,-0.125 -0.125,-0.125 -0.078125,0 -0.09375,0.0625 -0.15625,0.1875 -0.28125,0.734375 -0.625,1.625 -2.0625,1.625 l -1,0 C 2,-0.28125 1.96875,-0.28125 1.96875,-0.328125 c 0,-0.0625 0.015625,-0.140625 0.046875,-0.1875 z m 0,0\" id=\"path18333\" style=\"stroke:none\"/>\n",
       "          </symbol>\n",
       "        </g>\n",
       "      </defs>\n",
       "      <g id=\"textext-3b8a55be-9\">\n",
       "        <g id=\"g18336\" style=\"fill:#000000;fill-opacity:1\">\n",
       "          <use height=\"100%\" id=\"use18338\" width=\"100%\" x=\"125.798\" xlink:href=\"#textext-3b8a55be-1\" y=\"140.742\"/>\n",
       "        </g>\n",
       "        <g id=\"g18340\" style=\"fill:#000000;fill-opacity:1\">\n",
       "          <use height=\"100%\" id=\"use18342\" width=\"100%\" x=\"135.377\" xlink:href=\"#textext-3b8a55be-3\" y=\"142.379\"/>\n",
       "        </g>\n",
       "        <g id=\"g18344\" style=\"fill:#000000;fill-opacity:1\">\n",
       "          <use height=\"100%\" id=\"use18346\" width=\"100%\" x=\"143.13901\" xlink:href=\"#textext-3b8a55be-5\" y=\"140.742\"/>\n",
       "        </g>\n",
       "        <g id=\"g18348\" style=\"fill:#000000;fill-opacity:1\">\n",
       "          <use height=\"100%\" id=\"use18350\" width=\"100%\" x=\"156.34599\" xlink:href=\"#textext-3b8a55be-7\" y=\"136.44701\"/>\n",
       "        </g>\n",
       "        <path d=\"m 0.0015625,-6.25e-4 5.7578125,0\" id=\"path18352\" style=\"fill:none;stroke:#000000;stroke-width:0.398;stroke-linecap:butt;stroke-linejoin:miter;stroke-miterlimit:10;stroke-opacity:1\" transform=\"matrix(1,0,0,-1,155.85,138.015)\"/>\n",
       "        <g id=\"g18354\" style=\"fill:#000000;fill-opacity:1\">\n",
       "          <use height=\"100%\" id=\"use18356\" width=\"100%\" x=\"155.85001\" xlink:href=\"#textext-3b8a55be-8\" y=\"144.504\"/>\n",
       "        </g>\n",
       "      </g>\n",
       "    </g>\n",
       "    <path d=\"m 191.99999,279.60001 76.8,0\" id=\"path18700\" style=\"opacity:1;fill:#b3b3b3;fill-opacity:1;stroke:#808080;stroke-width:1.06666672;stroke-linecap:round;stroke-linejoin:bevel;stroke-miterlimit:4;stroke-dasharray:none;stroke-dashoffset:0;stroke-opacity:1;marker-end:url(#marker18702)\"/>\n",
       "    <path d=\"m 191.99999,270.00001 0,19.2\" id=\"path18796\" style=\"opacity:1;fill:#b3b3b3;fill-opacity:1;stroke:#808080;stroke-width:1.06666672;stroke-linecap:round;stroke-linejoin:bevel;stroke-miterlimit:4;stroke-dasharray:none;stroke-dashoffset:0;stroke-opacity:1\"/>\n",
       "    <g id=\"g19101\" ns0:preamble=\"\" ns0:text=\"$x$\" transform=\"matrix(2,0,0,2,23.466665,4.2666666)\">\n",
       "      <defs id=\"defs19103\">\n",
       "        <g id=\"g19105\">\n",
       "          <symbol id=\"textext-3baf5271-0\" overflow=\"visible\" style=\"overflow:visible\">\n",
       "            <path d=\"\" id=\"path19108\" style=\"stroke:none\"/>\n",
       "          </symbol>\n",
       "          <symbol id=\"textext-3baf5271-1\" overflow=\"visible\" style=\"overflow:visible\">\n",
       "            <path d=\"m 3.640625,-3.296875 c 0.0625,-0.28125 0.3125,-1.28125 1.078125,-1.28125 0.0625,0 0.3125,0 0.546875,0.140625 C 4.96875,-4.390625 4.75,-4.109375 4.75,-3.84375 c 0,0.171875 0.109375,0.375 0.40625,0.375 0.25,0 0.59375,-0.203125 0.59375,-0.625 0,-0.578125 -0.640625,-0.734375 -1.015625,-0.734375 -0.640625,0 -1.015625,0.578125 -1.140625,0.84375 -0.28125,-0.734375 -0.875,-0.84375 -1.1875,-0.84375 -1.125,0 -1.75,1.421875 -1.75,1.6875 0,0.109375 0.109375,0.109375 0.125,0.109375 0.09375,0 0.125,-0.015625 0.140625,-0.125 0.375,-1.15625 1.09375,-1.421875 1.46875,-1.421875 0.203125,0 0.59375,0.09375 0.59375,0.734375 0,0.328125 -0.1875,1.0625 -0.59375,2.59375 -0.171875,0.671875 -0.5625,1.125 -1.03125,1.125 -0.078125,0 -0.328125,0 -0.546875,-0.140625 0.265625,-0.046875 0.5,-0.28125 0.5,-0.578125 0,-0.296875 -0.234375,-0.390625 -0.390625,-0.390625 -0.328125,0 -0.609375,0.28125 -0.609375,0.640625 0,0.5 0.546875,0.71875 1.03125,0.71875 0.71875,0 1.109375,-0.765625 1.140625,-0.828125 C 2.625,-0.3125 3.015625,0.125 3.671875,0.125 c 1.109375,0 1.734375,-1.40625 1.734375,-1.6875 0,-0.109375 -0.09375,-0.109375 -0.125,-0.109375 -0.09375,0 -0.125,0.046875 -0.140625,0.125 C 4.78125,-0.375 4.03125,-0.125 3.6875,-0.125 c -0.421875,0 -0.59375,-0.34375 -0.59375,-0.71875 0,-0.234375 0.0625,-0.46875 0.171875,-0.953125 z m 0,0\" id=\"path19111\" style=\"stroke:none\"/>\n",
       "          </symbol>\n",
       "        </g>\n",
       "      </defs>\n",
       "      <g id=\"textext-3baf5271-2\">\n",
       "        <g id=\"g19114\" style=\"fill:#000000;fill-opacity:1\">\n",
       "          <use height=\"100%\" id=\"use19116\" width=\"100%\" x=\"125.798\" xlink:href=\"#textext-3baf5271-1\" y=\"140.742\"/>\n",
       "        </g>\n",
       "      </g>\n",
       "    </g>\n",
       "  </g>\n",
       "</svg>"
      ],
      "text/plain": [
       "<IPython.core.display.SVG object>"
      ]
     },
     "metadata": {},
     "output_type": "display_data"
    }
   ],
   "source": [
    "showImage('virtual-work-plain')"
   ]
  },
  {
   "cell_type": "markdown",
   "metadata": {},
   "source": [
    "$$\n",
    "\\mat{F} = \\mat{\\alpha_{22} & \\alpha_{52}\\\\ \\alpha_{25} & \\alpha_{55}}\n",
    "$$"
   ]
  },
  {
   "cell_type": "markdown",
   "metadata": {},
   "source": [
    "The coefficients of $\\mat{F}$, $\\alpha_{ij}$, are the end displacements due to unit values of the end forces.\n",
    "Specifically $\\alpha_{ij}$ is the rotation at $i$ due to a unit moment at $j$:\n",
    "\n",
    "$$\n",
    "\\mat{F} = \\mat{\\int_0^L\\frac{m_2 m_2}{EI} dx & \\int_0^L\\frac{m_2 m_5}{EI} dx \\\\ \n",
    "               \\int_0^L\\frac{m_5 m_2}{EI} dx & \\int_0^L\\frac{m_5 m_5}{EI} dx }\n",
    "$$"
   ]
  },
  {
   "cell_type": "code",
   "execution_count": 6,
   "metadata": {
    "collapsed": false,
    "scrolled": true
   },
   "outputs": [
    {
     "data": {
      "text/latex": [
       "$$\\left[\\begin{matrix}\\frac{L}{3 E I} & - \\frac{L}{6 E I}\\\\- \\frac{L}{6 E I} & \\frac{L}{3 E I}\\end{matrix}\\right]$$"
      ],
      "text/plain": [
       "⎡  L     -L  ⎤\n",
       "⎢─────  ─────⎥\n",
       "⎢3⋅E⋅I  6⋅E⋅I⎥\n",
       "⎢            ⎥\n",
       "⎢ -L      L  ⎥\n",
       "⎢─────  ─────⎥\n",
       "⎣6⋅E⋅I  3⋅E⋅I⎦"
      ]
     },
     "execution_count": 6,
     "metadata": {},
     "output_type": "execute_result"
    }
   ],
   "source": [
    "L,E,I,A,x = symbols('L E I A x')\n",
    "\n",
    "m2 = x/L - 1     # unit moment at DOF 2\n",
    "m5 = x/L         # unit moment at DOF 5\n",
    "EI = E*I\n",
    "F = Matrix([[m2*m2, m2*m5],\n",
    "            [m5*m2, m5*m5]]).integrate((x,0,L))/EI\n",
    "F"
   ]
  },
  {
   "cell_type": "markdown",
   "metadata": {},
   "source": [
    "#### Moment Stiffness Coefficients\n",
    "The moment stiffness matrix, $\\mat{M}$ expresses the two end moments as functions\n",
    "of the end rotations.\n",
    "\n",
    "$$\n",
    "\\mat{f_2\\\\f_5} = \\mat{M} \\mat{\\delta_2 \\\\ \\delta_5}\n",
    "$$\n",
    "\n",
    "$$\n",
    "\\mat{M} = \\mat{F}^{-1}\n",
    "$$\n",
    "\n",
    "and that is just the inverse of the *2x2* rotation flexibility matrix."
   ]
  },
  {
   "cell_type": "code",
   "execution_count": 7,
   "metadata": {
    "collapsed": false
   },
   "outputs": [
    {
     "data": {
      "text/latex": [
       "$$\\left[\\begin{matrix}\\frac{4 E}{L} I & \\frac{2 E}{L} I\\\\\\frac{2 E}{L} I & \\frac{4 E}{L} I\\end{matrix}\\right]$$"
      ],
      "text/plain": [
       "⎡4⋅E⋅I  2⋅E⋅I⎤\n",
       "⎢─────  ─────⎥\n",
       "⎢  L      L  ⎥\n",
       "⎢            ⎥\n",
       "⎢2⋅E⋅I  4⋅E⋅I⎥\n",
       "⎢─────  ─────⎥\n",
       "⎣  L      L  ⎦"
      ]
     },
     "execution_count": 7,
     "metadata": {},
     "output_type": "execute_result"
    }
   ],
   "source": [
    "M = F**-1\n",
    "M"
   ]
  },
  {
   "cell_type": "markdown",
   "metadata": {},
   "source": [
    "#### Total End Forces\n",
    "The matrix $\\mat{T_f}$ gives the total set of end forces in terms of the two end moments (i.e., that are in equilibrium with the end moments):\n",
    "\n",
    "$$\n",
    "\\mat{f_0\\\\ f_1\\\\ f_2\\\\ f_3\\\\ f_4\\\\ f_5} = \\mat{T_f} \\mat{f_2\\\\f_5}\n",
    "$$"
   ]
  },
  {
   "cell_type": "code",
   "execution_count": 8,
   "metadata": {
    "collapsed": false
   },
   "outputs": [
    {
     "data": {
      "text/latex": [
       "$$\\left[\\begin{matrix}0 & 0\\\\\\frac{1}{L} & \\frac{1}{L}\\\\1 & 0\\\\0 & 0\\\\- \\frac{1}{L} & - \\frac{1}{L}\\\\0 & 1\\end{matrix}\\right]$$"
      ],
      "text/plain": [
       "⎡ 0    0 ⎤\n",
       "⎢        ⎥\n",
       "⎢ 1    1 ⎥\n",
       "⎢ ─    ─ ⎥\n",
       "⎢ L    L ⎥\n",
       "⎢        ⎥\n",
       "⎢ 1    0 ⎥\n",
       "⎢        ⎥\n",
       "⎢ 0    0 ⎥\n",
       "⎢        ⎥\n",
       "⎢-1   -1 ⎥\n",
       "⎢───  ───⎥\n",
       "⎢ L    L ⎥\n",
       "⎢        ⎥\n",
       "⎣ 0    1 ⎦"
      ]
     },
     "execution_count": 8,
     "metadata": {},
     "output_type": "execute_result"
    }
   ],
   "source": [
    "# transform end moments to end thrust,shear,moment\n",
    "Tf = Matrix([[0,0],[1/L,1/L],[1,0],[0,0],[-1/L,-1/L],[0,1]])\n",
    "Tf"
   ]
  },
  {
   "cell_type": "code",
   "execution_count": 9,
   "metadata": {
    "collapsed": false
   },
   "outputs": [
    {
     "data": {
      "text/latex": [
       "$$\\left[\\begin{matrix}0\\\\\\frac{f_{2}}{L} + \\frac{f_{5}}{L}\\\\f_{2}\\\\0\\\\- \\frac{f_{2}}{L} - \\frac{f_{5}}{L}\\\\f_{5}\\end{matrix}\\right]$$"
      ],
      "text/plain": [
       "⎡    0    ⎤\n",
       "⎢         ⎥\n",
       "⎢ f₂   f₅ ⎥\n",
       "⎢ ── + ── ⎥\n",
       "⎢ L    L  ⎥\n",
       "⎢         ⎥\n",
       "⎢   f₂    ⎥\n",
       "⎢         ⎥\n",
       "⎢    0    ⎥\n",
       "⎢         ⎥\n",
       "⎢  f₂   f₅⎥\n",
       "⎢- ── - ──⎥\n",
       "⎢  L    L ⎥\n",
       "⎢         ⎥\n",
       "⎣   f₅    ⎦"
      ]
     },
     "execution_count": 9,
     "metadata": {},
     "output_type": "execute_result"
    }
   ],
   "source": [
    "f2,f5 = symbols('f2 f5')  # confirm that that is OK\n",
    "Tf*Matrix([[f2],\n",
    "           [f5]])"
   ]
  },
  {
   "cell_type": "markdown",
   "metadata": {},
   "source": [
    "#### Total Stiffness Coefficients\n",
    "Column $j$ of the member stiffness matrix $\\mat{K_l}$ consists of all six end forces that\n",
    "are consistent with a unit value of displacement $j$ and zero values of the other five displacements.\n",
    "\n",
    "Therefore column 2 consists of the six end forces that occur when $\\delta_2 = 1$\n",
    "and all other displacements are 0.  That can be computed:\n",
    "\n",
    "$$\n",
    "\\mat{T_f} \\mat{M} \\mat{1\\\\0}\n",
    "$$\n"
   ]
  },
  {
   "cell_type": "code",
   "execution_count": 10,
   "metadata": {
    "collapsed": false
   },
   "outputs": [
    {
     "data": {
      "text/latex": [
       "$$\\left[\\begin{matrix}0\\\\\\frac{6 E}{L^{2}} I\\\\\\frac{4 E}{L} I\\\\0\\\\- \\frac{6 E}{L^{2}} I\\\\\\frac{2 E}{L} I\\end{matrix}\\right]$$"
      ],
      "text/plain": [
       "⎡   0   ⎤\n",
       "⎢       ⎥\n",
       "⎢ 6⋅E⋅I ⎥\n",
       "⎢ ───── ⎥\n",
       "⎢    2  ⎥\n",
       "⎢   L   ⎥\n",
       "⎢       ⎥\n",
       "⎢ 4⋅E⋅I ⎥\n",
       "⎢ ───── ⎥\n",
       "⎢   L   ⎥\n",
       "⎢       ⎥\n",
       "⎢   0   ⎥\n",
       "⎢       ⎥\n",
       "⎢-6⋅E⋅I ⎥\n",
       "⎢───────⎥\n",
       "⎢    2  ⎥\n",
       "⎢   L   ⎥\n",
       "⎢       ⎥\n",
       "⎢ 2⋅E⋅I ⎥\n",
       "⎢ ───── ⎥\n",
       "⎣   L   ⎦"
      ]
     },
     "execution_count": 10,
     "metadata": {},
     "output_type": "execute_result"
    }
   ],
   "source": [
    "Kl = zeros(6,6)   # build the member stiffness matrix one column at a time\n",
    "\n",
    "Kl[:,2] = Tf * M * Matrix([[1],[0]])  # column 2\n",
    "Kl[:,2]"
   ]
  },
  {
   "cell_type": "markdown",
   "metadata": {},
   "source": [
    "Column 5 is similar, but with $\\delta_5 = 1$."
   ]
  },
  {
   "cell_type": "code",
   "execution_count": 11,
   "metadata": {
    "collapsed": false
   },
   "outputs": [
    {
     "data": {
      "text/latex": [
       "$$\\left[\\begin{matrix}0\\\\\\frac{6 E}{L^{2}} I\\\\\\frac{2 E}{L} I\\\\0\\\\- \\frac{6 E}{L^{2}} I\\\\\\frac{4 E}{L} I\\end{matrix}\\right]$$"
      ],
      "text/plain": [
       "⎡   0   ⎤\n",
       "⎢       ⎥\n",
       "⎢ 6⋅E⋅I ⎥\n",
       "⎢ ───── ⎥\n",
       "⎢    2  ⎥\n",
       "⎢   L   ⎥\n",
       "⎢       ⎥\n",
       "⎢ 2⋅E⋅I ⎥\n",
       "⎢ ───── ⎥\n",
       "⎢   L   ⎥\n",
       "⎢       ⎥\n",
       "⎢   0   ⎥\n",
       "⎢       ⎥\n",
       "⎢-6⋅E⋅I ⎥\n",
       "⎢───────⎥\n",
       "⎢    2  ⎥\n",
       "⎢   L   ⎥\n",
       "⎢       ⎥\n",
       "⎢ 4⋅E⋅I ⎥\n",
       "⎢ ───── ⎥\n",
       "⎣   L   ⎦"
      ]
     },
     "execution_count": 11,
     "metadata": {},
     "output_type": "execute_result"
    }
   ],
   "source": [
    "Kl[:,5] =  Tf * M * Matrix([[0],[1]])   # column 5\n",
    "Kl[:,5]"
   ]
  },
  {
   "cell_type": "code",
   "execution_count": 12,
   "metadata": {
    "collapsed": false
   },
   "outputs": [
    {
     "data": {
      "image/jpeg": "[encoded data removed]",
      "text/plain": [
       "<IPython.core.display.Image object>"
      ]
     },
     "metadata": {},
     "output_type": "display_data"
    }
   ],
   "source": [
    "showImage('chord-rotation')"
   ]
  },
  {
   "cell_type": "markdown",
   "metadata": {},
   "source": [
    "The forces due to end translations are determined by considering the unit translation as\n",
    "a rotation of the chord.  That is, for the case of $\\delta_1 = 1$, (and notabley \n",
    "$\\delta_2 = \\delta_5 = 0$, then the end moments will be consistent with end rotations\n",
    "of $1/L$.  Column 1 will be calculated:\n",
    "\n",
    "$$ \\mat{T_f} \\mat{M} \\mat{1/L\\\\1/L} $$"
   ]
  },
  {
   "cell_type": "code",
   "execution_count": 13,
   "metadata": {
    "collapsed": false
   },
   "outputs": [
    {
     "data": {
      "text/latex": [
       "$$\\left[\\begin{matrix}0\\\\\\frac{12 E}{L^{3}} I\\\\\\frac{6 E}{L^{2}} I\\\\0\\\\- \\frac{12 E}{L^{3}} I\\\\\\frac{6 E}{L^{2}} I\\end{matrix}\\right]$$"
      ],
      "text/plain": [
       "⎡   0    ⎤\n",
       "⎢        ⎥\n",
       "⎢ 12⋅E⋅I ⎥\n",
       "⎢ ────── ⎥\n",
       "⎢    3   ⎥\n",
       "⎢   L    ⎥\n",
       "⎢        ⎥\n",
       "⎢ 6⋅E⋅I  ⎥\n",
       "⎢ ─────  ⎥\n",
       "⎢    2   ⎥\n",
       "⎢   L    ⎥\n",
       "⎢        ⎥\n",
       "⎢   0    ⎥\n",
       "⎢        ⎥\n",
       "⎢-12⋅E⋅I ⎥\n",
       "⎢────────⎥\n",
       "⎢    3   ⎥\n",
       "⎢   L    ⎥\n",
       "⎢        ⎥\n",
       "⎢ 6⋅E⋅I  ⎥\n",
       "⎢ ─────  ⎥\n",
       "⎢    2   ⎥\n",
       "⎣   L    ⎦"
      ]
     },
     "execution_count": 13,
     "metadata": {},
     "output_type": "execute_result"
    }
   ],
   "source": [
    "Kl[:,1] =  Tf * M * Matrix([[1/L],[1/L]])   # column 1\n",
    "Kl[:,1]"
   ]
  },
  {
   "cell_type": "markdown",
   "metadata": {},
   "source": [
    "The end forces due to a unit value of $\\delta_4$ are the same as those for $\\delta_1$, but with reversed signs."
   ]
  },
  {
   "cell_type": "code",
   "execution_count": 14,
   "metadata": {
    "collapsed": false
   },
   "outputs": [
    {
     "data": {
      "text/latex": [
       "$$\\left[\\begin{matrix}0\\\\- \\frac{12 E}{L^{3}} I\\\\- \\frac{6 E}{L^{2}} I\\\\0\\\\\\frac{12 E}{L^{3}} I\\\\- \\frac{6 E}{L^{2}} I\\end{matrix}\\right]$$"
      ],
      "text/plain": [
       "⎡   0    ⎤\n",
       "⎢        ⎥\n",
       "⎢-12⋅E⋅I ⎥\n",
       "⎢────────⎥\n",
       "⎢    3   ⎥\n",
       "⎢   L    ⎥\n",
       "⎢        ⎥\n",
       "⎢-6⋅E⋅I  ⎥\n",
       "⎢─────── ⎥\n",
       "⎢    2   ⎥\n",
       "⎢   L    ⎥\n",
       "⎢        ⎥\n",
       "⎢   0    ⎥\n",
       "⎢        ⎥\n",
       "⎢ 12⋅E⋅I ⎥\n",
       "⎢ ────── ⎥\n",
       "⎢    3   ⎥\n",
       "⎢   L    ⎥\n",
       "⎢        ⎥\n",
       "⎢-6⋅E⋅I  ⎥\n",
       "⎢─────── ⎥\n",
       "⎢    2   ⎥\n",
       "⎣   L    ⎦"
      ]
     },
     "execution_count": 14,
     "metadata": {},
     "output_type": "execute_result"
    }
   ],
   "source": [
    "Kl[:,4] =  Tf * M * Matrix([[-1/L],[-1/L]])   # column 4\n",
    "Kl[:,4]"
   ]
  },
  {
   "cell_type": "markdown",
   "metadata": {},
   "source": [
    "Now the axial forces and displacements, which are de-coupled from shears and moments:"
   ]
  },
  {
   "cell_type": "code",
   "execution_count": 15,
   "metadata": {
    "collapsed": false
   },
   "outputs": [
    {
     "data": {
      "text/latex": [
       "$$\\left[\\begin{matrix}\\frac{A E}{L}\\\\0\\\\0\\\\- \\frac{A E}{L}\\\\0\\\\0\\end{matrix}\\right]$$"
      ],
      "text/plain": [
       "⎡ A⋅E ⎤\n",
       "⎢ ─── ⎥\n",
       "⎢  L  ⎥\n",
       "⎢     ⎥\n",
       "⎢  0  ⎥\n",
       "⎢     ⎥\n",
       "⎢  0  ⎥\n",
       "⎢     ⎥\n",
       "⎢-A⋅E ⎥\n",
       "⎢─────⎥\n",
       "⎢  L  ⎥\n",
       "⎢     ⎥\n",
       "⎢  0  ⎥\n",
       "⎢     ⎥\n",
       "⎣  0  ⎦"
      ]
     },
     "execution_count": 15,
     "metadata": {},
     "output_type": "execute_result"
    }
   ],
   "source": [
    "ac = Matrix([E*A/L,0,0,-E*A/L,0,0])\n",
    "ac"
   ]
  },
  {
   "cell_type": "code",
   "execution_count": 16,
   "metadata": {
    "collapsed": false
   },
   "outputs": [],
   "source": [
    "Kl[:,0] = ac     # column 0\n",
    "Kl[:,3] = -ac    # column 3"
   ]
  },
  {
   "cell_type": "markdown",
   "metadata": {},
   "source": [
    "### The member stiffness matrix in local coordinates, $\\mat{K_l}$, is:"
   ]
  },
  {
   "cell_type": "code",
   "execution_count": 19,
   "metadata": {
    "collapsed": false,
    "scrolled": true
   },
   "outputs": [
    {
     "data": {
      "text/latex": [
       "$$\\left[\\begin{matrix}\\frac{A E}{L} & 0 & 0 & - \\frac{A E}{L} & 0 & 0\\\\0 & \\frac{12 E}{L^{3}} I & \\frac{6 E}{L^{2}} I & 0 & - \\frac{12 E}{L^{3}} I & \\frac{6 E}{L^{2}} I\\\\0 & \\frac{6 E}{L^{2}} I & \\frac{4 E}{L} I & 0 & - \\frac{6 E}{L^{2}} I & \\frac{2 E}{L} I\\\\- \\frac{A E}{L} & 0 & 0 & \\frac{A E}{L} & 0 & 0\\\\0 & - \\frac{12 E}{L^{3}} I & - \\frac{6 E}{L^{2}} I & 0 & \\frac{12 E}{L^{3}} I & - \\frac{6 E}{L^{2}} I\\\\0 & \\frac{6 E}{L^{2}} I & \\frac{2 E}{L} I & 0 & - \\frac{6 E}{L^{2}} I & \\frac{4 E}{L} I\\end{matrix}\\right]$$"
      ],
      "text/plain": [
       "⎡ A⋅E                      -A⋅E                    ⎤\n",
       "⎢ ───      0         0     ─────     0         0   ⎥\n",
       "⎢  L                         L                     ⎥\n",
       "⎢                                                  ⎥\n",
       "⎢        12⋅E⋅I    6⋅E⋅I          -12⋅E⋅I    6⋅E⋅I ⎥\n",
       "⎢  0     ──────    ─────     0    ────────   ───── ⎥\n",
       "⎢           3         2               3         2  ⎥\n",
       "⎢          L         L               L         L   ⎥\n",
       "⎢                                                  ⎥\n",
       "⎢        6⋅E⋅I     4⋅E⋅I          -6⋅E⋅I     2⋅E⋅I ⎥\n",
       "⎢  0     ─────     ─────     0    ───────    ───── ⎥\n",
       "⎢           2        L                2        L   ⎥\n",
       "⎢          L                         L             ⎥\n",
       "⎢                                                  ⎥\n",
       "⎢-A⋅E                       A⋅E                    ⎥\n",
       "⎢─────     0         0      ───      0         0   ⎥\n",
       "⎢  L                         L                     ⎥\n",
       "⎢                                                  ⎥\n",
       "⎢       -12⋅E⋅I   -6⋅E⋅I           12⋅E⋅I   -6⋅E⋅I ⎥\n",
       "⎢  0    ────────  ───────    0     ──────   ───────⎥\n",
       "⎢           3         2               3         2  ⎥\n",
       "⎢          L         L               L         L   ⎥\n",
       "⎢                                                  ⎥\n",
       "⎢        6⋅E⋅I     2⋅E⋅I          -6⋅E⋅I     4⋅E⋅I ⎥\n",
       "⎢  0     ─────     ─────     0    ───────    ───── ⎥\n",
       "⎢           2        L                2        L   ⎥\n",
       "⎣          L                         L             ⎦"
      ]
     },
     "execution_count": 19,
     "metadata": {},
     "output_type": "execute_result"
    }
   ],
   "source": [
    "Kl"
   ]
  },
  {
   "cell_type": "code",
   "execution_count": null,
   "metadata": {
    "collapsed": true
   },
   "outputs": [],
   "source": []
  },
  {
   "cell_type": "markdown",
   "metadata": {},
   "source": [
    "And, for ease of copying into other software, here it is again."
   ]
  },
  {
   "cell_type": "code",
   "execution_count": 18,
   "metadata": {
    "collapsed": false
   },
   "outputs": [
    {
     "name": "stdout",
     "output_type": "stream",
     "text": [
      "Matrix([[A*E/L, 0, 0, -A*E/L, 0, 0], [0, 12*E*I/L**3, 6*E*I/L**2, 0, -12*E*I/L**3, 6*E*I/L**2], [0, 6*E*I/L**2, 4*E*I/L, 0, -6*E*I/L**2, 2*E*I/L], [-A*E/L, 0, 0, A*E/L, 0, 0], [0, -12*E*I/L**3, -6*E*I/L**2, 0, 12*E*I/L**3, -6*E*I/L**2], [0, 6*E*I/L**2, 2*E*I/L, 0, -6*E*I/L**2, 4*E*I/L]])\n"
     ]
    }
   ],
   "source": [
    "print(Kl)"
   ]
  }
 ],
 "metadata": {
  "kernelspec": {
   "display_name": "Python 3",
   "language": "python",
   "name": "python3"
  },
  "language_info": {
   "codemirror_mode": {
    "name": "ipython",
    "version": 3
   },
   "file_extension": ".py",
   "mimetype": "text/x-python",
   "name": "python",
   "nbconvert_exporter": "python",
   "pygments_lexer": "ipython3",
   "version": "3.4.3"
  }
 },
 "nbformat": 4,
 "nbformat_minor": 0
}
