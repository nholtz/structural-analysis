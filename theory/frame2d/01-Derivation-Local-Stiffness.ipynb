{
 "cells": [
  {
   "cell_type": "markdown",
   "metadata": {},
   "source": [
    "### Plane Frame Member Local Stiffness Matrix\n",
    "This page develops the various member stiffness relationships needed to analyze a planar frame by the matrix stiffness method."
   ]
  },
  {
   "cell_type": "markdown",
   "metadata": {},
   "source": [
    "#### Numbering and Sign Convention, Local Coordinates"
   ]
  },
  {
   "cell_type": "markdown",
   "metadata": {},
   "source": [
    "![a figure](numbering-and-signs.svg)"
   ]
  },
  {
   "cell_type": "markdown",
   "metadata": {},
   "source": [
    "The above figure shows the numbering and sign convention used for the six end displacements and forces for a general 2D frame member.  These are shown relative to the local coordinate system of the member, with origin at the left, or *j-end*, and *x*-axis coincident with the axis of the member.  The *y*-axis is positive upwards. It is sometimes necessary to distinguish member ends; the term *j-end* is used to refer to the left end or origin, and *k-end* is the other end (note that the CAL manual uses the *i-* and *j-* end for the same purpose).\n",
    "\n",
    "Of course $f_0$ and $f_3$ are axial forces, $f_1$ and $f_4$ are shear forces, and $f_2$ and $f_5$ are bending moments.\n",
    "\n",
    "$\\newcommand{\\mat}[1]{\\left[\\begin{matrix}#1\\end{matrix}\\right]}$\n",
    "\n",
    "The local member stiffness matrix, $\\mat{K_l}$, expresses the end forces as a function of the end displacements, thus:\n",
    "$$\n",
    "\\mat{f_0\\\\ f_1\\\\ f_2\\\\ f_3\\\\ f_4\\\\ f_5} =\n",
    "\\mat{K_l}\n",
    "\\mat{\\delta_0\\\\ \\delta_1\\\\ \\delta_2\\\\ \\delta_3\\\\ \\delta_4\\\\ \\delta_5}\n",
    "$$"
   ]
  },
  {
   "cell_type": "markdown",
   "metadata": {},
   "source": [
    "### Derivation of the Local Member Stiffness Matrix, $\\mat{K_l}$"
   ]
  },
  {
   "cell_type": "code",
   "execution_count": 1,
   "metadata": {},
   "outputs": [],
   "source": [
    "from sympy import *\n",
    "init_printing(use_latex='mathjax')\n",
    "from sympy.matrices import Matrix"
   ]
  },
  {
   "cell_type": "markdown",
   "metadata": {},
   "source": [
    "#### Moment Flexibility Coefficients\n",
    "\n",
    "We will first determine the inverse relationship for end moments -- the rotation flexibility matrix, $\\mat{F}$, that expresses the end *rotations* as a function of the end *moments*, as shown in the following figure.\n",
    "\n",
    "$$\n",
    "\\mat{\\delta_2\\\\ \\delta_5} = \\mat{F} \\mat{f_2\\\\f_5}\n",
    "$$"
   ]
  },
  {
   "cell_type": "markdown",
   "metadata": {},
   "source": [
    "![flexibility](flexibility.svg)\n",
    "\n",
    "Note that at each end, there are two other forces acting - axial and shear: $f_0$, $f_1$ and $f_3$, $f_4$. These are not\n",
    "shown, for simplicity of figure."
   ]
  },
  {
   "cell_type": "markdown",
   "metadata": {},
   "source": [
    "The method of virtual work is probably the simplest and most direct way to do develop the rotation flexibility matrix.\n",
    "\n",
    "The following figure shows unit moments placed individually at each end (at location #s 2 and 5).  Below each segment\n",
    "is the corresponnding bending moment diagram, $m_i$:"
   ]
  },
  {
   "cell_type": "markdown",
   "metadata": {},
   "source": [
    "![virtual work](virtual-work-plain.svg)"
   ]
  },
  {
   "cell_type": "markdown",
   "metadata": {},
   "source": [
    "The figure also\n",
    "shows the resulting rotational displacements $\\alpha_{ij}$ for each segment; these are the coefficients of the flexibility matrix:\n",
    "\n",
    "$$\n",
    "\\mat{F} = \\mat{\\alpha_{22} & \\alpha_{52}\\\\ \\alpha_{25} & \\alpha_{55}}\n",
    "$$"
   ]
  },
  {
   "cell_type": "markdown",
   "metadata": {},
   "source": [
    "The coefficients of $\\mat{F}$, $\\alpha_{ij}$, are the end displacements due to unit values of the end forces.\n",
    "Specifically $\\alpha_{ij}$ is the rotation at $i$ due to a unit moment at $j$ and is calculated using the method \n",
    "of virtual work (integrating products of bending moments):\n",
    "\n",
    "$$\n",
    "\\mat{F} = \\mat{\\int_0^L\\frac{m_2 m_2}{EI} dx & \\int_0^L\\frac{m_2 m_5}{EI} dx \\\\ \n",
    "               \\int_0^L\\frac{m_5 m_2}{EI} dx & \\int_0^L\\frac{m_5 m_5}{EI} dx }\n",
    "$$"
   ]
  },
  {
   "cell_type": "code",
   "execution_count": 2,
   "metadata": {
    "scrolled": true
   },
   "outputs": [
    {
     "data": {
      "text/latex": [
       "$$\\left[\\begin{matrix}\\frac{L}{3 E I} & - \\frac{L}{6 E I}\\\\- \\frac{L}{6 E I} & \\frac{L}{3 E I}\\end{matrix}\\right]$$"
      ],
      "text/plain": [
       "⎡  L     -L  ⎤\n",
       "⎢─────  ─────⎥\n",
       "⎢3⋅E⋅I  6⋅E⋅I⎥\n",
       "⎢            ⎥\n",
       "⎢ -L      L  ⎥\n",
       "⎢─────  ─────⎥\n",
       "⎣6⋅E⋅I  3⋅E⋅I⎦"
      ]
     },
     "execution_count": 2,
     "metadata": {},
     "output_type": "execute_result"
    }
   ],
   "source": [
    "L,E,I,A,x = symbols('L E I A x')\n",
    "\n",
    "m2 = x/L - 1     # unit moment at DOF 2\n",
    "m5 = x/L         # unit moment at DOF 5\n",
    "EI = E*I\n",
    "F = Matrix([[m2*m2, m2*m5],\n",
    "            [m5*m2, m5*m5]]).integrate((x,0,L))/EI\n",
    "F"
   ]
  },
  {
   "cell_type": "markdown",
   "metadata": {},
   "source": [
    "#### Moment Stiffness Coefficients\n",
    "The moment stiffness matrix, $\\mat{M}$ expresses the two end moments as functions\n",
    "of the end rotations.\n",
    "\n",
    "$$\n",
    "\\mat{f_2\\\\f_5} = \\mat{M} \\mat{\\delta_2 \\\\ \\delta_5}\n",
    "$$\n",
    "\n",
    "$$\n",
    "\\mat{M} = \\mat{F}^{-1}\n",
    "$$\n",
    "\n",
    "and that is just the inverse of the *2x2* rotation flexibility matrix."
   ]
  },
  {
   "cell_type": "code",
   "execution_count": 3,
   "metadata": {},
   "outputs": [
    {
     "data": {
      "text/latex": [
       "$$\\left[\\begin{matrix}\\frac{4 E}{L} I & \\frac{2 E}{L} I\\\\\\frac{2 E}{L} I & \\frac{4 E}{L} I\\end{matrix}\\right]$$"
      ],
      "text/plain": [
       "⎡4⋅E⋅I  2⋅E⋅I⎤\n",
       "⎢─────  ─────⎥\n",
       "⎢  L      L  ⎥\n",
       "⎢            ⎥\n",
       "⎢2⋅E⋅I  4⋅E⋅I⎥\n",
       "⎢─────  ─────⎥\n",
       "⎣  L      L  ⎦"
      ]
     },
     "execution_count": 3,
     "metadata": {},
     "output_type": "execute_result"
    }
   ],
   "source": [
    "M = F**-1\n",
    "M"
   ]
  },
  {
   "cell_type": "markdown",
   "metadata": {},
   "source": [
    "#### Total End Forces - Accounting For Axial and Shear Effects\n",
    "The matrix $\\mat{T_f}$ gives the total set of end forces in terms of the two end moments (i.e., the end forces that are in equilibrium with the end moments):\n",
    "\n",
    "$$\n",
    "\\mat{f_0\\\\ f_1\\\\ f_2\\\\ f_3\\\\ f_4\\\\ f_5} = \\mat{T_f} \\mat{f_2\\\\f_5}\n",
    "$$"
   ]
  },
  {
   "cell_type": "code",
   "execution_count": 4,
   "metadata": {},
   "outputs": [
    {
     "data": {
      "text/latex": [
       "$$\\left[\\begin{matrix}0 & 0\\\\\\frac{1}{L} & \\frac{1}{L}\\\\1 & 0\\\\0 & 0\\\\- \\frac{1}{L} & - \\frac{1}{L}\\\\0 & 1\\end{matrix}\\right]$$"
      ],
      "text/plain": [
       "⎡ 0    0 ⎤\n",
       "⎢        ⎥\n",
       "⎢ 1    1 ⎥\n",
       "⎢ ─    ─ ⎥\n",
       "⎢ L    L ⎥\n",
       "⎢        ⎥\n",
       "⎢ 1    0 ⎥\n",
       "⎢        ⎥\n",
       "⎢ 0    0 ⎥\n",
       "⎢        ⎥\n",
       "⎢-1   -1 ⎥\n",
       "⎢───  ───⎥\n",
       "⎢ L    L ⎥\n",
       "⎢        ⎥\n",
       "⎣ 0    1 ⎦"
      ]
     },
     "execution_count": 4,
     "metadata": {},
     "output_type": "execute_result"
    }
   ],
   "source": [
    "# transform end moments to end thrust,shear,moment\n",
    "Tf = Matrix([[0,0],[1/L,1/L],[1,0],[0,0],[-1/L,-1/L],[0,1]])\n",
    "Tf"
   ]
  },
  {
   "cell_type": "code",
   "execution_count": 5,
   "metadata": {},
   "outputs": [
    {
     "data": {
      "text/latex": [
       "$$\\left[\\begin{matrix}0\\\\\\frac{f_{2}}{L} + \\frac{f_{5}}{L}\\\\f_{2}\\\\0\\\\- \\frac{f_{2}}{L} - \\frac{f_{5}}{L}\\\\f_{5}\\end{matrix}\\right]$$"
      ],
      "text/plain": [
       "⎡    0    ⎤\n",
       "⎢         ⎥\n",
       "⎢ f₂   f₅ ⎥\n",
       "⎢ ── + ── ⎥\n",
       "⎢ L    L  ⎥\n",
       "⎢         ⎥\n",
       "⎢   f₂    ⎥\n",
       "⎢         ⎥\n",
       "⎢    0    ⎥\n",
       "⎢         ⎥\n",
       "⎢  f₂   f₅⎥\n",
       "⎢- ── - ──⎥\n",
       "⎢  L    L ⎥\n",
       "⎢         ⎥\n",
       "⎣   f₅    ⎦"
      ]
     },
     "execution_count": 5,
     "metadata": {},
     "output_type": "execute_result"
    }
   ],
   "source": [
    "f2,f5 = symbols('f2 f5')  # confirm that that is OK\n",
    "Tf*Matrix([[f2],\n",
    "           [f5]])"
   ]
  },
  {
   "cell_type": "markdown",
   "metadata": {},
   "source": [
    "#### Total Stiffness Coefficients\n",
    "Column $j$ of the member stiffness matrix $\\mat{K_l}$ consists of all six end forces that\n",
    "are consistent with a unit value of displacement $j$ and zero values of the other five displacements.\n",
    "\n",
    "Therefore column 2 consists of the six end forces that occur when $\\delta_2 = 1$\n",
    "and all other displacements are 0.  That can be computed:\n",
    "\n",
    "$$\n",
    "\\mat{T_f} \\mat{M} \\mat{1\\\\0}\n",
    "$$\n"
   ]
  },
  {
   "cell_type": "code",
   "execution_count": 6,
   "metadata": {},
   "outputs": [
    {
     "data": {
      "text/latex": [
       "$$\\left[\\begin{matrix}0\\\\\\frac{6 E}{L^{2}} I\\\\\\frac{4 E}{L} I\\\\0\\\\- \\frac{6 E}{L^{2}} I\\\\\\frac{2 E}{L} I\\end{matrix}\\right]$$"
      ],
      "text/plain": [
       "⎡   0   ⎤\n",
       "⎢       ⎥\n",
       "⎢ 6⋅E⋅I ⎥\n",
       "⎢ ───── ⎥\n",
       "⎢    2  ⎥\n",
       "⎢   L   ⎥\n",
       "⎢       ⎥\n",
       "⎢ 4⋅E⋅I ⎥\n",
       "⎢ ───── ⎥\n",
       "⎢   L   ⎥\n",
       "⎢       ⎥\n",
       "⎢   0   ⎥\n",
       "⎢       ⎥\n",
       "⎢-6⋅E⋅I ⎥\n",
       "⎢───────⎥\n",
       "⎢    2  ⎥\n",
       "⎢   L   ⎥\n",
       "⎢       ⎥\n",
       "⎢ 2⋅E⋅I ⎥\n",
       "⎢ ───── ⎥\n",
       "⎣   L   ⎦"
      ]
     },
     "execution_count": 6,
     "metadata": {},
     "output_type": "execute_result"
    }
   ],
   "source": [
    "Kl = zeros(6,6)   # build the member stiffness matrix one column at a time\n",
    "\n",
    "Kl[:,2] = Tf * M * Matrix([[1],[0]])  # column 2\n",
    "Kl[:,2]"
   ]
  },
  {
   "cell_type": "markdown",
   "metadata": {},
   "source": [
    "Column 5 is similar, but with $\\delta_5 = 1$."
   ]
  },
  {
   "cell_type": "code",
   "execution_count": 7,
   "metadata": {},
   "outputs": [
    {
     "data": {
      "text/latex": [
       "$$\\left[\\begin{matrix}0\\\\\\frac{6 E}{L^{2}} I\\\\\\frac{2 E}{L} I\\\\0\\\\- \\frac{6 E}{L^{2}} I\\\\\\frac{4 E}{L} I\\end{matrix}\\right]$$"
      ],
      "text/plain": [
       "⎡   0   ⎤\n",
       "⎢       ⎥\n",
       "⎢ 6⋅E⋅I ⎥\n",
       "⎢ ───── ⎥\n",
       "⎢    2  ⎥\n",
       "⎢   L   ⎥\n",
       "⎢       ⎥\n",
       "⎢ 2⋅E⋅I ⎥\n",
       "⎢ ───── ⎥\n",
       "⎢   L   ⎥\n",
       "⎢       ⎥\n",
       "⎢   0   ⎥\n",
       "⎢       ⎥\n",
       "⎢-6⋅E⋅I ⎥\n",
       "⎢───────⎥\n",
       "⎢    2  ⎥\n",
       "⎢   L   ⎥\n",
       "⎢       ⎥\n",
       "⎢ 4⋅E⋅I ⎥\n",
       "⎢ ───── ⎥\n",
       "⎣   L   ⎦"
      ]
     },
     "execution_count": 7,
     "metadata": {},
     "output_type": "execute_result"
    }
   ],
   "source": [
    "Kl[:,5] =  Tf * M * Matrix([[0],[1]])   # column 5\n",
    "Kl[:,5]"
   ]
  },
  {
   "cell_type": "markdown",
   "metadata": {},
   "source": [
    "The forces due to end translations are determined by mapping the unit translation to\n",
    "end rotations of the elastic curve from the chord.  "
   ]
  },
  {
   "cell_type": "markdown",
   "metadata": {},
   "source": [
    "![chord rotation](chord-rotation.svg)\n",
    "\n",
    "That is, for the case of $\\delta_1 = 1$, (and notabley \n",
    "$\\delta_2 = \\delta_5 = 0$), then the end moments will be consistent with end rotations\n",
    "of $1/L$.  Column 1 will be calculated:\n",
    "\n",
    "$$ \\mat{T_f} \\mat{M} \\mat{1/L\\\\1/L} $$"
   ]
  },
  {
   "cell_type": "code",
   "execution_count": 8,
   "metadata": {},
   "outputs": [
    {
     "data": {
      "text/latex": [
       "$$\\left[\\begin{matrix}0\\\\\\frac{12 E}{L^{3}} I\\\\\\frac{6 E}{L^{2}} I\\\\0\\\\- \\frac{12 E}{L^{3}} I\\\\\\frac{6 E}{L^{2}} I\\end{matrix}\\right]$$"
      ],
      "text/plain": [
       "⎡   0    ⎤\n",
       "⎢        ⎥\n",
       "⎢ 12⋅E⋅I ⎥\n",
       "⎢ ────── ⎥\n",
       "⎢    3   ⎥\n",
       "⎢   L    ⎥\n",
       "⎢        ⎥\n",
       "⎢ 6⋅E⋅I  ⎥\n",
       "⎢ ─────  ⎥\n",
       "⎢    2   ⎥\n",
       "⎢   L    ⎥\n",
       "⎢        ⎥\n",
       "⎢   0    ⎥\n",
       "⎢        ⎥\n",
       "⎢-12⋅E⋅I ⎥\n",
       "⎢────────⎥\n",
       "⎢    3   ⎥\n",
       "⎢   L    ⎥\n",
       "⎢        ⎥\n",
       "⎢ 6⋅E⋅I  ⎥\n",
       "⎢ ─────  ⎥\n",
       "⎢    2   ⎥\n",
       "⎣   L    ⎦"
      ]
     },
     "execution_count": 8,
     "metadata": {},
     "output_type": "execute_result"
    }
   ],
   "source": [
    "Kl[:,1] =  Tf * M * Matrix([[1/L],[1/L]])   # column 1\n",
    "Kl[:,1]"
   ]
  },
  {
   "cell_type": "markdown",
   "metadata": {},
   "source": [
    "The end forces due to a unit value of $\\delta_4$ are the same as those for $\\delta_1$, but with reversed signs."
   ]
  },
  {
   "cell_type": "code",
   "execution_count": 9,
   "metadata": {},
   "outputs": [
    {
     "data": {
      "text/latex": [
       "$$\\left[\\begin{matrix}0\\\\- \\frac{12 E}{L^{3}} I\\\\- \\frac{6 E}{L^{2}} I\\\\0\\\\\\frac{12 E}{L^{3}} I\\\\- \\frac{6 E}{L^{2}} I\\end{matrix}\\right]$$"
      ],
      "text/plain": [
       "⎡   0    ⎤\n",
       "⎢        ⎥\n",
       "⎢-12⋅E⋅I ⎥\n",
       "⎢────────⎥\n",
       "⎢    3   ⎥\n",
       "⎢   L    ⎥\n",
       "⎢        ⎥\n",
       "⎢-6⋅E⋅I  ⎥\n",
       "⎢─────── ⎥\n",
       "⎢    2   ⎥\n",
       "⎢   L    ⎥\n",
       "⎢        ⎥\n",
       "⎢   0    ⎥\n",
       "⎢        ⎥\n",
       "⎢ 12⋅E⋅I ⎥\n",
       "⎢ ────── ⎥\n",
       "⎢    3   ⎥\n",
       "⎢   L    ⎥\n",
       "⎢        ⎥\n",
       "⎢-6⋅E⋅I  ⎥\n",
       "⎢─────── ⎥\n",
       "⎢    2   ⎥\n",
       "⎣   L    ⎦"
      ]
     },
     "execution_count": 9,
     "metadata": {},
     "output_type": "execute_result"
    }
   ],
   "source": [
    "Kl[:,4] =  Tf * M * Matrix([[-1/L],[-1/L]])   # column 4\n",
    "Kl[:,4]"
   ]
  },
  {
   "cell_type": "markdown",
   "metadata": {},
   "source": [
    "Now the axial forces and displacements, which are de-coupled from shears and moments:"
   ]
  },
  {
   "cell_type": "code",
   "execution_count": 10,
   "metadata": {},
   "outputs": [
    {
     "data": {
      "text/latex": [
       "$$\\left[\\begin{matrix}\\frac{A E}{L}\\\\0\\\\0\\\\- \\frac{A E}{L}\\\\0\\\\0\\end{matrix}\\right]$$"
      ],
      "text/plain": [
       "⎡ A⋅E ⎤\n",
       "⎢ ─── ⎥\n",
       "⎢  L  ⎥\n",
       "⎢     ⎥\n",
       "⎢  0  ⎥\n",
       "⎢     ⎥\n",
       "⎢  0  ⎥\n",
       "⎢     ⎥\n",
       "⎢-A⋅E ⎥\n",
       "⎢─────⎥\n",
       "⎢  L  ⎥\n",
       "⎢     ⎥\n",
       "⎢  0  ⎥\n",
       "⎢     ⎥\n",
       "⎣  0  ⎦"
      ]
     },
     "execution_count": 10,
     "metadata": {},
     "output_type": "execute_result"
    }
   ],
   "source": [
    "ac = Matrix([E*A/L,0,0,-E*A/L,0,0])\n",
    "ac"
   ]
  },
  {
   "cell_type": "code",
   "execution_count": 11,
   "metadata": {},
   "outputs": [],
   "source": [
    "Kl[:,0] = ac     # column 0\n",
    "Kl[:,3] = -ac    # column 3"
   ]
  },
  {
   "cell_type": "markdown",
   "metadata": {},
   "source": [
    "### The member stiffness matrix in local coordinates, $\\mat{K_l}$, is:"
   ]
  },
  {
   "cell_type": "code",
   "execution_count": 12,
   "metadata": {
    "scrolled": true
   },
   "outputs": [
    {
     "data": {
      "text/latex": [
       "$$\\left[\\begin{matrix}\\frac{A E}{L} & 0 & 0 & - \\frac{A E}{L} & 0 & 0\\\\0 & \\frac{12 E}{L^{3}} I & \\frac{6 E}{L^{2}} I & 0 & - \\frac{12 E}{L^{3}} I & \\frac{6 E}{L^{2}} I\\\\0 & \\frac{6 E}{L^{2}} I & \\frac{4 E}{L} I & 0 & - \\frac{6 E}{L^{2}} I & \\frac{2 E}{L} I\\\\- \\frac{A E}{L} & 0 & 0 & \\frac{A E}{L} & 0 & 0\\\\0 & - \\frac{12 E}{L^{3}} I & - \\frac{6 E}{L^{2}} I & 0 & \\frac{12 E}{L^{3}} I & - \\frac{6 E}{L^{2}} I\\\\0 & \\frac{6 E}{L^{2}} I & \\frac{2 E}{L} I & 0 & - \\frac{6 E}{L^{2}} I & \\frac{4 E}{L} I\\end{matrix}\\right]$$"
      ],
      "text/plain": [
       "⎡ A⋅E                      -A⋅E                    ⎤\n",
       "⎢ ───      0         0     ─────     0         0   ⎥\n",
       "⎢  L                         L                     ⎥\n",
       "⎢                                                  ⎥\n",
       "⎢        12⋅E⋅I    6⋅E⋅I          -12⋅E⋅I    6⋅E⋅I ⎥\n",
       "⎢  0     ──────    ─────     0    ────────   ───── ⎥\n",
       "⎢           3         2               3         2  ⎥\n",
       "⎢          L         L               L         L   ⎥\n",
       "⎢                                                  ⎥\n",
       "⎢        6⋅E⋅I     4⋅E⋅I          -6⋅E⋅I     2⋅E⋅I ⎥\n",
       "⎢  0     ─────     ─────     0    ───────    ───── ⎥\n",
       "⎢           2        L                2        L   ⎥\n",
       "⎢          L                         L             ⎥\n",
       "⎢                                                  ⎥\n",
       "⎢-A⋅E                       A⋅E                    ⎥\n",
       "⎢─────     0         0      ───      0         0   ⎥\n",
       "⎢  L                         L                     ⎥\n",
       "⎢                                                  ⎥\n",
       "⎢       -12⋅E⋅I   -6⋅E⋅I           12⋅E⋅I   -6⋅E⋅I ⎥\n",
       "⎢  0    ────────  ───────    0     ──────   ───────⎥\n",
       "⎢           3         2               3         2  ⎥\n",
       "⎢          L         L               L         L   ⎥\n",
       "⎢                                                  ⎥\n",
       "⎢        6⋅E⋅I     2⋅E⋅I          -6⋅E⋅I     4⋅E⋅I ⎥\n",
       "⎢  0     ─────     ─────     0    ───────    ───── ⎥\n",
       "⎢           2        L                2        L   ⎥\n",
       "⎣          L                         L             ⎦"
      ]
     },
     "execution_count": 12,
     "metadata": {},
     "output_type": "execute_result"
    }
   ],
   "source": [
    "Kl"
   ]
  },
  {
   "cell_type": "markdown",
   "metadata": {},
   "source": [
    "And, for ease of copying into other software, here it is again."
   ]
  },
  {
   "cell_type": "code",
   "execution_count": 13,
   "metadata": {},
   "outputs": [
    {
     "name": "stdout",
     "output_type": "stream",
     "text": [
      "Matrix([[A*E/L, 0, 0, -A*E/L, 0, 0], [0, 12*E*I/L**3, 6*E*I/L**2, 0, -12*E*I/L**3, 6*E*I/L**2], [0, 6*E*I/L**2, 4*E*I/L, 0, -6*E*I/L**2, 2*E*I/L], [-A*E/L, 0, 0, A*E/L, 0, 0], [0, -12*E*I/L**3, -6*E*I/L**2, 0, 12*E*I/L**3, -6*E*I/L**2], [0, 6*E*I/L**2, 2*E*I/L, 0, -6*E*I/L**2, 4*E*I/L]])\n"
     ]
    }
   ],
   "source": [
    "print(Kl)"
   ]
  },
  {
   "cell_type": "code",
   "execution_count": null,
   "metadata": {},
   "outputs": [],
   "source": []
  }
 ],
 "metadata": {
  "kernelspec": {
   "display_name": "Python 3",
   "language": "python",
   "name": "python3"
  },
  "language_info": {
   "codemirror_mode": {
    "name": "ipython",
    "version": 3
   },
   "file_extension": ".py",
   "mimetype": "text/x-python",
   "name": "python",
   "nbconvert_exporter": "python",
   "pygments_lexer": "ipython3",
   "version": "3.6.3"
  },
  "widgets": {
   "state": {},
   "version": "1.1.1"
  }
 },
 "nbformat": 4,
 "nbformat_minor": 2
}
