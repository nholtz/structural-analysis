{
 "cells": [
  {
   "cell_type": "markdown",
   "metadata": {},
   "source": [
    "## OIQ Exam Question 2\n",
    "\n",
    "Question from OIQ Technical Exam, obviously meant to be solved using moment distribution, but\n",
    "here we see how easy it is using slope deflection instead.  This version users a newer version of 'sdutil'\n",
    "that computes end-shears as well as moments.\n",
    "\n",
    "![Example Frame](oiq-frame-1.svg)"
   ]
  },
  {
   "cell_type": "markdown",
   "metadata": {},
   "source": [
    "### Solution 1\n",
    "Actually, solution 1 does not use any special library modules at all (except for 'sympy')."
   ]
  },
  {
   "cell_type": "code",
   "execution_count": 1,
   "metadata": {
    "collapsed": true
   },
   "outputs": [],
   "source": [
    "from sympy import *"
   ]
  },
  {
   "cell_type": "code",
   "execution_count": 2,
   "metadata": {
    "collapsed": false
   },
   "outputs": [],
   "source": [
    "var('EI ta tb tc td')\n",
    "Mab = (EI/4)*(4*ta + 2*tb) - 24*4**2/12\n",
    "Mba = (EI/4)*(2*ta + 4*tb) + 24*4**2/12\n",
    "Mbc = (EI/2/4)*(4*tb + 2*tc)\n",
    "Mcb = (EI/2/4)*(2*tb + 4*tc)\n",
    "Mcd = (EI/4)*(4*tc + 2*td) - 72*4/8\n",
    "Mdc = (EI/4)*(2*tc + 4*td) + 72*4/8"
   ]
  },
  {
   "cell_type": "code",
   "execution_count": 3,
   "metadata": {
    "collapsed": false
   },
   "outputs": [
    {
     "data": {
      "text/plain": [
       "{td: -1756/(29*EI), ta: 0, tb: -856/(29*EI), tc: 1424/(29*EI)}"
      ]
     },
     "execution_count": 3,
     "metadata": {},
     "output_type": "execute_result"
    }
   ],
   "source": [
    "eqns = [ta, Mba+Mbc, Mcb+Mcd, Mdc]\n",
    "soln = solve( eqns, [ta, tb, tc, td] )\n",
    "soln"
   ]
  },
  {
   "cell_type": "code",
   "execution_count": 4,
   "metadata": {
    "collapsed": false
   },
   "outputs": [
    {
     "data": {
      "text/plain": [
       "[-46.76, 2.483, -2.483, 17.17, -17.17, 0]"
      ]
     },
     "execution_count": 4,
     "metadata": {},
     "output_type": "execute_result"
    }
   ],
   "source": [
    "[m.subs(soln).n(4) for m in [Mab,Mba,Mbc,Mcb,Mcd,Mdc]]"
   ]
  },
  {
   "cell_type": "code",
   "execution_count": 5,
   "metadata": {
    "collapsed": false
   },
   "outputs": [
    {
     "data": {
      "text/plain": [
       "[59.07, 77.22, 31.71, 3.672]"
      ]
     },
     "execution_count": 5,
     "metadata": {},
     "output_type": "execute_result"
    }
   ],
   "source": [
    "Rd = (Mcd + 72*2)/4\n",
    "Ra = (-(Mab + Mba) + 24*4*2)/4\n",
    "Rc = 24*4 + 72 - Ra - Rd\n",
    "Hd = (Mbc + 72*2 - Rd*4)/4\n",
    "[r.subs(soln).n(4) for r in [Ra,Rc,Rd,Hd]]"
   ]
  },
  {
   "cell_type": "markdown",
   "metadata": {},
   "source": [
    "### Solution 2\n",
    "Here it is again, using the SD utilities:"
   ]
  },
  {
   "cell_type": "code",
   "execution_count": 6,
   "metadata": {
    "collapsed": true
   },
   "outputs": [],
   "source": [
    "from sympy import *\n",
    "init_printing(use_latex='mathjax')\n",
    "from sdutil2 import SD,FEF"
   ]
  },
  {
   "cell_type": "code",
   "execution_count": 7,
   "metadata": {
    "collapsed": false
   },
   "outputs": [],
   "source": [
    "var('EI theta_a theta_b theta_c theta_d')\n",
    "M_ab, M_ba, V_ab, V_ba = SD(4,EI,theta_a,theta_b) + FEF.udl(4,24)\n",
    "M_bc, M_cb, V_bc, V_cb = SD(4,EI/2,theta_b,theta_c)\n",
    "M_cd, M_dc, V_cd, V_dc = SD(4,EI,theta_c,theta_d) + FEF.p(4,72,2)"
   ]
  },
  {
   "cell_type": "code",
   "execution_count": 8,
   "metadata": {
    "collapsed": false
   },
   "outputs": [
    {
     "data": {
      "text/latex": [
       "$$\\left \\{ \\theta_{a} : 0, \\quad \\theta_{b} : - \\frac{856}{29 EI}, \\quad \\theta_{c} : \\frac{1424}{29 EI}, \\quad \\theta_{d} : - \\frac{1756}{29 EI}\\right \\}$$"
      ],
      "text/plain": [
       "⎧            -856         1424       -1756 ⎫\n",
       "⎨θₐ: 0, θ_b: ─────, θ_c: ─────, θ_d: ──────⎬\n",
       "⎩            29⋅EI       29⋅EI       29⋅EI ⎭"
      ]
     },
     "execution_count": 8,
     "metadata": {},
     "output_type": "execute_result"
    }
   ],
   "source": [
    "eqns = [theta_a, M_ba+M_bc, M_cb+M_cd, M_dc]\n",
    "soln = solve( eqns, [theta_a, theta_b, theta_c, theta_d] )\n",
    "soln"
   ]
  },
  {
   "cell_type": "markdown",
   "metadata": {},
   "source": [
    "End moments and shears:"
   ]
  },
  {
   "cell_type": "code",
   "execution_count": 9,
   "metadata": {
    "collapsed": false
   },
   "outputs": [
    {
     "data": {
      "text/latex": [
       "$$\\left [ -46.76, \\quad 2.483, \\quad -2.483, \\quad 17.17, \\quad -17.17, \\quad 0\\right ]$$"
      ],
      "text/plain": [
       "[-46.76, 2.483, -2.483, 17.17, -17.17, 0]"
      ]
     },
     "execution_count": 9,
     "metadata": {},
     "output_type": "execute_result"
    }
   ],
   "source": [
    "[m.subs(soln).n(4) for m in [M_ab,M_ba,M_bc,M_cb,M_cd,M_dc]]"
   ]
  },
  {
   "cell_type": "code",
   "execution_count": 10,
   "metadata": {
    "collapsed": false
   },
   "outputs": [
    {
     "data": {
      "text/latex": [
       "$$\\left [ 59.07, \\quad -36.93, \\quad -3.672, \\quad -3.672, \\quad 40.29, \\quad -31.71\\right ]$$"
      ],
      "text/plain": [
       "[59.07, -36.93, -3.672, -3.672, 40.29, -31.71]"
      ]
     },
     "execution_count": 10,
     "metadata": {},
     "output_type": "execute_result"
    }
   ],
   "source": [
    "[m.subs(soln).n(4) for m in [V_ab,V_ba,V_bc,V_cb,V_cd,V_dc]]"
   ]
  },
  {
   "cell_type": "markdown",
   "metadata": {},
   "source": [
    "Reactions:"
   ]
  },
  {
   "cell_type": "code",
   "execution_count": 11,
   "metadata": {
    "collapsed": false
   },
   "outputs": [
    {
     "data": {
      "text/latex": [
       "$$\\left [ 59.07, \\quad 77.22, \\quad 31.71, \\quad 3.672, \\quad -3.672, \\quad -46.76\\right ]$$"
      ],
      "text/plain": [
       "[59.07, 77.22, 31.71, 3.672, -3.672, -46.76]"
      ]
     },
     "execution_count": 11,
     "metadata": {},
     "output_type": "execute_result"
    }
   ],
   "source": [
    "R_d = -V_dc\n",
    "R_c = V_cd - V_ba\n",
    "R_a = V_ab\n",
    "H_d = -V_cb\n",
    "H_a = V_cb\n",
    "M_a = M_ab\n",
    "[r.subs(soln).n(4) for r in [R_a,R_c,R_d,H_d,H_a,M_a]]"
   ]
  },
  {
   "cell_type": "markdown",
   "metadata": {},
   "source": [
    "#### Equilibrium check"
   ]
  },
  {
   "cell_type": "code",
   "execution_count": 12,
   "metadata": {
    "collapsed": false
   },
   "outputs": [
    {
     "data": {
      "text/latex": [
       "$$0$$"
      ],
      "text/plain": [
       "0"
      ]
     },
     "execution_count": 12,
     "metadata": {},
     "output_type": "execute_result"
    }
   ],
   "source": [
    "## sum vertical forces\n",
    "(R_a + R_c + R_d - 24*4 - 72).subs(soln)"
   ]
  },
  {
   "cell_type": "code",
   "execution_count": 13,
   "metadata": {
    "collapsed": false
   },
   "outputs": [
    {
     "data": {
      "text/latex": [
       "$$0$$"
      ],
      "text/plain": [
       "0"
      ]
     },
     "execution_count": 13,
     "metadata": {},
     "output_type": "execute_result"
    }
   ],
   "source": [
    "## sum horizontal forces\n",
    "(H_a+H_d).subs(soln)"
   ]
  },
  {
   "cell_type": "code",
   "execution_count": 14,
   "metadata": {
    "collapsed": false
   },
   "outputs": [
    {
     "data": {
      "text/latex": [
       "$$0$$"
      ],
      "text/plain": [
       "0"
      ]
     },
     "execution_count": 14,
     "metadata": {},
     "output_type": "execute_result"
    }
   ],
   "source": [
    "## sum moments about a\n",
    "(M_a + 24*4*2 - R_c*4 + 72*6 - R_d*8 - H_d*4).subs(soln)"
   ]
  },
  {
   "cell_type": "code",
   "execution_count": null,
   "metadata": {
    "collapsed": true
   },
   "outputs": [],
   "source": []
  }
 ],
 "metadata": {
  "kernelspec": {
   "display_name": "Python 2",
   "language": "python",
   "name": "python2"
  },
  "language_info": {
   "codemirror_mode": {
    "name": "ipython",
    "version": 2
   },
   "file_extension": ".py",
   "mimetype": "text/x-python",
   "name": "python",
   "nbconvert_exporter": "python",
   "pygments_lexer": "ipython2",
   "version": "2.7.6"
  }
 },
 "nbformat": 4,
 "nbformat_minor": 0
}
