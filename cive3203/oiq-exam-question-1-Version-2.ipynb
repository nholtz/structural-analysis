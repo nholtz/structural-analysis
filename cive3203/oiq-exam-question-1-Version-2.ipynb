{
 "cells": [
  {
   "cell_type": "markdown",
   "metadata": {},
   "source": [
    "## OIQ-Exam-Question-1 (Version 2)\n",
    "\n",
    "![Beam](oiq-exam-1.svg)\n",
    "Technical exam question from Ordre des ingénieurs du Québec.  Obviously meant to be done using moment-distribution, but even easier using slope-deflection.  This version use a newer 'sdutil' that also computes end shears."
   ]
  },
  {
   "cell_type": "code",
   "execution_count": 1,
   "metadata": {
    "collapsed": false
   },
   "outputs": [],
   "source": [
    "from sympy import *\n",
    "init_printing(use_latex='mathjax')"
   ]
  },
  {
   "cell_type": "code",
   "execution_count": 2,
   "metadata": {
    "collapsed": false
   },
   "outputs": [],
   "source": [
    "from sdutil2 import SD, FEF\n",
    "var('EI theta_a theta_b theta_c theta_d')\n",
    "Mab,Mba,Vab,Vba = SD(6,EI,theta_a,theta_b) + FEF.p(6,180,4)\n",
    "Mbc,Mcb,Vbc,Vcb = SD(8,2*EI,theta_b,theta_c) + FEF.udl(8,45)\n",
    "Mcd,Mdc,Vcd,Vdc = SD(6,EI,theta_c,theta_d)"
   ]
  },
  {
   "cell_type": "markdown",
   "metadata": {},
   "source": [
    "Solve equilbrium equations for rotations:"
   ]
  },
  {
   "cell_type": "code",
   "execution_count": 3,
   "metadata": {
    "collapsed": false
   },
   "outputs": [
    {
     "data": {
      "text/latex": [
       "$$\\left \\{ \\theta_{a} : \\frac{75}{EI}, \\quad \\theta_{b} : \\frac{90}{EI}, \\quad \\theta_{c} : - \\frac{190}{EI}, \\quad \\theta_{d} : \\frac{95}{EI}\\right \\}$$"
      ],
      "text/plain": [
       "⎧    75       90       -190        95⎫\n",
       "⎨θₐ: ──, θ_b: ──, θ_c: ─────, θ_d: ──⎬\n",
       "⎩    EI       EI         EI        EI⎭"
      ]
     },
     "execution_count": 3,
     "metadata": {},
     "output_type": "execute_result"
    }
   ],
   "source": [
    "soln = solve( [Mab,Mba+Mbc,Mcb+Mcd,Mdc],[theta_a,theta_b,theta_c,theta_d] )\n",
    "soln"
   ]
  },
  {
   "cell_type": "markdown",
   "metadata": {},
   "source": [
    "Member end moments:"
   ]
  },
  {
   "cell_type": "code",
   "execution_count": 4,
   "metadata": {
    "collapsed": false
   },
   "outputs": [
    {
     "data": {
      "text/latex": [
       "$$\\left [ 0, \\quad 245, \\quad -245, \\quad 95, \\quad -95, \\quad 0\\right ]$$"
      ],
      "text/plain": [
       "[0, 245, -245, 95, -95, 0]"
      ]
     },
     "execution_count": 4,
     "metadata": {},
     "output_type": "execute_result"
    }
   ],
   "source": [
    "[m.subs(soln) for m in [Mab,Mba,Mbc,Mcb,Mcd,Mdc]]"
   ]
  },
  {
   "cell_type": "markdown",
   "metadata": {},
   "source": [
    "Member end shears:"
   ]
  },
  {
   "cell_type": "code",
   "execution_count": 5,
   "metadata": {
    "collapsed": false
   },
   "outputs": [
    {
     "data": {
      "text/latex": [
       "$$\\left [ 19.17, \\quad -160.8, \\quad 198.8, \\quad -161.3, \\quad 15.83, \\quad 15.83\\right ]$$"
      ],
      "text/plain": [
       "[19.17, -160.8, 198.8, -161.3, 15.83, 15.83]"
      ]
     },
     "execution_count": 5,
     "metadata": {},
     "output_type": "execute_result"
    }
   ],
   "source": [
    "[v.subs(soln).n(4) for v in [Vab,Vba,Vbc,Vcb,Vcd,Vdc]]"
   ]
  },
  {
   "cell_type": "markdown",
   "metadata": {},
   "source": [
    "Reactions:"
   ]
  },
  {
   "cell_type": "code",
   "execution_count": 6,
   "metadata": {
    "collapsed": false
   },
   "outputs": [
    {
     "data": {
      "text/latex": [
       "$$\\left [ 19.17, \\quad 359.6, \\quad 177.1, \\quad -15.83\\right ]$$"
      ],
      "text/plain": [
       "[19.17, 359.6, 177.1, -15.83]"
      ]
     },
     "execution_count": 6,
     "metadata": {},
     "output_type": "execute_result"
    }
   ],
   "source": [
    "Ra = Vab\n",
    "Rb = Vbc - Vba\n",
    "Rc = Vcd - Vcb\n",
    "Rd = -Vdc\n",
    "[r.subs(soln).n(4) for r in [Ra,Rb,Rc,Rd]]"
   ]
  },
  {
   "cell_type": "markdown",
   "metadata": {},
   "source": [
    "#### Check overal equilibrium"
   ]
  },
  {
   "cell_type": "code",
   "execution_count": 7,
   "metadata": {
    "collapsed": false
   },
   "outputs": [
    {
     "data": {
      "text/latex": [
       "$$0$$"
      ],
      "text/plain": [
       "0"
      ]
     },
     "execution_count": 7,
     "metadata": {},
     "output_type": "execute_result"
    }
   ],
   "source": [
    "# sum forces in vertical dirn.\n",
    "(Ra+Rb+Rc+Rd - 180 - 45*8).subs(soln)"
   ]
  },
  {
   "cell_type": "code",
   "execution_count": 8,
   "metadata": {
    "collapsed": false
   },
   "outputs": [
    {
     "data": {
      "text/latex": [
       "$$0$$"
      ],
      "text/plain": [
       "0"
      ]
     },
     "execution_count": 8,
     "metadata": {},
     "output_type": "execute_result"
    }
   ],
   "source": [
    "# sum moments about left\n",
    "(-Rb*6 - Rc*(6+8) -Rd*(6+8+6) + 180*4 + 45*8*(6 + 8/2.)).subs(soln)"
   ]
  },
  {
   "cell_type": "code",
   "execution_count": 9,
   "metadata": {
    "collapsed": false
   },
   "outputs": [
    {
     "data": {
      "text/latex": [
       "$$- \\frac{EI \\theta_{a}}{6} - \\frac{EI \\theta_{b}}{6} + \\frac{140}{3}$$"
      ],
      "text/plain": [
       "  EI⋅θₐ   EI⋅θ_b   140\n",
       "- ───── - ────── + ───\n",
       "    6       6       3 "
      ]
     },
     "execution_count": 9,
     "metadata": {},
     "output_type": "execute_result"
    }
   ],
   "source": [
    "Ra.expand()"
   ]
  },
  {
   "cell_type": "code",
   "execution_count": null,
   "metadata": {
    "collapsed": true
   },
   "outputs": [],
   "source": []
  }
 ],
 "metadata": {
  "kernelspec": {
   "display_name": "Python 2",
   "language": "python",
   "name": "python2"
  },
  "language_info": {
   "codemirror_mode": {
    "name": "ipython",
    "version": 2
   },
   "file_extension": ".py",
   "mimetype": "text/x-python",
   "name": "python",
   "nbconvert_exporter": "python",
   "pygments_lexer": "ipython2",
   "version": "2.7.6"
  }
 },
 "nbformat": 4,
 "nbformat_minor": 0
}
