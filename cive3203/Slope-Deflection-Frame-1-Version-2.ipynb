{
 "cells": [
  {
   "cell_type": "markdown",
   "metadata": {},
   "source": [
    "# Slope Deflection Example - Frame 1\n",
    "Illustrates the solution of simple, statically-indeterminate framed structures\n",
    "using the method of **slope-deflection** and symbolic algebra.\n",
    "This version uses an improved version of 'sdutil' that computes end shears as well as moments."
   ]
  },
  {
   "cell_type": "code",
   "execution_count": 1,
   "metadata": {
    "collapsed": true
   },
   "outputs": [],
   "source": [
    "from sympy import *                 # use symbolic algebra\n",
    "init_printing(use_latex='mathjax')  # print nice math (use_latex arg is workaround for FormatterWarning messages)"
   ]
  },
  {
   "cell_type": "code",
   "execution_count": 2,
   "metadata": {
    "collapsed": false
   },
   "outputs": [],
   "source": [
    "from sdutil2 import SD, FEF"
   ]
  },
  {
   "cell_type": "markdown",
   "metadata": {},
   "source": [
    "Analyze the following frame using the method of **slope-deflection**.\n",
    "\n",
    "![Frame](frame1.svg)"
   ]
  },
  {
   "cell_type": "markdown",
   "metadata": {},
   "source": [
    "This frame has 5 independant joint displacements - rotations at the four\n",
    "joints *a*, *b*, *c*, and *d*, and a lateral displacement of joints *b*\n",
    "and *c* together.  Actually, we know that joint *d* does not rotate, but we\n",
    "will pretend it does for now, and will handle that as a displacement constraint\n",
    "later.\n",
    "\n",
    "So now we write the slope deflection equations.  These express the end moments\n",
    "as functions of the five unknown displacements.  Note also that we do not treat the\n",
    "pin-ended member *ab* specially -- it is not necessary to do so.\n",
    "\n",
    "We use a very simple utility function *SD()* to compute the end moments and shears of a segment,\n",
    "as a function of the end displacements:"
   ]
  },
  {
   "cell_type": "code",
   "execution_count": 4,
   "metadata": {
    "collapsed": false
   },
   "outputs": [
    {
     "name": "stdout",
     "output_type": "stream",
     "text": [
      "Help on function SD in module sdutil2:\n",
      "\n",
      "SD(L, EI, t0, t1, d01=0)\n",
      "    Return the end moments and shears of a segment as computed by the slope \n",
      "    deflection equations.\n",
      "       L = length, \n",
      "       EI = stiffness, \n",
      "       t0 = rotation at end 0 (left), \n",
      "       t1 = rotation at end 1, \n",
      "       d01 = relative lateral displacment end 0 to end 1.  \n",
      "    SD sign convention: moments and rotation are +ive CW, \n",
      "    relative displacement d01 is +ive for CW rotation of chord.\n",
      "\n"
     ]
    }
   ],
   "source": [
    "help(SD)"
   ]
  },
  {
   "cell_type": "code",
   "execution_count": 5,
   "metadata": {
    "collapsed": false
   },
   "outputs": [],
   "source": [
    "# Slope deflection equations:\n",
    "# theta_a,b,c,d - rotations of joints\n",
    "# Delta_ab - horizontal displacement of joint b (and c) relative to a (and d)\n",
    "var('EI theta_a theta_b theta_c theta_d Delta_ab')\n",
    "Mab,Mba,Vab,Vba = SD(3,EI,theta_a,theta_b,Delta_ab)\n",
    "Mbc,Mcb,Vbc,Vcb = SD(6,2*EI,theta_b,theta_c,0) + FEF.udl(6,36)\n",
    "Mcd,Mdc,Vcd,Vdc = SD(2,EI,theta_c,theta_d,Delta_ab)"
   ]
  },
  {
   "cell_type": "markdown",
   "metadata": {},
   "source": [
    "Display just one of the end moments to see what the values look like.  They are indeed algebraic expressions."
   ]
  },
  {
   "cell_type": "code",
   "execution_count": 6,
   "metadata": {
    "collapsed": false
   },
   "outputs": [
    {
     "data": {
      "text/latex": [
       "$$\\frac{EI}{3} \\left(4 \\theta_{b} + 2 \\theta_{c}\\right) - 108$$"
      ],
      "text/plain": [
       "EI⋅(4⋅θ_b + 2⋅θ_c)      \n",
       "────────────────── - 108\n",
       "        3               "
      ]
     },
     "execution_count": 6,
     "metadata": {},
     "output_type": "execute_result"
    }
   ],
   "source": [
    "Mbc"
   ]
  },
  {
   "cell_type": "markdown",
   "metadata": {},
   "source": [
    "Now we write five linear equations to solve for the five unknown displacements.\n",
    "Three are equilibrium equations and involve moments at three of the joints: $Mab = 0$, $Mba+Mbc=0$, and $Mcb+Mcd=0$.\n",
    "One equation involves the equilibrium of the column shears with the horizontal applied\n",
    "load: $Vab+Vdc-60=0$.  The fifth equation is just the known rotation at joint *d*: $\\theta_d=0$.\n",
    "\n",
    "In sympy, we build a list of the five equations, all expressed as $f(..,..) = 0$ and giving only the left side of each (the right side always being 0 is not given).  We then call the solver and give it a list of variables to solve for:"
   ]
  },
  {
   "cell_type": "code",
   "execution_count": 7,
   "metadata": {
    "collapsed": false
   },
   "outputs": [
    {
     "data": {
      "text/latex": [
       "$$\\left \\{ \\Delta_{ab} : \\frac{3528}{247 EI}, \\quad \\theta_{a} : - \\frac{426}{19 EI}, \\quad \\theta_{b} : \\frac{14604}{247 EI}, \\quad \\theta_{c} : - \\frac{9336}{247 EI}, \\quad \\theta_{d} : 0\\right \\}$$"
      ],
      "text/plain": [
       "⎧       3528       -426        14604        -9336         ⎫\n",
       "⎨Δ_ab: ──────, θₐ: ─────, θ_b: ──────, θ_c: ──────, θ_d: 0⎬\n",
       "⎩      247⋅EI      19⋅EI       247⋅EI       247⋅EI        ⎭"
      ]
     },
     "execution_count": 7,
     "metadata": {},
     "output_type": "execute_result"
    }
   ],
   "source": [
    "eqns = [Mab, Mba+Mbc, Mcb+Mcd, Vab+Vdc-60, theta_d]\n",
    "soln = solve(eqns,[theta_a,theta_b,theta_c,theta_d,Delta_ab])\n",
    "soln"
   ]
  },
  {
   "cell_type": "markdown",
   "metadata": {},
   "source": [
    "The above solution is returned as a Python dictionary, making it easy to substitute for those\n",
    "variables in other equations.\n",
    "\n",
    "In fact, that is done now, substituting the displacement solutions into each\n",
    "of the slope-deflection equations.  The result is a list of the member end moments (and shears).\n",
    "\n",
    "The '.n(4)' method forces a numerical answer with 4 significant figures."
   ]
  },
  {
   "cell_type": "code",
   "execution_count": 8,
   "metadata": {
    "collapsed": false
   },
   "outputs": [
    {
     "data": {
      "text/plain": [
       "{'Mab': 0,\n",
       " 'Mba': 54.36,\n",
       " 'Mbc': -54.36,\n",
       " 'Mcb': 97.02,\n",
       " 'Mcd': -97.02,\n",
       " 'Mdc': -59.22,\n",
       " 'Vab': -18.12,\n",
       " 'Vdc': 78.12}"
      ]
     },
     "execution_count": 8,
     "metadata": {},
     "output_type": "execute_result"
    }
   ],
   "source": [
    "{v:eval(v).subs(soln).n(4) for v in 'Mab,Mba,Mbc,Mcb,Mcd,Mdc,Vab,Vdc'.split(',')}"
   ]
  },
  {
   "cell_type": "markdown",
   "metadata": {},
   "source": [
    "And now - the reactions at supports *a* and *d*:"
   ]
  },
  {
   "cell_type": "code",
   "execution_count": 9,
   "metadata": {
    "collapsed": false
   },
   "outputs": [
    {
     "data": {
      "text/latex": [
       "$$\\left [ 100.9, \\quad 18.12, \\quad 115.1, \\quad -78.12, \\quad -59.22\\right ]$$"
      ],
      "text/plain": [
       "[100.9, 18.12, 115.1, -78.12, -59.22]"
      ]
     },
     "execution_count": 9,
     "metadata": {},
     "output_type": "execute_result"
    }
   ],
   "source": [
    "Ra = Vbc\n",
    "Rd = -Vcb\n",
    "Ha = -Vab\n",
    "Hd = -Vdc\n",
    "Md = Mdc\n",
    "[v.subs(soln).n(4) for v in [Ra,Ha,Rd,Hd,Md]]"
   ]
  },
  {
   "cell_type": "markdown",
   "metadata": {},
   "source": [
    "#### Equilibrium checks:"
   ]
  },
  {
   "cell_type": "code",
   "execution_count": 10,
   "metadata": {
    "collapsed": false
   },
   "outputs": [
    {
     "data": {
      "text/latex": [
       "$$0$$"
      ],
      "text/plain": [
       "0"
      ]
     },
     "execution_count": 10,
     "metadata": {},
     "output_type": "execute_result"
    }
   ],
   "source": [
    "# sum horizontal forces\n",
    "(Ha + Hd + 60).subs(soln)"
   ]
  },
  {
   "cell_type": "code",
   "execution_count": 11,
   "metadata": {
    "collapsed": false
   },
   "outputs": [
    {
     "data": {
      "text/latex": [
       "$$0$$"
      ],
      "text/plain": [
       "0"
      ]
     },
     "execution_count": 11,
     "metadata": {},
     "output_type": "execute_result"
    }
   ],
   "source": [
    "# sum vertical forces\n",
    "(Ra + Rd - 36*6).subs(soln)"
   ]
  },
  {
   "cell_type": "code",
   "execution_count": 12,
   "metadata": {
    "collapsed": false
   },
   "outputs": [
    {
     "data": {
      "text/latex": [
       "$$0$$"
      ],
      "text/plain": [
       "0"
      ]
     },
     "execution_count": 12,
     "metadata": {},
     "output_type": "execute_result"
    }
   ],
   "source": [
    "# sum moments about a\n",
    "(60*3 + 36*6*3 + Hd*1 + Md - Rd*6).subs(soln)"
   ]
  },
  {
   "cell_type": "markdown",
   "metadata": {},
   "source": [
    "### Plots\n",
    "Plot bending moment in *bc* as a function of distance *x* from left end, *b*:"
   ]
  },
  {
   "cell_type": "code",
   "execution_count": 13,
   "metadata": {
    "collapsed": true
   },
   "outputs": [],
   "source": [
    "%matplotlib inline\n",
    "import numpy as np\n",
    "import matplotlib.pyplot as plt"
   ]
  },
  {
   "cell_type": "code",
   "execution_count": 14,
   "metadata": {
    "collapsed": false
   },
   "outputs": [
    {
     "data": {
      "text/plain": [
       "<matplotlib.collections.PolyCollection at 0x7f89764d0e10>"
      ]
     },
     "execution_count": 14,
     "metadata": {},
     "output_type": "execute_result"
    },
    {
     "data": {
      "image/svg+xml": [
       "<?xml version=\"1.0\" encoding=\"utf-8\" standalone=\"no\"?>\n",
       "<!DOCTYPE svg PUBLIC \"-//W3C//DTD SVG 1.1//EN\"\n",
       "  \"http://www.w3.org/Graphics/SVG/1.1/DTD/svg11.dtd\">\n",
       "<!-- Created with matplotlib (http://matplotlib.org/) -->\n",
       "<svg height=\"256pt\" version=\"1.1\" viewBox=\"0 0 381 256\" width=\"381pt\" xmlns=\"http://www.w3.org/2000/svg\" xmlns:xlink=\"http://www.w3.org/1999/xlink\">\n",
       " <defs>\n",
       "  <style type=\"text/css\">\n",
       "*{stroke-linecap:butt;stroke-linejoin:round;}\n",
       "  </style>\n",
       " </defs>\n",
       " <g id=\"figure_1\">\n",
       "  <g id=\"patch_1\">\n",
       "   <path d=\"\n",
       "M0 256.117\n",
       "L381.461 256.117\n",
       "L381.461 0\n",
       "L0 0\n",
       "z\n",
       "\" style=\"fill:none;\"/>\n",
       "  </g>\n",
       "  <g id=\"axes_1\">\n",
       "   <g id=\"patch_2\">\n",
       "    <path d=\"\n",
       "M36.9438 235.239\n",
       "L371.744 235.239\n",
       "L371.744 12.0391\n",
       "L36.9438 12.0391\n",
       "z\n",
       "\" style=\"fill:#ffffff;\"/>\n",
       "   </g>\n",
       "   <g id=\"PolyCollection_1\">\n",
       "    <defs>\n",
       "     <path d=\"\n",
       "M36.9438 -132.478\n",
       "L36.9438 -71.8075\n",
       "L43.7764 -85.2933\n",
       "L50.6091 -98.1768\n",
       "L57.4417 -110.458\n",
       "L64.2744 -122.136\n",
       "L71.107 -133.213\n",
       "L77.9397 -143.687\n",
       "L84.7723 -153.558\n",
       "L91.605 -162.827\n",
       "L98.4376 -171.494\n",
       "L105.27 -179.558\n",
       "L112.103 -187.02\n",
       "L118.936 -193.88\n",
       "L125.768 -200.137\n",
       "L132.601 -205.792\n",
       "L139.434 -210.844\n",
       "L146.266 -215.294\n",
       "L153.099 -219.142\n",
       "L159.932 -222.387\n",
       "L166.764 -225.03\n",
       "L173.597 -227.07\n",
       "L180.429 -228.508\n",
       "L187.262 -229.344\n",
       "L194.095 -229.577\n",
       "L200.927 -229.208\n",
       "L207.76 -228.236\n",
       "L214.593 -226.663\n",
       "L221.425 -224.486\n",
       "L228.258 -221.708\n",
       "L235.091 -218.327\n",
       "L241.923 -214.343\n",
       "L248.756 -209.757\n",
       "L255.589 -204.569\n",
       "L262.421 -198.778\n",
       "L269.254 -192.385\n",
       "L276.087 -185.39\n",
       "L282.919 -177.792\n",
       "L289.752 -169.592\n",
       "L296.585 -160.789\n",
       "L303.417 -151.384\n",
       "L310.25 -141.377\n",
       "L317.083 -130.767\n",
       "L323.915 -119.555\n",
       "L330.748 -107.741\n",
       "L337.58 -95.3239\n",
       "L344.413 -82.3046\n",
       "L351.246 -68.6829\n",
       "L358.078 -54.4588\n",
       "L364.911 -39.6324\n",
       "L371.744 -24.2035\n",
       "L371.744 -132.478\n",
       "L371.744 -132.478\n",
       "L364.911 -132.478\n",
       "L358.078 -132.478\n",
       "L351.246 -132.478\n",
       "L344.413 -132.478\n",
       "L337.58 -132.478\n",
       "L330.748 -132.478\n",
       "L323.915 -132.478\n",
       "L317.083 -132.478\n",
       "L310.25 -132.478\n",
       "L303.417 -132.478\n",
       "L296.585 -132.478\n",
       "L289.752 -132.478\n",
       "L282.919 -132.478\n",
       "L276.087 -132.478\n",
       "L269.254 -132.478\n",
       "L262.421 -132.478\n",
       "L255.589 -132.478\n",
       "L248.756 -132.478\n",
       "L241.923 -132.478\n",
       "L235.091 -132.478\n",
       "L228.258 -132.478\n",
       "L221.425 -132.478\n",
       "L214.593 -132.478\n",
       "L207.76 -132.478\n",
       "L200.927 -132.478\n",
       "L194.095 -132.478\n",
       "L187.262 -132.478\n",
       "L180.429 -132.478\n",
       "L173.597 -132.478\n",
       "L166.764 -132.478\n",
       "L159.932 -132.478\n",
       "L153.099 -132.478\n",
       "L146.266 -132.478\n",
       "L139.434 -132.478\n",
       "L132.601 -132.478\n",
       "L125.768 -132.478\n",
       "L118.936 -132.478\n",
       "L112.103 -132.478\n",
       "L105.27 -132.478\n",
       "L98.4376 -132.478\n",
       "L91.605 -132.478\n",
       "L84.7723 -132.478\n",
       "L77.9397 -132.478\n",
       "L71.107 -132.478\n",
       "L64.2744 -132.478\n",
       "L57.4417 -132.478\n",
       "L50.6091 -132.478\n",
       "L43.7764 -132.478\n",
       "L36.9438 -132.478\n",
       "z\n",
       "\" id=\"m6645cd99d8\" style=\"stroke:#d3d3d3;\"/>\n",
       "    </defs>\n",
       "    <g clip-path=\"url(#p44936d0d7c)\">\n",
       "     <use style=\"fill:#d3d3d3;stroke:#d3d3d3;\" x=\"0.0\" xlink:href=\"#m6645cd99d8\" y=\"256.1171875\"/>\n",
       "    </g>\n",
       "   </g>\n",
       "   <g id=\"line2d_1\">\n",
       "    <path clip-path=\"url(#p44936d0d7c)\" d=\"\n",
       "M36.9438 184.31\n",
       "L43.7764 170.824\n",
       "L50.6091 157.94\n",
       "L57.4417 145.659\n",
       "L64.2744 133.981\n",
       "L71.107 122.904\n",
       "L77.9397 112.431\n",
       "L84.7723 102.559\n",
       "L91.605 93.29\n",
       "L98.4376 84.6233\n",
       "L105.27 76.5589\n",
       "L112.103 69.097\n",
       "L118.936 62.2375\n",
       "L125.768 55.9803\n",
       "L132.601 50.3255\n",
       "L139.434 45.2731\n",
       "L146.266 40.8232\n",
       "L153.099 36.9755\n",
       "L159.932 33.7303\n",
       "L166.764 31.0875\n",
       "L173.597 29.0471\n",
       "L180.429 27.609\n",
       "L187.262 26.7734\n",
       "L194.095 26.5401\n",
       "L200.927 26.9092\n",
       "L207.76 27.8807\n",
       "L214.593 29.4546\n",
       "L221.425 31.6309\n",
       "L228.258 34.4096\n",
       "L235.091 37.7907\n",
       "L241.923 41.7741\n",
       "L248.756 46.36\n",
       "L255.589 51.5482\n",
       "L262.421 57.3388\n",
       "L269.254 63.7318\n",
       "L276.087 70.7272\n",
       "L282.919 78.325\n",
       "L289.752 86.5252\n",
       "L296.585 95.3278\n",
       "L303.417 104.733\n",
       "L310.25 114.74\n",
       "L317.083 125.35\n",
       "L323.915 136.562\n",
       "L330.748 148.376\n",
       "L337.58 160.793\n",
       "L344.413 173.813\n",
       "L351.246 187.434\n",
       "L358.078 201.658\n",
       "L364.911 216.485\n",
       "L371.744 231.914\" style=\"fill:none;stroke:#0000ff;stroke-linecap:square;\"/>\n",
       "   </g>\n",
       "   <g id=\"line2d_2\">\n",
       "    <path clip-path=\"url(#p44936d0d7c)\" d=\"\n",
       "M36.9438 123.639\n",
       "L371.744 123.639\" style=\"fill:none;stroke:#008000;stroke-linecap:square;\"/>\n",
       "   </g>\n",
       "   <g id=\"patch_3\">\n",
       "    <path d=\"\n",
       "M36.9438 12.0391\n",
       "L371.744 12.0391\" style=\"fill:none;stroke:#000000;stroke-linecap:square;stroke-linejoin:miter;\"/>\n",
       "   </g>\n",
       "   <g id=\"patch_4\">\n",
       "    <path d=\"\n",
       "M371.744 235.239\n",
       "L371.744 12.0391\" style=\"fill:none;stroke:#000000;stroke-linecap:square;stroke-linejoin:miter;\"/>\n",
       "   </g>\n",
       "   <g id=\"patch_5\">\n",
       "    <path d=\"\n",
       "M36.9438 235.239\n",
       "L371.744 235.239\" style=\"fill:none;stroke:#000000;stroke-linecap:square;stroke-linejoin:miter;\"/>\n",
       "   </g>\n",
       "   <g id=\"patch_6\">\n",
       "    <path d=\"\n",
       "M36.9438 235.239\n",
       "L36.9438 12.0391\" style=\"fill:none;stroke:#000000;stroke-linecap:square;stroke-linejoin:miter;\"/>\n",
       "   </g>\n",
       "   <g id=\"matplotlib.axis_1\">\n",
       "    <g id=\"xtick_1\">\n",
       "     <g id=\"line2d_3\">\n",
       "      <defs>\n",
       "       <path d=\"\n",
       "M0 0\n",
       "L0 -4\" id=\"m93b0483c22\" style=\"stroke:#000000;stroke-width:0.5;\"/>\n",
       "      </defs>\n",
       "      <g>\n",
       "       <use style=\"stroke:#000000;stroke-width:0.5;\" x=\"36.94375\" xlink:href=\"#m93b0483c22\" y=\"235.2390625\"/>\n",
       "      </g>\n",
       "     </g>\n",
       "     <g id=\"line2d_4\">\n",
       "      <defs>\n",
       "       <path d=\"\n",
       "M0 0\n",
       "L0 4\" id=\"m741efc42ff\" style=\"stroke:#000000;stroke-width:0.5;\"/>\n",
       "      </defs>\n",
       "      <g>\n",
       "       <use style=\"stroke:#000000;stroke-width:0.5;\" x=\"36.94375\" xlink:href=\"#m741efc42ff\" y=\"12.0390625\"/>\n",
       "      </g>\n",
       "     </g>\n",
       "     <g id=\"text_1\">\n",
       "      <!-- 0 -->\n",
       "      <defs>\n",
       "       <path d=\"\n",
       "M31.7812 66.4062\n",
       "Q24.1719 66.4062 20.3281 58.9062\n",
       "Q16.5 51.4219 16.5 36.375\n",
       "Q16.5 21.3906 20.3281 13.8906\n",
       "Q24.1719 6.39062 31.7812 6.39062\n",
       "Q39.4531 6.39062 43.2812 13.8906\n",
       "Q47.125 21.3906 47.125 36.375\n",
       "Q47.125 51.4219 43.2812 58.9062\n",
       "Q39.4531 66.4062 31.7812 66.4062\n",
       "M31.7812 74.2188\n",
       "Q44.0469 74.2188 50.5156 64.5156\n",
       "Q56.9844 54.8281 56.9844 36.375\n",
       "Q56.9844 17.9688 50.5156 8.26562\n",
       "Q44.0469 -1.42188 31.7812 -1.42188\n",
       "Q19.5312 -1.42188 13.0625 8.26562\n",
       "Q6.59375 17.9688 6.59375 36.375\n",
       "Q6.59375 54.8281 13.0625 64.5156\n",
       "Q19.5312 74.2188 31.7812 74.2188\" id=\"BitstreamVeraSans-Roman-30\"/>\n",
       "      </defs>\n",
       "      <g transform=\"translate(34.42421875 246.8375)scale(0.1 -0.1)\">\n",
       "       <use xlink:href=\"#BitstreamVeraSans-Roman-30\"/>\n",
       "      </g>\n",
       "     </g>\n",
       "    </g>\n",
       "    <g id=\"xtick_2\">\n",
       "     <g id=\"line2d_5\">\n",
       "      <g>\n",
       "       <use style=\"stroke:#000000;stroke-width:0.5;\" x=\"92.74375\" xlink:href=\"#m93b0483c22\" y=\"235.2390625\"/>\n",
       "      </g>\n",
       "     </g>\n",
       "     <g id=\"line2d_6\">\n",
       "      <g>\n",
       "       <use style=\"stroke:#000000;stroke-width:0.5;\" x=\"92.74375\" xlink:href=\"#m741efc42ff\" y=\"12.0390625\"/>\n",
       "      </g>\n",
       "     </g>\n",
       "     <g id=\"text_2\">\n",
       "      <!-- 1 -->\n",
       "      <defs>\n",
       "       <path d=\"\n",
       "M12.4062 8.29688\n",
       "L28.5156 8.29688\n",
       "L28.5156 63.9219\n",
       "L10.9844 60.4062\n",
       "L10.9844 69.3906\n",
       "L28.4219 72.9062\n",
       "L38.2812 72.9062\n",
       "L38.2812 8.29688\n",
       "L54.3906 8.29688\n",
       "L54.3906 0\n",
       "L12.4062 0\n",
       "z\n",
       "\" id=\"BitstreamVeraSans-Roman-31\"/>\n",
       "      </defs>\n",
       "      <g transform=\"translate(90.5734375 246.8375)scale(0.1 -0.1)\">\n",
       "       <use xlink:href=\"#BitstreamVeraSans-Roman-31\"/>\n",
       "      </g>\n",
       "     </g>\n",
       "    </g>\n",
       "    <g id=\"xtick_3\">\n",
       "     <g id=\"line2d_7\">\n",
       "      <g>\n",
       "       <use style=\"stroke:#000000;stroke-width:0.5;\" x=\"148.54375\" xlink:href=\"#m93b0483c22\" y=\"235.2390625\"/>\n",
       "      </g>\n",
       "     </g>\n",
       "     <g id=\"line2d_8\">\n",
       "      <g>\n",
       "       <use style=\"stroke:#000000;stroke-width:0.5;\" x=\"148.54375\" xlink:href=\"#m741efc42ff\" y=\"12.0390625\"/>\n",
       "      </g>\n",
       "     </g>\n",
       "     <g id=\"text_3\">\n",
       "      <!-- 2 -->\n",
       "      <defs>\n",
       "       <path d=\"\n",
       "M19.1875 8.29688\n",
       "L53.6094 8.29688\n",
       "L53.6094 0\n",
       "L7.32812 0\n",
       "L7.32812 8.29688\n",
       "Q12.9375 14.1094 22.625 23.8906\n",
       "Q32.3281 33.6875 34.8125 36.5312\n",
       "Q39.5469 41.8438 41.4219 45.5312\n",
       "Q43.3125 49.2188 43.3125 52.7812\n",
       "Q43.3125 58.5938 39.2344 62.25\n",
       "Q35.1562 65.9219 28.6094 65.9219\n",
       "Q23.9688 65.9219 18.8125 64.3125\n",
       "Q13.6719 62.7031 7.8125 59.4219\n",
       "L7.8125 69.3906\n",
       "Q13.7656 71.7812 18.9375 73\n",
       "Q24.125 74.2188 28.4219 74.2188\n",
       "Q39.75 74.2188 46.4844 68.5469\n",
       "Q53.2188 62.8906 53.2188 53.4219\n",
       "Q53.2188 48.9219 51.5312 44.8906\n",
       "Q49.8594 40.875 45.4062 35.4062\n",
       "Q44.1875 33.9844 37.6406 27.2188\n",
       "Q31.1094 20.4531 19.1875 8.29688\" id=\"BitstreamVeraSans-Roman-32\"/>\n",
       "      </defs>\n",
       "      <g transform=\"translate(146.2296875 246.8375)scale(0.1 -0.1)\">\n",
       "       <use xlink:href=\"#BitstreamVeraSans-Roman-32\"/>\n",
       "      </g>\n",
       "     </g>\n",
       "    </g>\n",
       "    <g id=\"xtick_4\">\n",
       "     <g id=\"line2d_9\">\n",
       "      <g>\n",
       "       <use style=\"stroke:#000000;stroke-width:0.5;\" x=\"204.34375\" xlink:href=\"#m93b0483c22\" y=\"235.2390625\"/>\n",
       "      </g>\n",
       "     </g>\n",
       "     <g id=\"line2d_10\">\n",
       "      <g>\n",
       "       <use style=\"stroke:#000000;stroke-width:0.5;\" x=\"204.34375\" xlink:href=\"#m741efc42ff\" y=\"12.0390625\"/>\n",
       "      </g>\n",
       "     </g>\n",
       "     <g id=\"text_4\">\n",
       "      <!-- 3 -->\n",
       "      <defs>\n",
       "       <path d=\"\n",
       "M40.5781 39.3125\n",
       "Q47.6562 37.7969 51.625 33\n",
       "Q55.6094 28.2188 55.6094 21.1875\n",
       "Q55.6094 10.4062 48.1875 4.48438\n",
       "Q40.7656 -1.42188 27.0938 -1.42188\n",
       "Q22.5156 -1.42188 17.6562 -0.515625\n",
       "Q12.7969 0.390625 7.625 2.20312\n",
       "L7.625 11.7188\n",
       "Q11.7188 9.32812 16.5938 8.10938\n",
       "Q21.4844 6.89062 26.8125 6.89062\n",
       "Q36.0781 6.89062 40.9375 10.5469\n",
       "Q45.7969 14.2031 45.7969 21.1875\n",
       "Q45.7969 27.6406 41.2812 31.2656\n",
       "Q36.7656 34.9062 28.7188 34.9062\n",
       "L20.2188 34.9062\n",
       "L20.2188 43.0156\n",
       "L29.1094 43.0156\n",
       "Q36.375 43.0156 40.2344 45.9219\n",
       "Q44.0938 48.8281 44.0938 54.2969\n",
       "Q44.0938 59.9062 40.1094 62.9062\n",
       "Q36.1406 65.9219 28.7188 65.9219\n",
       "Q24.6562 65.9219 20.0156 65.0312\n",
       "Q15.375 64.1562 9.8125 62.3125\n",
       "L9.8125 71.0938\n",
       "Q15.4375 72.6562 20.3438 73.4375\n",
       "Q25.25 74.2188 29.5938 74.2188\n",
       "Q40.8281 74.2188 47.3594 69.1094\n",
       "Q53.9062 64.0156 53.9062 55.3281\n",
       "Q53.9062 49.2656 50.4375 45.0938\n",
       "Q46.9688 40.9219 40.5781 39.3125\" id=\"BitstreamVeraSans-Roman-33\"/>\n",
       "      </defs>\n",
       "      <g transform=\"translate(201.94453125 246.8375)scale(0.1 -0.1)\">\n",
       "       <use xlink:href=\"#BitstreamVeraSans-Roman-33\"/>\n",
       "      </g>\n",
       "     </g>\n",
       "    </g>\n",
       "    <g id=\"xtick_5\">\n",
       "     <g id=\"line2d_11\">\n",
       "      <g>\n",
       "       <use style=\"stroke:#000000;stroke-width:0.5;\" x=\"260.14375\" xlink:href=\"#m93b0483c22\" y=\"235.2390625\"/>\n",
       "      </g>\n",
       "     </g>\n",
       "     <g id=\"line2d_12\">\n",
       "      <g>\n",
       "       <use style=\"stroke:#000000;stroke-width:0.5;\" x=\"260.14375\" xlink:href=\"#m741efc42ff\" y=\"12.0390625\"/>\n",
       "      </g>\n",
       "     </g>\n",
       "     <g id=\"text_5\">\n",
       "      <!-- 4 -->\n",
       "      <defs>\n",
       "       <path d=\"\n",
       "M37.7969 64.3125\n",
       "L12.8906 25.3906\n",
       "L37.7969 25.3906\n",
       "z\n",
       "\n",
       "M35.2031 72.9062\n",
       "L47.6094 72.9062\n",
       "L47.6094 25.3906\n",
       "L58.0156 25.3906\n",
       "L58.0156 17.1875\n",
       "L47.6094 17.1875\n",
       "L47.6094 0\n",
       "L37.7969 0\n",
       "L37.7969 17.1875\n",
       "L4.89062 17.1875\n",
       "L4.89062 26.7031\n",
       "z\n",
       "\" id=\"BitstreamVeraSans-Roman-34\"/>\n",
       "      </defs>\n",
       "      <g transform=\"translate(257.4875 246.8375)scale(0.1 -0.1)\">\n",
       "       <use xlink:href=\"#BitstreamVeraSans-Roman-34\"/>\n",
       "      </g>\n",
       "     </g>\n",
       "    </g>\n",
       "    <g id=\"xtick_6\">\n",
       "     <g id=\"line2d_13\">\n",
       "      <g>\n",
       "       <use style=\"stroke:#000000;stroke-width:0.5;\" x=\"315.94375\" xlink:href=\"#m93b0483c22\" y=\"235.2390625\"/>\n",
       "      </g>\n",
       "     </g>\n",
       "     <g id=\"line2d_14\">\n",
       "      <g>\n",
       "       <use style=\"stroke:#000000;stroke-width:0.5;\" x=\"315.94375\" xlink:href=\"#m741efc42ff\" y=\"12.0390625\"/>\n",
       "      </g>\n",
       "     </g>\n",
       "     <g id=\"text_6\">\n",
       "      <!-- 5 -->\n",
       "      <defs>\n",
       "       <path d=\"\n",
       "M10.7969 72.9062\n",
       "L49.5156 72.9062\n",
       "L49.5156 64.5938\n",
       "L19.8281 64.5938\n",
       "L19.8281 46.7344\n",
       "Q21.9688 47.4688 24.1094 47.8281\n",
       "Q26.2656 48.1875 28.4219 48.1875\n",
       "Q40.625 48.1875 47.75 41.5\n",
       "Q54.8906 34.8125 54.8906 23.3906\n",
       "Q54.8906 11.625 47.5625 5.09375\n",
       "Q40.2344 -1.42188 26.9062 -1.42188\n",
       "Q22.3125 -1.42188 17.5469 -0.640625\n",
       "Q12.7969 0.140625 7.71875 1.70312\n",
       "L7.71875 11.625\n",
       "Q12.1094 9.23438 16.7969 8.0625\n",
       "Q21.4844 6.89062 26.7031 6.89062\n",
       "Q35.1562 6.89062 40.0781 11.3281\n",
       "Q45.0156 15.7656 45.0156 23.3906\n",
       "Q45.0156 31 40.0781 35.4375\n",
       "Q35.1562 39.8906 26.7031 39.8906\n",
       "Q22.75 39.8906 18.8125 39.0156\n",
       "Q14.8906 38.1406 10.7969 36.2812\n",
       "z\n",
       "\" id=\"BitstreamVeraSans-Roman-35\"/>\n",
       "      </defs>\n",
       "      <g transform=\"translate(313.58515625 246.8375)scale(0.1 -0.1)\">\n",
       "       <use xlink:href=\"#BitstreamVeraSans-Roman-35\"/>\n",
       "      </g>\n",
       "     </g>\n",
       "    </g>\n",
       "    <g id=\"xtick_7\">\n",
       "     <g id=\"line2d_15\">\n",
       "      <g>\n",
       "       <use style=\"stroke:#000000;stroke-width:0.5;\" x=\"371.74375\" xlink:href=\"#m93b0483c22\" y=\"235.2390625\"/>\n",
       "      </g>\n",
       "     </g>\n",
       "     <g id=\"line2d_16\">\n",
       "      <g>\n",
       "       <use style=\"stroke:#000000;stroke-width:0.5;\" x=\"371.74375\" xlink:href=\"#m741efc42ff\" y=\"12.0390625\"/>\n",
       "      </g>\n",
       "     </g>\n",
       "     <g id=\"text_7\">\n",
       "      <!-- 6 -->\n",
       "      <defs>\n",
       "       <path d=\"\n",
       "M33.0156 40.375\n",
       "Q26.375 40.375 22.4844 35.8281\n",
       "Q18.6094 31.2969 18.6094 23.3906\n",
       "Q18.6094 15.5312 22.4844 10.9531\n",
       "Q26.375 6.39062 33.0156 6.39062\n",
       "Q39.6562 6.39062 43.5312 10.9531\n",
       "Q47.4062 15.5312 47.4062 23.3906\n",
       "Q47.4062 31.2969 43.5312 35.8281\n",
       "Q39.6562 40.375 33.0156 40.375\n",
       "M52.5938 71.2969\n",
       "L52.5938 62.3125\n",
       "Q48.875 64.0625 45.0938 64.9844\n",
       "Q41.3125 65.9219 37.5938 65.9219\n",
       "Q27.8281 65.9219 22.6719 59.3281\n",
       "Q17.5312 52.7344 16.7969 39.4062\n",
       "Q19.6719 43.6562 24.0156 45.9219\n",
       "Q28.375 48.1875 33.5938 48.1875\n",
       "Q44.5781 48.1875 50.9531 41.5156\n",
       "Q57.3281 34.8594 57.3281 23.3906\n",
       "Q57.3281 12.1562 50.6875 5.35938\n",
       "Q44.0469 -1.42188 33.0156 -1.42188\n",
       "Q20.3594 -1.42188 13.6719 8.26562\n",
       "Q6.98438 17.9688 6.98438 36.375\n",
       "Q6.98438 53.6562 15.1875 63.9375\n",
       "Q23.3906 74.2188 37.2031 74.2188\n",
       "Q40.9219 74.2188 44.7031 73.4844\n",
       "Q48.4844 72.75 52.5938 71.2969\" id=\"BitstreamVeraSans-Roman-36\"/>\n",
       "      </defs>\n",
       "      <g transform=\"translate(369.2265625 246.8375)scale(0.1 -0.1)\">\n",
       "       <use xlink:href=\"#BitstreamVeraSans-Roman-36\"/>\n",
       "      </g>\n",
       "     </g>\n",
       "    </g>\n",
       "   </g>\n",
       "   <g id=\"matplotlib.axis_2\">\n",
       "    <g id=\"ytick_1\">\n",
       "     <g id=\"line2d_17\">\n",
       "      <defs>\n",
       "       <path d=\"\n",
       "M0 0\n",
       "L4 0\" id=\"m728421d6d4\" style=\"stroke:#000000;stroke-width:0.5;\"/>\n",
       "      </defs>\n",
       "      <g>\n",
       "       <use style=\"stroke:#000000;stroke-width:0.5;\" x=\"36.94375\" xlink:href=\"#m728421d6d4\" y=\"235.2390625\"/>\n",
       "      </g>\n",
       "     </g>\n",
       "     <g id=\"line2d_18\">\n",
       "      <defs>\n",
       "       <path d=\"\n",
       "M0 0\n",
       "L-4 0\" id=\"mcb0005524f\" style=\"stroke:#000000;stroke-width:0.5;\"/>\n",
       "      </defs>\n",
       "      <g>\n",
       "       <use style=\"stroke:#000000;stroke-width:0.5;\" x=\"371.74375\" xlink:href=\"#mcb0005524f\" y=\"235.2390625\"/>\n",
       "      </g>\n",
       "     </g>\n",
       "     <g id=\"text_8\">\n",
       "      <!-- −100 -->\n",
       "      <defs>\n",
       "       <path d=\"\n",
       "M10.5938 35.5\n",
       "L73.1875 35.5\n",
       "L73.1875 27.2031\n",
       "L10.5938 27.2031\n",
       "z\n",
       "\" id=\"BitstreamVeraSans-Roman-2212\"/>\n",
       "      </defs>\n",
       "      <g transform=\"translate(7.2 237.9984375)scale(0.1 -0.1)\">\n",
       "       <use xlink:href=\"#BitstreamVeraSans-Roman-2212\"/>\n",
       "       <use x=\"83.7890625\" xlink:href=\"#BitstreamVeraSans-Roman-31\"/>\n",
       "       <use x=\"147.412109375\" xlink:href=\"#BitstreamVeraSans-Roman-30\"/>\n",
       "       <use x=\"211.03515625\" xlink:href=\"#BitstreamVeraSans-Roman-30\"/>\n",
       "      </g>\n",
       "     </g>\n",
       "    </g>\n",
       "    <g id=\"ytick_2\">\n",
       "     <g id=\"line2d_19\">\n",
       "      <g>\n",
       "       <use style=\"stroke:#000000;stroke-width:0.5;\" x=\"36.94375\" xlink:href=\"#m728421d6d4\" y=\"179.4390625\"/>\n",
       "      </g>\n",
       "     </g>\n",
       "     <g id=\"line2d_20\">\n",
       "      <g>\n",
       "       <use style=\"stroke:#000000;stroke-width:0.5;\" x=\"371.74375\" xlink:href=\"#mcb0005524f\" y=\"179.4390625\"/>\n",
       "      </g>\n",
       "     </g>\n",
       "     <g id=\"text_9\">\n",
       "      <!-- −50 -->\n",
       "      <g transform=\"translate(13.5625 182.1984375)scale(0.1 -0.1)\">\n",
       "       <use xlink:href=\"#BitstreamVeraSans-Roman-2212\"/>\n",
       "       <use x=\"83.7890625\" xlink:href=\"#BitstreamVeraSans-Roman-35\"/>\n",
       "       <use x=\"147.412109375\" xlink:href=\"#BitstreamVeraSans-Roman-30\"/>\n",
       "      </g>\n",
       "     </g>\n",
       "    </g>\n",
       "    <g id=\"ytick_3\">\n",
       "     <g id=\"line2d_21\">\n",
       "      <g>\n",
       "       <use style=\"stroke:#000000;stroke-width:0.5;\" x=\"36.94375\" xlink:href=\"#m728421d6d4\" y=\"123.6390625\"/>\n",
       "      </g>\n",
       "     </g>\n",
       "     <g id=\"line2d_22\">\n",
       "      <g>\n",
       "       <use style=\"stroke:#000000;stroke-width:0.5;\" x=\"371.74375\" xlink:href=\"#mcb0005524f\" y=\"123.6390625\"/>\n",
       "      </g>\n",
       "     </g>\n",
       "     <g id=\"text_10\">\n",
       "      <!-- 0 -->\n",
       "      <g transform=\"translate(27.9046875 126.3984375)scale(0.1 -0.1)\">\n",
       "       <use xlink:href=\"#BitstreamVeraSans-Roman-30\"/>\n",
       "      </g>\n",
       "     </g>\n",
       "    </g>\n",
       "    <g id=\"ytick_4\">\n",
       "     <g id=\"line2d_23\">\n",
       "      <g>\n",
       "       <use style=\"stroke:#000000;stroke-width:0.5;\" x=\"36.94375\" xlink:href=\"#m728421d6d4\" y=\"67.8390625\"/>\n",
       "      </g>\n",
       "     </g>\n",
       "     <g id=\"line2d_24\">\n",
       "      <g>\n",
       "       <use style=\"stroke:#000000;stroke-width:0.5;\" x=\"371.74375\" xlink:href=\"#mcb0005524f\" y=\"67.8390625\"/>\n",
       "      </g>\n",
       "     </g>\n",
       "     <g id=\"text_11\">\n",
       "      <!-- 50 -->\n",
       "      <g transform=\"translate(21.6546875 70.5984375)scale(0.1 -0.1)\">\n",
       "       <use xlink:href=\"#BitstreamVeraSans-Roman-35\"/>\n",
       "       <use x=\"63.623046875\" xlink:href=\"#BitstreamVeraSans-Roman-30\"/>\n",
       "      </g>\n",
       "     </g>\n",
       "    </g>\n",
       "    <g id=\"ytick_5\">\n",
       "     <g id=\"line2d_25\">\n",
       "      <g>\n",
       "       <use style=\"stroke:#000000;stroke-width:0.5;\" x=\"36.94375\" xlink:href=\"#m728421d6d4\" y=\"12.0390625\"/>\n",
       "      </g>\n",
       "     </g>\n",
       "     <g id=\"line2d_26\">\n",
       "      <g>\n",
       "       <use style=\"stroke:#000000;stroke-width:0.5;\" x=\"371.74375\" xlink:href=\"#mcb0005524f\" y=\"12.0390625\"/>\n",
       "      </g>\n",
       "     </g>\n",
       "     <g id=\"text_12\">\n",
       "      <!-- 100 -->\n",
       "      <g transform=\"translate(15.61875 14.7984375)scale(0.1 -0.1)\">\n",
       "       <use xlink:href=\"#BitstreamVeraSans-Roman-31\"/>\n",
       "       <use x=\"63.623046875\" xlink:href=\"#BitstreamVeraSans-Roman-30\"/>\n",
       "       <use x=\"127.24609375\" xlink:href=\"#BitstreamVeraSans-Roman-30\"/>\n",
       "      </g>\n",
       "     </g>\n",
       "    </g>\n",
       "   </g>\n",
       "  </g>\n",
       " </g>\n",
       " <defs>\n",
       "  <clipPath id=\"p44936d0d7c\">\n",
       "   <rect height=\"223.2\" width=\"334.8\" x=\"36.94375\" y=\"12.0390625\"/>\n",
       "  </clipPath>\n",
       " </defs>\n",
       "</svg>\n"
      ],
      "text/plain": [
       "<matplotlib.figure.Figure at 0x7f89764d0e90>"
      ]
     },
     "metadata": {},
     "output_type": "display_data"
    }
   ],
   "source": [
    "var('x')\n",
    "Mbcx = (Ra*x + Vab*3 - 36*x*x/2).subs(soln)  # M as a function of x\n",
    "fn = lambdify((x),Mbcx)   # convert moment expression to a function of one argument\n",
    "z = np.linspace(0,6)\n",
    "plt.plot(z,fn(z),[0,6],[0,0])\n",
    "plt.fill_between(z,fn(z),color='lightgrey')\n",
    "##plt.show()"
   ]
  },
  {
   "cell_type": "markdown",
   "metadata": {},
   "source": [
    "Find the locations along span *bc* of zero moment:"
   ]
  },
  {
   "cell_type": "code",
   "execution_count": 15,
   "metadata": {
    "collapsed": false
   },
   "outputs": [
    {
     "data": {
      "text/latex": [
       "$$\\left [ 0.6039, \\quad 5.001\\right ]$$"
      ],
      "text/plain": [
       "[0.6039, 5.001]"
      ]
     },
     "execution_count": 15,
     "metadata": {},
     "output_type": "execute_result"
    }
   ],
   "source": [
    "[r.n(4) for r in solve(Mbcx)]"
   ]
  },
  {
   "cell_type": "markdown",
   "metadata": {},
   "source": [
    "Find point of maximum moment and the maximum moment in the span:"
   ]
  },
  {
   "cell_type": "code",
   "execution_count": 16,
   "metadata": {
    "collapsed": false
   },
   "outputs": [
    {
     "data": {
      "text/latex": [
       "$$\\left \\{ x : \\frac{6230}{2223}\\right \\}$$"
      ],
      "text/plain": [
       "⎧   6230⎫\n",
       "⎨x: ────⎬\n",
       "⎩   2223⎭"
      ]
     },
     "execution_count": 16,
     "metadata": {},
     "output_type": "execute_result"
    }
   ],
   "source": [
    "xs = solve([Mbcx.diff(x)])\n",
    "xs"
   ]
  },
  {
   "cell_type": "code",
   "execution_count": 17,
   "metadata": {
    "collapsed": false
   },
   "outputs": [
    {
     "data": {
      "text/latex": [
       "$$\\left ( 2.803, \\quad 87.01\\right )$$"
      ],
      "text/plain": [
       "(2.803, 87.01)"
      ]
     },
     "execution_count": 17,
     "metadata": {},
     "output_type": "execute_result"
    }
   ],
   "source": [
    "xs[x].n(4), Mbcx.subs(xs).n(4)"
   ]
  },
  {
   "cell_type": "code",
   "execution_count": null,
   "metadata": {
    "collapsed": true
   },
   "outputs": [],
   "source": []
  }
 ],
 "metadata": {
  "kernelspec": {
   "display_name": "Python 2",
   "language": "python",
   "name": "python2"
  },
  "language_info": {
   "codemirror_mode": {
    "name": "ipython",
    "version": 2
   },
   "file_extension": ".py",
   "mimetype": "text/x-python",
   "name": "python",
   "nbconvert_exporter": "python",
   "pygments_lexer": "ipython2",
   "version": "2.7.6"
  }
 },
 "nbformat": 4,
 "nbformat_minor": 0
}
