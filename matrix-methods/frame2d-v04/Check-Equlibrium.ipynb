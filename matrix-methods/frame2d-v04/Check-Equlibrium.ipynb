{
 "cells": [
  {
   "cell_type": "markdown",
   "metadata": {},
   "source": [
    "## Check Equilibrium\n",
    "This notebook reads files describing a structure, and the files output by Frame2D after an\n",
    "analysis, and checks that the forces and moments on every node are in equilibrium.\n",
    "\n",
    "It does this in the simplest way possible, using quite different logic than Frame2D, resulting\n",
    "in a higher degree of confidence in the results.  It would have been better had someone else\n",
    "programmed it, but oh well ..."
   ]
  },
  {
   "cell_type": "code",
   "execution_count": 1,
   "metadata": {
    "collapsed": true
   },
   "outputs": [],
   "source": [
    "ds = 'KG82'\n",
    "lcase = 'all'\n",
    "#ds = 'l22x6'\n",
    "#lcase = 'Case-2b'\n",
    "\n",
    "def filename(basename,lc=None):\n",
    "    if lc is not None:\n",
    "        basename = lc + '/' + basename\n",
    "    return 'data/' + ds + '.d/' + basename + '.csv'\n",
    "\n",
    "def Warn(msg):\n",
    "    print('!!!!! Warning: {}'.format(msg))"
   ]
  },
  {
   "cell_type": "code",
   "execution_count": 2,
   "metadata": {
    "collapsed": true
   },
   "outputs": [],
   "source": [
    "import pandas as pd\n",
    "import math"
   ]
  },
  {
   "cell_type": "code",
   "execution_count": 3,
   "metadata": {
    "collapsed": false
   },
   "outputs": [],
   "source": [
    "class Node(object):\n",
    "    \n",
    "    def __init__(self,id,x,y):\n",
    "        self.id = id\n",
    "        self.x = x\n",
    "        self.y = y\n",
    "        self.sumFX = 0.\n",
    "        self.sumFY = 0.\n",
    "        self.sumMZ = 0."
   ]
  },
  {
   "cell_type": "code",
   "execution_count": 4,
   "metadata": {
    "collapsed": false
   },
   "outputs": [],
   "source": [
    "table = pd.read_csv(filename('nodes'))\n",
    "NODES = {}\n",
    "for i,n in table.iterrows():\n",
    "    if n.NODEID in NODES:\n",
    "        Warn(\"Node '{}' is multiply defined.\".format(n.NODEID))\n",
    "    NODES[n.NODEID] = Node(n.NODEID,float(n.X),float(n.Y))"
   ]
  },
  {
   "cell_type": "code",
   "execution_count": 5,
   "metadata": {
    "collapsed": true
   },
   "outputs": [],
   "source": [
    "class Member(object):\n",
    "    \n",
    "    def __init__(self,id,nodej,nodek):\n",
    "        self.id = id\n",
    "        self.nodej = nodej\n",
    "        self.nodek = nodek\n",
    "        \n",
    "        dx = nodek.x - nodej.x\n",
    "        dy = nodek.y - nodej.y\n",
    "        self.L = L = math.sqrt(dx*dx + dy*dy)\n",
    "        self.cosx = dx/L\n",
    "        self.cosy = dy/L"
   ]
  },
  {
   "cell_type": "code",
   "execution_count": 6,
   "metadata": {
    "collapsed": false
   },
   "outputs": [],
   "source": [
    "table = pd.read_csv(filename('members'))\n",
    "MEMBERS = {}\n",
    "for i,m in table.iterrows():\n",
    "    if m.MEMBERID in MEMBERS:\n",
    "        Warn(\"Member '{}' is multiply defined.\".format(m.MEMBERID))\n",
    "    MEMBERS[m.MEMBERID] = Member(m.MEMBERID,NODES[m.NODEJ],NODES[m.NODEK])"
   ]
  },
  {
   "cell_type": "code",
   "execution_count": 7,
   "metadata": {
    "collapsed": false
   },
   "outputs": [],
   "source": [
    "try:\n",
    "    lctable = pd.read_csv(filename('load_combinations'))\n",
    "    use_all = False\n",
    "    COMBO = {}\n",
    "    for i,row in lctable.iterrows():\n",
    "        if row.CASE == lcase:\n",
    "            COMBO[row.LOAD.lower()] = row.FACTOR\n",
    "except OSError:\n",
    "    use_all = True\n",
    "    COMBO = None\n",
    "COMBO"
   ]
  },
  {
   "cell_type": "code",
   "execution_count": 8,
   "metadata": {
    "collapsed": false
   },
   "outputs": [],
   "source": [
    "table = pd.read_csv(filename('node_loads'))\n",
    "for i,p in table.iterrows():\n",
    "    f = 1.0 if use_all else COMBO.get(p.LOAD.lower(),0.)\n",
    "    dirn = p.DIRN.upper()\n",
    "    if dirn in ['FX','FY','MZ']:\n",
    "        n = NODES[p.NODEID]\n",
    "        a = 'sum'+dirn\n",
    "        setattr(n,a,getattr(n,a,0.)+float(p.F)*f)\n",
    "    else:\n",
    "        Warn(\"Direction '{}' invalid for node '{}'.\".format(dirn,p.NODEID))"
   ]
  },
  {
   "cell_type": "code",
   "execution_count": 10,
   "metadata": {
    "collapsed": false
   },
   "outputs": [],
   "source": [
    "try:\n",
    "    table = pd.read_csv(filename('pdelta_forces',lcase))\n",
    "    for i,p in table.iterrows():\n",
    "        n = NODES[p.NODEID]\n",
    "        n.sumFX += p.FX\n",
    "        n.sumFY += p.FY\n",
    "        n.sumMZ += p.MZ\n",
    "except OSError:\n",
    "    pass"
   ]
  },
  {
   "cell_type": "code",
   "execution_count": 11,
   "metadata": {
    "collapsed": false
   },
   "outputs": [
    {
     "data": {
      "text/html": [
       "<div style=\"max-height:1000px;max-width:1500px;overflow:auto;\">\n",
       "<table border=\"1\" class=\"dataframe\">\n",
       "  <thead>\n",
       "    <tr style=\"text-align: right;\">\n",
       "      <th></th>\n",
       "      <th>NODEID</th>\n",
       "      <th>FX</th>\n",
       "      <th>FY</th>\n",
       "      <th>MZ</th>\n",
       "    </tr>\n",
       "  </thead>\n",
       "  <tbody>\n",
       "    <tr>\n",
       "      <th>0</th>\n",
       "      <td> A</td>\n",
       "      <td> -3625.020453</td>\n",
       "      <td>  989141.474477</td>\n",
       "      <td> 6.332451e+07</td>\n",
       "    </tr>\n",
       "    <tr>\n",
       "      <th>1</th>\n",
       "      <td> D</td>\n",
       "      <td>-69040.008304</td>\n",
       "      <td> 1060858.525523</td>\n",
       "      <td> 2.057977e+08</td>\n",
       "    </tr>\n",
       "    <tr>\n",
       "      <th>2</th>\n",
       "      <td> I</td>\n",
       "      <td> -2744.482817</td>\n",
       "      <td>  500000.000000</td>\n",
       "      <td>          NaN</td>\n",
       "    </tr>\n",
       "    <tr>\n",
       "      <th>3</th>\n",
       "      <td> J</td>\n",
       "      <td> -2368.101512</td>\n",
       "      <td>  500000.000000</td>\n",
       "      <td>          NaN</td>\n",
       "    </tr>\n",
       "  </tbody>\n",
       "</table>\n",
       "<p>4 rows × 4 columns</p>\n",
       "</div>"
      ],
      "text/plain": [
       "  NODEID            FX              FY            MZ\n",
       "0      A  -3625.020453   989141.474477  6.332451e+07\n",
       "1      D -69040.008304  1060858.525523  2.057977e+08\n",
       "2      I  -2744.482817   500000.000000           NaN\n",
       "3      J  -2368.101512   500000.000000           NaN\n",
       "\n",
       "[4 rows x 4 columns]"
      ]
     },
     "execution_count": 11,
     "metadata": {},
     "output_type": "execute_result"
    }
   ],
   "source": [
    "table = pd.read_csv(filename('reaction_forces',lcase))\n",
    "for i,r in table.iterrows():\n",
    "    n = NODES[r.NODEID]\n",
    "    n.sumFX += 0. if pd.isnull(r.FX) else float(r.FX)\n",
    "    n.sumFY += 0. if pd.isnull(r.FY) else float(r.FY)\n",
    "    n.sumMZ += 0. if pd.isnull(r.MZ) else float(r.MZ)\n",
    "table"
   ]
  },
  {
   "cell_type": "code",
   "execution_count": 12,
   "metadata": {
    "collapsed": false
   },
   "outputs": [
    {
     "data": {
      "text/html": [
       "<div style=\"max-height:1000px;max-width:1500px;overflow:auto;\">\n",
       "<table border=\"1\" class=\"dataframe\">\n",
       "  <thead>\n",
       "    <tr style=\"text-align: right;\">\n",
       "      <th></th>\n",
       "      <th>MEMBERID</th>\n",
       "      <th>FXJ</th>\n",
       "      <th>FYJ</th>\n",
       "      <th>MZJ</th>\n",
       "      <th>FXK</th>\n",
       "      <th>FYK</th>\n",
       "      <th>MZK</th>\n",
       "    </tr>\n",
       "  </thead>\n",
       "  <tbody>\n",
       "    <tr>\n",
       "      <th>0 </th>\n",
       "      <td> AB</td>\n",
       "      <td>  989141.474477</td>\n",
       "      <td>   3625.020453</td>\n",
       "      <td> 6.332451e+07</td>\n",
       "      <td> -989141.474477</td>\n",
       "      <td>  -3625.020453</td>\n",
       "      <td>-3.976188e+07</td>\n",
       "    </tr>\n",
       "    <tr>\n",
       "      <th>1 </th>\n",
       "      <td> BC</td>\n",
       "      <td>  450829.917117</td>\n",
       "      <td> -86071.539660</td>\n",
       "      <td>-2.365727e+08</td>\n",
       "      <td> -450829.917117</td>\n",
       "      <td>  86071.539660</td>\n",
       "      <td>-2.368208e+08</td>\n",
       "    </tr>\n",
       "    <tr>\n",
       "      <th>2 </th>\n",
       "      <td> DE</td>\n",
       "      <td> 1060858.525523</td>\n",
       "      <td>  69040.008304</td>\n",
       "      <td> 2.057977e+08</td>\n",
       "      <td>-1060858.525523</td>\n",
       "      <td> -69040.008304</td>\n",
       "      <td> 2.429624e+08</td>\n",
       "    </tr>\n",
       "    <tr>\n",
       "      <th>3 </th>\n",
       "      <td> EF</td>\n",
       "      <td>  471670.082883</td>\n",
       "      <td> 117583.181532</td>\n",
       "      <td> 3.004759e+08</td>\n",
       "      <td> -471670.082883</td>\n",
       "      <td>-117583.181532</td>\n",
       "      <td> 3.462316e+08</td>\n",
       "    </tr>\n",
       "    <tr>\n",
       "      <th>4 </th>\n",
       "      <td> IG</td>\n",
       "      <td>  500000.000000</td>\n",
       "      <td>   2744.482817</td>\n",
       "      <td> 4.639151e-08</td>\n",
       "      <td> -500000.000000</td>\n",
       "      <td>  -2744.482817</td>\n",
       "      <td> 1.783914e+07</td>\n",
       "    </tr>\n",
       "    <tr>\n",
       "      <th>5 </th>\n",
       "      <td> GH</td>\n",
       "      <td>  225000.000000</td>\n",
       "      <td>  -3243.479692</td>\n",
       "      <td>-1.783914e+07</td>\n",
       "      <td> -225000.000000</td>\n",
       "      <td>   3243.479692</td>\n",
       "      <td> 1.173612e-08</td>\n",
       "    </tr>\n",
       "    <tr>\n",
       "      <th>6 </th>\n",
       "      <td> JK</td>\n",
       "      <td>  500000.000000</td>\n",
       "      <td>   2368.101512</td>\n",
       "      <td> 3.059540e-09</td>\n",
       "      <td> -500000.000000</td>\n",
       "      <td>  -2368.101512</td>\n",
       "      <td> 1.539266e+07</td>\n",
       "    </tr>\n",
       "    <tr>\n",
       "      <th>7 </th>\n",
       "      <td> KL</td>\n",
       "      <td>  225000.000000</td>\n",
       "      <td>  -2798.665423</td>\n",
       "      <td>-1.539266e+07</td>\n",
       "      <td> -225000.000000</td>\n",
       "      <td>   2798.665423</td>\n",
       "      <td> 1.389708e-08</td>\n",
       "    </tr>\n",
       "    <tr>\n",
       "      <th>8 </th>\n",
       "      <td> CF</td>\n",
       "      <td>   90673.363911</td>\n",
       "      <td> 225829.917117</td>\n",
       "      <td> 2.368208e+08</td>\n",
       "      <td>  -90673.363911</td>\n",
       "      <td> 246670.082883</td>\n",
       "      <td>-3.462316e+08</td>\n",
       "    </tr>\n",
       "    <tr>\n",
       "      <th>9 </th>\n",
       "      <td> BE</td>\n",
       "      <td>  -90621.641809</td>\n",
       "      <td> 263311.557360</td>\n",
       "      <td> 2.763346e+08</td>\n",
       "      <td>   90621.641809</td>\n",
       "      <td> 314188.442640</td>\n",
       "      <td>-5.434382e+08</td>\n",
       "    </tr>\n",
       "    <tr>\n",
       "      <th>10</th>\n",
       "      <td> FH</td>\n",
       "      <td>  -25712.591580</td>\n",
       "      <td> 225000.000000</td>\n",
       "      <td> 0.000000e+00</td>\n",
       "      <td>   25712.591580</td>\n",
       "      <td> 225000.000000</td>\n",
       "      <td> 0.000000e+00</td>\n",
       "    </tr>\n",
       "    <tr>\n",
       "      <th>11</th>\n",
       "      <td> EG</td>\n",
       "      <td>  -38911.114770</td>\n",
       "      <td> 275000.000000</td>\n",
       "      <td> 0.000000e+00</td>\n",
       "      <td>   38911.114770</td>\n",
       "      <td> 275000.000000</td>\n",
       "      <td> 0.000000e+00</td>\n",
       "    </tr>\n",
       "    <tr>\n",
       "      <th>12</th>\n",
       "      <td> KB</td>\n",
       "      <td>   -3738.873400</td>\n",
       "      <td> 275000.000000</td>\n",
       "      <td> 0.000000e+00</td>\n",
       "      <td>    3738.873400</td>\n",
       "      <td> 275000.000000</td>\n",
       "      <td> 0.000000e+00</td>\n",
       "    </tr>\n",
       "    <tr>\n",
       "      <th>13</th>\n",
       "      <td> LC</td>\n",
       "      <td>    3399.701061</td>\n",
       "      <td> 225000.000000</td>\n",
       "      <td> 0.000000e+00</td>\n",
       "      <td>   -3399.701061</td>\n",
       "      <td> 225000.000000</td>\n",
       "      <td> 0.000000e+00</td>\n",
       "    </tr>\n",
       "  </tbody>\n",
       "</table>\n",
       "<p>14 rows × 7 columns</p>\n",
       "</div>"
      ],
      "text/plain": [
       "   MEMBERID             FXJ            FYJ           MZJ             FXK  \\\n",
       "0        AB   989141.474477    3625.020453  6.332451e+07  -989141.474477   \n",
       "1        BC   450829.917117  -86071.539660 -2.365727e+08  -450829.917117   \n",
       "2        DE  1060858.525523   69040.008304  2.057977e+08 -1060858.525523   \n",
       "3        EF   471670.082883  117583.181532  3.004759e+08  -471670.082883   \n",
       "4        IG   500000.000000    2744.482817  4.639151e-08  -500000.000000   \n",
       "5        GH   225000.000000   -3243.479692 -1.783914e+07  -225000.000000   \n",
       "6        JK   500000.000000    2368.101512  3.059540e-09  -500000.000000   \n",
       "7        KL   225000.000000   -2798.665423 -1.539266e+07  -225000.000000   \n",
       "8        CF    90673.363911  225829.917117  2.368208e+08   -90673.363911   \n",
       "9        BE   -90621.641809  263311.557360  2.763346e+08    90621.641809   \n",
       "10       FH   -25712.591580  225000.000000  0.000000e+00    25712.591580   \n",
       "11       EG   -38911.114770  275000.000000  0.000000e+00    38911.114770   \n",
       "12       KB    -3738.873400  275000.000000  0.000000e+00     3738.873400   \n",
       "13       LC     3399.701061  225000.000000  0.000000e+00    -3399.701061   \n",
       "\n",
       "              FYK           MZK  \n",
       "0    -3625.020453 -3.976188e+07  \n",
       "1    86071.539660 -2.368208e+08  \n",
       "2   -69040.008304  2.429624e+08  \n",
       "3  -117583.181532  3.462316e+08  \n",
       "4    -2744.482817  1.783914e+07  \n",
       "5     3243.479692  1.173612e-08  \n",
       "6    -2368.101512  1.539266e+07  \n",
       "7     2798.665423  1.389708e-08  \n",
       "8   246670.082883 -3.462316e+08  \n",
       "9   314188.442640 -5.434382e+08  \n",
       "10  225000.000000  0.000000e+00  \n",
       "11  275000.000000  0.000000e+00  \n",
       "12  275000.000000  0.000000e+00  \n",
       "13  225000.000000  0.000000e+00  \n",
       "\n",
       "[14 rows x 7 columns]"
      ]
     },
     "execution_count": 12,
     "metadata": {},
     "output_type": "execute_result"
    }
   ],
   "source": [
    "mtable = pd.read_csv(filename('member_end_forces',lcase))\n",
    "for i,row in mtable.iterrows():\n",
    "    m = MEMBERS[row.MEMBERID]\n",
    "    n = m.nodej\n",
    "    n.sumFX -= row.FXJ*m.cosx - row.FYJ*m.cosy\n",
    "    n.sumFY -= row.FXJ*m.cosy + row.FYJ*m.cosx\n",
    "    n.sumMZ -= row.MZJ\n",
    "    n = m.nodek\n",
    "    n.sumFX -= row.FXK*m.cosx - row.FYK*m.cosy\n",
    "    n.sumFY -= row.FXK*m.cosy + row.FYK*m.cosx\n",
    "    n.sumMZ -= row.MZK\n",
    "mtable"
   ]
  },
  {
   "cell_type": "code",
   "execution_count": 13,
   "metadata": {
    "collapsed": false
   },
   "outputs": [
    {
     "data": {
      "text/plain": [
       "(1060858.52552286, 543438242.58540702)"
      ]
     },
     "execution_count": 13,
     "metadata": {},
     "output_type": "execute_result"
    }
   ],
   "source": [
    "maxF = max([mtable[c].abs().max() for c in 'FXJ FXK FYJ FYK'.split()])\n",
    "maxM = max([mtable[c].abs().max() for c in 'MZJ MZK'.split()])\n",
    "maxF,maxM"
   ]
  },
  {
   "cell_type": "code",
   "execution_count": 14,
   "metadata": {
    "collapsed": false
   },
   "outputs": [
    {
     "data": {
      "text/html": [
       "<div style=\"max-height:1000px;max-width:1500px;overflow:auto;\">\n",
       "<table border=\"1\" class=\"dataframe\">\n",
       "  <thead>\n",
       "    <tr style=\"text-align: right;\">\n",
       "      <th></th>\n",
       "      <th>sumFX</th>\n",
       "      <th>sumFY</th>\n",
       "      <th>sumMZ</th>\n",
       "    </tr>\n",
       "    <tr>\n",
       "      <th>ID</th>\n",
       "      <th></th>\n",
       "      <th></th>\n",
       "      <th></th>\n",
       "    </tr>\n",
       "  </thead>\n",
       "  <tbody>\n",
       "    <tr>\n",
       "      <th>K</th>\n",
       "      <td> 0</td>\n",
       "      <td> 0</td>\n",
       "      <td> 0</td>\n",
       "    </tr>\n",
       "    <tr>\n",
       "      <th>J</th>\n",
       "      <td> 0</td>\n",
       "      <td> 0</td>\n",
       "      <td> 0</td>\n",
       "    </tr>\n",
       "    <tr>\n",
       "      <th>F</th>\n",
       "      <td> 0</td>\n",
       "      <td> 0</td>\n",
       "      <td> 0</td>\n",
       "    </tr>\n",
       "    <tr>\n",
       "      <th>B</th>\n",
       "      <td> 0</td>\n",
       "      <td> 0</td>\n",
       "      <td> 0</td>\n",
       "    </tr>\n",
       "    <tr>\n",
       "      <th>H</th>\n",
       "      <td> 0</td>\n",
       "      <td> 0</td>\n",
       "      <td> 0</td>\n",
       "    </tr>\n",
       "    <tr>\n",
       "      <th>C</th>\n",
       "      <td> 0</td>\n",
       "      <td> 0</td>\n",
       "      <td> 0</td>\n",
       "    </tr>\n",
       "    <tr>\n",
       "      <th>D</th>\n",
       "      <td> 0</td>\n",
       "      <td> 0</td>\n",
       "      <td> 0</td>\n",
       "    </tr>\n",
       "    <tr>\n",
       "      <th>E</th>\n",
       "      <td> 0</td>\n",
       "      <td> 0</td>\n",
       "      <td> 0</td>\n",
       "    </tr>\n",
       "    <tr>\n",
       "      <th>L</th>\n",
       "      <td> 0</td>\n",
       "      <td> 0</td>\n",
       "      <td> 0</td>\n",
       "    </tr>\n",
       "    <tr>\n",
       "      <th>A</th>\n",
       "      <td> 0</td>\n",
       "      <td> 0</td>\n",
       "      <td> 0</td>\n",
       "    </tr>\n",
       "    <tr>\n",
       "      <th>G</th>\n",
       "      <td> 0</td>\n",
       "      <td> 0</td>\n",
       "      <td> 0</td>\n",
       "    </tr>\n",
       "    <tr>\n",
       "      <th>I</th>\n",
       "      <td> 0</td>\n",
       "      <td> 0</td>\n",
       "      <td> 0</td>\n",
       "    </tr>\n",
       "  </tbody>\n",
       "</table>\n",
       "<p>12 rows × 3 columns</p>\n",
       "</div>"
      ],
      "text/plain": [
       "    sumFX  sumFY  sumMZ\n",
       "ID                     \n",
       "K       0      0      0\n",
       "J       0      0      0\n",
       "F       0      0      0\n",
       "B       0      0      0\n",
       "H       0      0      0\n",
       "C       0      0      0\n",
       "D       0      0      0\n",
       "E       0      0      0\n",
       "L       0      0      0\n",
       "A       0      0      0\n",
       "G       0      0      0\n",
       "I       0      0      0\n",
       "\n",
       "[12 rows x 3 columns]"
      ]
     },
     "execution_count": 14,
     "metadata": {},
     "output_type": "execute_result"
    }
   ],
   "source": [
    "sums = pd.DataFrame([(n.id,n.sumFX,n.sumFY,n.sumMZ) for n in NODES.values()],\n",
    "                    columns=['ID','sumFX','sumFY','sumMZ']).set_index(['ID'])\n",
    "sums\n",
    "\n",
    "lm = 1E-11\n",
    "sums['sumFX'][sums['sumFX'].abs() <= maxF*lm] = 0\n",
    "sums['sumFY'][sums['sumFY'].abs() <= maxF*lm] = 0\n",
    "sums['sumMZ'][sums['sumMZ'].abs() <= maxM*lm] = 0\n",
    "sums"
   ]
  },
  {
   "cell_type": "code",
   "execution_count": 15,
   "metadata": {
    "collapsed": false
   },
   "outputs": [
    {
     "data": {
      "text/plain": [
       "sumFX    0\n",
       "sumFY    0\n",
       "sumMZ    0\n",
       "dtype: float64"
      ]
     },
     "execution_count": 15,
     "metadata": {},
     "output_type": "execute_result"
    }
   ],
   "source": [
    "sums.abs().max()"
   ]
  },
  {
   "cell_type": "code",
   "execution_count": null,
   "metadata": {
    "collapsed": false
   },
   "outputs": [],
   "source": []
  }
 ],
 "metadata": {
  "kernelspec": {
   "display_name": "Python 3",
   "language": "python",
   "name": "python3"
  },
  "language_info": {
   "codemirror_mode": {
    "name": "ipython",
    "version": 3
   },
   "file_extension": ".py",
   "mimetype": "text/x-python",
   "name": "python",
   "nbconvert_exporter": "python",
   "pygments_lexer": "ipython3",
   "version": "3.4.3"
  },
  "widgets": {
   "state": {},
   "version": "1.1.1"
  }
 },
 "nbformat": 4,
 "nbformat_minor": 0
}
