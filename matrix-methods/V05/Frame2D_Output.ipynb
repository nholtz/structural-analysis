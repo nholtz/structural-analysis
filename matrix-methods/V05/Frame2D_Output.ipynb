{
 "cells": [
  {
   "cell_type": "markdown",
   "metadata": {},
   "source": [
    "# Write Output to CSV\n",
    "This submodule implements the writing of all input data (and eventually results, but not yet)\n",
    "to CSV files."
   ]
  },
  {
   "cell_type": "code",
   "execution_count": 1,
   "metadata": {
    "collapsed": true
   },
   "outputs": [],
   "source": [
    "from __future__ import print_function"
   ]
  },
  {
   "cell_type": "code",
   "execution_count": 2,
   "metadata": {
    "collapsed": false
   },
   "outputs": [],
   "source": [
    "from salib import extend, import_notebooks\n",
    "from Tables import Table"
   ]
  },
  {
   "cell_type": "code",
   "execution_count": 3,
   "metadata": {
    "collapsed": false
   },
   "outputs": [],
   "source": [
    "from Frame2D_Base import Frame2D\n",
    "import Frame2D_Input"
   ]
  },
  {
   "cell_type": "code",
   "execution_count": 4,
   "metadata": {
    "collapsed": true
   },
   "outputs": [],
   "source": [
    "#test:\n",
    "f = Frame2D('frame-1')\n",
    "f.input_all()"
   ]
  },
  {
   "cell_type": "markdown",
   "metadata": {
    "collapsed": false
   },
   "source": [
    "## General Table Writing\n",
    "Define a general method to write all tables.  By default, a table of a given name\n",
    "will be used from the '`self.rawdata`' object.  If table '`xxx`' does not exist\n",
    "there, it will be created by calling method '`.list_xxx()`' to generate the data,\n",
    "and formed by using the list of columns in class attribute '`.COLUMNS_xxx`'.\n",
    "\n",
    "`.list_xxx()` must return a list of tuples or dictionaries, each of these being one\n",
    "row of the table.  If a tuple, that data is obviously given in the same order as the columns.\n",
    "If a dictionary, the keys are the column names (see 'Member Loads', below)."
   ]
  },
  {
   "cell_type": "code",
   "execution_count": 5,
   "metadata": {
    "collapsed": true
   },
   "outputs": [],
   "source": [
    "@extend\n",
    "class Frame2D:\n",
    "    \n",
    "    def write_table(self,table_name,ds_name=None,prefix=None,record=True,precision=None,args=(),makedir=False):\n",
    "        t = getattr(self.rawdata,table_name,None)\n",
    "        if t is None:\n",
    "            methodname = 'list_'+table_name\n",
    "            method = getattr(self,methodname,None)\n",
    "            if method and callable(method):\n",
    "                data = method(*args)\n",
    "                t = Table(table_name,data=data,columns=getattr(self,'COLUMNS_'+table_name))\n",
    "        if t is None:\n",
    "            raise ValueError(\"Unable to find table '{}'\".format(table_name))\n",
    "        t.write(ds_name=ds_name,prefix=prefix,precision=precision,makedir=makedir)\n",
    "        if record:\n",
    "            setattr(self.rawdata,table_name,t)\n",
    "        return t            "
   ]
  },
  {
   "cell_type": "code",
   "execution_count": 6,
   "metadata": {
    "collapsed": false
   },
   "outputs": [
    {
     "name": "stdout",
     "output_type": "stream",
     "text": [
      "**** Error: Unable to find table 'foobarzx3'\n"
     ]
    }
   ],
   "source": [
    "##test:\n",
    "try:\n",
    "    f.write_table('foobarzx3')\n",
    "except Exception, e:\n",
    "    print('**** Error:',e)"
   ]
  },
  {
   "cell_type": "markdown",
   "metadata": {},
   "source": [
    "### Nodes"
   ]
  },
  {
   "cell_type": "code",
   "execution_count": 7,
   "metadata": {
    "collapsed": false
   },
   "outputs": [],
   "source": [
    " @extend\n",
    "class Frame2D:\n",
    "    \n",
    "    def list_nodes(self):\n",
    "        return [(n.id,n.x,n.y) for n in self.nodes.values()]"
   ]
  },
  {
   "cell_type": "code",
   "execution_count": 8,
   "metadata": {
    "collapsed": false
   },
   "outputs": [
    {
     "data": {
      "text/plain": [
       "'test-1.d/nodes.csv'"
      ]
     },
     "execution_count": 8,
     "metadata": {},
     "output_type": "execute_result"
    }
   ],
   "source": [
    "##test:\n",
    "t = f.write_table('nodes','test-1')\n",
    "t.file_name"
   ]
  },
  {
   "cell_type": "code",
   "execution_count": 9,
   "metadata": {
    "collapsed": false
   },
   "outputs": [
    {
     "name": "stdout",
     "output_type": "stream",
     "text": [
      "NODEID,X,Y\r\n",
      "A,0.0,0.0\r\n",
      "B,0.0,4000.0\r\n",
      "C,8000.0,4000.0\r\n",
      "D,8000.0,0.0\r\n"
     ]
    }
   ],
   "source": [
    "##test:\n",
    "%cat test-1.d/nodes.csv"
   ]
  },
  {
   "cell_type": "markdown",
   "metadata": {},
   "source": [
    "Delete the `nodes` table from `.rawdata` so that we can test that `.list_nodes()` is properly called\n",
    "to regenerated the table."
   ]
  },
  {
   "cell_type": "code",
   "execution_count": 10,
   "metadata": {
    "collapsed": false
   },
   "outputs": [
    {
     "data": {
      "text/plain": [
       "'test-1.d/nodes.csv'"
      ]
     },
     "execution_count": 10,
     "metadata": {},
     "output_type": "execute_result"
    }
   ],
   "source": [
    "##test:\n",
    "if hasattr(f.rawdata,'nodes'):\n",
    "    delattr(f.rawdata,'nodes')\n",
    "%rm test-1.d/nodes.csv\n",
    "t = f.write_table('nodes','test-1')\n",
    "t.file_name"
   ]
  },
  {
   "cell_type": "code",
   "execution_count": 11,
   "metadata": {
    "collapsed": false
   },
   "outputs": [
    {
     "name": "stdout",
     "output_type": "stream",
     "text": [
      "NODEID,X,Y\r\n",
      "A,0.0,0.0\r\n",
      "B,0.0,4000.0\r\n",
      "C,8000.0,4000.0\r\n",
      "D,8000.0,0.0\r\n"
     ]
    }
   ],
   "source": [
    "##test:\n",
    "%cat test-1.d/nodes.csv"
   ]
  },
  {
   "cell_type": "markdown",
   "metadata": {},
   "source": [
    "### Supports"
   ]
  },
  {
   "cell_type": "code",
   "execution_count": 12,
   "metadata": {
    "collapsed": false
   },
   "outputs": [],
   "source": [
    "@extend\n",
    "class Frame2D:\n",
    "    \n",
    "    def list_supports(self):\n",
    "        ans = []\n",
    "        for node in self.nodes.values():\n",
    "            if node.constraints:\n",
    "                cl = tuple(node.constraints)\n",
    "                if len(cl) < 3:\n",
    "                    cl = cl + ('',)*(3-len(cl))\n",
    "                ans.append((node.id,)+cl)\n",
    "        return ans"
   ]
  },
  {
   "cell_type": "code",
   "execution_count": 13,
   "metadata": {
    "collapsed": false
   },
   "outputs": [
    {
     "data": {
      "text/plain": [
       "[('A', 'FX', 'FY', 'MZ'), ('D', 'FX', 'FY', '')]"
      ]
     },
     "execution_count": 13,
     "metadata": {},
     "output_type": "execute_result"
    }
   ],
   "source": [
    "##test:\n",
    "f.list_supports()"
   ]
  },
  {
   "cell_type": "code",
   "execution_count": 14,
   "metadata": {
    "collapsed": false
   },
   "outputs": [
    {
     "data": {
      "text/plain": [
       "'test-1.d/supports.csv'"
      ]
     },
     "execution_count": 14,
     "metadata": {},
     "output_type": "execute_result"
    }
   ],
   "source": [
    "##test:\n",
    "t = f.write_table('supports','test-1')\n",
    "t.file_name"
   ]
  },
  {
   "cell_type": "code",
   "execution_count": 15,
   "metadata": {
    "collapsed": false
   },
   "outputs": [
    {
     "name": "stdout",
     "output_type": "stream",
     "text": [
      "NODEID,C0,C1,C2\r\n",
      "A,FX,FY,MZ\r\n",
      "D,FX,FY,\r\n"
     ]
    }
   ],
   "source": [
    "##test:\n",
    "%cat test-1.d/supports.csv"
   ]
  },
  {
   "cell_type": "code",
   "execution_count": 16,
   "metadata": {
    "collapsed": false
   },
   "outputs": [
    {
     "data": {
      "text/plain": [
       "'test-1.d/supports.csv'"
      ]
     },
     "execution_count": 16,
     "metadata": {},
     "output_type": "execute_result"
    }
   ],
   "source": [
    "##test:\n",
    "x = 'supports'\n",
    "if hasattr(f.rawdata,x):\n",
    "    delattr(f.rawdata,x)\n",
    "%rm test-1.d/supports.csv\n",
    "t = f.write_table(x,'test-1')\n",
    "t.file_name"
   ]
  },
  {
   "cell_type": "code",
   "execution_count": 17,
   "metadata": {
    "collapsed": false
   },
   "outputs": [
    {
     "name": "stdout",
     "output_type": "stream",
     "text": [
      "NODEID,C0,C1,C2\r\n",
      "A,FX,FY,MZ\r\n",
      "D,FX,FY,\r\n"
     ]
    }
   ],
   "source": [
    "##test:\n",
    "%cat test-1.d/supports.csv"
   ]
  },
  {
   "cell_type": "markdown",
   "metadata": {},
   "source": [
    "### Members"
   ]
  },
  {
   "cell_type": "code",
   "execution_count": 18,
   "metadata": {
    "collapsed": true
   },
   "outputs": [],
   "source": [
    "@extend\n",
    "class Frame2D:\n",
    "    \n",
    "    def list_members(self):\n",
    "        return [(m.id,m.nodej.id,m.nodek.id) for m in self.members.values()]"
   ]
  },
  {
   "cell_type": "code",
   "execution_count": 19,
   "metadata": {
    "collapsed": false
   },
   "outputs": [
    {
     "data": {
      "text/plain": [
       "[('AB', 'A', 'B'), ('BC', 'B', 'C'), ('CD', 'C', 'D')]"
      ]
     },
     "execution_count": 19,
     "metadata": {},
     "output_type": "execute_result"
    }
   ],
   "source": [
    "##test:\n",
    "f.list_members()"
   ]
  },
  {
   "cell_type": "code",
   "execution_count": 20,
   "metadata": {
    "collapsed": false
   },
   "outputs": [
    {
     "name": "stdout",
     "output_type": "stream",
     "text": [
      "MEMBERID,NODEJ,NODEK\r\n",
      "AB,A,B\r\n",
      "BC,B,C\r\n",
      "CD,C,D\r\n"
     ]
    }
   ],
   "source": [
    "##test:\n",
    "f.write_table('members','test-1')\n",
    "%cat test-1.d/members.csv"
   ]
  },
  {
   "cell_type": "markdown",
   "metadata": {},
   "source": [
    "### Releases"
   ]
  },
  {
   "cell_type": "code",
   "execution_count": 21,
   "metadata": {
    "collapsed": true
   },
   "outputs": [],
   "source": [
    "@extend\n",
    "class Frame2D:\n",
    "    \n",
    "    def list_releases(self):\n",
    "        return [(m.id,)+tuple(m.releases) for m in self.members.values() if m.releases]"
   ]
  },
  {
   "cell_type": "code",
   "execution_count": 22,
   "metadata": {
    "collapsed": false
   },
   "outputs": [
    {
     "data": {
      "text/plain": [
       "[('AB', 'MZK'), ('CD', 'MZJ')]"
      ]
     },
     "execution_count": 22,
     "metadata": {},
     "output_type": "execute_result"
    }
   ],
   "source": [
    "##test:\n",
    "f.list_releases()"
   ]
  },
  {
   "cell_type": "code",
   "execution_count": 23,
   "metadata": {
    "collapsed": false
   },
   "outputs": [
    {
     "name": "stdout",
     "output_type": "stream",
     "text": [
      "MEMBERID,RELEASE\r\n",
      "AB,MZK\r\n",
      "CD,MZJ\r\n"
     ]
    }
   ],
   "source": [
    "##test:\n",
    "f.write_table('releases','test-1')\n",
    "%cat test-1.d/releases.csv"
   ]
  },
  {
   "cell_type": "markdown",
   "metadata": {},
   "source": [
    "### Properties"
   ]
  },
  {
   "cell_type": "code",
   "execution_count": 24,
   "metadata": {
    "collapsed": true
   },
   "outputs": [],
   "source": [
    "@extend\n",
    "class Frame2D:\n",
    "    \n",
    "    def list_properties(self):\n",
    "        return [(m.id,m.size,m.Ix,m.A) for m in self.members.values()]"
   ]
  },
  {
   "cell_type": "code",
   "execution_count": 25,
   "metadata": {
    "collapsed": false
   },
   "outputs": [
    {
     "data": {
      "text/plain": [
       "[('AB', 'W310x97', 222000000.0, 12300.0),\n",
       " ('BC', 'W460x106', 488000000.0, 13500.0),\n",
       " ('CD', '', 222000000.0, 12300.0)]"
      ]
     },
     "execution_count": 25,
     "metadata": {},
     "output_type": "execute_result"
    }
   ],
   "source": [
    "##test:\n",
    "f.list_properties()"
   ]
  },
  {
   "cell_type": "code",
   "execution_count": 26,
   "metadata": {
    "collapsed": false
   },
   "outputs": [
    {
     "name": "stdout",
     "output_type": "stream",
     "text": [
      "MEMBERID,SIZE,IX,A\r\n",
      "BC,W460x106,488000000.0,13500.0\r\n",
      "AB,W310x97,222000000.0,12300.0\r\n",
      "CD,,222000000.0,12300.0\r\n"
     ]
    }
   ],
   "source": [
    "##test:\n",
    "f.write_table('properties','test-1')\n",
    "%cat test-1.d/properties.csv"
   ]
  },
  {
   "cell_type": "markdown",
   "metadata": {},
   "source": [
    "### Node Loads"
   ]
  },
  {
   "cell_type": "code",
   "execution_count": 27,
   "metadata": {
    "collapsed": true
   },
   "outputs": [],
   "source": [
    "@extend\n",
    "class Frame2D:\n",
    "    \n",
    "    def list_node_loads(self):\n",
    "        ans = []\n",
    "        dirns = ['FX','FY','FZ']\n",
    "        for loadid,node,nload in self.nodeloads:\n",
    "            for i in [0,1,2]:\n",
    "                if nload[i]:\n",
    "                    ans.append((loadid,node.id,dirns[i],nload[i]))\n",
    "        return ans"
   ]
  },
  {
   "cell_type": "code",
   "execution_count": 28,
   "metadata": {
    "collapsed": false
   },
   "outputs": [
    {
     "data": {
      "text/plain": [
       "[('wind', 'B', 'FX', -200000.0)]"
      ]
     },
     "execution_count": 28,
     "metadata": {},
     "output_type": "execute_result"
    }
   ],
   "source": [
    "##test:\n",
    "f.list_node_loads()"
   ]
  },
  {
   "cell_type": "code",
   "execution_count": 29,
   "metadata": {
    "collapsed": false
   },
   "outputs": [
    {
     "name": "stdout",
     "output_type": "stream",
     "text": [
      "LOAD,NODEID,DIRN,F\r\n",
      "Wind,B,FX,-200000.0\r\n"
     ]
    }
   ],
   "source": [
    "##test:\n",
    "f.write_table('node_loads','test-1')\n",
    "%cat test-1.d/node_loads.csv"
   ]
  },
  {
   "cell_type": "markdown",
   "metadata": {
    "collapsed": true
   },
   "source": [
    "### Support Displacements"
   ]
  },
  {
   "cell_type": "code",
   "execution_count": 30,
   "metadata": {
    "collapsed": false
   },
   "outputs": [],
   "source": [
    "@extend    \n",
    "class Frame2D:\n",
    "    \n",
    "    def list_support_displacements(self):\n",
    "        ans = []\n",
    "        dirns = ['DX','DY','RZ']\n",
    "        for loadid,node,nload in self.nodedeltas:\n",
    "            for i in [0,1,2]:\n",
    "                if nload[i]:\n",
    "                    ans.append((loadid,node.id,dirns[i],nload[i]))\n",
    "        return ans        "
   ]
  },
  {
   "cell_type": "code",
   "execution_count": 31,
   "metadata": {
    "collapsed": false
   },
   "outputs": [
    {
     "data": {
      "text/plain": [
       "[('other', 'A', 'DY', -10.0)]"
      ]
     },
     "execution_count": 31,
     "metadata": {},
     "output_type": "execute_result"
    }
   ],
   "source": [
    "##test:\n",
    "f.list_support_displacements()"
   ]
  },
  {
   "cell_type": "code",
   "execution_count": 32,
   "metadata": {
    "collapsed": false
   },
   "outputs": [
    {
     "name": "stdout",
     "output_type": "stream",
     "text": [
      "LOAD,NODEID,DIRN,DELTA\r\n",
      "Other,A,DY,-10\r\n"
     ]
    }
   ],
   "source": [
    "##test:\n",
    "f.write_table('support_displacements','test-1')\n",
    "%cat test-1.d/support_displacements.csv"
   ]
  },
  {
   "cell_type": "markdown",
   "metadata": {},
   "source": [
    "### Member Loads"
   ]
  },
  {
   "cell_type": "code",
   "execution_count": 33,
   "metadata": {
    "collapsed": false
   },
   "outputs": [],
   "source": [
    "from MemberLoads import unmakeMemberLoad\n",
    "\n",
    "@extend\n",
    "class Frame2D:\n",
    "    \n",
    "    def list_member_loads(self):\n",
    "        ans = []\n",
    "        for loadid,memb,mload in self.memberloads:\n",
    "            ml = unmakeMemberLoad(mload)\n",
    "            ml['MEMBERID'] = memb.id\n",
    "            ml['LOAD'] = loadid\n",
    "            ans.append(ml)\n",
    "        return ans"
   ]
  },
  {
   "cell_type": "code",
   "execution_count": 34,
   "metadata": {
    "collapsed": false
   },
   "outputs": [
    {
     "data": {
      "text/plain": [
       "[{'LOAD': 'live', 'MEMBERID': 'BC', 'TYPE': 'UDL', 'W1': -50},\n",
       " {'A': 5000.0, 'LOAD': 'live', 'MEMBERID': 'BC', 'TYPE': 'PL', 'W1': -200000}]"
      ]
     },
     "execution_count": 34,
     "metadata": {},
     "output_type": "execute_result"
    }
   ],
   "source": [
    "##test:\n",
    "f.list_member_loads()"
   ]
  },
  {
   "cell_type": "code",
   "execution_count": 35,
   "metadata": {
    "collapsed": false
   },
   "outputs": [
    {
     "name": "stdout",
     "output_type": "stream",
     "text": [
      "LOAD,MEMBERID,TYPE,W1,W2,A,B,C\r\n",
      "Live,BC,UDL,-50,,,,\r\n",
      "Live,BC,PL,-200000,,5000.0,,\r\n"
     ]
    }
   ],
   "source": [
    "##test:\n",
    "f.write_table('member_loads','test-1')\n",
    "%cat test-1.d/member_loads.csv"
   ]
  },
  {
   "cell_type": "code",
   "execution_count": 36,
   "metadata": {
    "collapsed": false
   },
   "outputs": [
    {
     "name": "stdout",
     "output_type": "stream",
     "text": [
      "LOAD,MEMBERID,TYPE,W1,W2,A,B,C\r\n",
      "live,BC,UDL,-50,,,,\r\n",
      "live,BC,PL,-200000,,5000.0,,\r\n"
     ]
    }
   ],
   "source": [
    "##test:\n",
    "if hasattr(f.rawdata,'member_loads'):\n",
    "    delattr(f.rawdata,'member_loads')\n",
    "%rm test-1.d/member_loads.csv\n",
    "f.write_table('member_loads','test-1')\n",
    "%cat test-1.d/member_loads.csv"
   ]
  },
  {
   "cell_type": "markdown",
   "metadata": {},
   "source": [
    "### Load Combinations"
   ]
  },
  {
   "cell_type": "code",
   "execution_count": 37,
   "metadata": {
    "collapsed": true
   },
   "outputs": [],
   "source": [
    "@extend\n",
    "class Frame2D:\n",
    "    \n",
    "    def list_load_combinations(self):\n",
    "        return [(case,load,factor) for case,load,factor in self.loadcombinations]"
   ]
  },
  {
   "cell_type": "code",
   "execution_count": 38,
   "metadata": {
    "collapsed": false
   },
   "outputs": [
    {
     "data": {
      "text/plain": [
       "[('one', 'live', 1.5),\n",
       " ('one', 'wind', 1.75),\n",
       " ('all', 'live', 1.0),\n",
       " ('all', 'other', 1.0),\n",
       " ('all', 'wind', 1.0)]"
      ]
     },
     "execution_count": 38,
     "metadata": {},
     "output_type": "execute_result"
    }
   ],
   "source": [
    "##test:\n",
    "f.list_load_combinations()"
   ]
  },
  {
   "cell_type": "code",
   "execution_count": 39,
   "metadata": {
    "collapsed": false
   },
   "outputs": [
    {
     "name": "stdout",
     "output_type": "stream",
     "text": [
      "CASE,LOAD,FACTOR\r\n",
      "One,Live,1.5\r\n",
      "One,Wind,1.75\r\n"
     ]
    }
   ],
   "source": [
    "##test:\n",
    "f.write_table('load_combinations','test-1')\n",
    "%cat test-1.d/load_combinations.csv"
   ]
  },
  {
   "cell_type": "markdown",
   "metadata": {},
   "source": [
    "### File Signatures"
   ]
  },
  {
   "cell_type": "code",
   "execution_count": 40,
   "metadata": {
    "collapsed": false
   },
   "outputs": [
    {
     "data": {
      "text/plain": [
       "['member_loads',\n",
       " 'releases',\n",
       " 'supports',\n",
       " 'support_displacements',\n",
       " 'load_combinations',\n",
       " 'members',\n",
       " 'nodes',\n",
       " 'node_loads',\n",
       " 'properties']"
      ]
     },
     "execution_count": 40,
     "metadata": {},
     "output_type": "execute_result"
    }
   ],
   "source": [
    "##test:\n",
    "vars(f.rawdata).keys()"
   ]
  },
  {
   "cell_type": "code",
   "execution_count": 41,
   "metadata": {
    "collapsed": true
   },
   "outputs": [],
   "source": [
    "@extend\n",
    "class Frame2D:\n",
    "    \n",
    "    COLUMNS_signatures = ['NAME','PATH','SIGNATURE']\n",
    "    \n",
    "    def list_signatures(self):\n",
    "        return [t.signature() for tn,t in vars(self.rawdata).items() if type(t) is Table]"
   ]
  },
  {
   "cell_type": "code",
   "execution_count": 42,
   "metadata": {
    "collapsed": false
   },
   "outputs": [
    {
     "data": {
      "text/plain": [
       "[('member_loads',\n",
       "  'test-1.d/member_loads.csv',\n",
       "  'a9fcdf2e2ae939fe6506ad063f92540bb9816856b51481df6be0cc2657467aa0'),\n",
       " ('releases',\n",
       "  'test-1.d/releases.csv',\n",
       "  'ae3d4681f60b6c5665cfd07a4894a01dd386cc7a51e98eb08248fc202e41e09f'),\n",
       " ('supports',\n",
       "  'test-1.d/supports.csv',\n",
       "  'c9b14f3fb0868a679912d6d5d8f23e75f89cc8accd8e9f2b1613bc9710653815'),\n",
       " ('support_displacements',\n",
       "  'test-1.d/support_displacements.csv',\n",
       "  'b475cca77a5ddcf815425514c484fcb3506195db840a9bf3006a187c9e457617'),\n",
       " ('load_combinations',\n",
       "  'test-1.d/load_combinations.csv',\n",
       "  'efe64703cadacf5f169f913b9d49dcf4c6523dd62e474cfff90782787c830310'),\n",
       " ('members',\n",
       "  'test-1.d/members.csv',\n",
       "  '783cee2e924a1f1fc738638af431671f02e25f1b97430d834a226eecd3dd09e3'),\n",
       " ('nodes',\n",
       "  'test-1.d/nodes.csv',\n",
       "  'a1c6202ec4a3f745cbde4e96c7b07ce173d14ebaeaa6956b40260053ffb34e6c'),\n",
       " ('node_loads',\n",
       "  'test-1.d/node_loads.csv',\n",
       "  'c6283d540ec54fe3f9a92ac7f0ec98e74f3e8351dc77387e3d113bc5e618ced4'),\n",
       " ('properties',\n",
       "  'test-1.d/properties.csv',\n",
       "  '4ebc2477cadb207459034659d0bf1da9b9dbb02bb06af2c060894ecb595effca')]"
      ]
     },
     "execution_count": 42,
     "metadata": {},
     "output_type": "execute_result"
    }
   ],
   "source": [
    "##test:\n",
    "f.list_signatures()"
   ]
  },
  {
   "cell_type": "code",
   "execution_count": 43,
   "metadata": {
    "collapsed": false
   },
   "outputs": [
    {
     "name": "stdout",
     "output_type": "stream",
     "text": [
      "NAME,PATH,SIGNATURE\r\n",
      "member_loads,test-1.d/member_loads.csv,a9fcdf2e2ae939fe6506ad063f92540bb9816856b51481df6be0cc2657467aa0\r\n",
      "releases,test-1.d/releases.csv,ae3d4681f60b6c5665cfd07a4894a01dd386cc7a51e98eb08248fc202e41e09f\r\n",
      "supports,test-1.d/supports.csv,c9b14f3fb0868a679912d6d5d8f23e75f89cc8accd8e9f2b1613bc9710653815\r\n",
      "support_displacements,test-1.d/support_displacements.csv,b475cca77a5ddcf815425514c484fcb3506195db840a9bf3006a187c9e457617\r\n",
      "load_combinations,test-1.d/load_combinations.csv,efe64703cadacf5f169f913b9d49dcf4c6523dd62e474cfff90782787c830310\r\n",
      "members,test-1.d/members.csv,783cee2e924a1f1fc738638af431671f02e25f1b97430d834a226eecd3dd09e3\r\n",
      "nodes,test-1.d/nodes.csv,a1c6202ec4a3f745cbde4e96c7b07ce173d14ebaeaa6956b40260053ffb34e6c\r\n",
      "node_loads,test-1.d/node_loads.csv,c6283d540ec54fe3f9a92ac7f0ec98e74f3e8351dc77387e3d113bc5e618ced4\r\n",
      "properties,test-1.d/properties.csv,4ebc2477cadb207459034659d0bf1da9b9dbb02bb06af2c060894ecb595effca\r\n"
     ]
    }
   ],
   "source": [
    "##test:\n",
    "f.write_table('signatures','test-1',record=False)\n",
    "%cat test-1.d/signatures.csv"
   ]
  },
  {
   "cell_type": "markdown",
   "metadata": {},
   "source": [
    "## Write everything"
   ]
  },
  {
   "cell_type": "code",
   "execution_count": 44,
   "metadata": {
    "collapsed": false
   },
   "outputs": [],
   "source": [
    "import os, os.path\n",
    "\n",
    "@extend\n",
    "class Frame2D:\n",
    "    \n",
    "    def write_all(self,ds_name,mkdir=False):\n",
    "        if mkdir:\n",
    "            dname = ds_name + '.d'\n",
    "            if not os.path.exists(dname):\n",
    "                os.mkdir(dname)\n",
    "        self.write_table('nodes',ds_name)\n",
    "        self.write_table('supports',ds_name)\n",
    "        self.write_table('members',ds_name)\n",
    "        self.write_table('releases',ds_name)\n",
    "        self.write_table('properties',ds_name)\n",
    "        self.write_table('node_loads',ds_name)\n",
    "        self.write_table('support_displacements',ds_name)\n",
    "        self.write_table('member_loads',ds_name)\n",
    "        self.write_table('load_combinations',ds_name)\n",
    "        self.write_table('signatures',ds_name,record=False)"
   ]
  },
  {
   "cell_type": "code",
   "execution_count": 45,
   "metadata": {
    "collapsed": false
   },
   "outputs": [
    {
     "name": "stdout",
     "output_type": "stream",
     "text": [
      "rm: cannot remove ‘test-1.d/all’: Is a directory\n",
      "rm: cannot remove ‘test-1.d/One’: Is a directory\n",
      "total 8\n",
      "drwxr-xr-x 2 nholtz nholtz 4096 Jun  3 18:02 \u001b[0m\u001b[01;34mall\u001b[0m/\n",
      "drwxr-xr-x 2 nholtz nholtz 4096 Jun  3 18:08 \u001b[01;34mOne\u001b[0m/\n",
      "total 48\n",
      "drwxr-xr-x 2 nholtz nholtz 4096 Jun  3 18:02 \u001b[0m\u001b[01;34mall\u001b[0m/\n",
      "-rw-r--r-- 1 nholtz nholtz   44 Jun  3 18:10 load_combinations.csv\n",
      "-rw-r--r-- 1 nholtz nholtz   80 Jun  3 18:10 member_loads.csv\n",
      "-rw-r--r-- 1 nholtz nholtz   42 Jun  3 18:10 members.csv\n",
      "-rw-r--r-- 1 nholtz nholtz   39 Jun  3 18:10 node_loads.csv\n",
      "-rw-r--r-- 1 nholtz nholtz   63 Jun  3 18:10 nodes.csv\n",
      "drwxr-xr-x 2 nholtz nholtz 4096 Jun  3 18:08 \u001b[01;34mOne\u001b[0m/\n",
      "-rw-r--r-- 1 nholtz nholtz  106 Jun  3 18:10 properties.csv\n",
      "-rw-r--r-- 1 nholtz nholtz   31 Jun  3 18:10 releases.csv\n",
      "-rw-r--r-- 1 nholtz nholtz  936 Jun  3 18:10 signatures.csv\n",
      "-rw-r--r-- 1 nholtz nholtz   38 Jun  3 18:10 support_displacements.csv\n",
      "-rw-r--r-- 1 nholtz nholtz   36 Jun  3 18:10 supports.csv\n"
     ]
    }
   ],
   "source": [
    "##test:\n",
    "%rm test-1.d/*\n",
    "%ls -l test-1.d\n",
    "f.reset()\n",
    "f.input_all()\n",
    "f.write_all('test-1')\n",
    "%ls -l test-1.d"
   ]
  },
  {
   "cell_type": "code",
   "execution_count": 46,
   "metadata": {
    "collapsed": false
   },
   "outputs": [
    {
     "name": "stdout",
     "output_type": "stream",
     "text": [
      "NAME,PATH,SIGNATURE\r\n",
      "member_loads,test-1.d/member_loads.csv,dd250084236a127fdd54f5003caba9d7cb980efae8bec6405ba84d899887e43f\r\n",
      "releases,test-1.d/releases.csv,ae3d4681f60b6c5665cfd07a4894a01dd386cc7a51e98eb08248fc202e41e09f\r\n",
      "supports,test-1.d/supports.csv,c9b14f3fb0868a679912d6d5d8f23e75f89cc8accd8e9f2b1613bc9710653815\r\n",
      "support_displacements,test-1.d/support_displacements.csv,b475cca77a5ddcf815425514c484fcb3506195db840a9bf3006a187c9e457617\r\n",
      "load_combinations,test-1.d/load_combinations.csv,efe64703cadacf5f169f913b9d49dcf4c6523dd62e474cfff90782787c830310\r\n",
      "members,test-1.d/members.csv,783cee2e924a1f1fc738638af431671f02e25f1b97430d834a226eecd3dd09e3\r\n",
      "nodes,test-1.d/nodes.csv,a1c6202ec4a3f745cbde4e96c7b07ce173d14ebaeaa6956b40260053ffb34e6c\r\n",
      "node_loads,test-1.d/node_loads.csv,c6283d540ec54fe3f9a92ac7f0ec98e74f3e8351dc77387e3d113bc5e618ced4\r\n",
      "properties,test-1.d/properties.csv,4ebc2477cadb207459034659d0bf1da9b9dbb02bb06af2c060894ecb595effca\r\n"
     ]
    }
   ],
   "source": [
    "##test:\n",
    "%cat test-1.d/signatures.csv"
   ]
  },
  {
   "cell_type": "markdown",
   "metadata": {
    "collapsed": true
   },
   "source": [
    "## Results Output"
   ]
  },
  {
   "cell_type": "code",
   "execution_count": 47,
   "metadata": {
    "collapsed": false
   },
   "outputs": [],
   "source": [
    "##test:\n",
    "import Frame2D_SolveFirstOrder\n",
    "f.reset()\n",
    "f.input_all()\n",
    "rs = f.solve('all')"
   ]
  },
  {
   "cell_type": "markdown",
   "metadata": {},
   "source": [
    "### Node Displacements"
   ]
  },
  {
   "cell_type": "code",
   "execution_count": 48,
   "metadata": {
    "collapsed": true
   },
   "outputs": [],
   "source": [
    "@extend\n",
    "class Frame2D:\n",
    "    \n",
    "    COLUMNS_node_displacements = ['NODEID','DX','DY','RZ']\n",
    "    \n",
    "    def list_node_displacements(self,rs):\n",
    "        if not hasattr(rs,'node_displacements'):\n",
    "            return []\n",
    "        ans = []\n",
    "        D = rs.node_displacements\n",
    "        for node in self.nodes.values():\n",
    "            d = D[node.dofnums]\n",
    "            ans.append((node.id,d[0,0],d[1,0],d[2,0]))\n",
    "        return ans"
   ]
  },
  {
   "cell_type": "code",
   "execution_count": 49,
   "metadata": {
    "collapsed": false
   },
   "outputs": [
    {
     "data": {
      "text/plain": [
       "[('A', 0.0, -10.0, 0.0),\n",
       " ('B', -96.09609609609663, -10.447154471544724, -0.016733181727309074),\n",
       " ('C', -96.09609609609663, -0.52845528455284552, 0.020493594228975075),\n",
       " ('D', 0.0, 0.0, 0.024024024024024156)]"
      ]
     },
     "execution_count": 49,
     "metadata": {},
     "output_type": "execute_result"
    }
   ],
   "source": [
    "##test:\n",
    "f.list_node_displacements(rs)"
   ]
  },
  {
   "cell_type": "code",
   "execution_count": 50,
   "metadata": {
    "collapsed": false
   },
   "outputs": [
    {
     "name": "stdout",
     "output_type": "stream",
     "text": [
      "NODEID,DX,DY,RZ\r\n",
      "A,0,-10,0\r\n",
      "B,-96.0960960960966,-10.4471544715447,-0.0167331817273091\r\n",
      "C,-96.0960960960966,-0.528455284552846,0.0204935942289751\r\n",
      "D,0,0,0.0240240240240242\r\n"
     ]
    }
   ],
   "source": [
    "##test:\n",
    "f.write_table('node_displacements',ds_name='test-1',prefix=rs.loadcase,record=False,precision=15,args=(rs,))\n",
    "%cat test-1.d/all/node_displacements.csv"
   ]
  },
  {
   "cell_type": "markdown",
   "metadata": {},
   "source": [
    "### Reaction Forces"
   ]
  },
  {
   "cell_type": "code",
   "execution_count": 51,
   "metadata": {
    "collapsed": true
   },
   "outputs": [],
   "source": [
    "@extend\n",
    "class Frame2D:\n",
    "    \n",
    "    COLUMNS_reaction_forces = ['NODEID','FX','FY','MZ']\n",
    "    \n",
    "    def list_reaction_forces(self,rs):\n",
    "        if not hasattr(rs,'reaction_forces'):\n",
    "            return []\n",
    "        R = rs.reaction_forces\n",
    "        ans = []\n",
    "        for node in self.nodes.values():\n",
    "            if node.constraints:\n",
    "                l = [node.id,None,None,None]\n",
    "                for dirn in node.constraints:\n",
    "                    i = node.DIRECTIONS[dirn]\n",
    "                    j = node.dofnums[i]\n",
    "                    val = R[j-self.nfree,0]\n",
    "                    l[i+1] = val\n",
    "                ans.append(l)\n",
    "        return ans"
   ]
  },
  {
   "cell_type": "code",
   "execution_count": 52,
   "metadata": {
    "collapsed": false
   },
   "outputs": [
    {
     "data": {
      "text/plain": [
       "[['A', 200000.00000000111, 275000.00000000559, -800000000.00000441],\n",
       " ['D', 0.0, 325000.0, None]]"
      ]
     },
     "execution_count": 52,
     "metadata": {},
     "output_type": "execute_result"
    }
   ],
   "source": [
    "##test:\n",
    "f.list_reaction_forces(rs)"
   ]
  },
  {
   "cell_type": "code",
   "execution_count": 53,
   "metadata": {
    "collapsed": false
   },
   "outputs": [
    {
     "name": "stdout",
     "output_type": "stream",
     "text": [
      "NODEID,FX,FY,FZ\r\n",
      "A,200000.000000001,275000.000000006,-800000000.000004\r\n",
      "D,0,325000,\r\n"
     ]
    }
   ],
   "source": [
    "##test:\n",
    "f.write_table('reaction_forces',ds_name='test-1',prefix=rs.loadcase,record=False,precision=15,args=(rs,))\n",
    "%cat test-1.d/all/reaction_forces.csv"
   ]
  },
  {
   "cell_type": "markdown",
   "metadata": {},
   "source": [
    "### Member End Forces"
   ]
  },
  {
   "cell_type": "code",
   "execution_count": 54,
   "metadata": {
    "collapsed": true
   },
   "outputs": [],
   "source": [
    "@extend\n",
    "class Frame2D:\n",
    "    \n",
    "    COLUMNS_member_end_forces = 'MEMBERID,FXJ,FYJ,MZJ,FXK,FYK,MZK'.split(',')\n",
    "    \n",
    "    def list_member_end_forces(self,rs):\n",
    "        if not hasattr(rs,'member_efs'):\n",
    "            return []\n",
    "        mefs = rs.member_efs\n",
    "        ans = []\n",
    "        for memb in self.members.values():\n",
    "            efs = mefs[memb].fefs\n",
    "            ans.append((memb.id,efs[0,0],efs[1,0],efs[2,0],efs[3,0],efs[4,0],efs[5,0]))\n",
    "        return ans"
   ]
  },
  {
   "cell_type": "code",
   "execution_count": 55,
   "metadata": {
    "collapsed": false
   },
   "outputs": [
    {
     "data": {
      "text/plain": [
       "[('AB',\n",
       "  275000.00000000559,\n",
       "  -200000.00000000111,\n",
       "  -800000000.00000441,\n",
       "  -275000.00000000559,\n",
       "  200000.00000000111,\n",
       "  0.0),\n",
       " ('BC', 0.0, 275000.0, 0.0, 0.0, 325000.0, -5.9604644775390625e-08),\n",
       " ('CD', 325000.0, 0.0, 0.0, -325000.0, 0.0, 0.0)]"
      ]
     },
     "execution_count": 55,
     "metadata": {},
     "output_type": "execute_result"
    }
   ],
   "source": [
    "##test:\n",
    "f.list_member_end_forces(rs)"
   ]
  },
  {
   "cell_type": "code",
   "execution_count": 56,
   "metadata": {
    "collapsed": false
   },
   "outputs": [
    {
     "name": "stdout",
     "output_type": "stream",
     "text": [
      "MEMBERID,FXJ,FYJ,MZJ,FXK,FYK,MZK\r\n",
      "AB,275000.000000006,-200000.000000001,-800000000.000004,-275000.000000006,200000.000000001,0\r\n",
      "BC,0,275000,0,0,325000,-5.96046447753906e-08\r\n",
      "CD,325000,0,0,-325000,0,0\r\n"
     ]
    }
   ],
   "source": [
    "##test:\n",
    "f.write_table('member_end_forces',ds_name='test-1',prefix=rs.loadcase,record=False,precision=15,args=(rs,))\n",
    "%cat test-1.d/all/member_end_forces.csv"
   ]
  },
  {
   "cell_type": "markdown",
   "metadata": {},
   "source": [
    "### $P-\\Delta$ Forces\n",
    "See module ```..._Display```\n",
    "\n",
    "### All Results"
   ]
  },
  {
   "cell_type": "code",
   "execution_count": 57,
   "metadata": {
    "collapsed": true
   },
   "outputs": [],
   "source": [
    "@extend\n",
    "class Frame2D:\n",
    "    \n",
    "    def write_results(self,ds_name,rs):\n",
    "        self.write_table('node_displacements',ds_name=ds_name,prefix=rs.loadcase,record=False,\n",
    "                         precision=15,args=(rs,),makedir=True)\n",
    "        self.write_table('reaction_forces',ds_name=ds_name,prefix=rs.loadcase,record=False,\n",
    "                         precision=15,args=(rs,))\n",
    "        self.write_table('member_end_forces',ds_name=ds_name,prefix=rs.loadcase,record=False,\n",
    "                         precision=15,args=(rs,))\n",
    "        if rs.pdelta:\n",
    "            self.write_table('pdelta_forces',ds_name=ds_name,prefix=rs.loadcase,record=False,\n",
    "                             precision=15,args=(rs,))\n"
   ]
  },
  {
   "cell_type": "code",
   "execution_count": 58,
   "metadata": {
    "collapsed": false
   },
   "outputs": [
    {
     "name": "stdout",
     "output_type": "stream",
     "text": [
      "total 12\n",
      "-rw-r--r-- 1 nholtz nholtz 256 Jun  3 18:10 member_end_forces.csv\n",
      "-rw-r--r-- 1 nholtz nholtz 166 Jun  3 18:10 node_displacements.csv\n",
      "-rw-r--r-- 1 nholtz nholtz 102 Jun  3 18:10 reaction_forces.csv\n",
      "NODEID,DX,DY,RZ\n",
      "A,0,0,0\n",
      "B,-168.168168168169,-0.670731707317113,-0.0269747725909636\n",
      "C,-168.168168168169,-0.792682926829268,0.0288653913434626\n",
      "D,0,0,0.0420420420420423\n",
      "NODEID,FX,FY,FZ\n",
      "A,350000.000000002,412500.000000024,-1400000000.00001\n",
      "D,-5.82076609134674e-11,487500,\n",
      "MEMBERID,FXJ,FYJ,MZJ,FXK,FYK,MZK\n",
      "AB,412500.000000024,-350000.000000002,-1400000000.00001,-412500.000000024,350000.000000002,0\n",
      "BC,0,412500,-1.19209289550781e-07,0,487500,-1.19209289550781e-07\n",
      "CD,487500,5.82076609134674e-11,0,-487500,-5.82076609134674e-11,0\n"
     ]
    }
   ],
   "source": [
    "##test:\n",
    "f.reset()\n",
    "f.input_all()\n",
    "rs = f.solve('One')\n",
    "f.write_results('test-1',rs)\n",
    "\n",
    "%ls -l test-1.d/One\n",
    "%cat test-1.d/One/node_displacements.csv\n",
    "%cat test-1.d/One/reaction_forces.csv\n",
    "%cat test-1.d/One/member_end_forces.csv"
   ]
  },
  {
   "cell_type": "code",
   "execution_count": null,
   "metadata": {
    "collapsed": true
   },
   "outputs": [],
   "source": []
  }
 ],
 "metadata": {
  "kernelspec": {
   "display_name": "Python 2",
   "language": "python",
   "name": "python2"
  },
  "language_info": {
   "codemirror_mode": {
    "name": "ipython",
    "version": 2
   },
   "file_extension": ".py",
   "mimetype": "text/x-python",
   "name": "python",
   "nbconvert_exporter": "python",
   "pygments_lexer": "ipython2",
   "version": "2.7.6"
  },
  "widgets": {
   "state": {},
   "version": "1.1.1"
  }
 },
 "nbformat": 4,
 "nbformat_minor": 0
}
