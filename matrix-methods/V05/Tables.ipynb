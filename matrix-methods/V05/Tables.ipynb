{
 "cells": [
  {
   "cell_type": "markdown",
   "metadata": {},
   "source": [
    "## Tables\n",
    "Module to simplify handling of input and output tables (as .csv files).  For now, this assumes that all files are\n",
    "archived in a directory 'xyz.d', where 'xyz' is the 'data set name'.  Eventually, we will have a way of\n",
    "archiving sets of files in .zip files."
   ]
  },
  {
   "cell_type": "code",
   "execution_count": 1,
   "metadata": {
    "collapsed": false
   },
   "outputs": [],
   "source": [
    "from __future__ import print_function\n",
    "\n",
    "import pandas as pd\n",
    "import os, os.path\n",
    "import StringIO\n",
    "import hashlib\n",
    "from IPython.core.magic import register_cell_magic\n",
    "import re"
   ]
  },
  {
   "cell_type": "code",
   "execution_count": 2,
   "metadata": {
    "collapsed": true
   },
   "outputs": [],
   "source": [
    "class Table(object):\n",
    "    \n",
    "    ROOT = 'data'\n",
    "    DSNAME = None     # default data set name\n",
    "    DSTYPE = 'dir'    # someday we will allow 'zip' for zip archives\n",
    "    #DSTYPE = 'cell'  # for CSV data provided via %%Table cell magic\n",
    "    #DSTYPE = 'data'  # for dataframe data provided directly\n",
    "    CELLDATA = {}     # csv text from %%Table magic cells, indexed by table name\n",
    "    DATAFRAMES = {}   # dataframes directly provided by client, indexed by table name\n",
    "    \n",
    "    @classmethod\n",
    "    def set_source(cls,dsname,dstype=None):\n",
    "        if dstype is None:\n",
    "            dirname = cls.ROOT + '/' + dsname + '.d'\n",
    "            if os.path.exists(dirname):\n",
    "                dstype = 'dir'\n",
    "            else:\n",
    "                dstype = 'unknown'\n",
    "        assert dstype in ['dir','cell','data']\n",
    "        cls.DSNAME = dsname\n",
    "        cls.DSTYPE = dstype\n",
    "        cls.CELLDATA = {}\n",
    "        cls.DATAFRAMES = {}\n",
    "        \n",
    "    @classmethod\n",
    "    def set_data(cls,tablename,data):\n",
    "        assert cls.DSTYPE == 'data'\n",
    "        cls.DATAFRAMES[tablename] = data\n",
    "    \n",
    "    def __init__(self,tablename,dsname=None,columns=None,indexcol=None,optional=False,data=[]):\n",
    "        if dsname is None and self.DSNAME is not None:\n",
    "            dsname = self.DSNAME\n",
    "        self.dsname = ds_name\n",
    "        self.tablename = table_name\n",
    "        self.prefix = None\n",
    "        self.filename = None\n",
    "        self.columns = columns\n",
    "        self.indexcol = index_col\n",
    "        self.optional = optional\n",
    "        self.data = pd.DataFrame(data,columns=columns)\n",
    "        \n",
    "    def _file_name(self,prefix=None):\n",
    "        self.prefix = prefix\n",
    "        n = self.tablename\n",
    "        if prefix:\n",
    "            n = prefix + '/' + self.tablename\n",
    "        return 'data/' + self.ds_name + '.d/' + n + '.csv'\n",
    "        \n",
    "    def read(self,file_name=None,optional=None):\n",
    "        if optional is None:\n",
    "            optional = self.optional\n",
    "        if self.DSTYPE == 'dir':\n",
    "            if not file_name:\n",
    "                file_name = self._file_name()\n",
    "            self.filename = file_name\n",
    "            if optional:\n",
    "                if not os.path.exists(file_name):\n",
    "                    return self.data\n",
    "            stream = file(file_name,'r')\n",
    "        elif self.DSTYPE == 'cell':\n",
    "            if optional:\n",
    "                if self.tablename not in self.CELLDATA:\n",
    "                    return self.data\n",
    "            stream = StringIO.StringIO(self.CELLDATA[self.table_name])\n",
    "        elif self.DSTYPE == 'data':\n",
    "            if optional:\n",
    "                if self.tablename not in self.DATAFRAMES:\n",
    "                    return self.data\n",
    "            self.data = self.DATAFRAMES[self.tablename]\n",
    "            return self.data\n",
    "        else:\n",
    "            raise ValueError(\"Invalid DS Type: {}\".format(self.DSTYPE))\n",
    "            \n",
    "        try:\n",
    "            self.data = pd.read_csv(stream,usecols=self.columns,index_col=self.index_col)\n",
    "        except ValueError as err:\n",
    "            msg = err.args[0]\n",
    "            if msg.endswith('is not in list'):\n",
    "                c = msg.split(\"'\")[1]\n",
    "                raise ValueError(\"'{}' is not in the set of columns in file '{}'\".format(c,file_name))\n",
    "            if msg.startswith('Index') and msg.endswith('invalid'):\n",
    "                raise ValueError(\"Index column '{}' is not in the set of columns in file '{}'\".format(self.index_col,file_name))\n",
    "            raise\n",
    "        stream.close()\n",
    "        return self.data\n",
    "    \n",
    "    def write(self,ds_name=None,precision=None,index=False,prefix=None,makedir=False):\n",
    "        if ds_name is None:\n",
    "            ds_name = self.ds_name\n",
    "        dirname = 'data/' + ds_name + '.d'\n",
    "        if makedir and not os.path.exists(dirname):\n",
    "            os.mkdir(dirname)\n",
    "        if prefix is not None:\n",
    "            dirname = dirname + '/' + prefix\n",
    "            if makedir and not os.path.exists(dirname):\n",
    "                os.mkdir(dirname)\n",
    "        self.file_name = file_name = dirname + '/' + self.table_name + '.csv'\n",
    "        float_format = None\n",
    "        if precision is not None:\n",
    "            float_format = '%.{:d}g'.format(precision)\n",
    "        self.data.to_csv(file_name,index=index,float_format=float_format)\n",
    "        return file_name\n",
    "        \n",
    "    def basename(self,file_name=None):\n",
    "        if file_name is None:\n",
    "            file_name = self.file_name\n",
    "        return os.path.basename(file_name)\n",
    "    \n",
    "    def signature(self):\n",
    "        file_name = self.file_name\n",
    "        return (self.table_name,file_name,signature(file_name))\n",
    "    \n",
    "    def __len__(self):\n",
    "        return len(self.data)\n",
    "    \n",
    "def signature(file_name):\n",
    "    f = open(file_name,mode='rb')\n",
    "    m = hashlib.sha256(f.read())\n",
    "    f.close()\n",
    "    return m.hexdigest()"
   ]
  },
  {
   "cell_type": "code",
   "execution_count": 3,
   "metadata": {
    "collapsed": false
   },
   "outputs": [],
   "source": [
    "##test:\n",
    "Table.DSNAME = 'frame-6'\n",
    "t = Table('nodes',columns=['NODEID','X','Y'])"
   ]
  },
  {
   "cell_type": "code",
   "execution_count": 4,
   "metadata": {
    "collapsed": false
   },
   "outputs": [
    {
     "data": {
      "text/html": [
       "<div>\n",
       "<table border=\"1\" class=\"dataframe\">\n",
       "  <thead>\n",
       "    <tr style=\"text-align: right;\">\n",
       "      <th></th>\n",
       "      <th>NODEID</th>\n",
       "      <th>X</th>\n",
       "      <th>Y</th>\n",
       "    </tr>\n",
       "  </thead>\n",
       "  <tbody>\n",
       "    <tr>\n",
       "      <th>0</th>\n",
       "      <td>A</td>\n",
       "      <td>0</td>\n",
       "      <td>0</td>\n",
       "    </tr>\n",
       "    <tr>\n",
       "      <th>1</th>\n",
       "      <td>B</td>\n",
       "      <td>0</td>\n",
       "      <td>4000</td>\n",
       "    </tr>\n",
       "    <tr>\n",
       "      <th>2</th>\n",
       "      <td>C</td>\n",
       "      <td>8000</td>\n",
       "      <td>4000</td>\n",
       "    </tr>\n",
       "    <tr>\n",
       "      <th>3</th>\n",
       "      <td>D</td>\n",
       "      <td>8000</td>\n",
       "      <td>0</td>\n",
       "    </tr>\n",
       "  </tbody>\n",
       "</table>\n",
       "</div>"
      ],
      "text/plain": [
       "  NODEID     X     Y\n",
       "0      A     0     0\n",
       "1      B     0  4000\n",
       "2      C  8000  4000\n",
       "3      D  8000     0"
      ]
     },
     "execution_count": 4,
     "metadata": {},
     "output_type": "execute_result"
    }
   ],
   "source": [
    "##test:\n",
    "t.read()"
   ]
  },
  {
   "cell_type": "code",
   "execution_count": 5,
   "metadata": {
    "collapsed": false
   },
   "outputs": [
    {
     "data": {
      "text/plain": [
       "4"
      ]
     },
     "execution_count": 5,
     "metadata": {},
     "output_type": "execute_result"
    }
   ],
   "source": [
    "##test:\n",
    "len(t)"
   ]
  },
  {
   "cell_type": "code",
   "execution_count": 6,
   "metadata": {
    "collapsed": false
   },
   "outputs": [
    {
     "data": {
      "text/html": [
       "<div>\n",
       "<table border=\"1\" class=\"dataframe\">\n",
       "  <thead>\n",
       "    <tr style=\"text-align: right;\">\n",
       "      <th></th>\n",
       "      <th>NODEID</th>\n",
       "      <th>X</th>\n",
       "      <th>Y</th>\n",
       "    </tr>\n",
       "  </thead>\n",
       "  <tbody>\n",
       "    <tr>\n",
       "      <th>0</th>\n",
       "      <td>A</td>\n",
       "      <td>0.000000</td>\n",
       "      <td>0.000000</td>\n",
       "    </tr>\n",
       "    <tr>\n",
       "      <th>1</th>\n",
       "      <td>B</td>\n",
       "      <td>0.000000</td>\n",
       "      <td>1333.333333</td>\n",
       "    </tr>\n",
       "    <tr>\n",
       "      <th>2</th>\n",
       "      <td>C</td>\n",
       "      <td>2666.666667</td>\n",
       "      <td>1333.333333</td>\n",
       "    </tr>\n",
       "    <tr>\n",
       "      <th>3</th>\n",
       "      <td>D</td>\n",
       "      <td>2666.666667</td>\n",
       "      <td>0.000000</td>\n",
       "    </tr>\n",
       "  </tbody>\n",
       "</table>\n",
       "</div>"
      ],
      "text/plain": [
       "  NODEID            X            Y\n",
       "0      A     0.000000     0.000000\n",
       "1      B     0.000000  1333.333333\n",
       "2      C  2666.666667  1333.333333\n",
       "3      D  2666.666667     0.000000"
      ]
     },
     "execution_count": 6,
     "metadata": {},
     "output_type": "execute_result"
    }
   ],
   "source": [
    "##test:\n",
    "t.data.loc[:,['X','Y']] /= 3.\n",
    "t.data"
   ]
  },
  {
   "cell_type": "code",
   "execution_count": 7,
   "metadata": {
    "collapsed": false
   },
   "outputs": [
    {
     "data": {
      "text/plain": [
       "'data/frame-6.d/out/nodes.csv'"
      ]
     },
     "execution_count": 7,
     "metadata": {},
     "output_type": "execute_result"
    }
   ],
   "source": [
    "##test:\n",
    "t.write(precision=7,prefix='out',makedir=True)"
   ]
  },
  {
   "cell_type": "code",
   "execution_count": 8,
   "metadata": {
    "collapsed": false
   },
   "outputs": [
    {
     "data": {
      "text/plain": [
       "('nodes',\n",
       " 'data/frame-6.d/out/nodes.csv',\n",
       " '71080f20c6f926bb9ef71cfe01103ed5e3ba618bb305f713e26194198220ecce')"
      ]
     },
     "execution_count": 8,
     "metadata": {},
     "output_type": "execute_result"
    }
   ],
   "source": [
    "##test:\n",
    "t.signature()"
   ]
  },
  {
   "cell_type": "code",
   "execution_count": 9,
   "metadata": {
    "collapsed": false
   },
   "outputs": [
    {
     "data": {
      "text/plain": [
       "{'columns': ['NODEID', 'X', 'Y'], 'data':   NODEID            X            Y\n",
       " 0      A     0.000000     0.000000\n",
       " 1      B     0.000000  1333.333333\n",
       " 2      C  2666.666667  1333.333333\n",
       " 3      D  2666.666667     0.000000, 'ds_name': 'frame-6', 'file_name': 'data/frame-6.d/out/nodes.csv', 'index_col': None, 'optional': False, 'prefix': None, 'table_name': 'nodes'}"
      ]
     },
     "execution_count": 9,
     "metadata": {},
     "output_type": "execute_result"
    }
   ],
   "source": [
    "##test:\n",
    "vars(t)"
   ]
  },
  {
   "cell_type": "code",
   "execution_count": 10,
   "metadata": {
    "collapsed": false
   },
   "outputs": [
    {
     "data": {
      "text/html": [
       "<div>\n",
       "<table border=\"1\" class=\"dataframe\">\n",
       "  <thead>\n",
       "    <tr style=\"text-align: right;\">\n",
       "      <th></th>\n",
       "      <th>NODEID</th>\n",
       "      <th>X</th>\n",
       "      <th>Y</th>\n",
       "    </tr>\n",
       "  </thead>\n",
       "  <tbody>\n",
       "    <tr>\n",
       "      <th>0</th>\n",
       "      <td>A</td>\n",
       "      <td>0</td>\n",
       "      <td>0</td>\n",
       "    </tr>\n",
       "    <tr>\n",
       "      <th>1</th>\n",
       "      <td>B</td>\n",
       "      <td>0</td>\n",
       "      <td>4000</td>\n",
       "    </tr>\n",
       "    <tr>\n",
       "      <th>2</th>\n",
       "      <td>C</td>\n",
       "      <td>8000</td>\n",
       "      <td>4000</td>\n",
       "    </tr>\n",
       "    <tr>\n",
       "      <th>3</th>\n",
       "      <td>D</td>\n",
       "      <td>8000</td>\n",
       "      <td>0</td>\n",
       "    </tr>\n",
       "  </tbody>\n",
       "</table>\n",
       "</div>"
      ],
      "text/plain": [
       "  NODEID     X     Y\n",
       "0      A     0     0\n",
       "1      B     0  4000\n",
       "2      C  8000  4000\n",
       "3      D  8000     0"
      ]
     },
     "execution_count": 10,
     "metadata": {},
     "output_type": "execute_result"
    }
   ],
   "source": [
    "##test:\n",
    "t.read()"
   ]
  },
  {
   "cell_type": "code",
   "execution_count": 11,
   "metadata": {
    "collapsed": false
   },
   "outputs": [
    {
     "data": {
      "text/plain": [
       "{'columns': ['NODEID', 'X', 'Y'], 'data':   NODEID     X     Y\n",
       " 0      A     0     0\n",
       " 1      B     0  4000\n",
       " 2      C  8000  4000\n",
       " 3      D  8000     0, 'ds_name': 'frame-6', 'file_name': 'data/frame-6.d/nodes.csv', 'index_col': None, 'optional': False, 'prefix': None, 'table_name': 'nodes'}"
      ]
     },
     "execution_count": 11,
     "metadata": {},
     "output_type": "execute_result"
    }
   ],
   "source": [
    "##test:\n",
    "vars(t)"
   ]
  },
  {
   "cell_type": "code",
   "execution_count": 12,
   "metadata": {
    "collapsed": true
   },
   "outputs": [],
   "source": [
    "@register_cell_magic('Table')\n",
    "def cell_table(line,cell):\n",
    "    mo = re.match(r'\\s*(\\S+)\\s*$',line)\n",
    "    if not mo:\n",
    "        raise ValueError('Usage: %%Table tablename')\n",
    "    table_name = mo.group(1)\n",
    "    global Table\n",
    "    Table.DSTYPE = 'cell'\n",
    "    Table.CELLDATA[table_name] = cell"
   ]
  },
  {
   "cell_type": "code",
   "execution_count": 13,
   "metadata": {
    "collapsed": false
   },
   "outputs": [],
   "source": [
    "%%Table nodes\n",
    "NODEID,X,Y,Z\n",
    "A,0,0,5000\n",
    "B,0,4000,5000\n",
    "C,8000,4000,5000\n",
    "D,8000,0,5000"
   ]
  },
  {
   "cell_type": "code",
   "execution_count": 14,
   "metadata": {
    "collapsed": false
   },
   "outputs": [
    {
     "data": {
      "text/plain": [
       "'cell'"
      ]
     },
     "execution_count": 14,
     "metadata": {},
     "output_type": "execute_result"
    }
   ],
   "source": [
    "##test:\n",
    "Table.DSTYPE"
   ]
  },
  {
   "cell_type": "code",
   "execution_count": 15,
   "metadata": {
    "collapsed": false
   },
   "outputs": [
    {
     "data": {
      "text/plain": [
       "{u'nodes': u'NODEID,X,Y,Z\\nA,0,0,5000\\nB,0,4000,5000\\nC,8000,4000,5000\\nD,8000,0,5000'}"
      ]
     },
     "execution_count": 15,
     "metadata": {},
     "output_type": "execute_result"
    }
   ],
   "source": [
    "##test:\n",
    "Table.CELLDATA"
   ]
  },
  {
   "cell_type": "code",
   "execution_count": 16,
   "metadata": {
    "collapsed": false
   },
   "outputs": [
    {
     "data": {
      "text/html": [
       "<div>\n",
       "<table border=\"1\" class=\"dataframe\">\n",
       "  <thead>\n",
       "    <tr style=\"text-align: right;\">\n",
       "      <th></th>\n",
       "      <th>NODEID</th>\n",
       "      <th>Y</th>\n",
       "      <th>Z</th>\n",
       "    </tr>\n",
       "  </thead>\n",
       "  <tbody>\n",
       "    <tr>\n",
       "      <th>0</th>\n",
       "      <td>A</td>\n",
       "      <td>0</td>\n",
       "      <td>5000</td>\n",
       "    </tr>\n",
       "    <tr>\n",
       "      <th>1</th>\n",
       "      <td>B</td>\n",
       "      <td>4000</td>\n",
       "      <td>5000</td>\n",
       "    </tr>\n",
       "    <tr>\n",
       "      <th>2</th>\n",
       "      <td>C</td>\n",
       "      <td>4000</td>\n",
       "      <td>5000</td>\n",
       "    </tr>\n",
       "    <tr>\n",
       "      <th>3</th>\n",
       "      <td>D</td>\n",
       "      <td>0</td>\n",
       "      <td>5000</td>\n",
       "    </tr>\n",
       "  </tbody>\n",
       "</table>\n",
       "</div>"
      ],
      "text/plain": [
       "  NODEID     Y     Z\n",
       "0      A     0  5000\n",
       "1      B  4000  5000\n",
       "2      C  4000  5000\n",
       "3      D     0  5000"
      ]
     },
     "execution_count": 16,
     "metadata": {},
     "output_type": "execute_result"
    }
   ],
   "source": [
    "##test:\n",
    "t = Table('nodes',columns=['NODEID','Y','Z'])\n",
    "t.read()"
   ]
  },
  {
   "cell_type": "code",
   "execution_count": 17,
   "metadata": {
    "collapsed": false
   },
   "outputs": [
    {
     "data": {
      "text/html": [
       "<div>\n",
       "<table border=\"1\" class=\"dataframe\">\n",
       "  <thead>\n",
       "    <tr style=\"text-align: right;\">\n",
       "      <th></th>\n",
       "      <th>NODEID</th>\n",
       "      <th>Y</th>\n",
       "      <th>Z</th>\n",
       "    </tr>\n",
       "  </thead>\n",
       "  <tbody>\n",
       "    <tr>\n",
       "      <th>0</th>\n",
       "      <td>A</td>\n",
       "      <td>0</td>\n",
       "      <td>5000</td>\n",
       "    </tr>\n",
       "    <tr>\n",
       "      <th>1</th>\n",
       "      <td>B</td>\n",
       "      <td>4000</td>\n",
       "      <td>5000</td>\n",
       "    </tr>\n",
       "    <tr>\n",
       "      <th>2</th>\n",
       "      <td>C</td>\n",
       "      <td>4000</td>\n",
       "      <td>5000</td>\n",
       "    </tr>\n",
       "    <tr>\n",
       "      <th>3</th>\n",
       "      <td>D</td>\n",
       "      <td>0</td>\n",
       "      <td>5000</td>\n",
       "    </tr>\n",
       "  </tbody>\n",
       "</table>\n",
       "</div>"
      ],
      "text/plain": [
       "  NODEID     Y     Z\n",
       "0      A     0  5000\n",
       "1      B  4000  5000\n",
       "2      C  4000  5000\n",
       "3      D     0  5000"
      ]
     },
     "execution_count": 17,
     "metadata": {},
     "output_type": "execute_result"
    }
   ],
   "source": [
    "##test:\n",
    "Table.set_source('xxx','data')\n",
    "Table.set_data('nodes',t.data)\n",
    "tt = Table('nodes',columns=['NODEID','Y','Z'])\n",
    "tt.read()"
   ]
  },
  {
   "cell_type": "code",
   "execution_count": 19,
   "metadata": {
    "collapsed": true
   },
   "outputs": [],
   "source": [
    "##test:\n",
    "tt.file_name"
   ]
  },
  {
   "cell_type": "code",
   "execution_count": 20,
   "metadata": {
    "collapsed": false
   },
   "outputs": [
    {
     "data": {
      "text/plain": [
       "{'columns': ['NODEID', 'Y', 'Z'], 'data':   NODEID     Y     Z\n",
       " 0      A     0  5000\n",
       " 1      B  4000  5000\n",
       " 2      C  4000  5000\n",
       " 3      D     0  5000, 'ds_name': 'xxx', 'file_name': None, 'index_col': None, 'optional': False, 'prefix': None, 'table_name': 'nodes'}"
      ]
     },
     "execution_count": 20,
     "metadata": {},
     "output_type": "execute_result"
    }
   ],
   "source": [
    "##test:\n",
    "vars(tt)"
   ]
  },
  {
   "cell_type": "code",
   "execution_count": null,
   "metadata": {
    "collapsed": true
   },
   "outputs": [],
   "source": []
  }
 ],
 "metadata": {
  "kernelspec": {
   "display_name": "Python 2",
   "language": "python",
   "name": "python2"
  },
  "language_info": {
   "codemirror_mode": {
    "name": "ipython",
    "version": 2
   },
   "file_extension": ".py",
   "mimetype": "text/x-python",
   "name": "python",
   "nbconvert_exporter": "python",
   "pygments_lexer": "ipython2",
   "version": "2.7.6"
  },
  "widgets": {
   "state": {},
   "version": "1.1.1"
  }
 },
 "nbformat": 4,
 "nbformat_minor": 0
}
