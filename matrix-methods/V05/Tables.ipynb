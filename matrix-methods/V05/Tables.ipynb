{
 "cells": [
  {
   "cell_type": "markdown",
   "metadata": {},
   "source": [
    "## Tables\n",
    "Module to simplify handling of input and output tables (as .csv files).  For now, this assumes that all files are\n",
    "archived in a directory 'xyz.d', where 'xyz' is the 'data set name'.  Eventually, we will have a way of\n",
    "archiving sets of files in .zip files."
   ]
  },
  {
   "cell_type": "code",
   "execution_count": 1,
   "metadata": {
    "collapsed": false
   },
   "outputs": [],
   "source": [
    "from __future__ import print_function\n",
    "\n",
    "import pandas as pd\n",
    "import os, os.path\n",
    "import StringIO\n",
    "import hashlib\n",
    "from IPython.core.magic import register_cell_magic\n",
    "import re"
   ]
  },
  {
   "cell_type": "code",
   "execution_count": 2,
   "metadata": {
    "collapsed": false
   },
   "outputs": [],
   "source": [
    "class Table(pd.DataFrame):\n",
    "    \n",
    "    _internal_names = pd.DataFrame._internal_names + ['filename']\n",
    "    _internal_names_set = set(_internal_names)\n",
    "    \n",
    "    _metadata = ['tablename','dsname']\n",
    "            \n",
    "    def __init__(self,*args,**kwargs):\n",
    "        dsname = kwargs.pop('dsname',None)\n",
    "        tablename = kwargs.pop('tablename',None)\n",
    "        filename = kwargs.pop('filename',None)\n",
    "        super(self.__class__,self).__init__(*args,**kwargs)\n",
    "        if dsname is not None:\n",
    "            self.dsname = dsname\n",
    "        if tablename is not None:\n",
    "            self.tablename = tablename\n",
    "        if filename is not None:\n",
    "            self.filename = filename\n",
    "        \n",
    "    @property\n",
    "    def _constructor(self):\n",
    "        return self.__class__"
   ]
  },
  {
   "cell_type": "code",
   "execution_count": 3,
   "metadata": {
    "collapsed": false
   },
   "outputs": [],
   "source": [
    "class DataSet(object):    \n",
    "    \n",
    "    ROOT = 'data'\n",
    "    DSNAME = None     # default data set name\n",
    "    DSTYPE = 'dir'    # someday we will allow 'zip' for zip archives\n",
    "    #DSTYPE = 'cell'  # for CSV data provided via %%Table cell magic\n",
    "    #DSTYPE = 'data'  # for dataframe data provided directly\n",
    "    CELLDATA = {}     # csv text from %%Table magic cells, indexed by table name\n",
    "    DATATABLES = {}   # dataframes directly provided by client, indexed by table name\n",
    "    \n",
    "    def __init__(self):\n",
    "        raise NotImplementedError(\"Cannot create instance of class '{}'\".format(self.__class__.__name__))\n",
    "    \n",
    "    @classmethod\n",
    "    def set_root(cls,root):\n",
    "        assert os.path.exists(root)\n",
    "        cls.ROOT = root\n",
    "    \n",
    "    @classmethod\n",
    "    def set_source(cls,dsname,dstype=None):\n",
    "        if dstype is None:\n",
    "            dirname = self.root + '/' + dsname + '.d'\n",
    "            if os.path.exists(dirname):\n",
    "                dstype = 'dir'\n",
    "            else:\n",
    "                dstype = 'unknown'\n",
    "        assert dstype in ['dir','cell','data']\n",
    "        cls.DSNAME = dsname\n",
    "        cls.DSTYPE = dstype\n",
    "        cls.CELLDATA = {}\n",
    "        cls.DATATABLES = {}\n",
    "        \n",
    "    @classmethod\n",
    "    def set_data(cls,tablename,table):\n",
    "        cls.DATATABLES[tablename] = table\n",
    "        if tablename in cls.CELLDATA:\n",
    "            del cls.CELLDATA[tablename]\n",
    "            \n",
    "    @classmethod\n",
    "    def set_cell(cls,tablename,celltext):\n",
    "        cls.CELLDATA[tablename] = celltext\n",
    "        if tablename in cls.DATATABLES:\n",
    "            del cls.DATATABLES[tablename]\n",
    "            \n",
    "    @classmethod\n",
    "    def _file_name(cls,tablename,prefix=None):\n",
    "        n = tablename\n",
    "        if prefix:\n",
    "            n = prefix + '/' + tablename\n",
    "        return cls.ROOT + '/' + cls.DSNAME + '.d/' + n + '.csv'\n",
    "    \n",
    "    @classmethod\n",
    "    def get_table(cls,tablename,optional=False,prefix=None,columns=None,extrasok=True):\n",
    "        stream = None\n",
    "        filename = None\n",
    "        t = None\n",
    "        if tablename in cls.DATATABLES:\n",
    "            t = cls.DATATABLES[tablename]\n",
    "        else:\n",
    "            if tablename in cls.CELLDATA:\n",
    "                stream = StringIO.StringIO(cls.CELLDATA[tablename])\n",
    "            else:\n",
    "                filename = cls._file_name(tablename,prefix=prefix)\n",
    "                if os.path.exists(filename):\n",
    "                    stream = file(filename,'r')\n",
    "            if stream is None:\n",
    "                if optional:\n",
    "                    d = pd.DataFrame(columns=columns)\n",
    "                else:\n",
    "                    raise ValueError(\"Table '{}' does not exist.\".format(tablename))\n",
    "            else:\n",
    "                d = pd.read_csv(stream,index_col=None,skipinitialspace=True)\n",
    "            t = Table(d,dsname=cls.DSNAME,tablename=tablename,filename=filename)\n",
    "\n",
    "        if columns is None:\n",
    "            return t\n",
    "        prov = set(t.columns)\n",
    "        reqd = set(columns)\n",
    "        if reqd-prov:\n",
    "            raise ValueError(\"Columns missing for table '{}': {}. Required columns are: {}\"\n",
    "                             .format(tablename,list(reqd-prov),columns))\n",
    "        if prov-reqd:\n",
    "            if not extrasok:\n",
    "                raise ValueError(\"Extra columns for table '{}': {}. Required columns are: '{}'\"\n",
    "                                .format(tablename,list(prov-reqd),columns))\n",
    "            t = t[columns]\n",
    "        return t\n",
    "    \n",
    "    def write(self,ds_name=None,precision=None,index=False,prefix=None,makedir=False):\n",
    "        if ds_name is None:\n",
    "            ds_name = self.ds_name\n",
    "        dirname = 'data/' + ds_name + '.d'\n",
    "        if makedir and not os.path.exists(dirname):\n",
    "            os.mkdir(dirname)\n",
    "        if prefix is not None:\n",
    "            dirname = dirname + '/' + prefix\n",
    "            if makedir and not os.path.exists(dirname):\n",
    "                os.mkdir(dirname)\n",
    "        self.file_name = file_name = dirname + '/' + self.table_name + '.csv'\n",
    "        float_format = None\n",
    "        if precision is not None:\n",
    "            float_format = '%.{:d}g'.format(precision)\n",
    "        self.data.to_csv(file_name,index=index,float_format=float_format)\n",
    "        return file_name\n",
    "        \n",
    "    def basename(self,file_name=None):\n",
    "        if file_name is None:\n",
    "            file_name = self.file_name\n",
    "        return os.path.basename(file_name)\n",
    "    \n",
    "    def signature(self):\n",
    "        file_name = self.file_name\n",
    "        return (self.table_name,file_name,signature(file_name))\n",
    "    \n",
    "    def __len__(self):\n",
    "        return len(self.data)\n",
    "    \n",
    "def signature(file_name):\n",
    "    f = open(file_name,mode='rb')\n",
    "    m = hashlib.sha256(f.read())\n",
    "    f.close()\n",
    "    return m.hexdigest()"
   ]
  },
  {
   "cell_type": "code",
   "execution_count": 4,
   "metadata": {
    "collapsed": false
   },
   "outputs": [
    {
     "data": {
      "text/html": [
       "<div>\n",
       "<table border=\"1\" class=\"dataframe\">\n",
       "  <thead>\n",
       "    <tr style=\"text-align: right;\">\n",
       "      <th></th>\n",
       "      <th>NODEID</th>\n",
       "      <th>X</th>\n",
       "      <th>Y</th>\n",
       "      <th>Z</th>\n",
       "    </tr>\n",
       "  </thead>\n",
       "  <tbody>\n",
       "    <tr>\n",
       "      <th>0</th>\n",
       "      <td>A</td>\n",
       "      <td>0</td>\n",
       "      <td>0</td>\n",
       "      <td>5000</td>\n",
       "    </tr>\n",
       "    <tr>\n",
       "      <th>1</th>\n",
       "      <td>B</td>\n",
       "      <td>0</td>\n",
       "      <td>4000</td>\n",
       "      <td>5000</td>\n",
       "    </tr>\n",
       "    <tr>\n",
       "      <th>2</th>\n",
       "      <td>C</td>\n",
       "      <td>8000</td>\n",
       "      <td>4000</td>\n",
       "      <td>5000</td>\n",
       "    </tr>\n",
       "    <tr>\n",
       "      <th>3</th>\n",
       "      <td>D</td>\n",
       "      <td>8000</td>\n",
       "      <td>0</td>\n",
       "      <td>5000</td>\n",
       "    </tr>\n",
       "  </tbody>\n",
       "</table>\n",
       "</div>"
      ],
      "text/plain": [
       "  NODEID     X     Y     Z\n",
       "0      A     0     0  5000\n",
       "1      B     0  4000  5000\n",
       "2      C  8000  4000  5000\n",
       "3      D  8000     0  5000"
      ]
     },
     "execution_count": 4,
     "metadata": {},
     "output_type": "execute_result"
    }
   ],
   "source": [
    "##test:\n",
    "DataSet.DSNAME = 'frame-6'\n",
    "t = DataSet.get_table('nodes')\n",
    "t"
   ]
  },
  {
   "cell_type": "code",
   "execution_count": 5,
   "metadata": {
    "collapsed": false
   },
   "outputs": [
    {
     "data": {
      "text/plain": [
       "__main__.Table"
      ]
     },
     "execution_count": 5,
     "metadata": {},
     "output_type": "execute_result"
    }
   ],
   "source": [
    "##test:\n",
    "type(t)"
   ]
  },
  {
   "cell_type": "code",
   "execution_count": 6,
   "metadata": {
    "collapsed": false
   },
   "outputs": [
    {
     "data": {
      "text/html": [
       "<div>\n",
       "<table border=\"1\" class=\"dataframe\">\n",
       "  <thead>\n",
       "    <tr style=\"text-align: right;\">\n",
       "      <th></th>\n",
       "      <th>NODEID</th>\n",
       "      <th>X</th>\n",
       "      <th>Y</th>\n",
       "      <th>Z</th>\n",
       "    </tr>\n",
       "  </thead>\n",
       "  <tbody>\n",
       "    <tr>\n",
       "      <th>0</th>\n",
       "      <td>A</td>\n",
       "      <td>0.000000</td>\n",
       "      <td>0.000000</td>\n",
       "      <td>5000</td>\n",
       "    </tr>\n",
       "    <tr>\n",
       "      <th>1</th>\n",
       "      <td>B</td>\n",
       "      <td>0.000000</td>\n",
       "      <td>1333.333333</td>\n",
       "      <td>5000</td>\n",
       "    </tr>\n",
       "    <tr>\n",
       "      <th>2</th>\n",
       "      <td>C</td>\n",
       "      <td>2666.666667</td>\n",
       "      <td>1333.333333</td>\n",
       "      <td>5000</td>\n",
       "    </tr>\n",
       "    <tr>\n",
       "      <th>3</th>\n",
       "      <td>D</td>\n",
       "      <td>2666.666667</td>\n",
       "      <td>0.000000</td>\n",
       "      <td>5000</td>\n",
       "    </tr>\n",
       "  </tbody>\n",
       "</table>\n",
       "</div>"
      ],
      "text/plain": [
       "  NODEID            X            Y     Z\n",
       "0      A     0.000000     0.000000  5000\n",
       "1      B     0.000000  1333.333333  5000\n",
       "2      C  2666.666667  1333.333333  5000\n",
       "3      D  2666.666667     0.000000  5000"
      ]
     },
     "execution_count": 6,
     "metadata": {},
     "output_type": "execute_result"
    }
   ],
   "source": [
    "##test:\n",
    "t.loc[:,['X','Y']] /= 3.\n",
    "t"
   ]
  },
  {
   "cell_type": "code",
   "execution_count": 7,
   "metadata": {
    "collapsed": false
   },
   "outputs": [
    {
     "data": {
      "text/plain": [
       "__main__.Table"
      ]
     },
     "execution_count": 7,
     "metadata": {},
     "output_type": "execute_result"
    }
   ],
   "source": [
    "##test:\n",
    "type(t)"
   ]
  },
  {
   "cell_type": "code",
   "execution_count": 8,
   "metadata": {
    "collapsed": false
   },
   "outputs": [
    {
     "data": {
      "text/plain": [
       "{'_data': BlockManager\n",
       " Items: Index([u'NODEID', u'X', u'Y', u'Z'], dtype='object')\n",
       " Axis 1: RangeIndex(start=0, stop=4, step=1)\n",
       " IntBlock: slice(3, 4, 1), 1 x 4, dtype: int64\n",
       " ObjectBlock: slice(0, 1, 1), 1 x 4, dtype: object\n",
       " FloatBlock: slice(1, 2, 1), 1 x 4, dtype: float64\n",
       " FloatBlock: slice(2, 3, 1), 1 x 4, dtype: float64,\n",
       " '_iloc': <pandas.core.indexing._iLocIndexer at 0x7fde07bca3d0>,\n",
       " '_item_cache': {},\n",
       " '_loc': <pandas.core.indexing._LocIndexer at 0x7fde07bcad90>,\n",
       " 'dsname': 'frame-6',\n",
       " 'filename': 'data/frame-6.d/nodes.csv',\n",
       " 'is_copy': None,\n",
       " 'tablename': 'nodes'}"
      ]
     },
     "execution_count": 8,
     "metadata": {},
     "output_type": "execute_result"
    }
   ],
   "source": [
    "##test:\n",
    "vars(t)"
   ]
  },
  {
   "cell_type": "code",
   "execution_count": 9,
   "metadata": {
    "collapsed": false
   },
   "outputs": [
    {
     "data": {
      "text/html": [
       "<div>\n",
       "<table border=\"1\" class=\"dataframe\">\n",
       "  <thead>\n",
       "    <tr style=\"text-align: right;\">\n",
       "      <th></th>\n",
       "      <th>NODEID</th>\n",
       "      <th>Y</th>\n",
       "      <th>X</th>\n",
       "    </tr>\n",
       "  </thead>\n",
       "  <tbody>\n",
       "    <tr>\n",
       "      <th>0</th>\n",
       "      <td>A</td>\n",
       "      <td>0</td>\n",
       "      <td>0</td>\n",
       "    </tr>\n",
       "    <tr>\n",
       "      <th>1</th>\n",
       "      <td>B</td>\n",
       "      <td>4000</td>\n",
       "      <td>0</td>\n",
       "    </tr>\n",
       "    <tr>\n",
       "      <th>2</th>\n",
       "      <td>C</td>\n",
       "      <td>4000</td>\n",
       "      <td>8000</td>\n",
       "    </tr>\n",
       "    <tr>\n",
       "      <th>3</th>\n",
       "      <td>D</td>\n",
       "      <td>0</td>\n",
       "      <td>8000</td>\n",
       "    </tr>\n",
       "  </tbody>\n",
       "</table>\n",
       "</div>"
      ],
      "text/plain": [
       "  NODEID     Y     X\n",
       "0      A     0     0\n",
       "1      B  4000     0\n",
       "2      C  4000  8000\n",
       "3      D     0  8000"
      ]
     },
     "execution_count": 9,
     "metadata": {},
     "output_type": "execute_result"
    }
   ],
   "source": [
    "##test:\n",
    "DataSet.get_table('nodes',columns=['NODEID','Y','X'])"
   ]
  },
  {
   "cell_type": "code",
   "execution_count": 10,
   "metadata": {
    "collapsed": false
   },
   "outputs": [
    {
     "name": "stdout",
     "output_type": "stream",
     "text": [
      "*** Extra columns for table 'nodes': ['Z']. Required columns are: '['NODEID', 'Y', 'X']'\n"
     ]
    }
   ],
   "source": [
    "##test:\n",
    "try:\n",
    "    t = DataSet.get_table('nodes',columns=['NODEID','Y','X'],extrasok=False)\n",
    "except Exception as e:\n",
    "    print('***',e)\n",
    "    t = None\n",
    "t"
   ]
  },
  {
   "cell_type": "code",
   "execution_count": 11,
   "metadata": {
    "collapsed": false
   },
   "outputs": [
    {
     "name": "stdout",
     "output_type": "stream",
     "text": [
      "*** Columns missing for table 'nodes': ['C', 'D']. Required columns are: ['NODEID', 'Y', 'X', 'C', 'D']\n"
     ]
    }
   ],
   "source": [
    "##test:\n",
    "try:\n",
    "    t = DataSet.get_table('nodes',columns=['NODEID','Y','X','C','D'])\n",
    "except Exception as e:\n",
    "    print('***',e)\n",
    "    t = None\n",
    "t"
   ]
  },
  {
   "cell_type": "code",
   "execution_count": 12,
   "metadata": {
    "collapsed": false
   },
   "outputs": [
    {
     "name": "stdout",
     "output_type": "stream",
     "text": [
      "*** Table 'nodesxxx' does not exist.\n"
     ]
    }
   ],
   "source": [
    "##test:\n",
    "try:\n",
    "    t = DataSet.get_table('nodesxxx',columns=['NODEID','Y','X'],extrasok=False)\n",
    "except Exception as e:\n",
    "    print('***',e)\n",
    "    t = None\n",
    "t"
   ]
  },
  {
   "cell_type": "code",
   "execution_count": 13,
   "metadata": {
    "collapsed": false
   },
   "outputs": [
    {
     "data": {
      "text/html": [
       "<div>\n",
       "<table border=\"1\" class=\"dataframe\">\n",
       "  <thead>\n",
       "    <tr style=\"text-align: right;\">\n",
       "      <th></th>\n",
       "      <th>NODEID</th>\n",
       "      <th>Y</th>\n",
       "      <th>X</th>\n",
       "    </tr>\n",
       "  </thead>\n",
       "  <tbody>\n",
       "  </tbody>\n",
       "</table>\n",
       "</div>"
      ],
      "text/plain": [
       "Empty Table\n",
       "Columns: [NODEID, Y, X]\n",
       "Index: []"
      ]
     },
     "execution_count": 13,
     "metadata": {},
     "output_type": "execute_result"
    }
   ],
   "source": [
    "##test:\n",
    "try:\n",
    "    t = DataSet.get_table('nodesxxx',columns=['NODEID','Y','X'],extrasok=False,optional=True)\n",
    "except Exception as e:\n",
    "    print('***',e)\n",
    "    t = None\n",
    "t"
   ]
  },
  {
   "cell_type": "code",
   "execution_count": 14,
   "metadata": {
    "collapsed": true
   },
   "outputs": [],
   "source": [
    "@register_cell_magic('Table')\n",
    "def cell_table(line,cell):\n",
    "    mo = re.match(r'\\s*(\\S+)\\s*$',line)\n",
    "    if not mo:\n",
    "        raise ValueError('Usage: %%Table tablename')\n",
    "    tablename = mo.group(1)\n",
    "    global DataSet\n",
    "    DataSet.DSTYPE = 'cell'\n",
    "    DataSet.set_cell(tablename,cell)"
   ]
  },
  {
   "cell_type": "code",
   "execution_count": 15,
   "metadata": {
    "collapsed": true
   },
   "outputs": [],
   "source": [
    "%%Table nodes\n",
    "NODEID,X,Y,Z\n",
    "A,0,0,5001\n",
    "B,0,4000,5002\n",
    "C,8000,4000,5003\n",
    "D,8000,0,5004"
   ]
  },
  {
   "cell_type": "code",
   "execution_count": 16,
   "metadata": {
    "collapsed": false
   },
   "outputs": [
    {
     "data": {
      "text/plain": [
       "'cell'"
      ]
     },
     "execution_count": 16,
     "metadata": {},
     "output_type": "execute_result"
    }
   ],
   "source": [
    "##test:\n",
    "DataSet.DSTYPE"
   ]
  },
  {
   "cell_type": "code",
   "execution_count": 17,
   "metadata": {
    "collapsed": false
   },
   "outputs": [
    {
     "data": {
      "text/plain": [
       "{u'nodes': u'NODEID,X,Y,Z\\nA,0,0,5001\\nB,0,4000,5002\\nC,8000,4000,5003\\nD,8000,0,5004'}"
      ]
     },
     "execution_count": 17,
     "metadata": {},
     "output_type": "execute_result"
    }
   ],
   "source": [
    "##test:\n",
    "DataSet.CELLDATA"
   ]
  },
  {
   "cell_type": "code",
   "execution_count": 18,
   "metadata": {
    "collapsed": false
   },
   "outputs": [
    {
     "data": {
      "text/html": [
       "<div>\n",
       "<table border=\"1\" class=\"dataframe\">\n",
       "  <thead>\n",
       "    <tr style=\"text-align: right;\">\n",
       "      <th></th>\n",
       "      <th>NODEID</th>\n",
       "      <th>Y</th>\n",
       "      <th>Z</th>\n",
       "    </tr>\n",
       "  </thead>\n",
       "  <tbody>\n",
       "    <tr>\n",
       "      <th>0</th>\n",
       "      <td>A</td>\n",
       "      <td>0</td>\n",
       "      <td>5001</td>\n",
       "    </tr>\n",
       "    <tr>\n",
       "      <th>1</th>\n",
       "      <td>B</td>\n",
       "      <td>4000</td>\n",
       "      <td>5002</td>\n",
       "    </tr>\n",
       "    <tr>\n",
       "      <th>2</th>\n",
       "      <td>C</td>\n",
       "      <td>4000</td>\n",
       "      <td>5003</td>\n",
       "    </tr>\n",
       "    <tr>\n",
       "      <th>3</th>\n",
       "      <td>D</td>\n",
       "      <td>0</td>\n",
       "      <td>5004</td>\n",
       "    </tr>\n",
       "  </tbody>\n",
       "</table>\n",
       "</div>"
      ],
      "text/plain": [
       "  NODEID     Y     Z\n",
       "0      A     0  5001\n",
       "1      B  4000  5002\n",
       "2      C  4000  5003\n",
       "3      D     0  5004"
      ]
     },
     "execution_count": 18,
     "metadata": {},
     "output_type": "execute_result"
    }
   ],
   "source": [
    "##test:\n",
    "t = DataSet.get_table('nodes',columns=['NODEID','Y','Z'])\n",
    "t"
   ]
  },
  {
   "cell_type": "code",
   "execution_count": 19,
   "metadata": {
    "collapsed": false
   },
   "outputs": [
    {
     "data": {
      "text/html": [
       "<div>\n",
       "<table border=\"1\" class=\"dataframe\">\n",
       "  <thead>\n",
       "    <tr style=\"text-align: right;\">\n",
       "      <th></th>\n",
       "      <th>NODEID</th>\n",
       "      <th>Y</th>\n",
       "      <th>Z</th>\n",
       "    </tr>\n",
       "  </thead>\n",
       "  <tbody>\n",
       "    <tr>\n",
       "      <th>0</th>\n",
       "      <td>A</td>\n",
       "      <td>0</td>\n",
       "      <td>5001</td>\n",
       "    </tr>\n",
       "    <tr>\n",
       "      <th>1</th>\n",
       "      <td>B</td>\n",
       "      <td>4000</td>\n",
       "      <td>5002</td>\n",
       "    </tr>\n",
       "    <tr>\n",
       "      <th>2</th>\n",
       "      <td>C</td>\n",
       "      <td>4000</td>\n",
       "      <td>5003</td>\n",
       "    </tr>\n",
       "    <tr>\n",
       "      <th>3</th>\n",
       "      <td>D</td>\n",
       "      <td>0</td>\n",
       "      <td>5004</td>\n",
       "    </tr>\n",
       "  </tbody>\n",
       "</table>\n",
       "</div>"
      ],
      "text/plain": [
       "  NODEID     Y     Z\n",
       "0      A     0  5001\n",
       "1      B  4000  5002\n",
       "2      C  4000  5003\n",
       "3      D     0  5004"
      ]
     },
     "execution_count": 19,
     "metadata": {},
     "output_type": "execute_result"
    }
   ],
   "source": [
    "##test:\n",
    "DataSet.set_data('nodesxx',t)\n",
    "tt = DataSet.get_table('nodesxx',columns=['NODEID','Y','Z'])\n",
    "tt"
   ]
  },
  {
   "cell_type": "code",
   "execution_count": 22,
   "metadata": {
    "collapsed": false
   },
   "outputs": [
    {
     "data": {
      "text/plain": [
       "'nodes'"
      ]
     },
     "execution_count": 22,
     "metadata": {},
     "output_type": "execute_result"
    }
   ],
   "source": [
    "##test:\n",
    "tt.tablename"
   ]
  },
  {
   "cell_type": "code",
   "execution_count": 21,
   "metadata": {
    "collapsed": false
   },
   "outputs": [
    {
     "data": {
      "text/plain": [
       "{'_data': BlockManager\n",
       " Items: Index([u'NODEID', u'Y', u'Z'], dtype='object')\n",
       " Axis 1: RangeIndex(start=0, stop=4, step=1)\n",
       " ObjectBlock: slice(0, 1, 1), 1 x 4, dtype: object\n",
       " IntBlock: slice(1, 3, 1), 2 x 4, dtype: int64,\n",
       " '_iloc': <pandas.core.indexing._iLocIndexer at 0x7fde07bcaf50>,\n",
       " '_item_cache': {},\n",
       " 'dsname': 'frame-6',\n",
       " 'is_copy': <weakref at 0x7fde07bea6d8; dead>,\n",
       " 'tablename': 'nodes'}"
      ]
     },
     "execution_count": 21,
     "metadata": {},
     "output_type": "execute_result"
    }
   ],
   "source": [
    "##test:\n",
    "vars(tt)"
   ]
  },
  {
   "cell_type": "markdown",
   "metadata": {},
   "source": [
    "# To Here"
   ]
  },
  {
   "cell_type": "code",
   "execution_count": null,
   "metadata": {
    "collapsed": false
   },
   "outputs": [],
   "source": [
    "##test:\n",
    "t.write(precision=7,prefix='out',makedir=True)"
   ]
  },
  {
   "cell_type": "code",
   "execution_count": null,
   "metadata": {
    "collapsed": false
   },
   "outputs": [],
   "source": [
    "##test:\n",
    "t.signature()"
   ]
  },
  {
   "cell_type": "code",
   "execution_count": null,
   "metadata": {
    "collapsed": false
   },
   "outputs": [],
   "source": [
    "##test:\n",
    "vars(t)"
   ]
  },
  {
   "cell_type": "code",
   "execution_count": null,
   "metadata": {
    "collapsed": false
   },
   "outputs": [],
   "source": [
    "##test:\n",
    "t.read()"
   ]
  },
  {
   "cell_type": "code",
   "execution_count": null,
   "metadata": {
    "collapsed": false
   },
   "outputs": [],
   "source": [
    "##test:\n",
    "vars(t)"
   ]
  },
  {
   "cell_type": "code",
   "execution_count": null,
   "metadata": {
    "collapsed": true
   },
   "outputs": [],
   "source": []
  }
 ],
 "metadata": {
  "kernelspec": {
   "display_name": "Python 2",
   "language": "python",
   "name": "python2"
  },
  "language_info": {
   "codemirror_mode": {
    "name": "ipython",
    "version": 2
   },
   "file_extension": ".py",
   "mimetype": "text/x-python",
   "name": "python",
   "nbconvert_exporter": "python",
   "pygments_lexer": "ipython2",
   "version": "2.7.6"
  },
  "widgets": {
   "state": {},
   "version": "1.1.1"
  }
 },
 "nbformat": 4,
 "nbformat_minor": 0
}
