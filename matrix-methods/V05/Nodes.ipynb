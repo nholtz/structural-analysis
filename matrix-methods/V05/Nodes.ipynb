{
 "cells": [
  {
   "cell_type": "markdown",
   "metadata": {},
   "source": [
    "## Class Node"
   ]
  },
  {
   "cell_type": "code",
   "execution_count": 2,
   "metadata": {
    "collapsed": true
   },
   "outputs": [],
   "source": [
    "import salib as sl\n",
    "import math"
   ]
  },
  {
   "cell_type": "code",
   "execution_count": 1,
   "metadata": {
    "collapsed": true
   },
   "outputs": [],
   "source": [
    "class Node(object):\n",
    "    \n",
    "    DIRECTIONS = {'FX':0, 'FY':1, 'MZ':2}\n",
    "    \n",
    "    def __init__(self,ident,x,y):\n",
    "        self.id = ident\n",
    "        self.x = x\n",
    "        self.y = y\n",
    "        self.constraints = set()\n",
    "        self.dofnums = [None] * 3\n",
    "        \n",
    "    def add_constraint(self,cname):\n",
    "        c = cname.upper()\n",
    "        if c not in self.DIRECTIONS:\n",
    "            raise Exception('Invalid constraint name: {}'.format(cname))\n",
    "        self.constraints.add(c)\n",
    "        \n",
    "    def to(self,other):\n",
    "        \"\"\"Return the directional cosines and distance to the other node.\"\"\"\n",
    "        dx = other.x-self.x\n",
    "        dy = other.y-self.y\n",
    "        L = math.sqrt(dx*dx + dy*dy)\n",
    "        return dx/L,dy/L,L\n",
    "        \n",
    "    def __repr__(self):\n",
    "        return '{}(\"{}\",{},{})'.format(self.__class__.__name__,self.id,self.x,self.y)"
   ]
  },
  {
   "cell_type": "code",
   "execution_count": null,
   "metadata": {
    "collapsed": true
   },
   "outputs": [],
   "source": []
  }
 ],
 "metadata": {
  "kernelspec": {
   "display_name": "Python 2",
   "language": "python",
   "name": "python2"
  },
  "language_info": {
   "codemirror_mode": {
    "name": "ipython",
    "version": 2
   },
   "file_extension": ".py",
   "mimetype": "text/x-python",
   "name": "python",
   "nbconvert_exporter": "python",
   "pygments_lexer": "ipython2",
   "version": "2.7.6"
  },
  "widgets": {
   "state": {},
   "version": "1.1.1"
  }
 },
 "nbformat": 4,
 "nbformat_minor": 0
}
