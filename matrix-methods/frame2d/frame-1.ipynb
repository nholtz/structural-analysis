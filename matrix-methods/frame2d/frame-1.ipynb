{
 "cells": [
  {
   "cell_type": "markdown",
   "metadata": {},
   "source": [
    "# Matrix Methods Example - Frame 1\n",
    "This is the same frame as solved using the method of slope-deflection\n",
    "[here](../../slope-deflection/Slope-Deflection-Frame-1-Version-2.ipynb)."
   ]
  },
  {
   "cell_type": "code",
   "execution_count": 1,
   "metadata": {
    "collapsed": false
   },
   "outputs": [],
   "source": [
    "from __future__ import division, print_function\n",
    "from IPython import display\n",
    "import salib.nbloader    # so that we can directly import other notebooks"
   ]
  },
  {
   "cell_type": "code",
   "execution_count": 2,
   "metadata": {
    "collapsed": false
   },
   "outputs": [],
   "source": [
    "import Frame2D_v03 as f2d"
   ]
  },
  {
   "cell_type": "code",
   "execution_count": 3,
   "metadata": {
    "collapsed": false
   },
   "outputs": [
    {
     "data": {
      "image/svg+xml": [
       "<svg height=\"246.96242\" id=\"svg2\" inkscape:version=\"0.48+devel r11381\" sodipodi:docname=\"frame1.svg\" version=\"1.1\" width=\"490.28937\" xmlns=\"http://www.w3.org/2000/svg\" xmlns:cc=\"http://creativecommons.org/ns#\" xmlns:dc=\"http://purl.org/dc/elements/1.1/\" xmlns:inkscape=\"http://www.inkscape.org/namespaces/inkscape\" xmlns:rdf=\"http://www.w3.org/1999/02/22-rdf-syntax-ns#\" xmlns:sodipodi=\"http://sodipodi.sourceforge.net/DTD/sodipodi-0.dtd\" xmlns:svg=\"http://www.w3.org/2000/svg\" xmlns:xlink=\"http://www.w3.org/1999/xlink\">\n",
       "  <script id=\"script3033\" xlink:href=\"\"/>\n",
       "  <defs id=\"defs4\">\n",
       "    <!-- markers by NMH <nholtz@cee.carleton.ca> -->\n",
       "    <marker id=\"DimensionTick\" inkscape:stockid=\"DimensionTick\" orient=\"auto\" refX=\"0\" refY=\"0\" style=\"overflow:visible\">\n",
       "      <path d=\"M 0,0 8,8\" id=\"path6\" inkscape:connector-curvature=\"0\" style=\"stroke:#4d4d4d;stroke-width:1px;marker-start:none\" transform=\"translate(-4,-4)\"/>\n",
       "    </marker>\n",
       "    <marker id=\"TrussNodeS\" inkscape:stockid=\"TrussNodeS\" markerUnits=\"userSpaceOnUse\" orient=\"auto\" refX=\"0\" refY=\"0\" style=\"overflow:visible\">\n",
       "      <circle cx=\"0\" cy=\"0\" id=\"circle9\" r=\"3\" sodipodi:cx=\"0\" sodipodi:cy=\"0\" sodipodi:rx=\"3\" sodipodi:ry=\"3\" style=\"fill:#ffffff;stroke:#000000;stroke-width:1\"/>\n",
       "    </marker>\n",
       "    <marker id=\"TrussNodeM\" inkscape:stockid=\"TrussNodeM\" markerUnits=\"userSpaceOnUse\" orient=\"auto\" refX=\"0\" refY=\"0\" style=\"overflow:visible\">\n",
       "      <circle cx=\"0\" cy=\"0\" id=\"circle12\" r=\"4\" sodipodi:cx=\"0\" sodipodi:cy=\"0\" sodipodi:rx=\"4\" sodipodi:ry=\"4\" style=\"fill:#ffffff;stroke:#000000;stroke-width:1\"/>\n",
       "    </marker>\n",
       "    <!-- patternss by NMH <nholtz@cee.carleton.ca> -->\n",
       "    <pattern height=\"18\" id=\"black-stripes-on-red\" patternUnits=\"userSpaceOnUse\" width=\"18\" x=\"0\" y=\"0\">\n",
       "      <path d=\"M 0,0 18,0 18,18 0,18 z\" id=\"path3006\" inkscape:connector-curvature=\"0\" style=\"fill:#ff0000;stroke:none\"/>\n",
       "      <path d=\"M 0,9 9,0 11,0 0,11 z\" id=\"path3008\" inkscape:connector-curvature=\"0\" style=\"fill:#000000;stroke:none\"/>\n",
       "      <path d=\"m 9,18 9,-9 0,2 -7,7 z\" id=\"path5234\" inkscape:connector-curvature=\"0\" style=\"fill:#000000;stroke:none\"/>\n",
       "    </pattern>\n",
       "    <marker id=\"CLArrowEnd\" markerHeight=\"6\" markerUnits=\"userSpaceOnUse\" markerWidth=\"10\" orient=\"auto\" refX=\"7\" refY=\"3\" viewBox=\"0 0 10 6\">\n",
       "      <path d=\"M 0,0 10,3 0,6 2,3 Z\" id=\"path3451\" inkscape:connector-curvature=\"0\"/>\n",
       "    </marker>\n",
       "    <pattern id=\"pattern2251\" inkscape:collect=\"always\" patternTransform=\"matrix(0.99796804,0,0,1.3640134,225.90763,135.74022)\" xlink:href=\"#pattern4949\"/>\n",
       "    <pattern id=\"pattern4949\" inkscape:collect=\"always\" patternTransform=\"matrix(0.99796804,0,0,1.3640134,316.09135,828.80233)\" xlink:href=\"#pattern4380\"/>\n",
       "    <pattern height=\"83.375\" id=\"pattern4380\" patternTransform=\"translate(216,485.362)\" patternUnits=\"userSpaceOnUse\" width=\"36\">\n",
       "      <g id=\"g4376\" transform=\"translate(-216,-485.362)\">\n",
       "        <polygon class=\"dload\" id=\"polygon3581-2\" points=\"360,0 0,0 0,-12 360,-12 \" style=\"fill:#f0f0f0;stroke:none;visibility:visible\" transform=\"matrix(0.1,0,0,6.75,216,566.362)\"/>\n",
       "        <path class=\"cload\" d=\"m 234,485.362 0,78.625\" id=\"path3627-7\" inkscape:connector-curvature=\"0\" style=\"fill:none;stroke:#000000;stroke-width:1.58746088;marker-end:url(#CLArrowEnd-8);visibility:visible\"/>\n",
       "      </g>\n",
       "    </pattern>\n",
       "    <marker id=\"CLArrowEnd-8\" markerHeight=\"6\" markerUnits=\"userSpaceOnUse\" markerWidth=\"10\" orient=\"auto\" refX=\"7\" refY=\"3\" viewBox=\"0 0 10 6\">\n",
       "      <path d=\"M 0,0 10,3 0,6 2,3 Z\" id=\"path3451-4\" inkscape:connector-curvature=\"0\"/>\n",
       "    </marker>\n",
       "  </defs>\n",
       "  <sodipodi:namedview bordercolor=\"#666666\" borderopacity=\"1.0\" fit-margin-bottom=\"0.2\" fit-margin-left=\"0.2\" fit-margin-right=\"0.2\" fit-margin-top=\"0.2\" id=\"base\" inkscape:current-layer=\"layer1\" inkscape:cx=\"223.50253\" inkscape:cy=\"268.7048\" inkscape:document-units=\"in\" inkscape:pageopacity=\"0.0\" inkscape:pageshadow=\"2\" inkscape:snap-grids=\"true\" inkscape:window-height=\"979\" inkscape:window-maximized=\"0\" inkscape:window-width=\"1179\" inkscape:window-x=\"165\" inkscape:window-y=\"55\" inkscape:zoom=\"1.4283557\" pagecolor=\"#ffffff\" showgrid=\"true\" showguides=\"true\" units=\"in\">\n",
       "    <inkscape:grid empspacing=\"5\" enabled=\"true\" id=\"grid2985\" originx=\"-0.75234044in\" originy=\"-7.3in\" snapvisiblegridlinesonly=\"true\" spacingx=\"0.1in\" spacingy=\"0.1in\" type=\"xygrid\" units=\"in\" visible=\"true\"/>\n",
       "    <sodipodi:guide id=\"guide3042\" orientation=\"0,765\" position=\"-67.71064,-657\"/>\n",
       "    <sodipodi:guide id=\"guide3044\" orientation=\"-990,0\" position=\"697.28936,-657\"/>\n",
       "    <sodipodi:guide id=\"guide3046\" orientation=\"0,-765\" position=\"697.28936,333\"/>\n",
       "    <sodipodi:guide id=\"guide3048\" orientation=\"990,0\" position=\"-67.71064,333\"/>\n",
       "    <sodipodi:guide id=\"guide3050\" orientation=\"0,765\" position=\"652.28936,-612\"/>\n",
       "    <sodipodi:guide id=\"guide3052\" orientation=\"-990,0\" position=\"652.28936,243\"/>\n",
       "    <sodipodi:guide id=\"guide3054\" orientation=\"0,-765\" position=\"-31.71064,288\"/>\n",
       "    <sodipodi:guide id=\"guide3056\" orientation=\"990,0\" position=\"-22.71064,216\"/>\n",
       "  </sodipodi:namedview>\n",
       "  <metadata id=\"metadata7\">\n",
       "    <rdf:RDF>\n",
       "      <cc:Work rdf:about=\"\">\n",
       "        <dc:format>image/svg+xml</dc:format>\n",
       "        <dc:type rdf:resource=\"http://purl.org/dc/dcmitype/StillImage\"/>\n",
       "        <dc:title/>\n",
       "        <cc:license rdf:resource=\"http://creativecommons.org/licenses/by-nc/3.0/\"/>\n",
       "      </cc:Work>\n",
       "      <cc:License rdf:about=\"http://creativecommons.org/licenses/by-nc/3.0/\">\n",
       "        <cc:permits rdf:resource=\"http://creativecommons.org/ns#Reproduction\"/>\n",
       "        <cc:permits rdf:resource=\"http://creativecommons.org/ns#Distribution\"/>\n",
       "        <cc:requires rdf:resource=\"http://creativecommons.org/ns#Notice\"/>\n",
       "        <cc:requires rdf:resource=\"http://creativecommons.org/ns#Attribution\"/>\n",
       "        <cc:prohibits rdf:resource=\"http://creativecommons.org/ns#CommercialUse\"/>\n",
       "        <cc:permits rdf:resource=\"http://creativecommons.org/ns#DerivativeWorks\"/>\n",
       "      </cc:License>\n",
       "    </rdf:RDF>\n",
       "  </metadata>\n",
       "  <g id=\"layer1\" inkscape:groupmode=\"layer\" inkscape:label=\"Layer 1\" transform=\"translate(-67.71064,-86.037582)\">\n",
       "    <path d=\"m 225,270 0,-135 270,0 0,90\" id=\"path27\" inkscape:connector-curvature=\"0\" style=\"fill:#000000;fill-opacity:0;fill-rule:nonzero;stroke:#000000;stroke-width:2;stroke-linecap:butt;stroke-linejoin:miter;stroke-miterlimit:4;stroke-opacity:1;stroke-dasharray:none;stroke-dashoffset:0\"/>\n",
       "    <g id=\"g10775\" transform=\"translate(-30.729802,-84.999869)\">\n",
       "      <title id=\"title3737\">Pin Support</title>\n",
       "      <g id=\"use90\" transform=\"matrix(1.25,0,0,1.25,255.65647,356.59727)\">\n",
       "        <path d=\"M 0.19825424,-1.057356 5.1895254,5.8678305 -5.3216949,5.8678305 Z\" id=\"path5224\" inkscape:connector-curvature=\"0\" sodipodi:nodetypes=\"cccc\" style=\"fill:#000000;stroke:#000000;stroke-width:0\"/>\n",
       "        <path d=\"M -6,6 6,6\" id=\"path5226\" inkscape:connector-curvature=\"0\" style=\"fill:none;stroke:#000000;stroke-width:1\"/>\n",
       "        <path d=\"M 6,6 3,9 M 3,6 0,9 M 0,6 -3,9 m 0,-3 -3,3 m 0,-3 -3,3\" id=\"path5228\" inkscape:connector-curvature=\"0\" style=\"fill:none;stroke:#000000;stroke-width:1\"/>\n",
       "      </g>\n",
       "    </g>\n",
       "    <g id=\"use3511\" transform=\"matrix(0,-1.25,1.25,0,492.41541,225.29137)\">\n",
       "      <title id=\"title3743\">Fixed Support</title>\n",
       "      <path d=\"M 0,-6 0,6\" id=\"path3409\" inkscape:connector-curvature=\"0\" style=\"fill:none;stroke:#000000;stroke-width:1\"/>\n",
       "      <path d=\"m 0,-6 -3,3 m 3,0 -3,3 m 3,0 -3,3 m 3,0 -3,3 m 3,0 -3,3\" id=\"path3411\" inkscape:connector-curvature=\"0\" style=\"fill:none;stroke:#000000;stroke-width:1\"/>\n",
       "    </g>\n",
       "    <path d=\"m 225,288 0,27\" id=\"path409\" inkscape:connector-curvature=\"0\" style=\"fill:#000000;fill-opacity:0;fill-rule:nonzero;stroke:#4d4d4d;stroke-width:0.75;stroke-linecap:butt;stroke-linejoin:miter;stroke-miterlimit:4;stroke-opacity:1;stroke-dasharray:none;stroke-dashoffset:0\"/>\n",
       "    <path d=\"m 495,234 0,81\" id=\"path411\" inkscape:connector-curvature=\"0\" style=\"fill:#000000;fill-opacity:0;fill-rule:nonzero;stroke:#4d4d4d;stroke-width:0.75;stroke-linecap:butt;stroke-linejoin:miter;stroke-miterlimit:4;stroke-opacity:1;stroke-dasharray:none;stroke-dashoffset:0\"/>\n",
       "    <path d=\"m 225,306 270,0\" id=\"path413\" inkscape:connector-curvature=\"0\" style=\"fill:#000000;fill-opacity:0;fill-rule:nonzero;stroke:#4d4d4d;stroke-width:0.72000003;stroke-linecap:butt;stroke-linejoin:miter;stroke-miterlimit:4;stroke-opacity:1;stroke-dasharray:none;stroke-dashoffset:0;marker-start:url(#DimensionTick);marker-mid:url(#DimensionTick);marker-end:url(#DimensionTick)\"/>\n",
       "    <path d=\"m 504,135 36,0\" id=\"path415\" inkscape:connector-curvature=\"0\" style=\"fill:#000000;fill-opacity:0;fill-rule:nonzero;stroke:#4d4d4d;stroke-width:0.75;stroke-linecap:butt;stroke-linejoin:miter;stroke-miterlimit:4;stroke-opacity:1;stroke-dasharray:none;stroke-dashoffset:0\"/>\n",
       "    <path d=\"m 504,225 36,0\" id=\"path417\" inkscape:connector-curvature=\"0\" style=\"fill:#000000;fill-opacity:0;fill-rule:nonzero;stroke:#4d4d4d;stroke-width:0.75;stroke-linecap:butt;stroke-linejoin:miter;stroke-miterlimit:4;stroke-opacity:1;stroke-dasharray:none;stroke-dashoffset:0\"/>\n",
       "    <path d=\"m 531,135 0,90\" id=\"path419\" inkscape:connector-curvature=\"0\" style=\"fill:#000000;fill-opacity:0;fill-rule:nonzero;stroke:#4d4d4d;stroke-width:0.72000003;stroke-linecap:butt;stroke-linejoin:miter;stroke-miterlimit:4;stroke-opacity:1;stroke-dasharray:none;stroke-dashoffset:0;marker-start:url(#DimensionTick);marker-mid:url(#DimensionTick);marker-end:url(#DimensionTick)\"/>\n",
       "    <path d=\"M 216,270 90,270\" id=\"path421\" inkscape:connector-curvature=\"0\" style=\"fill:#000000;fill-opacity:0;fill-rule:nonzero;stroke:#4d4d4d;stroke-width:0.75;stroke-linecap:butt;stroke-linejoin:miter;stroke-miterlimit:4;stroke-opacity:1;stroke-dasharray:none;stroke-dashoffset:0\"/>\n",
       "    <path d=\"m 171,135 -81,0\" id=\"path423\" inkscape:connector-curvature=\"0\" style=\"fill:#000000;fill-opacity:0;fill-rule:nonzero;stroke:#4d4d4d;stroke-width:0.75;stroke-linecap:butt;stroke-linejoin:miter;stroke-miterlimit:4;stroke-opacity:1;stroke-dasharray:none;stroke-dashoffset:0\"/>\n",
       "    <path d=\"m 99,135 0,135\" id=\"path425\" inkscape:connector-curvature=\"0\" style=\"fill:#000000;fill-opacity:0;fill-rule:nonzero;stroke:#4d4d4d;stroke-width:0.72000003;stroke-linecap:butt;stroke-linejoin:miter;stroke-miterlimit:4;stroke-opacity:1;stroke-dasharray:none;stroke-dashoffset:0;marker-start:url(#DimensionTick);marker-mid:url(#DimensionTick);marker-end:url(#DimensionTick)\"/>\n",
       "    <path class=\"cload\" d=\"m 179.99625,135.12366 40.13614,0.49505\" id=\"path3405\" inkscape:connector-curvature=\"0\" sodipodi:nodetypes=\"cc\" style=\"fill:none;stroke:#000000;stroke-width:1.25;marker-end:url(#CLArrowEnd)\"/>\n",
       "    <rect height=\"17.99999\" id=\"rect3421\" style=\"fill:url(#pattern2251);fill-opacity:1;stroke:#000000;stroke-width:0.90483356\" width=\"270\" x=\"225\" y=\"117\"/>\n",
       "    <text id=\"text2306\" sodipodi:linespacing=\"125%\" style=\"font-size:12.5px;font-style:normal;font-variant:normal;font-weight:normal;font-stretch:normal;text-align:start;line-height:125%;letter-spacing:0px;word-spacing:0px;writing-mode:lr-tb;text-anchor:start;fill:#000000;fill-opacity:1;stroke:none;font-family:Verdana;-inkscape-font-specification:Sans\" x=\"360\" xml:space=\"preserve\" y=\"297\"><tspan id=\"tspan2308\" sodipodi:role=\"line\" x=\"360\" y=\"297\">6m</tspan></text>\n",
       "    <text id=\"text2310\" sodipodi:linespacing=\"125%\" style=\"font-size:12.5px;font-style:normal;font-variant:normal;font-weight:normal;font-stretch:normal;text-align:start;line-height:125%;letter-spacing:0px;word-spacing:0px;writing-mode:lr-tb;text-anchor:start;fill:#000000;fill-opacity:1;stroke:none;font-family:Verdana;-inkscape-font-specification:Sans\" transform=\"matrix(0,-1,1,0,0,0)\" x=\"-211.58302\" xml:space=\"preserve\" y=\"94.987984\"><tspan id=\"tspan2312\" sodipodi:role=\"line\" x=\"-211.58302\" y=\"94.987984\">3m</tspan></text>\n",
       "    <text id=\"text2314\" sodipodi:linespacing=\"125%\" style=\"font-size:12.5px;font-style:normal;font-variant:normal;font-weight:normal;font-stretch:normal;text-align:start;line-height:125%;letter-spacing:0px;word-spacing:0px;writing-mode:lr-tb;text-anchor:start;fill:#000000;fill-opacity:1;stroke:none;font-family:Verdana;-inkscape-font-specification:Sans\" transform=\"matrix(0,-1,1,0,0,0)\" x=\"-194.37109\" xml:space=\"preserve\" y=\"527.64844\"><tspan id=\"tspan2316\" sodipodi:role=\"line\" x=\"-194.37109\" y=\"527.64844\">2m</tspan></text>\n",
       "    <text id=\"text2318\" sodipodi:linespacing=\"125%\" style=\"font-size:12.5px;font-style:normal;font-variant:normal;font-weight:normal;font-stretch:normal;text-align:start;line-height:125%;letter-spacing:0px;word-spacing:0px;writing-mode:lr-tb;text-anchor:start;fill:#000000;fill-opacity:1;stroke:none;font-family:Verdana;-inkscape-font-specification:Sans\" x=\"228.55446\" xml:space=\"preserve\" y=\"214.01981\"><tspan id=\"tspan2320\" sodipodi:role=\"line\" x=\"228.55446\" y=\"214.01981\">I</tspan></text>\n",
       "    <text id=\"text2322\" sodipodi:linespacing=\"125%\" style=\"font-size:12.5px;font-style:normal;font-variant:normal;font-weight:normal;font-stretch:normal;text-align:start;line-height:125%;letter-spacing:0px;word-spacing:0px;writing-mode:lr-tb;text-anchor:start;fill:#000000;fill-opacity:1;stroke:none;font-family:Verdana;-inkscape-font-specification:Sans\" x=\"483.52472\" xml:space=\"preserve\" y=\"144.85149\"><tspan id=\"tspan2324\" sodipodi:role=\"line\" x=\"483.52472\" y=\"144.85149\"><tspan id=\"tspan2369\" style=\"font-style:italic;font-variant:normal;font-weight:normal;font-stretch:normal;font-family:Verdana;-inkscape-font-specification:Verdana Italic\">c</tspan></tspan></text>\n",
       "    <text id=\"text2326\" sodipodi:linespacing=\"125%\" style=\"font-size:12.5px;font-style:normal;font-variant:normal;font-weight:normal;font-stretch:normal;text-align:start;line-height:125%;letter-spacing:0px;word-spacing:0px;writing-mode:lr-tb;text-anchor:start;fill:#000000;fill-opacity:1;stroke:none;font-family:Verdana;-inkscape-font-specification:Sans\" x=\"350.41583\" xml:space=\"preserve\" y=\"147.55444\"><tspan id=\"tspan2328\" sodipodi:role=\"line\" x=\"350.41583\" y=\"147.55444\">2I</tspan></text>\n",
       "    <text id=\"text2330\" sodipodi:linespacing=\"125%\" style=\"font-size:12.5px;font-style:normal;font-variant:normal;font-weight:normal;font-stretch:normal;text-align:start;line-height:125%;letter-spacing:0px;word-spacing:0px;writing-mode:lr-tb;text-anchor:start;fill:#000000;fill-opacity:1;stroke:none;font-family:Verdana;-inkscape-font-specification:Sans\" x=\"331.10892\" xml:space=\"preserve\" y=\"113.53465\"><tspan id=\"tspan2332\" sodipodi:role=\"line\" x=\"331.10892\" y=\"113.53465\">36 kN/m</tspan></text>\n",
       "    <text id=\"text2334\" sodipodi:linespacing=\"125%\" style=\"font-size:12.5px;font-style:normal;font-variant:normal;font-weight:normal;font-stretch:normal;text-align:start;line-height:125%;letter-spacing:0px;word-spacing:0px;writing-mode:lr-tb;text-anchor:start;fill:#000000;fill-opacity:1;stroke:none;font-family:Verdana;-inkscape-font-specification:Sans\" x=\"180.17822\" xml:space=\"preserve\" y=\"131.44554\"><tspan id=\"tspan2336\" sodipodi:role=\"line\" x=\"180.17822\" y=\"131.44554\">60kN</tspan></text>\n",
       "    <text id=\"text2357\" sodipodi:linespacing=\"125%\" style=\"font-size:11.25px;font-style:normal;font-variant:normal;font-weight:normal;font-stretch:normal;text-align:start;line-height:125%;letter-spacing:0px;word-spacing:0px;writing-mode:lr-tb;text-anchor:start;fill:#000000;fill-opacity:1;stroke:none;font-family:Verdana;-inkscape-font-specification:Sans\" x=\"229.21938\" xml:space=\"preserve\" y=\"268.13992\"><tspan id=\"tspan2359\" sodipodi:role=\"line\" style=\"font-style:italic;font-variant:normal;font-weight:normal;font-stretch:normal;font-family:Verdana;-inkscape-font-specification:Verdana Italic\" x=\"229.21938\" y=\"268.13992\">a</tspan></text>\n",
       "    <text id=\"text2361\" sodipodi:linespacing=\"125%\" style=\"font-size:11.25px;font-style:normal;font-variant:normal;font-weight:normal;font-stretch:normal;text-align:start;line-height:125%;letter-spacing:0px;word-spacing:0px;writing-mode:lr-tb;text-anchor:start;fill:#000000;fill-opacity:1;stroke:none;font-family:Verdana;-inkscape-font-specification:Sans\" x=\"228.55446\" xml:space=\"preserve\" y=\"146.56436\"><tspan id=\"tspan2363\" sodipodi:role=\"line\" style=\"font-style:italic;font-variant:normal;font-weight:normal;font-stretch:normal;font-family:Verdana;-inkscape-font-specification:Verdana Italic\" x=\"228.55446\" y=\"146.56436\">b</tspan></text>\n",
       "    <text id=\"text2365\" sodipodi:linespacing=\"125%\" style=\"font-size:11.25px;font-style:normal;font-variant:normal;font-weight:normal;font-stretch:normal;text-align:start;line-height:125%;letter-spacing:0px;word-spacing:0px;writing-mode:lr-tb;text-anchor:start;fill:#000000;fill-opacity:1;stroke:none;font-family:Verdana;-inkscape-font-specification:Sans\" x=\"485.41583\" xml:space=\"preserve\" y=\"222.43564\"><tspan id=\"tspan2367\" sodipodi:role=\"line\" style=\"font-style:italic;font-variant:normal;font-weight:normal;font-stretch:normal;font-family:Verdana;-inkscape-font-specification:Verdana Italic\" x=\"485.41583\" y=\"222.43564\">d</tspan></text>\n",
       "    <text id=\"text2373\" sodipodi:linespacing=\"125%\" style=\"font-size:12.5px;font-style:normal;font-variant:normal;font-weight:normal;font-stretch:normal;text-align:start;line-height:125%;letter-spacing:0px;word-spacing:0px;writing-mode:lr-tb;text-anchor:start;fill:#000000;fill-opacity:1;stroke:none;font-family:Verdana;-inkscape-font-specification:Sans\" x=\"485.51486\" xml:space=\"preserve\" y=\"189.67326\"><tspan id=\"tspan2375\" sodipodi:role=\"line\" x=\"485.51486\" y=\"189.67326\">I</tspan></text>\n",
       "  </g>\n",
       "</svg>"
      ],
      "text/plain": [
       "<IPython.core.display.SVG object>"
      ]
     },
     "execution_count": 3,
     "metadata": {},
     "output_type": "execute_result"
    }
   ],
   "source": [
    "display.SVG('frame-1.d/frame-1.svg')"
   ]
  },
  {
   "cell_type": "code",
   "execution_count": 32,
   "metadata": {
    "collapsed": false
   },
   "outputs": [
    {
     "data": {
      "text/plain": [
       "['',\n",
       " '/usr/local/lib/python2.7/dist-packages/django_bitfield-1.7.1-py2.7.egg',\n",
       " '/usr/lib/python2.7/dist-packages',\n",
       " '/usr/local/lib/python2.7/dist-packages/Django-1.8.dev20141215194152-py2.7.egg',\n",
       " '/usr/local/lib/python2.7/dist-packages/python_docx-0.7.6-py2.7.egg',\n",
       " '/usr/local/lib/python2.7/dist-packages/keyring-5.4-py2.7.egg',\n",
       " '/usr/local/lib/python2.7/dist-packages/mercurial_keyring-0.6.7-py2.7.egg',\n",
       " '/files/home/nholtz/work/git/structural-analysis',\n",
       " '/files/home/nholtz/work/git/structural-analysis/matrix-methods/frame2d',\n",
       " '/usr/lib/python2.7',\n",
       " '/usr/lib/python2.7/plat-x86_64-linux-gnu',\n",
       " '/usr/lib/python2.7/lib-tk',\n",
       " '/usr/lib/python2.7/lib-old',\n",
       " '/usr/lib/python2.7/lib-dynload',\n",
       " '/usr/local/lib/python2.7/dist-packages',\n",
       " '/usr/lib/python2.7/dist-packages/PILcompat',\n",
       " '/usr/lib/python2.7/dist-packages/gtk-2.0',\n",
       " '/usr/lib/pymodules/python2.7',\n",
       " '/usr/lib/python2.7/dist-packages/wx-2.8-gtk2-unicode',\n",
       " '/usr/local/lib/python2.7/dist-packages/IPython/extensions',\n",
       " '/files/home/nholtz/.ipython']"
      ]
     },
     "execution_count": 32,
     "metadata": {},
     "output_type": "execute_result"
    }
   ],
   "source": [
    "import sys\n",
    "sys.path"
   ]
  },
  {
   "cell_type": "code",
   "execution_count": 19,
   "metadata": {
    "collapsed": false
   },
   "outputs": [],
   "source": [
    "frame = f2d.Frame2D()"
   ]
  },
  {
   "cell_type": "code",
   "execution_count": 20,
   "metadata": {
    "collapsed": false
   },
   "outputs": [],
   "source": [
    "%%frame_data frame nodes\n",
    "ID,X,Y\n",
    "a,0,0\n",
    "b,0,3000\n",
    "c,6000,3000\n",
    "d,6000,1000"
   ]
  },
  {
   "cell_type": "code",
   "execution_count": 21,
   "metadata": {
    "collapsed": false
   },
   "outputs": [],
   "source": [
    "%%frame_data frame members\n",
    "ID,NODEJ,NODEK\n",
    "ab,a,b\n",
    "bc,b,c\n",
    "cd,c,d"
   ]
  },
  {
   "cell_type": "code",
   "execution_count": 22,
   "metadata": {
    "collapsed": true
   },
   "outputs": [],
   "source": [
    "%%frame_data frame supports\n",
    "ID,C0,C1,C2\n",
    "a,FX,FY,\n",
    "d,FX,FY,MZ"
   ]
  },
  {
   "cell_type": "code",
   "execution_count": 23,
   "metadata": {
    "collapsed": true
   },
   "outputs": [],
   "source": [
    "%%frame_data frame releases\n",
    "ID,R"
   ]
  },
  {
   "cell_type": "markdown",
   "metadata": {},
   "source": [
    "Use very large areas so that axial deformations will be very small so as to more closely replicate\n",
    "the slope deflection analysis."
   ]
  },
  {
   "cell_type": "code",
   "execution_count": 24,
   "metadata": {
    "collapsed": false
   },
   "outputs": [],
   "source": [
    "%%frame_data frame properties\n",
    "ID,SIZE,Ix,A\n",
    "bc,,200E6,100E10\n",
    "ab,,100E6,\n",
    "cd,,,"
   ]
  },
  {
   "cell_type": "code",
   "execution_count": 25,
   "metadata": {
    "collapsed": true
   },
   "outputs": [],
   "source": [
    "%%frame_data frame node_loads\n",
    "ID,DIRN,F\n",
    "b,FX,60000"
   ]
  },
  {
   "cell_type": "code",
   "execution_count": 26,
   "metadata": {
    "collapsed": false
   },
   "outputs": [],
   "source": [
    "%%frame_data frame member_loads\n",
    "ID,TYPE,W1,W2,A,B,C\n",
    "bc,UDL,-36,,,,"
   ]
  },
  {
   "cell_type": "code",
   "execution_count": 27,
   "metadata": {
    "collapsed": false
   },
   "outputs": [
    {
     "name": "stdout",
     "output_type": "stream",
     "text": [
      "\n",
      "ndof = 12, nfree = 7, nconstraints = 5\n",
      "\n",
      "\n",
      "\n",
      "Nodes:\n",
      "======\n",
      "\n",
      "Node          X         Y  Constraints  DOF #s\n",
      "----      -----     -----  -----------  ------\n",
      "a             0         0  FX,FY        7,8,0\n",
      "b             0      3000               1,2,3\n",
      "c          6000      3000               4,5,6\n",
      "d          6000      1000  FX,FY,MZ     9,10,11\n",
      "\n",
      "\n",
      "\n",
      "Members:\n",
      "========\n",
      "\n",
      "Member   Node-J  Node-K    Length       dcx       dcy  Size                Ix           A  Releases\n",
      "------   ------  ------    ------   -------   -------  --------      --------       -----  --------\n",
      "ab       a       b         3000.0   0.00000   1.00000                   1e+08       1e+12  \n",
      "bc       b       c         6000.0   1.00000   0.00000                   2e+08       1e+12  \n",
      "cd       c       d         2000.0   0.00000  -1.00000                   1e+08       1e+12  \n",
      "\n",
      "\n",
      "\n",
      "Node Loads:\n",
      "===========\n",
      "\n",
      "Node  Dirn     Load\n",
      "----  ----    -----\n",
      "b     FX      60000\n",
      "\n",
      "Member Loads:\n",
      "=============\n",
      "\n",
      "Member  Load\n",
      "------  ----------------\n",
      "bc      UDL(L=6000.0,W1=-36)\n",
      "\n",
      "\n",
      "\n",
      "Node Displacements:\n",
      "===================\n",
      "\n",
      "Node        DX         DY      Rotation\n",
      "----      ------     ------   ---------\n",
      "a          0.000      0.000   0.0011211\n",
      "b          0.714     -0.000  -0.0029563\n",
      "c          0.714     -0.000   0.0018899\n",
      "d          0.000      0.000   0.0000000\n",
      "\n",
      "\n",
      "\n",
      "Reactions:\n",
      "==========\n",
      "\n",
      "Node        FX         FY         MZ  \n",
      "----     -------    -------    -------\n",
      "a         18.121    100.891      --   \n",
      "d        -78.121    115.109     59.223\n",
      "\n",
      "\n",
      "\n",
      "Member End Forces:\n",
      "==================\n",
      "\n",
      "          /----- Axial -----/   /----- Shear -----/   /----- Moment ----/\n",
      "Member       FX J       FX K       FY J       FY K       MZ J       MZ K\n",
      "------     -------    -------    -------    -------    -------    -------\n",
      "ab         100.891   -100.891    -18.121     18.121      0.000    -54.364\n",
      "bc          78.121    -78.121    100.891    115.109     54.364    -97.020\n",
      "cd         115.109   -115.109     78.121    -78.121     97.020     59.223\n"
     ]
    }
   ],
   "source": [
    "frame.doall()"
   ]
  },
  {
   "cell_type": "markdown",
   "metadata": {},
   "source": [
    "### Compare to slope-deflection solution:"
   ]
  },
  {
   "cell_type": "markdown",
   "metadata": {},
   "source": [
    "The solutions as given in the\n",
    "[slope-deflection example](../../slope-deflection/Slope-Deflection-Frame-1-Version-2.ipynb):\n",
    "\n",
    "Member end forces:\n",
    "\n",
    "```\n",
    "{'Mab': 0,\n",
    " 'Mba': 54.36,\n",
    " 'Mbc': -54.36,\n",
    " 'Mcb': 97.02,\n",
    " 'Mcd': -97.02,\n",
    " 'Mdc': -59.22,\n",
    " 'Vab': -18.12,\n",
    " 'Vdc': 78.12}\n",
    " ```\n",
    " \n",
    "Except for a sign change, these seem consistent.  We might have a different sign convention here - I'll check into that.\n",
    " \n",
    " Reactions:\n",
    " \n",
    " ```\n",
    " [v.subs(soln).n(4) for v in [Ra,Ha,Rd,Hd,Md]]\n",
    " [100.9,18.12,115.1,−78.12,−59.22]\n",
    " ```\n",
    " \n",
    " and except for sign, these are OK as well.\n",
    " \n",
    " As for deflection, in $kN m^2$, the product $EI$ used here is:"
   ]
  },
  {
   "cell_type": "code",
   "execution_count": 28,
   "metadata": {
    "collapsed": false
   },
   "outputs": [
    {
     "data": {
      "text/plain": [
       "20000.0"
      ]
     },
     "execution_count": 28,
     "metadata": {},
     "output_type": "execute_result"
    }
   ],
   "source": [
    "EI = 200000. * 100E6 / (1000*1000**2)\n",
    "EI"
   ]
  },
  {
   "cell_type": "markdown",
   "metadata": {},
   "source": [
    "and the lateral deflection of nodes $b$ and $c$ computed by slope-deflection, in $mm$, was:"
   ]
  },
  {
   "cell_type": "code",
   "execution_count": 29,
   "metadata": {
    "collapsed": false
   },
   "outputs": [
    {
     "data": {
      "text/plain": [
       "0.71417004048583"
      ]
     },
     "execution_count": 29,
     "metadata": {},
     "output_type": "execute_result"
    }
   ],
   "source": [
    "(3528/(247*EI)) * 1000"
   ]
  },
  {
   "cell_type": "markdown",
   "metadata": {},
   "source": [
    "which agrees with the displayed result, above.  (note that units in the slope-deflection example were\n",
    "$kN$ and $m$ and here they are $N$ and $mm$)."
   ]
  },
  {
   "cell_type": "markdown",
   "metadata": {},
   "source": [
    "## $P-\\Delta$ Analysis\n",
    "We wouldn't expect much difference as sidesway is pretty small:"
   ]
  },
  {
   "cell_type": "code",
   "execution_count": 30,
   "metadata": {
    "collapsed": false
   },
   "outputs": [
    {
     "name": "stdout",
     "output_type": "stream",
     "text": [
      "iter=1, max D=0.713256922203, max chg=0.000913103731316, max % chg=0.128018909161\n",
      "iter=2, max D=0.71325817901, max chg=1.256807456e-06, max % chg=0.000176206525629\n",
      "\n",
      "ndof = 12, nfree = 7, nconstraints = 5\n",
      "\n",
      "\n",
      "\n",
      "Nodes:\n",
      "======\n",
      "\n",
      "Node          X         Y  Constraints  DOF #s\n",
      "----      -----     -----  -----------  ------\n",
      "a             0         0  FX,FY        7,8,0\n",
      "b             0      3000               1,2,3\n",
      "c          6000      3000               4,5,6\n",
      "d          6000      1000  FX,FY,MZ     9,10,11\n",
      "\n",
      "\n",
      "\n",
      "Members:\n",
      "========\n",
      "\n",
      "Member   Node-J  Node-K    Length       dcx       dcy  Size                Ix           A  Releases\n",
      "------   ------  ------    ------   -------   -------  --------      --------       -----  --------\n",
      "ab       a       b         3000.0   0.00000   1.00000                   1e+08       1e+12  \n",
      "bc       b       c         6000.0   1.00000   0.00000                   2e+08       1e+12  \n",
      "cd       c       d         2000.0   0.00000  -1.00000                   1e+08       1e+12  \n",
      "\n",
      "\n",
      "\n",
      "Node Loads:\n",
      "===========\n",
      "\n",
      "Node  Dirn     Load\n",
      "----  ----    -----\n",
      "b     FX      60000\n",
      "\n",
      "Member Loads:\n",
      "=============\n",
      "\n",
      "Member  Load\n",
      "------  ----------------\n",
      "bc      UDL(L=6000.0,W1=-36)\n",
      "\n",
      "\n",
      "\n",
      "Node Displacements:\n",
      "===================\n",
      "\n",
      "Node        DX         DY      Rotation\n",
      "----      ------     ------   ---------\n",
      "a          0.000      0.000   0.0011215\n",
      "b          0.713     -0.000  -0.0029563\n",
      "c          0.713     -0.000   0.0018903\n",
      "d          0.000      0.000   0.0000000\n",
      "\n",
      "\n",
      "\n",
      "Reactions:\n",
      "==========\n",
      "\n",
      "Node        FX         FY         MZ  \n",
      "----     -------    -------    -------\n",
      "a         18.123    100.893      --   \n",
      "d        -78.106    115.107     59.203\n",
      "\n",
      "\n",
      "\n",
      "Member End Forces:\n",
      "==================\n",
      "\n",
      "          /----- Axial -----/   /----- Shear -----/   /----- Moment ----/\n",
      "Member       FX J       FX K       FY J       FY K       MZ J       MZ K\n",
      "------     -------    -------    -------    -------    -------    -------\n",
      "ab         100.893   -100.893    -18.123     18.123      0.000    -54.370\n",
      "bc          78.147    -78.147    100.893    115.107     54.370    -97.009\n",
      "cd         115.107   -115.107     78.106    -78.106     97.009     59.203\n"
     ]
    }
   ],
   "source": [
    "frame.doall(pdelta=True)"
   ]
  },
  {
   "cell_type": "code",
   "execution_count": null,
   "metadata": {
    "collapsed": true
   },
   "outputs": [],
   "source": []
  }
 ],
 "metadata": {
  "kernelspec": {
   "display_name": "Python 2",
   "language": "python",
   "name": "python2"
  },
  "language_info": {
   "codemirror_mode": {
    "name": "ipython",
    "version": 2
   },
   "file_extension": ".py",
   "mimetype": "text/x-python",
   "name": "python",
   "nbconvert_exporter": "python",
   "pygments_lexer": "ipython2",
   "version": "2.7.6"
  }
 },
 "nbformat": 4,
 "nbformat_minor": 0
}
