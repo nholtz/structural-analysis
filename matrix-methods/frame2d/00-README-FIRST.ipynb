{
 "cells": [
  {
   "cell_type": "markdown",
   "metadata": {},
   "source": [
    "# Elastic Analysis of 2-D Frames, with $2^{nd}$-order effects"
   ]
  },
  {
   "cell_type": "markdown",
   "metadata": {},
   "source": [
    "## About Frame2D\n",
    "Frame2D performs the analysis of 2-D structural frames using the matrix-stiffness methods.  It can perform either\n",
    "a normal first order analysis, or a $2^{nd}$-order analysis using the $P-\\Delta$ (or fictitous force) method.  Given inputs of node and member loads, and support displacements, it computes free node displacements and member\n",
    "end forces (shear, axial and moment).\n",
    "\n",
    "Input consists of tables describing:\n",
    " - node coordinates\n",
    " - node fixity (support constraints)\n",
    " - member incidence (connectivity to nodes)\n",
    " - force releases in members (hinges only, at this time)\n",
    " - member properties (moment of inertia and area)\n",
    " - node loads\n",
    " - transverse member loads\n",
    " - support displacements\n",
    " - load combinations\n",
    "\n",
    "Output consists of:\n",
    " - node displacements\n",
    " - reaction forces\n",
    " - member end forces (shear axial and moment at each end)\n",
    " - optionally, a simple line drawing of the frame\n",
    " \n",
    "Data input can be provided by any combination of the following:\n",
    " - CSV data directly in notebook cells using the `%%Table` cell magic, or\n",
    " - CSV files in a particular directory, or\n",
    " - tables computed by another program\n",
    " \n",
    "A 'proper' geometric $2^{nd}$-order capability is planned for the not too distant future."
   ]
  },
  {
   "cell_type": "markdown",
   "metadata": {},
   "source": [
    "## The Documentation\n",
    "Only the examples and the source code, currently, I am afraid ...  See below.\n",
    "\n",
    "Example [05-test-frame-6b.ipynb](05-test-frame-6b.ipynb) does briefly document the input data, by example."
   ]
  },
  {
   "cell_type": "markdown",
   "metadata": {},
   "source": [
    "## The Examples"
   ]
  },
  {
   "cell_type": "markdown",
   "metadata": {},
   "source": [
    "Most of the examples are currently in this directory, as notebooks with names starting with a 2-digit\n",
    "number, e.g. [10-test-frame-6.ipynb](10-test-frame-6.ipynb).  The number is simply an ordering\n",
    "technique so that the examples are listed from least to most complex.\n",
    "\n",
    "For now, simply [browse the notebooks](.) in order and run any that look interesting.  Here is a partial\n",
    "list of interesting examples:\n",
    " - **[05-test-frame-6b.ipynb](05-test-frame-6b.ipynb)** - a simple three member statically determinate\n",
    " frame.  This example has all of the input data provided directly in notebook cells using the\n",
    " `%%Table` cell magic.\n",
    " - **[10-test-frame-6.ipynb](10-test-frame-6.ipynb)** - almost the same frame as above, except it is\n",
    " statically indeterminate and the input data are in CSV files.\n",
    " - **[30-test-Beaufait-9-4-1.ipynb](30-test-Beaufait-9-4-1.ipynb)** - another 3-member frame that is\n",
    " example 9.4.1 in Beaufait's Fundamentals of Structural Analysis text.  It has a sloping member with\n",
    " a force applied that has parallel and transverse components.\n",
    " - **[40-test-KG82.ipynb](40-test-KG82.ipynb)** - A 2 story, 3 bay frame that is example 8.3 in Kulak and\n",
    " Grondin's Limit States Design in Structural Steel.  It shows the results of both a first order analysis\n",
    " and of a $2^{nd}$-order $P-\\Delta$ analysis, and compares the results with those given in Kulak and Grondin.\n",
    " - **[70-Generate-large-frames.ipynb](70-Generate-large-frames.ipynb)** - this notebook generates large,\n",
    " regular multi-story frames from settable parameters.  It prepares the input for Frame2D directly\n",
    " (in tables) and relies on Frame2D to save the CSV files."
   ]
  },
  {
   "cell_type": "markdown",
   "metadata": {},
   "source": [
    "## The Source Code"
   ]
  },
  {
   "cell_type": "markdown",
   "metadata": {},
   "source": [
    "All of the source code is avaliable here.  It is presented in a way that supposedly makes it easy to understand how it was developed; i.e. it is a *teaching tool* rather than a production tool.  \n",
    "\n",
    "The code makes heavy use of the [numpy](http://www.numpy.org/) module for linear algebra and array manipulation, and of the [pandas](http://pandas.pydata.org/) module for assistance in processing\n",
    "tabular input and output.  Some use is made of [matplotlib](http://matplotlib.org/) for graphics display, but that is not yet well developed.\n"
   ]
  },
  {
   "cell_type": "markdown",
   "metadata": {},
   "source": [
    "To read the source code:\n",
    " - browse the **[source directory](Frame2D)**, or\n",
    " - start a **[guided read](Frame2D/00-README.ipynb)**."
   ]
  },
  {
   "cell_type": "code",
   "execution_count": null,
   "metadata": {
    "collapsed": true
   },
   "outputs": [],
   "source": []
  }
 ],
 "metadata": {
  "kernelspec": {
   "display_name": "Python 3",
   "language": "python",
   "name": "python3"
  },
  "language_info": {
   "codemirror_mode": {
    "name": "ipython",
    "version": 3
   },
   "file_extension": ".py",
   "mimetype": "text/x-python",
   "name": "python",
   "nbconvert_exporter": "python",
   "pygments_lexer": "ipython3",
   "version": "3.6.8"
  },
  "widgets": {
   "state": {},
   "version": "1.1.1"
  }
 },
 "nbformat": 4,
 "nbformat_minor": 2
}
