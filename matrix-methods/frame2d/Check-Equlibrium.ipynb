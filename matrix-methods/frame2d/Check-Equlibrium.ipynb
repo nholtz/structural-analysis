{
 "cells": [
  {
   "cell_type": "markdown",
   "metadata": {},
   "source": [
    "## Check Equilibrium\n",
    "This notebook reads files describing a structure, and the files output by Frame2D after an\n",
    "analysis, and checks that the forces and moments on every node are in equilibrium.\n",
    "\n",
    "It does this in the simplest way possible, using quite different logic than Frame2D, resulting\n",
    "in a higher degree of confidence in the results.  It would have been better had someone else\n",
    "programmed it, but oh well ..."
   ]
  },
  {
   "cell_type": "code",
   "execution_count": 1,
   "metadata": {
    "collapsed": true
   },
   "outputs": [],
   "source": [
    "dir = 'KG82.d'\n",
    "#dir = 'l22x6.d'\n",
    "#dir = 'l22x6pd.d'\n",
    "\n",
    "def filename(basename):\n",
    "    return dir + '/' + basename + '.csv'\n",
    "\n",
    "def Warn(msg):\n",
    "    print('!!!!! Warning: {}'.format(msg))"
   ]
  },
  {
   "cell_type": "code",
   "execution_count": 2,
   "metadata": {
    "collapsed": true
   },
   "outputs": [],
   "source": [
    "import pandas as pd\n",
    "import math"
   ]
  },
  {
   "cell_type": "code",
   "execution_count": 3,
   "metadata": {
    "collapsed": false
   },
   "outputs": [],
   "source": [
    "class Node(object):\n",
    "    \n",
    "    def __init__(self,id,x,y):\n",
    "        self.id = id\n",
    "        self.x = x\n",
    "        self.y = y\n",
    "        self.sumFX = 0.\n",
    "        self.sumFY = 0.\n",
    "        self.sumMZ = 0."
   ]
  },
  {
   "cell_type": "code",
   "execution_count": 4,
   "metadata": {
    "collapsed": false
   },
   "outputs": [],
   "source": [
    "table = pd.read_csv(filename('nodes'))\n",
    "NODES = {}\n",
    "for i,n in table.iterrows():\n",
    "    if n.ID in NODES:\n",
    "        Warn(\"Node '{}' is multiply defined.\".format(n.ID))\n",
    "    NODES[n.ID] = Node(n.ID,float(n.X),float(n.Y))"
   ]
  },
  {
   "cell_type": "code",
   "execution_count": 5,
   "metadata": {
    "collapsed": true
   },
   "outputs": [],
   "source": [
    "class Member(object):\n",
    "    \n",
    "    def __init__(self,id,nodej,nodek):\n",
    "        self.id = id\n",
    "        self.nodej = nodej\n",
    "        self.nodek = nodek\n",
    "        \n",
    "        dx = nodek.x - nodej.x\n",
    "        dy = nodek.y - nodej.y\n",
    "        self.L = L = math.sqrt(dx*dx + dy*dy)\n",
    "        self.cosx = dx/L\n",
    "        self.cosy = dy/L"
   ]
  },
  {
   "cell_type": "code",
   "execution_count": 6,
   "metadata": {
    "collapsed": false
   },
   "outputs": [],
   "source": [
    "table = pd.read_csv(filename('members'))\n",
    "MEMBERS = {}\n",
    "for i,m in table.iterrows():\n",
    "    if m.ID in MEMBERS:\n",
    "        Warn(\"Member '{}' is multiply defined.\".format(m.ID))\n",
    "    MEMBERS[m.ID] = Member(m.ID,NODES[m.NODEJ],NODES[m.NODEK])"
   ]
  },
  {
   "cell_type": "code",
   "execution_count": 7,
   "metadata": {
    "collapsed": false
   },
   "outputs": [],
   "source": [
    "table = pd.read_csv(filename('node_loads'))\n",
    "for i,p in table.iterrows():\n",
    "    dirn = p.DIRN.upper()\n",
    "    if dirn in ['FX','FY','MZ']:\n",
    "        n = NODES[p.ID]\n",
    "        a = 'sum'+dirn\n",
    "        setattr(n,a,getattr(n,a,0.)+float(p.F))\n",
    "    else:\n",
    "        Warn(\"Direction '{}' invalid for node '{}'.\".format(dirn,p.ID))"
   ]
  },
  {
   "cell_type": "code",
   "execution_count": 8,
   "metadata": {
    "collapsed": false
   },
   "outputs": [],
   "source": [
    "try:\n",
    "    table = pd.read_csv(filename('pdelta_forces'))\n",
    "    for i,p in table.iterrows():\n",
    "        dirn = p.DIRN.upper()\n",
    "        if dirn in ['FX','FY','MZ']:\n",
    "            n = NODES[p.ID]\n",
    "            a = 'sum'+dirn\n",
    "            setattr(n,a,getattr(n,a,0.)+float(p.F))\n",
    "        else:\n",
    "            Warn(\"Direction '{}' invalid for node '{}'.\".format(dirn,p.ID))\n",
    "except OSError:\n",
    "    pass"
   ]
  },
  {
   "cell_type": "code",
   "execution_count": 9,
   "metadata": {
    "collapsed": false
   },
   "outputs": [],
   "source": [
    "table = pd.read_csv(filename('reactions'))\n",
    "for i,r in table.iterrows():\n",
    "    n = NODES[r.ID]\n",
    "    n.sumFX += 0. if pd.isnull(r.FX) else float(r.FX)\n",
    "    n.sumFY += 0. if pd.isnull(r.FY) else float(r.FY)\n",
    "    n.sumMZ += 0. if pd.isnull(r.MZ) else float(r.MZ)"
   ]
  },
  {
   "cell_type": "code",
   "execution_count": 10,
   "metadata": {
    "collapsed": false
   },
   "outputs": [
    {
     "data": {
      "text/html": [
       "<div style=\"max-height:1000px;max-width:1500px;overflow:auto;\">\n",
       "<table border=\"1\" class=\"dataframe\">\n",
       "  <thead>\n",
       "    <tr style=\"text-align: right;\">\n",
       "      <th></th>\n",
       "      <th>ID</th>\n",
       "      <th>FXJ</th>\n",
       "      <th>FYJ</th>\n",
       "      <th>MZJ</th>\n",
       "      <th>FXK</th>\n",
       "      <th>FYK</th>\n",
       "      <th>MZK</th>\n",
       "    </tr>\n",
       "  </thead>\n",
       "  <tbody>\n",
       "    <tr>\n",
       "      <th>0 </th>\n",
       "      <td> AB</td>\n",
       "      <td>  994654.015809</td>\n",
       "      <td>  -2177.821451</td>\n",
       "      <td> 4.189959e+07</td>\n",
       "      <td> -994654.015809</td>\n",
       "      <td>   2177.821451</td>\n",
       "      <td>-5.605543e+07</td>\n",
       "    </tr>\n",
       "    <tr>\n",
       "      <th>1 </th>\n",
       "      <td> BC</td>\n",
       "      <td>  452381.814808</td>\n",
       "      <td> -88371.309081</td>\n",
       "      <td>-2.410726e+08</td>\n",
       "      <td> -452381.814808</td>\n",
       "      <td>  88371.309081</td>\n",
       "      <td>-2.449696e+08</td>\n",
       "    </tr>\n",
       "    <tr>\n",
       "      <th>2 </th>\n",
       "      <td> DE</td>\n",
       "      <td> 1055345.984190</td>\n",
       "      <td>  63235.567017</td>\n",
       "      <td> 1.843676e+08</td>\n",
       "      <td>-1055345.984190</td>\n",
       "      <td> -63235.567017</td>\n",
       "      <td> 2.266636e+08</td>\n",
       "    </tr>\n",
       "    <tr>\n",
       "      <th>3 </th>\n",
       "      <td> EF</td>\n",
       "      <td>  470118.185192</td>\n",
       "      <td> 115284.882504</td>\n",
       "      <td> 2.959813e+08</td>\n",
       "      <td> -470118.185192</td>\n",
       "      <td>-115284.882504</td>\n",
       "      <td> 3.380856e+08</td>\n",
       "    </tr>\n",
       "    <tr>\n",
       "      <th>4 </th>\n",
       "      <td> IG</td>\n",
       "      <td>  500000.000000</td>\n",
       "      <td>   2308.981361</td>\n",
       "      <td> 3.725290e-08</td>\n",
       "      <td> -500000.000000</td>\n",
       "      <td>  -2308.981361</td>\n",
       "      <td> 1.500838e+07</td>\n",
       "    </tr>\n",
       "    <tr>\n",
       "      <th>5 </th>\n",
       "      <td> GH</td>\n",
       "      <td>  225000.000000</td>\n",
       "      <td>  -2728.796153</td>\n",
       "      <td>-1.500838e+07</td>\n",
       "      <td> -225000.000000</td>\n",
       "      <td>   2728.796153</td>\n",
       "      <td> 1.490116e-08</td>\n",
       "    </tr>\n",
       "    <tr>\n",
       "      <th>6 </th>\n",
       "      <td> JK</td>\n",
       "      <td>  500000.000000</td>\n",
       "      <td>   1933.273074</td>\n",
       "      <td> 0.000000e+00</td>\n",
       "      <td> -500000.000000</td>\n",
       "      <td>  -1933.273074</td>\n",
       "      <td> 1.256627e+07</td>\n",
       "    </tr>\n",
       "    <tr>\n",
       "      <th>7 </th>\n",
       "      <td> KL</td>\n",
       "      <td>  225000.000000</td>\n",
       "      <td>  -2284.777269</td>\n",
       "      <td>-1.256627e+07</td>\n",
       "      <td> -225000.000000</td>\n",
       "      <td>   2284.777269</td>\n",
       "      <td> 0.000000e+00</td>\n",
       "    </tr>\n",
       "    <tr>\n",
       "      <th>8 </th>\n",
       "      <td> CF</td>\n",
       "      <td>   90656.086350</td>\n",
       "      <td> 227381.814808</td>\n",
       "      <td> 2.449696e+08</td>\n",
       "      <td>  -90656.086350</td>\n",
       "      <td> 245118.185192</td>\n",
       "      <td>-3.380856e+08</td>\n",
       "    </tr>\n",
       "    <tr>\n",
       "      <th>9 </th>\n",
       "      <td> BE</td>\n",
       "      <td>  -90411.537973</td>\n",
       "      <td> 267272.201001</td>\n",
       "      <td> 2.971280e+08</td>\n",
       "      <td>   90411.537973</td>\n",
       "      <td> 310227.798999</td>\n",
       "      <td>-5.226449e+08</td>\n",
       "    </tr>\n",
       "    <tr>\n",
       "      <th>10</th>\n",
       "      <td> FH</td>\n",
       "      <td>  -24628.796153</td>\n",
       "      <td> 225000.000000</td>\n",
       "      <td> 0.000000e+00</td>\n",
       "      <td>   24628.796153</td>\n",
       "      <td> 225000.000000</td>\n",
       "      <td> 0.000000e+00</td>\n",
       "    </tr>\n",
       "    <tr>\n",
       "      <th>11</th>\n",
       "      <td> EG</td>\n",
       "      <td>  -38362.222486</td>\n",
       "      <td> 275000.000000</td>\n",
       "      <td> 0.000000e+00</td>\n",
       "      <td>   38362.222486</td>\n",
       "      <td> 275000.000000</td>\n",
       "      <td> 0.000000e+00</td>\n",
       "    </tr>\n",
       "    <tr>\n",
       "      <th>12</th>\n",
       "      <td> KB</td>\n",
       "      <td>   -4218.050343</td>\n",
       "      <td> 275000.000000</td>\n",
       "      <td> 0.000000e+00</td>\n",
       "      <td>    4218.050343</td>\n",
       "      <td> 275000.000000</td>\n",
       "      <td> 0.000000e+00</td>\n",
       "    </tr>\n",
       "    <tr>\n",
       "      <th>13</th>\n",
       "      <td> LC</td>\n",
       "      <td>    2284.777269</td>\n",
       "      <td> 225000.000000</td>\n",
       "      <td> 0.000000e+00</td>\n",
       "      <td>   -2284.777269</td>\n",
       "      <td> 225000.000000</td>\n",
       "      <td> 0.000000e+00</td>\n",
       "    </tr>\n",
       "  </tbody>\n",
       "</table>\n",
       "<p>14 rows × 7 columns</p>\n",
       "</div>"
      ],
      "text/plain": [
       "    ID             FXJ            FYJ           MZJ             FXK  \\\n",
       "0   AB   994654.015809   -2177.821451  4.189959e+07  -994654.015809   \n",
       "1   BC   452381.814808  -88371.309081 -2.410726e+08  -452381.814808   \n",
       "2   DE  1055345.984190   63235.567017  1.843676e+08 -1055345.984190   \n",
       "3   EF   470118.185192  115284.882504  2.959813e+08  -470118.185192   \n",
       "4   IG   500000.000000    2308.981361  3.725290e-08  -500000.000000   \n",
       "5   GH   225000.000000   -2728.796153 -1.500838e+07  -225000.000000   \n",
       "6   JK   500000.000000    1933.273074  0.000000e+00  -500000.000000   \n",
       "7   KL   225000.000000   -2284.777269 -1.256627e+07  -225000.000000   \n",
       "8   CF    90656.086350  227381.814808  2.449696e+08   -90656.086350   \n",
       "9   BE   -90411.537973  267272.201001  2.971280e+08    90411.537973   \n",
       "10  FH   -24628.796153  225000.000000  0.000000e+00    24628.796153   \n",
       "11  EG   -38362.222486  275000.000000  0.000000e+00    38362.222486   \n",
       "12  KB    -4218.050343  275000.000000  0.000000e+00     4218.050343   \n",
       "13  LC     2284.777269  225000.000000  0.000000e+00    -2284.777269   \n",
       "\n",
       "              FYK           MZK  \n",
       "0     2177.821451 -5.605543e+07  \n",
       "1    88371.309081 -2.449696e+08  \n",
       "2   -63235.567017  2.266636e+08  \n",
       "3  -115284.882504  3.380856e+08  \n",
       "4    -2308.981361  1.500838e+07  \n",
       "5     2728.796153  1.490116e-08  \n",
       "6    -1933.273074  1.256627e+07  \n",
       "7     2284.777269  0.000000e+00  \n",
       "8   245118.185192 -3.380856e+08  \n",
       "9   310227.798999 -5.226449e+08  \n",
       "10  225000.000000  0.000000e+00  \n",
       "11  275000.000000  0.000000e+00  \n",
       "12  275000.000000  0.000000e+00  \n",
       "13  225000.000000  0.000000e+00  \n",
       "\n",
       "[14 rows x 7 columns]"
      ]
     },
     "execution_count": 10,
     "metadata": {},
     "output_type": "execute_result"
    }
   ],
   "source": [
    "mtable = pd.read_csv(filename('mefs'))\n",
    "for i,row in mtable.iterrows():\n",
    "    m = MEMBERS[row.ID]\n",
    "    n = m.nodej\n",
    "    n.sumFX -= row.FXJ*m.cosx - row.FYJ*m.cosy\n",
    "    n.sumFY -= row.FXJ*m.cosy + row.FYJ*m.cosx\n",
    "    n.sumMZ -= row.MZJ\n",
    "    n = m.nodek\n",
    "    n.sumFX -= row.FXK*m.cosx - row.FYK*m.cosy\n",
    "    n.sumFY -= row.FXK*m.cosy + row.FYK*m.cosx\n",
    "    n.sumMZ -= row.MZK\n",
    "mtable"
   ]
  },
  {
   "cell_type": "code",
   "execution_count": 11,
   "metadata": {
    "collapsed": false
   },
   "outputs": [
    {
     "data": {
      "text/plain": [
       "(1055345.98419, 522644884.38199997)"
      ]
     },
     "execution_count": 11,
     "metadata": {},
     "output_type": "execute_result"
    }
   ],
   "source": [
    "maxF = max([mtable[c].abs().max() for c in 'FXJ FXK FYJ FYK'.split()])\n",
    "maxM = max([mtable[c].abs().max() for c in 'MZJ MZK'.split()])\n",
    "maxF,maxM"
   ]
  },
  {
   "cell_type": "code",
   "execution_count": 12,
   "metadata": {
    "collapsed": false
   },
   "outputs": [
    {
     "data": {
      "text/html": [
       "<div style=\"max-height:1000px;max-width:1500px;overflow:auto;\">\n",
       "<table border=\"1\" class=\"dataframe\">\n",
       "  <thead>\n",
       "    <tr style=\"text-align: right;\">\n",
       "      <th></th>\n",
       "      <th>sumFX</th>\n",
       "      <th>sumFY</th>\n",
       "      <th>sumMZ</th>\n",
       "    </tr>\n",
       "    <tr>\n",
       "      <th>ID</th>\n",
       "      <th></th>\n",
       "      <th></th>\n",
       "      <th></th>\n",
       "    </tr>\n",
       "  </thead>\n",
       "  <tbody>\n",
       "    <tr>\n",
       "      <th>H</th>\n",
       "      <td> 0</td>\n",
       "      <td> 0</td>\n",
       "      <td> 0</td>\n",
       "    </tr>\n",
       "    <tr>\n",
       "      <th>D</th>\n",
       "      <td> 0</td>\n",
       "      <td> 0</td>\n",
       "      <td> 0</td>\n",
       "    </tr>\n",
       "    <tr>\n",
       "      <th>G</th>\n",
       "      <td> 0</td>\n",
       "      <td> 0</td>\n",
       "      <td> 0</td>\n",
       "    </tr>\n",
       "    <tr>\n",
       "      <th>K</th>\n",
       "      <td> 0</td>\n",
       "      <td> 0</td>\n",
       "      <td> 0</td>\n",
       "    </tr>\n",
       "    <tr>\n",
       "      <th>C</th>\n",
       "      <td> 0</td>\n",
       "      <td> 0</td>\n",
       "      <td> 0</td>\n",
       "    </tr>\n",
       "    <tr>\n",
       "      <th>I</th>\n",
       "      <td> 0</td>\n",
       "      <td> 0</td>\n",
       "      <td> 0</td>\n",
       "    </tr>\n",
       "    <tr>\n",
       "      <th>E</th>\n",
       "      <td> 0</td>\n",
       "      <td> 0</td>\n",
       "      <td> 0</td>\n",
       "    </tr>\n",
       "    <tr>\n",
       "      <th>L</th>\n",
       "      <td> 0</td>\n",
       "      <td> 0</td>\n",
       "      <td> 0</td>\n",
       "    </tr>\n",
       "    <tr>\n",
       "      <th>J</th>\n",
       "      <td> 0</td>\n",
       "      <td> 0</td>\n",
       "      <td> 0</td>\n",
       "    </tr>\n",
       "    <tr>\n",
       "      <th>F</th>\n",
       "      <td> 0</td>\n",
       "      <td> 0</td>\n",
       "      <td> 0</td>\n",
       "    </tr>\n",
       "    <tr>\n",
       "      <th>B</th>\n",
       "      <td> 0</td>\n",
       "      <td> 0</td>\n",
       "      <td> 0</td>\n",
       "    </tr>\n",
       "    <tr>\n",
       "      <th>A</th>\n",
       "      <td> 0</td>\n",
       "      <td> 0</td>\n",
       "      <td> 0</td>\n",
       "    </tr>\n",
       "  </tbody>\n",
       "</table>\n",
       "<p>12 rows × 3 columns</p>\n",
       "</div>"
      ],
      "text/plain": [
       "    sumFX  sumFY  sumMZ\n",
       "ID                     \n",
       "H       0      0      0\n",
       "D       0      0      0\n",
       "G       0      0      0\n",
       "K       0      0      0\n",
       "C       0      0      0\n",
       "I       0      0      0\n",
       "E       0      0      0\n",
       "L       0      0      0\n",
       "J       0      0      0\n",
       "F       0      0      0\n",
       "B       0      0      0\n",
       "A       0      0      0\n",
       "\n",
       "[12 rows x 3 columns]"
      ]
     },
     "execution_count": 12,
     "metadata": {},
     "output_type": "execute_result"
    }
   ],
   "source": [
    "sums = pd.DataFrame([(n.id,n.sumFX,n.sumFY,n.sumMZ) for n in NODES.values()],\n",
    "                    columns=['ID','sumFX','sumFY','sumMZ']).set_index(['ID'])\n",
    "sums\n",
    "\n",
    "lm = 1E-11\n",
    "sums['sumFX'][sums['sumFX'].abs() <= maxF*lm] = 0\n",
    "sums['sumFY'][sums['sumFY'].abs() <= maxF*lm] = 0\n",
    "sums['sumMZ'][sums['sumMZ'].abs() <= maxM*lm] = 0\n",
    "sums"
   ]
  },
  {
   "cell_type": "code",
   "execution_count": 13,
   "metadata": {
    "collapsed": false
   },
   "outputs": [
    {
     "data": {
      "text/plain": [
       "sumFX    0\n",
       "sumFY    0\n",
       "sumMZ    0\n",
       "dtype: float64"
      ]
     },
     "execution_count": 13,
     "metadata": {},
     "output_type": "execute_result"
    }
   ],
   "source": [
    "sums.abs().max()"
   ]
  },
  {
   "cell_type": "code",
   "execution_count": null,
   "metadata": {
    "collapsed": true
   },
   "outputs": [],
   "source": []
  }
 ],
 "metadata": {
  "kernelspec": {
   "display_name": "Python 3",
   "language": "python",
   "name": "python3"
  },
  "language_info": {
   "codemirror_mode": {
    "name": "ipython",
    "version": 3
   },
   "file_extension": ".py",
   "mimetype": "text/x-python",
   "name": "python",
   "nbconvert_exporter": "python",
   "pygments_lexer": "ipython3",
   "version": "3.4.3"
  }
 },
 "nbformat": 4,
 "nbformat_minor": 0
}
