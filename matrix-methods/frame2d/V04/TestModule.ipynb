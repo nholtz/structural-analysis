{
 "cells": [
  {
   "cell_type": "markdown",
   "metadata": {},
   "source": [
    "# Test Module for importing"
   ]
  },
  {
   "cell_type": "code",
   "execution_count": 1,
   "metadata": {
    "collapsed": true
   },
   "outputs": [],
   "source": [
    "def foo():\n",
    "    return 'bar'"
   ]
  },
  {
   "cell_type": "code",
   "execution_count": 2,
   "metadata": {
    "collapsed": false
   },
   "outputs": [
    {
     "name": "stdout",
     "output_type": "stream",
     "text": [
      "total 72\n",
      "drwxr-xr-x 3 nholtz nholtz  4096 May 12 16:52 frame-6.d\n",
      "drwxr-xr-x 3 nholtz nholtz  4096 May 14 08:30 Fred\n",
      "-rw-r--r-- 1 nholtz nholtz 11844 May 15 12:21 Loads.ipynb\n",
      "-rw-r--r-- 1 nholtz nholtz  6602 May 16 10:59 NBImporter.ipynb\n",
      "-rw-r--r-- 1 nholtz nholtz  1982 May 16 11:03 Notes.ipynb\n",
      "drwxr-xr-x 2 nholtz nholtz  4096 May 15 12:20 __pycache__\n",
      "-rw-r--r-- 1 nholtz nholtz 11136 May 13 23:01 Tables.ipynb\n",
      "-rw-r--r-- 1 nholtz nholtz  7397 May 16 10:36 Testing-Stuff.ipynb\n",
      "-rw-r--r-- 1 nholtz nholtz   876 May 13 23:01 TestModule.ipynb\n",
      "-rw-r--r-- 1 nholtz nholtz    27 May 13 23:01 TestModule.py\n",
      "-rw-r--r-- 1 nholtz nholtz   211 May 13 23:06 TestModule.pyc\n",
      "-rw-r--r-- 1 nholtz nholtz  1563 May 12 14:25 v04lib.py\n",
      "/files/home/nholtz/work/git/structural-analysis/matrix-methods/frame2d/V04\n",
      "foo bar\n"
     ]
    }
   ],
   "source": [
    "%%bash\n",
    "ls -l\n",
    "/bin/pwd\n",
    "echo \"foo bar\""
   ]
  }
 ],
 "metadata": {
  "kernelspec": {
   "display_name": "Python 2",
   "language": "python",
   "name": "python2"
  },
  "language_info": {
   "codemirror_mode": {
    "name": "ipython",
    "version": 2
   },
   "file_extension": ".py",
   "mimetype": "text/x-python",
   "name": "python",
   "nbconvert_exporter": "python",
   "pygments_lexer": "ipython2",
   "version": "2.7.6"
  }
 },
 "nbformat": 4,
 "nbformat_minor": 0
}
