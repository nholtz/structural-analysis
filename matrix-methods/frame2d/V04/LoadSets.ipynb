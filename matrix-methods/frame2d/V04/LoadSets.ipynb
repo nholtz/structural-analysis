{
 "cells": [
  {
   "cell_type": "code",
   "execution_count": 6,
   "metadata": {
    "collapsed": false
   },
   "outputs": [],
   "source": [
    "from collections import OrderedDict"
   ]
  },
  {
   "cell_type": "code",
   "execution_count": 11,
   "metadata": {
    "collapsed": true
   },
   "outputs": [],
   "source": [
    "class LoadSet(object):\n",
    "    \n",
    "    def __init__(self):\n",
    "        self.loadlist = []\n",
    "        self.names = set()\n",
    "        \n",
    "    def append(self,name,obj,load):\n",
    "        self.loadlist.append((name,obj,load))\n",
    "        self.names.add(name)\n",
    "        \n",
    "    def iterloads(self,name):\n",
    "        ##if name not in self.names:\n",
    "        ##    raise ValueError(\"Invalid load name: {}.  Must be one of: {}\"\n",
    "        ##                    .format(name,', '.join(sorted(list(self.names)))))\n",
    "        for n,o,l in self.loadlist:\n",
    "            if n == name:\n",
    "                yield (o,l,1.0)"
   ]
  },
  {
   "cell_type": "code",
   "execution_count": 10,
   "metadata": {
    "collapsed": true
   },
   "outputs": [],
   "source": [
    "class LoadCombination(object):\n",
    "\n",
    "    def __init__(self):\n",
    "        self.combos = OrderedDict()\n",
    "        \n",
    "    def append(self,combo_name,load_name,factor):\n",
    "        if combo_name not in self.combos:\n",
    "            self.combos[combo_name] = OrderedDict()\n",
    "        d = self.combos[combo_name]\n",
    "        if load_name in d:\n",
    "            raise ValueError(\"Load '{}' is multiply defined on combo '{}'\".format(load_name.combo_name))\n",
    "        d[load_name] = factor\n",
    "        \n",
    "    def iterloads(self,name,loadset):\n",
    "        if name not in self.combos:\n",
    "            raise ValueError(\"Invalid load combination name: {}; must be one of '{}'\"\n",
    "                            .format(name,', '.join(sorted(self.combos.keys()))))\n",
    "        for load_name,factor in self.combos[name].items():\n",
    "            for obj,load,f in loadset.iterloads(load_name):\n",
    "                yield obj,load,f*factor"
   ]
  },
  {
   "cell_type": "code",
   "execution_count": null,
   "metadata": {
    "collapsed": true
   },
   "outputs": [],
   "source": []
  }
 ],
 "metadata": {
  "kernelspec": {
   "display_name": "Python 3",
   "language": "python",
   "name": "python3"
  },
  "language_info": {
   "codemirror_mode": {
    "name": "ipython",
    "version": 3
   },
   "file_extension": ".py",
   "mimetype": "text/x-python",
   "name": "python",
   "nbconvert_exporter": "python",
   "pygments_lexer": "ipython3",
   "version": "3.4.3"
  },
  "widgets": {
   "state": {},
   "version": "1.1.1"
  }
 },
 "nbformat": 4,
 "nbformat_minor": 0
}
