{
 "cells": [
  {
   "cell_type": "markdown",
   "metadata": {},
   "source": [
    "# 2-Dimensional Frame Analysis - Version 04\n",
    "This program performs an elastic analysis of 2-dimensional structural frames.  It has the following features:\n",
    "1. Input is provided by a set of CSV files (and cell-magics exist so you can specifiy the CSV data\n",
    "in a notebook cell).  See the example below for an, er, example.\n",
    "1. Handles concentrated forces on nodes, and concentrated forces, concentrated moments, and linearly varying distributed loads applied transversely anywhere along the member (i.e., there is as yet no way to handle longitudinal\n",
    "load components).\n",
    "1. It handles fixed, pinned, roller supports and member end moment releases (internal pins).  The former are\n",
    "handled by assigning free or fixed global degrees of freedom, and the latter are handled by adjusting the \n",
    "member stiffness matrix.\n",
    "1. It has the ability to handle named sets of loads with factored combinations of these.\n",
    "1. The DOF #'s are assigned by the program, with the fixed DOF #'s assigned after the non-fixed.  The equilibrium\n",
    "equation is then partitioned for solution.  Among other advantages, this means that support settlement could be\n",
    "easily added (there is no UI for that, yet).\n",
    "1. A non-linear analysis can be performed using the P-Delta method (fake shears are computed at column ends due to the vertical load acting through horizontal displacement differences, and these shears are applied as extra loads\n",
    "to the nodes).\n",
    "1. A full non-linear (2nd order) elastic analysis will soon be available by forming the equilibrium equations \n",
    "on the deformed structure.  This is very easy to add, but it hasn't been done yet.  Shouldn't be too long.\n",
    "1. There is very little no documentation below, but that will improve, slowly."
   ]
  },
  {
   "cell_type": "code",
   "execution_count": 3,
   "metadata": {
    "collapsed": false
   },
   "outputs": [
    {
     "name": "stdout",
     "output_type": "stream",
     "text": [
      "Compiling notebook 'Frame2D_SolveFirstOrder.ipynb' to 'Frame2D_SolveFirstOrder.py'.\n"
     ]
    }
   ],
   "source": [
    "from salib import extend, import_notebooks\n",
    "import_notebooks()\n",
    "\n",
    "from Frame2D_Base import Frame2D, ResultSet\n",
    "import Frame2D_Input\n",
    "import Frame2D_Display\n",
    "import Frame2D_SolveFirstOrder"
   ]
  },
  {
   "cell_type": "code",
   "execution_count": null,
   "metadata": {
    "collapsed": true
   },
   "outputs": [],
   "source": []
  }
 ],
 "metadata": {
  "kernelspec": {
   "display_name": "Python 2",
   "language": "python",
   "name": "python2"
  },
  "language_info": {
   "codemirror_mode": {
    "name": "ipython",
    "version": 2
   },
   "file_extension": ".py",
   "mimetype": "text/x-python",
   "name": "python",
   "nbconvert_exporter": "python",
   "pygments_lexer": "ipython2",
   "version": "2.7.6"
  },
  "widgets": {
   "state": {},
   "version": "1.1.1"
  }
 },
 "nbformat": 4,
 "nbformat_minor": 0
}
