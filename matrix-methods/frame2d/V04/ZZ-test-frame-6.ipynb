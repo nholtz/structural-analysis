{
 "cells": [
  {
   "cell_type": "code",
   "execution_count": 1,
   "metadata": {
    "collapsed": false
   },
   "outputs": [],
   "source": [
    "from salib import extend, import_notebooks\n",
    "import_notebooks()\n",
    "from Tables import Table\n",
    "from Frame2D import Frame2D"
   ]
  },
  {
   "cell_type": "markdown",
   "metadata": {},
   "source": [
    "![Frame 6](frame-6.d/frame-6.svg)"
   ]
  },
  {
   "cell_type": "code",
   "execution_count": 3,
   "metadata": {
    "collapsed": false
   },
   "outputs": [
    {
     "name": "stdout",
     "output_type": "stream",
     "text": [
      "\n",
      "Frame frame-6:\n",
      "==============\n",
      "\n",
      "\n",
      "              # of nodal degrees of freedom: 12\n",
      "  # of constrained nodal degrees of freedom: 5\n",
      "# of unconstrained nodal degrees of freedom: 7  (= degree of kinematic indeterminacy)\n",
      "\n",
      "                               # of members: 3\n",
      "                             # of reactions: 5\n",
      "                                 # of nodes: 4\n",
      "                            # of conditions: 0\n",
      "           degree of statical indeterminacy: 2\n",
      "\n",
      "\n",
      "\n",
      "Nodes:\n",
      "======\n",
      "\n",
      "Node          X         Y  Constraints  DOF #s\n",
      "----      -----     -----  -----------  ------\n",
      "A             0         0  FX,FY,MZ     7,8,9\n",
      "B             0      4000               0,1,2\n",
      "C          8000      4000               3,4,5\n",
      "D          8000         0  FX,FY        10,11,6\n",
      "\n",
      "\n",
      "\n",
      "Members:\n",
      "========\n",
      "\n",
      "Member   Node-J  Node-K    Length       dcx       dcy  Size                Ix           A  Releases\n",
      "------   ------  ------    ------   -------   -------  --------      --------       -----  --------\n",
      "AB       A       B         4000.0   0.00000   1.00000  W310x97       2.22e+08       12300  \n",
      "BC       B       C         8000.0   1.00000   0.00000  W460x106      4.88e+08       13500  \n",
      "DC       D       C         4000.0   0.00000   1.00000                2.22e+08       12300  \n",
      "\n",
      "\n",
      "\n",
      "Node Loads:\n",
      "===========\n",
      "\n",
      "Type  Node      FX          FY          MZ\n",
      "----  ----  ----------  ----------  ----------\n",
      "wind  B        -200000           0           0\n",
      "\n",
      "Member Loads:\n",
      "=============\n",
      "\n",
      "Type  Member  Load\n",
      "----  ------  ----------------\n",
      "live  BC      UDL(L=8000.0,w=-50)\n",
      "live  BC      PL(L=8000.0,P=-200000,a=5000.0)\n",
      "\n",
      "Support Displacements:\n",
      "======================\n",
      "\n",
      " - - - none - - -\n",
      "\n",
      "Load Combinations:\n",
      "==================\n",
      "\n",
      "Case   Type  Factor\n",
      "-----  ----  ------\n",
      "one    live    1.00\n",
      " \"     wind    1.00\n",
      "all    live    1.00\n",
      " \"     wind    1.00\n"
     ]
    }
   ],
   "source": [
    "f = Frame2D('frame-6')\n",
    "f.install_all()\n",
    "R = f.solve('one')\n",
    "f.print_input()"
   ]
  },
  {
   "cell_type": "code",
   "execution_count": 4,
   "metadata": {
    "collapsed": false
   },
   "outputs": [
    {
     "data": {
      "text/plain": [
       "matrix([[ -2.20180153e+01],\n",
       "        [ -5.22441765e-01],\n",
       "        [ -2.83723239e-03],\n",
       "        [ -2.21085039e+01],\n",
       "        [ -4.53167991e-01],\n",
       "        [  9.19558206e-03],\n",
       "        [  3.69289794e-03],\n",
       "        [  0.00000000e+00],\n",
       "        [  0.00000000e+00],\n",
       "        [  0.00000000e+00],\n",
       "        [  0.00000000e+00],\n",
       "        [  0.00000000e+00]])"
      ]
     },
     "execution_count": 4,
     "metadata": {},
     "output_type": "execute_result"
    }
   ],
   "source": [
    "R.node_displacements"
   ]
  },
  {
   "cell_type": "code",
   "execution_count": 5,
   "metadata": {
    "collapsed": false
   },
   "outputs": [
    {
     "data": {
      "text/plain": [
       "matrix([[  2.30539897e+05],\n",
       "        [  3.21301686e+05],\n",
       "        [ -4.29586514e+08],\n",
       "        [ -3.05398969e+04],\n",
       "        [  2.78698314e+05]])"
      ]
     },
     "execution_count": 5,
     "metadata": {},
     "output_type": "execute_result"
    }
   ],
   "source": [
    "R.reaction_forces"
   ]
  },
  {
   "cell_type": "markdown",
   "metadata": {},
   "source": [
    "Compare the above reactions and displacements with [V03](../example-frame-6.ipynb).  They seem to agree."
   ]
  },
  {
   "cell_type": "code",
   "execution_count": null,
   "metadata": {
    "collapsed": true
   },
   "outputs": [],
   "source": []
  }
 ],
 "metadata": {
  "kernelspec": {
   "display_name": "Python 2",
   "language": "python",
   "name": "python2"
  },
  "language_info": {
   "codemirror_mode": {
    "name": "ipython",
    "version": 2
   },
   "file_extension": ".py",
   "mimetype": "text/x-python",
   "name": "python",
   "nbconvert_exporter": "python",
   "pygments_lexer": "ipython2",
   "version": "2.7.6"
  },
  "widgets": {
   "state": {},
   "version": "1.1.1"
  }
 },
 "nbformat": 4,
 "nbformat_minor": 0
}
