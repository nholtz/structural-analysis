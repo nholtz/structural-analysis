{
 "cells": [
  {
   "cell_type": "markdown",
   "metadata": {},
   "source": [
    "## Fixed End Forces\n",
    "This module computes the fixed end forces (moments and shears) due to transverse loads\n",
    "acting on a 2-D planar structural member."
   ]
  },
  {
   "cell_type": "code",
   "execution_count": 29,
   "metadata": {
    "collapsed": false
   },
   "outputs": [],
   "source": [
    "from __future__ import division, print_function\n",
    "\n",
    "import numpy as np\n",
    "import sys\n",
    "sys.path[:0] = ['../../../']\n",
    "from salib import *"
   ]
  },
  {
   "cell_type": "code",
   "execution_count": 20,
   "metadata": {
    "collapsed": true
   },
   "outputs": [],
   "source": [
    "class FEF(object):\n",
    "    \n",
    "    def __init__(self,f0=0.,f1=0.,f2=0.,f3=0.,f4=0.,f5=0.):\n",
    "        if type(f0) is np.ndarray:\n",
    "            self.fefs = f0.copy()\n",
    "        else:\n",
    "            self.fefs = np.array([f0,f1,f2,f3,f4,f5])\n",
    "        \n",
    "    @property\n",
    "    def f0(self):\n",
    "        return self.fefs[0]\n",
    "    \n",
    "    def __getitem__(self,ix):\n",
    "        return self.fefs[ix]\n",
    "    \n",
    "    def __add__(self,other):\n",
    "        assert type(self) is type(other)\n",
    "        new = FEF(self.fefs+other.fefs)\n",
    "        return new\n",
    "    \n",
    "    def __repr__(self):\n",
    "        return '{}({},{},{},{},{},{})'.format(self.__class__.__name__,*(list(self.fefs)))"
   ]
  },
  {
   "cell_type": "code",
   "execution_count": 23,
   "metadata": {
    "collapsed": false
   },
   "outputs": [
    {
     "data": {
      "text/plain": [
       "FEF(1.0,2.0,0.0,4.0,0.0,0.0)"
      ]
     },
     "execution_count": 23,
     "metadata": {},
     "output_type": "execute_result"
    }
   ],
   "source": [
    "##test\n",
    "f = FEF(1,2,0,4)\n",
    "f"
   ]
  },
  {
   "cell_type": "code",
   "execution_count": 24,
   "metadata": {
    "collapsed": false
   },
   "outputs": [
    {
     "data": {
      "text/plain": [
       "FEF(3.0,6.0,0.0,12.0,0.0,0.0)"
      ]
     },
     "execution_count": 24,
     "metadata": {},
     "output_type": "execute_result"
    }
   ],
   "source": [
    "##test\n",
    "g = f+f+f\n",
    "g"
   ]
  },
  {
   "cell_type": "code",
   "execution_count": 25,
   "metadata": {
    "collapsed": false
   },
   "outputs": [
    {
     "data": {
      "text/plain": [
       "2.0"
      ]
     },
     "execution_count": 25,
     "metadata": {},
     "output_type": "execute_result"
    }
   ],
   "source": [
    "##test\n",
    "f[1]"
   ]
  },
  {
   "cell_type": "code",
   "execution_count": 16,
   "metadata": {
    "collapsed": false
   },
   "outputs": [
    {
     "data": {
      "text/plain": [
       "array([ 0.,  3.,  6.])"
      ]
     },
     "execution_count": 16,
     "metadata": {},
     "output_type": "execute_result"
    }
   ],
   "source": [
    "##test\n",
    "g[np.ix_([3,0,1])]"
   ]
  },
  {
   "cell_type": "code",
   "execution_count": 26,
   "metadata": {
    "collapsed": false
   },
   "outputs": [
    {
     "data": {
      "text/plain": [
       "array([ 12.,   3.,   6.])"
      ]
     },
     "execution_count": 26,
     "metadata": {},
     "output_type": "execute_result"
    }
   ],
   "source": [
    "##test\n",
    "g[([3,0,1],)]"
   ]
  },
  {
   "cell_type": "code",
   "execution_count": 28,
   "metadata": {
    "collapsed": false
   },
   "outputs": [
    {
     "data": {
      "text/plain": [
       "12.0"
      ]
     },
     "execution_count": 28,
     "metadata": {},
     "output_type": "execute_result"
    }
   ],
   "source": [
    "##test\n",
    "f0,f1,f2,f3,f4,f5 = g\n",
    "f3"
   ]
  },
  {
   "cell_type": "code",
   "execution_count": 18,
   "metadata": {
    "collapsed": true
   },
   "outputs": [],
   "source": [
    "class MemberLoad(object):\n",
    "    \n",
    "    def fefs(self):\n",
    "        \"\"\"Return the complete set of 6 fixed end forces produced by the load.\"\"\"\n",
    "        raise NotImplementedError()\n",
    "        \n",
    "    def shear(self,x):\n",
    "        \"\"\"Return the shear force that is in equilibrium with that\n",
    "        produced by the portion of the load to the left of the point at \n",
    "        distance 'x'.  'x' may be a scalar or a 1-dimensional array\n",
    "        of values.\"\"\"\n",
    "        raise NotImplementedError()\n",
    "        \n",
    "    def moment(self,x):\n",
    "        \"\"\"Return the bending moment that is in equilibrium with that\n",
    "        produced by the portion of the load to the left of the point at \n",
    "        distance 'x'.  'x' may be a scalar or a 1-dimensional array\n",
    "        of values.\"\"\"\n",
    "        raise NotImplementedError()"
   ]
  },
  {
   "cell_type": "code",
   "execution_count": 19,
   "metadata": {
    "collapsed": true
   },
   "outputs": [],
   "source": [
    "@extend\n",
    "class MemberLoad:\n",
    "    \n",
    "    @property\n",
    "    def vpts(self):\n",
    "        \"\"\"Return an array of points (x-distances from end-0) at which the\n",
    "        shear force must be evaluated in order to draw a proper shear force\n",
    "        diagram.\"\"\"\n",
    "        raise NotImplementedError()\n",
    "    \n",
    "    @property\n",
    "    def mpts(self):\n",
    "        \"\"\"Return an array of points (x-distances from end-0) at which the\n",
    "        bending moment must be evaluated in order to draw a proper bending\n",
    "        moment diagram.\"\"\"\n",
    "        raise NotImplementedError()"
   ]
  },
  {
   "cell_type": "code",
   "execution_count": 32,
   "metadata": {
    "collapsed": true
   },
   "outputs": [],
   "source": [
    "class PL(MemberLoad):\n",
    "    \n",
    "    def __init__(self,L,W1,A):\n",
    "        self.L = L\n",
    "        self.P = W1\n",
    "        self.A = A\n",
    "        \n",
    "    def fefs(self):\n",
    "        P = self.P\n",
    "        L = self.L\n",
    "        a = self.A\n",
    "        b = L-a\n",
    "        m2 = -P*a*b*b/(L*L)\n",
    "        m5 = P*a*a*b/(L*L)\n",
    "        v1 = (m2 + m5 - P*b)/L\n",
    "        v4 = -(m2 + m5 + P*a)/L\n",
    "        return FEF(0.,v1,m2,0.,v4,m5)\n",
    "    \n",
    "    def shear(self,x):\n",
    "        return -self.P*(x>self.A)\n",
    "    \n",
    "    def moment(self,x):\n",
    "        return self.P*(x-self.A)*(x>self.A)\n",
    "        \n",
    "    def __repr__(self):\n",
    "        return '{}(L={},W1={},A={})'.format(self.__class__.__name__,self.L,self.P,self.A)"
   ]
  },
  {
   "cell_type": "code",
   "execution_count": 35,
   "metadata": {
    "collapsed": false
   },
   "outputs": [
    {
     "data": {
      "text/plain": [
       "PL(L=1000.0,W1=300.0,A=400.0)"
      ]
     },
     "execution_count": 35,
     "metadata": {},
     "output_type": "execute_result"
    }
   ],
   "source": [
    "#test:\n",
    "p = PL(1000.,300.,400.)\n",
    "p"
   ]
  },
  {
   "cell_type": "code",
   "execution_count": 36,
   "metadata": {
    "collapsed": false
   },
   "outputs": [
    {
     "data": {
      "text/plain": [
       "FEF(0.0,-194.4,-43200.0,0.0,-105.6,28800.0)"
      ]
     },
     "execution_count": 36,
     "metadata": {},
     "output_type": "execute_result"
    }
   ],
   "source": [
    "##test:\n",
    "p.fefs()"
   ]
  },
  {
   "cell_type": "code",
   "execution_count": null,
   "metadata": {
    "collapsed": true
   },
   "outputs": [],
   "source": []
  },
  {
   "cell_type": "code",
   "execution_count": 37,
   "metadata": {
    "collapsed": true
   },
   "outputs": [],
   "source": [
    "@extend\n",
    "class MemberLoad:\n",
    "    \n",
    "    EPSILON = 1.0E-6\n",
    "\n",
    "@extend\n",
    "class PL:\n",
    "    \n",
    "    @property\n",
    "    def vpts(self):\n",
    "        return (self.A-self.EPSILON,self.A+self.EPSILON,0)\n",
    "    \n",
    "    @property\n",
    "    def mpts(self):\n",
    "        return (None,self.A,1)"
   ]
  },
  {
   "cell_type": "code",
   "execution_count": 39,
   "metadata": {
    "collapsed": false
   },
   "outputs": [
    {
     "ename": "TypeError",
     "evalue": "object() takes no parameters",
     "output_type": "error",
     "traceback": [
      "\u001b[1;31m---------------------------------------------------------------------------\u001b[0m",
      "\u001b[1;31mTypeError\u001b[0m                                 Traceback (most recent call last)",
      "\u001b[1;32m<ipython-input-39-09c461612099>\u001b[0m in \u001b[0;36m<module>\u001b[1;34m()\u001b[0m\n\u001b[1;32m----> 1\u001b[1;33m \u001b[0mp\u001b[0m \u001b[1;33m=\u001b[0m \u001b[0mPL\u001b[0m\u001b[1;33m(\u001b[0m\u001b[1;36m1000.\u001b[0m\u001b[1;33m,\u001b[0m\u001b[1;36m300.\u001b[0m\u001b[1;33m,\u001b[0m\u001b[1;36m400.\u001b[0m\u001b[1;33m)\u001b[0m\u001b[1;33m\u001b[0m\u001b[0m\n\u001b[0m\u001b[0;32m      2\u001b[0m \u001b[0mp\u001b[0m\u001b[1;33m.\u001b[0m\u001b[0mvpts\u001b[0m\u001b[1;33m\u001b[0m\u001b[0m\n",
      "\u001b[1;31mTypeError\u001b[0m: object() takes no parameters"
     ]
    }
   ],
   "source": [
    "p = PL(1000.,300.,400.)\n",
    "p.vpts"
   ]
  },
  {
   "cell_type": "code",
   "execution_count": 60,
   "metadata": {
    "collapsed": false
   },
   "outputs": [
    {
     "data": {
      "text/plain": [
       "FEF(3.0,6.0,0.0,0.0,0.0,0.0)"
      ]
     },
     "execution_count": 60,
     "metadata": {},
     "output_type": "execute_result"
    }
   ],
   "source": [
    "g"
   ]
  }
 ],
 "metadata": {
  "kernelspec": {
   "display_name": "Python 2",
   "language": "python",
   "name": "python2"
  },
  "language_info": {
   "codemirror_mode": {
    "name": "ipython",
    "version": 2
   },
   "file_extension": ".py",
   "mimetype": "text/x-python",
   "name": "python",
   "nbconvert_exporter": "python",
   "pygments_lexer": "ipython2",
   "version": "2.7.6"
  },
  "widgets": {
   "state": {},
   "version": "1.1.1"
  }
 },
 "nbformat": 4,
 "nbformat_minor": 0
}
