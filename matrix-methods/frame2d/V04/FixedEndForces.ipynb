{
 "cells": [
  {
   "cell_type": "markdown",
   "metadata": {},
   "source": [
    "## Fixed End Forces\n",
    "This module computes the fixed end forces (moments and shears) due to transverse loads\n",
    "acting on a 2-D planar structural member."
   ]
  },
  {
   "cell_type": "code",
   "execution_count": 1,
   "metadata": {
    "collapsed": false
   },
   "outputs": [],
   "source": [
    "from __future__ import division, print_function\n",
    "\n",
    "import numpy as np\n",
    "import sys\n",
    "from salib import *"
   ]
  },
  {
   "cell_type": "code",
   "execution_count": 2,
   "metadata": {
    "collapsed": true
   },
   "outputs": [],
   "source": [
    "class FEF(object):\n",
    "    \n",
    "    def __init__(self,c0=0.,v1=0.,m2=0.,c3=0.,v4=0.,m5=0.):\n",
    "        if type(c0) is np.ndarray:\n",
    "            self.fefs = c0.copy()\n",
    "        else:\n",
    "            self.fefs = np.array([c0,v1,m2,c3,v4,m5],dtype=np.float64)\n",
    "        \n",
    "    def __getitem__(self,ix):\n",
    "        return self.fefs[ix]\n",
    "    \n",
    "    def __add__(self,other):\n",
    "        assert type(self) is type(other)\n",
    "        new = FEF(self.fefs+other.fefs)\n",
    "        return new\n",
    "    \n",
    "    def __repr__(self):\n",
    "        return '{}({},{},{},{},{},{})'.format(self.__class__.__name__,*(list(self.fefs)))"
   ]
  },
  {
   "cell_type": "code",
   "execution_count": 3,
   "metadata": {
    "collapsed": false
   },
   "outputs": [
    {
     "data": {
      "text/plain": [
       "FEF(1.0,2.0,0.0,4.0,1.0,6.0)"
      ]
     },
     "execution_count": 3,
     "metadata": {},
     "output_type": "execute_result"
    }
   ],
   "source": [
    "##test:\n",
    "f = FEF(1,2,0,4,1,6)\n",
    "f"
   ]
  },
  {
   "cell_type": "code",
   "execution_count": 4,
   "metadata": {
    "collapsed": false
   },
   "outputs": [
    {
     "data": {
      "text/plain": [
       "FEF(3.0,6.0,0.0,12.0,3.0,18.0)"
      ]
     },
     "execution_count": 4,
     "metadata": {},
     "output_type": "execute_result"
    }
   ],
   "source": [
    "##test:\n",
    "g = f+f+f\n",
    "g"
   ]
  },
  {
   "cell_type": "code",
   "execution_count": 5,
   "metadata": {
    "collapsed": false
   },
   "outputs": [
    {
     "data": {
      "text/plain": [
       "2.0"
      ]
     },
     "execution_count": 5,
     "metadata": {},
     "output_type": "execute_result"
    }
   ],
   "source": [
    "##test:\n",
    "f[1]"
   ]
  },
  {
   "cell_type": "code",
   "execution_count": 6,
   "metadata": {
    "collapsed": false
   },
   "outputs": [
    {
     "data": {
      "text/plain": [
       "array([ 12.,   3.,   6.])"
      ]
     },
     "execution_count": 6,
     "metadata": {},
     "output_type": "execute_result"
    }
   ],
   "source": [
    "##test:\n",
    "g[np.ix_([3,0,1])]"
   ]
  },
  {
   "cell_type": "code",
   "execution_count": 7,
   "metadata": {
    "collapsed": false
   },
   "outputs": [
    {
     "data": {
      "text/plain": [
       "array([ 12.,   3.,   6.])"
      ]
     },
     "execution_count": 7,
     "metadata": {},
     "output_type": "execute_result"
    }
   ],
   "source": [
    "##test:\n",
    "g[([3,0,1],)]"
   ]
  },
  {
   "cell_type": "code",
   "execution_count": 8,
   "metadata": {
    "collapsed": false
   },
   "outputs": [
    {
     "data": {
      "text/plain": [
       "12.0"
      ]
     },
     "execution_count": 8,
     "metadata": {},
     "output_type": "execute_result"
    }
   ],
   "source": [
    "##test:\n",
    "f0,f1,f2,f3,f4,f5 = g\n",
    "f3"
   ]
  },
  {
   "cell_type": "code",
   "execution_count": 9,
   "metadata": {
    "collapsed": false
   },
   "outputs": [],
   "source": [
    "@extend(FEF)\n",
    "class FEF:\n",
    "\n",
    "    @property\n",
    "    def c0(self):\n",
    "        return self.fefs[0]\n",
    "    \n",
    "    @c0.setter\n",
    "    def c0(self,v):\n",
    "        self.fefs[0] = v\n",
    "    \n",
    "    @property\n",
    "    def v1(self):\n",
    "        return self.fefs[1]\n",
    "    \n",
    "    @v1.setter\n",
    "    def v1(self,v):\n",
    "        self.fefs[1] = v\n",
    "    \n",
    "    @property\n",
    "    def m2(self):\n",
    "        return self.fefs[2]\n",
    "    \n",
    "    @m2.setter\n",
    "    def m2(self,v):\n",
    "        self.fefs[2] = v\n",
    "    \n",
    "    @property\n",
    "    def c3(self):\n",
    "        return self.fefs[3]\n",
    "    \n",
    "    @c3.setter\n",
    "    def c3(self,v):\n",
    "        self.fefs[3] = v\n",
    "    \n",
    "    @property\n",
    "    def v4(self):\n",
    "        return self.fefs[4]\n",
    "    \n",
    "    @v4.setter\n",
    "    def v4(self,v):\n",
    "        self.fefs[4] = v\n",
    "    \n",
    "    @property\n",
    "    def m5(self):\n",
    "        return self.fefs[5]\n",
    "    \n",
    "    @m5.setter\n",
    "    def m5(self,v):\n",
    "        self.fefs[5] = v"
   ]
  },
  {
   "cell_type": "code",
   "execution_count": 10,
   "metadata": {
    "collapsed": false
   },
   "outputs": [
    {
     "data": {
      "text/plain": [
       "(FEF(10.0,11.0,12.0,13.0,15.0,15.0), 10.0, 11.0, 12.0, 13.0, 15.0, 15.0)"
      ]
     },
     "execution_count": 10,
     "metadata": {},
     "output_type": "execute_result"
    }
   ],
   "source": [
    "#test:\n",
    "f = FEF(10.,11,12,13,15,15)\n",
    "f, f.c0, f.v1, f.m2, f.c3, f.v4, f.m5"
   ]
  },
  {
   "cell_type": "code",
   "execution_count": 11,
   "metadata": {
    "collapsed": false
   },
   "outputs": [
    {
     "data": {
      "text/plain": [
       "FEF(20.0,33.0,48.0,65.0,90.0,105.0)"
      ]
     },
     "execution_count": 11,
     "metadata": {},
     "output_type": "execute_result"
    }
   ],
   "source": [
    "#test:\n",
    "f.c0 *= 2\n",
    "f.v1 *= 3\n",
    "f.m2 *= 4\n",
    "f.c3 *= 5\n",
    "f.v4 *= 6\n",
    "f.m5 *= 7\n",
    "f"
   ]
  },
  {
   "cell_type": "code",
   "execution_count": 12,
   "metadata": {
    "collapsed": true
   },
   "outputs": [],
   "source": [
    "class MemberLoad(object):\n",
    "    \n",
    "    def fefs(self):\n",
    "        \"\"\"Return the complete set of 6 fixed end forces produced by the load.\"\"\"\n",
    "        raise NotImplementedError()\n",
    "        \n",
    "    def shear(self,x):\n",
    "        \"\"\"Return the shear force that is in equilibrium with that\n",
    "        produced by the portion of the load to the left of the point at \n",
    "        distance 'x'.  'x' may be a scalar or a 1-dimensional array\n",
    "        of values.\"\"\"\n",
    "        raise NotImplementedError()\n",
    "        \n",
    "    def moment(self,x):\n",
    "        \"\"\"Return the bending moment that is in equilibrium with that\n",
    "        produced by the portion of the load to the left of the point at \n",
    "        distance 'x'.  'x' may be a scalar or a 1-dimensional array\n",
    "        of values.\"\"\"\n",
    "        raise NotImplementedError()"
   ]
  },
  {
   "cell_type": "code",
   "execution_count": 13,
   "metadata": {
    "collapsed": false
   },
   "outputs": [],
   "source": [
    "@extend(MemberLoad)\n",
    "class MemberLoad:\n",
    "    \n",
    "    @property\n",
    "    def vpts(self):\n",
    "        \"\"\"Return a descriptor of the points at which the shear force must \n",
    "        be evaluated in order to draw a proper shear force diagram for this \n",
    "        load.  The descriptor is a 3-tuple of the form: (l,r,d) where 'l'\n",
    "        is the leftmost point, 'r' is the rightmost point and 'd' is the\n",
    "        degree of the curve between.  One of 'r', 'l' may be None.\"\"\"\n",
    "        raise NotImplementedError()\n",
    "    \n",
    "    @property\n",
    "    def mpts(self):\n",
    "        \"\"\"Return a descriptor of the points at which the moment must be \n",
    "        evaluated in order to draw a proper bending moment diagram for this \n",
    "        load.  The descriptor is a 3-tuple of the form: (l,r,d) where 'l'\n",
    "        is the leftmost point, 'r' is the rightmost point and 'd' is the\n",
    "        degree of the curve between.  One of 'r', 'l' may be None.\"\"\"\n",
    "        raise NotImplementedError()"
   ]
  },
  {
   "cell_type": "code",
   "execution_count": 14,
   "metadata": {
    "collapsed": true
   },
   "outputs": [],
   "source": [
    "class PL(MemberLoad):\n",
    "    \n",
    "    TABLE_MAP = {'P':'W1','a':'A'}\n",
    "    \n",
    "    def __init__(self,L,P,a):\n",
    "        self.L = L\n",
    "        self.P = P\n",
    "        self.a = a\n",
    "        \n",
    "    def fefs(self):\n",
    "        P = self.P\n",
    "        L = self.L\n",
    "        a = self.a\n",
    "        b = L-a\n",
    "        m2 = -P*a*b*b/(L*L)\n",
    "        m5 = P*a*a*b/(L*L)\n",
    "        v1 = (m2 + m5 - P*b)/L\n",
    "        v4 = -(m2 + m5 + P*a)/L\n",
    "        return FEF(0.,v1,m2,0.,v4,m5)\n",
    "    \n",
    "    def shear(self,x):\n",
    "        return -self.P*(x>self.a)\n",
    "    \n",
    "    def moment(self,x):\n",
    "        return self.P*(x-self.a)*(x>self.a)\n",
    "        \n",
    "    def __repr__(self):\n",
    "        return '{}(L={},W1={},a={})'.format(self.__class__.__name__,self.L,self.P,self.a)"
   ]
  },
  {
   "cell_type": "code",
   "execution_count": 15,
   "metadata": {
    "collapsed": false
   },
   "outputs": [
    {
     "data": {
      "text/plain": [
       "(PL(L=1000.0,W1=300.0,a=400.0), FEF(0.0,-194.4,-43200.0,0.0,-105.6,28800.0))"
      ]
     },
     "execution_count": 15,
     "metadata": {},
     "output_type": "execute_result"
    }
   ],
   "source": [
    "#test:\n",
    "p = PL(1000.,300.,400.)\n",
    "p, p.fefs()"
   ]
  },
  {
   "cell_type": "code",
   "execution_count": 16,
   "metadata": {
    "collapsed": false
   },
   "outputs": [],
   "source": [
    "@extend(MemberLoad)\n",
    "class MemberLoad:\n",
    "    \n",
    "    EPSILON = 1.0E-6\n",
    "\n",
    "@extend(PL)\n",
    "class PL:\n",
    "    \n",
    "    @property\n",
    "    def vpts(self):\n",
    "        return (self.a-self.EPSILON,self.a+self.EPSILON,0)\n",
    "    \n",
    "    @property\n",
    "    def mpts(self):\n",
    "        return (self.a,None,1)"
   ]
  },
  {
   "cell_type": "code",
   "execution_count": 17,
   "metadata": {
    "collapsed": false
   },
   "outputs": [
    {
     "data": {
      "text/plain": [
       "(399.999999, 400.000001, 0)"
      ]
     },
     "execution_count": 17,
     "metadata": {},
     "output_type": "execute_result"
    }
   ],
   "source": [
    "p = PL(1000.,300.,400.)\n",
    "p.vpts"
   ]
  },
  {
   "cell_type": "code",
   "execution_count": 18,
   "metadata": {
    "collapsed": false
   },
   "outputs": [
    {
     "data": {
      "text/plain": [
       "(400.0, None, 1)"
      ]
     },
     "execution_count": 18,
     "metadata": {},
     "output_type": "execute_result"
    }
   ],
   "source": [
    "p.mpts"
   ]
  },
  {
   "cell_type": "code",
   "execution_count": 19,
   "metadata": {
    "collapsed": false
   },
   "outputs": [],
   "source": [
    "class UDL(MemberLoad):\n",
    "    \n",
    "    TABLE_MAP = {'w':'W1'}\n",
    "    \n",
    "    def __init__(self,L,w):\n",
    "        self.L = L\n",
    "        self.w = w\n",
    "        \n",
    "    def __repr__(self):\n",
    "        return '{}(L={},w={})'.format(self.__class__.__name__,self.L,self.w)\n",
    "    \n",
    "    def fefs(self):\n",
    "        L = self.L\n",
    "        w = self.w\n",
    "        return FEF(0.,-w*L/2., -w*L*L/12., 0., -w*L/2., w*L*L/12.)\n",
    "    \n",
    "    def shear(self,x):\n",
    "        l = x*(x>0.)*(x<=self.L) + self.L*(x>self.L)    # length of loaded portion\n",
    "        return -(l*self.w)\n",
    "    \n",
    "    def moment(self,x):\n",
    "        l = x*(x>0.)*(x<=self.L) + self.L*(x>self.L)   # length of loaded portion\n",
    "        d = (x-self.L)*(x>self.L)   # distance from loaded portion to x: 0 if x <= L else x-L\n",
    "        return self.w*l*(l/2.+d)\n",
    "    \n",
    "    @property\n",
    "    def vpts(self):\n",
    "        return (0.,self.L,1)\n",
    "    \n",
    "    @property\n",
    "    def mpts(self):\n",
    "        return (0.,self.L,2)"
   ]
  },
  {
   "cell_type": "code",
   "execution_count": 20,
   "metadata": {
    "collapsed": false
   },
   "outputs": [
    {
     "data": {
      "text/plain": [
       "(UDL(L=12,w=10), FEF(0.0,-60.0,-120.0,0.0,-60.0,120.0))"
      ]
     },
     "execution_count": 20,
     "metadata": {},
     "output_type": "execute_result"
    }
   ],
   "source": [
    "#test:\n",
    "w = UDL(12,10)\n",
    "w,w.fefs()"
   ]
  },
  {
   "cell_type": "code",
   "execution_count": 21,
   "metadata": {
    "collapsed": true
   },
   "outputs": [],
   "source": [
    "class LVL(MemberLoad):\n",
    "    \n",
    "    TABLE_MAP = {'w1':'W1','w2':'W2','a':'A','b':'B','c':'C'}\n",
    "    \n",
    "    def __init__(self,L,w1,w2=None,a=None,b=None,c=None):\n",
    "        if a is not None and b is not None and c is not None and L != (a+b+c):\n",
    "            raise Exception('Cannot specify all of a, b & c')\n",
    "        if a is None:\n",
    "            if b is not None and c is not None:\n",
    "                a = L - (b+c)\n",
    "            else:\n",
    "                a = 0.\n",
    "        if c is None:\n",
    "            if b is not None:\n",
    "                c = L - (a+b)\n",
    "            else:\n",
    "                c = 0.\n",
    "        if b is None:\n",
    "            b = L - (a+c)\n",
    "        if w2 is None:\n",
    "            w2 = w1\n",
    "        self.L = L\n",
    "        self.w1 = w1\n",
    "        self.w2 = w2\n",
    "        self.a = a\n",
    "        self.b = b\n",
    "        self.c = c\n",
    "        \n",
    "    def fefs(self):\n",
    "        \"\"\"This mess was generated via sympy.  See:\n",
    "        ../../examples/cive3203-notebooks/FEM-2-Partial-lvl.ipynb \"\"\"\n",
    "        L = float(self.L)\n",
    "        a = self.a\n",
    "        b = self.b\n",
    "        c = self.c\n",
    "        w1 = self.w1\n",
    "        w2 = self.w2\n",
    "        m2 = -b*(15*a*b**2*w1 + 5*a*b**2*w2 + 40*a*b*c*w1 + 20*a*b*c*w2 + 30*a*c**2*w1 + 30*a*c**2*w2 + 3*b**3*w1 + 2*b**3*w2 + 10*b**2*c*w1 + 10*b**2*c*w2 + 10*b*c**2*w1 + 20*b*c**2*w2)/(60.*(a + b + c)**2)\n",
    "        m5 = b*(20*a**2*b*w1 + 10*a**2*b*w2 + 30*a**2*c*w1 + 30*a**2*c*w2 + 10*a*b**2*w1 + 10*a*b**2*w2 + 20*a*b*c*w1 + 40*a*b*c*w2 + 2*b**3*w1 + 3*b**3*w2 + 5*b**2*c*w1 + 15*b**2*c*w2)/(60.*(a + b + c)**2)\n",
    "        v4 = -(b*w1*(a + b/2.) + b*(a + 2*b/3.)*(-w1 + w2)/2. + m2 + m5)/L\n",
    "        v1 = -b*(w1 + w2)/2. - v4\n",
    "        return makefef(0.,v1,m2,0.,v4,m5)\n",
    "    \n",
    "    def __repr__(self):\n",
    "        return '{}(L={},w1={},w2={},a={},b={},c={})'\\\n",
    "               .format(self.__class__.__name__,self.L,self.w1,self.w2,self.a,self.b,self.c)\n",
    "        \n",
    "    def shear(self,x):\n",
    "        c = (x>self.a+self.b)    # 1 if x > A+B else 0\n",
    "        l = (x-self.a)*(x>self.a)*(1.-c) + self.b*c  # length of load portion to the left of x\n",
    "        return -(self.w1 + (self.w2-self.w1)*(l/self.b)/2.)*l        \n",
    "        \n",
    "    def moment(self,x):\n",
    "        c = (x>self.a+self.b)    # 1 if x > A+B else 0\n",
    "        #           note: ~c doesn't work if x is scalar, thus we use 1-c\n",
    "        l = (x-self.a)*(x>self.a)*(1.-c) + self.b*c  # length of load portion to the left of x\n",
    "        d = (x-(self.a+self.b))*c                  # distance from right end of load portion to x\n",
    "        return ((self.w1*(d+l/2.)) + (self.w2-self.w1)*(l/self.b)*(d+l/3.)/2.)*l\n",
    "    \n",
    "    @property\n",
    "    def vpts(self):\n",
    "        return (self.a,self.a+self.b,1 if self.w1==self.w2 else 2)\n",
    "    \n",
    "    @property\n",
    "    def mpts(self):\n",
    "        return (self.a,self.a+self.b,2 if self.w1==self.w2 else 3)"
   ]
  },
  {
   "cell_type": "code",
   "execution_count": 22,
   "metadata": {
    "collapsed": true
   },
   "outputs": [],
   "source": [
    "class CM(MemberLoad):\n",
    "    \n",
    "    TABLE_MAP = {'M':'W1','a':'A'}\n",
    "    \n",
    "    def __init__(self,L,M,a):\n",
    "        self.L = L\n",
    "        self.M = M\n",
    "        self.a = a\n",
    "        \n",
    "    def fefs(self):\n",
    "        L = float(self.L)\n",
    "        A = self.a\n",
    "        B = L - A\n",
    "        M = self.M\n",
    "        m2 = B*(2.*A - B)*M/L**2\n",
    "        m5 = A*(2.*B - A)*M/L**2\n",
    "        v1 = (M + m2 + m5)/L\n",
    "        v4 = -v1\n",
    "        return FEF(0,v1,m2,0,v4,m5)\n",
    "    \n",
    "    def shear(self,x):\n",
    "        return x*0.\n",
    "    \n",
    "    def moment(self,x):\n",
    "        return -self.M*(x>self.A)\n",
    "    \n",
    "    @property\n",
    "    def vpts(self):\n",
    "        return (None,None,0)\n",
    "    \n",
    "    @property\n",
    "    def mpts(self):\n",
    "        return (self.A-self.EPSILON,self.A+self.EPSILON,1)\n",
    "    \n",
    "    def __repr__(self):\n",
    "        return '{}(L={},M={},a={})'.format(self.__class__.__name__,self.L,self.M,self.a)"
   ]
  },
  {
   "cell_type": "code",
   "execution_count": 23,
   "metadata": {
    "collapsed": false
   },
   "outputs": [],
   "source": [
    "def makeMemberLoad(L,data,ltype=None):\n",
    "    def all_subclasses(cls):\n",
    "        _all_subclasses = []\n",
    "        for subclass in cls.__subclasses__():\n",
    "            _all_subclasses.append(subclass)\n",
    "            _all_subclasses.extend(all_subclasses(subclass))\n",
    "        return _all_subclasses\n",
    "\n",
    "    if ltype is None:\n",
    "        ltype = data.get('TYPE',None)\n",
    "    for c in all_subclasses(MemberLoad):\n",
    "        if c.__name__ == ltype and hasattr(c,'TABLE_MAP'):\n",
    "            MAP = c.TABLE_MAP\n",
    "            argv = {k:data[MAP[k]] for k in MAP.keys()}\n",
    "            return c(L,**argv)\n",
    "    raise Exception('Invalid load type: {}'.format(ltype))"
   ]
  },
  {
   "cell_type": "code",
   "execution_count": 25,
   "metadata": {
    "collapsed": false
   },
   "outputs": [
    {
     "data": {
      "text/plain": [
       "(UDL(L=12,w=10), FEF(0.0,-60.0,-120.0,0.0,-60.0,120.0))"
      ]
     },
     "execution_count": 25,
     "metadata": {},
     "output_type": "execute_result"
    }
   ],
   "source": [
    "#test:\n",
    "ml = makeMemberLoad(12,{'TYPE':'UDL', 'W1':10})\n",
    "ml, ml.fefs()"
   ]
  },
  {
   "cell_type": "code",
   "execution_count": null,
   "metadata": {
    "collapsed": true
   },
   "outputs": [],
   "source": []
  }
 ],
 "metadata": {
  "kernelspec": {
   "display_name": "Python 2",
   "language": "python",
   "name": "python2"
  },
  "language_info": {
   "codemirror_mode": {
    "name": "ipython",
    "version": 2
   },
   "file_extension": ".py",
   "mimetype": "text/x-python",
   "name": "python",
   "nbconvert_exporter": "python",
   "pygments_lexer": "ipython2",
   "version": "2.7.6"
  },
  "widgets": {
   "state": {},
   "version": "1.1.1"
  }
 },
 "nbformat": 4,
 "nbformat_minor": 0
}
