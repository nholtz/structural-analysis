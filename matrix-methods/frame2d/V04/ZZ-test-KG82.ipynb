{
 "cells": [
  {
   "cell_type": "code",
   "execution_count": 1,
   "metadata": {
    "collapsed": false
   },
   "outputs": [],
   "source": [
    "from salib import extend, import_notebooks\n",
    "import_notebooks()\n",
    "from Tables import Table\n",
    "import Frame2D_v04"
   ]
  },
  {
   "cell_type": "code",
   "execution_count": 2,
   "metadata": {
    "collapsed": true
   },
   "outputs": [],
   "source": [
    "f = Frame2D_v04.Frame2D('KG82')"
   ]
  },
  {
   "cell_type": "code",
   "execution_count": 3,
   "metadata": {
    "collapsed": false
   },
   "outputs": [],
   "source": [
    "f.install_all()\n",
    "f.number_dofs()"
   ]
  },
  {
   "cell_type": "code",
   "execution_count": 4,
   "metadata": {
    "collapsed": false
   },
   "outputs": [
    {
     "name": "stdout",
     "output_type": "stream",
     "text": [
      "\n",
      "Frame KG82:\n",
      "===========\n",
      "\n",
      "\n",
      "              # of nodal degrees of freedom: 36\n",
      "  # of constrained nodal degrees of freedom: 10\n",
      "# of unconstrained nodal degrees of freedom: 26  (= degree of kinematic indeterminacy)\n",
      "\n",
      "                               # of members: 14\n",
      "                             # of reactions: 10\n",
      "                                 # of nodes: 12\n",
      "                            # of conditions: 8\n",
      "             degree of static indeterminacy: 8\n",
      "\n",
      "\n",
      "\n",
      "Nodes:\n",
      "======\n",
      "\n",
      "Node          X         Y  Constraints  DOF #s\n",
      "----      -----     -----  -----------  ------\n",
      "A         10000         0  FX,FY,MZ     26,27,28\n",
      "B         10000      6500               0,1,2\n",
      "C         10000     12000               3,4,5\n",
      "D         20500         0  FX,FY,MZ     29,30,31\n",
      "E         20500      6500               6,7,8\n",
      "F         20500     12000               9,10,11\n",
      "G         30500      6500               12,13,14\n",
      "H         30500     12000               15,16,17\n",
      "I         30500         0  FX,FY        32,33,18\n",
      "J             0         0  FX,FY        34,35,19\n",
      "K             0      6500               20,21,22\n",
      "L             0     12000               23,24,25\n",
      "\n",
      "\n",
      "\n",
      "Members:\n",
      "========\n",
      "\n",
      "Member   Node-J  Node-K    Length       dcx       dcy  Size                Ix           A  Releases\n",
      "------   ------  ------    ------   -------   -------  --------      --------       -----  --------\n",
      "AB       A       B         6500.0   0.00000   1.00000  W310x97       2.22e+08       12300  \n",
      "BC       B       C         5500.0   0.00000   1.00000                2.22e+08       12300  \n",
      "DE       D       E         6500.0   0.00000   1.00000                2.22e+08       12300  \n",
      "EF       E       F         5500.0   0.00000   1.00000                2.22e+08       12300  \n",
      "IG       I       G         6500.0   0.00000   1.00000                2.22e+08       12300  \n",
      "GH       G       H         5500.0   0.00000   1.00000                2.22e+08       12300  \n",
      "JK       J       K         6500.0   0.00000   1.00000                2.22e+08       12300  \n",
      "KL       K       L         5500.0   0.00000   1.00000                2.22e+08       12300  \n",
      "CF       C       F        10500.0   1.00000   0.00000                4.88e+08       13500  \n",
      "BE       B       E        10500.0   1.00000   0.00000  W460x106      4.88e+08       13500  \n",
      "FH       F       H        10000.0   1.00000   0.00000                4.88e+08       13500  MZJ,MZK\n",
      "EG       E       G        10000.0   1.00000   0.00000                4.88e+08       13500  MZJ,MZK\n",
      "KB       K       B        10000.0   1.00000   0.00000                4.88e+08       13500  MZJ,MZK\n",
      "LC       L       C        10000.0   1.00000   0.00000                4.88e+08       13500  MZJ,MZK\n",
      "\n",
      "\n",
      "\n",
      "Node Loads:\n",
      "===========\n",
      "\n",
      "Type  Node      FX          FY          MZ\n",
      "----  ----  ----------  ----------  ----------\n",
      "wind  H          21900           0           0\n",
      "wind  G          43400           0           0\n",
      "\n",
      "Member Loads:\n",
      "=============\n",
      "\n",
      "Type  Member  Load\n",
      "----  ------  ----------------\n",
      "live  LC      UDL(L=10000.0,w=-45)\n",
      "live  CF      UDL(L=10500.0,w=-45)\n",
      "live  FH      UDL(L=10000.0,w=-45)\n",
      "live  KB      UDL(L=10000.0,w=-55)\n",
      "live  BE      UDL(L=10500.0,w=-55)\n",
      "live  EG      UDL(L=10000.0,w=-55)\n",
      "\n",
      "Load Combinations:\n",
      "==================\n",
      "\n",
      "Case   Type  Factor\n",
      "-----  ----  ------\n",
      "all    live    1.00\n",
      " \"     wind    1.00\n"
     ]
    }
   ],
   "source": [
    "f.print_input()"
   ]
  }
 ],
 "metadata": {
  "kernelspec": {
   "display_name": "Python 2",
   "language": "python",
   "name": "python2"
  },
  "language_info": {
   "codemirror_mode": {
    "name": "ipython",
    "version": 2
   },
   "file_extension": ".py",
   "mimetype": "text/x-python",
   "name": "python",
   "nbconvert_exporter": "python",
   "pygments_lexer": "ipython2",
   "version": "2.7.6"
  },
  "widgets": {
   "state": {},
   "version": "1.1.1"
  }
 },
 "nbformat": 4,
 "nbformat_minor": 0
}
