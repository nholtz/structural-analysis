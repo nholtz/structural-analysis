{
 "cells": [
  {
   "cell_type": "code",
   "execution_count": 1,
   "metadata": {
    "collapsed": true
   },
   "outputs": [],
   "source": [
    "from v04lib import *"
   ]
  },
  {
   "cell_type": "code",
   "execution_count": 2,
   "metadata": {
    "collapsed": true
   },
   "outputs": [],
   "source": [
    "class Loading(object):\n",
    "    pass"
   ]
  },
  {
   "cell_type": "code",
   "execution_count": 3,
   "metadata": {
    "collapsed": false
   },
   "outputs": [],
   "source": [
    "class LoadSet(Loading):\n",
    "    \n",
    "    LOADSET = {}\n",
    "    \n",
    "    @classmethod\n",
    "    def getLS(cls,lsname):\n",
    "        if lsname in cls.LOADSET:\n",
    "            return cls.LOADSET[lsname]\n",
    "        new = cls(lsname)\n",
    "        cls.LOADSET[lsname] = new\n",
    "        return new\n",
    "    \n",
    "    def __init__(self,lsname):\n",
    "        self.lsname = lsname\n",
    "        self.node_loads = {}\n",
    "        self.member_loads = {}"
   ]
  },
  {
   "cell_type": "code",
   "execution_count": 4,
   "metadata": {
    "collapsed": true
   },
   "outputs": [],
   "source": [
    "class LoadCombination(Loading):\n",
    "    pass"
   ]
  },
  {
   "cell_type": "code",
   "execution_count": 5,
   "metadata": {
    "collapsed": true
   },
   "outputs": [],
   "source": [
    "class NodeLoad(object):\n",
    "    pass"
   ]
  },
  {
   "cell_type": "code",
   "execution_count": 6,
   "metadata": {
    "collapsed": true
   },
   "outputs": [],
   "source": [
    "import numpy as np\n",
    "        \n",
    "def zerofef():\n",
    "    return np.mat(np.zeros((6,1)))\n",
    "\n",
    "def makefef(l):\n",
    "    return np.mat(np.array(l).reshape((6,1)))"
   ]
  },
  {
   "cell_type": "code",
   "execution_count": 7,
   "metadata": {
    "collapsed": true
   },
   "outputs": [],
   "source": [
    "class MemberLoad(object):\n",
    "    \n",
    "    EPSILON = 1.0E-6\n",
    "    \n",
    "    @classmethod\n",
    "    def all_subclasses(cls):\n",
    "        all_subclasses = []\n",
    "    \n",
    "        for subclass in cls.__subclasses__():\n",
    "            all_subclasses.append(subclass)\n",
    "            all_subclasses.extend(subclass.all_subclasses())\n",
    "\n",
    "        return all_subclasses\n",
    "\n",
    "    @classmethod\n",
    "    def subclass(cls,ltype,L,data):\n",
    "        classes = cls.all_subclasses()\n",
    "        for c in classes:\n",
    "            if c.__name__ == ltype:\n",
    "                aspec = getArgSpec(c.__init__)\n",
    "                args = aspec.args[2:]\n",
    "                defaults = aspec.defaults or ()\n",
    "                argl = zip(args,(None,)*(len(args)-len(defaults)) + defaults)\n",
    "                argv = {}\n",
    "                for k,v in argl:\n",
    "                    if k in data and not isnan(data[k]) and data[k] is not None:\n",
    "                        argv[k] = data[k]\n",
    "                    elif v is not None:\n",
    "                        argv[k] = v\n",
    "                ##print c,args,argl,'argv =',argv\n",
    "                return c(L,**argv)\n",
    "        raise Exception('Invalid load type: {}'.format(ltype))\n",
    "        \n",
    "    def fefs(self):\n",
    "        \"\"\"Return the complete set of 6 fixed end forces produced by the load.\"\"\"\n",
    "        raise NotImplementedError()\n",
    "        \n",
    "    def shear(self,x):\n",
    "        \"\"\"Return the shear force that is in equilibrium with that\n",
    "        produced by the portion of the load to the left of the point at \n",
    "        distance 'x'.  'x' may be a scalar or a 1-diemnsiional array\n",
    "        of values.\"\"\"\n",
    "        raise NotImplementedError()\n",
    "        \n",
    "    def moment(self,x):\n",
    "        \"\"\"Return the bending moment that is in equilibrium with that\n",
    "        produced by the portion of the load to the left of the point at \n",
    "        distance 'x'.  'x' may be a scalar or a 1-diemnsiional array\n",
    "        of values.\"\"\"\n",
    "        raise NotImplementedError()"
   ]
  },
  {
   "cell_type": "code",
   "execution_count": 8,
   "metadata": {
    "collapsed": true
   },
   "outputs": [],
   "source": [
    "class UDL(MemberLoad):\n",
    "    \n",
    "    def __init__(self,L,W1):\n",
    "        self.L = L\n",
    "        self.W = W1\n",
    "        \n",
    "    def __repr__(self):\n",
    "        return '{}(L={},W1={})'.format(self.__class__.__name__,self.L,self.W)\n",
    "    \n",
    "    def fefs(self):\n",
    "        L = self.L\n",
    "        w = self.W\n",
    "        return makefef([0.,-w*L/2., -w*L*L/12., 0., -w*L/2., w*L*L/12.])\n",
    "    \n",
    "    def shear(self,x):\n",
    "        l = x*(x>0.)*(x<=self.L) + self.L*(x>self.L)    # length of loaded portion\n",
    "        return -(l*self.W)\n",
    "    \n",
    "    def moment(self,x):\n",
    "        l = x*(x>0.)*(x<=self.L) + self.L*(x>self.L)   # length of loaded portion\n",
    "        d = (x-self.L)*(x>self.L)   # distance from loaded portion to x: 0 if x <= L else x-L\n",
    "        return self.W*l*(l/2.+d)\n",
    "    \n",
    "    @property\n",
    "    def vpts(self):\n",
    "        return (0.,self.L,1)\n",
    "    \n",
    "    @property\n",
    "    def mpts(self):\n",
    "        return (0.,self.L,2)"
   ]
  },
  {
   "cell_type": "code",
   "execution_count": 9,
   "metadata": {
    "collapsed": true
   },
   "outputs": [],
   "source": [
    "class LVL(MemberLoad):\n",
    "    \n",
    "    def __init__(self,L,W1,W2=None,A=None,B=None,C=None):\n",
    "        if A is not None and B is not None and C is not None and L != (A+B+C):\n",
    "            raise Exception('Cannot specify all of A, B & C')\n",
    "        if A is None:\n",
    "            if B is not None and C is not None:\n",
    "                A = L - (B+C)\n",
    "            else:\n",
    "                A = 0.\n",
    "        if C is None:\n",
    "            if B is not None:\n",
    "                C = L - (A+B)\n",
    "            else:\n",
    "                C = 0.\n",
    "        if B is None:\n",
    "            B = L - (A+C)\n",
    "        if W2 is None:\n",
    "            W2 = W1\n",
    "        self.L = L\n",
    "        self.W1 = W1\n",
    "        self.W2 = W2\n",
    "        self.A = A\n",
    "        self.B = B\n",
    "        self.C = C\n",
    "        \n",
    "    def fefs(self):\n",
    "        \"\"\"This mess was generated via sympy.  See:\n",
    "        ../../examples/cive3203-notebooks/FEM-2-Partial-lvl.ipynb \"\"\"\n",
    "        L = float(self.L)\n",
    "        a = self.A\n",
    "        b = self.B\n",
    "        c = self.C\n",
    "        w1 = self.W1\n",
    "        w2 = self.W2\n",
    "        m2 = -b*(15*a*b**2*w1 + 5*a*b**2*w2 + 40*a*b*c*w1 + 20*a*b*c*w2 + 30*a*c**2*w1 + 30*a*c**2*w2 + 3*b**3*w1 + 2*b**3*w2 + 10*b**2*c*w1 + 10*b**2*c*w2 + 10*b*c**2*w1 + 20*b*c**2*w2)/(60.*(a + b + c)**2)\n",
    "        m5 = b*(20*a**2*b*w1 + 10*a**2*b*w2 + 30*a**2*c*w1 + 30*a**2*c*w2 + 10*a*b**2*w1 + 10*a*b**2*w2 + 20*a*b*c*w1 + 40*a*b*c*w2 + 2*b**3*w1 + 3*b**3*w2 + 5*b**2*c*w1 + 15*b**2*c*w2)/(60.*(a + b + c)**2)\n",
    "        v4 = -(b*w1*(a + b/2.) + b*(a + 2*b/3.)*(-w1 + w2)/2. + m2 + m5)/L\n",
    "        v1 = -b*(w1 + w2)/2. - v4\n",
    "        return makefef([0.,v1,m2,0.,v4,m5])\n",
    "    \n",
    "    def __repr__(self):\n",
    "        return '{}(L={},W1={},W2={},A={},B={},C={})'\\\n",
    "               .format(self.__class__.__name__,self.L,self.W1,self.W2,self.A,self.B,self.C)\n",
    "        \n",
    "    def shear(self,x):\n",
    "        c = (x>self.A+self.B)    # 1 if x > A+B else 0\n",
    "        l = (x-self.A)*(x>self.A)*(1.-c) + self.B*c  # length of load portion to the left of x\n",
    "        return -(self.W1 + (self.W2-self.W1)*(l/self.B)/2.)*l        \n",
    "        \n",
    "    def moment(self,x):\n",
    "        c = (x>self.A+self.B)    # 1 if x > A+B else 0\n",
    "        #           note: ~c doesn't work if x is scalar, thus we use 1-c\n",
    "        l = (x-self.A)*(x>self.A)*(1.-c) + self.B*c  # length of load portion to the left of x\n",
    "        d = (x-(self.A+self.B))*c                  # distance from right end of load portion to x\n",
    "        return ((self.W1*(d+l/2.)) + (self.W2-self.W1)*(l/self.B)*(d+l/3.)/2.)*l\n",
    "    \n",
    "    @property\n",
    "    def vpts(self):\n",
    "        return (self.A,self.A+self.B,1 if self.w1==self.w2 else 2)\n",
    "    \n",
    "    @property\n",
    "    def mpts(self):\n",
    "        return (self.A,self.A+self.B,2 if self.w1==self.w2 else 3)"
   ]
  },
  {
   "cell_type": "code",
   "execution_count": 10,
   "metadata": {
    "collapsed": true
   },
   "outputs": [],
   "source": [
    "class PL(MemberLoad):\n",
    "    \n",
    "    def __init__(self,L,W1,A):\n",
    "        self.L = L\n",
    "        self.P = W1\n",
    "        self.A = A\n",
    "        \n",
    "    def fefs(self):\n",
    "        P = self.P\n",
    "        L = float(self.L)\n",
    "        a = self.A\n",
    "        b = L-a\n",
    "        m2 = -P*a*b*b/(L*L)\n",
    "        m5 = P*a*a*b/(L*L)\n",
    "        v1 = (m2 + m5 - P*b)/L\n",
    "        v4 = -(m2 + m5 + P*a)/L\n",
    "        return makefef([0.,v1,m2,0.,v4,m5])\n",
    "    \n",
    "    def shear(self,x):\n",
    "        return -self.P*(x>self.A)\n",
    "    \n",
    "    def moment(self,x):\n",
    "        return self.P*(x-self.A)*(x>self.A)\n",
    "    \n",
    "    @property\n",
    "    def vpts(self):\n",
    "        return (self.A-self.EPSILON,self.A+self.EPSILON,0)\n",
    "    \n",
    "    @property\n",
    "    def mpts(self):\n",
    "        return (None,self.A,1)\n",
    "    \n",
    "    def __repr__(self):\n",
    "        return '{}(L={},W1={},A={})'.format(self.__class__.__name__,self.L,self.P,self.A)"
   ]
  },
  {
   "cell_type": "code",
   "execution_count": 11,
   "metadata": {
    "collapsed": true
   },
   "outputs": [],
   "source": [
    "class CM(MemberLoad):\n",
    "    \n",
    "    def __init__(self,L,W1,A):\n",
    "        self.L = L\n",
    "        self.M = W1\n",
    "        self.A = A\n",
    "        \n",
    "    def fefs(self):\n",
    "        L = float(self.L)\n",
    "        A = self.A\n",
    "        B = L - A\n",
    "        M = self.M\n",
    "        m2 = B*(2.*A - B)*M/L**2\n",
    "        m5 = A*(2.*B - A)*M/L**2\n",
    "        v1 = (M + m2 + m5)/L\n",
    "        v4 = -v1\n",
    "        return makefef([0,v1,m2,0,v4,m5])\n",
    "    \n",
    "    def shear(self,x):\n",
    "        return x*0.\n",
    "    \n",
    "    def moment(self,x):\n",
    "        return -self.M*(x>self.A)\n",
    "    \n",
    "    @property\n",
    "    def vpts(self):\n",
    "        return (None,None,0)\n",
    "    \n",
    "    @property\n",
    "    def mpts(self):\n",
    "        return (self.A-self.EPSILON,self.A+self.EPSILON,1)\n",
    "    \n",
    "    def __repr__(self):\n",
    "        return '{}(L={},W1={},A={})'.format(self.__class__.__name__,self.L,self.M,self.A)"
   ]
  },
  {
   "cell_type": "code",
   "execution_count": null,
   "metadata": {
    "collapsed": true
   },
   "outputs": [],
   "source": []
  }
 ],
 "metadata": {
  "kernelspec": {
   "display_name": "Python 3",
   "language": "python",
   "name": "python3"
  },
  "language_info": {
   "codemirror_mode": {
    "name": "ipython",
    "version": 3
   },
   "file_extension": ".py",
   "mimetype": "text/x-python",
   "name": "python",
   "nbconvert_exporter": "python",
   "pygments_lexer": "ipython3",
   "version": "3.4.3"
  }
 },
 "nbformat": 4,
 "nbformat_minor": 0
}
