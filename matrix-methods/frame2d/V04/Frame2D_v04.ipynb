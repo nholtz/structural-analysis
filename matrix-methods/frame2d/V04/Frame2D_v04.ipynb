{
 "cells": [
  {
   "cell_type": "markdown",
   "metadata": {},
   "source": [
    "# 2-Dimensional Frame Analysis - Version 04\n",
    "This program performs an elastic analysis of 2-dimensional structural frames.  It has the following features:\n",
    "1. Input is provided by a set of CSV files (and cell-magics exist so you can specifiy the CSV data\n",
    "in a notebook cell).  See the example below for an, er, example.\n",
    "1. Handles concentrated forces on nodes, and concentrated forces, concentrated moments, and linearly varying distributed loads applied transversely anywhere along the member (i.e., there is as yet no way to handle longitudinal\n",
    "load components).\n",
    "1. It handles fixed, pinned, roller supports and member end moment releases (internal pins).  The former are\n",
    "handled by assigning free or fixed global degrees of freedom, and the latter are handled by adjusting the \n",
    "member stiffness matrix.\n",
    "1. It has the ability to handle named sets of loads with factored combinations of these.\n",
    "1. The DOF #'s are assigned by the program, with the fixed DOF #'s assigned after the non-fixed.  The equilibrium\n",
    "equation is then partitioned for solution.  Among other advantages, this means that support settlement could be\n",
    "easily added (there is no UI for that, yet).\n",
    "1. A non-linear analysis can be performed using the P-Delta method (fake shears are computed at column ends due to the vertical load acting through horizontal displacement differences, and these shears are applied as extra loads\n",
    "to the nodes).\n",
    "1. A full non-linear (2nd order) elastic analysis will soon be available by forming the equilibrium equations \n",
    "on the deformed structure.  This is very easy to add, but it hasn't been done yet.  Shouldn't be too long.\n",
    "1. There is very little no documentation below, but that will improve, slowly."
   ]
  },
  {
   "cell_type": "code",
   "execution_count": 1,
   "metadata": {
    "collapsed": true
   },
   "outputs": [],
   "source": [
    "from __future__ import print_function"
   ]
  },
  {
   "cell_type": "code",
   "execution_count": 2,
   "metadata": {
    "collapsed": false
   },
   "outputs": [],
   "source": [
    "from salib import extend, import_notebooks\n",
    "import_notebooks()\n",
    "from Tables import Table\n",
    "from Nodes import Node\n",
    "from Members import Member\n",
    "from LoadSets import LoadSet, LoadCombination\n",
    "from NodeLoads import makeNodeLoad\n",
    "from MemberLoads import makeMemberLoad\n",
    "from collections import OrderedDict, defaultdict\n",
    "import numpy as np"
   ]
  },
  {
   "cell_type": "code",
   "execution_count": 3,
   "metadata": {
    "collapsed": false
   },
   "outputs": [],
   "source": [
    "class Object(object):\n",
    "    pass\n",
    "\n",
    "class Frame2D(object):\n",
    "    \n",
    "    def __init__(self,dsname=None):\n",
    "        self.dsname = dsname\n",
    "        if dsname is not None:\n",
    "            Table.set_source(dsname)\n",
    "        self.reset()\n",
    "        \n",
    "    def reset(self):\n",
    "        self.rawdata = Object()\n",
    "        self.nodes = OrderedDict()\n",
    "        self.members = OrderedDict()\n",
    "        self.nodeloads = LoadSet()\n",
    "        self.memberloads = LoadSet()\n",
    "        self.loadcombinations = LoadCombination()\n",
    "        #self.dofdesc = []\n",
    "        #self.nodeloads = defaultdict(list)\n",
    "        #self.membloads = defaultdict(list)\n",
    "        self.ndof = 0\n",
    "        self.nfree = 0\n",
    "        self.ncons = 0\n",
    "        self.R = None\n",
    "        self.D = None\n",
    "        self.PDF = None    # P-Delta forces\n",
    "        \n",
    "    COLUMNS_xxx = [] # list of column names for table 'xxx'\n",
    "        \n",
    "    def get_table(self,tablename,extrasok=False,optional=False):\n",
    "        columns = getattr(self,'COLUMNS_'+tablename)\n",
    "        t = Table(tablename,ds_name=self.dsname,columns=columns,optional=optional)\n",
    "        t.read(optional=optional)\n",
    "        reqdl= columns\n",
    "        reqd = set(reqdl)\n",
    "        prov = set(t.columns)\n",
    "        if reqd-prov:\n",
    "            raise Exception('Columns missing {} for table \"{}\". Required columns are: {}'\\\n",
    "                            .format(list(reqd-prov),tablename,reqdl))\n",
    "        if not extrasok:\n",
    "            if prov-reqd:\n",
    "                raise Exception('Extra columns {} for table \"{}\". Required columns are: {}'\\\n",
    "                               .format(list(prov-reqd),tablename,reqdl))\n",
    "        return t"
   ]
  },
  {
   "cell_type": "markdown",
   "metadata": {},
   "source": [
    "## Test Frame\n",
    "![test frame](img/frame-6b.svg)\n",
    "## Nodes"
   ]
  },
  {
   "cell_type": "code",
   "execution_count": 4,
   "metadata": {
    "collapsed": true
   },
   "outputs": [],
   "source": [
    "%%Table nodes\n",
    "NODEID,X,Y,Z\n",
    "A,0.,0.,5000.\n",
    "B,0,4000,5000\n",
    "C,8000,4000,5000\n",
    "D,8000,0,5000"
   ]
  },
  {
   "cell_type": "code",
   "execution_count": 5,
   "metadata": {
    "collapsed": false
   },
   "outputs": [],
   "source": [
    "@extend\n",
    "class Frame2D:\n",
    "    \n",
    "    COLUMNS_nodes = ('NODEID','X','Y')\n",
    "        \n",
    "    def install_nodes(self):\n",
    "        node_table = self.get_table('nodes')\n",
    "        for ix,r in node_table.data.iterrows():\n",
    "            if r.NODEID in self.nodes:\n",
    "                raise Exception('Multiply defined node: {}'.format(r.NODEID))\n",
    "            n = Node(r.NODEID,r.X,r.Y)\n",
    "            self.nodes[n.id] = n\n",
    "        self.rawdata.nodes = node_table\n",
    "            \n",
    "    def get_node(self,id):\n",
    "        try:\n",
    "            return self.nodes[id]\n",
    "        except KeyError:\n",
    "            raise Exception('Node not defined: {}'.format(id))\n"
   ]
  },
  {
   "cell_type": "code",
   "execution_count": 6,
   "metadata": {
    "collapsed": false
   },
   "outputs": [],
   "source": [
    "##test:\n",
    "f = Frame2D()"
   ]
  },
  {
   "cell_type": "code",
   "execution_count": 7,
   "metadata": {
    "collapsed": false
   },
   "outputs": [],
   "source": [
    "##test:\n",
    "f.install_nodes()"
   ]
  },
  {
   "cell_type": "code",
   "execution_count": 8,
   "metadata": {
    "collapsed": false
   },
   "outputs": [
    {
     "data": {
      "text/plain": [
       "OrderedDict([('A', Node(\"A\",0.0,0.0)),\n",
       "             ('B', Node(\"B\",0.0,4000.0)),\n",
       "             ('C', Node(\"C\",8000.0,4000.0)),\n",
       "             ('D', Node(\"D\",8000.0,0.0))])"
      ]
     },
     "execution_count": 8,
     "metadata": {},
     "output_type": "execute_result"
    }
   ],
   "source": [
    "##test:\n",
    "f.nodes"
   ]
  },
  {
   "cell_type": "code",
   "execution_count": 9,
   "metadata": {
    "collapsed": false
   },
   "outputs": [
    {
     "data": {
      "text/plain": [
       "Node(\"C\",8000.0,4000.0)"
      ]
     },
     "execution_count": 9,
     "metadata": {},
     "output_type": "execute_result"
    }
   ],
   "source": [
    "##test:\n",
    "f.get_node('C')"
   ]
  },
  {
   "cell_type": "markdown",
   "metadata": {},
   "source": [
    "## Supports"
   ]
  },
  {
   "cell_type": "code",
   "execution_count": 10,
   "metadata": {
    "collapsed": true
   },
   "outputs": [],
   "source": [
    "%%Table supports\n",
    "NODEID,C0,C1,C2\n",
    "A,FX,FY,MZ\n",
    "D,FX,FY"
   ]
  },
  {
   "cell_type": "code",
   "execution_count": 11,
   "metadata": {
    "collapsed": true
   },
   "outputs": [],
   "source": [
    "def isnan(x):\n",
    "    if x is None:\n",
    "        return True\n",
    "    try:\n",
    "        return np.isnan(x)\n",
    "    except TypeError:\n",
    "        return False"
   ]
  },
  {
   "cell_type": "code",
   "execution_count": 12,
   "metadata": {
    "collapsed": false
   },
   "outputs": [],
   "source": [
    "@extend\n",
    "class Frame2D:\n",
    "    \n",
    "    COLUMNS_supports = ('NODEID','C0','C1','C2')\n",
    "    \n",
    "    def install_supports(self):\n",
    "        table = self.get_table('supports')\n",
    "        for ix,row in table.data.iterrows():\n",
    "            node = self.get_node(row.NODEID)\n",
    "            for c in [row.C0,row.C1,row.C2]:\n",
    "                if not isnan(c):\n",
    "                    node.add_constraint(c)\n",
    "        self.rawdata.supports = table"
   ]
  },
  {
   "cell_type": "code",
   "execution_count": 13,
   "metadata": {
    "collapsed": false
   },
   "outputs": [],
   "source": [
    "##test:\n",
    "f.install_supports()"
   ]
  },
  {
   "cell_type": "code",
   "execution_count": 14,
   "metadata": {
    "collapsed": false
   },
   "outputs": [
    {
     "data": {
      "text/plain": [
       "{'constraints': {'FX', 'FY'},\n",
       " 'dofnums': [None, None, None],\n",
       " 'id': 'D',\n",
       " 'x': 8000.0,\n",
       " 'y': 0.0}"
      ]
     },
     "execution_count": 14,
     "metadata": {},
     "output_type": "execute_result"
    }
   ],
   "source": [
    "##test:\n",
    "vars(f.get_node('D'))"
   ]
  },
  {
   "cell_type": "markdown",
   "metadata": {},
   "source": [
    "## Members"
   ]
  },
  {
   "cell_type": "code",
   "execution_count": 15,
   "metadata": {
    "collapsed": true
   },
   "outputs": [],
   "source": [
    "%%Table members\n",
    "MEMBERID,NODEJ,NODEK\n",
    "AB,A,B\n",
    "BC,B,C\n",
    "DC,D,C"
   ]
  },
  {
   "cell_type": "code",
   "execution_count": 16,
   "metadata": {
    "collapsed": false
   },
   "outputs": [],
   "source": [
    "@extend\n",
    "class Frame2D:\n",
    "    \n",
    "    COLUMNS_members = ('MEMBERID','NODEJ','NODEK')\n",
    "    \n",
    "    def install_members(self):\n",
    "        table = self.get_table('members')\n",
    "        for ix,m in table.data.iterrows():\n",
    "            if m.MEMBERID in self.members:\n",
    "                raise Exception('Multiply defined member: {}'.format(m.MEMBERID))\n",
    "            memb = Member(m.MEMBERID,self.get_node(m.NODEJ),self.get_node(m.NODEK))\n",
    "            self.members[memb.id] = memb\n",
    "        self.rawdata.members = table\n",
    "            \n",
    "    def get_member(self,id):\n",
    "        try:\n",
    "            return self.members[id]\n",
    "        except KeyError:\n",
    "            raise Exception('Member not defined: {}'.format(id))"
   ]
  },
  {
   "cell_type": "code",
   "execution_count": 17,
   "metadata": {
    "collapsed": false
   },
   "outputs": [
    {
     "data": {
      "text/plain": [
       "OrderedDict([('AB', Member(\"AB\",\"Node(\"A\",0.0,0.0)\",\"Node(\"B\",0.0,4000.0)\")),\n",
       "             ('BC',\n",
       "              Member(\"BC\",\"Node(\"B\",0.0,4000.0)\",\"Node(\"C\",8000.0,4000.0)\")),\n",
       "             ('DC',\n",
       "              Member(\"DC\",\"Node(\"D\",8000.0,0.0)\",\"Node(\"C\",8000.0,4000.0)\"))])"
      ]
     },
     "execution_count": 17,
     "metadata": {},
     "output_type": "execute_result"
    }
   ],
   "source": [
    "##test:\n",
    "f.install_members()\n",
    "f.members"
   ]
  },
  {
   "cell_type": "code",
   "execution_count": 18,
   "metadata": {
    "collapsed": false
   },
   "outputs": [
    {
     "data": {
      "text/plain": [
       "('BC', 8000.0, 1.0, 0.0)"
      ]
     },
     "execution_count": 18,
     "metadata": {},
     "output_type": "execute_result"
    }
   ],
   "source": [
    "##test:\n",
    "m = f.get_member('BC')\n",
    "m.id, m.L, m.dcx, m.dcy"
   ]
  },
  {
   "cell_type": "markdown",
   "metadata": {},
   "source": [
    "## Releases"
   ]
  },
  {
   "cell_type": "code",
   "execution_count": 19,
   "metadata": {
    "collapsed": true
   },
   "outputs": [],
   "source": [
    "%%Table releases\n",
    "MEMBERID,RELEASE\n",
    "AB,MZK"
   ]
  },
  {
   "cell_type": "code",
   "execution_count": 20,
   "metadata": {
    "collapsed": false
   },
   "outputs": [],
   "source": [
    "@extend\n",
    "class Frame2D:\n",
    "    \n",
    "    COLUMNS_releases = ('MEMBERID','RELEASE')\n",
    "    \n",
    "    def install_releases(self):\n",
    "        table = self.get_table('releases',optional=True)\n",
    "        for ix,r in table.data.iterrows():\n",
    "            memb = self.get_member(r.MEMBERID)\n",
    "            memb.add_release(r.RELEASE)\n",
    "        self.rawdata.releases = table"
   ]
  },
  {
   "cell_type": "code",
   "execution_count": 21,
   "metadata": {
    "collapsed": false
   },
   "outputs": [],
   "source": [
    "##test:\n",
    "f.install_releases()"
   ]
  },
  {
   "cell_type": "code",
   "execution_count": 22,
   "metadata": {
    "collapsed": false
   },
   "outputs": [
    {
     "data": {
      "text/plain": [
       "{'A': None,\n",
       " 'Ix': None,\n",
       " 'KG': None,\n",
       " 'KL': None,\n",
       " 'L': 4000.0,\n",
       " 'Tm': None,\n",
       " 'dcx': 0.0,\n",
       " 'dcy': 1.0,\n",
       " 'fefsl': None,\n",
       " 'id': 'AB',\n",
       " 'mefs': None,\n",
       " 'nodej': Node(\"A\",0.0,0.0),\n",
       " 'nodek': Node(\"B\",0.0,4000.0),\n",
       " 'releases': {'MZK'}}"
      ]
     },
     "execution_count": 22,
     "metadata": {},
     "output_type": "execute_result"
    }
   ],
   "source": [
    "##test:\n",
    "vars(f.get_member('AB'))"
   ]
  },
  {
   "cell_type": "markdown",
   "metadata": {},
   "source": [
    "## Properties"
   ]
  },
  {
   "cell_type": "markdown",
   "metadata": {},
   "source": [
    "If the SST module is loadable, member properties may be specified by giving steel shape designations\n",
    "(such as 'W310x97') in the member properties data.  If the module is not available, you may still give $A$ and\n",
    "$I_x$ directly (it only tries to lookup the properties if these two are not provided)."
   ]
  },
  {
   "cell_type": "code",
   "execution_count": 23,
   "metadata": {
    "collapsed": true
   },
   "outputs": [],
   "source": [
    "try:\n",
    "    from sst import SST\n",
    "    __SST = SST()\n",
    "    get_section = __SST.section\n",
    "except ImportError:\n",
    "    def get_section(dsg,fields):\n",
    "        raise ValueError('Cannot lookup property SIZE because SST is not available.  SIZE = {}'.format(dsg))\n",
    "        ##return [1.] * len(fields.split(',')) # in case you want to do it that way"
   ]
  },
  {
   "cell_type": "code",
   "execution_count": 24,
   "metadata": {
    "collapsed": true
   },
   "outputs": [],
   "source": [
    "%%Table properties\n",
    "MEMBERID,SIZE,IX,A\n",
    "BC,W460x106,,\n",
    "AB,W310x97,,\n",
    "DC,,"
   ]
  },
  {
   "cell_type": "code",
   "execution_count": 25,
   "metadata": {
    "collapsed": false
   },
   "outputs": [],
   "source": [
    "@extend\n",
    "class Frame2D:\n",
    "    \n",
    "    COLUMNS_properties = ('MEMBERID','SIZE','IX','A')\n",
    "    \n",
    "    def install_properties(self):\n",
    "        table = self.get_table('properties')\n",
    "        table = self.fill_properties(table)\n",
    "        for ix,row in table.data.iterrows():\n",
    "            memb = self.get_member(row.MEMBERID)\n",
    "            memb.size = row.SIZE\n",
    "            memb.Ix = row.IX\n",
    "            memb.A = row.A\n",
    "        self.rawdata.properties = table\n",
    "        \n",
    "    def fill_properties(self,table):\n",
    "        data = table.data\n",
    "        prev = None\n",
    "        for ix,row in data.iterrows():\n",
    "            nf = 0\n",
    "            if type(row.SIZE) in [type(''),type(u'')]:\n",
    "                if isnan(row.IX) or isnan(row.A):\n",
    "                    Ix,A = get_section(row.SIZE,'Ix,A')\n",
    "                    if isnan(row.IX):\n",
    "                        nf += 1\n",
    "                        data.loc[ix,'IX'] = Ix\n",
    "                    if isnan(row.A):\n",
    "                        nf += 1\n",
    "                        data.loc[ix,'A'] = A\n",
    "            elif isnan(row.SIZE):\n",
    "                data.loc[ix,'SIZE'] = '' if nf == 0 else prev\n",
    "            prev = data.loc[ix,'SIZE']\n",
    "        table.data = data.fillna(method='ffill')\n",
    "        return table"
   ]
  },
  {
   "cell_type": "code",
   "execution_count": 26,
   "metadata": {
    "collapsed": false
   },
   "outputs": [],
   "source": [
    "##test:\n",
    "f.install_properties()"
   ]
  },
  {
   "cell_type": "code",
   "execution_count": 27,
   "metadata": {
    "collapsed": false
   },
   "outputs": [
    {
     "data": {
      "text/plain": [
       "{'A': 12300.0,\n",
       " 'Ix': 222000000.0,\n",
       " 'KG': None,\n",
       " 'KL': None,\n",
       " 'L': 4000.0,\n",
       " 'Tm': None,\n",
       " 'dcx': 0.0,\n",
       " 'dcy': 1.0,\n",
       " 'fefsl': None,\n",
       " 'id': 'DC',\n",
       " 'mefs': None,\n",
       " 'nodej': Node(\"D\",8000.0,0.0),\n",
       " 'nodek': Node(\"C\",8000.0,4000.0),\n",
       " 'releases': set(),\n",
       " 'size': ''}"
      ]
     },
     "execution_count": 27,
     "metadata": {},
     "output_type": "execute_result"
    }
   ],
   "source": [
    "##test:\n",
    "vars(f.get_member('DC'))"
   ]
  },
  {
   "cell_type": "markdown",
   "metadata": {},
   "source": [
    "## Node Loads"
   ]
  },
  {
   "cell_type": "code",
   "execution_count": 28,
   "metadata": {
    "collapsed": true
   },
   "outputs": [],
   "source": [
    "%%Table node_loads\n",
    "LOAD,NODEID,DIRN,F\n",
    "Wind,B,FX,-200000."
   ]
  },
  {
   "cell_type": "code",
   "execution_count": 29,
   "metadata": {
    "collapsed": false
   },
   "outputs": [],
   "source": [
    "@extend\n",
    "class Frame2D:\n",
    "    \n",
    "    COLUMNS_node_loads = ('LOAD','NODEID','DIRN','F')\n",
    "    \n",
    "    def install_node_loads(self):\n",
    "        table = self.get_table('node_loads')\n",
    "        dirns = ['FX','FY','FZ']\n",
    "        for ix,row in table.data.iterrows():\n",
    "            n = self.get_node(row.NODEID)\n",
    "            if row.DIRN not in dirns:\n",
    "                raise ValueError(\"Invalid node load direction: {} for load {}, node {}; must be one of '{}'\"\n",
    "                                .format(row.DIRN, row.LOAD, row.NODEID, ', '.join(dirns)))\n",
    "            l = makeNodeLoad({row.DIRN:row.F})\n",
    "            self.nodeloads.append(row.LOAD,n,l)\n",
    "        self.rawdata.node_loads = table"
   ]
  },
  {
   "cell_type": "code",
   "execution_count": 30,
   "metadata": {
    "collapsed": false
   },
   "outputs": [],
   "source": [
    "##test:\n",
    "f.install_node_loads()"
   ]
  },
  {
   "cell_type": "code",
   "execution_count": 31,
   "metadata": {
    "collapsed": false
   },
   "outputs": [
    {
     "name": "stdout",
     "output_type": "stream",
     "text": [
      "Node(\"B\",0.0,4000.0) NodeLoad(-200000.0,0.0,0.0) 1.0 NodeLoad(-200000.0,0.0,0.0)\n"
     ]
    }
   ],
   "source": [
    "##test:\n",
    "for o,l,fact in f.nodeloads.iterloads('Wind'):\n",
    "    print(o,l,fact,l*fact)"
   ]
  },
  {
   "cell_type": "markdown",
   "metadata": {},
   "source": [
    "## Member Loads"
   ]
  },
  {
   "cell_type": "code",
   "execution_count": 32,
   "metadata": {
    "collapsed": true
   },
   "outputs": [],
   "source": [
    "%%Table member_loads\n",
    "LOAD,MEMBERID,TYPE,W1,W2,A,B,C\n",
    "Live,BC,UDL,-50,,,,\n",
    "Live,BC,PL,-200000,,5000"
   ]
  },
  {
   "cell_type": "code",
   "execution_count": 33,
   "metadata": {
    "collapsed": false
   },
   "outputs": [],
   "source": [
    "@extend\n",
    "class Frame2D:\n",
    "    \n",
    "    COLUMNS_member_loads = ('LOAD','MEMBERID','TYPE','W1','W2','A','B','C')\n",
    "    \n",
    "    def install_member_loads(self):\n",
    "        table = self.get_table('member_loads')\n",
    "        for ix,row in table.data.iterrows():\n",
    "            m = self.get_member(row.MEMBERID)\n",
    "            l = makeMemberLoad(m.L,row)\n",
    "            self.memberloads.append(row.LOAD,m,l)\n",
    "        self.rawdata.member_loads = table"
   ]
  },
  {
   "cell_type": "code",
   "execution_count": 34,
   "metadata": {
    "collapsed": true
   },
   "outputs": [],
   "source": [
    "##test:\n",
    "f.install_member_loads()"
   ]
  },
  {
   "cell_type": "code",
   "execution_count": 35,
   "metadata": {
    "collapsed": false
   },
   "outputs": [
    {
     "name": "stdout",
     "output_type": "stream",
     "text": [
      "BC UDL(L=8000.0,w=-50) 1.0 EF(0.0,200000.0,266666666.667,0.0,200000.0,-266666666.667)\n",
      "BC PL(L=8000.0,P=-200000,a=5000.0) 1.0 EF(0.0,63281.25,140625000.0,0.0,136718.75,-234375000.0)\n"
     ]
    }
   ],
   "source": [
    "##test:\n",
    "for o,l,fact in f.memberloads.iterloads('Live'):\n",
    "    print(o.id,l,fact,l.fefs()*fact)"
   ]
  },
  {
   "cell_type": "markdown",
   "metadata": {},
   "source": [
    "## Load Combinations"
   ]
  },
  {
   "cell_type": "code",
   "execution_count": 36,
   "metadata": {
    "collapsed": true
   },
   "outputs": [],
   "source": [
    "%%Table load_combinations\n",
    "CASE,LOAD,FACTOR\n",
    "One,Live,1.5\n",
    "One,Wind,1.75"
   ]
  },
  {
   "cell_type": "code",
   "execution_count": 37,
   "metadata": {
    "collapsed": false
   },
   "outputs": [],
   "source": [
    "@extend\n",
    "class Frame2D:\n",
    "    \n",
    "    COLUMNS_load_combinations = ('CASE','LOAD','FACTOR')\n",
    "    \n",
    "    def install_load_combinations(self):\n",
    "        table = self.get_table('load_combinations',optional=True)\n",
    "        if len(table) > 0:\n",
    "            for ix,row in table.data.iterrows():\n",
    "                self.loadcombinations.append(row.CASE,row.LOAD,row.FACTOR)\n",
    "        else:\n",
    "            all = self.nodeloads.names.union(self.memberloads.names)\n",
    "            for l in all:\n",
    "                self.loadcombinations.append('all',l,1.0)\n",
    "        self.rawdata.load_combinations = table"
   ]
  },
  {
   "cell_type": "code",
   "execution_count": 38,
   "metadata": {
    "collapsed": false
   },
   "outputs": [],
   "source": [
    "##test:\n",
    "f.install_load_combinations()"
   ]
  },
  {
   "cell_type": "code",
   "execution_count": 39,
   "metadata": {
    "collapsed": false
   },
   "outputs": [
    {
     "name": "stdout",
     "output_type": "stream",
     "text": [
      "B NodeLoad(-200000.0,0.0,0.0) 1.75\n",
      "BC UDL(L=8000.0,w=-50) 1.5 EF(0.0,300000.0,400000000.0,0.0,300000.0,-400000000.0)\n",
      "BC PL(L=8000.0,P=-200000,a=5000.0) 1.5 EF(0.0,94921.875,210937500.0,0.0,205078.125,-351562500.0)\n"
     ]
    }
   ],
   "source": [
    "##test:\n",
    "for o,l,fact in f.loadcombinations.iterloads('One',f.nodeloads):\n",
    "    print(o.id,l,fact)\n",
    "for o,l,fact in f.loadcombinations.iterloads('One',f.memberloads):\n",
    "    print(o.id,l,fact,l.fefs()*fact)"
   ]
  },
  {
   "cell_type": "markdown",
   "metadata": {},
   "source": [
    "### Load Iterators"
   ]
  },
  {
   "cell_type": "code",
   "execution_count": 40,
   "metadata": {
    "collapsed": false
   },
   "outputs": [],
   "source": [
    "@extend\n",
    "class Frame2D:\n",
    "\n",
    "    def iter_nodeloads(self,casename):\n",
    "        for o,l,f in self.loadcombinations.iterloads(casename,self.nodeloads):\n",
    "            yield o,l,f\n",
    "    \n",
    "    def iter_memberloads(self,casename):\n",
    "        for o,l,f in self.loadcombinations.iterloads(casename,self.memberloads):\n",
    "            yield o,l,f"
   ]
  },
  {
   "cell_type": "code",
   "execution_count": 41,
   "metadata": {
    "collapsed": false
   },
   "outputs": [
    {
     "name": "stdout",
     "output_type": "stream",
     "text": [
      "B NodeLoad(-200000.0,0.0,0.0) 1.75\n",
      "BC UDL(L=8000.0,w=-50) 1.5\n",
      "BC PL(L=8000.0,P=-200000,a=5000.0) 1.5\n"
     ]
    }
   ],
   "source": [
    "##test:\n",
    "for o,l,fact in f.iter_nodeloads('One'):\n",
    "    print(o.id,l,fact)\n",
    "for o,l,fact in f.iter_memberloads('One'):\n",
    "    print(o.id,l,fact)"
   ]
  },
  {
   "cell_type": "markdown",
   "metadata": {},
   "source": [
    "## Accumulated Cell Data"
   ]
  },
  {
   "cell_type": "code",
   "execution_count": 42,
   "metadata": {
    "collapsed": false
   },
   "outputs": [
    {
     "data": {
      "text/plain": [
       "{u'load_combinations': u'CASE,LOAD,FACTOR\\nOne,Live,1.5\\nOne,Wind,1.75',\n",
       " u'member_loads': u'LOAD,MEMBERID,TYPE,W1,W2,A,B,C\\nLive,BC,UDL,-50,,,,\\nLive,BC,PL,-200000,,5000',\n",
       " u'members': u'MEMBERID,NODEJ,NODEK\\nAB,A,B\\nBC,B,C\\nDC,D,C',\n",
       " u'node_loads': u'LOAD,NODEID,DIRN,F\\nWind,B,FX,-200000.',\n",
       " u'nodes': u'NODEID,X,Y,Z\\nA,0.,0.,5000.\\nB,0,4000,5000\\nC,8000,4000,5000\\nD,8000,0,5000',\n",
       " u'properties': u'MEMBERID,SIZE,IX,A\\nBC,W460x106,,\\nAB,W310x97,,\\nDC,,',\n",
       " u'releases': u'MEMBERID,RELEASE\\nAB,MZK',\n",
       " u'supports': u'NODEID,C0,C1,C2\\nA,FX,FY,MZ\\nD,FX,FY'}"
      ]
     },
     "execution_count": 42,
     "metadata": {},
     "output_type": "execute_result"
    }
   ],
   "source": [
    "##test:\n",
    "Table.CELLDATA"
   ]
  },
  {
   "cell_type": "markdown",
   "metadata": {},
   "source": [
    "## Input Everything"
   ]
  },
  {
   "cell_type": "code",
   "execution_count": 43,
   "metadata": {
    "collapsed": false
   },
   "outputs": [],
   "source": [
    "@extend\n",
    "class Frame2D:\n",
    "    \n",
    "    def install_all(self):\n",
    "        self.install_nodes()\n",
    "        self.install_supports()\n",
    "        self.install_members()\n",
    "        self.install_releases()\n",
    "        self.install_properties()\n",
    "        self.install_node_loads()\n",
    "        self.install_member_loads()\n",
    "        self.install_load_combinations()"
   ]
  },
  {
   "cell_type": "code",
   "execution_count": 44,
   "metadata": {
    "collapsed": false
   },
   "outputs": [],
   "source": [
    "##test:\n",
    "f.reset()\n",
    "f.install_all()"
   ]
  },
  {
   "cell_type": "markdown",
   "metadata": {},
   "source": [
    "## Number the DOFs"
   ]
  },
  {
   "cell_type": "code",
   "execution_count": 45,
   "metadata": {
    "collapsed": false
   },
   "outputs": [],
   "source": [
    "@extend\n",
    "class Frame2D:\n",
    "    \n",
    "    def number_dofs(self):\n",
    "        self.ndof = (3*len(self.nodes))\n",
    "        self.ncons = sum([len(node.constraints) for node in self.nodes.values()])\n",
    "        self.nfree = self.ndof - self.ncons\n",
    "        ifree = 0\n",
    "        icons = self.nfree\n",
    "        self.dofdesc = [None] * self.ndof\n",
    "        for node in self.nodes.values():\n",
    "            for dirn,ix in node.DIRECTIONS.items():\n",
    "                if dirn in node.constraints:\n",
    "                    n = icons\n",
    "                    icons += 1\n",
    "                else:\n",
    "                    n = ifree\n",
    "                    ifree += 1\n",
    "                node.dofnums[ix] = n\n",
    "                self.dofdesc[n] = (node,dirn)\n"
   ]
  },
  {
   "cell_type": "code",
   "execution_count": 46,
   "metadata": {
    "collapsed": true
   },
   "outputs": [],
   "source": [
    "##test:\n",
    "f.number_dofs()"
   ]
  },
  {
   "cell_type": "code",
   "execution_count": 47,
   "metadata": {
    "collapsed": false
   },
   "outputs": [
    {
     "data": {
      "text/plain": [
       "(12, 5, 7)"
      ]
     },
     "execution_count": 47,
     "metadata": {},
     "output_type": "execute_result"
    }
   ],
   "source": [
    "##test:\n",
    "f.ndof, f.ncons, f.nfree"
   ]
  },
  {
   "cell_type": "markdown",
   "metadata": {},
   "source": [
    "## Display Nodes"
   ]
  },
  {
   "cell_type": "code",
   "execution_count": 48,
   "metadata": {
    "collapsed": true
   },
   "outputs": [],
   "source": [
    "def prhead(txt,ul='='):\n",
    "    \"\"\"Print a heading and underline it.\"\"\"\n",
    "    print()\n",
    "    print(txt)\n",
    "    if ul:\n",
    "        print(ul*(len(txt)//len(ul)))\n",
    "    print()"
   ]
  },
  {
   "cell_type": "code",
   "execution_count": 49,
   "metadata": {
    "collapsed": false
   },
   "outputs": [],
   "source": [
    "@extend\n",
    "class Frame2D:\n",
    "\n",
    "    def print_nodes(self,precision=0,printdof=False):\n",
    "        prhead('Nodes:')\n",
    "        print('Node          X         Y  Constraints  DOF #s')\n",
    "        print('----      -----     -----  -----------  ------')\n",
    "        for nid,node in self.nodes.items():\n",
    "            ct = ','.join(sorted(node.constraints,key=lambda t: Node.DIRECTIONS[t]))\n",
    "            dt = ','.join([str(x) for x in node.dofnums])\n",
    "            print('{:<5s}{:>10.{precision}f}{:>10.{precision}f}  {:<11s}  {}'\\\n",
    "                  .format(nid,node.x,node.y,ct,dt,precision=precision))\n",
    "        if not printdof:\n",
    "            return\n",
    "        print()\n",
    "        print('DOF#   Node  Dirn')\n",
    "        print('----   ----  ----')\n",
    "        for i in range(len(self.dofdesc)):\n",
    "            node,dirn = self.dofdesc[i]\n",
    "            print('{:>4d}   {:<4s}  {}'.format(i,node.id,dirn))\n"
   ]
  },
  {
   "cell_type": "code",
   "execution_count": 50,
   "metadata": {
    "collapsed": false
   },
   "outputs": [
    {
     "name": "stdout",
     "output_type": "stream",
     "text": [
      "\n",
      "Nodes:\n",
      "======\n",
      "\n",
      "Node          X         Y  Constraints  DOF #s\n",
      "----      -----     -----  -----------  ------\n",
      "A             0         0  FX,FY,MZ     7,8,9\n",
      "B             0      4000               0,1,2\n",
      "C          8000      4000               3,4,5\n",
      "D          8000         0  FX,FY        10,11,6\n",
      "\n",
      "DOF#   Node  Dirn\n",
      "----   ----  ----\n",
      "   0   B     FX\n",
      "   1   B     FY\n",
      "   2   B     MZ\n",
      "   3   C     FX\n",
      "   4   C     FY\n",
      "   5   C     MZ\n",
      "   6   D     MZ\n",
      "   7   A     FX\n",
      "   8   A     FY\n",
      "   9   A     MZ\n",
      "  10   D     FX\n",
      "  11   D     FY\n"
     ]
    }
   ],
   "source": [
    "##test:\n",
    "f.print_nodes(printdof=True)"
   ]
  },
  {
   "cell_type": "markdown",
   "metadata": {},
   "source": [
    "## Display Members"
   ]
  },
  {
   "cell_type": "code",
   "execution_count": 51,
   "metadata": {
    "collapsed": false
   },
   "outputs": [],
   "source": [
    "@extend\n",
    "class Frame2D:\n",
    "    \n",
    "    def print_members(self,precision=1):\n",
    "        prhead('Members:')\n",
    "        print('Member   Node-J  Node-K    Length       dcx       dcy  Size                Ix           A  Releases')\n",
    "        print('------   ------  ------    ------   -------   -------  --------      --------       -----  --------')\n",
    "        for mid,memb in self.members.items():\n",
    "            nj = memb.nodej\n",
    "            nk = memb.nodek\n",
    "            rt = ','.join(sorted(memb.releases,key=lambda t: Member.RELEASES[t]))\n",
    "            print('{:<7s}  {:<6s}  {:<6s}  {:>8.{precision}f}  {:>8.5f}  {:>8.5f}  {:<10s}  {:>10g}  {:>10g}  {}'\\\n",
    "                  .format(memb.id,nj.id,nk.id,memb.L,memb.dcx,memb.dcy,str(memb.size),memb.Ix,memb.A,rt,precision=precision))"
   ]
  },
  {
   "cell_type": "code",
   "execution_count": 52,
   "metadata": {
    "collapsed": false
   },
   "outputs": [
    {
     "name": "stdout",
     "output_type": "stream",
     "text": [
      "\n",
      "Members:\n",
      "========\n",
      "\n",
      "Member   Node-J  Node-K    Length       dcx       dcy  Size                Ix           A  Releases\n",
      "------   ------  ------    ------   -------   -------  --------      --------       -----  --------\n",
      "AB       A       B         4000.0   0.00000   1.00000  W310x97       2.22e+08       12300  MZK\n",
      "BC       B       C         8000.0   1.00000   0.00000  W460x106      4.88e+08       13500  \n",
      "DC       D       C         4000.0   0.00000   1.00000                2.22e+08       12300  \n"
     ]
    }
   ],
   "source": [
    "##test:\n",
    "f.print_members()"
   ]
  },
  {
   "cell_type": "markdown",
   "metadata": {},
   "source": [
    "## Display loads"
   ]
  },
  {
   "cell_type": "code",
   "execution_count": 53,
   "metadata": {
    "collapsed": false
   },
   "outputs": [],
   "source": [
    "@extend\n",
    "class Frame2D:\n",
    "    \n",
    "    def print_loads(self,precision=0):\n",
    "        \n",
    "        prhead('Node Loads:')\n",
    "        if self.nodeloads:\n",
    "            print('Type  Node      FX          FY          MZ')\n",
    "            print('----  ----  ----------  ----------  ----------')\n",
    "            for lname,node,load in self.nodeloads:\n",
    "                print('{:<4s}  {:<4s}  {:>10.{precision}f}  {:>10.{precision}f}  {:>10.{precision}f}'\n",
    "                      .format(lname,node.id,load.fx,load.fy,load.mz,precision=precision))\n",
    "        else:\n",
    "            print(\" - - - none - - -\")\n",
    "\n",
    "        prhead('Member Loads:')\n",
    "        if self.memberloads:\n",
    "            print('Type  Member  Load')\n",
    "            print('----  ------  ----------------')\n",
    "            for lname,memb,load in self.memberloads:\n",
    "                print(\"{:<4s}  {:<6s}  {}\".format(lname,memb.id,load))\n",
    "        else:\n",
    "            print(\" - - - none - - -\")\n",
    "\n",
    "        prhead(\"Load Combinations:\")\n",
    "        if self.loadcombinations:\n",
    "            print('Case   Type  Factor')\n",
    "            print('-----  ----  ------')\n",
    "            prev = None\n",
    "            for cname,lname,f in self.loadcombinations:\n",
    "                cn = ' '*(len(prev)//2)+'\"' if cname == prev else cname\n",
    "                print(\"{:<5s}  {:<4s}  {:>6.2f}\".format(cn,lname,f))\n",
    "                prev = cname\n",
    "        else:\n",
    "            print(\" - - - none - - -\")\n"
   ]
  },
  {
   "cell_type": "code",
   "execution_count": 54,
   "metadata": {
    "collapsed": false
   },
   "outputs": [
    {
     "name": "stdout",
     "output_type": "stream",
     "text": [
      "\n",
      "Node Loads:\n",
      "===========\n",
      "\n",
      "Type  Node      FX          FY          MZ\n",
      "----  ----  ----------  ----------  ----------\n",
      "wind  B        -200000           0           0\n",
      "\n",
      "Member Loads:\n",
      "=============\n",
      "\n",
      "Type  Member  Load\n",
      "----  ------  ----------------\n",
      "live  BC      UDL(L=8000.0,w=-50)\n",
      "live  BC      PL(L=8000.0,P=-200000,a=5000.0)\n",
      "\n",
      "Load Combinations:\n",
      "==================\n",
      "\n",
      "Case   Type  Factor\n",
      "-----  ----  ------\n",
      "one    live    1.50\n",
      " \"     wind    1.75\n"
     ]
    }
   ],
   "source": [
    "##test:\n",
    "f.print_loads()"
   ]
  },
  {
   "cell_type": "code",
   "execution_count": 55,
   "metadata": {
    "collapsed": false
   },
   "outputs": [],
   "source": [
    "@extend\n",
    "class Frame2D:\n",
    "    \n",
    "    def print_input(self):\n",
    "        \n",
    "        prhead('Frame '+str(self.dsname)+':')\n",
    "        print()\n",
    "        print('              # of nodal degrees of freedom:',self.ndof)\n",
    "        print('  # of constrained nodal degrees of freedom:',self.ncons)\n",
    "        print('# of unconstrained nodal degrees of freedom:',self.nfree,' (= degree of kinematic indeterminacy)')\n",
    "        m = len(self.members)\n",
    "        r = self.ncons\n",
    "        j = len(self.nodes)\n",
    "        c = len(self.rawdata.releases)\n",
    "        print()\n",
    "        print('                               # of members:',m)\n",
    "        print('                             # of reactions:',r)\n",
    "        print('                                 # of nodes:',j)\n",
    "        print('                            # of conditions:',c)\n",
    "        print('             degree of static indeterminacy:',(3*m+r)-(3*j+c))\n",
    "        print('\\n')\n",
    "\n",
    "        self.print_nodes()\n",
    "        print('\\n')\n",
    "        self.print_members()\n",
    "        print('\\n')\n",
    "        self.print_loads()"
   ]
  },
  {
   "cell_type": "code",
   "execution_count": 56,
   "metadata": {
    "collapsed": false
   },
   "outputs": [
    {
     "name": "stdout",
     "output_type": "stream",
     "text": [
      "\n",
      "Frame None:\n",
      "===========\n",
      "\n",
      "\n",
      "              # of nodal degrees of freedom: 12\n",
      "  # of constrained nodal degrees of freedom: 5\n",
      "# of unconstrained nodal degrees of freedom: 7  (= degree of kinematic indeterminacy)\n",
      "\n",
      "                               # of members: 3\n",
      "                             # of reactions: 5\n",
      "                                 # of nodes: 4\n",
      "                            # of conditions: 1\n",
      "             degree of static indeterminacy: 1\n",
      "\n",
      "\n",
      "\n",
      "Nodes:\n",
      "======\n",
      "\n",
      "Node          X         Y  Constraints  DOF #s\n",
      "----      -----     -----  -----------  ------\n",
      "A             0         0  FX,FY,MZ     7,8,9\n",
      "B             0      4000               0,1,2\n",
      "C          8000      4000               3,4,5\n",
      "D          8000         0  FX,FY        10,11,6\n",
      "\n",
      "\n",
      "\n",
      "Members:\n",
      "========\n",
      "\n",
      "Member   Node-J  Node-K    Length       dcx       dcy  Size                Ix           A  Releases\n",
      "------   ------  ------    ------   -------   -------  --------      --------       -----  --------\n",
      "AB       A       B         4000.0   0.00000   1.00000  W310x97       2.22e+08       12300  MZK\n",
      "BC       B       C         8000.0   1.00000   0.00000  W460x106      4.88e+08       13500  \n",
      "DC       D       C         4000.0   0.00000   1.00000                2.22e+08       12300  \n",
      "\n",
      "\n",
      "\n",
      "Node Loads:\n",
      "===========\n",
      "\n",
      "Type  Node      FX          FY          MZ\n",
      "----  ----  ----------  ----------  ----------\n",
      "wind  B        -200000           0           0\n",
      "\n",
      "Member Loads:\n",
      "=============\n",
      "\n",
      "Type  Member  Load\n",
      "----  ------  ----------------\n",
      "live  BC      UDL(L=8000.0,w=-50)\n",
      "live  BC      PL(L=8000.0,P=-200000,a=5000.0)\n",
      "\n",
      "Load Combinations:\n",
      "==================\n",
      "\n",
      "Case   Type  Factor\n",
      "-----  ----  ------\n",
      "one    live    1.50\n",
      " \"     wind    1.75\n"
     ]
    }
   ],
   "source": [
    "##test:\n",
    "f.print_input()"
   ]
  },
  {
   "cell_type": "markdown",
   "metadata": {
    "collapsed": true
   },
   "source": [
    "# Notes\n",
    "- default load case for solving is 'all' as that is the default load combination\n",
    "- 2nd order anal: member stiffness matrix does not change between iterations, but the transformation\n",
    "  from local to global coords does (because of large node displacements), and thus does the global\n",
    "  stiff matrix.  But loads do not change, either."
   ]
  },
  {
   "cell_type": "markdown",
   "metadata": {
    "collapsed": true
   },
   "source": [
    "## Analysis"
   ]
  },
  {
   "cell_type": "code",
   "execution_count": 57,
   "metadata": {
    "collapsed": true
   },
   "outputs": [],
   "source": [
    "mab = f.get_member('AB')\n",
    "mdc = f.get_member('DC')"
   ]
  },
  {
   "cell_type": "code",
   "execution_count": 58,
   "metadata": {
    "collapsed": false
   },
   "outputs": [
    {
     "data": {
      "text/plain": [
       "matrix([[  6.15000000e+05,   0.00000000e+00,   0.00000000e+00,\n",
       "          -6.15000000e+05,   0.00000000e+00,   0.00000000e+00],\n",
       "        [  0.00000000e+00,   2.08125000e+03,   8.32500000e+06,\n",
       "           0.00000000e+00,  -2.08125000e+03,   0.00000000e+00],\n",
       "        [  0.00000000e+00,   8.32500000e+06,   3.33000000e+10,\n",
       "           0.00000000e+00,  -8.32500000e+06,   0.00000000e+00],\n",
       "        [ -6.15000000e+05,   0.00000000e+00,   0.00000000e+00,\n",
       "           6.15000000e+05,   0.00000000e+00,   0.00000000e+00],\n",
       "        [  0.00000000e+00,  -2.08125000e+03,  -8.32500000e+06,\n",
       "           0.00000000e+00,   2.08125000e+03,   0.00000000e+00],\n",
       "        [  0.00000000e+00,   0.00000000e+00,   0.00000000e+00,\n",
       "           0.00000000e+00,   0.00000000e+00,   0.00000000e+00]])"
      ]
     },
     "execution_count": 58,
     "metadata": {},
     "output_type": "execute_result"
    }
   ],
   "source": [
    "mab.localK()"
   ]
  },
  {
   "cell_type": "code",
   "execution_count": 59,
   "metadata": {
    "collapsed": false
   },
   "outputs": [
    {
     "data": {
      "text/plain": [
       "matrix([[  6.15000000e+05,   0.00000000e+00,   0.00000000e+00,\n",
       "          -6.15000000e+05,   0.00000000e+00,   0.00000000e+00],\n",
       "        [  0.00000000e+00,   8.32500000e+03,   1.66500000e+07,\n",
       "           0.00000000e+00,  -8.32500000e+03,   1.66500000e+07],\n",
       "        [  0.00000000e+00,   1.66500000e+07,   4.44000000e+10,\n",
       "           0.00000000e+00,  -1.66500000e+07,   2.22000000e+10],\n",
       "        [ -6.15000000e+05,   0.00000000e+00,   0.00000000e+00,\n",
       "           6.15000000e+05,   0.00000000e+00,   0.00000000e+00],\n",
       "        [  0.00000000e+00,  -8.32500000e+03,  -1.66500000e+07,\n",
       "           0.00000000e+00,   8.32500000e+03,  -1.66500000e+07],\n",
       "        [  0.00000000e+00,   1.66500000e+07,   2.22000000e+10,\n",
       "           0.00000000e+00,  -1.66500000e+07,   4.44000000e+10]])"
      ]
     },
     "execution_count": 59,
     "metadata": {},
     "output_type": "execute_result"
    }
   ],
   "source": [
    "mdc.localK()"
   ]
  },
  {
   "cell_type": "code",
   "execution_count": 60,
   "metadata": {
    "collapsed": false
   },
   "outputs": [
    {
     "data": {
      "text/plain": [
       "matrix([[ 0.,  1.,  0.,  0.,  0.,  0.],\n",
       "        [-1.,  0.,  0.,  0.,  0.,  0.],\n",
       "        [ 0.,  0.,  1.,  0.,  0.,  0.],\n",
       "        [ 0.,  0.,  0.,  0.,  1.,  0.],\n",
       "        [ 0.,  0.,  0., -1.,  0.,  0.],\n",
       "        [ 0.,  0.,  0.,  0.,  0.,  1.]])"
      ]
     },
     "execution_count": 60,
     "metadata": {},
     "output_type": "execute_result"
    }
   ],
   "source": [
    "mab.transform()"
   ]
  },
  {
   "cell_type": "code",
   "execution_count": 61,
   "metadata": {
    "collapsed": true
   },
   "outputs": [],
   "source": [
    "@extend\n",
    "class Frame2D:\n",
    "    \n",
    "    def buildK(self):\n",
    "        K = np.mat(np.zeros((self.ndof,self.ndof)))\n",
    "        for memb in self.members.values():\n",
    "            Kl = memb.localK()\n",
    "            Tm = memb.transform()\n",
    "            Kg = Tm.T * Kl * Tm\n",
    "            gn = memb.nodej.dofnums + memb.nodek.dofnums\n",
    "            K[np.ix_(gn,gn)] += Kg\n",
    "        return K\n"
   ]
  },
  {
   "cell_type": "code",
   "execution_count": 62,
   "metadata": {
    "collapsed": false
   },
   "outputs": [
    {
     "data": {
      "text/plain": [
       "matrix([[  3.39581250e+05,   0.00000000e+00,   0.00000000e+00,\n",
       "          -3.37500000e+05,   0.00000000e+00,   0.00000000e+00,\n",
       "           0.00000000e+00,  -2.08125000e+03,   0.00000000e+00,\n",
       "           8.32500000e+06,   0.00000000e+00,   0.00000000e+00],\n",
       "        [  0.00000000e+00,   6.17287500e+05,   9.15000000e+06,\n",
       "           0.00000000e+00,  -2.28750000e+03,   9.15000000e+06,\n",
       "           0.00000000e+00,   0.00000000e+00,  -6.15000000e+05,\n",
       "           0.00000000e+00,   0.00000000e+00,   0.00000000e+00],\n",
       "        [  0.00000000e+00,   9.15000000e+06,   4.88000000e+10,\n",
       "           0.00000000e+00,  -9.15000000e+06,   2.44000000e+10,\n",
       "           0.00000000e+00,   0.00000000e+00,   0.00000000e+00,\n",
       "           0.00000000e+00,   0.00000000e+00,   0.00000000e+00],\n",
       "        [ -3.37500000e+05,   0.00000000e+00,   0.00000000e+00,\n",
       "           3.45825000e+05,   0.00000000e+00,   1.66500000e+07,\n",
       "           1.66500000e+07,   0.00000000e+00,   0.00000000e+00,\n",
       "           0.00000000e+00,  -8.32500000e+03,   0.00000000e+00],\n",
       "        [  0.00000000e+00,  -2.28750000e+03,  -9.15000000e+06,\n",
       "           0.00000000e+00,   6.17287500e+05,  -9.15000000e+06,\n",
       "           0.00000000e+00,   0.00000000e+00,   0.00000000e+00,\n",
       "           0.00000000e+00,   0.00000000e+00,  -6.15000000e+05],\n",
       "        [  0.00000000e+00,   9.15000000e+06,   2.44000000e+10,\n",
       "           1.66500000e+07,  -9.15000000e+06,   9.32000000e+10,\n",
       "           2.22000000e+10,   0.00000000e+00,   0.00000000e+00,\n",
       "           0.00000000e+00,  -1.66500000e+07,   0.00000000e+00],\n",
       "        [  0.00000000e+00,   0.00000000e+00,   0.00000000e+00,\n",
       "           1.66500000e+07,   0.00000000e+00,   2.22000000e+10,\n",
       "           4.44000000e+10,   0.00000000e+00,   0.00000000e+00,\n",
       "           0.00000000e+00,  -1.66500000e+07,   0.00000000e+00],\n",
       "        [ -2.08125000e+03,   0.00000000e+00,   0.00000000e+00,\n",
       "           0.00000000e+00,   0.00000000e+00,   0.00000000e+00,\n",
       "           0.00000000e+00,   2.08125000e+03,   0.00000000e+00,\n",
       "          -8.32500000e+06,   0.00000000e+00,   0.00000000e+00],\n",
       "        [  0.00000000e+00,  -6.15000000e+05,   0.00000000e+00,\n",
       "           0.00000000e+00,   0.00000000e+00,   0.00000000e+00,\n",
       "           0.00000000e+00,   0.00000000e+00,   6.15000000e+05,\n",
       "           0.00000000e+00,   0.00000000e+00,   0.00000000e+00],\n",
       "        [  8.32500000e+06,   0.00000000e+00,   0.00000000e+00,\n",
       "           0.00000000e+00,   0.00000000e+00,   0.00000000e+00,\n",
       "           0.00000000e+00,  -8.32500000e+06,   0.00000000e+00,\n",
       "           3.33000000e+10,   0.00000000e+00,   0.00000000e+00],\n",
       "        [  0.00000000e+00,   0.00000000e+00,   0.00000000e+00,\n",
       "          -8.32500000e+03,   0.00000000e+00,  -1.66500000e+07,\n",
       "          -1.66500000e+07,   0.00000000e+00,   0.00000000e+00,\n",
       "           0.00000000e+00,   8.32500000e+03,   0.00000000e+00],\n",
       "        [  0.00000000e+00,   0.00000000e+00,   0.00000000e+00,\n",
       "           0.00000000e+00,  -6.15000000e+05,   0.00000000e+00,\n",
       "           0.00000000e+00,   0.00000000e+00,   0.00000000e+00,\n",
       "           0.00000000e+00,   0.00000000e+00,   6.15000000e+05]])"
      ]
     },
     "execution_count": 62,
     "metadata": {},
     "output_type": "execute_result"
    }
   ],
   "source": [
    "K = f.buildK()\n",
    "K"
   ]
  },
  {
   "cell_type": "code",
   "execution_count": 63,
   "metadata": {
    "collapsed": true
   },
   "outputs": [],
   "source": [
    "@extend\n",
    "class Frame2D:\n",
    "    \n",
    "    def buildP(self,loadcase='all'):\n",
    "        P = np.mat(np.zeros((self.ndof,1)))\n",
    "        for node,load,factor in self.iter_nodeloads(loadcase):\n",
    "            P[node.dofnums[0],0] += load.fx * factor\n",
    "            P[node.dofnums[1],0] += load.fy * factor\n",
    "            P[node.dofnums[2],0] += load.mz * factor\n",
    "        return P"
   ]
  },
  {
   "cell_type": "code",
   "execution_count": 64,
   "metadata": {
    "collapsed": false
   },
   "outputs": [
    {
     "data": {
      "text/plain": [
       "matrix([[-350000.],\n",
       "        [      0.],\n",
       "        [      0.],\n",
       "        [      0.],\n",
       "        [      0.],\n",
       "        [      0.],\n",
       "        [      0.],\n",
       "        [      0.],\n",
       "        [      0.],\n",
       "        [      0.],\n",
       "        [      0.],\n",
       "        [      0.]])"
      ]
     },
     "execution_count": 64,
     "metadata": {},
     "output_type": "execute_result"
    }
   ],
   "source": [
    "f.buildP('one')"
   ]
  },
  {
   "cell_type": "code",
   "execution_count": 65,
   "metadata": {
    "collapsed": true
   },
   "outputs": [],
   "source": [
    "@extend\n",
    "class Frame2D:\n",
    "    \n",
    "    def buildP(self,loadcase='all'):\n",
    "        P = np.mat(np.zeros((self.ndof,1)))\n",
    "        for node,load,factor in self.iter_nodeloads(loadcase):\n",
    "            P[node.dofnums] += load.forces * factor\n",
    "        for memb,load,factor in self.iter_memberloads(loadcase):\n",
    "            fefs = memb.fefs([load])\n",
    "            gfefs = memb.Tm.T * (fefs.fefs * factor).reshape((6,1))\n",
    "            gn = memb.nodej.dofnums + memb.nodek.dofnums\n",
    "            P[gn] -= gfefs\n",
    "        return P"
   ]
  },
  {
   "cell_type": "code",
   "execution_count": 66,
   "metadata": {
    "collapsed": false
   },
   "outputs": [
    {
     "data": {
      "text/plain": [
       "matrix([[ -3.50000000e+05],\n",
       "        [ -3.94921875e+05],\n",
       "        [ -6.10937500e+08],\n",
       "        [  0.00000000e+00],\n",
       "        [ -5.05078125e+05],\n",
       "        [  7.51562500e+08],\n",
       "        [  0.00000000e+00],\n",
       "        [  0.00000000e+00],\n",
       "        [  0.00000000e+00],\n",
       "        [  0.00000000e+00],\n",
       "        [  0.00000000e+00],\n",
       "        [  0.00000000e+00]])"
      ]
     },
     "execution_count": 66,
     "metadata": {},
     "output_type": "execute_result"
    }
   ],
   "source": [
    "P = f.buildP('one')\n",
    "P"
   ]
  }
 ],
 "metadata": {
  "kernelspec": {
   "display_name": "Python 2",
   "language": "python",
   "name": "python2"
  },
  "language_info": {
   "codemirror_mode": {
    "name": "ipython",
    "version": 2
   },
   "file_extension": ".py",
   "mimetype": "text/x-python",
   "name": "python",
   "nbconvert_exporter": "python",
   "pygments_lexer": "ipython2",
   "version": "2.7.6"
  },
  "widgets": {
   "state": {},
   "version": "1.1.1"
  }
 },
 "nbformat": 4,
 "nbformat_minor": 0
}
