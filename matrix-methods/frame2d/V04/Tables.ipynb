{
 "cells": [
  {
   "cell_type": "markdown",
   "metadata": {},
   "source": [
    "## Tables\n",
    "Module to simplify handling of input and output tables (as .csv files).  For now, this assumes that all files are\n",
    "archived in a directory 'xyz.d', where 'xyz' is the 'data set name'.  Eventually, we will have a way of\n",
    "archiving sets of files in .zip files."
   ]
  },
  {
   "cell_type": "code",
   "execution_count": 1,
   "metadata": {
    "collapsed": true
   },
   "outputs": [],
   "source": [
    "import pandas as pd\n",
    "import os.path\n",
    "import hashlib"
   ]
  },
  {
   "cell_type": "code",
   "execution_count": 2,
   "metadata": {
    "collapsed": true
   },
   "outputs": [],
   "source": [
    "class Table(object):\n",
    "    \n",
    "    DSNAME = None     # default data set name\n",
    "    DSTYPE = 'dir'    # someday we will allow 'zip' for zip archives\n",
    "    \n",
    "    def __init__(self,table_name,ds_name=None,columns=None,index_col=None):\n",
    "        if ds_name is None and self.DSNAME is not None:\n",
    "            ds_name = self.DSNAME\n",
    "        self.ds_name = ds_name\n",
    "        self.table_name = table_name\n",
    "        self.prefix = None\n",
    "        self.file_name = None\n",
    "        self.columns = columns\n",
    "        self.index_col = index_col\n",
    "        self.data = pd.DataFrame()\n",
    "        \n",
    "    def _file_name(self,prefix=None):\n",
    "        self.prefix = prefix\n",
    "        if prefix:\n",
    "            n = prefix + '-' + self.table_name\n",
    "        else:\n",
    "            n = self.table_name\n",
    "        return self.ds_name + '.d/' + n + '.csv'\n",
    "        \n",
    "    def read(self,file_name=None):\n",
    "        if not file_name:\n",
    "            file_name = self._file_name()\n",
    "        self.file_name = file_name\n",
    "        try:\n",
    "            self.data = pd.read_csv(file_name,usecols=self.columns,index_col=self.index_col)\n",
    "        except ValueError as err:\n",
    "            msg = err.args[0]\n",
    "            if msg.endswith('is not in list'):\n",
    "                c = msg.split(\"'\")[1]\n",
    "                raise ValueError(\"'{}' is not in the set of columns in file '{}'\".format(c,file_name))\n",
    "            if msg.startswith('Index') and msg.endswith('invalid'):\n",
    "                raise ValueError(\"Index column '{}' is not in the set of columns in file '{}'\".format(self.index_col,file_name))\n",
    "            raise\n",
    "        return self.data\n",
    "    \n",
    "    def write(self,file_name=None,precision=None,index=False,prefix=None):\n",
    "        if not file_name and prefix is None:\n",
    "            file_name = self.file_name\n",
    "        if not file_name:\n",
    "            file_name = self._file_name(prefix=prefix)\n",
    "        self.file_name = file_name\n",
    "        float_format = None\n",
    "        if precision is not None:\n",
    "            float_format = '%.{:d}g'.format(precision)\n",
    "        self.data.to_csv(file_name,index=index,float_format=float_format)\n",
    "        \n",
    "    def basename(self,file_name=None):\n",
    "        if file_name is None:\n",
    "            file_name = self.file_name\n",
    "        return os.path.basename(file_name)\n",
    "    \n",
    "    def signature(self):\n",
    "        file_name = self.file_name\n",
    "        return (self.basename(),signature(file_name))\n",
    "    \n",
    "def signature(file_name):\n",
    "    f = open(file_name,mode='rb')\n",
    "    m = hashlib.sha256(f.read())\n",
    "    f.close()\n",
    "    return m.hexdigest()"
   ]
  },
  {
   "cell_type": "code",
   "execution_count": 3,
   "metadata": {
    "collapsed": false
   },
   "outputs": [],
   "source": [
    "Table.DSNAME = 'frame-6'\n",
    "t = Table('nodes',columns=['NODEID','X','Y'])"
   ]
  },
  {
   "cell_type": "code",
   "execution_count": 4,
   "metadata": {
    "collapsed": false
   },
   "outputs": [
    {
     "data": {
      "text/html": [
       "<div>\n",
       "<table border=\"1\" class=\"dataframe\">\n",
       "  <thead>\n",
       "    <tr style=\"text-align: right;\">\n",
       "      <th></th>\n",
       "      <th>NODEID</th>\n",
       "      <th>X</th>\n",
       "      <th>Y</th>\n",
       "    </tr>\n",
       "  </thead>\n",
       "  <tbody>\n",
       "    <tr>\n",
       "      <th>0</th>\n",
       "      <td>A</td>\n",
       "      <td>0</td>\n",
       "      <td>0</td>\n",
       "    </tr>\n",
       "    <tr>\n",
       "      <th>1</th>\n",
       "      <td>B</td>\n",
       "      <td>0</td>\n",
       "      <td>4000</td>\n",
       "    </tr>\n",
       "    <tr>\n",
       "      <th>2</th>\n",
       "      <td>C</td>\n",
       "      <td>8000</td>\n",
       "      <td>4000</td>\n",
       "    </tr>\n",
       "    <tr>\n",
       "      <th>3</th>\n",
       "      <td>D</td>\n",
       "      <td>8000</td>\n",
       "      <td>0</td>\n",
       "    </tr>\n",
       "  </tbody>\n",
       "</table>\n",
       "</div>"
      ],
      "text/plain": [
       "  NODEID     X     Y\n",
       "0      A     0     0\n",
       "1      B     0  4000\n",
       "2      C  8000  4000\n",
       "3      D  8000     0"
      ]
     },
     "execution_count": 4,
     "metadata": {},
     "output_type": "execute_result"
    }
   ],
   "source": [
    "t.read()"
   ]
  },
  {
   "cell_type": "code",
   "execution_count": 5,
   "metadata": {
    "collapsed": false
   },
   "outputs": [
    {
     "data": {
      "text/html": [
       "<div>\n",
       "<table border=\"1\" class=\"dataframe\">\n",
       "  <thead>\n",
       "    <tr style=\"text-align: right;\">\n",
       "      <th></th>\n",
       "      <th>NODEID</th>\n",
       "      <th>X</th>\n",
       "      <th>Y</th>\n",
       "    </tr>\n",
       "  </thead>\n",
       "  <tbody>\n",
       "    <tr>\n",
       "      <th>0</th>\n",
       "      <td>A</td>\n",
       "      <td>0.000000</td>\n",
       "      <td>0.000000</td>\n",
       "    </tr>\n",
       "    <tr>\n",
       "      <th>1</th>\n",
       "      <td>B</td>\n",
       "      <td>0.000000</td>\n",
       "      <td>1333.333333</td>\n",
       "    </tr>\n",
       "    <tr>\n",
       "      <th>2</th>\n",
       "      <td>C</td>\n",
       "      <td>2666.666667</td>\n",
       "      <td>1333.333333</td>\n",
       "    </tr>\n",
       "    <tr>\n",
       "      <th>3</th>\n",
       "      <td>D</td>\n",
       "      <td>2666.666667</td>\n",
       "      <td>0.000000</td>\n",
       "    </tr>\n",
       "  </tbody>\n",
       "</table>\n",
       "</div>"
      ],
      "text/plain": [
       "  NODEID            X            Y\n",
       "0      A     0.000000     0.000000\n",
       "1      B     0.000000  1333.333333\n",
       "2      C  2666.666667  1333.333333\n",
       "3      D  2666.666667     0.000000"
      ]
     },
     "execution_count": 5,
     "metadata": {},
     "output_type": "execute_result"
    }
   ],
   "source": [
    "t.data.loc[:,['X','Y']] /= 3.\n",
    "t.data"
   ]
  },
  {
   "cell_type": "code",
   "execution_count": 6,
   "metadata": {
    "collapsed": false
   },
   "outputs": [],
   "source": [
    "t.write(precision=7,prefix='out')"
   ]
  },
  {
   "cell_type": "code",
   "execution_count": 7,
   "metadata": {
    "collapsed": false
   },
   "outputs": [
    {
     "data": {
      "text/plain": [
       "('out-nodes.csv',\n",
       " '71080f20c6f926bb9ef71cfe01103ed5e3ba618bb305f713e26194198220ecce')"
      ]
     },
     "execution_count": 7,
     "metadata": {},
     "output_type": "execute_result"
    }
   ],
   "source": [
    "t.signature()"
   ]
  },
  {
   "cell_type": "code",
   "execution_count": 8,
   "metadata": {
    "collapsed": false
   },
   "outputs": [
    {
     "data": {
      "text/plain": [
       "{'columns': ['NODEID', 'X', 'Y'], 'data':   NODEID            X            Y\n",
       " 0      A     0.000000     0.000000\n",
       " 1      B     0.000000  1333.333333\n",
       " 2      C  2666.666667  1333.333333\n",
       " 3      D  2666.666667     0.000000, 'ds_name': 'frame-6', 'file_name': 'frame-6.d/out-nodes.csv', 'index_col': None, 'prefix': 'out', 'table_name': 'nodes'}"
      ]
     },
     "execution_count": 8,
     "metadata": {},
     "output_type": "execute_result"
    }
   ],
   "source": [
    "vars(t)"
   ]
  },
  {
   "cell_type": "code",
   "execution_count": 9,
   "metadata": {
    "collapsed": false
   },
   "outputs": [
    {
     "data": {
      "text/html": [
       "<div>\n",
       "<table border=\"1\" class=\"dataframe\">\n",
       "  <thead>\n",
       "    <tr style=\"text-align: right;\">\n",
       "      <th></th>\n",
       "      <th>NODEID</th>\n",
       "      <th>X</th>\n",
       "      <th>Y</th>\n",
       "    </tr>\n",
       "  </thead>\n",
       "  <tbody>\n",
       "    <tr>\n",
       "      <th>0</th>\n",
       "      <td>A</td>\n",
       "      <td>0</td>\n",
       "      <td>0</td>\n",
       "    </tr>\n",
       "    <tr>\n",
       "      <th>1</th>\n",
       "      <td>B</td>\n",
       "      <td>0</td>\n",
       "      <td>4000</td>\n",
       "    </tr>\n",
       "    <tr>\n",
       "      <th>2</th>\n",
       "      <td>C</td>\n",
       "      <td>8000</td>\n",
       "      <td>4000</td>\n",
       "    </tr>\n",
       "    <tr>\n",
       "      <th>3</th>\n",
       "      <td>D</td>\n",
       "      <td>8000</td>\n",
       "      <td>0</td>\n",
       "    </tr>\n",
       "  </tbody>\n",
       "</table>\n",
       "</div>"
      ],
      "text/plain": [
       "  NODEID     X     Y\n",
       "0      A     0     0\n",
       "1      B     0  4000\n",
       "2      C  8000  4000\n",
       "3      D  8000     0"
      ]
     },
     "execution_count": 9,
     "metadata": {},
     "output_type": "execute_result"
    }
   ],
   "source": [
    "t.read()"
   ]
  },
  {
   "cell_type": "code",
   "execution_count": 10,
   "metadata": {
    "collapsed": false
   },
   "outputs": [
    {
     "data": {
      "text/plain": [
       "{'columns': ['NODEID', 'X', 'Y'], 'data':   NODEID     X     Y\n",
       " 0      A     0     0\n",
       " 1      B     0  4000\n",
       " 2      C  8000  4000\n",
       " 3      D  8000     0, 'ds_name': 'frame-6', 'file_name': 'frame-6.d/nodes.csv', 'index_col': None, 'prefix': None, 'table_name': 'nodes'}"
      ]
     },
     "execution_count": 10,
     "metadata": {},
     "output_type": "execute_result"
    }
   ],
   "source": [
    "vars(t)"
   ]
  }
 ],
 "metadata": {
  "kernelspec": {
   "display_name": "Python 2",
   "language": "python",
   "name": "python2"
  },
  "language_info": {
   "codemirror_mode": {
    "name": "ipython",
    "version": 2
   },
   "file_extension": ".py",
   "mimetype": "text/x-python",
   "name": "python",
   "nbconvert_exporter": "python",
   "pygments_lexer": "ipython2",
   "version": "2.7.11"
  }
 },
 "nbformat": 4,
 "nbformat_minor": 0
}
