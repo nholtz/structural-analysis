{
 "cells": [
  {
   "cell_type": "markdown",
   "metadata": {},
   "source": [
    "## Tables\n",
    "Module to simplify handling of input and output tables (as .csv files).  For now, this assumes that all files are\n",
    "archived in a directory 'xyz.d', where 'xyz' is the 'data set name'.  Eventually, we will have a way of\n",
    "archiving sets of files in .zip files."
   ]
  },
  {
   "cell_type": "code",
   "execution_count": 1,
   "metadata": {
    "collapsed": false
   },
   "outputs": [],
   "source": [
    "from __future__ import print_function\n",
    "\n",
    "import pandas as pd\n",
    "import os, os.path\n",
    "import StringIO\n",
    "import hashlib\n",
    "from IPython.core.magic import register_cell_magic\n",
    "import re"
   ]
  },
  {
   "cell_type": "code",
   "execution_count": 2,
   "metadata": {
    "collapsed": true
   },
   "outputs": [],
   "source": [
    "class Table(object):\n",
    "    \n",
    "    DSNAME = None     # default data set name\n",
    "    DSTYPE = 'dir'    # someday we will allow 'zip' for zip archives\n",
    "    #DSTYPE = 'cell'\n",
    "    CELLDATA = {}\n",
    "    \n",
    "    @classmethod\n",
    "    def set_source(cls,ds_name,ds_type=None):\n",
    "        if ds_type is None:\n",
    "            dirname = ds_name + '.d'\n",
    "            if os.path.exists(dirname):\n",
    "                ds_type = 'dir'\n",
    "            else:\n",
    "                ds_type = 'cell'\n",
    "        cls.DSNAME = ds_name\n",
    "        cls.DSTYPE = ds_type\n",
    "        cls.CELLDATA = {}\n",
    "    \n",
    "    def __init__(self,table_name,ds_name=None,columns=None,index_col=None,optional=False,data=[]):\n",
    "        if ds_name is None and self.DSNAME is not None:\n",
    "            ds_name = self.DSNAME\n",
    "        self.ds_name = ds_name\n",
    "        self.table_name = table_name\n",
    "        self.prefix = None\n",
    "        self.file_name = None\n",
    "        self.columns = columns\n",
    "        self.index_col = index_col\n",
    "        self.optional = optional\n",
    "        self.data = pd.DataFrame(data,columns=columns)\n",
    "        \n",
    "    def _file_name(self,prefix=None):\n",
    "        self.prefix = prefix\n",
    "        if prefix:\n",
    "            n = prefix + '-' + self.table_name\n",
    "        else:\n",
    "            n = self.table_name\n",
    "        return self.ds_name + '.d/' + n + '.csv'\n",
    "        \n",
    "    def read(self,file_name=None,optional=None):\n",
    "        if optional is None:\n",
    "            optional = self.optional\n",
    "        if self.DSTYPE == 'dir':\n",
    "            if not file_name:\n",
    "                file_name = self._file_name()\n",
    "            self.file_name = file_name\n",
    "            if optional:\n",
    "                if not os.path.exists(file_name):\n",
    "                    return self.data\n",
    "            stream = file(file_name,'r')\n",
    "        elif self.DSTYPE == 'cell':\n",
    "            if optional:\n",
    "                if self.table_name not in self.CELLDATA:\n",
    "                    return self.data\n",
    "            stream = StringIO.StringIO(self.CELLDATA[self.table_name])\n",
    "        else:\n",
    "            raise ValueError(\"Invalid DS Type: {}\".format(self.DSTYPE))\n",
    "        try:\n",
    "            self.data = pd.read_csv(stream,usecols=self.columns,index_col=self.index_col)\n",
    "        except ValueError as err:\n",
    "            msg = err.args[0]\n",
    "            if msg.endswith('is not in list'):\n",
    "                c = msg.split(\"'\")[1]\n",
    "                raise ValueError(\"'{}' is not in the set of columns in file '{}'\".format(c,file_name))\n",
    "            if msg.startswith('Index') and msg.endswith('invalid'):\n",
    "                raise ValueError(\"Index column '{}' is not in the set of columns in file '{}'\".format(self.index_col,file_name))\n",
    "            raise\n",
    "        stream.close()\n",
    "        return self.data\n",
    "    \n",
    "    def write(self,ds_name=None,precision=None,index=False,prefix=None):\n",
    "        if ds_name is None:\n",
    "            ds_name = self.ds_name\n",
    "        dirname = ds_name + '.d'\n",
    "        if not os.path.exists(dirname):\n",
    "            os.mkdir(dirname)\n",
    "        if prefix is not None:\n",
    "            dirname = dirname + '/' + prefix\n",
    "            if not os.path.exists(dirname):\n",
    "                os.mkdir(dirname)\n",
    "        self.file_name = file_name = dirname + '/' + self.table_name + '.csv'\n",
    "        float_format = None\n",
    "        if precision is not None:\n",
    "            float_format = '%.{:d}g'.format(precision)\n",
    "        self.data.to_csv(file_name,index=index,float_format=float_format)\n",
    "        return file_name\n",
    "        \n",
    "    def basename(self,file_name=None):\n",
    "        if file_name is None:\n",
    "            file_name = self.file_name\n",
    "        return os.path.basename(file_name)\n",
    "    \n",
    "    def signature(self):\n",
    "        file_name = self.file_name\n",
    "        return (self.basename(),file_name,signature(file_name))\n",
    "    \n",
    "    def __len__(self):\n",
    "        return len(self.data)\n",
    "    \n",
    "def signature(file_name):\n",
    "    f = open(file_name,mode='rb')\n",
    "    m = hashlib.sha256(f.read())\n",
    "    f.close()\n",
    "    return m.hexdigest()"
   ]
  },
  {
   "cell_type": "code",
   "execution_count": 3,
   "metadata": {
    "collapsed": false
   },
   "outputs": [],
   "source": [
    "##test:\n",
    "Table.DSNAME = 'frame-6'\n",
    "t = Table('nodes',columns=['NODEID','X','Y'])"
   ]
  },
  {
   "cell_type": "code",
   "execution_count": null,
   "metadata": {
    "collapsed": false
   },
   "outputs": [],
   "source": [
    "##test:\n",
    "t.read()"
   ]
  },
  {
   "cell_type": "code",
   "execution_count": null,
   "metadata": {
    "collapsed": false
   },
   "outputs": [],
   "source": [
    "##test:\n",
    "len(t)"
   ]
  },
  {
   "cell_type": "code",
   "execution_count": null,
   "metadata": {
    "collapsed": false
   },
   "outputs": [],
   "source": [
    "##test:\n",
    "t.data.loc[:,['X','Y']] /= 3.\n",
    "t.data"
   ]
  },
  {
   "cell_type": "code",
   "execution_count": null,
   "metadata": {
    "collapsed": false
   },
   "outputs": [],
   "source": [
    "##test:\n",
    "t.write(precision=7,prefix='out')"
   ]
  },
  {
   "cell_type": "code",
   "execution_count": null,
   "metadata": {
    "collapsed": false
   },
   "outputs": [],
   "source": [
    "##test:\n",
    "t.signature()"
   ]
  },
  {
   "cell_type": "code",
   "execution_count": null,
   "metadata": {
    "collapsed": false
   },
   "outputs": [],
   "source": [
    "##test:\n",
    "vars(t)"
   ]
  },
  {
   "cell_type": "code",
   "execution_count": null,
   "metadata": {
    "collapsed": false
   },
   "outputs": [],
   "source": [
    "##test:\n",
    "t.read()"
   ]
  },
  {
   "cell_type": "code",
   "execution_count": null,
   "metadata": {
    "collapsed": false
   },
   "outputs": [],
   "source": [
    "##test:\n",
    "vars(t)"
   ]
  },
  {
   "cell_type": "code",
   "execution_count": null,
   "metadata": {
    "collapsed": true
   },
   "outputs": [],
   "source": [
    "@register_cell_magic('Table')\n",
    "def cell_table(line,cell):\n",
    "    mo = re.match(r'\\s*(\\S+)\\s*$',line)\n",
    "    if not mo:\n",
    "        raise ValueError('Usage: %%Table tablename')\n",
    "    table_name = mo.group(1)\n",
    "    global Table\n",
    "    Table.DSTYPE = 'cell'\n",
    "    Table.CELLDATA[table_name] = cell"
   ]
  },
  {
   "cell_type": "code",
   "execution_count": null,
   "metadata": {
    "collapsed": false
   },
   "outputs": [],
   "source": [
    "%%Table nodes\n",
    "NODEID,X,Y,Z\n",
    "A,0,0,5000\n",
    "B,0,4000,5000\n",
    "C,8000,4000,5000\n",
    "D,8000,0,5000"
   ]
  },
  {
   "cell_type": "code",
   "execution_count": null,
   "metadata": {
    "collapsed": false
   },
   "outputs": [],
   "source": [
    "##test:\n",
    "Table.DSTYPE"
   ]
  },
  {
   "cell_type": "code",
   "execution_count": null,
   "metadata": {
    "collapsed": false
   },
   "outputs": [],
   "source": [
    "##test:\n",
    "Table.CELLDATA"
   ]
  },
  {
   "cell_type": "code",
   "execution_count": null,
   "metadata": {
    "collapsed": false
   },
   "outputs": [],
   "source": [
    "##test:\n",
    "t = Table('nodes',columns=['NODEID','Y','Z'])\n",
    "t.read()"
   ]
  },
  {
   "cell_type": "code",
   "execution_count": null,
   "metadata": {
    "collapsed": true
   },
   "outputs": [],
   "source": []
  }
 ],
 "metadata": {
  "kernelspec": {
   "display_name": "Python 2",
   "language": "python",
   "name": "python2"
  },
  "language_info": {
   "codemirror_mode": {
    "name": "ipython",
    "version": 2
   },
   "file_extension": ".py",
   "mimetype": "text/x-python",
   "name": "python",
   "nbconvert_exporter": "python",
   "pygments_lexer": "ipython2",
   "version": "2.7.6"
  },
  "widgets": {
   "state": {},
   "version": "1.1.1"
  }
 },
 "nbformat": 4,
 "nbformat_minor": 0
}
