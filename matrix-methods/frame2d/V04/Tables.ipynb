{
 "cells": [
  {
   "cell_type": "code",
   "execution_count": 1,
   "metadata": {
    "collapsed": true
   },
   "outputs": [],
   "source": [
    "import pandas as pd"
   ]
  },
  {
   "cell_type": "code",
   "execution_count": 89,
   "metadata": {
    "collapsed": true
   },
   "outputs": [],
   "source": [
    "class Table(object):\n",
    "    \n",
    "    def __init__(self,ds_name,table_name,columns=None,index_col=None):\n",
    "        self.ds_name = ds_name\n",
    "        self.table_name = table_name\n",
    "        self.file_name = None\n",
    "        self.columns = columns\n",
    "        self.index_col = index_col\n",
    "        self.data = pd.DataFrame()\n",
    "        \n",
    "    def _file_name(self):\n",
    "        return self.ds_name + '.d/' + self.table_name + '.csv'\n",
    "        \n",
    "    def read(self,file_name=None):\n",
    "        if not file_name:\n",
    "            file_name = self._file_name()\n",
    "        self.file_name = file_name\n",
    "        try:\n",
    "            self.data = pd.read_csv(file_name,usecols=self.columns,index_col=self.index_col)\n",
    "        except ValueError as err:\n",
    "            msg = err.args[0]\n",
    "            if msg.endswith('is not in list'):\n",
    "                c = msg.split(\"'\")[1]\n",
    "                raise ValueError(\"'{}' is not in the set of columns in file '{}'\".format(c,file_name))\n",
    "            if msg.startswith('Index') and msg.endswith('invalid'):\n",
    "                raise ValueError(\"Index column '{}' is not in the set of columns in file '{}'\".format(self.index_col,file_name))\n",
    "            raise\n",
    "        return self.data\n",
    "    \n",
    "    def write(self,file_name=None,precision=None,index=False):\n",
    "        if not file_name:\n",
    "            file_name = self.file_name\n",
    "        if not file_name:\n",
    "            file_name = self._file_name()\n",
    "        self.file_name = file_name\n",
    "        float_format = None\n",
    "        if precision is not None:\n",
    "            float_format = '%.{:d}g'.format(precision)\n",
    "        self.data.to_csv(file_name,index=index,float_format=float_format)"
   ]
  },
  {
   "cell_type": "code",
   "execution_count": 90,
   "metadata": {
    "collapsed": false
   },
   "outputs": [],
   "source": [
    "t = Table('frame-6','nodes',columns=['NODEID','X','Y'])"
   ]
  },
  {
   "cell_type": "code",
   "execution_count": 91,
   "metadata": {
    "collapsed": false
   },
   "outputs": [
    {
     "data": {
      "text/html": [
       "<div>\n",
       "<table border=\"1\" class=\"dataframe\">\n",
       "  <thead>\n",
       "    <tr style=\"text-align: right;\">\n",
       "      <th></th>\n",
       "      <th>NODEID</th>\n",
       "      <th>X</th>\n",
       "      <th>Y</th>\n",
       "    </tr>\n",
       "  </thead>\n",
       "  <tbody>\n",
       "    <tr>\n",
       "      <th>0</th>\n",
       "      <td>A</td>\n",
       "      <td>0</td>\n",
       "      <td>0</td>\n",
       "    </tr>\n",
       "    <tr>\n",
       "      <th>1</th>\n",
       "      <td>B</td>\n",
       "      <td>0</td>\n",
       "      <td>4000</td>\n",
       "    </tr>\n",
       "    <tr>\n",
       "      <th>2</th>\n",
       "      <td>C</td>\n",
       "      <td>8000</td>\n",
       "      <td>4000</td>\n",
       "    </tr>\n",
       "    <tr>\n",
       "      <th>3</th>\n",
       "      <td>D</td>\n",
       "      <td>8000</td>\n",
       "      <td>0</td>\n",
       "    </tr>\n",
       "  </tbody>\n",
       "</table>\n",
       "</div>"
      ],
      "text/plain": [
       "  NODEID     X     Y\n",
       "0      A     0     0\n",
       "1      B     0  4000\n",
       "2      C  8000  4000\n",
       "3      D  8000     0"
      ]
     },
     "execution_count": 91,
     "metadata": {},
     "output_type": "execute_result"
    }
   ],
   "source": [
    "t.read()"
   ]
  },
  {
   "cell_type": "code",
   "execution_count": 86,
   "metadata": {
    "collapsed": false
   },
   "outputs": [
    {
     "data": {
      "text/html": [
       "<div>\n",
       "<table border=\"1\" class=\"dataframe\">\n",
       "  <thead>\n",
       "    <tr style=\"text-align: right;\">\n",
       "      <th></th>\n",
       "      <th>NODEID</th>\n",
       "      <th>X</th>\n",
       "      <th>Y</th>\n",
       "    </tr>\n",
       "  </thead>\n",
       "  <tbody>\n",
       "    <tr>\n",
       "      <th>0</th>\n",
       "      <td>A</td>\n",
       "      <td>0.000000</td>\n",
       "      <td>0</td>\n",
       "    </tr>\n",
       "    <tr>\n",
       "      <th>1</th>\n",
       "      <td>B</td>\n",
       "      <td>0.000000</td>\n",
       "      <td>4000</td>\n",
       "    </tr>\n",
       "    <tr>\n",
       "      <th>2</th>\n",
       "      <td>C</td>\n",
       "      <td>2666.666667</td>\n",
       "      <td>4000</td>\n",
       "    </tr>\n",
       "    <tr>\n",
       "      <th>3</th>\n",
       "      <td>D</td>\n",
       "      <td>2666.666667</td>\n",
       "      <td>0</td>\n",
       "    </tr>\n",
       "  </tbody>\n",
       "</table>\n",
       "</div>"
      ],
      "text/plain": [
       "  NODEID            X     Y\n",
       "0      A     0.000000     0\n",
       "1      B     0.000000  4000\n",
       "2      C  2666.666667  4000\n",
       "3      D  2666.666667     0"
      ]
     },
     "execution_count": 86,
     "metadata": {},
     "output_type": "execute_result"
    }
   ],
   "source": [
    "t.data.loc[:,'X'] /= 3.\n",
    "t.data"
   ]
  },
  {
   "cell_type": "code",
   "execution_count": 88,
   "metadata": {
    "collapsed": false
   },
   "outputs": [],
   "source": [
    "t.write('xxx.csv',precision=6)"
   ]
  },
  {
   "cell_type": "code",
   "execution_count": null,
   "metadata": {
    "collapsed": true
   },
   "outputs": [],
   "source": []
  }
 ],
 "metadata": {
  "kernelspec": {
   "display_name": "Python 2",
   "language": "python",
   "name": "python2"
  },
  "language_info": {
   "codemirror_mode": {
    "name": "ipython",
    "version": 2
   },
   "file_extension": ".py",
   "mimetype": "text/x-python",
   "name": "python",
   "nbconvert_exporter": "python",
   "pygments_lexer": "ipython2",
   "version": "2.7.6"
  }
 },
 "nbformat": 4,
 "nbformat_minor": 0
}
