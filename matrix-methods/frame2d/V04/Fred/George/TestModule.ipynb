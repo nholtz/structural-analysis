{
 "cells": [
  {
   "cell_type": "markdown",
   "metadata": {},
   "source": [
    "# Test Module for importing"
   ]
  },
  {
   "cell_type": "code",
   "execution_count": 1,
   "metadata": {
    "collapsed": true
   },
   "outputs": [],
   "source": [
    "def foo():\n",
    "    return 'bar'"
   ]
  },
  {
   "cell_type": "code",
   "execution_count": 3,
   "metadata": {
    "collapsed": false
   },
   "outputs": [
    {
     "name": "stdout",
     "output_type": "stream",
     "text": [
      "__init__.py  __init__.pyc  Test Module.ipynb  TestModule.ipynb  TestModule.py  TestModule.pyc\r\n"
     ]
    }
   ],
   "source": [
    "#%ls"
   ]
  },
  {
   "cell_type": "code",
   "execution_count": 6,
   "metadata": {
    "collapsed": false
   },
   "outputs": [
    {
     "name": "stdout",
     "output_type": "stream",
     "text": [
      "-rw-r--r-- 1 nholtz nholtz    5 May 14 08:32 __init__.py\n",
      "-rw-r--r-- 1 nholtz nholtz  123 May 14 08:32 __init__.pyc\n",
      "-rw-r--r-- 1 nholtz nholtz  876 May 14 08:31 Test Module.ipynb\n",
      "-rw-r--r-- 1 nholtz nholtz 1769 May 15 09:47 TestModule.ipynb\n",
      "-rw-r--r-- 1 nholtz nholtz  215 May 15 09:48 TestModule.py\n",
      "-rw-r--r-- 1 nholtz nholtz  353 May 15 09:48 TestModule.pyc\n"
     ]
    }
   ],
   "source": [
    "#%%sh\n",
    "#ls -l *"
   ]
  },
  {
   "cell_type": "code",
   "execution_count": 7,
   "metadata": {
    "collapsed": true
   },
   "outputs": [],
   "source": [
    "## Test Section:\n",
    "\n",
    "# this doesn't get imported\n",
    "\n",
    "def bar():\n",
    "    return 'foo'"
   ]
  },
  {
   "cell_type": "code",
   "execution_count": 8,
   "metadata": {
    "collapsed": true
   },
   "outputs": [],
   "source": [
    "# neither does this:"
   ]
  },
  {
   "cell_type": "code",
   "execution_count": 9,
   "metadata": {
    "collapsed": true
   },
   "outputs": [],
   "source": [
    "def zap():\n",
    "    return"
   ]
  },
  {
   "cell_type": "code",
   "execution_count": null,
   "metadata": {
    "collapsed": true
   },
   "outputs": [],
   "source": [
    "#foo"
   ]
  }
 ],
 "metadata": {
  "kernelspec": {
   "display_name": "Python 2",
   "language": "python",
   "name": "python2"
  },
  "language_info": {
   "codemirror_mode": {
    "name": "ipython",
    "version": 2
   },
   "file_extension": ".py",
   "mimetype": "text/x-python",
   "name": "python",
   "nbconvert_exporter": "python",
   "pygments_lexer": "ipython2",
   "version": "2.7.6"
  }
 },
 "nbformat": 4,
 "nbformat_minor": 0
}
