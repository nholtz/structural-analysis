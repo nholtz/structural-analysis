{
 "cells": [
  {
   "cell_type": "code",
   "execution_count": null,
   "metadata": {
    "collapsed": true
   },
   "outputs": [],
   "source": [
    "try:\n",
    "    get_ipython\n",
    "except:\n",
    "    import sys\n",
    "    def get_ipython():\n",
    "        class dummy(object):\n",
    "            def run_cell_magic(*args):\n",
    "                print \"No IPython; therefore no magic!\"\n",
    "            magic = run_cell_magic\n",
    "        return dummy()"
   ]
  },
  {
   "cell_type": "markdown",
   "metadata": {},
   "source": [
    "# Test Module for importing"
   ]
  },
  {
   "cell_type": "code",
   "execution_count": 2,
   "metadata": {
    "collapsed": true
   },
   "outputs": [],
   "source": [
    "def foo():\n",
    "    return 'bar'"
   ]
  },
  {
   "cell_type": "code",
   "execution_count": 3,
   "metadata": {
    "collapsed": false
   },
   "outputs": [],
   "source": [
    "%ls"
   ]
  },
  {
   "cell_type": "code",
   "execution_count": 4,
   "metadata": {
    "collapsed": false
   },
   "outputs": [],
   "source": [
    "#%%sh\n",
    "#ls -l *"
   ]
  },
  {
   "cell_type": "code",
   "execution_count": 5,
   "metadata": {
    "collapsed": false
   },
   "outputs": [
    {
     "name": "stdout",
     "output_type": "stream",
     "text": [
      "total 24\n",
      "-rw-r--r-- 1 nholtz nholtz    5 May 14 08:32 __init__.py\n",
      "-rw-r--r-- 1 nholtz nholtz  123 May 14 08:32 __init__.pyc\n",
      "-rw-r--r-- 1 nholtz nholtz  876 May 14 08:31 Test Module.ipynb\n",
      "-rw-r--r-- 1 nholtz nholtz 2540 May 15 10:31 TestModule.ipynb\n",
      "-rw-r--r-- 1 nholtz nholtz  194 May 15 10:31 TestModule.py\n",
      "-rw-r--r-- 1 nholtz nholtz  235 May 15 10:31 TestModule.pyc\n",
      "/files/home/nholtz/work/git/structural-analysis/matrix-methods/frame2d/V04/Fred/George\n",
      "foo bar\n"
     ]
    }
   ],
   "source": [
    "%%bash\n",
    "ls -l\n",
    "/bin/pwd\n",
    "echo \"foo bar\""
   ]
  },
  {
   "cell_type": "code",
   "execution_count": 6,
   "metadata": {
    "collapsed": true
   },
   "outputs": [],
   "source": [
    "## Test Section:\n",
    "\n",
    "# this doesn't get imported\n",
    "\n",
    "def bar():\n",
    "    return 'foo'"
   ]
  },
  {
   "cell_type": "code",
   "execution_count": 7,
   "metadata": {
    "collapsed": true
   },
   "outputs": [],
   "source": [
    "# neither does this:"
   ]
  },
  {
   "cell_type": "code",
   "execution_count": 8,
   "metadata": {
    "collapsed": true
   },
   "outputs": [],
   "source": [
    "def zap():\n",
    "    return"
   ]
  },
  {
   "cell_type": "code",
   "execution_count": 9,
   "metadata": {
    "collapsed": true
   },
   "outputs": [],
   "source": [
    "#foo"
   ]
  },
  {
   "cell_type": "code",
   "execution_count": null,
   "metadata": {
    "collapsed": true
   },
   "outputs": [],
   "source": []
  }
 ],
 "metadata": {
  "kernelspec": {
   "display_name": "Python 2",
   "language": "python",
   "name": "python2"
  },
  "language_info": {
   "codemirror_mode": {
    "name": "ipython",
    "version": 2
   },
   "file_extension": ".py",
   "mimetype": "text/x-python",
   "name": "python",
   "nbconvert_exporter": "python",
   "pygments_lexer": "ipython2",
   "version": "2.7.6"
  }
 },
 "nbformat": 4,
 "nbformat_minor": 0
}
