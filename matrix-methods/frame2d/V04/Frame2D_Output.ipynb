{
 "cells": [
  {
   "cell_type": "markdown",
   "metadata": {},
   "source": [
    "# Output to CSV"
   ]
  },
  {
   "cell_type": "code",
   "execution_count": 1,
   "metadata": {
    "collapsed": true
   },
   "outputs": [],
   "source": [
    "from __future__ import print_function"
   ]
  },
  {
   "cell_type": "code",
   "execution_count": 2,
   "metadata": {
    "collapsed": false
   },
   "outputs": [],
   "source": [
    "from salib import extend, import_notebooks\n",
    "import_notebooks()\n",
    "from Tables import Table"
   ]
  },
  {
   "cell_type": "code",
   "execution_count": 3,
   "metadata": {
    "collapsed": false
   },
   "outputs": [],
   "source": [
    "from Frame2D_Base import Frame2D\n",
    "import Frame2D_Input"
   ]
  },
  {
   "cell_type": "code",
   "execution_count": 4,
   "metadata": {
    "collapsed": false
   },
   "outputs": [
    {
     "data": {
      "text/html": [
       "<div>\n",
       "<table border=\"1\" class=\"dataframe\">\n",
       "  <thead>\n",
       "    <tr style=\"text-align: right;\">\n",
       "      <th></th>\n",
       "      <th>NODEID</th>\n",
       "      <th>X</th>\n",
       "      <th>Y</th>\n",
       "    </tr>\n",
       "  </thead>\n",
       "  <tbody>\n",
       "    <tr>\n",
       "      <th>0</th>\n",
       "      <td>A</td>\n",
       "      <td>0</td>\n",
       "      <td>0</td>\n",
       "    </tr>\n",
       "    <tr>\n",
       "      <th>1</th>\n",
       "      <td>B</td>\n",
       "      <td>0</td>\n",
       "      <td>4000</td>\n",
       "    </tr>\n",
       "    <tr>\n",
       "      <th>2</th>\n",
       "      <td>C</td>\n",
       "      <td>8000</td>\n",
       "      <td>4000</td>\n",
       "    </tr>\n",
       "    <tr>\n",
       "      <th>3</th>\n",
       "      <td>D</td>\n",
       "      <td>8000</td>\n",
       "      <td>0</td>\n",
       "    </tr>\n",
       "  </tbody>\n",
       "</table>\n",
       "</div>"
      ],
      "text/plain": [
       "  NODEID     X     Y\n",
       "0      A     0     0\n",
       "1      B     0  4000\n",
       "2      C  8000  4000\n",
       "3      D  8000     0"
      ]
     },
     "execution_count": 4,
     "metadata": {},
     "output_type": "execute_result"
    }
   ],
   "source": [
    "##test:\n",
    "f = Frame2D('frame-1')\n",
    "f.input_all()\n",
    "f.rawdata.nodes.data"
   ]
  },
  {
   "cell_type": "code",
   "execution_count": 5,
   "metadata": {
    "collapsed": false
   },
   "outputs": [],
   "source": [
    "@extend\n",
    "class Frame2D:\n",
    "    \n",
    "    def write_table(self,table_name,ds_name=None,prefix=None,record=True):\n",
    "        t = getattr(self.rawdata,table_name,None)\n",
    "        if t is None:\n",
    "            methodname = 'list_'+table_name\n",
    "            method = getattr(self,methodname,None)\n",
    "            if method and callable(method):\n",
    "                data = method()\n",
    "                t = Table(table_name,data=data,columns=getattr(self,'COLUMNS_'+table_name))\n",
    "        if t is None:\n",
    "            raise ValueError(\"Unable to find table '{}'\".format(table_name))\n",
    "        t.write(ds_name=ds_name,prefix=prefix)\n",
    "        if record:\n",
    "            setattr(self.rawdata,table_name,t)\n",
    "        return t            \n",
    "    \n",
    "    def list_nodes(self):\n",
    "        return [(n.id,n.x,n.y) for n in self.nodes.values()]"
   ]
  },
  {
   "cell_type": "code",
   "execution_count": 6,
   "metadata": {
    "collapsed": false
   },
   "outputs": [
    {
     "name": "stdout",
     "output_type": "stream",
     "text": [
      "**** Error: Unable to find table 'foobar'\n"
     ]
    }
   ],
   "source": [
    "try:\n",
    "    f.write_table('foobar')\n",
    "except Exception, e:\n",
    "    print('**** Error:',e)"
   ]
  },
  {
   "cell_type": "code",
   "execution_count": 7,
   "metadata": {
    "collapsed": false
   },
   "outputs": [
    {
     "data": {
      "text/plain": [
       "'test-1.d/nodes.csv'"
      ]
     },
     "execution_count": 7,
     "metadata": {},
     "output_type": "execute_result"
    }
   ],
   "source": [
    "##test:\n",
    "t = f.write_table('nodes','test-1')\n",
    "t.file_name"
   ]
  },
  {
   "cell_type": "code",
   "execution_count": 8,
   "metadata": {
    "collapsed": false
   },
   "outputs": [
    {
     "name": "stdout",
     "output_type": "stream",
     "text": [
      "NODEID,X,Y\r\n",
      "A,0.0,0.0\r\n",
      "B,0.0,4000.0\r\n",
      "C,8000.0,4000.0\r\n",
      "D,8000.0,0.0\r\n"
     ]
    }
   ],
   "source": [
    "##test:\n",
    "%cat test-1.d/nodes.csv"
   ]
  },
  {
   "cell_type": "code",
   "execution_count": 9,
   "metadata": {
    "collapsed": false
   },
   "outputs": [
    {
     "data": {
      "text/plain": [
       "'test-1.d/nodes.csv'"
      ]
     },
     "execution_count": 9,
     "metadata": {},
     "output_type": "execute_result"
    }
   ],
   "source": [
    "##test:\n",
    "if hasattr(f.rawdata,'nodes'):\n",
    "    delattr(f.rawdata,'nodes')\n",
    "%rm test-1.d/nodes.csv\n",
    "t = f.write_table('nodes','test-1')\n",
    "t.file_name"
   ]
  },
  {
   "cell_type": "code",
   "execution_count": 10,
   "metadata": {
    "collapsed": false
   },
   "outputs": [
    {
     "name": "stdout",
     "output_type": "stream",
     "text": [
      "NODEID,X,Y\r\n",
      "A,0.0,0.0\r\n",
      "B,0.0,4000.0\r\n",
      "C,8000.0,4000.0\r\n",
      "D,8000.0,0.0\r\n"
     ]
    }
   ],
   "source": [
    "##test:\n",
    "%cat test-1.d/nodes.csv"
   ]
  },
  {
   "cell_type": "code",
   "execution_count": 11,
   "metadata": {
    "collapsed": false
   },
   "outputs": [],
   "source": [
    "@extend\n",
    "class Frame2D:\n",
    "    \n",
    "    def list_supports(self):\n",
    "        ans = []\n",
    "        for node in self.nodes.values():\n",
    "            if node.constraints:\n",
    "                cl = tuple(node.constraints)\n",
    "                if len(cl) < 3:\n",
    "                    cl = cl + ('',)*(3-len(cl))\n",
    "                ans.append((node.id,)+cl)\n",
    "        return ans"
   ]
  },
  {
   "cell_type": "code",
   "execution_count": 12,
   "metadata": {
    "collapsed": false
   },
   "outputs": [
    {
     "data": {
      "text/plain": [
       "[('A', 'FX', 'FY', 'MZ'), ('D', 'FX', 'FY', '')]"
      ]
     },
     "execution_count": 12,
     "metadata": {},
     "output_type": "execute_result"
    }
   ],
   "source": [
    "##test:\n",
    "f.list_supports()"
   ]
  },
  {
   "cell_type": "code",
   "execution_count": 13,
   "metadata": {
    "collapsed": false
   },
   "outputs": [
    {
     "data": {
      "text/plain": [
       "'test-1.d/supports.csv'"
      ]
     },
     "execution_count": 13,
     "metadata": {},
     "output_type": "execute_result"
    }
   ],
   "source": [
    "##test:\n",
    "t = f.write_table('supports','test-1')\n",
    "t.file_name"
   ]
  },
  {
   "cell_type": "code",
   "execution_count": 14,
   "metadata": {
    "collapsed": false
   },
   "outputs": [
    {
     "name": "stdout",
     "output_type": "stream",
     "text": [
      "NODEID,C0,C1,C2\r\n",
      "A,FX,FY,MZ\r\n",
      "D,FX,FY,\r\n"
     ]
    }
   ],
   "source": [
    "##test:\n",
    "%cat test-1.d/supports.csv"
   ]
  },
  {
   "cell_type": "code",
   "execution_count": 15,
   "metadata": {
    "collapsed": false
   },
   "outputs": [
    {
     "data": {
      "text/plain": [
       "'test-1.d/supports.csv'"
      ]
     },
     "execution_count": 15,
     "metadata": {},
     "output_type": "execute_result"
    }
   ],
   "source": [
    "##test:\n",
    "x = 'supports'\n",
    "if hasattr(f.rawdata,x):\n",
    "    delattr(f.rawdata,x)\n",
    "%rm test-1.d/supports.csv\n",
    "t = f.write_table(x,'test-1')\n",
    "t.file_name"
   ]
  },
  {
   "cell_type": "code",
   "execution_count": 16,
   "metadata": {
    "collapsed": false
   },
   "outputs": [
    {
     "name": "stdout",
     "output_type": "stream",
     "text": [
      "NODEID,C0,C1,C2\r\n",
      "A,FX,FY,MZ\r\n",
      "D,FX,FY,\r\n"
     ]
    }
   ],
   "source": [
    "##test:\n",
    "%cat test-1.d/supports.csv"
   ]
  },
  {
   "cell_type": "code",
   "execution_count": 17,
   "metadata": {
    "collapsed": true
   },
   "outputs": [],
   "source": [
    "@extend\n",
    "class Frame2D:\n",
    "    \n",
    "    def list_members(self):\n",
    "        return [(m.id,m.nodej.id,m.nodek.id) for m in self.members.values()]"
   ]
  },
  {
   "cell_type": "code",
   "execution_count": 18,
   "metadata": {
    "collapsed": false
   },
   "outputs": [
    {
     "data": {
      "text/plain": [
       "[('AB', 'A', 'B'), ('BC', 'B', 'C'), ('CD', 'C', 'D')]"
      ]
     },
     "execution_count": 18,
     "metadata": {},
     "output_type": "execute_result"
    }
   ],
   "source": [
    "##test:\n",
    "f.list_members()"
   ]
  },
  {
   "cell_type": "code",
   "execution_count": 19,
   "metadata": {
    "collapsed": false
   },
   "outputs": [
    {
     "name": "stdout",
     "output_type": "stream",
     "text": [
      "MEMBERID,NODEJ,NODEK\r\n",
      "AB,A,B\r\n",
      "BC,B,C\r\n",
      "CD,C,D\r\n"
     ]
    }
   ],
   "source": [
    "##test:\n",
    "f.write_table('members','test-1')\n",
    "%cat test-1.d/members.csv"
   ]
  },
  {
   "cell_type": "code",
   "execution_count": 20,
   "metadata": {
    "collapsed": true
   },
   "outputs": [],
   "source": [
    "@extend\n",
    "class Frame2D:\n",
    "    \n",
    "    def list_releases(self):\n",
    "        return [(m.id,)+tuple(m.releases) for m in self.members.values() if m.releases]"
   ]
  },
  {
   "cell_type": "code",
   "execution_count": 21,
   "metadata": {
    "collapsed": false
   },
   "outputs": [
    {
     "data": {
      "text/plain": [
       "[('AB', 'MZK'), ('CD', 'MZJ')]"
      ]
     },
     "execution_count": 21,
     "metadata": {},
     "output_type": "execute_result"
    }
   ],
   "source": [
    "##test:\n",
    "f.list_releases()"
   ]
  },
  {
   "cell_type": "code",
   "execution_count": 22,
   "metadata": {
    "collapsed": false
   },
   "outputs": [
    {
     "name": "stdout",
     "output_type": "stream",
     "text": [
      "MEMBERID,RELEASE\r\n",
      "AB,MZK\r\n",
      "CD,MZJ\r\n"
     ]
    }
   ],
   "source": [
    "##test:\n",
    "f.write_table('releases','test-1')\n",
    "%cat test-1.d/releases.csv"
   ]
  },
  {
   "cell_type": "code",
   "execution_count": 23,
   "metadata": {
    "collapsed": true
   },
   "outputs": [],
   "source": [
    "@extend\n",
    "class Frame2D:\n",
    "    \n",
    "    def list_properties(self):\n",
    "        return [(m.id,m.size,m.Ix,m.A) for m in self.members.values()]"
   ]
  },
  {
   "cell_type": "code",
   "execution_count": 24,
   "metadata": {
    "collapsed": false
   },
   "outputs": [
    {
     "data": {
      "text/plain": [
       "[('AB', 'W310x97', 222000000.0, 12300.0),\n",
       " ('BC', 'W460x106', 488000000.0, 13500.0),\n",
       " ('CD', '', 222000000.0, 12300.0)]"
      ]
     },
     "execution_count": 24,
     "metadata": {},
     "output_type": "execute_result"
    }
   ],
   "source": [
    "##test:\n",
    "f.list_properties()"
   ]
  },
  {
   "cell_type": "code",
   "execution_count": 25,
   "metadata": {
    "collapsed": false
   },
   "outputs": [
    {
     "name": "stdout",
     "output_type": "stream",
     "text": [
      "MEMBERID,SIZE,IX,A\r\n",
      "BC,W460x106,488000000.0,13500.0\r\n",
      "AB,W310x97,222000000.0,12300.0\r\n",
      "CD,,222000000.0,12300.0\r\n"
     ]
    }
   ],
   "source": [
    "##test:\n",
    "f.write_table('properties','test-1')\n",
    "%cat test-1.d/properties.csv"
   ]
  },
  {
   "cell_type": "code",
   "execution_count": 26,
   "metadata": {
    "collapsed": false
   },
   "outputs": [
    {
     "data": {
      "text/plain": [
       "['member_loads',\n",
       " 'releases',\n",
       " 'supports',\n",
       " 'support_displacements',\n",
       " 'load_combinations',\n",
       " 'members',\n",
       " 'nodes',\n",
       " 'node_loads',\n",
       " 'properties']"
      ]
     },
     "execution_count": 26,
     "metadata": {},
     "output_type": "execute_result"
    }
   ],
   "source": [
    "##test:\n",
    "vars(f.rawdata).keys()"
   ]
  },
  {
   "cell_type": "code",
   "execution_count": 27,
   "metadata": {
    "collapsed": true
   },
   "outputs": [],
   "source": [
    "@extend\n",
    "class Frame2D:\n",
    "    \n",
    "    COLUMNS_signatures = ['BASE','PATH','SIGNATURE']\n",
    "    \n",
    "    def list_signatures(self):\n",
    "        return [t.signature() for tn,t in vars(self.rawdata).items() if type(t) is Table]"
   ]
  },
  {
   "cell_type": "code",
   "execution_count": 28,
   "metadata": {
    "collapsed": false
   },
   "outputs": [
    {
     "data": {
      "text/plain": [
       "[('member_loads.csv',\n",
       "  'frame-1.d/member_loads.csv',\n",
       "  'aa1ce177206060209e11e016c7f4f210e3d3b42bfb6a5965069d5345ffc4628a'),\n",
       " ('releases.csv',\n",
       "  'test-1.d/releases.csv',\n",
       "  'ae3d4681f60b6c5665cfd07a4894a01dd386cc7a51e98eb08248fc202e41e09f'),\n",
       " ('supports.csv',\n",
       "  'test-1.d/supports.csv',\n",
       "  'c9b14f3fb0868a679912d6d5d8f23e75f89cc8accd8e9f2b1613bc9710653815'),\n",
       " ('support_displacements.csv',\n",
       "  'frame-1.d/support_displacements.csv',\n",
       "  'b475cca77a5ddcf815425514c484fcb3506195db840a9bf3006a187c9e457617'),\n",
       " ('load_combinations.csv',\n",
       "  'frame-1.d/load_combinations.csv',\n",
       "  'efe64703cadacf5f169f913b9d49dcf4c6523dd62e474cfff90782787c830310'),\n",
       " ('members.csv',\n",
       "  'test-1.d/members.csv',\n",
       "  '783cee2e924a1f1fc738638af431671f02e25f1b97430d834a226eecd3dd09e3'),\n",
       " ('nodes.csv',\n",
       "  'test-1.d/nodes.csv',\n",
       "  'a1c6202ec4a3f745cbde4e96c7b07ce173d14ebaeaa6956b40260053ffb34e6c'),\n",
       " ('node_loads.csv',\n",
       "  'frame-1.d/node_loads.csv',\n",
       "  '0e6b29f68205018faf8132182cd8b9ad61360ff3a41c8d67fc9e85c26289ebce'),\n",
       " ('properties.csv',\n",
       "  'test-1.d/properties.csv',\n",
       "  '4ebc2477cadb207459034659d0bf1da9b9dbb02bb06af2c060894ecb595effca')]"
      ]
     },
     "execution_count": 28,
     "metadata": {},
     "output_type": "execute_result"
    }
   ],
   "source": [
    "##test:\n",
    "f.list_signatures()"
   ]
  },
  {
   "cell_type": "code",
   "execution_count": 30,
   "metadata": {
    "collapsed": false
   },
   "outputs": [
    {
     "name": "stdout",
     "output_type": "stream",
     "text": [
      "BASE,PATH,SIGNATURE\r\n",
      "member_loads.csv,frame-1.d/member_loads.csv,aa1ce177206060209e11e016c7f4f210e3d3b42bfb6a5965069d5345ffc4628a\r\n",
      "releases.csv,test-1.d/releases.csv,ae3d4681f60b6c5665cfd07a4894a01dd386cc7a51e98eb08248fc202e41e09f\r\n",
      "supports.csv,test-1.d/supports.csv,c9b14f3fb0868a679912d6d5d8f23e75f89cc8accd8e9f2b1613bc9710653815\r\n",
      "support_displacements.csv,frame-1.d/support_displacements.csv,b475cca77a5ddcf815425514c484fcb3506195db840a9bf3006a187c9e457617\r\n",
      "load_combinations.csv,frame-1.d/load_combinations.csv,efe64703cadacf5f169f913b9d49dcf4c6523dd62e474cfff90782787c830310\r\n",
      "members.csv,test-1.d/members.csv,783cee2e924a1f1fc738638af431671f02e25f1b97430d834a226eecd3dd09e3\r\n",
      "nodes.csv,test-1.d/nodes.csv,a1c6202ec4a3f745cbde4e96c7b07ce173d14ebaeaa6956b40260053ffb34e6c\r\n",
      "node_loads.csv,frame-1.d/node_loads.csv,0e6b29f68205018faf8132182cd8b9ad61360ff3a41c8d67fc9e85c26289ebce\r\n",
      "properties.csv,test-1.d/properties.csv,4ebc2477cadb207459034659d0bf1da9b9dbb02bb06af2c060894ecb595effca\r\n"
     ]
    }
   ],
   "source": [
    "##test:\n",
    "f.write_table('signatures','test-1',record=False)\n",
    "%cat test-1.d/signatures.csv"
   ]
  },
  {
   "cell_type": "code",
   "execution_count": 33,
   "metadata": {
    "collapsed": true
   },
   "outputs": [],
   "source": [
    "@extend\n",
    "class Frame2D:\n",
    "    \n",
    "    def list_node_loads(self):\n",
    "        ans = []\n",
    "        dirns = ['FX','FY','FZ']\n",
    "        for loadid,node,nload in self.nodeloads:\n",
    "            for i in [0,1,2]:\n",
    "                if nload[i]:\n",
    "                    ans.append((loadid,node.id,dirns[i],nload[i]))\n",
    "        return ans"
   ]
  },
  {
   "cell_type": "code",
   "execution_count": 34,
   "metadata": {
    "collapsed": false
   },
   "outputs": [
    {
     "data": {
      "text/plain": [
       "[('wind', 'B', 'FX', -200000.0)]"
      ]
     },
     "execution_count": 34,
     "metadata": {},
     "output_type": "execute_result"
    }
   ],
   "source": [
    "##test:\n",
    "f.list_node_loads()"
   ]
  },
  {
   "cell_type": "code",
   "execution_count": 35,
   "metadata": {
    "collapsed": false
   },
   "outputs": [
    {
     "name": "stdout",
     "output_type": "stream",
     "text": [
      "LOAD,NODEID,DIRN,F\r\n",
      "Wind,B,FX,-200000.0\r\n"
     ]
    }
   ],
   "source": [
    "##test:\n",
    "f.write_table('node_loads','test-1')\n",
    "%cat test-1.d/node_loads.csv"
   ]
  },
  {
   "cell_type": "code",
   "execution_count": null,
   "metadata": {
    "collapsed": true
   },
   "outputs": [],
   "source": []
  }
 ],
 "metadata": {
  "kernelspec": {
   "display_name": "Python 2",
   "language": "python",
   "name": "python2"
  },
  "language_info": {
   "codemirror_mode": {
    "name": "ipython",
    "version": 2
   },
   "file_extension": ".py",
   "mimetype": "text/x-python",
   "name": "python",
   "nbconvert_exporter": "python",
   "pygments_lexer": "ipython2",
   "version": "2.7.6"
  },
  "widgets": {
   "state": {},
   "version": "1.1.1"
  }
 },
 "nbformat": 4,
 "nbformat_minor": 0
}
