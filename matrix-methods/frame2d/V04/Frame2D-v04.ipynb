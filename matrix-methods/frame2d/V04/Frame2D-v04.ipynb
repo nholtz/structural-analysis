{
 "cells": [
  {
   "cell_type": "code",
   "execution_count": 1,
   "metadata": {
    "collapsed": false
   },
   "outputs": [],
   "source": [
    "import salib as sl\n",
    "sl.import_notebooks()\n",
    "from Tables import Table\n",
    "from Nodes import Node\n",
    "from collections import OrderedDict, defaultdict"
   ]
  },
  {
   "cell_type": "code",
   "execution_count": 2,
   "metadata": {
    "collapsed": true
   },
   "outputs": [],
   "source": [
    "class Object(object):\n",
    "    pass\n",
    "\n",
    "class Frame2D(object):\n",
    "    \n",
    "    def __init__(self,dsname=None):\n",
    "        self.dsname = dsname\n",
    "        self.rawdata = Object()\n",
    "        self.nodes = OrderedDict()\n",
    "        self.members = OrderedDict()\n",
    "        #self.dofdesc = []\n",
    "        self.nodeloads = defaultdict(list)\n",
    "        self.membloads = defaultdict(list)\n",
    "        self.ndof = 0\n",
    "        self.nfree = 0\n",
    "        self.ncons = 0\n",
    "        self.R = None\n",
    "        self.D = None\n",
    "        self.PDF = None    # P-Delta forces\n",
    "        \n",
    "    COLUMNS_xxx = [] # list of column names for table 'xxx'\n",
    "        \n",
    "    def get_table(self,tablename,extrasok=False):\n",
    "        columns = getattr(self,'COLUMNS_'+tablename)\n",
    "        t = Table(tablename,columns=columns)\n",
    "        t.read()\n",
    "        reqdl= columns\n",
    "        reqd = set(reqdl)\n",
    "        prov = set(t.columns)\n",
    "        if reqd-prov:\n",
    "            raise Exception('Columns missing {} for table \"{}\". Required columns are: {}'\\\n",
    "                            .format(list(reqd-prov),tablename,reqdl))\n",
    "        if not extrasok:\n",
    "            if prov-reqd:\n",
    "                raise Exception('Extra columns {} for table \"{}\". Required columns are: {}'\\\n",
    "                               .format(list(prov-reqd),tablename,reqdl))\n",
    "        return t"
   ]
  },
  {
   "cell_type": "code",
   "execution_count": 3,
   "metadata": {
    "collapsed": true
   },
   "outputs": [],
   "source": [
    "%%Table nodes\n",
    "NODEID,X,Y,Z\n",
    "A,0,0,5000\n",
    "B,0,4000,5000\n",
    "C,8000,4000,5000\n",
    "D,8000,0,5000"
   ]
  },
  {
   "cell_type": "code",
   "execution_count": 4,
   "metadata": {
    "collapsed": true
   },
   "outputs": [],
   "source": [
    "@sl.extend(Frame2D)\n",
    "class Frame2D:\n",
    "    \n",
    "    COLUMNS_nodes = ('NODEID','X','Y')\n",
    "        \n",
    "    def install_nodes(self):\n",
    "        node_table = self.get_table('nodes')\n",
    "        for ix,r in node_table.data.iterrows():\n",
    "            if r.NODEID in self.nodes:\n",
    "                raise Exception('Multiply defined node: {}'.format(r.NODEID))\n",
    "            n = Node(r.NODEID,r.X,r.Y)\n",
    "            self.nodes[n.id] = n\n",
    "        self.rawdata.nodes = node_table\n",
    "            \n",
    "    def get_node(self,id):\n",
    "        try:\n",
    "            return self.nodes[id]\n",
    "        except KeyError:\n",
    "            raise Exception('Node not defined: {}'.format(id))\n"
   ]
  },
  {
   "cell_type": "code",
   "execution_count": 5,
   "metadata": {
    "collapsed": false
   },
   "outputs": [],
   "source": [
    "f = Frame2D()"
   ]
  },
  {
   "cell_type": "code",
   "execution_count": 6,
   "metadata": {
    "collapsed": false
   },
   "outputs": [],
   "source": [
    "f.install_nodes()"
   ]
  },
  {
   "cell_type": "code",
   "execution_count": 13,
   "metadata": {
    "collapsed": false
   },
   "outputs": [
    {
     "data": {
      "text/plain": [
       "OrderedDict([('A', Node(\"A\",0,0)),\n",
       "             ('B', Node(\"B\",0,4000)),\n",
       "             ('C', Node(\"C\",8000,4000)),\n",
       "             ('D', Node(\"D\",8000,0))])"
      ]
     },
     "execution_count": 13,
     "metadata": {},
     "output_type": "execute_result"
    }
   ],
   "source": [
    "f.nodes"
   ]
  },
  {
   "cell_type": "code",
   "execution_count": 8,
   "metadata": {
    "collapsed": true
   },
   "outputs": [],
   "source": [
    "%%Table members\n",
    "MEMBERID,NODEJ,NODEK\n",
    "AB,A,B\n",
    "BC,B,C\n",
    "DC,D,C"
   ]
  },
  {
   "cell_type": "code",
   "execution_count": 9,
   "metadata": {
    "collapsed": true
   },
   "outputs": [],
   "source": [
    "%%Table node_loads\n",
    "LOAD,NODEID,DIRN,F\n",
    "Wind,B,FX,-200000."
   ]
  },
  {
   "cell_type": "code",
   "execution_count": 10,
   "metadata": {
    "collapsed": true
   },
   "outputs": [],
   "source": [
    "%%Table member_loads\n",
    "LOAD,MEMBERID,TYPE,W1,W2,A,B,C\n",
    "Live,BC,UDL,-50,,,,\n",
    "Live,BC,PL,-200000,,5000"
   ]
  },
  {
   "cell_type": "code",
   "execution_count": 11,
   "metadata": {
    "collapsed": true
   },
   "outputs": [],
   "source": [
    "%%Table load_combinations\n",
    "COMBO,LOAD,FACTOR\n",
    "One,Live,1.0\n",
    "One,Wind,1.0"
   ]
  },
  {
   "cell_type": "code",
   "execution_count": 12,
   "metadata": {
    "collapsed": false
   },
   "outputs": [
    {
     "data": {
      "text/plain": [
       "{u'load_combinations': u'COMBO,LOAD,FACTOR\\nOne,Live,1.0\\nOne,Wind,1.0',\n",
       " u'member_loads': u'LOAD,MEMBERID,TYPE,W1,W2,A,B,C\\nLive,BC,UDL,-50,,,,\\nLive,BC,PL,-200000,,5000',\n",
       " u'members': u'MEMBERID,NODEJ,NODEK\\nAB,A,B\\nBC,B,C\\nDC,D,C',\n",
       " u'node_loads': u'LOAD,NODEID,DIRN,F\\nWind,B,FX,-200000.',\n",
       " u'nodes': u'NODEID,X,Y,Z\\nA,0,0,5000\\nB,0,4000,5000\\nC,8000,4000,5000\\nD,8000,0,5000'}"
      ]
     },
     "execution_count": 12,
     "metadata": {},
     "output_type": "execute_result"
    }
   ],
   "source": [
    "Table.CELLDATA"
   ]
  }
 ],
 "metadata": {
  "kernelspec": {
   "display_name": "Python 2",
   "language": "python",
   "name": "python2"
  },
  "language_info": {
   "codemirror_mode": {
    "name": "ipython",
    "version": 2
   },
   "file_extension": ".py",
   "mimetype": "text/x-python",
   "name": "python",
   "nbconvert_exporter": "python",
   "pygments_lexer": "ipython2",
   "version": "2.7.6"
  },
  "widgets": {
   "state": {},
   "version": "1.1.1"
  }
 },
 "nbformat": 4,
 "nbformat_minor": 0
}
