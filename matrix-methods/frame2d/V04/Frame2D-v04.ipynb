{
 "cells": [
  {
   "cell_type": "markdown",
   "metadata": {},
   "source": [
    "# 2-Dimensional Frame Analysis - Version 04\n",
    "This program performs an elastic analysis of 2-dimensional structural frames.  It has the following features:\n",
    "1. Input is provided by a set of CSV files (and cell-magics exist so you can specifiy the CSV data\n",
    "in a notebook cell).  See the example below for an, er, example.\n",
    "1. Handles concentrated forces on nodes, and concentrated forces, concentrated moments, and linearly varying distributed loads applied transversely anywhere along the member (i.e., there is as yet no way to handle longitudinal\n",
    "load components).\n",
    "1. It handles fixed, pinned, roller supports and member end moment releases (internal pins).  The former are\n",
    "handled by assigning free or fixed global degrees of freedom, and the latter are handled by adjusting the \n",
    "member stiffness matrix.\n",
    "1. It has the ability to handle named sets of loads with factored combinations of these.\n",
    "1. The DOF #'s are assigned by the program, with the fixed DOF #'s assigned after the non-fixed.  The equilibrium\n",
    "equation is then partitioned for solution.  Among other advantages, this means that support settlement could be\n",
    "easily added (there is no UI for that, yet).\n",
    "1. A non-linear analysis can be performed using the P-Delta method (fake shears are computed at column ends due to the vertical load acting through horizontal displacement differences, and these shears are applied as extra loads\n",
    "to the nodes).\n",
    "1. A full non-linear (2nd order) elastic analysis will soon be available by forming the equilibrium equations \n",
    "on the deformed structure.  This is very easy to add, but it hasn't been done yet.  Shouldn't be too long.\n",
    "1. There is very little no documentation below, but that will improve, slowly."
   ]
  },
  {
   "cell_type": "code",
   "execution_count": 1,
   "metadata": {
    "collapsed": true
   },
   "outputs": [],
   "source": [
    "from __future__ import print_function"
   ]
  },
  {
   "cell_type": "code",
   "execution_count": 2,
   "metadata": {
    "collapsed": false
   },
   "outputs": [],
   "source": [
    "import salib as sl\n",
    "sl.import_notebooks()\n",
    "from Tables import Table\n",
    "from Nodes import Node\n",
    "from Members import Member\n",
    "from LoadSets import LoadSet, LoadCombination\n",
    "from NodeLoads import makeNodeLoad\n",
    "from FixedEndForces import makeMemberLoad\n",
    "from collections import OrderedDict, defaultdict"
   ]
  },
  {
   "cell_type": "code",
   "execution_count": 3,
   "metadata": {
    "collapsed": true
   },
   "outputs": [],
   "source": [
    "class Object(object):\n",
    "    pass\n",
    "\n",
    "class Frame2D(object):\n",
    "    \n",
    "    def __init__(self,dsname=None):\n",
    "        self.dsname = dsname\n",
    "        self.rawdata = Object()\n",
    "        self.nodes = OrderedDict()\n",
    "        self.members = OrderedDict()\n",
    "        self.nodeloads = LoadSet()\n",
    "        self.memberloads = LoadSet()\n",
    "        self.loadcombinations = LoadCombination()\n",
    "        #self.dofdesc = []\n",
    "        #self.nodeloads = defaultdict(list)\n",
    "        #self.membloads = defaultdict(list)\n",
    "        self.ndof = 0\n",
    "        self.nfree = 0\n",
    "        self.ncons = 0\n",
    "        self.R = None\n",
    "        self.D = None\n",
    "        self.PDF = None    # P-Delta forces\n",
    "        \n",
    "    COLUMNS_xxx = [] # list of column names for table 'xxx'\n",
    "        \n",
    "    def get_table(self,tablename,extrasok=False):\n",
    "        columns = getattr(self,'COLUMNS_'+tablename)\n",
    "        t = Table(tablename,columns=columns)\n",
    "        t.read()\n",
    "        reqdl= columns\n",
    "        reqd = set(reqdl)\n",
    "        prov = set(t.columns)\n",
    "        if reqd-prov:\n",
    "            raise Exception('Columns missing {} for table \"{}\". Required columns are: {}'\\\n",
    "                            .format(list(reqd-prov),tablename,reqdl))\n",
    "        if not extrasok:\n",
    "            if prov-reqd:\n",
    "                raise Exception('Extra columns {} for table \"{}\". Required columns are: {}'\\\n",
    "                               .format(list(prov-reqd),tablename,reqdl))\n",
    "        return t"
   ]
  },
  {
   "cell_type": "markdown",
   "metadata": {},
   "source": [
    "## Nodes"
   ]
  },
  {
   "cell_type": "code",
   "execution_count": 4,
   "metadata": {
    "collapsed": true
   },
   "outputs": [],
   "source": [
    "%%Table nodes\n",
    "NODEID,X,Y,Z\n",
    "A,0,0,5000\n",
    "B,0,4000,5000\n",
    "C,8000,4000,5000\n",
    "D,8000,0,5000"
   ]
  },
  {
   "cell_type": "code",
   "execution_count": 5,
   "metadata": {
    "collapsed": false
   },
   "outputs": [],
   "source": [
    "@sl.extend(Frame2D)\n",
    "class Frame2D:\n",
    "    \n",
    "    COLUMNS_nodes = ('NODEID','X','Y')\n",
    "        \n",
    "    def install_nodes(self):\n",
    "        node_table = self.get_table('nodes')\n",
    "        for ix,r in node_table.data.iterrows():\n",
    "            if r.NODEID in self.nodes:\n",
    "                raise Exception('Multiply defined node: {}'.format(r.NODEID))\n",
    "            n = Node(r.NODEID,r.X,r.Y)\n",
    "            self.nodes[n.id] = n\n",
    "        self.rawdata.nodes = node_table\n",
    "            \n",
    "    def get_node(self,id):\n",
    "        try:\n",
    "            return self.nodes[id]\n",
    "        except KeyError:\n",
    "            raise Exception('Node not defined: {}'.format(id))\n"
   ]
  },
  {
   "cell_type": "code",
   "execution_count": 6,
   "metadata": {
    "collapsed": false
   },
   "outputs": [],
   "source": [
    "##test:\n",
    "f = Frame2D()"
   ]
  },
  {
   "cell_type": "code",
   "execution_count": 7,
   "metadata": {
    "collapsed": false
   },
   "outputs": [],
   "source": [
    "##test:\n",
    "f.install_nodes()"
   ]
  },
  {
   "cell_type": "code",
   "execution_count": 8,
   "metadata": {
    "collapsed": false
   },
   "outputs": [
    {
     "data": {
      "text/plain": [
       "OrderedDict([('A', Node(\"A\",0,0)),\n",
       "             ('B', Node(\"B\",0,4000)),\n",
       "             ('C', Node(\"C\",8000,4000)),\n",
       "             ('D', Node(\"D\",8000,0))])"
      ]
     },
     "execution_count": 8,
     "metadata": {},
     "output_type": "execute_result"
    }
   ],
   "source": [
    "##test:\n",
    "f.nodes"
   ]
  },
  {
   "cell_type": "code",
   "execution_count": 9,
   "metadata": {
    "collapsed": false
   },
   "outputs": [
    {
     "data": {
      "text/plain": [
       "Node(\"C\",8000,4000)"
      ]
     },
     "execution_count": 9,
     "metadata": {},
     "output_type": "execute_result"
    }
   ],
   "source": [
    "##test:\n",
    "f.get_node('C')"
   ]
  },
  {
   "cell_type": "markdown",
   "metadata": {},
   "source": [
    "## Members"
   ]
  },
  {
   "cell_type": "code",
   "execution_count": 10,
   "metadata": {
    "collapsed": true
   },
   "outputs": [],
   "source": [
    "%%Table members\n",
    "MEMBERID,NODEJ,NODEK\n",
    "AB,A,B\n",
    "BC,B,C\n",
    "DC,D,C"
   ]
  },
  {
   "cell_type": "code",
   "execution_count": 11,
   "metadata": {
    "collapsed": true
   },
   "outputs": [],
   "source": [
    "@sl.extend(Frame2D)\n",
    "class Frame2D:\n",
    "    \n",
    "    COLUMNS_members = ('MEMBERID','NODEJ','NODEK')\n",
    "    \n",
    "    def install_members(self):\n",
    "        table = self.get_table('members')\n",
    "        for ix,m in table.data.iterrows():\n",
    "            if m.MEMBERID in self.members:\n",
    "                raise Exception('Multiply defined member: {}'.format(m.MEMBERID))\n",
    "            memb = Member(m.MEMBERID,self.get_node(m.NODEJ),self.get_node(m.NODEK))\n",
    "            self.members[memb.id] = memb\n",
    "        self.rawdata.members = table\n",
    "            \n",
    "    def get_member(self,id):\n",
    "        try:\n",
    "            return self.members[id]\n",
    "        except KeyError:\n",
    "            raise Exception('Member not defined: {}'.format(id))"
   ]
  },
  {
   "cell_type": "code",
   "execution_count": 12,
   "metadata": {
    "collapsed": false
   },
   "outputs": [
    {
     "data": {
      "text/plain": [
       "OrderedDict([('AB', Member(\"AB\",\"Node(\"A\",0,0)\",\"Node(\"B\",0,4000)\")),\n",
       "             ('BC', Member(\"BC\",\"Node(\"B\",0,4000)\",\"Node(\"C\",8000,4000)\")),\n",
       "             ('DC', Member(\"DC\",\"Node(\"D\",8000,0)\",\"Node(\"C\",8000,4000)\"))])"
      ]
     },
     "execution_count": 12,
     "metadata": {},
     "output_type": "execute_result"
    }
   ],
   "source": [
    "##test:\n",
    "f.install_members()\n",
    "f.members"
   ]
  },
  {
   "cell_type": "code",
   "execution_count": 13,
   "metadata": {
    "collapsed": false
   },
   "outputs": [
    {
     "data": {
      "text/plain": [
       "('BC', 8000.0, 1.0, 0.0)"
      ]
     },
     "execution_count": 13,
     "metadata": {},
     "output_type": "execute_result"
    }
   ],
   "source": [
    "##test:\n",
    "m = f.get_member('BC')\n",
    "m.id, m.L, m.dcx, m.dcy"
   ]
  },
  {
   "cell_type": "markdown",
   "metadata": {},
   "source": [
    "## Node Loads"
   ]
  },
  {
   "cell_type": "code",
   "execution_count": 14,
   "metadata": {
    "collapsed": true
   },
   "outputs": [],
   "source": [
    "%%Table node_loads\n",
    "LOAD,NODEID,DIRN,F\n",
    "Wind,B,FX,-200000."
   ]
  },
  {
   "cell_type": "code",
   "execution_count": 15,
   "metadata": {
    "collapsed": true
   },
   "outputs": [],
   "source": [
    "@sl.extend(Frame2D)\n",
    "class Frame2D:\n",
    "    \n",
    "    COLUMNS_node_loads = ('LOAD','NODEID','DIRN','F')\n",
    "    \n",
    "    def install_node_loads(self):\n",
    "        table = self.get_table('node_loads')\n",
    "        dirns = ['FX','FY','FZ']\n",
    "        for ix,row in table.data.iterrows():\n",
    "            n = self.get_node(row.NODEID)\n",
    "            if row.DIRN not in dirns:\n",
    "                raise ValueError(\"Invalid node load direction: {} for load {}, node {}; must be one of '{}'\"\n",
    "                                .format(row.DIRN, row.LOAD, row.NODEID, ', '.join(dirns)))\n",
    "            l = makeNodeLoad({row.DIRN:row.F})\n",
    "            self.nodeloads.append(row.LOAD,n,l)\n",
    "        self.rawdata.node_loads = table"
   ]
  },
  {
   "cell_type": "code",
   "execution_count": 16,
   "metadata": {
    "collapsed": false
   },
   "outputs": [],
   "source": [
    "##test:\n",
    "f.install_node_loads()"
   ]
  },
  {
   "cell_type": "code",
   "execution_count": 17,
   "metadata": {
    "collapsed": false
   },
   "outputs": [
    {
     "name": "stdout",
     "output_type": "stream",
     "text": [
      "Node(\"B\",0,4000) NodeLoad(-200000.0,0.0,0.0) 1.0 NodeLoad(-200000.0,0.0,0.0)\n"
     ]
    }
   ],
   "source": [
    "##test:\n",
    "for o,l,fact in f.nodeloads.iterloads('Wind'):\n",
    "    print(o,l,fact,l*fact)"
   ]
  },
  {
   "cell_type": "markdown",
   "metadata": {},
   "source": [
    "## Member Loads"
   ]
  },
  {
   "cell_type": "code",
   "execution_count": 18,
   "metadata": {
    "collapsed": true
   },
   "outputs": [],
   "source": [
    "%%Table member_loads\n",
    "LOAD,MEMBERID,TYPE,W1,W2,A,B,C\n",
    "Live,BC,UDL,-50,,,,\n",
    "Live,BC,PL,-200000,,5000"
   ]
  },
  {
   "cell_type": "code",
   "execution_count": 19,
   "metadata": {
    "collapsed": true
   },
   "outputs": [],
   "source": [
    "@sl.extend(Frame2D)\n",
    "class Frame2D:\n",
    "    \n",
    "    COLUMNS_member_loads = ('LOAD','MEMBERID','TYPE','W1','W2','A','B','C')\n",
    "    \n",
    "    def install_member_loads(self):\n",
    "        table = self.get_table('member_loads')\n",
    "        for ix,row in table.data.iterrows():\n",
    "            m = self.get_member(row.MEMBERID)\n",
    "            l = makeMemberLoad(m.L,row)\n",
    "            self.memberloads.append(row.LOAD,m,l)\n",
    "        self.rawdata.member_loads = table"
   ]
  },
  {
   "cell_type": "code",
   "execution_count": 20,
   "metadata": {
    "collapsed": true
   },
   "outputs": [],
   "source": [
    "##test:\n",
    "f.install_member_loads()"
   ]
  },
  {
   "cell_type": "code",
   "execution_count": 21,
   "metadata": {
    "collapsed": false
   },
   "outputs": [
    {
     "name": "stdout",
     "output_type": "stream",
     "text": [
      "BC UDL(L=8000.0,w=-50) 1.0 EF(0.0,200000.0,266666666.667,0.0,200000.0,-266666666.667)\n",
      "BC PL(L=8000.0,W1=-200000,a=5000.0) 1.0 EF(0.0,63281.25,140625000.0,0.0,136718.75,-234375000.0)\n"
     ]
    }
   ],
   "source": [
    "##test:\n",
    "for o,l,fact in f.memberloads.iterloads('Live'):\n",
    "    print(o.id,l,fact,l.fefs()*fact)"
   ]
  },
  {
   "cell_type": "markdown",
   "metadata": {},
   "source": [
    "## Load Combinations"
   ]
  },
  {
   "cell_type": "code",
   "execution_count": 22,
   "metadata": {
    "collapsed": true
   },
   "outputs": [],
   "source": [
    "%%Table load_combinations\n",
    "COMBO,LOAD,FACTOR\n",
    "One,Live,1.5\n",
    "One,Wind,1.75"
   ]
  },
  {
   "cell_type": "code",
   "execution_count": 23,
   "metadata": {
    "collapsed": true
   },
   "outputs": [],
   "source": [
    "@sl.extend(Frame2D)\n",
    "class Frame2D:\n",
    "    \n",
    "    COLUMNS_load_combinations = ('COMBO','LOAD','FACTOR')\n",
    "    \n",
    "    def install_load_combinations(self):\n",
    "        table = self.get_table('load_combinations')\n",
    "        for ix,row in table.data.iterrows():\n",
    "            self.loadcombinations.append(row.COMBO,row.LOAD,row.FACTOR)\n",
    "        self.rawdata.load_combinations = table"
   ]
  },
  {
   "cell_type": "code",
   "execution_count": 24,
   "metadata": {
    "collapsed": false
   },
   "outputs": [],
   "source": [
    "##test:\n",
    "f.install_load_combinations()"
   ]
  },
  {
   "cell_type": "code",
   "execution_count": 25,
   "metadata": {
    "collapsed": false
   },
   "outputs": [
    {
     "name": "stdout",
     "output_type": "stream",
     "text": [
      "B NodeLoad(-200000.0,0.0,0.0) 1.75\n",
      "BC UDL(L=8000.0,w=-50) 1.5 EF(0.0,300000.0,400000000.0,0.0,300000.0,-400000000.0)\n",
      "BC PL(L=8000.0,W1=-200000,a=5000.0) 1.5 EF(0.0,94921.875,210937500.0,0.0,205078.125,-351562500.0)\n"
     ]
    }
   ],
   "source": [
    "##test:\n",
    "for o,l,fact in f.loadcombinations.iterloads('One',f.nodeloads):\n",
    "    print(o.id,l,fact)\n",
    "for o,l,fact in f.loadcombinations.iterloads('One',f.memberloads):\n",
    "    print(o.id,l,fact,l.fefs()*fact)"
   ]
  },
  {
   "cell_type": "markdown",
   "metadata": {},
   "source": [
    "## Load Iterators"
   ]
  },
  {
   "cell_type": "code",
   "execution_count": 26,
   "metadata": {
    "collapsed": true
   },
   "outputs": [],
   "source": [
    "@sl.extend(Frame2D)\n",
    "class Frame2D:\n",
    "\n",
    "    def iter_nodeloads(self,comboname):\n",
    "        for o,l,f in self.loadcombinations.iterloads(comboname,self.nodeloads):\n",
    "            yield o,l,f\n",
    "    \n",
    "    def iter_memberloads(self,comboname):\n",
    "        for o,l,f in self.loadcombinations.iterloads(comboname,self.memberloads):\n",
    "            yield o,l,f"
   ]
  },
  {
   "cell_type": "code",
   "execution_count": 27,
   "metadata": {
    "collapsed": false
   },
   "outputs": [
    {
     "name": "stdout",
     "output_type": "stream",
     "text": [
      "B NodeLoad(-200000.0,0.0,0.0) 1.75\n",
      "BC UDL(L=8000.0,w=-50) 1.5 EF(0.0,300000.0,400000000.0,0.0,300000.0,-400000000.0)\n",
      "BC PL(L=8000.0,W1=-200000,a=5000.0) 1.5 EF(0.0,94921.875,210937500.0,0.0,205078.125,-351562500.0)\n"
     ]
    }
   ],
   "source": [
    "##test:\n",
    "for o,l,fact in f.iter_nodeloads('One'):\n",
    "    print(o.id,l,fact)\n",
    "for o,l,fact in f.iter_memberloads('One'):\n",
    "    print(o.id,l,fact,l.fefs()*fact)"
   ]
  },
  {
   "cell_type": "markdown",
   "metadata": {},
   "source": [
    "## Accumulated Cell Data"
   ]
  },
  {
   "cell_type": "code",
   "execution_count": 28,
   "metadata": {
    "collapsed": false
   },
   "outputs": [
    {
     "data": {
      "text/plain": [
       "{u'load_combinations': u'COMBO,LOAD,FACTOR\\nOne,Live,1.5\\nOne,Wind,1.75',\n",
       " u'member_loads': u'LOAD,MEMBERID,TYPE,W1,W2,A,B,C\\nLive,BC,UDL,-50,,,,\\nLive,BC,PL,-200000,,5000',\n",
       " u'members': u'MEMBERID,NODEJ,NODEK\\nAB,A,B\\nBC,B,C\\nDC,D,C',\n",
       " u'node_loads': u'LOAD,NODEID,DIRN,F\\nWind,B,FX,-200000.',\n",
       " u'nodes': u'NODEID,X,Y,Z\\nA,0,0,5000\\nB,0,4000,5000\\nC,8000,4000,5000\\nD,8000,0,5000'}"
      ]
     },
     "execution_count": 28,
     "metadata": {},
     "output_type": "execute_result"
    }
   ],
   "source": [
    "##test:\n",
    "Table.CELLDATA"
   ]
  }
 ],
 "metadata": {
  "kernelspec": {
   "display_name": "Python 2",
   "language": "python",
   "name": "python2"
  },
  "language_info": {
   "codemirror_mode": {
    "name": "ipython",
    "version": 2
   },
   "file_extension": ".py",
   "mimetype": "text/x-python",
   "name": "python",
   "nbconvert_exporter": "python",
   "pygments_lexer": "ipython2",
   "version": "2.7.6"
  },
  "widgets": {
   "state": {},
   "version": "1.1.1"
  }
 },
 "nbformat": 4,
 "nbformat_minor": 0
}
