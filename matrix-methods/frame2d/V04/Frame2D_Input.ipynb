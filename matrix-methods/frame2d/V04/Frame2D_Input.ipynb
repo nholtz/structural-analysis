{
 "cells": [
  {
   "cell_type": "markdown",
   "metadata": {},
   "source": [
    "# Input Data"
   ]
  },
  {
   "cell_type": "code",
   "execution_count": 1,
   "metadata": {
    "collapsed": true
   },
   "outputs": [],
   "source": [
    "from __future__ import print_function"
   ]
  },
  {
   "cell_type": "code",
   "execution_count": 2,
   "metadata": {
    "collapsed": false
   },
   "outputs": [],
   "source": [
    "from salib import extend, import_notebooks\n",
    "import_notebooks()\n",
    "from Tables import Table\n",
    "from Nodes import Node\n",
    "from Members import Member\n",
    "from LoadSets import LoadSet, LoadCombination\n",
    "from NodeLoads import makeNodeLoad\n",
    "from MemberLoads import makeMemberLoad\n",
    "from collections import OrderedDict, defaultdict\n",
    "import numpy as np"
   ]
  },
  {
   "cell_type": "code",
   "execution_count": 3,
   "metadata": {
    "collapsed": false
   },
   "outputs": [],
   "source": [
    "from Frame2D_Base import Frame2D"
   ]
  },
  {
   "cell_type": "code",
   "execution_count": 4,
   "metadata": {
    "collapsed": false
   },
   "outputs": [],
   "source": [
    "@extend\n",
    "class Frame2D:\n",
    "    \n",
    "    COLUMNS_xxx = [] # list of column names for table 'xxx'\n",
    "        \n",
    "    def get_table(self,tablename,extrasok=False,optional=False):\n",
    "        columns = getattr(self,'COLUMNS_'+tablename)\n",
    "        t = Table(tablename,ds_name=self.dsname,columns=columns,optional=optional)\n",
    "        t.read(optional=optional)\n",
    "        reqdl= columns\n",
    "        reqd = set(reqdl)\n",
    "        prov = set(t.columns)\n",
    "        if reqd-prov:\n",
    "            raise Exception('Columns missing {} for table \"{}\". Required columns are: {}'\\\n",
    "                            .format(list(reqd-prov),tablename,reqdl))\n",
    "        if not extrasok:\n",
    "            if prov-reqd:\n",
    "                raise Exception('Extra columns {} for table \"{}\". Required columns are: {}'\\\n",
    "                               .format(list(prov-reqd),tablename,reqdl))\n",
    "        return t"
   ]
  },
  {
   "cell_type": "markdown",
   "metadata": {},
   "source": [
    "## Test Frame\n",
    "![test frame](img/frame-6b.svg)\n",
    "## Nodes"
   ]
  },
  {
   "cell_type": "code",
   "execution_count": 5,
   "metadata": {
    "collapsed": true
   },
   "outputs": [],
   "source": [
    "%%Table nodes\n",
    "NODEID,X,Y,Z\n",
    "A,0.,0.,5000.\n",
    "B,0,4000,5000\n",
    "C,8000,4000,5000\n",
    "D,8000,0,5000"
   ]
  },
  {
   "cell_type": "code",
   "execution_count": 6,
   "metadata": {
    "collapsed": false
   },
   "outputs": [],
   "source": [
    "@extend\n",
    "class Frame2D:\n",
    "    \n",
    "    COLUMNS_nodes = ('NODEID','X','Y')\n",
    "        \n",
    "    def input_nodes(self):\n",
    "        node_table = self.get_table('nodes')\n",
    "        for ix,r in node_table.data.iterrows():\n",
    "            if r.NODEID in self.nodes:\n",
    "                raise Exception('Multiply defined node: {}'.format(r.NODEID))\n",
    "            n = Node(r.NODEID,r.X,r.Y)\n",
    "            self.nodes[n.id] = n\n",
    "        self.rawdata.nodes = node_table\n",
    "            \n",
    "    def get_node(self,id):\n",
    "        try:\n",
    "            return self.nodes[id]\n",
    "        except KeyError:\n",
    "            raise Exception('Node not defined: {}'.format(id))\n"
   ]
  },
  {
   "cell_type": "code",
   "execution_count": 7,
   "metadata": {
    "collapsed": false
   },
   "outputs": [],
   "source": [
    "##test:\n",
    "f = Frame2D()"
   ]
  },
  {
   "cell_type": "code",
   "execution_count": 8,
   "metadata": {
    "collapsed": false
   },
   "outputs": [],
   "source": [
    "##test:\n",
    "f.input_nodes()"
   ]
  },
  {
   "cell_type": "code",
   "execution_count": 9,
   "metadata": {
    "collapsed": false
   },
   "outputs": [
    {
     "data": {
      "text/plain": [
       "OrderedDict([('A', Node(\"A\",0.0,0.0)),\n",
       "             ('B', Node(\"B\",0.0,4000.0)),\n",
       "             ('C', Node(\"C\",8000.0,4000.0)),\n",
       "             ('D', Node(\"D\",8000.0,0.0))])"
      ]
     },
     "execution_count": 9,
     "metadata": {},
     "output_type": "execute_result"
    }
   ],
   "source": [
    "##test:\n",
    "f.nodes"
   ]
  },
  {
   "cell_type": "code",
   "execution_count": 10,
   "metadata": {
    "collapsed": false
   },
   "outputs": [
    {
     "data": {
      "text/plain": [
       "Node(\"C\",8000.0,4000.0)"
      ]
     },
     "execution_count": 10,
     "metadata": {},
     "output_type": "execute_result"
    }
   ],
   "source": [
    "##test:\n",
    "f.get_node('C')"
   ]
  },
  {
   "cell_type": "markdown",
   "metadata": {},
   "source": [
    "## Supports"
   ]
  },
  {
   "cell_type": "code",
   "execution_count": 11,
   "metadata": {
    "collapsed": true
   },
   "outputs": [],
   "source": [
    "%%Table supports\n",
    "NODEID,C0,C1,C2\n",
    "A,FX,FY,MZ\n",
    "D,FX,FY"
   ]
  },
  {
   "cell_type": "code",
   "execution_count": 12,
   "metadata": {
    "collapsed": true
   },
   "outputs": [],
   "source": [
    "def isnan(x):\n",
    "    if x is None:\n",
    "        return True\n",
    "    try:\n",
    "        return np.isnan(x)\n",
    "    except TypeError:\n",
    "        return False"
   ]
  },
  {
   "cell_type": "code",
   "execution_count": 13,
   "metadata": {
    "collapsed": false
   },
   "outputs": [],
   "source": [
    "@extend\n",
    "class Frame2D:\n",
    "    \n",
    "    COLUMNS_supports = ('NODEID','C0','C1','C2')\n",
    "    \n",
    "    def input_supports(self):\n",
    "        table = self.get_table('supports')\n",
    "        for ix,row in table.data.iterrows():\n",
    "            node = self.get_node(row.NODEID)\n",
    "            for c in [row.C0,row.C1,row.C2]:\n",
    "                if not isnan(c):\n",
    "                    node.add_constraint(c)\n",
    "        self.rawdata.supports = table"
   ]
  },
  {
   "cell_type": "code",
   "execution_count": 14,
   "metadata": {
    "collapsed": false
   },
   "outputs": [],
   "source": [
    "##test:\n",
    "f.input_supports()"
   ]
  },
  {
   "cell_type": "code",
   "execution_count": 15,
   "metadata": {
    "collapsed": false
   },
   "outputs": [
    {
     "data": {
      "text/plain": [
       "{'constraints': {'FX', 'FY'},\n",
       " 'dofnums': [None, None, None],\n",
       " 'id': 'D',\n",
       " 'x': 8000.0,\n",
       " 'y': 0.0}"
      ]
     },
     "execution_count": 15,
     "metadata": {},
     "output_type": "execute_result"
    }
   ],
   "source": [
    "##test:\n",
    "vars(f.get_node('D'))"
   ]
  },
  {
   "cell_type": "markdown",
   "metadata": {},
   "source": [
    "## Members"
   ]
  },
  {
   "cell_type": "code",
   "execution_count": 16,
   "metadata": {
    "collapsed": true
   },
   "outputs": [],
   "source": [
    "%%Table members\n",
    "MEMBERID,NODEJ,NODEK\n",
    "AB,A,B\n",
    "BC,B,C\n",
    "CD,C,D"
   ]
  },
  {
   "cell_type": "code",
   "execution_count": 17,
   "metadata": {
    "collapsed": false
   },
   "outputs": [],
   "source": [
    "@extend\n",
    "class Frame2D:\n",
    "    \n",
    "    COLUMNS_members = ('MEMBERID','NODEJ','NODEK')\n",
    "    \n",
    "    def input_members(self):\n",
    "        table = self.get_table('members')\n",
    "        for ix,m in table.data.iterrows():\n",
    "            if m.MEMBERID in self.members:\n",
    "                raise Exception('Multiply defined member: {}'.format(m.MEMBERID))\n",
    "            memb = Member(m.MEMBERID,self.get_node(m.NODEJ),self.get_node(m.NODEK))\n",
    "            self.members[memb.id] = memb\n",
    "        self.rawdata.members = table\n",
    "            \n",
    "    def get_member(self,id):\n",
    "        try:\n",
    "            return self.members[id]\n",
    "        except KeyError:\n",
    "            raise Exception('Member not defined: {}'.format(id))"
   ]
  },
  {
   "cell_type": "code",
   "execution_count": 18,
   "metadata": {
    "collapsed": false
   },
   "outputs": [
    {
     "data": {
      "text/plain": [
       "OrderedDict([('AB', Member(\"AB\",\"Node(\"A\",0.0,0.0)\",\"Node(\"B\",0.0,4000.0)\")),\n",
       "             ('BC',\n",
       "              Member(\"BC\",\"Node(\"B\",0.0,4000.0)\",\"Node(\"C\",8000.0,4000.0)\")),\n",
       "             ('CD',\n",
       "              Member(\"CD\",\"Node(\"C\",8000.0,4000.0)\",\"Node(\"D\",8000.0,0.0)\"))])"
      ]
     },
     "execution_count": 18,
     "metadata": {},
     "output_type": "execute_result"
    }
   ],
   "source": [
    "##test:\n",
    "f.input_members()\n",
    "f.members"
   ]
  },
  {
   "cell_type": "code",
   "execution_count": 19,
   "metadata": {
    "collapsed": false
   },
   "outputs": [
    {
     "data": {
      "text/plain": [
       "('BC', 8000.0, 1.0, 0.0)"
      ]
     },
     "execution_count": 19,
     "metadata": {},
     "output_type": "execute_result"
    }
   ],
   "source": [
    "##test:\n",
    "m = f.get_member('BC')\n",
    "m.id, m.L, m.dcx, m.dcy"
   ]
  },
  {
   "cell_type": "markdown",
   "metadata": {},
   "source": [
    "## Releases"
   ]
  },
  {
   "cell_type": "code",
   "execution_count": 20,
   "metadata": {
    "collapsed": true
   },
   "outputs": [],
   "source": [
    "%%Table releases\n",
    "MEMBERID,RELEASE\n",
    "AB,MZK\n",
    "CD,MZJ"
   ]
  },
  {
   "cell_type": "code",
   "execution_count": 21,
   "metadata": {
    "collapsed": false
   },
   "outputs": [],
   "source": [
    "@extend\n",
    "class Frame2D:\n",
    "    \n",
    "    COLUMNS_releases = ('MEMBERID','RELEASE')\n",
    "    \n",
    "    def input_releases(self):\n",
    "        table = self.get_table('releases',optional=True)\n",
    "        for ix,r in table.data.iterrows():\n",
    "            memb = self.get_member(r.MEMBERID)\n",
    "            memb.add_release(r.RELEASE)\n",
    "        self.rawdata.releases = table"
   ]
  },
  {
   "cell_type": "code",
   "execution_count": 22,
   "metadata": {
    "collapsed": false
   },
   "outputs": [],
   "source": [
    "##test:\n",
    "f.input_releases()"
   ]
  },
  {
   "cell_type": "code",
   "execution_count": 23,
   "metadata": {
    "collapsed": false
   },
   "outputs": [
    {
     "data": {
      "text/plain": [
       "{'A': None,\n",
       " 'Ix': None,\n",
       " 'KG': None,\n",
       " 'KL': None,\n",
       " 'L': 4000.0,\n",
       " 'Tm': None,\n",
       " 'dcx': 0.0,\n",
       " 'dcy': 1.0,\n",
       " 'id': 'AB',\n",
       " 'nodej': Node(\"A\",0.0,0.0),\n",
       " 'nodek': Node(\"B\",0.0,4000.0),\n",
       " 'releases': {'MZK'}}"
      ]
     },
     "execution_count": 23,
     "metadata": {},
     "output_type": "execute_result"
    }
   ],
   "source": [
    "##test:\n",
    "vars(f.get_member('AB'))"
   ]
  },
  {
   "cell_type": "markdown",
   "metadata": {},
   "source": [
    "## Properties"
   ]
  },
  {
   "cell_type": "markdown",
   "metadata": {},
   "source": [
    "If the SST module is loadable, member properties may be specified by giving steel shape designations\n",
    "(such as 'W310x97') in the member properties data.  If the module is not available, you may still give $A$ and\n",
    "$I_x$ directly (it only tries to lookup the properties if these two are not provided)."
   ]
  },
  {
   "cell_type": "code",
   "execution_count": 24,
   "metadata": {
    "collapsed": true
   },
   "outputs": [],
   "source": [
    "try:\n",
    "    from sst import SST\n",
    "    __SST = SST()\n",
    "    get_section = __SST.section\n",
    "except ImportError:\n",
    "    def get_section(dsg,fields):\n",
    "        raise ValueError('Cannot lookup property SIZE because SST is not available.  SIZE = {}'.format(dsg))\n",
    "        ##return [1.] * len(fields.split(',')) # in case you want to do it that way"
   ]
  },
  {
   "cell_type": "code",
   "execution_count": 25,
   "metadata": {
    "collapsed": true
   },
   "outputs": [],
   "source": [
    "%%Table properties\n",
    "MEMBERID,SIZE,IX,A\n",
    "BC,W460x106,,\n",
    "AB,W310x97,,\n",
    "CD,,"
   ]
  },
  {
   "cell_type": "code",
   "execution_count": 26,
   "metadata": {
    "collapsed": false
   },
   "outputs": [],
   "source": [
    "@extend\n",
    "class Frame2D:\n",
    "    \n",
    "    COLUMNS_properties = ('MEMBERID','SIZE','IX','A')\n",
    "    \n",
    "    def input_properties(self):\n",
    "        table = self.get_table('properties')\n",
    "        table = self.fill_properties(table)\n",
    "        for ix,row in table.data.iterrows():\n",
    "            memb = self.get_member(row.MEMBERID)\n",
    "            memb.size = row.SIZE\n",
    "            memb.Ix = row.IX\n",
    "            memb.A = row.A\n",
    "        self.rawdata.properties = table\n",
    "        \n",
    "    def fill_properties(self,table):\n",
    "        data = table.data\n",
    "        prev = None\n",
    "        for ix,row in data.iterrows():\n",
    "            nf = 0\n",
    "            if type(row.SIZE) in [type(''),type(u'')]:\n",
    "                if isnan(row.IX) or isnan(row.A):\n",
    "                    Ix,A = get_section(row.SIZE,'Ix,A')\n",
    "                    if isnan(row.IX):\n",
    "                        nf += 1\n",
    "                        data.loc[ix,'IX'] = Ix\n",
    "                    if isnan(row.A):\n",
    "                        nf += 1\n",
    "                        data.loc[ix,'A'] = A\n",
    "            elif isnan(row.SIZE):\n",
    "                data.loc[ix,'SIZE'] = '' if nf == 0 else prev\n",
    "            prev = data.loc[ix,'SIZE']\n",
    "        table.data = data.fillna(method='ffill')\n",
    "        return table"
   ]
  },
  {
   "cell_type": "code",
   "execution_count": 27,
   "metadata": {
    "collapsed": false
   },
   "outputs": [],
   "source": [
    "##test:\n",
    "f.input_properties()"
   ]
  },
  {
   "cell_type": "code",
   "execution_count": 28,
   "metadata": {
    "collapsed": false
   },
   "outputs": [
    {
     "data": {
      "text/plain": [
       "{'A': 12300.0,\n",
       " 'Ix': 222000000.0,\n",
       " 'KG': None,\n",
       " 'KL': None,\n",
       " 'L': 4000.0,\n",
       " 'Tm': None,\n",
       " 'dcx': 0.0,\n",
       " 'dcy': -1.0,\n",
       " 'id': 'CD',\n",
       " 'nodej': Node(\"C\",8000.0,4000.0),\n",
       " 'nodek': Node(\"D\",8000.0,0.0),\n",
       " 'releases': {'MZJ'},\n",
       " 'size': ''}"
      ]
     },
     "execution_count": 28,
     "metadata": {},
     "output_type": "execute_result"
    }
   ],
   "source": [
    "##test:\n",
    "vars(f.get_member('CD'))"
   ]
  },
  {
   "cell_type": "markdown",
   "metadata": {},
   "source": [
    "## Node Loads"
   ]
  },
  {
   "cell_type": "code",
   "execution_count": 29,
   "metadata": {
    "collapsed": true
   },
   "outputs": [],
   "source": [
    "%%Table node_loads\n",
    "LOAD,NODEID,DIRN,F\n",
    "Wind,B,FX,-200000."
   ]
  },
  {
   "cell_type": "code",
   "execution_count": 30,
   "metadata": {
    "collapsed": false
   },
   "outputs": [],
   "source": [
    "@extend\n",
    "class Frame2D:\n",
    "    \n",
    "    COLUMNS_node_loads = ('LOAD','NODEID','DIRN','F')\n",
    "    \n",
    "    def input_node_loads(self):\n",
    "        table = self.get_table('node_loads')\n",
    "        dirns = ['FX','FY','FZ']\n",
    "        for ix,row in table.data.iterrows():\n",
    "            n = self.get_node(row.NODEID)\n",
    "            if row.DIRN not in dirns:\n",
    "                raise ValueError(\"Invalid node load direction: {} for load {}, node {}; must be one of '{}'\"\n",
    "                                .format(row.DIRN, row.LOAD, row.NODEID, ', '.join(dirns)))\n",
    "            if row.DIRN in n.constraints:\n",
    "                raise ValueError(\"Constrained node {} {} must not have load applied.\"\n",
    "                                .format(row.NODEID,row.DIRN))\n",
    "            l = makeNodeLoad({row.DIRN:row.F})\n",
    "            self.nodeloads.append(row.LOAD,n,l)\n",
    "        self.rawdata.node_loads = table"
   ]
  },
  {
   "cell_type": "code",
   "execution_count": 31,
   "metadata": {
    "collapsed": false
   },
   "outputs": [],
   "source": [
    "##test:\n",
    "f.input_node_loads()"
   ]
  },
  {
   "cell_type": "code",
   "execution_count": 32,
   "metadata": {
    "collapsed": false
   },
   "outputs": [
    {
     "name": "stdout",
     "output_type": "stream",
     "text": [
      "Node(\"B\",0.0,4000.0) NodeLoad(-200000.0,0.0,0.0) 1.0 NodeLoad(-200000.0,0.0,0.0)\n"
     ]
    }
   ],
   "source": [
    "##test:\n",
    "for o,l,fact in f.nodeloads.iterloads('Wind'):\n",
    "    print(o,l,fact,l*fact)"
   ]
  },
  {
   "cell_type": "markdown",
   "metadata": {},
   "source": [
    "## Support Displacements"
   ]
  },
  {
   "cell_type": "code",
   "execution_count": 33,
   "metadata": {
    "collapsed": true
   },
   "outputs": [],
   "source": [
    "%%Table support_displacements\n",
    "LOAD,NODEID,DIRN,DELTA\n",
    "Other,A,DY,-10"
   ]
  },
  {
   "cell_type": "code",
   "execution_count": 34,
   "metadata": {
    "collapsed": false
   },
   "outputs": [],
   "source": [
    "@extend\n",
    "class Frame2D:\n",
    "    \n",
    "    COLUMNS_support_displacements = ('LOAD','NODEID','DIRN','DELTA')\n",
    "    \n",
    "    def input_support_displacements(self):\n",
    "        table = self.get_table('support_displacements',optional=True)\n",
    "        forns = {'DX':'FX','DY':'FY','TZ':'MZ'}\n",
    "        for ix,row in table.data.iterrows():\n",
    "            n = self.get_node(row.NODEID)\n",
    "            if row.DIRN not in forns:\n",
    "                raise ValueError(\"Invalid support displacements direction: {} for load {}, node {}; must be one of '{}'\"\n",
    "                                .format(row.DIRN, row.LOAD, row.NODEID, ', '.join(forns.keys())))\n",
    "            fd = forns[row.DIRN]\n",
    "            if fd not in n.constraints:\n",
    "                raise ValueError(\"Support displacement, load: '{}'  node: '{}'  dirn: '{}' must be for a constrained node.\"\n",
    "                                .format(row.LOAD,row.NODEID,row.DIRN))\n",
    "            l = makeNodeLoad({fd:row.DELTA})\n",
    "            self.nodedeltas.append(row.LOAD,n,l)\n",
    "        self.rawdata.support_displacements = table"
   ]
  },
  {
   "cell_type": "code",
   "execution_count": 35,
   "metadata": {
    "collapsed": false
   },
   "outputs": [],
   "source": [
    "##test:\n",
    "f.input_support_displacements()"
   ]
  },
  {
   "cell_type": "code",
   "execution_count": 36,
   "metadata": {
    "collapsed": false
   },
   "outputs": [
    {
     "data": {
      "text/plain": [
       "('other', Node(\"A\",0.0,0.0), NodeLoad(0.0,-10.0,0.0))"
      ]
     },
     "execution_count": 36,
     "metadata": {},
     "output_type": "execute_result"
    }
   ],
   "source": [
    "##test:\n",
    "list(f.nodedeltas)[0]"
   ]
  },
  {
   "cell_type": "markdown",
   "metadata": {},
   "source": [
    "## Member Loads"
   ]
  },
  {
   "cell_type": "code",
   "execution_count": 37,
   "metadata": {
    "collapsed": true
   },
   "outputs": [],
   "source": [
    "%%Table member_loads\n",
    "LOAD,MEMBERID,TYPE,W1,W2,A,B,C\n",
    "Live,BC,UDL,-50,,,,\n",
    "Live,BC,PL,-200000,,5000"
   ]
  },
  {
   "cell_type": "code",
   "execution_count": 38,
   "metadata": {
    "collapsed": false
   },
   "outputs": [],
   "source": [
    "@extend\n",
    "class Frame2D:\n",
    "    \n",
    "    COLUMNS_member_loads = ('LOAD','MEMBERID','TYPE','W1','W2','A','B','C')\n",
    "    \n",
    "    def input_member_loads(self):\n",
    "        table = self.get_table('member_loads')\n",
    "        for ix,row in table.data.iterrows():\n",
    "            m = self.get_member(row.MEMBERID)\n",
    "            l = makeMemberLoad(m.L,row)\n",
    "            self.memberloads.append(row.LOAD,m,l)\n",
    "        self.rawdata.member_loads = table"
   ]
  },
  {
   "cell_type": "code",
   "execution_count": 39,
   "metadata": {
    "collapsed": true
   },
   "outputs": [],
   "source": [
    "##test:\n",
    "f.input_member_loads()"
   ]
  },
  {
   "cell_type": "code",
   "execution_count": 40,
   "metadata": {
    "collapsed": false
   },
   "outputs": [
    {
     "name": "stdout",
     "output_type": "stream",
     "text": [
      "BC UDL(L=8000.0,w=-50) 1.0 EF(0.0,200000.0,266666666.667,0.0,200000.0,-266666666.667)\n",
      "BC PL(L=8000.0,P=-200000,a=5000.0) 1.0 EF(0.0,63281.25,140625000.0,0.0,136718.75,-234375000.0)\n"
     ]
    }
   ],
   "source": [
    "##test:\n",
    "for o,l,fact in f.memberloads.iterloads('Live'):\n",
    "    print(o.id,l,fact,l.fefs()*fact)"
   ]
  },
  {
   "cell_type": "markdown",
   "metadata": {},
   "source": [
    "## Load Combinations"
   ]
  },
  {
   "cell_type": "code",
   "execution_count": 41,
   "metadata": {
    "collapsed": true
   },
   "outputs": [],
   "source": [
    "%%Table load_combinations\n",
    "CASE,LOAD,FACTOR\n",
    "One,Live,1.5\n",
    "One,Wind,1.75"
   ]
  },
  {
   "cell_type": "code",
   "execution_count": 42,
   "metadata": {
    "collapsed": false
   },
   "outputs": [],
   "source": [
    "@extend\n",
    "class Frame2D:\n",
    "    \n",
    "    COLUMNS_load_combinations = ('CASE','LOAD','FACTOR')\n",
    "    \n",
    "    def input_load_combinations(self):\n",
    "        table = self.get_table('load_combinations',optional=True)\n",
    "        if len(table) > 0:\n",
    "            for ix,row in table.data.iterrows():\n",
    "                self.loadcombinations.append(row.CASE,row.LOAD,row.FACTOR)\n",
    "        if 'all' not in self.loadcombinations:\n",
    "            all = self.nodeloads.names.union(self.memberloads.names)\n",
    "            all = self.nodedeltas.names.union(all)\n",
    "            for l in all:\n",
    "                self.loadcombinations.append('all',l,1.0)\n",
    "        self.rawdata.load_combinations = table"
   ]
  },
  {
   "cell_type": "code",
   "execution_count": 43,
   "metadata": {
    "collapsed": false
   },
   "outputs": [],
   "source": [
    "##test:\n",
    "f.input_load_combinations()"
   ]
  },
  {
   "cell_type": "code",
   "execution_count": 44,
   "metadata": {
    "collapsed": false
   },
   "outputs": [
    {
     "name": "stdout",
     "output_type": "stream",
     "text": [
      "B NodeLoad(-200000.0,0.0,0.0) 1.75\n",
      "BC UDL(L=8000.0,w=-50) 1.5 EF(0.0,300000.0,400000000.0,0.0,300000.0,-400000000.0)\n",
      "BC PL(L=8000.0,P=-200000,a=5000.0) 1.5 EF(0.0,94921.875,210937500.0,0.0,205078.125,-351562500.0)\n"
     ]
    }
   ],
   "source": [
    "##test:\n",
    "for o,l,fact in f.loadcombinations.iterloads('One',f.nodeloads):\n",
    "    print(o.id,l,fact)\n",
    "for o,l,fact in f.loadcombinations.iterloads('One',f.memberloads):\n",
    "    print(o.id,l,fact,l.fefs()*fact)"
   ]
  },
  {
   "cell_type": "markdown",
   "metadata": {},
   "source": [
    "### Load Iterators"
   ]
  },
  {
   "cell_type": "code",
   "execution_count": 45,
   "metadata": {
    "collapsed": false
   },
   "outputs": [],
   "source": [
    "@extend\n",
    "class Frame2D:\n",
    "\n",
    "    def iter_nodeloads(self,casename):\n",
    "        for o,l,f in self.loadcombinations.iterloads(casename,self.nodeloads):\n",
    "            yield o,l,f\n",
    "    \n",
    "    def iter_nodedeltas(self,casename):\n",
    "        for o,l,f in self.loadcombinations.iterloads(casename,self.nodedeltas):\n",
    "            yield o,l,f\n",
    "    \n",
    "    def iter_memberloads(self,casename):\n",
    "        for o,l,f in self.loadcombinations.iterloads(casename,self.memberloads):\n",
    "            yield o,l,f"
   ]
  },
  {
   "cell_type": "code",
   "execution_count": 46,
   "metadata": {
    "collapsed": false
   },
   "outputs": [
    {
     "name": "stdout",
     "output_type": "stream",
     "text": [
      "B NodeLoad(-200000.0,0.0,0.0) 1.75\n",
      "BC UDL(L=8000.0,w=-50) 1.5\n",
      "BC PL(L=8000.0,P=-200000,a=5000.0) 1.5\n"
     ]
    }
   ],
   "source": [
    "##test:\n",
    "for o,l,fact in f.iter_nodeloads('One'):\n",
    "    print(o.id,l,fact)\n",
    "for o,l,fact in f.iter_memberloads('One'):\n",
    "    print(o.id,l,fact)"
   ]
  },
  {
   "cell_type": "markdown",
   "metadata": {},
   "source": [
    "## Number the DOFs"
   ]
  },
  {
   "cell_type": "code",
   "execution_count": 47,
   "metadata": {
    "collapsed": true
   },
   "outputs": [],
   "source": [
    "@extend\n",
    "class Frame2D:\n",
    "    \n",
    "    def number_dofs(self):\n",
    "        self.ndof = (3*len(self.nodes))\n",
    "        self.ncons = sum([len(node.constraints) for node in self.nodes.values()])\n",
    "        self.nfree = self.ndof - self.ncons\n",
    "        ifree = 0\n",
    "        icons = self.nfree\n",
    "        self.dofdesc = [None] * self.ndof\n",
    "        for node in self.nodes.values():\n",
    "            for dirn,ix in node.DIRECTIONS.items():\n",
    "                if dirn in node.constraints:\n",
    "                    n = icons\n",
    "                    icons += 1\n",
    "                else:\n",
    "                    n = ifree\n",
    "                    ifree += 1\n",
    "                node.dofnums[ix] = n\n",
    "                self.dofdesc[n] = (node,dirn)"
   ]
  },
  {
   "cell_type": "code",
   "execution_count": 48,
   "metadata": {
    "collapsed": false
   },
   "outputs": [
    {
     "data": {
      "text/plain": [
       "(12, 5, 7)"
      ]
     },
     "execution_count": 48,
     "metadata": {},
     "output_type": "execute_result"
    }
   ],
   "source": [
    "##test:\n",
    "f.number_dofs()\n",
    "f.ndof, f.ncons, f.nfree"
   ]
  },
  {
   "cell_type": "code",
   "execution_count": 49,
   "metadata": {
    "collapsed": false
   },
   "outputs": [
    {
     "data": {
      "text/plain": [
       "[(Node(\"B\",0.0,4000.0), 'FX'),\n",
       " (Node(\"B\",0.0,4000.0), 'FY'),\n",
       " (Node(\"B\",0.0,4000.0), 'MZ'),\n",
       " (Node(\"C\",8000.0,4000.0), 'FX'),\n",
       " (Node(\"C\",8000.0,4000.0), 'FY'),\n",
       " (Node(\"C\",8000.0,4000.0), 'MZ'),\n",
       " (Node(\"D\",8000.0,0.0), 'MZ'),\n",
       " (Node(\"A\",0.0,0.0), 'FX'),\n",
       " (Node(\"A\",0.0,0.0), 'FY'),\n",
       " (Node(\"A\",0.0,0.0), 'MZ'),\n",
       " (Node(\"D\",8000.0,0.0), 'FX'),\n",
       " (Node(\"D\",8000.0,0.0), 'FY')]"
      ]
     },
     "execution_count": 49,
     "metadata": {},
     "output_type": "execute_result"
    }
   ],
   "source": [
    "##test:\n",
    "f.dofdesc"
   ]
  },
  {
   "cell_type": "code",
   "execution_count": 50,
   "metadata": {
    "collapsed": false
   },
   "outputs": [
    {
     "data": {
      "text/plain": [
       "[10, 11, 6]"
      ]
     },
     "execution_count": 50,
     "metadata": {},
     "output_type": "execute_result"
    }
   ],
   "source": [
    "##test:\n",
    "f.get_node('D').dofnums"
   ]
  },
  {
   "cell_type": "markdown",
   "metadata": {},
   "source": [
    "## Input Everything"
   ]
  },
  {
   "cell_type": "code",
   "execution_count": 51,
   "metadata": {
    "collapsed": false
   },
   "outputs": [],
   "source": [
    "@extend\n",
    "class Frame2D:\n",
    "    \n",
    "    def input_all(self):\n",
    "        self.input_nodes()\n",
    "        self.input_supports()\n",
    "        self.input_members()\n",
    "        self.input_releases()\n",
    "        self.input_properties()\n",
    "        self.input_node_loads()\n",
    "        self.input_support_displacements()\n",
    "        self.input_member_loads()\n",
    "        self.input_load_combinations()\n",
    "        self.input_finish()\n",
    "        \n",
    "    def input_finish(self):\n",
    "        self.number_dofs()"
   ]
  },
  {
   "cell_type": "code",
   "execution_count": 52,
   "metadata": {
    "collapsed": false
   },
   "outputs": [],
   "source": [
    "##test:\n",
    "f.reset()\n",
    "f.input_all()"
   ]
  },
  {
   "cell_type": "markdown",
   "metadata": {},
   "source": [
    "## Accumulated Cell Data"
   ]
  },
  {
   "cell_type": "code",
   "execution_count": 53,
   "metadata": {
    "collapsed": false
   },
   "outputs": [
    {
     "data": {
      "text/plain": [
       "{u'load_combinations': u'CASE,LOAD,FACTOR\\nOne,Live,1.5\\nOne,Wind,1.75',\n",
       " u'member_loads': u'LOAD,MEMBERID,TYPE,W1,W2,A,B,C\\nLive,BC,UDL,-50,,,,\\nLive,BC,PL,-200000,,5000',\n",
       " u'members': u'MEMBERID,NODEJ,NODEK\\nAB,A,B\\nBC,B,C\\nCD,C,D',\n",
       " u'node_loads': u'LOAD,NODEID,DIRN,F\\nWind,B,FX,-200000.',\n",
       " u'nodes': u'NODEID,X,Y,Z\\nA,0.,0.,5000.\\nB,0,4000,5000\\nC,8000,4000,5000\\nD,8000,0,5000',\n",
       " u'properties': u'MEMBERID,SIZE,IX,A\\nBC,W460x106,,\\nAB,W310x97,,\\nCD,,',\n",
       " u'releases': u'MEMBERID,RELEASE\\nAB,MZK\\nCD,MZJ',\n",
       " u'support_displacements': u'LOAD,NODEID,DIRN,DELTA\\nOther,A,DY,-10',\n",
       " u'supports': u'NODEID,C0,C1,C2\\nA,FX,FY,MZ\\nD,FX,FY'}"
      ]
     },
     "execution_count": 53,
     "metadata": {},
     "output_type": "execute_result"
    }
   ],
   "source": [
    "##test:\n",
    "Table.CELLDATA"
   ]
  },
  {
   "cell_type": "markdown",
   "metadata": {},
   "source": [
    "## Input From Files"
   ]
  },
  {
   "cell_type": "code",
   "execution_count": 54,
   "metadata": {
    "collapsed": false
   },
   "outputs": [],
   "source": [
    "##test:\n",
    "f.reset()\n",
    "Table.set_source('frame-1')\n",
    "f.input_all()"
   ]
  },
  {
   "cell_type": "code",
   "execution_count": 55,
   "metadata": {
    "collapsed": false
   },
   "outputs": [
    {
     "data": {
      "text/plain": [
       "{'load_combinations': <Tables.Table at 0x7fd4a76a5d90>,\n",
       " 'member_loads': <Tables.Table at 0x7fd4a76a5590>,\n",
       " 'members': <Tables.Table at 0x7fd4a7697ed0>,\n",
       " 'node_loads': <Tables.Table at 0x7fd4a73fee90>,\n",
       " 'nodes': <Tables.Table at 0x7fd4a74445d0>,\n",
       " 'properties': <Tables.Table at 0x7fd4a76a5090>,\n",
       " 'releases': <Tables.Table at 0x7fd4a76a5c10>,\n",
       " 'support_displacements': <Tables.Table at 0x7fd4a7444150>,\n",
       " 'supports': <Tables.Table at 0x7fd4a7697e90>}"
      ]
     },
     "execution_count": 55,
     "metadata": {},
     "output_type": "execute_result"
    }
   ],
   "source": [
    "##test:\n",
    "vars(f.rawdata)"
   ]
  },
  {
   "cell_type": "code",
   "execution_count": 56,
   "metadata": {
    "collapsed": false
   },
   "outputs": [
    {
     "data": {
      "text/html": [
       "<div>\n",
       "<table border=\"1\" class=\"dataframe\">\n",
       "  <thead>\n",
       "    <tr style=\"text-align: right;\">\n",
       "      <th></th>\n",
       "      <th>NODEID</th>\n",
       "      <th>X</th>\n",
       "      <th>Y</th>\n",
       "    </tr>\n",
       "  </thead>\n",
       "  <tbody>\n",
       "    <tr>\n",
       "      <th>0</th>\n",
       "      <td>A</td>\n",
       "      <td>0</td>\n",
       "      <td>0</td>\n",
       "    </tr>\n",
       "    <tr>\n",
       "      <th>1</th>\n",
       "      <td>B</td>\n",
       "      <td>0</td>\n",
       "      <td>4000</td>\n",
       "    </tr>\n",
       "    <tr>\n",
       "      <th>2</th>\n",
       "      <td>C</td>\n",
       "      <td>8000</td>\n",
       "      <td>4000</td>\n",
       "    </tr>\n",
       "    <tr>\n",
       "      <th>3</th>\n",
       "      <td>D</td>\n",
       "      <td>8000</td>\n",
       "      <td>0</td>\n",
       "    </tr>\n",
       "  </tbody>\n",
       "</table>\n",
       "</div>"
      ],
      "text/plain": [
       "  NODEID     X     Y\n",
       "0      A     0     0\n",
       "1      B     0  4000\n",
       "2      C  8000  4000\n",
       "3      D  8000     0"
      ]
     },
     "execution_count": 56,
     "metadata": {},
     "output_type": "execute_result"
    }
   ],
   "source": [
    "##test:\n",
    "f.rawdata.nodes.data"
   ]
  },
  {
   "cell_type": "code",
   "execution_count": 57,
   "metadata": {
    "collapsed": false
   },
   "outputs": [
    {
     "data": {
      "text/plain": [
       "OrderedDict([('AB', Member(\"AB\",\"Node(\"A\",0.0,0.0)\",\"Node(\"B\",0.0,4000.0)\")),\n",
       "             ('BC',\n",
       "              Member(\"BC\",\"Node(\"B\",0.0,4000.0)\",\"Node(\"C\",8000.0,4000.0)\")),\n",
       "             ('CD',\n",
       "              Member(\"CD\",\"Node(\"C\",8000.0,4000.0)\",\"Node(\"D\",8000.0,0.0)\"))])"
      ]
     },
     "execution_count": 57,
     "metadata": {},
     "output_type": "execute_result"
    }
   ],
   "source": [
    "##test:\n",
    "f.members"
   ]
  },
  {
   "cell_type": "code",
   "execution_count": 58,
   "metadata": {
    "collapsed": false
   },
   "outputs": [
    {
     "data": {
      "text/plain": [
       "{}"
      ]
     },
     "execution_count": 58,
     "metadata": {},
     "output_type": "execute_result"
    }
   ],
   "source": [
    "##test:\n",
    "Table.CELLDATA"
   ]
  },
  {
   "cell_type": "code",
   "execution_count": null,
   "metadata": {
    "collapsed": true
   },
   "outputs": [],
   "source": []
  }
 ],
 "metadata": {
  "kernelspec": {
   "display_name": "Python 2",
   "language": "python",
   "name": "python2"
  },
  "language_info": {
   "codemirror_mode": {
    "name": "ipython",
    "version": 2
   },
   "file_extension": ".py",
   "mimetype": "text/x-python",
   "name": "python",
   "nbconvert_exporter": "python",
   "pygments_lexer": "ipython2",
   "version": "2.7.6"
  },
  "widgets": {
   "state": {},
   "version": "1.1.1"
  }
 },
 "nbformat": 4,
 "nbformat_minor": 0
}
