{
 "cells": [
  {
   "cell_type": "markdown",
   "metadata": {},
   "source": [
    "## Generate large frames for testing"
   ]
  },
  {
   "cell_type": "code",
   "execution_count": 1,
   "metadata": {
    "collapsed": true
   },
   "outputs": [],
   "source": [
    "## NOTE: all units are kN and m\n",
    "\n",
    "FD = {'storey_heights': [6.5] + [5.5]*20 + [7.0],   # m\n",
    "      'bay_widths': [10.5,10,10,10,10,10.5],        # m\n",
    "      'frame_spacing':8,                            # m, used only for load calculation\n",
    "      'specified_loads':{'live':2.4,'dead':4.0,'snow':2.5,'wind':2.5},  # kPa\n",
    "      'load_combinations':{'Case-2a':{'dead':1.25,'live':1.5,'snow':0.5},\n",
    "                           'Case-2b':{'dead':1.25,'live':1.5,'wind':0.4},\n",
    "                           'Case-3a':{'dead':1.25,'snow':1.5,'live':0.5},\n",
    "                           'Case-3b':{'dead':1.25,'snow':1.5,'wind':0.4},\n",
    "                           'Case-4a':{'dead':1.25,'wind':1.4,'live':0.5},\n",
    "                           'Case-4b':{'dead':1.25,'wind':1.4,'snow':0.5},\n",
    "                          },\n",
    "      'load_combo':'Case-2b',\n",
    "      'braced_bays':[0,2,3,5],\n",
    "      'support_fixity': ['fx,fy,mz']*3 + ['fx,fy']*2 + ['fx,fy,mz']*2,\n",
    "      'beam_size': 'W1000x222',\n",
    "      'column_size': 'W360x216',\n",
    "      }\n",
    "\n",
    "SaveData = True\n",
    "ShowResults = False"
   ]
  },
  {
   "cell_type": "code",
   "execution_count": 2,
   "metadata": {
    "collapsed": false
   },
   "outputs": [
    {
     "data": {
      "text/plain": [
       "{'bay_widths': [10.5, 10, 10, 10, 10, 10.5],\n",
       " 'beam_size': 'W1000x222',\n",
       " 'braced_bays': [0, 2, 3, 5],\n",
       " 'column_size': 'W360x216',\n",
       " 'frame_spacing': 8,\n",
       " 'load_combinations': {'Case-2a': {'dead': 1.25, 'live': 1.5, 'snow': 0.5},\n",
       "  'Case-2b': {'dead': 1.25, 'live': 1.5, 'wind': 0.4},\n",
       "  'Case-3a': {'dead': 1.25, 'live': 0.5, 'snow': 1.5},\n",
       "  'Case-3b': {'dead': 1.25, 'snow': 1.5, 'wind': 0.4},\n",
       "  'Case-4a': {'dead': 1.25, 'live': 0.5, 'wind': 1.4},\n",
       "  'Case-4b': {'dead': 1.25, 'snow': 0.5, 'wind': 1.4}},\n",
       " 'load_combo': 'Case-2b',\n",
       " 'specified_loads': {'dead': 4.0, 'live': 2.4, 'snow': 2.5, 'wind': 2.5},\n",
       " 'storey_heights': [6.5,\n",
       "  5.5,\n",
       "  5.5,\n",
       "  5.5,\n",
       "  5.5,\n",
       "  5.5,\n",
       "  5.5,\n",
       "  5.5,\n",
       "  5.5,\n",
       "  5.5,\n",
       "  5.5,\n",
       "  5.5,\n",
       "  5.5,\n",
       "  5.5,\n",
       "  5.5,\n",
       "  5.5,\n",
       "  5.5,\n",
       "  5.5,\n",
       "  5.5,\n",
       "  5.5,\n",
       "  5.5,\n",
       "  7.0],\n",
       " 'support_fixity': ['fx,fy,mz',\n",
       "  'fx,fy,mz',\n",
       "  'fx,fy,mz',\n",
       "  'fx,fy',\n",
       "  'fx,fy',\n",
       "  'fx,fy,mz',\n",
       "  'fx,fy,mz']}"
      ]
     },
     "execution_count": 2,
     "metadata": {},
     "output_type": "execute_result"
    }
   ],
   "source": [
    "FD"
   ]
  },
  {
   "cell_type": "code",
   "execution_count": 3,
   "metadata": {
    "collapsed": false
   },
   "outputs": [],
   "source": [
    "from salib import import_notebooks\n",
    "import_notebooks()\n",
    "from Frame2D import Frame2D\n",
    "from Tables import Table\n",
    "import numpy as np\n",
    "import pandas as pd"
   ]
  },
  {
   "cell_type": "code",
   "execution_count": 6,
   "metadata": {
    "collapsed": false
   },
   "outputs": [],
   "source": [
    "def genframe(fd):\n",
    "    h = fd['storey_heights']\n",
    "    w = fd['bay_widths']\n",
    "    s = fd['frame_spacing']\n",
    "    nnodes = (len(h)+1)*(len(w)+1)\n",
    "    \n",
    "    # names of column stacks and floor levels\n",
    "    bayline = [chr(ord('A')+i) for i in range(len(w)+1)]\n",
    "    floorlev = [str(i) for i in range(len(h)+1)]\n",
    "    \n",
    "    # generate the nodes\n",
    "    nodelist = []\n",
    "    nidgrid = np.ndarray((len(h)+1,len(w)+1),dtype=np.object)\n",
    "    for i in range(len(h)+1):\n",
    "        y = sum(h[:i])*1000.\n",
    "        for j in range(len(w)+1):\n",
    "            x = sum(w[:j])*1000.\n",
    "            nid = bayline[j]+floorlev[i]\n",
    "            nodelist.append((nid,x,y))\n",
    "            nidgrid[i,j] = nid\n",
    "    nodes = pd.DataFrame(nodelist,columns=['NODEID','X','Y'])\n",
    "    \n",
    "    # generate the supports\n",
    "    assert len(fd['support_fixity'])==nidgrid.shape[1]\n",
    "    supplist = []\n",
    "    for j,s in enumerate(fd['support_fixity']):\n",
    "        nid = nidgrid[0,j]\n",
    "        fix = s.strip().upper().split(',')\n",
    "        if len(fix) < 3:\n",
    "            fix += [np.nan] * (3-len(fix))\n",
    "        supplist.append([nid,]+fix)\n",
    "    supports = pd.DataFrame(supplist,columns=['NODEID','C0','C1','C2'])\n",
    "    \n",
    "    # generate columns\n",
    "    columns = []\n",
    "    for i in range(nidgrid.shape[0]-1):\n",
    "        for j in range(nidgrid.shape[1]):\n",
    "            nidj = nidgrid[i,j]\n",
    "            nidk = nidgrid[i+1,j]\n",
    "            mid = 'C' + nidj + nidk\n",
    "            columns.append((mid,nidj,nidk))\n",
    "    \n",
    "    # generate beams\n",
    "    beams = []\n",
    "    roofbeams = []\n",
    "    pinnedbeams = []\n",
    "    for i in range(1,nidgrid.shape[0]):\n",
    "        beamlist = beams if i < nidgrid.shape[0]-1 else roofbeams\n",
    "        for j in range(nidgrid.shape[1]-1):\n",
    "            nidj = nidgrid[i,j]\n",
    "            nidk = nidgrid[i,j+1]\n",
    "            mid = 'B' + nidj + nidk\n",
    "            beamlist.append((mid,nidj,nidk))\n",
    "            if j not in fd['braced_bays']:\n",
    "                pinnedbeams.append(mid)\n",
    "    members = pd.DataFrame(columns+beams+roofbeams,columns=['MEMBERID','NODEJ','NODEK'])\n",
    "    \n",
    "    # generate releases\n",
    "    rellist = []\n",
    "    for mid in pinnedbeams:\n",
    "        rellist.append((mid,'MZJ'))\n",
    "        rellist.append((mid,'MZK'))\n",
    "    releases = pd.DataFrame(rellist,columns=['MEMBERID','RELEASE'])\n",
    "    \n",
    "    # generate properties\n",
    "    proplist = []\n",
    "    size = fd['column_size']\n",
    "    for mid,j,k in columns:\n",
    "        proplist.append((mid,size,np.nan,np.nan))\n",
    "        size = np.nan\n",
    "    size = fd['beam_size']\n",
    "    for mid,j,k in beams+roofbeams:\n",
    "        proplist.append((mid,size,np.nan,np.nan))\n",
    "        size = np.nan\n",
    "    properties = pd.DataFrame(proplist,columns=['MEMBERID','SIZE','IX','A'])\n",
    "    \n",
    "    # generate node loads (wind from left)\n",
    "    nloadlist = []\n",
    "    L = fd['specified_loads']   # area loads\n",
    "    for i in range(1,nidgrid.shape[0]+1):\n",
    "        H = (sum(h[:i+1])-sum(h[:i-1]))/2.\n",
    "        FL = H*fd['frame_spacing']*L['wind']\n",
    "        if FL != 0.:\n",
    "            nloadlist.append(('wind',nidgrid[i,0],'FX',FL*1000.))\n",
    "    node_loads = pd.DataFrame(nloadlist,columns=['LOAD','NODEID','DIRN','F'])\n",
    "    \n",
    "    # generate member loads\n",
    "    mloadlist = []\n",
    "    UDL = -L['dead']*fd['frame_spacing']\n",
    "    mloadlist += [('dead',mid,'UDL',UDL,np.nan,np.nan,np.nan,np.nan) for mid,nj,nk in beams]\n",
    "    mloadlist += [('dead',mid,'UDL',UDL,np.nan,np.nan,np.nan,np.nan) for mid,nj,nk in roofbeams]\n",
    "    UDL = -L['live']*fd['frame_spacing']\n",
    "    mloadlist += [('live',mid,'UDL',UDL,np.nan,np.nan,np.nan,np.nan) for mid,nj,nk in beams]\n",
    "    UDL = -L['snow']*fd['frame_spacing']\n",
    "    mloadlist += [('snow',mid,'UDL',UDL,np.nan,np.nan,np.nan,np.nan) for mid,nj,nk in roofbeams]\n",
    "    member_loads = pd.DataFrame(mloadlist,columns='LOAD,MEMBERID,TYPE,W1,W2,A,B,C'.split(','))\n",
    "    \n",
    "    # generate load combinations\n",
    "    lclist = []\n",
    "    for case,loads in fd['load_combinations'].items():\n",
    "        for load,factor in loads.items():\n",
    "            lclist.append((case,load,factor))\n",
    "    load_combinations = pd.DataFrame(lclist,columns=['CASE','LOAD','FACTOR'])\n",
    "    \n",
    "    Table.set_source(None,ds_type='data')\n",
    "    Table.set_data('nodes',nodes)\n",
    "    Table.set_data('supports',supports)\n",
    "    Table.set_data('members',members)\n",
    "    Table.set_data('releases',releases)\n",
    "    Table.set_data('properties',properties)\n",
    "    Table.set_data('node_loads',node_loads)\n",
    "    Table.set_data('member_loads',member_loads)\n",
    "    Table.set_data('load_combinations',load_combinations)\n",
    "    \n",
    "    frame = Frame2D()\n",
    "    frame.input_all()\n",
    "    \n",
    "    return frame"
   ]
  },
  {
   "cell_type": "code",
   "execution_count": 7,
   "metadata": {
    "collapsed": false
   },
   "outputs": [
    {
     "name": "stdout",
     "output_type": "stream",
     "text": [
      "CPU times: user 396 ms, sys: 28 ms, total: 424 ms\n",
      "Wall time: 405 ms\n"
     ]
    }
   ],
   "source": [
    "%time f = genframe(FD)"
   ]
  },
  {
   "cell_type": "code",
   "execution_count": 8,
   "metadata": {
    "collapsed": false
   },
   "outputs": [],
   "source": [
    "if SaveData:\n",
    "    NS = len(FD['storey_heights'])\n",
    "    NB = len(FD['bay_widths'])\n",
    "    name = 'l{}x{}'.format(NS,NB)\n",
    "    f.write_all(name,mkdir=True)"
   ]
  },
  {
   "cell_type": "code",
   "execution_count": 9,
   "metadata": {
    "collapsed": false,
    "scrolled": false
   },
   "outputs": [
    {
     "name": "stdout",
     "output_type": "stream",
     "text": [
      "CPU times: user 116 ms, sys: 4 ms, total: 120 ms\n",
      "Wall time: 115 ms\n"
     ]
    }
   ],
   "source": [
    "%time rs = f.solve(FD['load_combo'])\n",
    "if ShowResults:\n",
    "    f.print_input()\n",
    "    f.print_results(rs)"
   ]
  },
  {
   "cell_type": "code",
   "execution_count": null,
   "metadata": {
    "collapsed": false,
    "scrolled": false
   },
   "outputs": [],
   "source": [
    "#%matplotlib notebook\n",
    "#f.plot()"
   ]
  }
 ],
 "metadata": {
  "kernelspec": {
   "display_name": "Python 2",
   "language": "python",
   "name": "python2"
  },
  "language_info": {
   "codemirror_mode": {
    "name": "ipython",
    "version": 2
   },
   "file_extension": ".py",
   "mimetype": "text/x-python",
   "name": "python",
   "nbconvert_exporter": "python",
   "pygments_lexer": "ipython2",
   "version": "2.7.6"
  },
  "widgets": {
   "state": {},
   "version": "1.1.1"
  }
 },
 "nbformat": 4,
 "nbformat_minor": 0
}
