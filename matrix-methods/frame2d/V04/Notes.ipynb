{
 "cells": [
  {
   "cell_type": "markdown",
   "metadata": {},
   "source": [
    "### Notes\n",
    "1. For notebook importer, have it create a .py file (only if necessary) and import that.  To create the .py file,\n",
    "we don't need the non-code cells.  See [here](http://jupyter-notebook.readthedocs.io/en/latest/examples/Notebook/Importing%20Notebooks.html)."
   ]
  },
  {
   "cell_type": "code",
   "execution_count": 1,
   "metadata": {
    "collapsed": false
   },
   "outputs": [],
   "source": [
    "from salib import import_notebooks\n",
    "import_notebooks()"
   ]
  },
  {
   "cell_type": "code",
   "execution_count": 2,
   "metadata": {
    "collapsed": false
   },
   "outputs": [],
   "source": [
    "import sys"
   ]
  },
  {
   "cell_type": "code",
   "execution_count": 7,
   "metadata": {
    "collapsed": false
   },
   "outputs": [
    {
     "name": "stdout",
     "output_type": "stream",
     "text": [
      "Compiling notebook 'Fred/George/TestModule.ipynb' to 'Fred/George/TestModule.py'.\n",
      "FixedEndForces.ipynb  Loads.ipynb       \u001b[0m\u001b[01;34m__pycache__\u001b[0m/         TestModule.ipynb\n",
      "\u001b[01;34mframe-6.d\u001b[0m/            NBImporter.ipynb  Tables.ipynb         TestModule.py\n",
      "\u001b[01;34mFred\u001b[0m/                 Notes.ipynb       Testing-Stuff.ipynb  v04lib.py\n",
      "total 72\n",
      "-rw-r--r-- 1 nholtz nholtz   888 May 18 19:13 FixedEndForces.ipynb\n",
      "drwxr-xr-x 2 nholtz nholtz  4096 May 13 20:34 frame-6.d\n",
      "drwxrwxr-x 3 nholtz nholtz  4096 May 18 19:22 Fred\n",
      "-rw-r--r-- 1 nholtz nholtz 11844 May 11 00:55 Loads.ipynb\n",
      "-rw-rw-r-- 1 nholtz nholtz  7246 May 17 18:56 NBImporter.ipynb\n",
      "-rw-rw-r-- 1 nholtz nholtz  4061 May 18 19:26 Notes.ipynb\n",
      "drwxr-xr-x 2 nholtz nholtz  4096 May 11 00:53 __pycache__\n",
      "-rw-r--r-- 1 nholtz nholtz 11136 May 13 20:34 Tables.ipynb\n",
      "-rw-rw-r-- 1 nholtz nholtz  7397 May 16 10:43 Testing-Stuff.ipynb\n",
      "-rw-rw-r-- 1 nholtz nholtz  2005 May 17 18:56 TestModule.ipynb\n",
      "-rw-r--r-- 1 nholtz nholtz    27 May 13 20:34 TestModule.py\n",
      "-rw-r--r-- 1 nholtz nholtz  1563 May 11 00:52 v04lib.py\n",
      "/files/home/nholtz/work/git/structural-analysis/matrix-methods/frame2d/V04\n",
      "foo bar\n"
     ]
    },
    {
     "name": "stderr",
     "output_type": "stream",
     "text": [
      "ERROR: Cell magic `%%test` not found.\n"
     ]
    }
   ],
   "source": [
    "if 'Fred.George.TestModule' in sys.modules:\n",
    "    del sys.modules['Fred.George.TestModule']\n",
    "import Fred.George.TestModule as TM"
   ]
  },
  {
   "cell_type": "code",
   "execution_count": 4,
   "metadata": {
    "collapsed": false
   },
   "outputs": [
    {
     "data": {
      "text/plain": [
       "'bar'"
      ]
     },
     "execution_count": 4,
     "metadata": {},
     "output_type": "execute_result"
    }
   ],
   "source": [
    "TM.foo()"
   ]
  },
  {
   "cell_type": "code",
   "execution_count": 5,
   "metadata": {
    "collapsed": false
   },
   "outputs": [
    {
     "data": {
      "text/plain": [
       "[<salib.NBImporter.NotebookImporter at 0x7f1b484ea4d0>]"
      ]
     },
     "execution_count": 5,
     "metadata": {},
     "output_type": "execute_result"
    }
   ],
   "source": [
    "sys.meta_path"
   ]
  },
  {
   "cell_type": "markdown",
   "metadata": {},
   "source": [
    "#### Metaclasses\n",
    "[here](http://stackoverflow.com/questions/100003/what-is-a-metaclass-in-python/6581949#6581949)"
   ]
  }
 ],
 "metadata": {
  "kernelspec": {
   "display_name": "Python 2",
   "language": "python",
   "name": "python2"
  },
  "language_info": {
   "codemirror_mode": {
    "name": "ipython",
    "version": 2
   },
   "file_extension": ".py",
   "mimetype": "text/x-python",
   "name": "python",
   "nbconvert_exporter": "python",
   "pygments_lexer": "ipython2",
   "version": "2.7.6"
  },
  "widgets": {
   "state": {},
   "version": "1.1.1"
  }
 },
 "nbformat": 4,
 "nbformat_minor": 0
}
