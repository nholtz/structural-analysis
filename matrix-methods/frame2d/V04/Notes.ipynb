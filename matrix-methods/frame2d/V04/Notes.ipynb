{
 "cells": [
  {
   "cell_type": "markdown",
   "metadata": {},
   "source": [
    "### Notes\n",
    "1. For notebook importer, have it create a .py file (only if necessary) and import that.  To create the .py file,\n",
    "we don't need the non-code cells.  See [here](http://jupyter-notebook.readthedocs.io/en/latest/examples/Notebook/Importing%20Notebooks.html)."
   ]
  },
  {
   "cell_type": "code",
   "execution_count": 12,
   "metadata": {
    "collapsed": false
   },
   "outputs": [],
   "source": [
    "from salib.NBImporter import import_notebooks\n",
    "import_notebooks()"
   ]
  },
  {
   "cell_type": "code",
   "execution_count": 13,
   "metadata": {
    "collapsed": false
   },
   "outputs": [],
   "source": [
    "import sys"
   ]
  },
  {
   "cell_type": "code",
   "execution_count": 25,
   "metadata": {
    "collapsed": false
   },
   "outputs": [
    {
     "name": "stdout",
     "output_type": "stream",
     "text": [
      "\u001b[0m\u001b[01;34mframe-6.d\u001b[0m/  Loads.ipynb       Notes.ipynb   Tables.ipynb         TestModule.ipynb  TestModule.pyc\n",
      "\u001b[01;34mFred\u001b[0m/       NBImporter.ipynb  \u001b[01;34m__pycache__\u001b[0m/  Testing-Stuff.ipynb  TestModule.py     v04lib.py\n",
      "total 72\n",
      "drwxr-xr-x 3 nholtz nholtz  4096 May 12 16:52 frame-6.d\n",
      "drwxr-xr-x 3 nholtz nholtz  4096 May 14 08:30 Fred\n",
      "-rw-r--r-- 1 nholtz nholtz 11844 May 15 12:21 Loads.ipynb\n",
      "-rw-r--r-- 1 nholtz nholtz  6602 May 16 10:59 NBImporter.ipynb\n",
      "-rw-r--r-- 1 nholtz nholtz  3831 May 16 11:17 Notes.ipynb\n",
      "drwxr-xr-x 2 nholtz nholtz  4096 May 15 12:20 __pycache__\n",
      "-rw-r--r-- 1 nholtz nholtz 11136 May 13 23:01 Tables.ipynb\n",
      "-rw-r--r-- 1 nholtz nholtz  7397 May 16 10:36 Testing-Stuff.ipynb\n",
      "-rw-r--r-- 1 nholtz nholtz  2005 May 16 11:05 TestModule.ipynb\n",
      "-rw-r--r-- 1 nholtz nholtz    27 May 13 23:01 TestModule.py\n",
      "-rw-r--r-- 1 nholtz nholtz   211 May 13 23:06 TestModule.pyc\n",
      "-rw-r--r-- 1 nholtz nholtz  1563 May 12 14:25 v04lib.py\n",
      "/files/home/nholtz/work/git/structural-analysis/matrix-methods/frame2d/V04\n",
      "foo bar\n"
     ]
    }
   ],
   "source": [
    "if 'Fred.George.TestModule' in sys.modules:\n",
    "    del sys.modules['Fred.George.TestModule']\n",
    "import Fred.George.TestModule as TM"
   ]
  },
  {
   "cell_type": "code",
   "execution_count": 15,
   "metadata": {
    "collapsed": false
   },
   "outputs": [
    {
     "data": {
      "text/plain": [
       "'bar'"
      ]
     },
     "execution_count": 15,
     "metadata": {},
     "output_type": "execute_result"
    }
   ],
   "source": [
    "TM.foo()"
   ]
  },
  {
   "cell_type": "code",
   "execution_count": 17,
   "metadata": {
    "collapsed": false
   },
   "outputs": [
    {
     "data": {
      "text/plain": [
       "[<salib.NBImporter.NotebookImporter at 0xb39b06ac>]"
      ]
     },
     "execution_count": 17,
     "metadata": {},
     "output_type": "execute_result"
    }
   ],
   "source": [
    "sys.meta_path"
   ]
  },
  {
   "cell_type": "markdown",
   "metadata": {},
   "source": [
    "#### Metaclasses\n",
    "[here](http://stackoverflow.com/questions/100003/what-is-a-metaclass-in-python/6581949#6581949)"
   ]
  }
 ],
 "metadata": {
  "kernelspec": {
   "display_name": "Python 2",
   "language": "python",
   "name": "python2"
  },
  "language_info": {
   "codemirror_mode": {
    "name": "ipython",
    "version": 2
   },
   "file_extension": ".py",
   "mimetype": "text/x-python",
   "name": "python",
   "nbconvert_exporter": "python",
   "pygments_lexer": "ipython2",
   "version": "2.7.6"
  }
 },
 "nbformat": 4,
 "nbformat_minor": 0
}
