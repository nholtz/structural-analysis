{
 "cells": [
  {
   "cell_type": "markdown",
   "metadata": {},
   "source": [
    "### Notes\n",
    "1. For notebook importer, have it create a .py file (only if necessary) and import that.  To create the .py file,\n",
    "we don't need the non-code cells.  See [here](http://jupyter-notebook.readthedocs.io/en/latest/examples/Notebook/Importing%20Notebooks.html)."
   ]
  },
  {
   "cell_type": "code",
   "execution_count": 1,
   "metadata": {
    "collapsed": true
   },
   "outputs": [],
   "source": [
    "import sys\n",
    "import os\n",
    "\n",
    "sys.meta_path\n",
    "\n",
    "def find_notebook(fullname, path=None):\n",
    "    \"\"\"find a notebook, given its fully qualified name and an optional path\n",
    "    \n",
    "    This turns \"foo.bar\" into \"foo/bar.ipynb\"\n",
    "    and tries turning \"Foo_Bar\" into \"Foo-Bar\" and \"Foo Bar\" \n",
    "    if Foo_Bar does not exist.\n",
    "    \"\"\"\n",
    "    print 'find_notebook args:',fullname,path\n",
    "    parts = fullname.split('.')\n",
    "    name1 = parts[-1] + '.ipynb'\n",
    "    mpaths = [name1]\n",
    "    if '_' in name1:\n",
    "        mpaths.append(name1.replace('_','-'))\n",
    "        mpaths.append(name1.replace('_',' '))\n",
    "    \n",
    "    if not path:\n",
    "        path = ['']\n",
    "    for d in path:\n",
    "        for p in mpaths:\n",
    "            nb_path = os.path.join(d,p)\n",
    "            print 'find_notebook trying:',nb_path\n",
    "            if os.path.isfile(nb_path):\n",
    "                return nb_path\n",
    "            \n",
    "# this can always return a 'failure to find' indication.\n",
    "# when it finds a .ipynb, it converts it to .py if necessary,\n",
    "# then pretends it didn't find it.\n",
    "# Or, maybe even better, compile to .pyc instead of .py\n",
    "# Seems to be no easy way to compile text -> .pyc, so forget that.\n",
    "# Write .py files instead and let the normal python mech compile to .pyc\n",
    "# seriously consider dropping the name mangling as that gets in the way\n",
    "\n",
    "class NotebookLoader(object):\n",
    "    def __init__(self,path):\n",
    "        pass\n",
    "    \n",
    "    def load_module(self,fullname):\n",
    "        \"\"\"Convert .ipynb to .py, if necessary, and hand off work to a .py loader\"\"\"\n",
    "        pass\n",
    "\n",
    "class NotebookFinder(object):\n",
    "    \"\"\"Module finder that locates IPython Notebooks\"\"\"\n",
    "    def __init__(self):\n",
    "        self.loaders = {}\n",
    "    \n",
    "    def find_module(self, fullname, path=None):\n",
    "    \n",
    "        nb_path = find_notebook(fullname, path)\n",
    "        \n",
    "        print 'find_module paths:',fullname, path, 'found:', nb_path\n",
    "        if not nb_path:\n",
    "            return\n",
    "        \n",
    "        return None\n",
    "        \n",
    "        key = path\n",
    "        if path:\n",
    "            # lists aren't hashable\n",
    "            key = os.path.sep.join(path)\n",
    "        \n",
    "        if key not in self.loaders:\n",
    "            self.loaders[key] = NotebookLoader(path)\n",
    "        return self.loaders[key]\n",
    "\n",
    "\n",
    "sys.meta_path.append(NotebookFinder())\n"
   ]
  },
  {
   "cell_type": "code",
   "execution_count": 5,
   "metadata": {
    "collapsed": false
   },
   "outputs": [],
   "source": [
    "import Fred.George.TestModule as TM"
   ]
  },
  {
   "cell_type": "code",
   "execution_count": 3,
   "metadata": {
    "collapsed": false
   },
   "outputs": [
    {
     "data": {
      "text/plain": [
       "'pie'"
      ]
     },
     "execution_count": 3,
     "metadata": {},
     "output_type": "execute_result"
    }
   ],
   "source": [
    "TM.foo()"
   ]
  },
  {
   "cell_type": "code",
   "execution_count": 4,
   "metadata": {
    "collapsed": false
   },
   "outputs": [
    {
     "data": {
      "text/plain": [
       "[<__main__.NotebookFinder at 0xb55622ac>]"
      ]
     },
     "execution_count": 4,
     "metadata": {},
     "output_type": "execute_result"
    }
   ],
   "source": [
    "sys.meta_path"
   ]
  },
  {
   "cell_type": "code",
   "execution_count": null,
   "metadata": {
    "collapsed": true
   },
   "outputs": [],
   "source": []
  }
 ],
 "metadata": {
  "kernelspec": {
   "display_name": "Python 2",
   "language": "python",
   "name": "python2"
  },
  "language_info": {
   "codemirror_mode": {
    "name": "ipython",
    "version": 2
   },
   "file_extension": ".py",
   "mimetype": "text/x-python",
   "name": "python",
   "nbconvert_exporter": "python",
   "pygments_lexer": "ipython2",
   "version": "2.7.6"
  }
 },
 "nbformat": 4,
 "nbformat_minor": 0
}
