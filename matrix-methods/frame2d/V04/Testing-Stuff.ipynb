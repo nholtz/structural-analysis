{
 "cells": [
  {
   "cell_type": "code",
   "execution_count": 1,
   "metadata": {
    "collapsed": false
   },
   "outputs": [],
   "source": [
    "import hashlib\n",
    "import inspect\n",
    "import types"
   ]
  },
  {
   "cell_type": "code",
   "execution_count": 2,
   "metadata": {
    "collapsed": true
   },
   "outputs": [],
   "source": [
    "def fdigest(filename):\n",
    "    f = open(filename,mode='rb')\n",
    "    m = hashlib.sha256(f.read())\n",
    "    f.close()\n",
    "    return m.hexdigest()"
   ]
  },
  {
   "cell_type": "code",
   "execution_count": 3,
   "metadata": {
    "collapsed": false
   },
   "outputs": [
    {
     "data": {
      "text/plain": [
       "'3b93953100507915b0198cd96d35331a56d82edf3af433c1da3a1fe6e9f6e070'"
      ]
     },
     "execution_count": 3,
     "metadata": {},
     "output_type": "execute_result"
    }
   ],
   "source": [
    "h = fdigest('Loads.ipynb')\n",
    "h"
   ]
  },
  {
   "cell_type": "code",
   "execution_count": 4,
   "metadata": {
    "collapsed": true
   },
   "outputs": [],
   "source": [
    "def extend(old):\n",
    "    \"\"\"This is used as a class decorator to 'extend' class definitions,\n",
    "    for example, over widely dispersed areas.  EG:\n",
    "\n",
    "        class Foo(object):\n",
    "            . . .\n",
    "        @extend(Foo)\n",
    "        class Foo:\n",
    "            def meth2(...):\n",
    "            . . .\n",
    "\n",
    "    will result in one class Foo containing all methods, etc.\"\"\"\n",
    "\n",
    "    def _extend(new,old=old):\n",
    "        if new.__name__ != old.__name__:\n",
    "            raise TypeError(\"Class names must match: '{}' != '{}'\".format(new.__name__,old.__name__))\n",
    "        ok = ['__init__']\n",
    "        for a,v in inspect.getmembers(new):\n",
    "            if not a.startswith('_') or a in ok:\n",
    "                if type(v) is types.MethodType:\n",
    "                    v = types.MethodType(v.im_func,old if v.im_self is new else v.im_self,old)\n",
    "                elif type(v) is property:\n",
    "                    v = property(v.fget,v.fset,v.fdel)\n",
    "                elif type(v) is types.FunctionType:\n",
    "                    v = staticmethod(types.FunctionType(v.func_code,v.func_globals,v.func_name,v.func_defaults,v.func_closure))\n",
    "                setattr(old,a,v)\n",
    "                #print('Set {} in class {} to type {}'.format(a,old.__name__,type(v)))\n",
    "        return old\n",
    "    \n",
    "    return _extend"
   ]
  },
  {
   "cell_type": "code",
   "execution_count": 6,
   "metadata": {
    "collapsed": true
   },
   "outputs": [],
   "source": [
    "class Foo(object):\n",
    "    def im(s):\n",
    "        return s\n",
    "    @classmethod\n",
    "    def cm(s):\n",
    "        return s"
   ]
  },
  {
   "cell_type": "code",
   "execution_count": 8,
   "metadata": {
    "collapsed": false
   },
   "outputs": [
    {
     "data": {
      "text/plain": [
       "[('__class__', type),\n",
       " ('__delattr__', <slot wrapper '__delattr__' of 'object' objects>),\n",
       " ('__dict__',\n",
       "  <dictproxy {'__dict__': <attribute '__dict__' of 'Foo' objects>,\n",
       "   '__doc__': None,\n",
       "   '__module__': '__main__',\n",
       "   '__weakref__': <attribute '__weakref__' of 'Foo' objects>,\n",
       "   'cm': <classmethod at 0xb4ba0c8c>,\n",
       "   'im': <function __main__.im>}>),\n",
       " ('__doc__', None),\n",
       " ('__format__', <method '__format__' of 'object' objects>),\n",
       " ('__getattribute__', <slot wrapper '__getattribute__' of 'object' objects>),\n",
       " ('__hash__', <slot wrapper '__hash__' of 'object' objects>),\n",
       " ('__init__', <slot wrapper '__init__' of 'object' objects>),\n",
       " ('__module__', '__main__'),\n",
       " ('__new__', <function __new__>),\n",
       " ('__reduce__', <method '__reduce__' of 'object' objects>),\n",
       " ('__reduce_ex__', <method '__reduce_ex__' of 'object' objects>),\n",
       " ('__repr__', <slot wrapper '__repr__' of 'object' objects>),\n",
       " ('__setattr__', <slot wrapper '__setattr__' of 'object' objects>),\n",
       " ('__sizeof__', <method '__sizeof__' of 'object' objects>),\n",
       " ('__str__', <slot wrapper '__str__' of 'object' objects>),\n",
       " ('__subclasshook__', <function __subclasshook__>),\n",
       " ('__weakref__', <attribute '__weakref__' of 'Foo' objects>),\n",
       " ('cm', <bound method type.cm of <class '__main__.Foo'>>),\n",
       " ('im', <unbound method Foo.im>)]"
      ]
     },
     "execution_count": 8,
     "metadata": {},
     "output_type": "execute_result"
    }
   ],
   "source": [
    "l = inspect.getmembers(Foo)\n",
    "l"
   ]
  },
  {
   "cell_type": "code",
   "execution_count": 9,
   "metadata": {
    "collapsed": true
   },
   "outputs": [],
   "source": [
    "Foo.cm2 = types.MethodType?"
   ]
  },
  {
   "cell_type": "code",
   "execution_count": 10,
   "metadata": {
    "collapsed": true
   },
   "outputs": [],
   "source": [
    "def _cm2(c):\n",
    "    return 'cm2',c\n",
    "Foo.cm2 = types.MethodType(_cm2,Foo,Foo)"
   ]
  },
  {
   "cell_type": "code",
   "execution_count": 11,
   "metadata": {
    "collapsed": false
   },
   "outputs": [
    {
     "data": {
      "text/plain": [
       "[('__class__', type),\n",
       " ('__delattr__', <slot wrapper '__delattr__' of 'object' objects>),\n",
       " ('__dict__',\n",
       "  <dictproxy {'__dict__': <attribute '__dict__' of 'Foo' objects>,\n",
       "   '__doc__': None,\n",
       "   '__module__': '__main__',\n",
       "   '__weakref__': <attribute '__weakref__' of 'Foo' objects>,\n",
       "   'cm': <classmethod at 0xb4ba0c8c>,\n",
       "   'cm2': <bound method Foo._cm2 of <class '__main__.Foo'>>,\n",
       "   'im': <function __main__.im>}>),\n",
       " ('__doc__', None),\n",
       " ('__format__', <method '__format__' of 'object' objects>),\n",
       " ('__getattribute__', <slot wrapper '__getattribute__' of 'object' objects>),\n",
       " ('__hash__', <slot wrapper '__hash__' of 'object' objects>),\n",
       " ('__init__', <slot wrapper '__init__' of 'object' objects>),\n",
       " ('__module__', '__main__'),\n",
       " ('__new__', <function __new__>),\n",
       " ('__reduce__', <method '__reduce__' of 'object' objects>),\n",
       " ('__reduce_ex__', <method '__reduce_ex__' of 'object' objects>),\n",
       " ('__repr__', <slot wrapper '__repr__' of 'object' objects>),\n",
       " ('__setattr__', <slot wrapper '__setattr__' of 'object' objects>),\n",
       " ('__sizeof__', <method '__sizeof__' of 'object' objects>),\n",
       " ('__str__', <slot wrapper '__str__' of 'object' objects>),\n",
       " ('__subclasshook__', <function __subclasshook__>),\n",
       " ('__weakref__', <attribute '__weakref__' of 'Foo' objects>),\n",
       " ('cm', <bound method type.cm of <class '__main__.Foo'>>),\n",
       " ('cm2', <bound method Foo._cm2 of <class '__main__.Foo'>>),\n",
       " ('im', <unbound method Foo.im>)]"
      ]
     },
     "execution_count": 11,
     "metadata": {},
     "output_type": "execute_result"
    }
   ],
   "source": [
    "l = inspect.getmembers(Foo)\n",
    "l"
   ]
  },
  {
   "cell_type": "code",
   "execution_count": 15,
   "metadata": {
    "collapsed": false
   },
   "outputs": [
    {
     "data": {
      "text/plain": [
       "(__main__.Foo, ('cm2', __main__.Foo))"
      ]
     },
     "execution_count": 15,
     "metadata": {},
     "output_type": "execute_result"
    }
   ],
   "source": [
    "Foo.cm(), Foo.cm2()"
   ]
  },
  {
   "cell_type": "code",
   "execution_count": 16,
   "metadata": {
    "collapsed": true
   },
   "outputs": [],
   "source": [
    "class Bar(Foo):\n",
    "    pass"
   ]
  },
  {
   "cell_type": "code",
   "execution_count": 17,
   "metadata": {
    "collapsed": false
   },
   "outputs": [
    {
     "data": {
      "text/plain": [
       "(__main__.Bar, ('cm2', __main__.Foo))"
      ]
     },
     "execution_count": 17,
     "metadata": {},
     "output_type": "execute_result"
    }
   ],
   "source": [
    "Bar.cm(), Bar.cm2()"
   ]
  }
 ],
 "metadata": {
  "kernelspec": {
   "display_name": "Python 2",
   "language": "python",
   "name": "python2"
  },
  "language_info": {
   "codemirror_mode": {
    "name": "ipython",
    "version": 2
   },
   "file_extension": ".py",
   "mimetype": "text/x-python",
   "name": "python",
   "nbconvert_exporter": "python",
   "pygments_lexer": "ipython2",
   "version": "2.7.6"
  },
  "widgets": {
   "state": {},
   "version": "1.1.1"
  }
 },
 "nbformat": 4,
 "nbformat_minor": 0
}
