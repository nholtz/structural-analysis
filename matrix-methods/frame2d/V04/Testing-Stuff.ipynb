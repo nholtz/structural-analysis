{
 "cells": [
  {
   "cell_type": "code",
   "execution_count": 1,
   "metadata": {
    "collapsed": false
   },
   "outputs": [],
   "source": [
    "import hashlib\n",
    "import inspect\n",
    "import types"
   ]
  },
  {
   "cell_type": "code",
   "execution_count": 2,
   "metadata": {
    "collapsed": false
   },
   "outputs": [
    {
     "data": {
      "text/plain": [
       "classobj"
      ]
     },
     "execution_count": 2,
     "metadata": {},
     "output_type": "execute_result"
    }
   ],
   "source": [
    "types.ClassType"
   ]
  },
  {
   "cell_type": "code",
   "execution_count": 15,
   "metadata": {
    "collapsed": false
   },
   "outputs": [
    {
     "data": {
      "text/plain": [
       "True"
      ]
     },
     "execution_count": 15,
     "metadata": {},
     "output_type": "execute_result"
    }
   ],
   "source": [
    "class Bar:\n",
    "    pass\n",
    "class Foo(Bar):\n",
    "    def __getitem__(s):\n",
    "        pass\n",
    "type(Foo) is types.ClassType"
   ]
  },
  {
   "cell_type": "code",
   "execution_count": 16,
   "metadata": {
    "collapsed": false
   },
   "outputs": [
    {
     "data": {
      "text/plain": [
       "[('__doc__', None),\n",
       " ('__getitem__', <unbound method Foo.__getitem__>),\n",
       " ('__module__', '__main__')]"
      ]
     },
     "execution_count": 16,
     "metadata": {},
     "output_type": "execute_result"
    }
   ],
   "source": [
    "inspect.getmembers(Foo)"
   ]
  },
  {
   "cell_type": "code",
   "execution_count": 2,
   "metadata": {
    "collapsed": true
   },
   "outputs": [],
   "source": [
    "def fdigest(filename):\n",
    "    f = open(filename,mode='rb')\n",
    "    m = hashlib.sha256(f.read())\n",
    "    f.close()\n",
    "    return m.hexdigest()"
   ]
  },
  {
   "cell_type": "code",
   "execution_count": 3,
   "metadata": {
    "collapsed": false
   },
   "outputs": [
    {
     "data": {
      "text/plain": [
       "'3b93953100507915b0198cd96d35331a56d82edf3af433c1da3a1fe6e9f6e070'"
      ]
     },
     "execution_count": 3,
     "metadata": {},
     "output_type": "execute_result"
    }
   ],
   "source": [
    "h = fdigest('Loads.ipynb')\n",
    "h"
   ]
  },
  {
   "cell_type": "code",
   "execution_count": 17,
   "metadata": {
    "collapsed": true
   },
   "outputs": [],
   "source": [
    "def extend(old):\n",
    "    \"\"\"This is used as a class decorator to 'extend' class definitions,\n",
    "    for example, over widely dispersed areas.  EG:\n",
    "\n",
    "        class Foo(object):\n",
    "            . . .\n",
    "        @extend(Foo)\n",
    "        class Foo:\n",
    "            def meth2(...):\n",
    "            . . .\n",
    "\n",
    "    will result in one class Foo containing all methods, etc.\"\"\"\n",
    "\n",
    "    def _extend(new,old=old):\n",
    "        if new.__name__ != old.__name__:\n",
    "            raise TypeError(\"Class names must match: '{}' != '{}'\".format(new.__name__,old.__name__))\n",
    "        if type(new) is not types.ClassType:\n",
    "            raise TypeError(\"Extension class must be an old-style class (not derived from class object)\")\n",
    "        if len(new.__bases__) != 0:\n",
    "            raise TypeError(\"Extension class must not have a base class.\")\n",
    "        ng = ['__doc__','__module__']\n",
    "        for a,v in inspect.getmembers(new):\n",
    "            if a not in ng:\n",
    "                if type(v) is types.MethodType:\n",
    "                    if v.im_self is None:\n",
    "                        v =  types.MethodType(v.im_func,None,old)\n",
    "                    else:\n",
    "                        v = classmethod(v.im_func)\n",
    "                elif type(v) is property:\n",
    "                    v = property(v.fget,v.fset,v.fdel)\n",
    "                elif type(v) is types.FunctionType:\n",
    "                    v = staticmethod(types.FunctionType(v.func_code,v.func_globals,v.func_name,v.func_defaults,v.func_closure))\n",
    "                setattr(old,a,v)\n",
    "                #print('Set {} in class {} to type {}'.format(a,old.__name__,type(v)))\n",
    "        return old\n",
    "    \n",
    "    return _extend"
   ]
  },
  {
   "cell_type": "code",
   "execution_count": 18,
   "metadata": {
    "collapsed": true
   },
   "outputs": [],
   "source": [
    "class Foo(object):\n",
    "    def im(s):\n",
    "        return s\n",
    "    @classmethod\n",
    "    def cm(s):\n",
    "        return s"
   ]
  },
  {
   "cell_type": "code",
   "execution_count": 19,
   "metadata": {
    "collapsed": false
   },
   "outputs": [
    {
     "data": {
      "text/plain": [
       "[('__class__', type),\n",
       " ('__delattr__', <slot wrapper '__delattr__' of 'object' objects>),\n",
       " ('__dict__',\n",
       "  <dictproxy {'__dict__': <attribute '__dict__' of 'Foo' objects>,\n",
       "   '__doc__': None,\n",
       "   '__module__': '__main__',\n",
       "   '__weakref__': <attribute '__weakref__' of 'Foo' objects>,\n",
       "   'cm': <classmethod at 0xb4c6cc44>,\n",
       "   'im': <function __main__.im>}>),\n",
       " ('__doc__', None),\n",
       " ('__format__', <method '__format__' of 'object' objects>),\n",
       " ('__getattribute__', <slot wrapper '__getattribute__' of 'object' objects>),\n",
       " ('__hash__', <slot wrapper '__hash__' of 'object' objects>),\n",
       " ('__init__', <slot wrapper '__init__' of 'object' objects>),\n",
       " ('__module__', '__main__'),\n",
       " ('__new__', <function __new__>),\n",
       " ('__reduce__', <method '__reduce__' of 'object' objects>),\n",
       " ('__reduce_ex__', <method '__reduce_ex__' of 'object' objects>),\n",
       " ('__repr__', <slot wrapper '__repr__' of 'object' objects>),\n",
       " ('__setattr__', <slot wrapper '__setattr__' of 'object' objects>),\n",
       " ('__sizeof__', <method '__sizeof__' of 'object' objects>),\n",
       " ('__str__', <slot wrapper '__str__' of 'object' objects>),\n",
       " ('__subclasshook__', <function __subclasshook__>),\n",
       " ('__weakref__', <attribute '__weakref__' of 'Foo' objects>),\n",
       " ('cm', <bound method type.cm of <class '__main__.Foo'>>),\n",
       " ('im', <unbound method Foo.im>)]"
      ]
     },
     "execution_count": 19,
     "metadata": {},
     "output_type": "execute_result"
    }
   ],
   "source": [
    "l = inspect.getmembers(Foo)\n",
    "l"
   ]
  },
  {
   "cell_type": "code",
   "execution_count": 18,
   "metadata": {
    "collapsed": false
   },
   "outputs": [
    {
     "data": {
      "text/plain": [
       "(type, __main__.Foo, __main__.Foo)"
      ]
     },
     "execution_count": 18,
     "metadata": {},
     "output_type": "execute_result"
    }
   ],
   "source": [
    "def _cm2(c):\n",
    "    return 'cm2',c\n",
    "v = l[-2][1].im_self\n",
    "Foo.cm2 = types.MethodType(_cm2,v,Foo)\n",
    "type(v),v,l[-2][1].im_class"
   ]
  },
  {
   "cell_type": "code",
   "execution_count": 19,
   "metadata": {
    "collapsed": false
   },
   "outputs": [
    {
     "data": {
      "text/plain": [
       "[('__class__', type),\n",
       " ('__delattr__', <slot wrapper '__delattr__' of 'object' objects>),\n",
       " ('__dict__',\n",
       "  <dictproxy {'__dict__': <attribute '__dict__' of 'Foo' objects>,\n",
       "   '__doc__': None,\n",
       "   '__module__': '__main__',\n",
       "   '__weakref__': <attribute '__weakref__' of 'Foo' objects>,\n",
       "   'cm': <classmethod at 0x7f226432d1d8>,\n",
       "   'cm2': <bound method Foo._cm2 of <class '__main__.Foo'>>,\n",
       "   'im': <function __main__.im>}>),\n",
       " ('__doc__', None),\n",
       " ('__format__', <method '__format__' of 'object' objects>),\n",
       " ('__getattribute__', <slot wrapper '__getattribute__' of 'object' objects>),\n",
       " ('__hash__', <slot wrapper '__hash__' of 'object' objects>),\n",
       " ('__init__', <slot wrapper '__init__' of 'object' objects>),\n",
       " ('__module__', '__main__'),\n",
       " ('__new__', <function __new__>),\n",
       " ('__reduce__', <method '__reduce__' of 'object' objects>),\n",
       " ('__reduce_ex__', <method '__reduce_ex__' of 'object' objects>),\n",
       " ('__repr__', <slot wrapper '__repr__' of 'object' objects>),\n",
       " ('__setattr__', <slot wrapper '__setattr__' of 'object' objects>),\n",
       " ('__sizeof__', <method '__sizeof__' of 'object' objects>),\n",
       " ('__str__', <slot wrapper '__str__' of 'object' objects>),\n",
       " ('__subclasshook__', <function __subclasshook__>),\n",
       " ('__weakref__', <attribute '__weakref__' of 'Foo' objects>),\n",
       " ('cm', <bound method type.cm of <class '__main__.Foo'>>),\n",
       " ('cm2', <bound method Foo._cm2 of <class '__main__.Foo'>>),\n",
       " ('im', <unbound method Foo.im>)]"
      ]
     },
     "execution_count": 19,
     "metadata": {},
     "output_type": "execute_result"
    }
   ],
   "source": [
    "l = inspect.getmembers(Foo)\n",
    "l"
   ]
  },
  {
   "cell_type": "code",
   "execution_count": 20,
   "metadata": {
    "collapsed": false
   },
   "outputs": [
    {
     "data": {
      "text/plain": [
       "[('__class__', type),\n",
       " ('__delattr__', <slot wrapper '__delattr__' of 'object' objects>),\n",
       " ('__dict__',\n",
       "  <dictproxy {'__dict__': <attribute '__dict__' of 'Foo' objects>,\n",
       "   '__doc__': None,\n",
       "   '__module__': '__main__',\n",
       "   '__weakref__': <attribute '__weakref__' of 'Foo' objects>,\n",
       "   'cm': <classmethod at 0x7f226432d1d8>,\n",
       "   'cm2': <bound method Foo._cm2 of <class '__main__.Foo'>>,\n",
       "   'cm3': <classmethod at 0x7f226432d210>,\n",
       "   'im': <function __main__.im>}>),\n",
       " ('__doc__', None),\n",
       " ('__format__', <method '__format__' of 'object' objects>),\n",
       " ('__getattribute__', <slot wrapper '__getattribute__' of 'object' objects>),\n",
       " ('__hash__', <slot wrapper '__hash__' of 'object' objects>),\n",
       " ('__init__', <slot wrapper '__init__' of 'object' objects>),\n",
       " ('__module__', '__main__'),\n",
       " ('__new__', <function __new__>),\n",
       " ('__reduce__', <method '__reduce__' of 'object' objects>),\n",
       " ('__reduce_ex__', <method '__reduce_ex__' of 'object' objects>),\n",
       " ('__repr__', <slot wrapper '__repr__' of 'object' objects>),\n",
       " ('__setattr__', <slot wrapper '__setattr__' of 'object' objects>),\n",
       " ('__sizeof__', <method '__sizeof__' of 'object' objects>),\n",
       " ('__str__', <slot wrapper '__str__' of 'object' objects>),\n",
       " ('__subclasshook__', <function __subclasshook__>),\n",
       " ('__weakref__', <attribute '__weakref__' of 'Foo' objects>),\n",
       " ('cm', <bound method type.cm of <class '__main__.Foo'>>),\n",
       " ('cm2', <bound method Foo._cm2 of <class '__main__.Foo'>>),\n",
       " ('cm3', <bound method type._cm3 of <class '__main__.Foo'>>),\n",
       " ('im', <unbound method Foo.im>)]"
      ]
     },
     "execution_count": 20,
     "metadata": {},
     "output_type": "execute_result"
    }
   ],
   "source": [
    "def _cm3(c):\n",
    "    return '_cm3',c\n",
    "Foo.cm3 = classmethod(_cm3)\n",
    "l = inspect.getmembers(Foo)\n",
    "l"
   ]
  },
  {
   "cell_type": "code",
   "execution_count": 28,
   "metadata": {
    "collapsed": false
   },
   "outputs": [
    {
     "data": {
      "text/plain": [
       "(__main__.Foo, instancemethod)"
      ]
     },
     "execution_count": 28,
     "metadata": {},
     "output_type": "execute_result"
    }
   ],
   "source": [
    "v = l[-2][1]\n",
    "v.im_self, type(v)"
   ]
  },
  {
   "cell_type": "code",
   "execution_count": 21,
   "metadata": {
    "collapsed": false
   },
   "outputs": [
    {
     "data": {
      "text/plain": [
       "(__main__.Foo, ('cm2', __main__.Foo))"
      ]
     },
     "execution_count": 21,
     "metadata": {},
     "output_type": "execute_result"
    }
   ],
   "source": [
    "Foo.cm(), Foo.cm2()"
   ]
  },
  {
   "cell_type": "code",
   "execution_count": 22,
   "metadata": {
    "collapsed": true
   },
   "outputs": [],
   "source": [
    "class Bar(Foo):\n",
    "    pass"
   ]
  },
  {
   "cell_type": "code",
   "execution_count": 23,
   "metadata": {
    "collapsed": false
   },
   "outputs": [
    {
     "data": {
      "text/plain": [
       "(__main__.Bar, ('cm2', __main__.Foo))"
      ]
     },
     "execution_count": 23,
     "metadata": {},
     "output_type": "execute_result"
    }
   ],
   "source": [
    "Bar.cm(), Bar.cm2()"
   ]
  },
  {
   "cell_type": "code",
   "execution_count": 24,
   "metadata": {
    "collapsed": false
   },
   "outputs": [
    {
     "data": {
      "text/plain": [
       "('_cm3', __main__.Bar)"
      ]
     },
     "execution_count": 24,
     "metadata": {},
     "output_type": "execute_result"
    }
   ],
   "source": [
    "Bar.cm3()"
   ]
  },
  {
   "cell_type": "code",
   "execution_count": 29,
   "metadata": {
    "collapsed": false
   },
   "outputs": [],
   "source": [
    "from salib import extend"
   ]
  },
  {
   "cell_type": "code",
   "execution_count": 30,
   "metadata": {
    "collapsed": true
   },
   "outputs": [],
   "source": [
    "class Zip(object):\n",
    "    def im(c):\n",
    "        return 'Zip.im',c\n",
    "    @classmethod\n",
    "    def cm(c):\n",
    "        return 'Zip.cm',c"
   ]
  },
  {
   "cell_type": "code",
   "execution_count": 32,
   "metadata": {
    "collapsed": false
   },
   "outputs": [],
   "source": [
    "@extend(Zip)\n",
    "class Zip:\n",
    "    def im2(c):\n",
    "        return 'Zip.im2',c\n",
    "    @classmethod\n",
    "    def cm2(c):\n",
    "        return 'Zip.cm2',c"
   ]
  },
  {
   "cell_type": "code",
   "execution_count": 34,
   "metadata": {
    "collapsed": false
   },
   "outputs": [
    {
     "data": {
      "text/plain": [
       "(('Zip.im', <__main__.Zip at 0x7f2264183dd0>),\n",
       " ('Zip.cm', __main__.Zip),\n",
       " ('Zip.im2', <__main__.Zip at 0x7f2264183dd0>),\n",
       " ('Zip.cm2', __main__.Zip))"
      ]
     },
     "execution_count": 34,
     "metadata": {},
     "output_type": "execute_result"
    }
   ],
   "source": [
    "z = Zip()\n",
    "z.im(), z.cm(), z.im2(), z.cm2()"
   ]
  },
  {
   "cell_type": "code",
   "execution_count": 35,
   "metadata": {
    "collapsed": true
   },
   "outputs": [],
   "source": [
    "class Zap(Zip):\n",
    "    def im3(c):\n",
    "        return 'Zap.im3',c\n",
    "    @classmethod\n",
    "    def cm3(c):\n",
    "        return 'Zap.cm3',c"
   ]
  },
  {
   "cell_type": "code",
   "execution_count": 36,
   "metadata": {
    "collapsed": false
   },
   "outputs": [
    {
     "data": {
      "text/plain": [
       "(('Zip.im', <__main__.Zap at 0x7f2264183ed0>),\n",
       " ('Zip.cm', __main__.Zap),\n",
       " ('Zip.im2', <__main__.Zap at 0x7f2264183ed0>),\n",
       " ('Zip.cm2', __main__.Zap),\n",
       " ('Zap.im3', <__main__.Zap at 0x7f2264183ed0>),\n",
       " ('Zap.cm3', __main__.Zap))"
      ]
     },
     "execution_count": 36,
     "metadata": {},
     "output_type": "execute_result"
    }
   ],
   "source": [
    "zz = Zap()\n",
    "zz.im(), zz.cm(), zz.im2(), zz.cm2(), zz.im3(), zz.cm3()"
   ]
  },
  {
   "cell_type": "markdown",
   "metadata": {},
   "source": [
    "## No args to @extend?\n",
    "The following trick might be usable to extract the old class when its not\n",
    "specifically given to @extend."
   ]
  },
  {
   "cell_type": "code",
   "execution_count": 20,
   "metadata": {
    "collapsed": true
   },
   "outputs": [],
   "source": [
    "class Zoop:\n",
    "    pass"
   ]
  },
  {
   "cell_type": "code",
   "execution_count": 21,
   "metadata": {
    "collapsed": false
   },
   "outputs": [
    {
     "data": {
      "text/plain": [
       "'__main__'"
      ]
     },
     "execution_count": 21,
     "metadata": {},
     "output_type": "execute_result"
    }
   ],
   "source": [
    "Zoop.__module__"
   ]
  },
  {
   "cell_type": "code",
   "execution_count": 22,
   "metadata": {
    "collapsed": true
   },
   "outputs": [],
   "source": [
    "import sys\n",
    "m = sys.modules['__main__']"
   ]
  },
  {
   "cell_type": "code",
   "execution_count": 23,
   "metadata": {
    "collapsed": false
   },
   "outputs": [
    {
     "data": {
      "text/plain": [
       "<module '__main__' (built-in)>"
      ]
     },
     "execution_count": 23,
     "metadata": {},
     "output_type": "execute_result"
    }
   ],
   "source": [
    "m"
   ]
  },
  {
   "cell_type": "code",
   "execution_count": 26,
   "metadata": {
    "collapsed": false
   },
   "outputs": [
    {
     "data": {
      "text/plain": [
       "<class __main__.Zoop at 0xb4cac6bc>"
      ]
     },
     "execution_count": 26,
     "metadata": {},
     "output_type": "execute_result"
    }
   ],
   "source": [
    "getattr(m,'Zoop')"
   ]
  },
  {
   "cell_type": "code",
   "execution_count": 27,
   "metadata": {
    "collapsed": false
   },
   "outputs": [
    {
     "data": {
      "text/plain": [
       "<class __main__.Zoop at 0xb4cac6bc>"
      ]
     },
     "execution_count": 27,
     "metadata": {},
     "output_type": "execute_result"
    }
   ],
   "source": [
    "c = Zoop\n",
    "m.__dict__[c.__name__]"
   ]
  },
  {
   "cell_type": "code",
   "execution_count": null,
   "metadata": {
    "collapsed": true
   },
   "outputs": [],
   "source": []
  }
 ],
 "metadata": {
  "kernelspec": {
   "display_name": "Python 2",
   "language": "python",
   "name": "python2"
  },
  "language_info": {
   "codemirror_mode": {
    "name": "ipython",
    "version": 2
   },
   "file_extension": ".py",
   "mimetype": "text/x-python",
   "name": "python",
   "nbconvert_exporter": "python",
   "pygments_lexer": "ipython2",
   "version": "2.7.6"
  },
  "widgets": {
   "state": {},
   "version": "1.1.1"
  }
 },
 "nbformat": 4,
 "nbformat_minor": 0
}
