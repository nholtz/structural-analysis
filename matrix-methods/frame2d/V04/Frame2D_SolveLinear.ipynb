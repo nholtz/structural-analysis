{
 "cells": [
  {
   "cell_type": "markdown",
   "metadata": {},
   "source": [
    "# Linear Solution"
   ]
  },
  {
   "cell_type": "code",
   "execution_count": 1,
   "metadata": {
    "collapsed": true
   },
   "outputs": [],
   "source": [
    "from __future__ import print_function"
   ]
  },
  {
   "cell_type": "code",
   "execution_count": 2,
   "metadata": {
    "collapsed": false
   },
   "outputs": [],
   "source": [
    "from salib import extend, import_notebooks\n",
    "import_notebooks()\n",
    "import numpy as np\n",
    "from collections import defaultdict"
   ]
  },
  {
   "cell_type": "code",
   "execution_count": 3,
   "metadata": {
    "collapsed": false
   },
   "outputs": [
    {
     "name": "stdout",
     "output_type": "stream",
     "text": [
      "Compiling notebook 'Frame2D_Display.ipynb' to 'Frame2D_Display.py'.\n"
     ]
    }
   ],
   "source": [
    "from Frame2D_Base import Frame2D\n",
    "import Frame2D_Input\n",
    "import Frame2D_Display"
   ]
  },
  {
   "cell_type": "code",
   "execution_count": 4,
   "metadata": {
    "collapsed": true
   },
   "outputs": [],
   "source": [
    "##test:\n",
    "f = Frame2D('frame-1')\n",
    "f.install_all()"
   ]
  },
  {
   "cell_type": "markdown",
   "metadata": {
    "collapsed": true
   },
   "source": [
    "## Analysis"
   ]
  },
  {
   "cell_type": "code",
   "execution_count": 5,
   "metadata": {
    "collapsed": true
   },
   "outputs": [],
   "source": [
    "@extend\n",
    "class Frame2D:\n",
    "    \n",
    "    def buildK(self):\n",
    "        K = np.mat(np.zeros((self.ndof,self.ndof)))\n",
    "        for memb in self.members.values():\n",
    "            Kl = memb.localK()\n",
    "            Tm = memb.transform()\n",
    "            Kg = Tm.T * Kl * Tm\n",
    "            dofnums = memb.nodej.dofnums + memb.nodek.dofnums\n",
    "            K[np.ix_(dofnums,dofnums)] += Kg\n",
    "        return K\n"
   ]
  },
  {
   "cell_type": "code",
   "execution_count": 6,
   "metadata": {
    "collapsed": false
   },
   "outputs": [
    {
     "data": {
      "text/plain": [
       "matrix([[  3.39581250e+05,   0.00000000e+00,   0.00000000e+00,\n",
       "          -3.37500000e+05,   0.00000000e+00,   0.00000000e+00,\n",
       "           0.00000000e+00,  -2.08125000e+03,   0.00000000e+00,\n",
       "           8.32500000e+06,   0.00000000e+00,   0.00000000e+00],\n",
       "        [  0.00000000e+00,   6.17287500e+05,   9.15000000e+06,\n",
       "           0.00000000e+00,  -2.28750000e+03,   9.15000000e+06,\n",
       "           0.00000000e+00,   0.00000000e+00,  -6.15000000e+05,\n",
       "           0.00000000e+00,   0.00000000e+00,   0.00000000e+00],\n",
       "        [  0.00000000e+00,   9.15000000e+06,   4.88000000e+10,\n",
       "           0.00000000e+00,  -9.15000000e+06,   2.44000000e+10,\n",
       "           0.00000000e+00,   0.00000000e+00,   0.00000000e+00,\n",
       "           0.00000000e+00,   0.00000000e+00,   0.00000000e+00],\n",
       "        [ -3.37500000e+05,   0.00000000e+00,   0.00000000e+00,\n",
       "           3.39581250e+05,   0.00000000e+00,   0.00000000e+00,\n",
       "           8.32500000e+06,   0.00000000e+00,   0.00000000e+00,\n",
       "           0.00000000e+00,  -2.08125000e+03,   0.00000000e+00],\n",
       "        [  0.00000000e+00,  -2.28750000e+03,  -9.15000000e+06,\n",
       "           0.00000000e+00,   6.17287500e+05,  -9.15000000e+06,\n",
       "           0.00000000e+00,   0.00000000e+00,   0.00000000e+00,\n",
       "           0.00000000e+00,   0.00000000e+00,  -6.15000000e+05],\n",
       "        [  0.00000000e+00,   9.15000000e+06,   2.44000000e+10,\n",
       "           0.00000000e+00,  -9.15000000e+06,   4.88000000e+10,\n",
       "           0.00000000e+00,   0.00000000e+00,   0.00000000e+00,\n",
       "           0.00000000e+00,   0.00000000e+00,   0.00000000e+00],\n",
       "        [  0.00000000e+00,   0.00000000e+00,   0.00000000e+00,\n",
       "           8.32500000e+06,   0.00000000e+00,   0.00000000e+00,\n",
       "           3.33000000e+10,   0.00000000e+00,   0.00000000e+00,\n",
       "           0.00000000e+00,  -8.32500000e+06,   0.00000000e+00],\n",
       "        [ -2.08125000e+03,   0.00000000e+00,   0.00000000e+00,\n",
       "           0.00000000e+00,   0.00000000e+00,   0.00000000e+00,\n",
       "           0.00000000e+00,   2.08125000e+03,   0.00000000e+00,\n",
       "          -8.32500000e+06,   0.00000000e+00,   0.00000000e+00],\n",
       "        [  0.00000000e+00,  -6.15000000e+05,   0.00000000e+00,\n",
       "           0.00000000e+00,   0.00000000e+00,   0.00000000e+00,\n",
       "           0.00000000e+00,   0.00000000e+00,   6.15000000e+05,\n",
       "           0.00000000e+00,   0.00000000e+00,   0.00000000e+00],\n",
       "        [  8.32500000e+06,   0.00000000e+00,   0.00000000e+00,\n",
       "           0.00000000e+00,   0.00000000e+00,   0.00000000e+00,\n",
       "           0.00000000e+00,  -8.32500000e+06,   0.00000000e+00,\n",
       "           3.33000000e+10,   0.00000000e+00,   0.00000000e+00],\n",
       "        [  0.00000000e+00,   0.00000000e+00,   0.00000000e+00,\n",
       "          -2.08125000e+03,   0.00000000e+00,   0.00000000e+00,\n",
       "          -8.32500000e+06,   0.00000000e+00,   0.00000000e+00,\n",
       "           0.00000000e+00,   2.08125000e+03,   0.00000000e+00],\n",
       "        [  0.00000000e+00,   0.00000000e+00,   0.00000000e+00,\n",
       "           0.00000000e+00,  -6.15000000e+05,   0.00000000e+00,\n",
       "           0.00000000e+00,   0.00000000e+00,   0.00000000e+00,\n",
       "           0.00000000e+00,   0.00000000e+00,   6.15000000e+05]])"
      ]
     },
     "execution_count": 6,
     "metadata": {},
     "output_type": "execute_result"
    }
   ],
   "source": [
    "##test:\n",
    "K = f.buildK()\n",
    "K"
   ]
  },
  {
   "cell_type": "code",
   "execution_count": 7,
   "metadata": {
    "collapsed": true
   },
   "outputs": [],
   "source": [
    "@extend\n",
    "class Frame2D:\n",
    "    \n",
    "    def buildP(self,loadcase='all'):\n",
    "        P = np.mat(np.zeros((self.ndof,1)))\n",
    "        for node,load,factor in self.iter_nodeloads(loadcase):\n",
    "            P[node.dofnums] += load.forces * factor\n",
    "        for node,load,factor in self.iter_nodedeltas(loadcase):\n",
    "            P[node.dofnums] += load.forces * factor\n",
    "        return P"
   ]
  },
  {
   "cell_type": "code",
   "execution_count": 8,
   "metadata": {
    "collapsed": false
   },
   "outputs": [
    {
     "data": {
      "text/plain": [
       "matrix([[ -2.00000000e+05],\n",
       "        [  0.00000000e+00],\n",
       "        [  0.00000000e+00],\n",
       "        [  0.00000000e+00],\n",
       "        [  0.00000000e+00],\n",
       "        [  0.00000000e+00],\n",
       "        [  0.00000000e+00],\n",
       "        [  0.00000000e+00],\n",
       "        [ -1.00000000e+01],\n",
       "        [  0.00000000e+00],\n",
       "        [  0.00000000e+00],\n",
       "        [  0.00000000e+00]])"
      ]
     },
     "execution_count": 8,
     "metadata": {},
     "output_type": "execute_result"
    }
   ],
   "source": [
    "##test:\n",
    "f.buildP('all')"
   ]
  },
  {
   "cell_type": "code",
   "execution_count": 9,
   "metadata": {
    "collapsed": true
   },
   "outputs": [],
   "source": [
    "@extend\n",
    "class Frame2D:\n",
    "    \n",
    "    def calc_fefs(self,loadcase='all'):\n",
    "        ll = defaultdict(list)\n",
    "        for memb,load,factor in self.iter_memberloads(loadcase):\n",
    "            ll[memb].append((load,factor))\n",
    "        fef = {memb:memb.fefs(loads) for memb,loads in ll.items()}\n",
    "        #self.loadcase_fefs[loadcase] = fef\n",
    "        return fef    \n",
    "\n",
    "    def buildMP(self,memb_fefs):\n",
    "        MP = np.mat(np.zeros((self.ndof,1)))\n",
    "        for memb,mfefs in memb_fefs.items():\n",
    "            gfefs = memb.Tm.T * mfefs.fefs\n",
    "            dofnums = memb.nodej.dofnums + memb.nodek.dofnums\n",
    "            MP[dofnums] -= gfefs\n",
    "        return MP"
   ]
  },
  {
   "cell_type": "code",
   "execution_count": 10,
   "metadata": {
    "collapsed": true
   },
   "outputs": [],
   "source": [
    "class ResultSet(object):\n",
    "    \n",
    "    \"\"\"Instances of class ResultSet gather together all of the results from\n",
    "    one complete structural analysis of one load case.\"\"\"\n",
    "    \n",
    "    def __init__(self,loadcase):\n",
    "        self.loadcase = loadcase\n",
    "        self.node_P = None       # applied node loads\n",
    "        self.memb_P = None       # applied fixed end member forces\n",
    "        self.memb_fefs = {}      # fixed end member forces, indexed by member ID\n",
    "        self.node_displacements = None  # unconstrained node displacements\n",
    "        self.reaction_displacements = None # constrained node displacements\n",
    "        self.reaction_forces = None        # constrained node reactions"
   ]
  },
  {
   "cell_type": "code",
   "execution_count": 11,
   "metadata": {
    "collapsed": true
   },
   "outputs": [],
   "source": [
    "@extend\n",
    "class Frame2D:\n",
    "    \n",
    "    def solve(self,loadcase='all'):\n",
    "        \n",
    "        self.number_dofs()\n",
    "        K = self.buildK()\n",
    "\n",
    "        rs = ResultSet(loadcase)\n",
    "        rs.memb_fefs = self.calc_fefs(loadcase)\n",
    "        P = rs.node_P = self.buildP(loadcase)\n",
    "        MP = rs.memb_P = self.buildMP(rs.memb_fefs)\n",
    "        P = P + MP\n",
    "        \n",
    "        D = np.mat(np.zeros((self.ndof,1)))\n",
    "        \n",
    "        N = self.nfree\n",
    "        Kff = K[:N,:N]  # partition the matrices ....\n",
    "        Kfc = K[:N,N:]\n",
    "        Kcf = K[N:,:N]\n",
    "        Kcc = K[N:,N:]\n",
    "        \n",
    "        D[:N] = np.linalg.solve(Kff,P[:N] - Kfc*D[N:])  # displacements\n",
    "        R = Kcf*D[:N] + Kcc*D[N:] - P[N:]    # reactions at the constrained DOFs\n",
    "        rs.node_displacements = D\n",
    "        rs.reaction_forces = R\n",
    "        return rs"
   ]
  },
  {
   "cell_type": "code",
   "execution_count": 12,
   "metadata": {
    "collapsed": false
   },
   "outputs": [
    {
     "name": "stdout",
     "output_type": "stream",
     "text": [
      "\n",
      "Frame frame-1:\n",
      "==============\n",
      "\n",
      "\n",
      "              # of nodal degrees of freedom: 12\n",
      "  # of constrained nodal degrees of freedom: 5\n",
      "# of unconstrained nodal degrees of freedom: 7  (= degree of kinematic indeterminacy)\n",
      "\n",
      "                               # of members: 3\n",
      "                             # of reactions: 5\n",
      "                                 # of nodes: 4\n",
      "                            # of conditions: 2\n",
      "           degree of statical indeterminacy: 0\n",
      "\n",
      "\n",
      "\n",
      "Nodes:\n",
      "======\n",
      "\n",
      "Node          X         Y  Constraints  DOF #s\n",
      "----      -----     -----  -----------  ------\n",
      "A             0         0  FX,FY,MZ     7,8,9\n",
      "B             0      4000               0,1,2\n",
      "C          8000      4000               3,4,5\n",
      "D          8000         0  FX,FY        10,11,6\n",
      "\n",
      "\n",
      "\n",
      "Members:\n",
      "========\n",
      "\n",
      "Member   Node-J  Node-K    Length       dcx       dcy  Size                Ix           A  Releases\n",
      "------   ------  ------    ------   -------   -------  --------      --------       -----  --------\n",
      "AB       A       B         4000.0   0.00000   1.00000  W310x97       2.22e+08       12300  MZK\n",
      "BC       B       C         8000.0   1.00000   0.00000  W460x106      4.88e+08       13500  \n",
      "CD       C       D         4000.0   0.00000  -1.00000                2.22e+08       12300  MZJ\n",
      "\n",
      "\n",
      "\n",
      "Node Loads:\n",
      "===========\n",
      "\n",
      "Type  Node      FX          FY          MZ\n",
      "----  ----  ----------  ----------  ----------\n",
      "wind  B        -200000           0           0\n",
      "\n",
      "Member Loads:\n",
      "=============\n",
      "\n",
      "Type  Member  Load\n",
      "----  ------  ----------------\n",
      "live  BC      UDL(L=8000.0,w=-50)\n",
      "live  BC      PL(L=8000.0,P=-200000,a=5000.0)\n",
      "\n",
      "Support Displacements:\n",
      "======================\n",
      "\n",
      "Type  Node      DX          DY          TZ\n",
      "----  ----  ----------  ----------  ----------\n",
      "other  A              0         -10           0\n",
      "\n",
      "Load Combinations:\n",
      "==================\n",
      "\n",
      "Case   Type  Factor\n",
      "-----  ----  ------\n",
      "one    live    1.50\n",
      " \"     wind    1.75\n",
      "all    live    1.00\n",
      " \"     other    1.00\n",
      " \"     wind    1.00\n"
     ]
    }
   ],
   "source": [
    "##test:\n",
    "f.reset()\n",
    "f.install_all()\n",
    "rs = f.solve('one')\n",
    "f.print_input()"
   ]
  },
  {
   "cell_type": "code",
   "execution_count": 13,
   "metadata": {
    "collapsed": false
   },
   "outputs": [
    {
     "data": {
      "text/plain": [
       "matrix([[ -1.68168168e+02],\n",
       "        [ -6.70731707e-01],\n",
       "        [ -2.69747726e-02],\n",
       "        [ -1.68168168e+02],\n",
       "        [ -7.92682927e-01],\n",
       "        [  2.88653913e-02],\n",
       "        [  4.20420420e-02],\n",
       "        [  0.00000000e+00],\n",
       "        [  0.00000000e+00],\n",
       "        [  0.00000000e+00],\n",
       "        [  0.00000000e+00],\n",
       "        [  0.00000000e+00]])"
      ]
     },
     "execution_count": 13,
     "metadata": {},
     "output_type": "execute_result"
    }
   ],
   "source": [
    "##test:\n",
    "rs.node_displacements"
   ]
  },
  {
   "cell_type": "code",
   "execution_count": 14,
   "metadata": {
    "collapsed": false
   },
   "outputs": [
    {
     "data": {
      "text/plain": [
       "matrix([[  3.50000000e+05],\n",
       "        [  4.12500000e+05],\n",
       "        [ -1.40000000e+09],\n",
       "        [ -5.82076609e-11],\n",
       "        [  4.87500000e+05]])"
      ]
     },
     "execution_count": 14,
     "metadata": {},
     "output_type": "execute_result"
    }
   ],
   "source": [
    "##test:\n",
    "rs.reaction_forces"
   ]
  },
  {
   "cell_type": "markdown",
   "metadata": {},
   "source": [
    "#### Compare\n",
    "Compare computed reactions with correct reactions."
   ]
  },
  {
   "cell_type": "code",
   "execution_count": 15,
   "metadata": {
    "collapsed": false
   },
   "outputs": [
    {
     "data": {
      "text/plain": [
       "matrix([[  5.32184328e-15],\n",
       "        [  5.88426536e-14],\n",
       "        [  5.44956752e-15],\n",
       "        [            -inf],\n",
       "        [  0.00000000e+00]])"
      ]
     },
     "execution_count": 15,
     "metadata": {},
     "output_type": "execute_result"
    }
   ],
   "source": [
    "##test:\n",
    "# here are the correct reactions:\n",
    "R = rs.reaction_forces\n",
    "CR = np.matrix([350E3,412.5E3,-1400E6,0,487.5E3]).T\n",
    "(R-CR)/CR"
   ]
  },
  {
   "cell_type": "markdown",
   "metadata": {},
   "source": [
    "Comparison is good."
   ]
  },
  {
   "cell_type": "code",
   "execution_count": 16,
   "metadata": {
    "collapsed": false
   },
   "outputs": [
    {
     "name": "stdout",
     "output_type": "stream",
     "text": [
      "\n",
      "Node Displacements:\n",
      "===================\n",
      "\n",
      "Node        DX         DY      Rotation\n",
      "----      ------     ------   ---------\n",
      "A          0.000      0.000   0.0000000\n",
      "B       -168.168     -0.671  -0.0269748\n",
      "C       -168.168     -0.793   0.0288654\n",
      "D          0.000      0.000   0.0420420\n"
     ]
    }
   ],
   "source": [
    "##test:\n",
    "f.print_node_displacements(rs.node_displacements)"
   ]
  },
  {
   "cell_type": "code",
   "execution_count": 17,
   "metadata": {
    "collapsed": false
   },
   "outputs": [
    {
     "name": "stdout",
     "output_type": "stream",
     "text": [
      "\n",
      "Reactions:\n",
      "==========\n",
      "\n",
      "Node        FX         FY         MZ  \n",
      "----     -------    -------    -------\n",
      "A        350.000    412.500  -1400.000\n",
      "D         -0.000    487.500      --   \n"
     ]
    }
   ],
   "source": [
    "##test:\n",
    "f.print_reactions(rs.reaction_forces)"
   ]
  },
  {
   "cell_type": "code",
   "execution_count": null,
   "metadata": {
    "collapsed": false
   },
   "outputs": [],
   "source": []
  }
 ],
 "metadata": {
  "kernelspec": {
   "display_name": "Python 2",
   "language": "python",
   "name": "python2"
  },
  "language_info": {
   "codemirror_mode": {
    "name": "ipython",
    "version": 2
   },
   "file_extension": ".py",
   "mimetype": "text/x-python",
   "name": "python",
   "nbconvert_exporter": "python",
   "pygments_lexer": "ipython2",
   "version": "2.7.6"
  },
  "widgets": {
   "state": {},
   "version": "1.1.1"
  }
 },
 "nbformat": 4,
 "nbformat_minor": 0
}
