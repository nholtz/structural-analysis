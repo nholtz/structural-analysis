{
 "cells": [
  {
   "cell_type": "markdown",
   "metadata": {},
   "source": [
    "## Node Loads"
   ]
  },
  {
   "cell_type": "code",
   "execution_count": 1,
   "metadata": {
    "collapsed": true
   },
   "outputs": [],
   "source": [
    "import numpy as np\n",
    "from salib import extend"
   ]
  },
  {
   "cell_type": "markdown",
   "metadata": {},
   "source": [
    "### class NodeLoad"
   ]
  },
  {
   "cell_type": "code",
   "execution_count": 2,
   "metadata": {
    "collapsed": false
   },
   "outputs": [],
   "source": [
    "class NodeLoad(object):\n",
    "    \n",
    "    def __init__(self,fx=0.,fy=0.,mz=0.):\n",
    "        if type(fx) is np.ndarray and fx.size == 3:\n",
    "            self.forces= fx.copy()\n",
    "            return\n",
    "        self.forces = np.array([fx,fy,mz],dtype=np.float64)\n",
    "        \n",
    "    def __mul__(self,scale):\n",
    "        if scale == 1.0:\n",
    "            return self\n",
    "        return self.__class__(self.forces*scale)\n",
    "    \n",
    "    __rmul__ = __mul__\n",
    "        \n",
    "    def __repr__(self):\n",
    "        return \"{}({},{},{})\".format(self.__class__.__name__,*list(self.forces))"
   ]
  },
  {
   "cell_type": "code",
   "execution_count": 3,
   "metadata": {
    "collapsed": false
   },
   "outputs": [
    {
     "data": {
      "text/plain": [
       "(NodeLoad(1.0,2.0,3.0), NodeLoad(2.0,4.0,6.0), NodeLoad(3.0,6.0,9.0))"
      ]
     },
     "execution_count": 3,
     "metadata": {},
     "output_type": "execute_result"
    }
   ],
   "source": [
    "##test:\n",
    "p = NodeLoad(1,2,3)\n",
    "p, p*2, 3*p"
   ]
  },
  {
   "cell_type": "code",
   "execution_count": 4,
   "metadata": {
    "collapsed": true
   },
   "outputs": [],
   "source": [
    "def makeNodeLoad(data):\n",
    "    G = data.get\n",
    "    return NodeLoad(G('FX',0),G('FY',0),G('MZ',0))"
   ]
  },
  {
   "cell_type": "code",
   "execution_count": 5,
   "metadata": {
    "collapsed": false
   },
   "outputs": [
    {
     "data": {
      "text/plain": [
       "NodeLoad(3.0,0.0,17.0)"
      ]
     },
     "execution_count": 5,
     "metadata": {},
     "output_type": "execute_result"
    }
   ],
   "source": [
    "##test:\n",
    "makeNodeLoad({\"MZ\":17, \"FX\":3})"
   ]
  },
  {
   "cell_type": "markdown",
   "metadata": {},
   "source": [
    "#### Indices\n",
    "Implement ..."
   ]
  },
  {
   "cell_type": "code",
   "execution_count": 6,
   "metadata": {
    "collapsed": false
   },
   "outputs": [
    {
     "data": {
      "text/plain": [
       "27584640"
      ]
     },
     "execution_count": 6,
     "metadata": {},
     "output_type": "execute_result"
    }
   ],
   "source": [
    "id(NodeLoad)"
   ]
  },
  {
   "cell_type": "code",
   "execution_count": 7,
   "metadata": {
    "collapsed": false
   },
   "outputs": [],
   "source": [
    "@extend\n",
    "class NodeLoad:\n",
    "    \n",
    "    def __getitem__(self,ix):\n",
    "        return self.forces[ix]"
   ]
  },
  {
   "cell_type": "code",
   "execution_count": 8,
   "metadata": {
    "collapsed": false
   },
   "outputs": [
    {
     "data": {
      "text/plain": [
       "(1.0, 3.0)"
      ]
     },
     "execution_count": 8,
     "metadata": {},
     "output_type": "execute_result"
    }
   ],
   "source": [
    "##test:\n",
    "p[0],p[2]"
   ]
  },
  {
   "cell_type": "code",
   "execution_count": 9,
   "metadata": {
    "collapsed": false
   },
   "outputs": [
    {
     "data": {
      "text/plain": [
       "3.0"
      ]
     },
     "execution_count": 9,
     "metadata": {},
     "output_type": "execute_result"
    }
   ],
   "source": [
    "##test:\n",
    "fx,fy,mz = p\n",
    "mz"
   ]
  },
  {
   "cell_type": "code",
   "execution_count": 10,
   "metadata": {
    "collapsed": false
   },
   "outputs": [
    {
     "data": {
      "text/plain": [
       "array([ 3.,  2.,  1.])"
      ]
     },
     "execution_count": 10,
     "metadata": {},
     "output_type": "execute_result"
    }
   ],
   "source": [
    "##test:\n",
    "p[[2,1,0]]"
   ]
  },
  {
   "cell_type": "markdown",
   "metadata": {},
   "source": [
    "#### Properties\n",
    "Implement properties so that ..."
   ]
  },
  {
   "cell_type": "code",
   "execution_count": 11,
   "metadata": {
    "collapsed": true
   },
   "outputs": [],
   "source": [
    "@extend\n",
    "class NodeLoad:\n",
    "    \n",
    "    @property\n",
    "    def fx(self):\n",
    "        return self.forces[0]\n",
    "    \n",
    "    @fx.setter\n",
    "    def fx(self,v):\n",
    "        self.forces[0] = v\n",
    "        \n",
    "    @property\n",
    "    def fy(self):\n",
    "        return self.forces[1]\n",
    "    \n",
    "    @fy.setter\n",
    "    def fy(self,v):\n",
    "        self.forces[1] = v\n",
    "        \n",
    "    @property\n",
    "    def mz(self):\n",
    "        return self.forces[2]\n",
    "    \n",
    "    @mz.setter\n",
    "    def mz(self,v):\n",
    "        self.forces[2] = v   "
   ]
  },
  {
   "cell_type": "code",
   "execution_count": 12,
   "metadata": {
    "collapsed": false
   },
   "outputs": [
    {
     "data": {
      "text/plain": [
       "(1.0, 2.0, 3.0)"
      ]
     },
     "execution_count": 12,
     "metadata": {},
     "output_type": "execute_result"
    }
   ],
   "source": [
    "##test:\n",
    "p.fx, p.fy, p.mz"
   ]
  },
  {
   "cell_type": "code",
   "execution_count": 13,
   "metadata": {
    "collapsed": false
   },
   "outputs": [
    {
     "data": {
      "text/plain": [
       "NodeLoad(2.0,6.0,-1.0)"
      ]
     },
     "execution_count": 13,
     "metadata": {},
     "output_type": "execute_result"
    }
   ],
   "source": [
    "##test:\n",
    "p.fx = 2\n",
    "p.fy *= 3\n",
    "p.mz -= 4\n",
    "p"
   ]
  },
  {
   "cell_type": "code",
   "execution_count": null,
   "metadata": {
    "collapsed": true
   },
   "outputs": [],
   "source": []
  }
 ],
 "metadata": {
  "kernelspec": {
   "display_name": "Python 2",
   "language": "python",
   "name": "python2"
  },
  "language_info": {
   "codemirror_mode": {
    "name": "ipython",
    "version": 2
   },
   "file_extension": ".py",
   "mimetype": "text/x-python",
   "name": "python",
   "nbconvert_exporter": "python",
   "pygments_lexer": "ipython2",
   "version": "2.7.6"
  },
  "widgets": {
   "state": {},
   "version": "1.1.1"
  }
 },
 "nbformat": 4,
 "nbformat_minor": 0
}
