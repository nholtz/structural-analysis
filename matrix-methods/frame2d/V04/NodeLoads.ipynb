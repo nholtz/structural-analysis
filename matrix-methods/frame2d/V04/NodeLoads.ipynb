{
 "cells": [
  {
   "cell_type": "code",
   "execution_count": 1,
   "metadata": {
    "collapsed": true
   },
   "outputs": [],
   "source": [
    "import numpy as np"
   ]
  },
  {
   "cell_type": "code",
   "execution_count": 14,
   "metadata": {
    "collapsed": true
   },
   "outputs": [],
   "source": [
    "class NodeLoad(object):\n",
    "    \n",
    "    def __init__(self,fx=0.,fy=0.,mz=0.):\n",
    "        if type(fx) is np.ndarray and fx.size == 3:\n",
    "            self.forces= fx.copy()\n",
    "            return\n",
    "        self.forces = np.array([fx,fy,mz],dtype=np.float64)\n",
    "        \n",
    "    def __mul__(self,scale):\n",
    "        if scale == 1.0:\n",
    "            return self\n",
    "        return self.__class__(self.forces*scale)\n",
    "    \n",
    "    __rmul__ = __mul__\n",
    "        \n",
    "    def __repr__(self):\n",
    "        return \"{}({},{},{})\".format(self.__class__.__name__,*list(self.forces))"
   ]
  },
  {
   "cell_type": "code",
   "execution_count": 15,
   "metadata": {
    "collapsed": false
   },
   "outputs": [
    {
     "data": {
      "text/plain": [
       "(NodeLoad(1.0,2.0,3.0), NodeLoad(2.0,4.0,6.0), NodeLoad(3.0,6.0,9.0))"
      ]
     },
     "execution_count": 15,
     "metadata": {},
     "output_type": "execute_result"
    }
   ],
   "source": [
    "##test:\n",
    "p = NodeLoad(1,2,3)\n",
    "p, p*2, 3*p"
   ]
  },
  {
   "cell_type": "code",
   "execution_count": 16,
   "metadata": {
    "collapsed": true
   },
   "outputs": [],
   "source": [
    "def makeNodeLoad(data):\n",
    "    G = data.get\n",
    "    return NodeLoad(G('FX',0),G('FY',0),G('MZ',0))"
   ]
  },
  {
   "cell_type": "code",
   "execution_count": 17,
   "metadata": {
    "collapsed": false
   },
   "outputs": [
    {
     "data": {
      "text/plain": [
       "NodeLoad(3.0,0.0,17.0)"
      ]
     },
     "execution_count": 17,
     "metadata": {},
     "output_type": "execute_result"
    }
   ],
   "source": [
    "##test:\n",
    "makeNodeLoad({\"MZ\":17, \"FX\":3})"
   ]
  },
  {
   "cell_type": "code",
   "execution_count": null,
   "metadata": {
    "collapsed": true
   },
   "outputs": [],
   "source": []
  }
 ],
 "metadata": {
  "kernelspec": {
   "display_name": "Python 2",
   "language": "python",
   "name": "python2"
  },
  "language_info": {
   "codemirror_mode": {
    "name": "ipython",
    "version": 2
   },
   "file_extension": ".py",
   "mimetype": "text/x-python",
   "name": "python",
   "nbconvert_exporter": "python",
   "pygments_lexer": "ipython2",
   "version": "2.7.6"
  },
  "widgets": {
   "state": {},
   "version": "1.1.1"
  }
 },
 "nbformat": 4,
 "nbformat_minor": 0
}
