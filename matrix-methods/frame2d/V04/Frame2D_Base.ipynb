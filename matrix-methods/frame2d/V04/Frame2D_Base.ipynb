{
 "cells": [
  {
   "cell_type": "code",
   "execution_count": 2,
   "metadata": {
    "collapsed": true
   },
   "outputs": [],
   "source": [
    "from __future__ import print_function"
   ]
  },
  {
   "cell_type": "code",
   "execution_count": 3,
   "metadata": {
    "collapsed": true
   },
   "outputs": [],
   "source": [
    "from collections import OrderedDict, defaultdict\n",
    "from LoadSets import LoadSet, LoadCombination\n",
    "from Tables import Table"
   ]
  },
  {
   "cell_type": "code",
   "execution_count": 4,
   "metadata": {
    "collapsed": true
   },
   "outputs": [],
   "source": [
    "class Object(object):\n",
    "    pass\n",
    "\n",
    "class Frame2D(object):\n",
    "    \n",
    "    def __init__(self,dsname=None):\n",
    "        self.dsname = dsname\n",
    "        if dsname is not None:\n",
    "            Table.set_source(dsname)\n",
    "        self.reset()\n",
    "        \n",
    "    def reset(self):\n",
    "        self.rawdata = Object()\n",
    "        self.nodes = OrderedDict()\n",
    "        self.members = OrderedDict()\n",
    "        self.nodeloads = LoadSet()\n",
    "        self.nodedeltas = LoadSet()\n",
    "        self.memberloads = LoadSet()\n",
    "        self.loadcombinations = LoadCombination()\n",
    "        self.dofdesc = []\n",
    "        self.loadcase_fefs = {}\n",
    "        self.ndof = 0\n",
    "        self.nfree = 0\n",
    "        self.ncons = 0\n",
    "        self.R = None\n",
    "        self.D = None\n",
    "        self.PDF = None    # P-Delta forces"
   ]
  },
  {
   "cell_type": "code",
   "execution_count": null,
   "metadata": {
    "collapsed": true
   },
   "outputs": [],
   "source": []
  }
 ],
 "metadata": {
  "kernelspec": {
   "display_name": "Python 2",
   "language": "python",
   "name": "python2"
  },
  "language_info": {
   "codemirror_mode": {
    "name": "ipython",
    "version": 2
   },
   "file_extension": ".py",
   "mimetype": "text/x-python",
   "name": "python",
   "nbconvert_exporter": "python",
   "pygments_lexer": "ipython2",
   "version": "2.7.6"
  },
  "widgets": {
   "state": {},
   "version": "1.1.1"
  }
 },
 "nbformat": 4,
 "nbformat_minor": 0
}
