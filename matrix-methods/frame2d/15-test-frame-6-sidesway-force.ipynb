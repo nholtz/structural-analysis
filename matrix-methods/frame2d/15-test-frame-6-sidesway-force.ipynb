{
 "cells": [
  {
   "cell_type": "markdown",
   "metadata": {},
   "source": [
    "## Frame 6: Lateral Force Applied\n",
    "This is the frame of example [frame-6](10-test-frame-6.ipynb) with a lateral force applied at node **B**.\n",
    "From this we will compute the lateral stiffness and compare it with the same frame having an\n",
    "[applied displacement](20-test-frame-6-sidesway-delta.ipynb) at the same node.  (Note, they compare equal to \n",
    "14 significant figures)."
   ]
  },
  {
   "cell_type": "code",
   "execution_count": 1,
   "metadata": {},
   "outputs": [
    {
     "data": {
      "image/svg+xml": [
       "<svg height=\"3.3322265in\" id=\"svg2\" inkscape:version=\"0.91 r\" sodipodi:docname=\"frame-6-sidesway-force.svg\" version=\"1.1\" width=\"5.0223312in\" xmlns=\"http://www.w3.org/2000/svg\" xmlns:cc=\"http://creativecommons.org/ns#\" xmlns:dc=\"http://purl.org/dc/elements/1.1/\" xmlns:inkscape=\"http://www.inkscape.org/namespaces/inkscape\" xmlns:rdf=\"http://www.w3.org/1999/02/22-rdf-syntax-ns#\" xmlns:sodipodi=\"http://sodipodi.sourceforge.net/DTD/sodipodi-0.dtd\" xmlns:svg=\"http://www.w3.org/2000/svg\" xmlns:xlink=\"http://www.w3.org/1999/xlink\">\n",
       "  <sodipodi:namedview bordercolor=\"#666666\" borderopacity=\"1.0\" fit-margin-bottom=\"0.2\" fit-margin-left=\"0.2\" fit-margin-right=\"0.2\" fit-margin-top=\"0.2\" id=\"base\" inkscape:current-layer=\"layer1\" inkscape:cx=\"222.11356\" inkscape:cy=\"184.69211\" inkscape:document-units=\"in\" inkscape:pageopacity=\"0.0\" inkscape:pageshadow=\"2\" inkscape:snap-grids=\"true\" inkscape:window-height=\"976\" inkscape:window-maximized=\"0\" inkscape:window-width=\"1272\" inkscape:window-x=\"502\" inkscape:window-y=\"26\" inkscape:zoom=\"1.4283557\" pagecolor=\"#ffffff\" showgrid=\"true\" showguides=\"true\" units=\"in\">\n",
       "    <inkscape:grid empspacing=\"5\" enabled=\"true\" id=\"grid2985\" originx=\"-69.099609\" originy=\"-657\" snapvisiblegridlinesonly=\"true\" spacingx=\"0.1in\" spacingy=\"0.1in\" type=\"xygrid\" units=\"in\" visible=\"true\"/>\n",
       "    <sodipodi:guide id=\"guide3042\" orientation=\"0,765\" position=\"-69.099609,-657\"/>\n",
       "    <sodipodi:guide id=\"guide3044\" orientation=\"-990,0\" position=\"695.90039,-657\"/>\n",
       "    <sodipodi:guide id=\"guide3046\" orientation=\"0,-765\" position=\"695.90039,333\"/>\n",
       "    <sodipodi:guide id=\"guide3048\" orientation=\"990,0\" position=\"-69.099609,333\"/>\n",
       "    <sodipodi:guide id=\"guide3050\" orientation=\"0,765\" position=\"650.90039,-612\"/>\n",
       "    <sodipodi:guide id=\"guide3052\" orientation=\"-990,0\" position=\"650.90039,243\"/>\n",
       "    <sodipodi:guide id=\"guide3054\" orientation=\"0,-765\" position=\"-33.099609,288\"/>\n",
       "    <sodipodi:guide id=\"guide3056\" orientation=\"990,0\" position=\"-24.099609,216\"/>\n",
       "  </sodipodi:namedview>\n",
       "  <script id=\"script3033\" xlink:href=\"\"/>\n",
       "  <defs id=\"defs4\">\n",
       "    <!-- markers by NMH <nholtz@cee.carleton.ca> -->\n",
       "    <marker id=\"DimensionTick\" inkscape:stockid=\"DimensionTick\" orient=\"auto\" refX=\"0\" refY=\"0\" style=\"overflow:visible\">\n",
       "      <path d=\"M 0,0 8,8\" id=\"path6\" inkscape:connector-curvature=\"0\" style=\"stroke:#4d4d4d;stroke-width:1px;marker-start:none\" transform=\"translate(-4,-4)\"/>\n",
       "    </marker>\n",
       "    <marker id=\"TrussNodeS\" inkscape:stockid=\"TrussNodeS\" markerUnits=\"userSpaceOnUse\" orient=\"auto\" refX=\"0\" refY=\"0\" style=\"overflow:visible\">\n",
       "      <circle cx=\"0\" cy=\"0\" id=\"circle9\" r=\"3\" style=\"fill:#ffffff;stroke:#000000;stroke-width:1\"/>\n",
       "    </marker>\n",
       "    <marker id=\"TrussNodeM\" inkscape:stockid=\"TrussNodeM\" markerUnits=\"userSpaceOnUse\" orient=\"auto\" refX=\"0\" refY=\"0\" style=\"overflow:visible\">\n",
       "      <circle cx=\"0\" cy=\"0\" id=\"circle12\" r=\"4\" style=\"fill:#ffffff;stroke:#000000;stroke-width:1\"/>\n",
       "    </marker>\n",
       "    <!-- patternss by NMH <nholtz@cee.carleton.ca> -->\n",
       "    <pattern height=\"18\" id=\"black-stripes-on-red\" patternUnits=\"userSpaceOnUse\" width=\"18\" x=\"0\" y=\"0\">\n",
       "      <path d=\"M 0,0 18,0 18,18 0,18 z\" id=\"path3006\" inkscape:connector-curvature=\"0\" style=\"fill:#ff0000;stroke:none\"/>\n",
       "      <path d=\"M 0,9 9,0 11,0 0,11 z\" id=\"path3008\" inkscape:connector-curvature=\"0\" style=\"fill:#000000;stroke:none\"/>\n",
       "      <path d=\"m 9,18 9,-9 0,2 -7,7 z\" id=\"path5234\" inkscape:connector-curvature=\"0\" style=\"fill:#000000;stroke:none\"/>\n",
       "    </pattern>\n",
       "    <marker id=\"CLArrowEnd\" markerHeight=\"6\" markerUnits=\"userSpaceOnUse\" markerWidth=\"10\" orient=\"auto\" refX=\"7\" refY=\"3\" viewBox=\"0 0 10 6\">\n",
       "      <path d=\"M 0,0 10,3 0,6 2,3 Z\" id=\"path3451\" inkscape:connector-curvature=\"0\"/>\n",
       "    </marker>\n",
       "    <pattern height=\"83.375\" id=\"pattern4380\" patternTransform=\"translate(216,485.362)\" patternUnits=\"userSpaceOnUse\" width=\"36\">\n",
       "      <g id=\"g4376\" transform=\"translate(-216,-485.362)\">\n",
       "        <polygon class=\"dload\" id=\"polygon3581-2\" points=\"360,0 0,0 0,-12 360,-12 \" style=\"fill:#f0f0f0;stroke:none;visibility:visible\" transform=\"matrix(0.1,0,0,6.75,216,566.362)\"/>\n",
       "        <path class=\"cload\" d=\"m 234,485.362 0,78.625\" id=\"path3627-7\" inkscape:connector-curvature=\"0\" style=\"fill:none;stroke:#000000;stroke-width:1.58746088;marker-end:url(#CLArrowEnd-8);visibility:visible\"/>\n",
       "      </g>\n",
       "    </pattern>\n",
       "    <marker id=\"CLArrowEnd-8\" markerHeight=\"6\" markerUnits=\"userSpaceOnUse\" markerWidth=\"10\" orient=\"auto\" refX=\"7\" refY=\"3\" viewBox=\"0 0 10 6\">\n",
       "      <path d=\"M 0,0 10,3 0,6 2,3 Z\" id=\"path3451-4\" inkscape:connector-curvature=\"0\"/>\n",
       "    </marker>\n",
       "  </defs>\n",
       "  <metadata id=\"metadata7\">\n",
       "    <rdf:RDF>\n",
       "      <cc:Work rdf:about=\"\">\n",
       "        <dc:format>image/svg+xml</dc:format>\n",
       "        <dc:type rdf:resource=\"http://purl.org/dc/dcmitype/StillImage\"/>\n",
       "        <dc:title/>\n",
       "        <cc:license rdf:resource=\"http://creativecommons.org/licenses/by-nc/3.0/\"/>\n",
       "      </cc:Work>\n",
       "      <cc:License rdf:about=\"http://creativecommons.org/licenses/by-nc/3.0/\">\n",
       "        <cc:permits rdf:resource=\"http://creativecommons.org/ns#Reproduction\"/>\n",
       "        <cc:permits rdf:resource=\"http://creativecommons.org/ns#Distribution\"/>\n",
       "        <cc:requires rdf:resource=\"http://creativecommons.org/ns#Notice\"/>\n",
       "        <cc:requires rdf:resource=\"http://creativecommons.org/ns#Attribution\"/>\n",
       "        <cc:prohibits rdf:resource=\"http://creativecommons.org/ns#CommercialUse\"/>\n",
       "        <cc:permits rdf:resource=\"http://creativecommons.org/ns#DerivativeWorks\"/>\n",
       "      </cc:License>\n",
       "    </rdf:RDF>\n",
       "  </metadata>\n",
       "  <g id=\"layer1\" inkscape:groupmode=\"layer\" inkscape:label=\"Layer 1\" transform=\"translate(-69.099609,-33.09961)\">\n",
       "    <path d=\"m 225,270 0,-135 270,0 0,134.80677\" id=\"path27\" inkscape:connector-curvature=\"0\" sodipodi:nodetypes=\"cccc\" style=\"fill:#000000;fill-opacity:0;fill-rule:nonzero;stroke:#000000;stroke-width:2;stroke-linecap:butt;stroke-linejoin:miter;stroke-miterlimit:4;stroke-dasharray:none;stroke-dashoffset:0;stroke-opacity:1\"/>\n",
       "    <g id=\"g10775\" transform=\"translate(239.51101,-85.699974)\">\n",
       "      <title id=\"title3737\">Pin Support</title>\n",
       "      <g id=\"use90\" transform=\"matrix(1.25,0,0,1.25,255.65647,356.59727)\">\n",
       "        <path d=\"m 0.19825424,-1.057356 4.99127116,6.9251865 -10.5112203,0 z\" id=\"path5224\" inkscape:connector-curvature=\"0\" sodipodi:nodetypes=\"cccc\" style=\"fill:#000000;stroke:#000000;stroke-width:0\"/>\n",
       "        <path d=\"M -6,6 6,6\" id=\"path5226\" inkscape:connector-curvature=\"0\" style=\"fill:none;stroke:#000000;stroke-width:1\"/>\n",
       "        <path d=\"M 6,6 3,9 M 3,6 0,9 M 0,6 -3,9 m 0,-3 -3,3 m 0,-3 -3,3\" id=\"path5228\" inkscape:connector-curvature=\"0\" style=\"fill:none;stroke:#000000;stroke-width:1\"/>\n",
       "      </g>\n",
       "    </g>\n",
       "    <g id=\"use3511\" transform=\"matrix(0,-1.25,1.25,0,224.27492,270.09814)\">\n",
       "      <title id=\"title3743\">Fixed Support</title>\n",
       "      <path d=\"M 0,-6 0,6\" id=\"path3409\" inkscape:connector-curvature=\"0\" style=\"fill:none;stroke:#000000;stroke-width:1\"/>\n",
       "      <path d=\"m 0,-6 -3,3 m 3,0 -3,3 m 3,0 -3,3 m 3,0 -3,3 m 3,0 -3,3\" id=\"path3411\" inkscape:connector-curvature=\"0\" style=\"fill:none;stroke:#000000;stroke-width:1\"/>\n",
       "    </g>\n",
       "    <path d=\"m 225,288 0,27\" id=\"path409\" inkscape:connector-curvature=\"0\" style=\"fill:#000000;fill-opacity:0;fill-rule:nonzero;stroke:#606060;stroke-width:1;stroke-linecap:butt;stroke-linejoin:miter;stroke-miterlimit:4;stroke-dasharray:none;stroke-dashoffset:0;stroke-opacity:1\"/>\n",
       "    <path d=\"M 495,287.90814 495,315\" id=\"path411\" inkscape:connector-curvature=\"0\" sodipodi:nodetypes=\"cc\" style=\"fill:#000000;fill-opacity:0;fill-rule:nonzero;stroke:#606060;stroke-width:1;stroke-linecap:butt;stroke-linejoin:miter;stroke-miterlimit:4;stroke-dasharray:none;stroke-dashoffset:0;stroke-opacity:1\"/>\n",
       "    <path d=\"m 225,306 270,0\" id=\"path413\" inkscape:connector-curvature=\"0\" style=\"fill:#000000;fill-opacity:0;fill-rule:nonzero;stroke:#606060;stroke-width:1;stroke-linecap:butt;stroke-linejoin:miter;stroke-miterlimit:4;stroke-dasharray:none;stroke-dashoffset:0;stroke-opacity:1;marker-start:url(#DimensionTick);marker-mid:url(#DimensionTick);marker-end:url(#DimensionTick)\"/>\n",
       "    <path d=\"M 209.69905,270 90,270\" id=\"path421\" inkscape:connector-curvature=\"0\" sodipodi:nodetypes=\"cc\" style=\"fill:#000000;fill-opacity:0;fill-rule:nonzero;stroke:#606060;stroke-width:1;stroke-linecap:butt;stroke-linejoin:miter;stroke-miterlimit:4;stroke-dasharray:none;stroke-dashoffset:0;stroke-opacity:1\"/>\n",
       "    <path d=\"m 171,135 -81,0\" id=\"path423\" inkscape:connector-curvature=\"0\" style=\"fill:#000000;fill-opacity:0;fill-rule:nonzero;stroke:#606060;stroke-width:1;stroke-linecap:butt;stroke-linejoin:miter;stroke-miterlimit:4;stroke-dasharray:none;stroke-dashoffset:0;stroke-opacity:1\"/>\n",
       "    <path d=\"M 99,270 99,135\" id=\"path425\" inkscape:connector-curvature=\"0\" style=\"fill:#000000;fill-opacity:0;fill-rule:nonzero;stroke:#606060;stroke-width:1;stroke-linecap:butt;stroke-linejoin:miter;stroke-miterlimit:4;stroke-dasharray:none;stroke-dashoffset:0;stroke-opacity:1;marker-start:url(#DimensionTick);marker-mid:url(#DimensionTick);marker-end:url(#DimensionTick)\"/>\n",
       "    <path class=\"cload\" d=\"m 223.12445,135.12366 -40.13614,0.49505\" id=\"path3405\" inkscape:connector-curvature=\"0\" sodipodi:nodetypes=\"cc\" style=\"fill:none;stroke:#000000;stroke-width:1.25;marker-end:url(#CLArrowEnd)\"/>\n",
       "    <text id=\"text2306\" sodipodi:linespacing=\"125%\" style=\"font-style:normal;font-variant:normal;font-weight:normal;font-stretch:normal;font-size:12px;line-height:125%;font-family:verdana;-inkscape-font-specification:Sans;text-align:start;letter-spacing:0px;word-spacing:0px;writing-mode:lr-tb;text-anchor:start;fill:#000000;fill-opacity:1;stroke:none\" transform=\"translate(4.00276,-0.30096)\" x=\"341.79724\" xml:space=\"preserve\" y=\"303.30096\"><tspan id=\"tspan2308\" sodipodi:role=\"line\" x=\"341.79724\" y=\"303.30096\">8000</tspan></text>\n",
       "    <text id=\"text2310\" sodipodi:linespacing=\"125%\" style=\"font-style:normal;font-variant:normal;font-weight:normal;font-stretch:normal;font-size:12px;line-height:125%;font-family:verdana;-inkscape-font-specification:Sans;text-align:start;letter-spacing:0px;word-spacing:0px;writing-mode:lr-tb;text-anchor:start;fill:#000000;fill-opacity:1;stroke:none\" transform=\"matrix(0,-1,1,0,1.012016,5.11698)\" x=\"-211.58302\" xml:space=\"preserve\" y=\"94.987984\"><tspan id=\"tspan2312\" sodipodi:role=\"line\" x=\"-211.58302\" y=\"94.987984\">4000</tspan></text>\n",
       "    <text id=\"text2318\" sodipodi:linespacing=\"125%\" style=\"font-style:normal;font-variant:normal;font-weight:normal;font-stretch:normal;font-size:12.5px;line-height:125%;font-family:Verdana;-inkscape-font-specification:Sans;text-align:start;letter-spacing:0px;word-spacing:0px;writing-mode:lr-tb;text-anchor:start;fill:#000000;fill-opacity:1;stroke:none\" transform=\"matrix(0,-1,1,0,0,0)\" x=\"-239.82979\" xml:space=\"preserve\" y=\"238.94885\"><tspan id=\"tspan2320\" sodipodi:role=\"line\" x=\"-239.82979\" y=\"238.94885\">W310x97</tspan></text>\n",
       "    <text id=\"text2326\" sodipodi:linespacing=\"125%\" style=\"font-style:normal;font-variant:normal;font-weight:normal;font-stretch:normal;font-size:12.5px;line-height:125%;font-family:Verdana;-inkscape-font-specification:Sans;text-align:start;letter-spacing:0px;word-spacing:0px;writing-mode:lr-tb;text-anchor:start;fill:#000000;fill-opacity:1;stroke:none\" x=\"322.41159\" xml:space=\"preserve\" y=\"151.05498\"><tspan id=\"tspan2328\" sodipodi:role=\"line\" x=\"322.41159\" y=\"151.05498\">W460x106</tspan></text>\n",
       "    <text id=\"text2334\" sodipodi:linespacing=\"125%\" style=\"font-style:normal;font-variant:normal;font-weight:normal;font-stretch:normal;font-size:12.5px;line-height:125%;font-family:Verdana;-inkscape-font-specification:Sans;text-align:start;letter-spacing:0px;word-spacing:0px;writing-mode:lr-tb;text-anchor:start;fill:#000000;fill-opacity:1;stroke:none\" x=\"168.97653\" xml:space=\"preserve\" y=\"130.74544\"><tspan id=\"tspan2336\" sodipodi:role=\"line\" x=\"168.97653\" y=\"130.74544\">100000</tspan></text>\n",
       "    <text id=\"text4605\" sodipodi:linespacing=\"125%\" style=\"font-style:normal;font-variant:normal;font-weight:normal;font-stretch:normal;font-size:12.5px;line-height:125%;font-family:Verdana;-inkscape-font-specification:Sans;text-align:start;letter-spacing:0px;word-spacing:0px;writing-mode:lr-tb;text-anchor:start;fill:#000000;fill-opacity:1;stroke:none\" transform=\"matrix(0,-1,1,0,0,0)\" x=\"-241.9301\" xml:space=\"preserve\" y=\"489.5867\"><tspan id=\"tspan4607\" sodipodi:role=\"line\" x=\"-241.9301\" y=\"489.5867\">W310x97</tspan></text>\n",
       "    <text id=\"text4609\" sodipodi:linespacing=\"125%\" style=\"color:#000000;font-style:normal;font-variant:normal;font-weight:normal;font-stretch:normal;font-size:10px;line-height:125%;font-family:Verdana;-inkscape-font-specification:Verdana;text-indent:0;text-align:start;text-decoration:none;text-decoration-line:none;text-decoration-style:solid;text-decoration-color:#000000;letter-spacing:0px;word-spacing:0px;text-transform:none;direction:ltr;block-progression:tb;writing-mode:lr-tb;baseline-shift:baseline;text-anchor:start;white-space:normal;clip-rule:nonzero;display:inline;overflow:visible;visibility:visible;opacity:1;isolation:auto;mix-blend-mode:normal;color-interpolation:sRGB;color-interpolation-filters:linearRGB;solid-color:#000000;solid-opacity:1;fill:#000000;fill-opacity:1;fill-rule:nonzero;stroke:none;stroke-width:0.46875;stroke-linecap:butt;stroke-linejoin:miter;stroke-miterlimit:4;stroke-dasharray:none;stroke-dashoffset:0;stroke-opacity:1;color-rendering:auto;image-rendering:auto;shape-rendering:auto;text-rendering:auto;enable-background:accumulate\" x=\"323.604\" xml:space=\"preserve\" y=\"206.5945\"><tspan id=\"tspan4611\" sodipodi:role=\"line\" x=\"323.604\" y=\"206.5945\">Units: N, mm</tspan></text>\n",
       "    <text id=\"text4613\" sodipodi:linespacing=\"125%\" style=\"color:#000000;font-style:normal;font-variant:normal;font-weight:normal;font-stretch:normal;font-size:12.5px;line-height:125%;font-family:Verdana;-inkscape-font-specification:Verdana;text-indent:0;text-align:start;text-decoration:none;text-decoration-line:none;text-decoration-style:solid;text-decoration-color:#000000;letter-spacing:0px;word-spacing:0px;text-transform:none;direction:ltr;block-progression:tb;writing-mode:lr-tb;baseline-shift:baseline;text-anchor:start;white-space:normal;clip-rule:nonzero;display:inline;overflow:visible;visibility:visible;opacity:1;isolation:auto;mix-blend-mode:normal;color-interpolation:sRGB;color-interpolation-filters:linearRGB;solid-color:#000000;solid-opacity:1;fill:#000000;fill-opacity:1;fill-rule:nonzero;stroke:none;stroke-width:0.46875;stroke-linecap:butt;stroke-linejoin:miter;stroke-miterlimit:4;stroke-dasharray:none;stroke-dashoffset:0;stroke-opacity:1;color-rendering:auto;image-rendering:auto;shape-rendering:auto;text-rendering:auto;enable-background:accumulate\" x=\"230.59132\" xml:space=\"preserve\" y=\"265.698\"><tspan id=\"tspan4615\" sodipodi:role=\"line\" x=\"230.59132\" y=\"265.698\">A</tspan></text>\n",
       "    <text id=\"text4617\" sodipodi:linespacing=\"125%\" style=\"color:#000000;font-style:normal;font-variant:normal;font-weight:normal;font-stretch:normal;font-size:12.5px;line-height:125%;font-family:Verdana;-inkscape-font-specification:Verdana;text-indent:0;text-align:start;text-decoration:none;text-decoration-line:none;text-decoration-style:solid;text-decoration-color:#000000;letter-spacing:0px;word-spacing:0px;text-transform:none;direction:ltr;block-progression:tb;writing-mode:lr-tb;baseline-shift:baseline;text-anchor:start;white-space:normal;clip-rule:nonzero;display:inline;overflow:visible;visibility:visible;opacity:1;isolation:auto;mix-blend-mode:normal;color-interpolation:sRGB;color-interpolation-filters:linearRGB;solid-color:#000000;solid-opacity:1;fill:#000000;fill-opacity:1;fill-rule:nonzero;stroke:none;stroke-width:0.46875;stroke-linecap:butt;stroke-linejoin:miter;stroke-miterlimit:4;stroke-dasharray:none;stroke-dashoffset:0;stroke-opacity:1;color-rendering:auto;image-rendering:auto;shape-rendering:auto;text-rendering:auto;enable-background:accumulate\" x=\"229.5871\" xml:space=\"preserve\" y=\"149.6832\"><tspan id=\"tspan4619\" sodipodi:role=\"line\" x=\"229.5871\" y=\"149.6832\">B</tspan></text>\n",
       "    <text id=\"text4621\" sodipodi:linespacing=\"125%\" style=\"color:#000000;font-style:normal;font-variant:normal;font-weight:normal;font-stretch:normal;font-size:12.5px;line-height:125%;font-family:Verdana;-inkscape-font-specification:Verdana;text-indent:0;text-align:start;text-decoration:none;text-decoration-line:none;text-decoration-style:solid;text-decoration-color:#000000;letter-spacing:0px;word-spacing:0px;text-transform:none;direction:ltr;block-progression:tb;writing-mode:lr-tb;baseline-shift:baseline;text-anchor:start;white-space:normal;clip-rule:nonzero;display:inline;overflow:visible;visibility:visible;opacity:1;isolation:auto;mix-blend-mode:normal;color-interpolation:sRGB;color-interpolation-filters:linearRGB;solid-color:#000000;solid-opacity:1;fill:#000000;fill-opacity:1;fill-rule:nonzero;stroke:none;stroke-width:0.46875;stroke-linecap:butt;stroke-linejoin:miter;stroke-miterlimit:4;stroke-dasharray:none;stroke-dashoffset:0;stroke-opacity:1;color-rendering:auto;image-rendering:auto;shape-rendering:auto;text-rendering:auto;enable-background:accumulate\" x=\"481.21967\" xml:space=\"preserve\" y=\"149.78456\"><tspan id=\"tspan4623\" sodipodi:role=\"line\" x=\"481.21967\" y=\"149.78456\">C</tspan></text>\n",
       "    <text id=\"text4625\" sodipodi:linespacing=\"125%\" style=\"color:#000000;font-style:normal;font-variant:normal;font-weight:normal;font-stretch:normal;font-size:12.5px;line-height:125%;font-family:Verdana;-inkscape-font-specification:Verdana;text-indent:0;text-align:start;text-decoration:none;text-decoration-line:none;text-decoration-style:solid;text-decoration-color:#000000;letter-spacing:0px;word-spacing:0px;text-transform:none;direction:ltr;block-progression:tb;writing-mode:lr-tb;baseline-shift:baseline;text-anchor:start;white-space:normal;clip-rule:nonzero;display:inline;overflow:visible;visibility:visible;opacity:1;isolation:auto;mix-blend-mode:normal;color-interpolation:sRGB;color-interpolation-filters:linearRGB;solid-color:#000000;solid-opacity:1;fill:#000000;fill-opacity:1;fill-rule:nonzero;stroke:none;stroke-width:0.46875;stroke-linecap:butt;stroke-linejoin:miter;stroke-miterlimit:4;stroke-dasharray:none;stroke-dashoffset:0;stroke-opacity:1;color-rendering:auto;image-rendering:auto;shape-rendering:auto;text-rendering:auto;enable-background:accumulate\" x=\"480.61142\" xml:space=\"preserve\" y=\"267.19958\"><tspan id=\"tspan4627\" sodipodi:role=\"line\" x=\"480.61142\" y=\"267.19958\">D</tspan></text>\n",
       "    <text id=\"text4629\" sodipodi:linespacing=\"125%\" style=\"color:#000000;font-style:normal;font-variant:normal;font-weight:normal;font-stretch:normal;font-size:12.5px;line-height:125%;font-family:Verdana;-inkscape-font-specification:Verdana;text-indent:0;text-align:start;text-decoration:none;text-decoration-line:none;text-decoration-style:solid;text-decoration-color:#000000;letter-spacing:0px;word-spacing:0px;text-transform:none;direction:ltr;block-progression:tb;writing-mode:lr-tb;baseline-shift:baseline;text-anchor:start;white-space:normal;clip-rule:nonzero;display:inline;overflow:visible;visibility:visible;opacity:1;isolation:auto;mix-blend-mode:normal;color-interpolation:sRGB;color-interpolation-filters:linearRGB;solid-color:#000000;solid-opacity:1;fill:#000000;fill-opacity:1;fill-rule:nonzero;stroke:none;stroke-width:0.46875;stroke-linecap:butt;stroke-linejoin:miter;stroke-miterlimit:4;stroke-dasharray:none;stroke-dashoffset:0;stroke-opacity:1;color-rendering:auto;image-rendering:auto;shape-rendering:auto;text-rendering:auto;enable-background:accumulate\" x=\"275.70221\" xml:space=\"preserve\" y=\"328.20062\"><tspan id=\"tspan4631\" sodipodi:role=\"line\" x=\"275.70221\" y=\"328.20062\">frame-6-sidesway-force</tspan></text>\n",
       "  </g>\n",
       "</svg>"
      ],
      "text/plain": [
       "<IPython.core.display.SVG object>"
      ]
     },
     "execution_count": 1,
     "metadata": {},
     "output_type": "execute_result"
    }
   ],
   "source": [
    "from Frame2D import Frame2D\n",
    "from IPython import display\n",
    "display.SVG('data/frame-6-sidesway-force.d/frame-6-sidesway-force.svg')"
   ]
  },
  {
   "cell_type": "code",
   "execution_count": 2,
   "metadata": {
    "scrolled": false
   },
   "outputs": [
    {
     "name": "stdout",
     "output_type": "stream",
     "text": [
      "\n",
      "Frame frame-6-sidesway-force:\n",
      "=============================\n",
      "\n",
      "\n",
      "              # of nodal degrees of freedom: 12\n",
      "  # of constrained nodal degrees of freedom: 5\n",
      "# of unconstrained nodal degrees of freedom: 7  (= degree of kinematic indeterminacy)\n",
      "\n",
      "                               # of members: 3\n",
      "                             # of reactions: 5\n",
      "                                 # of nodes: 4\n",
      "                            # of conditions: 0\n",
      "           degree of statical indeterminacy: 2\n",
      "\n",
      "\n",
      "\n",
      "Nodes:\n",
      "======\n",
      "\n",
      "Node          X         Y  Constraints  DOF #s\n",
      "----      -----     -----  -----------  ------\n",
      "A             0         0  FX,FY,MZ     7,8,9\n",
      "B             0      4000               0,1,2\n",
      "C          8000      4000               3,4,5\n",
      "D          8000         0  FX,FY        10,11,6\n",
      "\n",
      "\n",
      "\n",
      "Members:\n",
      "========\n",
      "\n",
      "Member   Node-J  Node-K    Length       dcx       dcy  Size                Ix           A  Releases\n",
      "------   ------  ------    ------   -------   -------  --------      --------       -----  --------\n",
      "AB       A       B         4000.0   0.00000   1.00000  W310x97       2.22e+08       12300  \n",
      "BC       B       C         8000.0   1.00000   0.00000  W460x106      4.88e+08       13500  \n",
      "DC       D       C         4000.0   0.00000   1.00000                2.22e+08       12300  \n",
      "\n",
      "\n",
      "\n",
      "Node Loads:\n",
      "===========\n",
      "\n",
      "Type      Node      FX          FY          MZ\n",
      "----      ----  ----------  ----------  ----------\n",
      "wind      B        -100000           0           0\n",
      "\n",
      "Member Loads:\n",
      "=============\n",
      "\n",
      " - - - none - - -\n",
      "\n",
      "Support Displacements:\n",
      "======================\n",
      "\n",
      " - - - none - - -\n",
      "\n",
      "Load Combinations:\n",
      "==================\n",
      "\n",
      "Case   Type      Factor\n",
      "-----  ----      ------\n",
      "one    wind        1.00\n",
      "all    wind        1.00\n",
      "\n",
      "Results for load case: all\n",
      "++++++++++++++++++++++++++\n",
      "\n",
      "\n",
      "Node Displacements:\n",
      "===================\n",
      "\n",
      "Node        DX         DY      Rotation\n",
      "----      ------     ------   ---------\n",
      "A          0.000      0.000   0.0000000\n",
      "B        -13.883     -0.045   0.0022983\n",
      "C        -13.815      0.045   0.0007278\n",
      "D          0.000      0.000   0.0048169\n",
      "\n",
      "Reactions:\n",
      "==========\n",
      "\n",
      "Node        FX         FY         MZ  \n",
      "----     -------    -------    -------\n",
      "A         77.306     27.485   -180.123\n",
      "D         22.694    -27.485      --   \n",
      "\n",
      "Member End Forces:\n",
      "==================\n",
      "\n",
      "          /----- Axial -----/   /----- Shear -----/   /----- Moment ----/\n",
      "Member       FX J       FX K       FY J       FY K       MZ J       MZ K\n",
      "------     -------    -------    -------    -------    -------    -------\n",
      "AB          27.485    -27.485    -77.306     77.306   -180.123   -129.099\n",
      "BC         -22.694     22.694     27.485    -27.485    129.099     90.778\n",
      "DC         -27.485     27.485    -22.694     22.694      0.000    -90.778\n"
     ]
    }
   ],
   "source": [
    "f = Frame2D('frame-6-sidesway-force')\n",
    "f.input_all()\n",
    "f.print_input()\n",
    "R = f.solve()\n",
    "f.print_results(rs=R)"
   ]
  },
  {
   "cell_type": "markdown",
   "metadata": {},
   "source": [
    "### Lateral Stiffness\n",
    "Now compute the lateral stiffness, in N/mm, of the frame at node **B**."
   ]
  },
  {
   "cell_type": "code",
   "execution_count": 3,
   "metadata": {},
   "outputs": [
    {
     "data": {
      "text/plain": [
       "-13.882641121915128"
      ]
     },
     "execution_count": 3,
     "metadata": {},
     "output_type": "execute_result"
    }
   ],
   "source": [
    "R.node_displacements[0,0]   # lateral displacement"
   ]
  },
  {
   "cell_type": "code",
   "execution_count": 4,
   "metadata": {},
   "outputs": [
    {
     "data": {
      "text/plain": [
       "-7203.240300013234"
      ]
     },
     "execution_count": 4,
     "metadata": {},
     "output_type": "execute_result"
    }
   ],
   "source": [
    "100000./R.node_displacements[0,0]   # lateral stiffness"
   ]
  },
  {
   "cell_type": "code",
   "execution_count": null,
   "metadata": {},
   "outputs": [],
   "source": []
  }
 ],
 "metadata": {
  "kernelspec": {
   "display_name": "Python 3",
   "language": "python",
   "name": "python3"
  },
  "language_info": {
   "codemirror_mode": {
    "name": "ipython",
    "version": 3
   },
   "file_extension": ".py",
   "mimetype": "text/x-python",
   "name": "python",
   "nbconvert_exporter": "python",
   "pygments_lexer": "ipython3",
   "version": "3.6.3"
  },
  "widgets": {
   "state": {},
   "version": "1.1.1"
  }
 },
 "nbformat": 4,
 "nbformat_minor": 2
}
