{
 "cells": [
  {
   "cell_type": "markdown",
   "metadata": {},
   "source": [
    "### Notes for future improvements"
   ]
  },
  {
   "cell_type": "markdown",
   "metadata": {},
   "source": [
    "### Input files\n",
    "\n",
    "* Use one spreadsheet with one worksheet for each type of CSV file.\n",
    "\n",
    "* Add capability to read directly from spread sheet (one CSV file per worksheet).\n",
    "\n",
    "* Simple python tool to export worksheets intop CSV\n",
    "\n",
    "* Easy to provide spreadsheet template for new structures.\n",
    "\n",
    "* Allow worksheets containing images.\n",
    "\n",
    "* Python extension to run the analysis prog and import the results?"
   ]
  },
  {
   "cell_type": "markdown",
   "metadata": {},
   "source": [
    "#### Databases\n",
    "\n",
    "* use a database in addition to/in place of a spreadsheet."
   ]
  }
 ],
 "metadata": {
  "kernelspec": {
   "display_name": "Python 2",
   "language": "python",
   "name": "python2"
  },
  "language_info": {
   "codemirror_mode": {
    "name": "ipython",
    "version": 3
   },
   "file_extension": ".py",
   "mimetype": "text/x-python",
   "name": "python",
   "nbconvert_exporter": "python",
   "pygments_lexer": "ipython3",
   "version": "3.6.3"
  }
 },
 "nbformat": 4,
 "nbformat_minor": 2
}
