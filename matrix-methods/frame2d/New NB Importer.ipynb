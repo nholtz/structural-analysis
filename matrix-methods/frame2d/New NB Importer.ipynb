{
 "cells": [
  {
   "cell_type": "markdown",
   "metadata": {},
   "source": [
    "https://docs.python.org/3/reference/import.html\n",
    "\n",
    "https://docs.python.org/3/library/importlib.html"
   ]
  },
  {
   "cell_type": "code",
   "execution_count": 1,
   "metadata": {},
   "outputs": [],
   "source": [
    "import sys\n",
    "import importlib\n",
    "import os.path\n",
    "from IPython import get_ipython\n",
    "import nbformat\n",
    "import io\n",
    "import time\n",
    "\n",
    "NBVERSION = 4"
   ]
  },
  {
   "cell_type": "code",
   "execution_count": 2,
   "metadata": {},
   "outputs": [],
   "source": [
    "def compile_to_py(nb_path,py_path):\n",
    "\n",
    "    shell = get_ipython()\n",
    "\n",
    "    # load the notebook object\n",
    "    with io.open(nb_path, 'r', encoding='utf-8') as f:\n",
    "        nb = nbformat.read(f,NBVERSION)\n",
    "\n",
    "    with io.open(py_path,'w',encoding='utf-8') as pyf:\n",
    "        pyf.write(u'## Compiled from {} on {}\\n'.format(nb_path,time.ctime()))\n",
    "        for cell in nb['cells']:\n",
    "            if cell['cell_type'] == 'code':\n",
    "                # transform the input to executable Python\n",
    "                ##print (\"Source\",cell['source'])\n",
    "                ec = cell['execution_count']\n",
    "                code = shell.input_transformer_manager.transform_cell(cell['source'])\n",
    "                if code.startswith('##test:'):\n",
    "                    continue\n",
    "                if code.startswith('get_ipython().run_cell_magic('):\n",
    "                    continue\n",
    "                if code.startswith('## Test Section:'):\n",
    "                    pyf.write(u'\\n## Import ended by \"## Test Section:\"\\n')\n",
    "                    break\n",
    "                if code.startswith('#### End Import ####'):\n",
    "                    pyf.write(u'\\n## Import ended by \"#### End Import ####\"\\n')\n",
    "                    break\n",
    "\n",
    "                pyf.write(u'\\n')\n",
    "                pyf.write(u'## In [{}]:\\n'.format(' ' if ec is None else ec))\n",
    "                pyf.write(code)\n"
   ]
  },
  {
   "cell_type": "code",
   "execution_count": 3,
   "metadata": {},
   "outputs": [],
   "source": [
    "def must_compile(nb_path,py_path):\n",
    "    if not os.path.exists(py_path):\n",
    "        return True\n",
    "    nbt = os.path.getmtime(nb_path)\n",
    "    pyt = os.path.getmtime(py_path)\n",
    "    return pyt < nbt"
   ]
  },
  {
   "cell_type": "code",
   "execution_count": 48,
   "metadata": {},
   "outputs": [],
   "source": [
    "class NBFinder(importlib.abc.PathEntryFinder):\n",
    "    \n",
    "    DEBUG = False\n",
    "    \n",
    "    def find_spec(self,fullname,path,target=None):\n",
    "        if self.DEBUG:\n",
    "            print('find_spec:',fullname,path,target)\n",
    "        if path is None:\n",
    "            path = sys.path\n",
    "        modname = fullname.split('.')[-1]\n",
    "        filename = modname + '.ipynb'\n",
    "        for p in path:\n",
    "            fullpath = os.path.join(p,filename)\n",
    "            if os.path.isfile(fullpath):\n",
    "                if self.DEBUG:\n",
    "                    print('  found:',fullpath)\n",
    "                pypath = fullpath[:-5] + 'py'\n",
    "                if must_compile(fullpath,pypath):\n",
    "                    if self.DEBUG:\n",
    "                        print('  compiling to:',pypath)\n",
    "                    compile_to_py(fullpath,pypath)\n",
    "                loader = importlib.machinery.SourceFileLoader(fullname,pypath)\n",
    "                spec = importlib.machinery.ModuleSpec(fullname,loader,origin=pypath)\n",
    "                return spec\n",
    "        \n",
    "        return None\n",
    "    \n",
    "    pass\n",
    "__TheNBFinder = NBFinder()"
   ]
  },
  {
   "cell_type": "code",
   "execution_count": 49,
   "metadata": {},
   "outputs": [
    {
     "data": {
      "text/plain": [
       "[<__main__.NBFinder at 0x7f6962d104a8>,\n",
       " _frozen_importlib.FrozenImporter,\n",
       " _frozen_importlib_external.PathFinder,\n",
       " <six._SixMetaPathImporter at 0x7f697860f198>,\n",
       " <pkg_resources.extern.VendorImporter at 0x7f6976c9edd8>,\n",
       " <pkg_resources._vendor.six._SixMetaPathImporter at 0x7f6976c39b00>]"
      ]
     },
     "execution_count": 49,
     "metadata": {},
     "output_type": "execute_result"
    }
   ],
   "source": [
    "if __TheNBFinder not in sys.meta_path:\n",
    "    sys.meta_path[:1] = [__TheNBFinder]\n",
    "sys.meta_path"
   ]
  },
  {
   "cell_type": "code",
   "execution_count": 50,
   "metadata": {},
   "outputs": [
    {
     "name": "stdout",
     "output_type": "stream",
     "text": [
      "Frame2D.testnb deleted\n"
     ]
    }
   ],
   "source": [
    "mn = 'Frame2D.testnb'\n",
    "if mn in sys.modules:\n",
    "    del sys.modules[mn]\n",
    "    print(mn,'deleted')"
   ]
  },
  {
   "cell_type": "code",
   "execution_count": 51,
   "metadata": {},
   "outputs": [],
   "source": [
    "import Frame2D.testnb as tt"
   ]
  },
  {
   "cell_type": "code",
   "execution_count": 52,
   "metadata": {},
   "outputs": [
    {
     "data": {
      "text/plain": [
       "8421"
      ]
     },
     "execution_count": 52,
     "metadata": {},
     "output_type": "execute_result"
    }
   ],
   "source": [
    "tt.T"
   ]
  },
  {
   "cell_type": "code",
   "execution_count": 8,
   "metadata": {},
   "outputs": [],
   "source": [
    "from Frame2D import Frame2D"
   ]
  },
  {
   "cell_type": "code",
   "execution_count": 9,
   "metadata": {},
   "outputs": [
    {
     "data": {
      "text/plain": [
       "(True, False)"
      ]
     },
     "execution_count": 9,
     "metadata": {},
     "output_type": "execute_result"
    }
   ],
   "source": [
    "Frame2D"
   ]
  },
  {
   "cell_type": "code",
   "execution_count": 10,
   "metadata": {},
   "outputs": [],
   "source": [
    "from Frame2D import testnb"
   ]
  },
  {
   "cell_type": "code",
   "execution_count": 11,
   "metadata": {},
   "outputs": [
    {
     "data": {
      "text/plain": [
       "123"
      ]
     },
     "execution_count": 11,
     "metadata": {},
     "output_type": "execute_result"
    }
   ],
   "source": [
    "testnb.T"
   ]
  },
  {
   "cell_type": "code",
   "execution_count": 12,
   "metadata": {},
   "outputs": [
    {
     "name": "stdout",
     "output_type": "stream",
     "text": [
      "find_spec: othertest None None\n"
     ]
    }
   ],
   "source": [
    "import othertest"
   ]
  },
  {
   "cell_type": "code",
   "execution_count": 13,
   "metadata": {},
   "outputs": [
    {
     "data": {
      "text/plain": [
       "456"
      ]
     },
     "execution_count": 13,
     "metadata": {},
     "output_type": "execute_result"
    }
   ],
   "source": [
    "othertest.T"
   ]
  },
  {
   "cell_type": "code",
   "execution_count": 24,
   "metadata": {
    "scrolled": false
   },
   "outputs": [
    {
     "name": "stdout",
     "output_type": "stream",
     "text": [
      "find_spec: Frame2D.test ['/files/home/nholtz/work/git/structural-analysis/matrix-methods/frame2d/Frame2D'] None\n",
      "<__main__.NBFinder object at 0x7f6962ce2438> None\n",
      "<class '_frozen_importlib.FrozenImporter'> None\n",
      "<class '_frozen_importlib_external.PathFinder'> ModuleSpec(name='Frame2D.test', loader=<_frozen_importlib_external.SourceFileLoader object at 0x7f6970567550>, origin='/files/home/nholtz/work/git/structural-analysis/matrix-methods/frame2d/Frame2D/test.py')\n"
     ]
    }
   ],
   "source": [
    "p = ['/files/home/nholtz/work/git/structural-analysis/matrix-methods/frame2d/Frame2D']\n",
    "fn = 'Frame2D.test'\n",
    "for finder in sys.meta_path:\n",
    "    if hasattr(finder,'find_spec'):\n",
    "        s = finder.find_spec(fn,p)\n",
    "        print(finder,s)"
   ]
  },
  {
   "cell_type": "code",
   "execution_count": 28,
   "metadata": {},
   "outputs": [
    {
     "data": {
      "text/plain": [
       "'/files/home/nholtz/work/git/structural-analysis/matrix-methods/frame2d/Frame2D/test.py'"
      ]
     },
     "execution_count": 28,
     "metadata": {},
     "output_type": "execute_result"
    }
   ],
   "source": [
    "s.loader.path"
   ]
  },
  {
   "cell_type": "code",
   "execution_count": null,
   "metadata": {},
   "outputs": [],
   "source": []
  },
  {
   "cell_type": "code",
   "execution_count": null,
   "metadata": {},
   "outputs": [],
   "source": []
  }
 ],
 "metadata": {
  "kernelspec": {
   "display_name": "Python 3",
   "language": "python",
   "name": "python3"
  },
  "language_info": {
   "codemirror_mode": {
    "name": "ipython",
    "version": 3
   },
   "file_extension": ".py",
   "mimetype": "text/x-python",
   "name": "python",
   "nbconvert_exporter": "python",
   "pygments_lexer": "ipython3",
   "version": "3.6.3"
  }
 },
 "nbformat": 4,
 "nbformat_minor": 2
}
