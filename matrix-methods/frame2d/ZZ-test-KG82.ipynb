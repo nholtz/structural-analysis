{
 "cells": [
  {
   "cell_type": "markdown",
   "metadata": {},
   "source": [
    "### Kulak & Grondin Example 8.2\n",
    "This example is from \"*Limit States Design in Structural Steel*\", Ninth Edition, CISC, by Kulak and Grondin.\n",
    "It illustrates using the fictitious load method to determine second-order effects (i.e., the $P-\\Delta$ method)."
   ]
  },
  {
   "cell_type": "code",
   "execution_count": 1,
   "metadata": {
    "collapsed": false
   },
   "outputs": [
    {
     "name": "stdout",
     "output_type": "stream",
     "text": [
      "Compiling notebook 'Frame2D_Output.ipynb' to 'Frame2D_Output.py'.\n"
     ]
    }
   ],
   "source": [
    "from salib import extend, import_notebooks\n",
    "from Tables import Table\n",
    "from Frame2D import Frame2D"
   ]
  },
  {
   "cell_type": "markdown",
   "metadata": {
    "collapsed": true
   },
   "source": [
    "![Kulak & Grondin Example 8.2](data/KG82.d/KG82a.jpg)\n",
    "In order account for initial out-of-straightness and partial yielding, *notional* lateral loads \n",
    "equal to 0.005 times the factored gravity loads contributed by each level are added to each level \n",
    "(CSA S16-09 8.4.1).  At node **H** that will be $45 \\times (10+10.5+10) \\times 0.005 = 6.9\\ kN$ \n",
    "and at node **G** it is $55 \\times (10+10.5+10) \\times 0.005 = 8.4\\ kN$.  These notional loads \n",
    "will be included in addition to the lateral forces shown above."
   ]
  },
  {
   "cell_type": "code",
   "execution_count": 2,
   "metadata": {
    "collapsed": false
   },
   "outputs": [
    {
     "data": {
      "image/png": "[encoded data removed]",
      "text/plain": [
       "<matplotlib.figure.Figure at 0x7f28c8deb950>"
      ]
     },
     "metadata": {},
     "output_type": "display_data"
    }
   ],
   "source": [
    "f = Frame2D('KG82')\n",
    "f.input_all()\n",
    "\n",
    "%matplotlib inline\n",
    "f.show()"
   ]
  },
  {
   "cell_type": "code",
   "execution_count": 3,
   "metadata": {
    "collapsed": false,
    "scrolled": false
   },
   "outputs": [
    {
     "name": "stdout",
     "output_type": "stream",
     "text": [
      "\n",
      "Frame KG82:\n",
      "===========\n",
      "\n",
      "\n",
      "              # of nodal degrees of freedom: 36\n",
      "  # of constrained nodal degrees of freedom: 10\n",
      "# of unconstrained nodal degrees of freedom: 26  (= degree of kinematic indeterminacy)\n",
      "\n",
      "                               # of members: 14\n",
      "                             # of reactions: 10\n",
      "                                 # of nodes: 12\n",
      "                            # of conditions: 8\n",
      "           degree of statical indeterminacy: 8\n",
      "\n",
      "\n",
      "\n",
      "Nodes:\n",
      "======\n",
      "\n",
      "Node          X         Y  Constraints  DOF #s\n",
      "----      -----     -----  -----------  ------\n",
      "A         10000         0  FX,FY,MZ     26,27,28\n",
      "B         10000      6500               0,1,2\n",
      "C         10000     12000               3,4,5\n",
      "D         20500         0  FX,FY,MZ     29,30,31\n",
      "E         20500      6500               6,7,8\n",
      "F         20500     12000               9,10,11\n",
      "G         30500      6500               12,13,14\n",
      "H         30500     12000               15,16,17\n",
      "I         30500         0  FX,FY        32,33,18\n",
      "J             0         0  FX,FY        34,35,19\n",
      "K             0      6500               20,21,22\n",
      "L             0     12000               23,24,25\n",
      "\n",
      "\n",
      "\n",
      "Members:\n",
      "========\n",
      "\n",
      "Member   Node-J  Node-K    Length       dcx       dcy  Size                Ix           A  Releases\n",
      "------   ------  ------    ------   -------   -------  --------      --------       -----  --------\n",
      "AB       A       B         6500.0   0.00000   1.00000  W310x97       2.22e+08       12300  \n",
      "BC       B       C         5500.0   0.00000   1.00000                2.22e+08       12300  \n",
      "DE       D       E         6500.0   0.00000   1.00000                2.22e+08       12300  \n",
      "EF       E       F         5500.0   0.00000   1.00000                2.22e+08       12300  \n",
      "IG       I       G         6500.0   0.00000   1.00000                2.22e+08       12300  \n",
      "GH       G       H         5500.0   0.00000   1.00000                2.22e+08       12300  \n",
      "JK       J       K         6500.0   0.00000   1.00000                2.22e+08       12300  \n",
      "KL       K       L         5500.0   0.00000   1.00000                2.22e+08       12300  \n",
      "CF       C       F        10500.0   1.00000   0.00000                4.88e+08       13500  \n",
      "BE       B       E        10500.0   1.00000   0.00000  W460x106      4.88e+08       13500  \n",
      "FH       F       H        10000.0   1.00000   0.00000                4.88e+08       13500  MZJ,MZK\n",
      "EG       E       G        10000.0   1.00000   0.00000                4.88e+08       13500  MZJ,MZK\n",
      "KB       K       B        10000.0   1.00000   0.00000                4.88e+08       13500  MZJ,MZK\n",
      "LC       L       C        10000.0   1.00000   0.00000                4.88e+08       13500  MZJ,MZK\n",
      "\n",
      "\n",
      "\n",
      "Node Loads:\n",
      "===========\n",
      "\n",
      "Type      Node      FX          FY          MZ\n",
      "----      ----  ----------  ----------  ----------\n",
      "wind      H          15000           0           0\n",
      "wind      G          35000           0           0\n",
      "notional  H           6900           0           0\n",
      "notional  G           8400           0           0\n",
      "\n",
      "Member Loads:\n",
      "=============\n",
      "\n",
      "Type      Member  Load\n",
      "----      ------  ----------------\n",
      "live      LC      UDL(L=10000.0,w=-45)\n",
      "live      CF      UDL(L=10500.0,w=-45)\n",
      "live      FH      UDL(L=10000.0,w=-45)\n",
      "live      KB      UDL(L=10000.0,w=-55)\n",
      "live      BE      UDL(L=10500.0,w=-55)\n",
      "live      EG      UDL(L=10000.0,w=-55)\n",
      "\n",
      "Support Displacements:\n",
      "======================\n",
      "\n",
      " - - - none - - -\n",
      "\n",
      "Load Combinations:\n",
      "==================\n",
      "\n",
      "Case   Type      Factor\n",
      "-----  ----      ------\n",
      "all    live        1.00\n",
      " \"     notional    1.00\n",
      " \"     wind        1.00\n",
      "\n",
      "Results for load case: all\n",
      "++++++++++++++++++++++++++\n",
      "\n",
      "\n",
      "Node Displacements:\n",
      "===================\n",
      "\n",
      "Node        DX         DY      Rotation\n",
      "----      ------     ------   ---------\n",
      "A          0.000      0.000   0.0000000\n",
      "B         22.180     -2.628  -0.0071701\n",
      "C         34.685     -3.640  -0.0074115\n",
      "D          0.000      0.000   0.0000000\n",
      "E         22.532     -2.789   0.0030960\n",
      "F         34.332     -3.840   0.0057038\n",
      "G         22.674     -1.321  -0.0027559\n",
      "H         34.423     -1.824  -0.0018264\n",
      "I          0.000      0.000  -0.0038545\n",
      "J          0.000      0.000  -0.0037166\n",
      "K         22.165     -1.321  -0.0027967\n",
      "L         34.693     -1.824  -0.0020184\n",
      "\n",
      "Reactions:\n",
      "==========\n",
      "\n",
      "Node        FX         FY         MZ  \n",
      "----     -------    -------    -------\n",
      "A          2.178    994.654     41.900\n",
      "D        -63.236   1055.346    184.368\n",
      "I         -2.309    500.000      --   \n",
      "J         -1.933    500.000      --   \n",
      "\n",
      "Member End Forces:\n",
      "==================\n",
      "\n",
      "          /----- Axial -----/   /----- Shear -----/   /----- Moment ----/\n",
      "Member       FX J       FX K       FY J       FY K       MZ J       MZ K\n",
      "------     -------    -------    -------    -------    -------    -------\n",
      "AB         994.654   -994.654     -2.178      2.178     41.900    -56.055\n",
      "BC         452.382   -452.382    -88.371     88.371   -241.073   -244.970\n",
      "DE        1055.346  -1055.346     63.236    -63.236    184.368    226.664\n",
      "EF         470.118   -470.118    115.285   -115.285    295.981    338.086\n",
      "IG         500.000   -500.000      2.309     -2.309      0.000     15.008\n",
      "GH         225.000   -225.000     -2.729      2.729    -15.008      0.000\n",
      "JK         500.000   -500.000      1.933     -1.933      0.000     12.566\n",
      "KL         225.000   -225.000     -2.285      2.285    -12.566      0.000\n",
      "CF          90.656    -90.656    227.382    245.118    244.970   -338.086\n",
      "BE         -90.412     90.412    267.272    310.228    297.128   -522.645\n",
      "FH         -24.629     24.629    225.000    225.000      0.000      0.000\n",
      "EG         -38.362     38.362    275.000    275.000      0.000      0.000\n",
      "KB          -4.218      4.218    275.000    275.000      0.000      0.000\n",
      "LC           2.285     -2.285    225.000    225.000      0.000      0.000\n"
     ]
    }
   ],
   "source": [
    "R = f.solve()\n",
    "f.print_input()\n",
    "f.print_results(rs=R)"
   ]
  },
  {
   "cell_type": "markdown",
   "metadata": {},
   "source": [
    "The above are the results of a first-order analysis and should be compared with those shown in the following figure from Kulak & Grondin:\n",
    "\n",
    "![Frame](data/KG82.d/KG82b.jpg)\n",
    "\n",
    "### Compare book values (end bending moments)"
   ]
  },
  {
   "cell_type": "code",
   "execution_count": 4,
   "metadata": {
    "collapsed": false
   },
   "outputs": [
    {
     "data": {
      "text/html": [
       "<div>\n",
       "<table border=\"1\" class=\"dataframe\">\n",
       "  <thead>\n",
       "    <tr style=\"text-align: right;\">\n",
       "      <th></th>\n",
       "      <th>MZJ</th>\n",
       "      <th>MZK</th>\n",
       "    </tr>\n",
       "  </thead>\n",
       "  <tbody>\n",
       "    <tr>\n",
       "      <th>AB</th>\n",
       "      <td>44.2</td>\n",
       "      <td>-57.5</td>\n",
       "    </tr>\n",
       "    <tr>\n",
       "      <th>BC</th>\n",
       "      <td>-232.0</td>\n",
       "      <td>-236.0</td>\n",
       "    </tr>\n",
       "    <tr>\n",
       "      <th>BE</th>\n",
       "      <td>290.0</td>\n",
       "      <td>-515.0</td>\n",
       "    </tr>\n",
       "    <tr>\n",
       "      <th>CF</th>\n",
       "      <td>236.0</td>\n",
       "      <td>-330.0</td>\n",
       "    </tr>\n",
       "    <tr>\n",
       "      <th>DE</th>\n",
       "      <td>181.0</td>\n",
       "      <td>227.0</td>\n",
       "    </tr>\n",
       "    <tr>\n",
       "      <th>EF</th>\n",
       "      <td>287.0</td>\n",
       "      <td>330.0</td>\n",
       "    </tr>\n",
       "  </tbody>\n",
       "</table>\n",
       "</div>"
      ],
      "text/plain": [
       "      MZJ    MZK\n",
       "AB   44.2  -57.5\n",
       "BC -232.0 -236.0\n",
       "BE  290.0 -515.0\n",
       "CF  236.0 -330.0\n",
       "DE  181.0  227.0\n",
       "EF  287.0  330.0"
      ]
     },
     "execution_count": 4,
     "metadata": {},
     "output_type": "execute_result"
    }
   ],
   "source": [
    "import pandas as pd\n",
    "\n",
    "BM = [('AB',44.2,-57.5),    # values given on figure, above\n",
    "      ('BC',-232.,-236.),\n",
    "      ('DE',181.,227.),\n",
    "      ('EF',287.,330.),\n",
    "      ('BE',290.,-515.),\n",
    "      ('CF',236.,-330.)]\n",
    "\n",
    "BOOK = pd.DataFrame({m:{'MZJ':a,'MZK':b} for m,a,b in BM}).T\n",
    "BOOK"
   ]
  },
  {
   "cell_type": "code",
   "execution_count": 5,
   "metadata": {
    "collapsed": false
   },
   "outputs": [
    {
     "data": {
      "text/html": [
       "<div>\n",
       "<table border=\"1\" class=\"dataframe\">\n",
       "  <thead>\n",
       "    <tr style=\"text-align: right;\">\n",
       "      <th></th>\n",
       "      <th>MZJ</th>\n",
       "      <th>MZK</th>\n",
       "    </tr>\n",
       "  </thead>\n",
       "  <tbody>\n",
       "    <tr>\n",
       "      <th>AB</th>\n",
       "      <td>41.899586</td>\n",
       "      <td>-56.055426</td>\n",
       "    </tr>\n",
       "    <tr>\n",
       "      <th>BC</th>\n",
       "      <td>-241.072569</td>\n",
       "      <td>-244.969631</td>\n",
       "    </tr>\n",
       "    <tr>\n",
       "      <th>BE</th>\n",
       "      <td>297.127995</td>\n",
       "      <td>-522.644884</td>\n",
       "    </tr>\n",
       "    <tr>\n",
       "      <th>CF</th>\n",
       "      <td>244.969631</td>\n",
       "      <td>-338.085575</td>\n",
       "    </tr>\n",
       "    <tr>\n",
       "      <th>DE</th>\n",
       "      <td>184.367580</td>\n",
       "      <td>226.663606</td>\n",
       "    </tr>\n",
       "    <tr>\n",
       "      <th>EF</th>\n",
       "      <td>295.981278</td>\n",
       "      <td>338.085575</td>\n",
       "    </tr>\n",
       "  </tbody>\n",
       "</table>\n",
       "</div>"
      ],
      "text/plain": [
       "           MZJ         MZK\n",
       "AB   41.899586  -56.055426\n",
       "BC -241.072569 -244.969631\n",
       "BE  297.127995 -522.644884\n",
       "CF  244.969631 -338.085575\n",
       "DE  184.367580  226.663606\n",
       "EF  295.981278  338.085575"
      ]
     },
     "execution_count": 5,
     "metadata": {},
     "output_type": "execute_result"
    }
   ],
   "source": [
    "HERE = pd.DataFrame([(m.id,ef.m2/1e6,ef.m5/1e6) \n",
    "                     for m,ef in R.member_efs.items()],columns=['ID','MZJ','MZK']).set_index(['ID'])\n",
    "HERE = HERE.ix[BOOK.index]\n",
    "HERE"
   ]
  },
  {
   "cell_type": "markdown",
   "metadata": {},
   "source": [
    "#### % Difference in End Moments"
   ]
  },
  {
   "cell_type": "code",
   "execution_count": 6,
   "metadata": {
    "collapsed": false
   },
   "outputs": [
    {
     "data": {
      "text/html": [
       "<div>\n",
       "<table border=\"1\" class=\"dataframe\">\n",
       "  <thead>\n",
       "    <tr style=\"text-align: right;\">\n",
       "      <th></th>\n",
       "      <th>MZJ</th>\n",
       "      <th>MZK</th>\n",
       "    </tr>\n",
       "  </thead>\n",
       "  <tbody>\n",
       "    <tr>\n",
       "      <th>AB</th>\n",
       "      <td>-5.49</td>\n",
       "      <td>-2.58</td>\n",
       "    </tr>\n",
       "    <tr>\n",
       "      <th>BC</th>\n",
       "      <td>3.76</td>\n",
       "      <td>3.66</td>\n",
       "    </tr>\n",
       "    <tr>\n",
       "      <th>BE</th>\n",
       "      <td>2.40</td>\n",
       "      <td>1.46</td>\n",
       "    </tr>\n",
       "    <tr>\n",
       "      <th>CF</th>\n",
       "      <td>3.66</td>\n",
       "      <td>2.39</td>\n",
       "    </tr>\n",
       "    <tr>\n",
       "      <th>DE</th>\n",
       "      <td>1.83</td>\n",
       "      <td>-0.15</td>\n",
       "    </tr>\n",
       "    <tr>\n",
       "      <th>EF</th>\n",
       "      <td>3.03</td>\n",
       "      <td>2.39</td>\n",
       "    </tr>\n",
       "  </tbody>\n",
       "</table>\n",
       "</div>"
      ],
      "text/plain": [
       "     MZJ   MZK\n",
       "AB -5.49 -2.58\n",
       "BC  3.76  3.66\n",
       "BE  2.40  1.46\n",
       "CF  3.66  2.39\n",
       "DE  1.83 -0.15\n",
       "EF  3.03  2.39"
      ]
     },
     "execution_count": 6,
     "metadata": {},
     "output_type": "execute_result"
    }
   ],
   "source": [
    "(100*(HERE-BOOK)/HERE).round(2)"
   ]
  },
  {
   "cell_type": "markdown",
   "metadata": {},
   "source": [
    "Max. difference is 5.5%, which I think is a little large.\n",
    "\n",
    "### Compare Reactions"
   ]
  },
  {
   "cell_type": "code",
   "execution_count": 7,
   "metadata": {
    "collapsed": false
   },
   "outputs": [
    {
     "data": {
      "text/html": [
       "<div>\n",
       "<table border=\"1\" class=\"dataframe\">\n",
       "  <thead>\n",
       "    <tr style=\"text-align: right;\">\n",
       "      <th></th>\n",
       "      <th>FY</th>\n",
       "    </tr>\n",
       "    <tr>\n",
       "      <th>ID</th>\n",
       "      <th></th>\n",
       "    </tr>\n",
       "  </thead>\n",
       "  <tbody>\n",
       "    <tr>\n",
       "      <th>A</th>\n",
       "      <td>994.654016</td>\n",
       "    </tr>\n",
       "    <tr>\n",
       "      <th>D</th>\n",
       "      <td>1055.345984</td>\n",
       "    </tr>\n",
       "    <tr>\n",
       "      <th>I</th>\n",
       "      <td>500.000000</td>\n",
       "    </tr>\n",
       "    <tr>\n",
       "      <th>J</th>\n",
       "      <td>500.000000</td>\n",
       "    </tr>\n",
       "  </tbody>\n",
       "</table>\n",
       "</div>"
      ],
      "text/plain": [
       "             FY\n",
       "ID             \n",
       "A    994.654016\n",
       "D   1055.345984\n",
       "I    500.000000\n",
       "J    500.000000"
      ]
     },
     "execution_count": 7,
     "metadata": {},
     "output_type": "execute_result"
    }
   ],
   "source": [
    "REAC = pd.DataFrame(f.list_reaction_forces(R),columns=['ID','FX','FY','MZ']).set_index(['ID'])\n",
    "REAC[['FY']]/1E3"
   ]
  },
  {
   "cell_type": "markdown",
   "metadata": {},
   "source": [
    "The reactions agree very closely.\n",
    "## $P-\\Delta$ Analysis"
   ]
  },
  {
   "cell_type": "code",
   "execution_count": 8,
   "metadata": {
    "collapsed": false
   },
   "outputs": [
    {
     "name": "stdout",
     "output_type": "stream",
     "text": [
      "iter=1, max D=40.0705905519, max chg=5.37754613514, max % chg=13.4201818867\n",
      "iter=2, max D=40.9144007916, max chg=0.843834955693, max % chg=2.06243997069\n",
      "iter=3, max D=41.0471570086, max chg=0.132760379933, max % chg=0.323433800557\n",
      "iter=4, max D=41.0680614969, max chg=0.0209051473164, max % chg=0.0509036622484\n",
      "iter=5, max D=41.0713541602, max chg=0.00329276702251, max % chg=0.00801718640606\n",
      "\n",
      "\n",
      "Results for load case: all\n",
      "++++++++++++++++++++++++++\n",
      "\n",
      "\n",
      "Node Displacements:\n",
      "===================\n",
      "\n",
      "Node        DX         DY      Rotation\n",
      "----      ------     ------   ---------\n",
      "A          0.000      0.000   0.0000000\n",
      "B         26.392     -2.614  -0.0075457\n",
      "C         41.059     -3.622  -0.0075611\n",
      "D          0.000      0.000   0.0000000\n",
      "E         26.745     -2.803   0.0027204\n",
      "F         40.706     -3.858   0.0055544\n",
      "G         26.889     -1.321  -0.0032662\n",
      "H         40.801     -1.824  -0.0021613\n",
      "I          0.000      0.000  -0.0045720\n",
      "J          0.000      0.000  -0.0044338\n",
      "K         26.378     -1.321  -0.0033071\n",
      "L         41.071     -1.824  -0.0023537\n",
      "\n",
      "P-Delta Node Forces:\n",
      "====================\n",
      "\n",
      "Node        FX         FY         MZ  \n",
      "----     -------    -------    -------\n",
      "B          2.814      0.000   0.0000000\n",
      "C          1.202      0.000   0.0000000\n",
      "E          3.167      0.000   0.0000000\n",
      "F          1.197      0.000   0.0000000\n",
      "G          1.499      0.000   0.0000000\n",
      "H          0.569      0.000   0.0000000\n",
      "K          1.428      0.000   0.0000000\n",
      "L          0.601      0.000   0.0000000\n",
      "\n",
      "Reactions:\n",
      "==========\n",
      "\n",
      "Node        FX         FY         MZ  \n",
      "----     -------    -------    -------\n",
      "A         -3.625    989.141     63.325\n",
      "D        -69.040   1060.859    205.798\n",
      "I         -2.744    500.000      --   \n",
      "J         -2.368    500.000      --   \n",
      "\n",
      "Member End Forces:\n",
      "==================\n",
      "\n",
      "          /----- Axial -----/   /----- Shear -----/   /----- Moment ----/\n",
      "Member       FX J       FX K       FY J       FY K       MZ J       MZ K\n",
      "------     -------    -------    -------    -------    -------    -------\n",
      "AB         989.141   -989.141      3.625     -3.625     63.325    -39.762\n",
      "BC         450.830   -450.830    -86.072     86.072   -236.573   -236.821\n",
      "DE        1060.859  -1060.859     69.040    -69.040    205.798    242.962\n",
      "EF         471.670   -471.670    117.583   -117.583    300.476    346.232\n",
      "IG         500.000   -500.000      2.744     -2.744     -0.000     17.839\n",
      "GH         225.000   -225.000     -3.243      3.243    -17.839      0.000\n",
      "JK         500.000   -500.000      2.368     -2.368      0.000     15.393\n",
      "KL         225.000   -225.000     -2.799      2.799    -15.393      0.000\n",
      "CF          90.673    -90.673    225.830    246.670    236.821   -346.232\n",
      "BE         -90.622     90.622    263.312    314.188    276.335   -543.438\n",
      "FH         -25.713     25.713    225.000    225.000      0.000      0.000\n",
      "EG         -38.911     38.911    275.000    275.000      0.000      0.000\n",
      "KB          -3.739      3.739    275.000    275.000      0.000      0.000\n",
      "LC           3.400     -3.400    225.000    225.000      0.000      0.000\n"
     ]
    }
   ],
   "source": [
    "f.reset()\n",
    "f.input_all()\n",
    "rs = f.solve(pdelta=True)\n",
    "f.print_results(rs)\n",
    "f.write_results(f.dsname,rs)"
   ]
  },
  {
   "cell_type": "markdown",
   "metadata": {},
   "source": [
    "The above are the results of a second-order ($P-\\Delta$) analysis and should be compared with the following figure from Kulak & Grondin:\n",
    "\n",
    "![Final P-Delta Result](data/KG82.d/KG82c.jpg)"
   ]
  },
  {
   "cell_type": "code",
   "execution_count": 9,
   "metadata": {
    "collapsed": false
   },
   "outputs": [
    {
     "data": {
      "text/html": [
       "<div>\n",
       "<table border=\"1\" class=\"dataframe\">\n",
       "  <thead>\n",
       "    <tr style=\"text-align: right;\">\n",
       "      <th></th>\n",
       "      <th>MZJ</th>\n",
       "      <th>MZK</th>\n",
       "    </tr>\n",
       "  </thead>\n",
       "  <tbody>\n",
       "    <tr>\n",
       "      <th>AB</th>\n",
       "      <td>64.0</td>\n",
       "      <td>-39.2</td>\n",
       "    </tr>\n",
       "    <tr>\n",
       "      <th>BC</th>\n",
       "      <td>-236.0</td>\n",
       "      <td>-237.0</td>\n",
       "    </tr>\n",
       "    <tr>\n",
       "      <th>BE</th>\n",
       "      <td>276.0</td>\n",
       "      <td>-544.0</td>\n",
       "    </tr>\n",
       "    <tr>\n",
       "      <th>CF</th>\n",
       "      <td>237.0</td>\n",
       "      <td>-347.0</td>\n",
       "    </tr>\n",
       "    <tr>\n",
       "      <th>DE</th>\n",
       "      <td>207.0</td>\n",
       "      <td>244.0</td>\n",
       "    </tr>\n",
       "    <tr>\n",
       "      <th>EF</th>\n",
       "      <td>301.0</td>\n",
       "      <td>347.0</td>\n",
       "    </tr>\n",
       "  </tbody>\n",
       "</table>\n",
       "</div>"
      ],
      "text/plain": [
       "      MZJ    MZK\n",
       "AB   64.0  -39.2\n",
       "BC -236.0 -237.0\n",
       "BE  276.0 -544.0\n",
       "CF  237.0 -347.0\n",
       "DE  207.0  244.0\n",
       "EF  301.0  347.0"
      ]
     },
     "execution_count": 9,
     "metadata": {},
     "output_type": "execute_result"
    }
   ],
   "source": [
    "import pandas as pd\n",
    "\n",
    "BM = [('AB',64.0,-39.2),    # values given on gigure, above\n",
    "      ('BC',-236.,-237.),\n",
    "      ('DE',207.,244.),\n",
    "      ('EF',301.,347.),\n",
    "      ('BE',276.,-544.),\n",
    "      ('CF',237.,-347.)]\n",
    "\n",
    "BOOK = pd.DataFrame({m:{'MZJ':a,'MZK':b} for m,a,b in BM}).T\n",
    "BOOK"
   ]
  },
  {
   "cell_type": "code",
   "execution_count": 10,
   "metadata": {
    "collapsed": false
   },
   "outputs": [
    {
     "data": {
      "text/html": [
       "<div>\n",
       "<table border=\"1\" class=\"dataframe\">\n",
       "  <thead>\n",
       "    <tr style=\"text-align: right;\">\n",
       "      <th></th>\n",
       "      <th>MZJ</th>\n",
       "      <th>MZK</th>\n",
       "    </tr>\n",
       "  </thead>\n",
       "  <tbody>\n",
       "    <tr>\n",
       "      <th>AB</th>\n",
       "      <td>63.324512</td>\n",
       "      <td>-39.761879</td>\n",
       "    </tr>\n",
       "    <tr>\n",
       "      <th>BC</th>\n",
       "      <td>-236.572716</td>\n",
       "      <td>-236.820752</td>\n",
       "    </tr>\n",
       "    <tr>\n",
       "      <th>BE</th>\n",
       "      <td>276.334595</td>\n",
       "      <td>-543.438243</td>\n",
       "    </tr>\n",
       "    <tr>\n",
       "      <th>CF</th>\n",
       "      <td>236.820752</td>\n",
       "      <td>-346.231622</td>\n",
       "    </tr>\n",
       "    <tr>\n",
       "      <th>DE</th>\n",
       "      <td>205.797688</td>\n",
       "      <td>242.962366</td>\n",
       "    </tr>\n",
       "    <tr>\n",
       "      <th>EF</th>\n",
       "      <td>300.475876</td>\n",
       "      <td>346.231622</td>\n",
       "    </tr>\n",
       "  </tbody>\n",
       "</table>\n",
       "</div>"
      ],
      "text/plain": [
       "           MZJ         MZK\n",
       "AB   63.324512  -39.761879\n",
       "BC -236.572716 -236.820752\n",
       "BE  276.334595 -543.438243\n",
       "CF  236.820752 -346.231622\n",
       "DE  205.797688  242.962366\n",
       "EF  300.475876  346.231622"
      ]
     },
     "execution_count": 10,
     "metadata": {},
     "output_type": "execute_result"
    }
   ],
   "source": [
    "HERE = pd.DataFrame([(m.id,ef.m2/1e6,ef.m5/1e6) \n",
    "                     for m,ef in rs.member_efs.items()],columns=['ID','MZJ','MZK']).set_index(['ID'])\n",
    "HERE = HERE.ix[BOOK.index]\n",
    "HERE"
   ]
  },
  {
   "cell_type": "markdown",
   "metadata": {},
   "source": [
    "#### % Difference in End Moments"
   ]
  },
  {
   "cell_type": "code",
   "execution_count": 11,
   "metadata": {
    "collapsed": false
   },
   "outputs": [
    {
     "data": {
      "text/html": [
       "<div>\n",
       "<table border=\"1\" class=\"dataframe\">\n",
       "  <thead>\n",
       "    <tr style=\"text-align: right;\">\n",
       "      <th></th>\n",
       "      <th>MZJ</th>\n",
       "      <th>MZK</th>\n",
       "    </tr>\n",
       "  </thead>\n",
       "  <tbody>\n",
       "    <tr>\n",
       "      <th>AB</th>\n",
       "      <td>-1.07</td>\n",
       "      <td>1.41</td>\n",
       "    </tr>\n",
       "    <tr>\n",
       "      <th>BC</th>\n",
       "      <td>0.24</td>\n",
       "      <td>-0.08</td>\n",
       "    </tr>\n",
       "    <tr>\n",
       "      <th>BE</th>\n",
       "      <td>0.12</td>\n",
       "      <td>-0.10</td>\n",
       "    </tr>\n",
       "    <tr>\n",
       "      <th>CF</th>\n",
       "      <td>-0.08</td>\n",
       "      <td>-0.22</td>\n",
       "    </tr>\n",
       "    <tr>\n",
       "      <th>DE</th>\n",
       "      <td>-0.58</td>\n",
       "      <td>-0.43</td>\n",
       "    </tr>\n",
       "    <tr>\n",
       "      <th>EF</th>\n",
       "      <td>-0.17</td>\n",
       "      <td>-0.22</td>\n",
       "    </tr>\n",
       "  </tbody>\n",
       "</table>\n",
       "</div>"
      ],
      "text/plain": [
       "     MZJ   MZK\n",
       "AB -1.07  1.41\n",
       "BC  0.24 -0.08\n",
       "BE  0.12 -0.10\n",
       "CF -0.08 -0.22\n",
       "DE -0.58 -0.43\n",
       "EF -0.17 -0.22"
      ]
     },
     "execution_count": 11,
     "metadata": {},
     "output_type": "execute_result"
    }
   ],
   "source": [
    "(100*(HERE-BOOK)/HERE).round(2)"
   ]
  },
  {
   "cell_type": "markdown",
   "metadata": {},
   "source": [
    "Max. difference is 1.4%, which is much better and is actually quite decent."
   ]
  }
 ],
 "metadata": {
  "kernelspec": {
   "display_name": "Python 2",
   "language": "python",
   "name": "python2"
  },
  "language_info": {
   "codemirror_mode": {
    "name": "ipython",
    "version": 2
   },
   "file_extension": ".py",
   "mimetype": "text/x-python",
   "name": "python",
   "nbconvert_exporter": "python",
   "pygments_lexer": "ipython2",
   "version": "2.7.6"
  },
  "widgets": {
   "state": {},
   "version": "1.1.1"
  }
 },
 "nbformat": 4,
 "nbformat_minor": 0
}
