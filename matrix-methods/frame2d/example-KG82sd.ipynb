{
 "cells": [
  {
   "cell_type": "markdown",
   "metadata": {},
   "source": [
    "### Kulak & Grondin Example 8.2\n",
    "This example is from \"*Limit States Design in Structural Steel*\", Ninth Edition, CISC, by Kulak and Grondin.\n",
    "This example is slightly modified in order to compare the results with \n",
    "[that obtained](../../slope-deflection/KG-Example-8.2.ipynb) using\n",
    "the method of slope-deflection.  The modifications\n",
    "to the model are:\n",
    "* a pin is inserted at the top of columns JK and IG, with the result that column stacks JKL and IGH\n",
    "offer no lateral resistance (in the original K&G example, the columns are continuous and there is a very\n",
    "small horizontal reaction at the base of those two columns).\n",
    "* the cross-sectional areas of all members are made very large so as to make axial\n",
    "changes in length neglible."
   ]
  },
  {
   "cell_type": "code",
   "execution_count": 1,
   "metadata": {
    "collapsed": false
   },
   "outputs": [],
   "source": [
    "from salib import showImage\n",
    "import salib.nbloader\n",
    "import Frame2D_v03 as f2d"
   ]
  },
  {
   "cell_type": "markdown",
   "metadata": {
    "collapsed": false
   },
   "source": [
    "![Frame](KG82.d/KG82a.jpg)\n",
    "The *notional* lateral loads of 6.9 kN at node **H** and 8.4 kN at node **G**\n",
    "are added as [before](example-KG82.ipynb)."
   ]
  },
  {
   "cell_type": "code",
   "execution_count": 2,
   "metadata": {
    "collapsed": false
   },
   "outputs": [],
   "source": [
    "frame = f2d.Frame2D()\n",
    "frame.loadStructuralData('KG82sd')   # read the CSV files in directory 'KG82sd.d'"
   ]
  },
  {
   "cell_type": "code",
   "execution_count": 3,
   "metadata": {
    "collapsed": false,
    "scrolled": false
   },
   "outputs": [
    {
     "name": "stdout",
     "output_type": "stream",
     "text": [
      "\n",
      "Time to solve = 0.01 sec.\n",
      "\n",
      "ndof = 36, nfree = 26, nconstraints = 10\n",
      "\n",
      "\n",
      "\n",
      "Nodes:\n",
      "======\n",
      "\n",
      "Node          X         Y  Constraints  DOF #s\n",
      "----      -----     -----  -----------  ------\n",
      "A         10000         0  FX,FY,MZ     26,27,28\n",
      "B         10000      6500               0,1,2\n",
      "C         10000     12000               3,4,5\n",
      "D         20500         0  FX,FY,MZ     29,30,31\n",
      "E         20500      6500               6,7,8\n",
      "F         20500     12000               9,10,11\n",
      "G         30500      6500               12,13,14\n",
      "H         30500     12000               15,16,17\n",
      "I         30500         0  FX,FY        32,33,18\n",
      "J             0         0  FX,FY        34,35,19\n",
      "K             0      6500               20,21,22\n",
      "L             0     12000               23,24,25\n",
      "\n",
      "\n",
      "\n",
      "Members:\n",
      "========\n",
      "\n",
      "Member   Node-J  Node-K    Length       dcx       dcy  Size                Ix           A  Releases\n",
      "------   ------  ------    ------   -------   -------  --------      --------       -----  --------\n",
      "AB       A       B         6500.0   0.00000   1.00000  W310x97       2.22e+08       1e+10  \n",
      "BC       B       C         5500.0   0.00000   1.00000                2.22e+08       1e+10  \n",
      "DE       D       E         6500.0   0.00000   1.00000                2.22e+08       1e+10  \n",
      "EF       E       F         5500.0   0.00000   1.00000                2.22e+08       1e+10  \n",
      "IG       I       G         6500.0   0.00000   1.00000                2.22e+08       1e+10  MZK\n",
      "GH       G       H         5500.0   0.00000   1.00000                2.22e+08       1e+10  \n",
      "JK       J       K         6500.0   0.00000   1.00000                2.22e+08       1e+10  MZK\n",
      "KL       K       L         5500.0   0.00000   1.00000                2.22e+08       1e+10  \n",
      "CF       C       F        10500.0   1.00000   0.00000                4.88e+08       1e+10  \n",
      "BE       B       E        10500.0   1.00000   0.00000  W460x106      4.88e+08       1e+10  \n",
      "FH       F       H        10000.0   1.00000   0.00000                4.88e+08       1e+10  MZJ,MZK\n",
      "EG       E       G        10000.0   1.00000   0.00000                4.88e+08       1e+10  MZJ,MZK\n",
      "KB       K       B        10000.0   1.00000   0.00000                4.88e+08       1e+10  MZJ,MZK\n",
      "LC       L       C        10000.0   1.00000   0.00000                4.88e+08       1e+10  MZJ,MZK\n",
      "\n",
      "\n",
      "\n",
      "Node Loads:\n",
      "===========\n",
      "\n",
      "Node  Dirn     Load\n",
      "----  ----    -----\n",
      "G     FX      43400\n",
      "H     FX      21900\n",
      "\n",
      "Member Loads:\n",
      "=============\n",
      "\n",
      "Member  Load\n",
      "------  ----------------\n",
      "CF      UDL(L=10500.0,W1=-45)\n",
      "BE      UDL(L=10500.0,W1=-55)\n",
      "FH      UDL(L=10000.0,W1=-45)\n",
      "EG      UDL(L=10000.0,W1=-55)\n",
      "KB      UDL(L=10000.0,W1=-55)\n",
      "LC      UDL(L=10000.0,W1=-45)\n",
      "\n",
      "\n",
      "\n",
      "Node Displacements:\n",
      "===================\n",
      "\n",
      "Node        DX         DY      Rotation\n",
      "----      ------     ------   ---------\n",
      "A          0.000      0.000   0.0000000\n",
      "B         23.363     -0.000  -0.0071297\n",
      "C         34.307     -0.000  -0.0072270\n",
      "D          0.000      0.000   0.0000000\n",
      "E         23.363     -0.000   0.0031089\n",
      "F         34.307     -0.000   0.0057752\n",
      "G         23.363     -0.000  -0.0019898\n",
      "H         34.307     -0.000  -0.0019898\n",
      "I          0.000      0.000  -0.0035943\n",
      "J          0.000      0.000  -0.0035943\n",
      "K         23.363     -0.000  -0.0019898\n",
      "L         34.307     -0.000  -0.0019898\n",
      "\n",
      "\n",
      "\n",
      "Reactions:\n",
      "==========\n",
      "\n",
      "Node        FX         FY         MZ  \n",
      "----     -------    -------    -------\n",
      "A         -0.371    995.932     49.908\n",
      "D        -64.929   1054.068    189.782\n",
      "I         -0.000    500.000      --   \n",
      "J          0.000    500.000      --   \n",
      "\n",
      "\n",
      "\n",
      "Member End Forces:\n",
      "==================\n",
      "\n",
      "          /----- Axial -----/   /----- Shear -----/   /----- Moment ----/\n",
      "Member       FX J       FX K       FY J       FY K       MZ J       MZ K\n",
      "------     -------    -------    -------    -------    -------    -------\n",
      "AB         995.932   -995.932      0.371     -0.371     49.908    -47.494\n",
      "BC         453.539   -453.539    -91.386     91.386   -250.526   -252.097\n",
      "DE        1054.068  -1054.068     64.929    -64.929    189.782    232.254\n",
      "EF         468.961   -468.961    113.286   -113.286    290.012    333.061\n",
      "IG         500.000   -500.000      0.000     -0.000      0.000      0.000\n",
      "GH         225.000   -225.000      0.000     -0.000      0.000      0.000\n",
      "JK         500.000   -500.000      0.000      0.000      0.000      0.000\n",
      "KL         225.000   -225.000      0.000     -0.000      0.000      0.000\n",
      "CF          91.386    -91.386    228.539    243.961    252.097   -333.061\n",
      "BE         -91.757     91.757    267.393    310.107    298.020   -522.266\n",
      "FH         -21.900     21.900    225.000    225.000      0.000      0.000\n",
      "EG         -43.400     43.400    275.000    275.000      0.000      0.000\n",
      "KB           0.000      0.000    275.000    275.000      0.000      0.000\n",
      "LC           0.000      0.000    225.000    225.000      0.000      0.000\n"
     ]
    }
   ],
   "source": [
    "frame.doall()\n",
    "frame.saveStructuralData('KG82sd')"
   ]
  },
  {
   "cell_type": "markdown",
   "metadata": {},
   "source": [
    "### Compare with results from slope-deflection"
   ]
  },
  {
   "cell_type": "code",
   "execution_count": 4,
   "metadata": {
    "collapsed": false
   },
   "outputs": [
    {
     "data": {
      "text/html": [
       "<div>\n",
       "<table border=\"1\" class=\"dataframe\">\n",
       "  <thead>\n",
       "    <tr style=\"text-align: right;\">\n",
       "      <th></th>\n",
       "      <th>MZJ</th>\n",
       "      <th>MZK</th>\n",
       "    </tr>\n",
       "  </thead>\n",
       "  <tbody>\n",
       "    <tr>\n",
       "      <th>AB</th>\n",
       "      <td>49.908018</td>\n",
       "      <td>-47.494140</td>\n",
       "    </tr>\n",
       "    <tr>\n",
       "      <th>BC</th>\n",
       "      <td>-250.526060</td>\n",
       "      <td>-252.096858</td>\n",
       "    </tr>\n",
       "    <tr>\n",
       "      <th>BE</th>\n",
       "      <td>298.020200</td>\n",
       "      <td>-522.265639</td>\n",
       "    </tr>\n",
       "    <tr>\n",
       "      <th>CF</th>\n",
       "      <td>252.096858</td>\n",
       "      <td>-333.061301</td>\n",
       "    </tr>\n",
       "    <tr>\n",
       "      <th>DE</th>\n",
       "      <td>189.782099</td>\n",
       "      <td>232.254022</td>\n",
       "    </tr>\n",
       "    <tr>\n",
       "      <th>EF</th>\n",
       "      <td>290.011617</td>\n",
       "      <td>333.061301</td>\n",
       "    </tr>\n",
       "  </tbody>\n",
       "</table>\n",
       "</div>"
      ],
      "text/plain": [
       "           MZJ         MZK\n",
       "AB   49.908018  -47.494140\n",
       "BC -250.526060 -252.096858\n",
       "BE  298.020200 -522.265639\n",
       "CF  252.096858 -333.061301\n",
       "DE  189.782099  232.254022\n",
       "EF  290.011617  333.061301"
      ]
     },
     "execution_count": 4,
     "metadata": {},
     "output_type": "execute_result"
    }
   ],
   "source": [
    "import pandas as pd\n",
    "\n",
    "BM = [('AB', -49.9080183705027, 47.4941396356060),   # results from method of slope deflection\n",
    "     ('BC', 250.526060428376, 252.096857589821),\n",
    "     ('DE', -189.782099213905, -232.254022051198),\n",
    "     ('EF', -290.011616822927, -333.061301195269),\n",
    "     ('BE', -298.020200063982, 522.265638874126),\n",
    "     ('CF', -252.096857589821, 333.061301195269)]\n",
    "\n",
    "SD = pd.DataFrame({m:{'MZJ':-a,'MZK':-b} for m,a,b in BM}).T\n",
    "SD"
   ]
  },
  {
   "cell_type": "code",
   "execution_count": 5,
   "metadata": {
    "collapsed": false
   },
   "outputs": [
    {
     "data": {
      "text/html": [
       "<div>\n",
       "<table border=\"1\" class=\"dataframe\">\n",
       "  <thead>\n",
       "    <tr style=\"text-align: right;\">\n",
       "      <th></th>\n",
       "      <th>FXJ</th>\n",
       "      <th>FYJ</th>\n",
       "      <th>MZJ</th>\n",
       "      <th>FXK</th>\n",
       "      <th>FYK</th>\n",
       "      <th>MZK</th>\n",
       "    </tr>\n",
       "  </thead>\n",
       "  <tbody>\n",
       "    <tr>\n",
       "      <th>AB</th>\n",
       "      <td>995932.392434</td>\n",
       "      <td>371.365815</td>\n",
       "      <td>4.990802e+07</td>\n",
       "      <td>-995932.392434</td>\n",
       "      <td>-371.365815</td>\n",
       "      <td>-4.749414e+07</td>\n",
       "    </tr>\n",
       "    <tr>\n",
       "      <th>BC</th>\n",
       "      <td>453539.100854</td>\n",
       "      <td>-91385.984914</td>\n",
       "      <td>-2.505261e+08</td>\n",
       "      <td>-453539.100854</td>\n",
       "      <td>91385.984914</td>\n",
       "      <td>-2.520969e+08</td>\n",
       "    </tr>\n",
       "    <tr>\n",
       "      <th>BE</th>\n",
       "      <td>-91757.350586</td>\n",
       "      <td>267393.291580</td>\n",
       "      <td>2.980202e+08</td>\n",
       "      <td>91757.350586</td>\n",
       "      <td>310106.708420</td>\n",
       "      <td>-5.222656e+08</td>\n",
       "    </tr>\n",
       "    <tr>\n",
       "      <th>CF</th>\n",
       "      <td>91385.983398</td>\n",
       "      <td>228539.100854</td>\n",
       "      <td>2.520969e+08</td>\n",
       "      <td>-91385.983398</td>\n",
       "      <td>243960.899146</td>\n",
       "      <td>-3.330613e+08</td>\n",
       "    </tr>\n",
       "    <tr>\n",
       "      <th>DE</th>\n",
       "      <td>1054067.607566</td>\n",
       "      <td>64928.635068</td>\n",
       "      <td>1.897821e+08</td>\n",
       "      <td>-1054067.607566</td>\n",
       "      <td>-64928.635068</td>\n",
       "      <td>2.322540e+08</td>\n",
       "    </tr>\n",
       "    <tr>\n",
       "      <th>EF</th>\n",
       "      <td>468960.899146</td>\n",
       "      <td>113285.983887</td>\n",
       "      <td>2.900116e+08</td>\n",
       "      <td>-468960.899146</td>\n",
       "      <td>-113285.983887</td>\n",
       "      <td>3.330613e+08</td>\n",
       "    </tr>\n",
       "  </tbody>\n",
       "</table>\n",
       "</div>"
      ],
      "text/plain": [
       "               FXJ            FYJ           MZJ             FXK  \\\n",
       "AB   995932.392434     371.365815  4.990802e+07  -995932.392434   \n",
       "BC   453539.100854  -91385.984914 -2.505261e+08  -453539.100854   \n",
       "BE   -91757.350586  267393.291580  2.980202e+08    91757.350586   \n",
       "CF    91385.983398  228539.100854  2.520969e+08   -91385.983398   \n",
       "DE  1054067.607566   64928.635068  1.897821e+08 -1054067.607566   \n",
       "EF   468960.899146  113285.983887  2.900116e+08  -468960.899146   \n",
       "\n",
       "              FYK           MZK  \n",
       "AB    -371.365815 -4.749414e+07  \n",
       "BC   91385.984914 -2.520969e+08  \n",
       "BE  310106.708420 -5.222656e+08  \n",
       "CF  243960.899146 -3.330613e+08  \n",
       "DE  -64928.635068  2.322540e+08  \n",
       "EF -113285.983887  3.330613e+08  "
      ]
     },
     "execution_count": 5,
     "metadata": {},
     "output_type": "execute_result"
    }
   ],
   "source": [
    "R = frame.get_mefs()       # get our member end forces for the same members\n",
    "#R[['MZJ']] - SD[['MZJ']]\n",
    "R = R.ix[SD.index]\n",
    "R"
   ]
  },
  {
   "cell_type": "markdown",
   "metadata": {},
   "source": [
    "#### % Difference in End Moments"
   ]
  },
  {
   "cell_type": "code",
   "execution_count": 6,
   "metadata": {
    "collapsed": false
   },
   "outputs": [
    {
     "data": {
      "text/html": [
       "<div>\n",
       "<table border=\"1\" class=\"dataframe\">\n",
       "  <thead>\n",
       "    <tr style=\"text-align: right;\">\n",
       "      <th></th>\n",
       "      <th>MZJ</th>\n",
       "      <th>MZK</th>\n",
       "    </tr>\n",
       "  </thead>\n",
       "  <tbody>\n",
       "    <tr>\n",
       "      <th>AB</th>\n",
       "      <td>-0.000000</td>\n",
       "      <td>0.000001</td>\n",
       "    </tr>\n",
       "    <tr>\n",
       "      <th>BC</th>\n",
       "      <td>-0.000000</td>\n",
       "      <td>-0.000000</td>\n",
       "    </tr>\n",
       "    <tr>\n",
       "      <th>BE</th>\n",
       "      <td>-0.000000</td>\n",
       "      <td>-0.000000</td>\n",
       "    </tr>\n",
       "    <tr>\n",
       "      <th>CF</th>\n",
       "      <td>-0.000000</td>\n",
       "      <td>-0.000001</td>\n",
       "    </tr>\n",
       "    <tr>\n",
       "      <th>DE</th>\n",
       "      <td>0.000002</td>\n",
       "      <td>0.000001</td>\n",
       "    </tr>\n",
       "    <tr>\n",
       "      <th>EF</th>\n",
       "      <td>-0.000001</td>\n",
       "      <td>-0.000001</td>\n",
       "    </tr>\n",
       "  </tbody>\n",
       "</table>\n",
       "</div>"
      ],
      "text/plain": [
       "         MZJ       MZK\n",
       "AB -0.000000  0.000001\n",
       "BC -0.000000 -0.000000\n",
       "BE -0.000000 -0.000000\n",
       "CF -0.000000 -0.000001\n",
       "DE  0.000002  0.000001\n",
       "EF -0.000001 -0.000001"
      ]
     },
     "execution_count": 6,
     "metadata": {},
     "output_type": "execute_result"
    }
   ],
   "source": [
    "m = R[['MZJ','MZK']]*1E-6\n",
    "pd = (100*(m - SD[['MZJ','MZK']])/m).round(6)\n",
    "pd"
   ]
  },
  {
   "cell_type": "markdown",
   "metadata": {},
   "source": [
    "Max. difference is 0.0004%, which is quite good."
   ]
  },
  {
   "cell_type": "code",
   "execution_count": 7,
   "metadata": {
    "collapsed": false
   },
   "outputs": [
    {
     "data": {
      "text/plain": [
       "MZJ    0.000002\n",
       "MZK    0.000001\n",
       "dtype: float64"
      ]
     },
     "execution_count": 7,
     "metadata": {},
     "output_type": "execute_result"
    }
   ],
   "source": [
    "pd.abs().max()"
   ]
  }
 ],
 "metadata": {
  "kernelspec": {
   "display_name": "Python 2",
   "language": "python",
   "name": "python2"
  },
  "language_info": {
   "codemirror_mode": {
    "name": "ipython",
    "version": 2
   },
   "file_extension": ".py",
   "mimetype": "text/x-python",
   "name": "python",
   "nbconvert_exporter": "python",
   "pygments_lexer": "ipython2",
   "version": "2.7.6"
  }
 },
 "nbformat": 4,
 "nbformat_minor": 0
}
