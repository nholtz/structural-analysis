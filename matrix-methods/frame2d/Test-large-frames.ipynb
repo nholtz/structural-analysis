{
 "cells": [
  {
   "cell_type": "markdown",
   "metadata": {},
   "source": [
    "## Generate large frames for testing"
   ]
  },
  {
   "cell_type": "code",
   "execution_count": 1,
   "metadata": {
    "collapsed": false
   },
   "outputs": [],
   "source": [
    "import nbloader\n",
    "from Frame2D_v03 import *"
   ]
  },
  {
   "cell_type": "code",
   "execution_count": 2,
   "metadata": {
    "collapsed": true
   },
   "outputs": [],
   "source": [
    "## NOTE: all units are kN and m\n",
    "\n",
    "FD = {'storey_heights': [6.5] + [5.5]*20 + [7.0],   # m\n",
    "      'bay_widths': [10.5,10,10,10,10,10.5],        # m\n",
    "      'frame_spacing':8,                            # m, used only for load calculation\n",
    "      'specified_loads':{'live':2.4,'dead':4.0,'snow':2.5,'wind':2.5},  # kPa\n",
    "      'braced_bays':[0,2,3,5],\n",
    "      'support_fixity': ['fx,fy,mz']*3 + ['fx,fy']*2 + ['fx,fy,mz']*2,\n",
    "      'beam_size': 'W1000x222',\n",
    "      'column_size': 'W360x216',\n",
    "      'load_combination': '1.25*D + 1.4*W + 0.5*L',\n",
    "      }\n",
    "\n",
    "SaveData = False\n",
    "ShowResults = False"
   ]
  },
  {
   "cell_type": "code",
   "execution_count": 3,
   "metadata": {
    "collapsed": false
   },
   "outputs": [
    {
     "data": {
      "text/plain": [
       "{'bay_widths': [10.5, 10, 10, 10, 10, 10.5],\n",
       " 'beam_size': 'W1000x222',\n",
       " 'braced_bays': [0, 2, 3, 5],\n",
       " 'column_size': 'W360x216',\n",
       " 'frame_spacing': 8,\n",
       " 'load_combination': '1.25*D + 1.4*W + 0.5*L',\n",
       " 'specified_loads': {'dead': 4.0, 'live': 2.4, 'snow': 2.5, 'wind': 2.5},\n",
       " 'storey_heights': [6.5,\n",
       "  5.5,\n",
       "  5.5,\n",
       "  5.5,\n",
       "  5.5,\n",
       "  5.5,\n",
       "  5.5,\n",
       "  5.5,\n",
       "  5.5,\n",
       "  5.5,\n",
       "  5.5,\n",
       "  5.5,\n",
       "  5.5,\n",
       "  5.5,\n",
       "  5.5,\n",
       "  5.5,\n",
       "  5.5,\n",
       "  5.5,\n",
       "  5.5,\n",
       "  5.5,\n",
       "  5.5,\n",
       "  7.0],\n",
       " 'support_fixity': ['fx,fy,mz',\n",
       "  'fx,fy,mz',\n",
       "  'fx,fy,mz',\n",
       "  'fx,fy',\n",
       "  'fx,fy',\n",
       "  'fx,fy,mz',\n",
       "  'fx,fy,mz']}"
      ]
     },
     "execution_count": 3,
     "metadata": {},
     "output_type": "execute_result"
    }
   ],
   "source": [
    "FD"
   ]
  },
  {
   "cell_type": "code",
   "execution_count": 4,
   "metadata": {
    "collapsed": false
   },
   "outputs": [],
   "source": [
    "def genframe(fd):\n",
    "    h = fd['storey_heights']\n",
    "    w = fd['bay_widths']\n",
    "    s = fd['frame_spacing']\n",
    "    nnodes = (len(h)+1)*(len(w)+1)\n",
    "    \n",
    "    # names of column stacks and floor levels\n",
    "    bayline = [chr(ord('A')+i) for i in range(len(w)+1)]\n",
    "    floorlev = [str(i) for i in range(len(h)+1)]\n",
    "    \n",
    "    # generate the nodes\n",
    "    nodelist = []\n",
    "    nidgrid = np.ndarray((len(h)+1,len(w)+1),dtype=np.object)\n",
    "    for i in range(len(h)+1):\n",
    "        y = sum(h[:i])*1000.\n",
    "        for j in range(len(w)+1):\n",
    "            x = sum(w[:j])*1000.\n",
    "            nid = bayline[j]+floorlev[i]\n",
    "            nodelist.append((nid,x,y))\n",
    "            nidgrid[i,j] = nid\n",
    "    nodes = pd.DataFrame(nodelist,columns=['ID','X','Y'])\n",
    "    \n",
    "    # generate the supports\n",
    "    assert len(fd['support_fixity'])==nidgrid.shape[1]\n",
    "    supplist = []\n",
    "    for j,s in enumerate(fd['support_fixity']):\n",
    "        nid = nidgrid[0,j]\n",
    "        fix = s.strip().upper().split(',')\n",
    "        if len(fix) < 3:\n",
    "            fix += [np.nan] * (3-len(fix))\n",
    "        supplist.append([nid,]+fix)\n",
    "    supports = pd.DataFrame(supplist,columns=['ID','C0','C1','C2'])\n",
    "    \n",
    "    # generate columns\n",
    "    columns = []\n",
    "    for i in range(nidgrid.shape[0]-1):\n",
    "        for j in range(nidgrid.shape[1]):\n",
    "            nidj = nidgrid[i,j]\n",
    "            nidk = nidgrid[i+1,j]\n",
    "            mid = 'C' + nidj + nidk\n",
    "            columns.append((mid,nidj,nidk))\n",
    "    \n",
    "    # generate beams\n",
    "    beams = []\n",
    "    roofbeams = []\n",
    "    pinnedbeams = []\n",
    "    for i in range(1,nidgrid.shape[0]):\n",
    "        beamlist = beams if i < nidgrid.shape[0]-1 else roofbeams\n",
    "        for j in range(nidgrid.shape[1]-1):\n",
    "            nidj = nidgrid[i,j]\n",
    "            nidk = nidgrid[i,j+1]\n",
    "            mid = 'B' + nidj + nidk\n",
    "            beamlist.append((mid,nidj,nidk))\n",
    "            if j not in fd['braced_bays']:\n",
    "                pinnedbeams.append(mid)\n",
    "    members = pd.DataFrame(columns+beams+roofbeams,columns=['ID','NODEJ','NODEK'])\n",
    "    \n",
    "    # generate releases\n",
    "    rellist = []\n",
    "    for mid in pinnedbeams:\n",
    "        rellist.append((mid,'MZJ'))\n",
    "        rellist.append((mid,'MZK'))\n",
    "    releases = pd.DataFrame(rellist,columns=['ID','R'])\n",
    "    \n",
    "    # generate properties\n",
    "    proplist = []\n",
    "    size = fd['column_size']\n",
    "    for mid,j,k in columns:\n",
    "        proplist.append((mid,size,np.nan,np.nan))\n",
    "        size = np.nan\n",
    "    size = fd['beam_size']\n",
    "    for mid,j,k in beams+roofbeams:\n",
    "        proplist.append((mid,size,np.nan,np.nan))\n",
    "        size = np.nan\n",
    "    properties = pd.DataFrame(proplist,columns=['ID','SIZE','Ix','A'])\n",
    "    \n",
    "    # generate node loads (wind from left)\n",
    "    nloadlist = []\n",
    "    SL = fd['specified_loads']   # area loads\n",
    "    L = {'S':0., 'W':0., 'D':0., 'L':0., 'E':0.}\n",
    "    for i in range(1,nidgrid.shape[0]+1):\n",
    "        H = (sum(h[:i+1])-sum(h[:i-1]))/2.\n",
    "        L['W'] = H*fd['frame_spacing']*SL['wind']\n",
    "        FL = eval(fd['load_combination'],L)\n",
    "        if FL != 0.:\n",
    "            nloadlist.append((nidgrid[i,0],'FX',FL*1000.))\n",
    "    node_loads = pd.DataFrame(nloadlist,columns=['ID','DIRN','F'])\n",
    "    \n",
    "    # generate member loads\n",
    "    L = {'S':0., 'W':0., 'D':0., 'L':0., 'E':0.}\n",
    "    L['D'] = SL['dead']\n",
    "    L['L'] = SL['live']\n",
    "    F = -eval(fd['load_combination'],L)\n",
    "    UDL = F*fd['frame_spacing']\n",
    "    mloadlist = [(mid,'UDL',UDL,np.nan,np.nan,np.nan,np.nan) for mid,nj,nk in beams]\n",
    "    L['L'] = 0.\n",
    "    L['S'] = SL['snow']\n",
    "    F = -eval(fd['load_combination'],L)\n",
    "    UDL = F*fd['frame_spacing']\n",
    "    mloadlist += [(mid,'UDL',UDL,np.nan,np.nan,np.nan,np.nan) for mid,nj,nk in roofbeams]\n",
    "    member_loads = pd.DataFrame(mloadlist,columns='ID,TYPE,W1,W2,A,B,C'.split(','))\n",
    "    \n",
    "    frame = Frame2D()\n",
    "    frame.install_nodes(nodes)\n",
    "    frame.install_supports(supports)\n",
    "    frame.install_members(members)\n",
    "    frame.install_releases(releases)\n",
    "    frame.install_properties(properties)\n",
    "    frame.install_node_loads(node_loads)\n",
    "    frame.install_member_loads(member_loads)\n",
    "    \n",
    "    return frame"
   ]
  },
  {
   "cell_type": "code",
   "execution_count": 5,
   "metadata": {
    "collapsed": false
   },
   "outputs": [],
   "source": [
    "##%%timeit\n",
    "\n",
    "f = genframe(FD)\n",
    "## roof: 10 loops, best of 3: 32.8 ms per loop / ndof = 120, nfree = 106, nconstraints = 14"
   ]
  },
  {
   "cell_type": "code",
   "execution_count": 6,
   "metadata": {
    "collapsed": false
   },
   "outputs": [
    {
     "data": {
      "image/png": "[encoded data removed]",
      "text/plain": [
       "<matplotlib.figure.Figure at 0x4ae1358>"
      ]
     },
     "metadata": {},
     "output_type": "display_data"
    }
   ],
   "source": [
    "%matplotlib inline\n",
    "f.plot()"
   ]
  },
  {
   "cell_type": "code",
   "execution_count": 7,
   "metadata": {
    "collapsed": false,
    "scrolled": false
   },
   "outputs": [
    {
     "name": "stdout",
     "output_type": "stream",
     "text": [
      "\n",
      "Time to solve = 0.09 sec.\n",
      "\n",
      "ndof = 483, nfree = 464, nconstraints = 19\n",
      "\n",
      "\n"
     ]
    }
   ],
   "source": [
    "f.doall(show=ShowResults)"
   ]
  },
  {
   "cell_type": "code",
   "execution_count": 8,
   "metadata": {
    "collapsed": false
   },
   "outputs": [],
   "source": [
    "if SaveData:\n",
    "    NS = len(FD['storey_heights'])\n",
    "    NB = len(FD['bay_widths'])\n",
    "    f.saveStructuralData('l{}x{}'.format(NS,NB),mkdir=True)"
   ]
  },
  {
   "cell_type": "code",
   "execution_count": 9,
   "metadata": {
    "collapsed": false,
    "scrolled": false
   },
   "outputs": [
    {
     "name": "stdout",
     "output_type": "stream",
     "text": [
      "iter=1, max D=1789.5513669582874, max chg=363.1084602929184, max % chg=20.290474305305708\n",
      "iter=2, max D=1886.4825797126218, max chg=96.93131066284332, max % chg=5.138203326404922\n",
      "iter=3, max D=1913.2444601791115, max chg=26.76189720615116, max % chg=1.3987704009160336\n",
      "iter=4, max D=1920.8551830818692, max chg=7.610724562408677, max % chg=0.3962154268286814\n",
      "iter=5, max D=1923.080590876227, max chg=2.225407794357807, max % chg=0.11572098459710564\n",
      "iter=6, max D=1923.748630254606, max chg=0.668039378379035, max % chg=0.03472591833843805\n",
      "iter=7, max D=1923.9541068775677, max chg=0.2054766229616689, max % chg=0.010679912905778296\n",
      "iter=8, max D=1924.018705345329, max chg=0.06459846776124323, max % chg=0.0033574760776376596\n",
      "\n",
      "Time to solve = 0.26 sec.\n",
      "\n",
      "ndof = 483, nfree = 464, nconstraints = 19\n",
      "\n",
      "\n"
     ]
    }
   ],
   "source": [
    "f.doall(pdelta=True,maxiter=40,show=ShowResults)"
   ]
  },
  {
   "cell_type": "code",
   "execution_count": 10,
   "metadata": {
    "collapsed": false
   },
   "outputs": [],
   "source": [
    "if SaveData:\n",
    "    f.saveStructuralData('l{}x{}pd'.format(NS,NB),mkdir=True)"
   ]
  }
 ],
 "metadata": {
  "kernelspec": {
   "display_name": "Python 3",
   "language": "python",
   "name": "python3"
  },
  "language_info": {
   "codemirror_mode": {
    "name": "ipython",
    "version": 3
   },
   "file_extension": ".py",
   "mimetype": "text/x-python",
   "name": "python",
   "nbconvert_exporter": "python",
   "pygments_lexer": "ipython3",
   "version": "3.5.1"
  }
 },
 "nbformat": 4,
 "nbformat_minor": 0
}
