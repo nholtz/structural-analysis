{
 "cells": [
  {
   "cell_type": "markdown",
   "metadata": {},
   "source": [
    "# CIVE 3203 2019 HW-6\n",
    "\n",
    "Compare the results here with those given be the slope-deflection method\n",
    "in the solution of HW-6, CIVE3203, Fall 2019.\n",
    "\n",
    "![Figure](data/3203/2019/hw-6.d/frame-1dof.svg)"
   ]
  },
  {
   "cell_type": "code",
   "execution_count": 1,
   "metadata": {},
   "outputs": [],
   "source": [
    "from Frame2D import Frame2D\n",
    "\n",
    "theframe = Frame2D('3203/2019/hw-6')"
   ]
  },
  {
   "cell_type": "markdown",
   "metadata": {},
   "source": [
    "# Input Data"
   ]
  },
  {
   "cell_type": "markdown",
   "metadata": {},
   "source": [
    "## Nodes\n",
    "Table `nodes` (file `nodes.csv`) provides the $x$-$y$ coordinates of each node.  Other columns, such \n",
    "as the $z$- coordinate are optional, and ignored if given."
   ]
  },
  {
   "cell_type": "code",
   "execution_count": 2,
   "metadata": {},
   "outputs": [],
   "source": [
    "%%Table nodes\n",
    "NODEID,X,Y,Z\n",
    "a,0,5000\n",
    "b,8000,5000\n",
    "c,14000,5000\n",
    "d,8000,0"
   ]
  },
  {
   "cell_type": "markdown",
   "metadata": {},
   "source": [
    "## Supports\n",
    "Table `supports` (file `supports.csv`) specifies the support fixity, by indicating the constrained\n",
    "direction for each node.  There can be 1, 2 or 3 constraints, selected from the set '`FX`', '`FY`' or '`MZ`',\n",
    "in any order for each constrained node.  Directions not mentioned are 'free' or unconstrained."
   ]
  },
  {
   "cell_type": "code",
   "execution_count": 3,
   "metadata": {},
   "outputs": [],
   "source": [
    "%%Table supports\n",
    "NODEID,C0,C1,C2\n",
    "a,FX,FY,MZ\n",
    "c,FX,FY,MZ\n",
    "d,FX,FY,MZ"
   ]
  },
  {
   "cell_type": "markdown",
   "metadata": {},
   "source": [
    "## Members\n",
    "Table `members` (file `members.csv`) specifies the member incidences.  For each member, specify\n",
    "the id of the nodes at the 'j-' and 'k-' ends.  These ends are used to interpret the signs of various values."
   ]
  },
  {
   "cell_type": "code",
   "execution_count": 4,
   "metadata": {},
   "outputs": [],
   "source": [
    "%%Table members\n",
    "MEMBERID,NODEJ,NODEK\n",
    "ab,a,b\n",
    "bc,b,c\n",
    "bd,b,d"
   ]
  },
  {
   "cell_type": "markdown",
   "metadata": {},
   "source": [
    "## Releases\n",
    "Table `releases` (file `releases.csv`) is optional and specifies internal force releases in some members.\n",
    "Currently only moment releases at the 'j-' end ('`MZJ`') and 'k-' end ('`MZK`') are supported.  These specify\n",
    "that the internal bending moment at those locations are zero.  You can only specify one release per line,\n",
    "but you can have more than one line for a member."
   ]
  },
  {
   "cell_type": "code",
   "execution_count": 5,
   "metadata": {},
   "outputs": [],
   "source": [
    "%%Table releases\n",
    "MEMBERID,RELEASE"
   ]
  },
  {
   "cell_type": "markdown",
   "metadata": {},
   "source": [
    "## Properties\n",
    "Table `properties` (file `properties.csv`) specifies the member properties for each member.\n",
    "If the '`SST`' library is available, you may specify the size of the member by using the\n",
    "designation of a shape in the CISC Structural Section Tables.  If either `IX` or `A` is missing,\n",
    "it is retreived using the `sst` library.  If the values on any line are missing, they\n",
    "are copied from the line above.\n",
    "\n",
    "Note: a value of $A=7000$ is reasonable for steel W shapes of the range of $I$ values we have given.\n",
    "If we give $A$ values 1000 times this, we get results that match the slope-deflection method _very_\n",
    "closely (that effectively causes axial effects to be ignored)."
   ]
  },
  {
   "cell_type": "code",
   "execution_count": 6,
   "metadata": {},
   "outputs": [],
   "source": [
    "%%Table properties\n",
    "MEMBERID,SIZE,IX,A\n",
    "ab,,240E6,7000\n",
    "bc,,160E6,\n",
    "bd,,80E6"
   ]
  },
  {
   "cell_type": "markdown",
   "metadata": {},
   "source": [
    "## Node Loads\n",
    "Table `node_loads` (file `node_loads.csv`) specifies the forces applied directly to the nodes.\n",
    "`DIRN` (direction) may be one of `'FX,FY,MZ'`.  'LOAD' is an identifier of the kind of load\n",
    "being applied and `F` is the value of the load, normally given as a service or specified load.\n",
    "A later input table will specify load combinations and factors.\n"
   ]
  },
  {
   "cell_type": "code",
   "execution_count": 7,
   "metadata": {},
   "outputs": [],
   "source": [
    "%%Table node_loads\n",
    "LOAD,NODEID,DIRN,F"
   ]
  },
  {
   "cell_type": "markdown",
   "metadata": {},
   "source": [
    "## Support Displacements\n",
    "Table `support_displacements` (file `support_displacements.csv`) is optional and specifies imposed displacements\n",
    "of the supports.  `DIRN` (direction) is one of `'DX, DY, RZ'`.  `LOAD` is as for Node Loads, above.\n",
    "\n",
    "Of course, in this example the frame is statically determinate and so the support displacement\n",
    "will have no effect on the reactions or member end forces."
   ]
  },
  {
   "cell_type": "code",
   "execution_count": 8,
   "metadata": {},
   "outputs": [],
   "source": [
    "%%Table support_displacements\n",
    "LOAD,NODEID,DIRN,DELTA"
   ]
  },
  {
   "cell_type": "markdown",
   "metadata": {},
   "source": [
    "## Member Loads\n",
    "Table `member_loads` (file `member_loads.csv`) specifies loads acting on members.  Current\n",
    "types are `PL` (concentrated transverse, ie point load), `CM` (concentrated moment), `UDL` (uniformly\n",
    "distributed load over entire span), `LVL` (linearly varying load over a portion of the span) and `PLA` (point load applied parallel to member coincident with centroidal axis).  Values `W1` and `W2` are loads or\n",
    "load intensities and `A`, `B`, and `C` are dimensions appropriate to the kind of load."
   ]
  },
  {
   "cell_type": "code",
   "execution_count": 9,
   "metadata": {},
   "outputs": [],
   "source": [
    "%%Table member_loads\n",
    "LOAD,MEMBERID,TYPE,W1,W2,A,B,C\n",
    "live,ab,UDL,-24\n",
    "live,bc,PL,-64000,,4000"
   ]
  },
  {
   "cell_type": "markdown",
   "metadata": {},
   "source": [
    "## Load Combinations\n",
    "Table `load_combinations` (file `load_combinations.csv`) is optional and specifies\n",
    "factored combinations of loads.  By default, there is always a load combination\n",
    "called `all` that includes all loads with a factor of 1.0.   A frame solution (see below)\n",
    "indicates which `CASE` to use."
   ]
  },
  {
   "cell_type": "code",
   "execution_count": 10,
   "metadata": {},
   "outputs": [],
   "source": [
    "%%Table load_combinations\n",
    "CASE,LOAD,FACTOR\n",
    "one,live,1.0"
   ]
  },
  {
   "cell_type": "markdown",
   "metadata": {},
   "source": [
    "## Solution\n",
    "The following outputs all tables, prints a description of the input data,\n",
    "produces a solution for load case '`one`' (all load and case names are case-insensitive)\n",
    "and finally prints the results."
   ]
  },
  {
   "cell_type": "code",
   "execution_count": 11,
   "metadata": {
    "scrolled": false
   },
   "outputs": [
    {
     "name": "stdout",
     "output_type": "stream",
     "text": [
      "\n",
      "Frame 3203/2019/hw-6:\n",
      "=====================\n",
      "\n",
      "\n",
      "              # of nodal degrees of freedom: 12\n",
      "  # of constrained nodal degrees of freedom: 9\n",
      "# of unconstrained nodal degrees of freedom: 3  (= degree of kinematic indeterminacy)\n",
      "\n",
      "                               # of members: 3\n",
      "                             # of reactions: 9\n",
      "                                 # of nodes: 4\n",
      "                            # of conditions: 0\n",
      "           degree of statical indeterminacy: 6\n",
      "\n",
      "\n",
      "\n",
      "Nodes:\n",
      "======\n",
      "\n",
      "Node          X         Y  Constraints  DOF #s\n",
      "----      -----     -----  -----------  ------\n",
      "a             0      5000  FX,FY,MZ     3,4,5\n",
      "b          8000      5000               0,1,2\n",
      "c         14000      5000  FX,FY,MZ     6,7,8\n",
      "d          8000         0  FX,FY,MZ     9,10,11\n",
      "\n",
      "\n",
      "\n",
      "Members:\n",
      "========\n",
      "\n",
      "Member   Node-J  Node-K    Length       dcx       dcy  Size                Ix           A  Releases\n",
      "------   ------  ------    ------   -------   -------  --------      --------       -----  --------\n",
      "ab       a       b         8000.0   1.00000   0.00000                 2.4e+08        7000  \n",
      "bc       b       c         6000.0   1.00000   0.00000                 1.6e+08        7000  \n",
      "bd       b       d         5000.0   0.00000  -1.00000                   8e+07        7000  \n",
      "\n",
      "\n",
      "\n",
      "Node Loads:\n",
      "===========\n",
      "\n",
      " - - - none - - -\n",
      "\n",
      "Member Loads:\n",
      "=============\n",
      "\n",
      "Type      Member  Load\n",
      "----      ------  ----------------\n",
      "live      ab      UDL(L=8000.0,w=-24)\n",
      "live      bc      PL(L=6000.0,P=-64000,a=4000.0)\n",
      "\n",
      "Support Displacements:\n",
      "======================\n",
      "\n",
      " - - - none - - -\n",
      "\n",
      "Load Combinations:\n",
      "==================\n",
      "\n",
      "Case   Type      Factor\n",
      "-----  ----      ------\n",
      "one    live        1.00\n",
      "all    live        1.00\n",
      "\n",
      "Results for load case: one\n",
      "++++++++++++++++++++++++++\n",
      "\n",
      "\n",
      "Node Displacements:\n",
      "===================\n",
      "\n",
      "Node        DX         DY      Rotation\n",
      "----      ------     ------   ---------\n",
      "a          0.000      0.000   0.0000000\n",
      "b         -0.016     -0.403   0.0017194\n",
      "c          0.000      0.000   0.0000000\n",
      "d          0.000      0.000   0.0000000\n",
      "\n",
      "Reactions:\n",
      "==========\n",
      "\n",
      "Node        FX         FY         MZ  \n",
      "----     -------    -------    -------\n",
      "a          2.819    104.191    150.446\n",
      "c          3.759     38.954    -40.698\n",
      "d         -6.578    112.855     10.942\n",
      "\n",
      "Member End Forces:\n",
      "==================\n",
      "\n",
      "          /----- Axial -----/   /----- Shear -----/   /----- Moment ----/\n",
      "Member       FX J       FX K       FY J       FY K       MZ J       MZ K\n",
      "------     -------    -------    -------    -------    -------    -------\n",
      "ab           2.819     -2.819    104.191     87.809    150.446    -84.921\n",
      "bc          -3.759      3.759     25.046     38.954     62.975    -40.698\n",
      "bd         112.855   -112.855      6.578     -6.578     21.946     10.942\n"
     ]
    }
   ],
   "source": [
    "theframe.input_all()\n",
    "theframe.print_input()\n",
    "RS = theframe.solve('one')\n",
    "theframe.print_results(rs=RS)"
   ]
  },
  {
   "cell_type": "code",
   "execution_count": null,
   "metadata": {},
   "outputs": [],
   "source": []
  }
 ],
 "metadata": {
  "kernelspec": {
   "display_name": "Python 3",
   "language": "python",
   "name": "python3"
  },
  "language_info": {
   "codemirror_mode": {
    "name": "ipython",
    "version": 3
   },
   "file_extension": ".py",
   "mimetype": "text/x-python",
   "name": "python",
   "nbconvert_exporter": "python",
   "pygments_lexer": "ipython3",
   "version": "3.6.8"
  },
  "widgets": {
   "state": {},
   "version": "1.1.1"
  }
 },
 "nbformat": 4,
 "nbformat_minor": 2
}
