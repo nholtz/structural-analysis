{
 "cells": [
  {
   "cell_type": "markdown",
   "metadata": {},
   "source": [
    "# Template File\n",
    "\n",
    "The data is given\n",
    "in CSV form precisely as would be given in data files.  For each table started by the cell\n",
    "magic `%%Table`, the table name follows immediately.\n",
    "\n",
    "![Figure](data/template/template.svg)"
   ]
  },
  {
   "cell_type": "code",
   "execution_count": null,
   "metadata": {},
   "outputs": [],
   "source": [
    "from Frame2D import Frame2D\n",
    "\n",
    "theframe = Frame2D('Template')"
   ]
  },
  {
   "cell_type": "markdown",
   "metadata": {},
   "source": [
    "# Input Data"
   ]
  },
  {
   "cell_type": "markdown",
   "metadata": {},
   "source": [
    "## Nodes\n",
    "Table `nodes` (file `nodes.csv`) provides the $x$-$y$ coordinates of each node.  Other columns, such \n",
    "as the $z$- coordinate are optional, and ignored if given."
   ]
  },
  {
   "cell_type": "code",
   "execution_count": null,
   "metadata": {},
   "outputs": [],
   "source": [
    "%%Table nodes\n",
    "NODEID,X,Y,Z"
   ]
  },
  {
   "cell_type": "markdown",
   "metadata": {},
   "source": [
    "## Supports\n",
    "Table `supports` (file `supports.csv`) specifies the support fixity, by indicating the constrained\n",
    "direction for each node.  There can be 1, 2 or 3 constraints, selected from the set '`FX`', '`FY`' or '`MZ`',\n",
    "in any order for each constrained node.  Directions not mentioned are 'free' or unconstrained."
   ]
  },
  {
   "cell_type": "code",
   "execution_count": null,
   "metadata": {},
   "outputs": [],
   "source": [
    "%%Table supports\n",
    "NODEID,C0,C1,C2"
   ]
  },
  {
   "cell_type": "markdown",
   "metadata": {},
   "source": [
    "## Members\n",
    "Table `members` (file `members.csv`) specifies the member incidences.  For each member, specify\n",
    "the id of the nodes at the 'j-' and 'k-' ends.  These ends are used to interpret the signs of various values."
   ]
  },
  {
   "cell_type": "code",
   "execution_count": null,
   "metadata": {},
   "outputs": [],
   "source": [
    "%%Table members\n",
    "MEMBERID,NODEJ,NODEK"
   ]
  },
  {
   "cell_type": "markdown",
   "metadata": {},
   "source": [
    "## Releases\n",
    "Table `releases` (file `releases.csv`) is optional and specifies internal force releases in some members.\n",
    "Currently only moment releases at the 'j-' end ('`MZJ`') and 'k-' end ('`MZK`') are supported.  These specify\n",
    "that the internal bending moment at those locations are zero.  You can only specify one release per line,\n",
    "but you can have more than one line for a member."
   ]
  },
  {
   "cell_type": "code",
   "execution_count": null,
   "metadata": {},
   "outputs": [],
   "source": [
    "%%Table releases\n",
    "MEMBERID,RELEASE"
   ]
  },
  {
   "cell_type": "markdown",
   "metadata": {},
   "source": [
    "## Properties\n",
    "Table `properties` (file `properties.csv`) specifies the member properties for each member.\n",
    "If the '`SST`' library is available, you may specify the size of the member by using the\n",
    "designation of a shape in the CISC Structural Section Tables.  If either `IX` or `A` is missing,\n",
    "it is retreived using the `sst` library.  If the values on any line are missing, they\n",
    "are copied from the line above."
   ]
  },
  {
   "cell_type": "code",
   "execution_count": null,
   "metadata": {},
   "outputs": [],
   "source": [
    "%%Table properties\n",
    "MEMBERID,SIZE,IX,A"
   ]
  },
  {
   "cell_type": "markdown",
   "metadata": {},
   "source": [
    "## Node Loads\n",
    "Table `node_loads` (file `node_loads.csv`) specifies the forces applied directly to the nodes.\n",
    "`DIRN` (direction) may be one of `'FX,FY,MZ'`.  'LOAD' is an identifier of the kind of load\n",
    "being applied and `F` is the value of the load, normally given as a service or specified load.\n",
    "A later input table will specify load combinations and factors.\n"
   ]
  },
  {
   "cell_type": "code",
   "execution_count": null,
   "metadata": {},
   "outputs": [],
   "source": [
    "%%Table node_loads\n",
    "LOAD,NODEID,DIRN,F"
   ]
  },
  {
   "cell_type": "markdown",
   "metadata": {},
   "source": [
    "## Support Displacements\n",
    "Table `support_displacements` (file `support_displacements.csv`) is optional and specifies imposed displacements\n",
    "of the supports.  `DIRN` (direction) is one of `'DX, DY, RZ'`.  `LOAD` is as for Node Loads, above.\n",
    "\n",
    "Of course, in this example the frame is statically determinate and so the support displacement\n",
    "will have no effect on the reactions or member end forces."
   ]
  },
  {
   "cell_type": "code",
   "execution_count": null,
   "metadata": {},
   "outputs": [],
   "source": [
    "%%Table support_displacements\n",
    "LOAD,NODEID,DIRN,DELTA"
   ]
  },
  {
   "cell_type": "markdown",
   "metadata": {},
   "source": [
    "## Member Loads\n",
    "Table `member_loads` (file `member_loads.csv`) specifies loads acting on members.  Current\n",
    "types are `PL` (concentrated transverse, ie point load), `CM` (concentrated moment), `UDL` (uniformly\n",
    "distributed load over entire span), `LVL` (linearly varying load over a portion of the span) and `PLA` (point load applied parallel to member coincident with centroidal axis).  Values `W1` and `W2` are loads or\n",
    "load intensities and `A`, `B`, and `C` are dimensions appropriate to the kind of load."
   ]
  },
  {
   "cell_type": "code",
   "execution_count": null,
   "metadata": {},
   "outputs": [],
   "source": [
    "%%Table member_loads\n",
    "LOAD,MEMBERID,TYPE,W1,W2,A,B,C"
   ]
  },
  {
   "cell_type": "markdown",
   "metadata": {},
   "source": [
    "## Load Combinations\n",
    "Table `load_combinations` (file `load_combinations.csv`) is optional and specifies\n",
    "factored combinations of loads.  By default, there is always a load combination\n",
    "called `all` that includes all loads with a factor of 1.0.   A frame solution (see below)\n",
    "indicates which `CASE` to use."
   ]
  },
  {
   "cell_type": "code",
   "execution_count": null,
   "metadata": {},
   "outputs": [],
   "source": [
    "%%Table load_combinations\n",
    "CASE,LOAD,FACTOR"
   ]
  },
  {
   "cell_type": "markdown",
   "metadata": {},
   "source": [
    "## Solution\n",
    "The following outputs all tables, prints a description of the input data,\n",
    "produces a solution for load case '`one`' (all load and case names are case-insensitive)\n",
    "and finally prints the results."
   ]
  },
  {
   "cell_type": "code",
   "execution_count": null,
   "metadata": {
    "scrolled": false
   },
   "outputs": [],
   "source": [
    "theframe.input_all()\n",
    "theframe.print_input()\n",
    "RS = theframe.solve('one')\n",
    "theframe.print_results(rs=RS)"
   ]
  },
  {
   "cell_type": "code",
   "execution_count": null,
   "metadata": {},
   "outputs": [],
   "source": []
  }
 ],
 "metadata": {
  "kernelspec": {
   "display_name": "Python 3",
   "language": "python",
   "name": "python3"
  },
  "language_info": {
   "codemirror_mode": {
    "name": "ipython",
    "version": 3
   },
   "file_extension": ".py",
   "mimetype": "text/x-python",
   "name": "python",
   "nbconvert_exporter": "python",
   "pygments_lexer": "ipython3",
   "version": "3.6.8"
  },
  "widgets": {
   "state": {},
   "version": "1.1.1"
  }
 },
 "nbformat": 4,
 "nbformat_minor": 2
}
