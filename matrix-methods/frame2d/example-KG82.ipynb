{
 "cells": [
  {
   "cell_type": "markdown",
   "metadata": {},
   "source": [
    "### Kulak & Grondin Example 8.2\n",
    "This example is from \"*Limit States Design in Structural Steel*\", Ninth Edition, CISC, by Kulak and Grondin.\n",
    "It illustrates using the fictitious load method to determine second-order effects (i.e., the $P-\\Delta$ method)."
   ]
  },
  {
   "cell_type": "code",
   "execution_count": 1,
   "metadata": {
    "collapsed": false
   },
   "outputs": [],
   "source": [
    "from salib import showImage\n",
    "import salib.nbloader\n",
    "import Frame2D_v03 as f2d"
   ]
  },
  {
   "cell_type": "markdown",
   "metadata": {
    "collapsed": false
   },
   "source": [
    "![Frame](KG82.d/KG82a.jpg)\n",
    "In order account for initial out-of-straightness and partial yielding, *notional* lateral loads equal to 0.005 times the factored gravity loads contributed by each level are added to each level (CSA S16-09 8.4.1).  At node **H** that will be $45 \\times (10+10.5+10) \\times 0.005 = 6.9\\ kN$ and at node **G** it is $55 \\times (10+10.5+10) \\times 0.005 = 8.4\\ kN$.  These notional loads will be added to the forces already there."
   ]
  },
  {
   "cell_type": "code",
   "execution_count": 5,
   "metadata": {
    "collapsed": false
   },
   "outputs": [],
   "source": [
    "frame = f2d.Frame2D()\n",
    "frame.read_data('KG82')   # read the CSV files in directory 'KG82.d'"
   ]
  },
  {
   "cell_type": "code",
   "execution_count": 6,
   "metadata": {
    "collapsed": false
   },
   "outputs": [
    {
     "name": "stdout",
     "output_type": "stream",
     "text": [
      "\n",
      "ndof = 36, nfree = 26, nconstraints = 10\n",
      "\n",
      "\n",
      "\n",
      "Nodes:\n",
      "======\n",
      "\n",
      "Node          X         Y  Constraints  DOF #s\n",
      "----      -----     -----  -----------  ------\n",
      "A         10000         0  FX,FY,MZ     26,27,28\n",
      "B         10000      6500               0,1,2\n",
      "C         10000     12000               3,4,5\n",
      "D         20500         0  FX,FY,MZ     29,30,31\n",
      "E         20500      6500               6,7,8\n",
      "F         20500     12000               9,10,11\n",
      "G         30500      6500               12,13,14\n",
      "H         30500     12000               15,16,17\n",
      "I         30500         0  FX,FY        32,33,18\n",
      "J             0         0  FX,FY        34,35,19\n",
      "K             0      6500               20,21,22\n",
      "L             0     12000               23,24,25\n",
      "\n",
      "\n",
      "\n",
      "Members:\n",
      "========\n",
      "\n",
      "Member   Node-J  Node-K    Length       dcx       dcy  Size                Ix           A  Releases\n",
      "------   ------  ------    ------   -------   -------  --------      --------       -----  --------\n",
      "AB       A       B         6500.0   0.00000   1.00000  W310x97       2.22e+08       12300  \n",
      "BC       B       C         5500.0   0.00000   1.00000                2.22e+08       12300  \n",
      "DE       D       E         6500.0   0.00000   1.00000                2.22e+08       12300  \n",
      "EF       E       F         5500.0   0.00000   1.00000                2.22e+08       12300  \n",
      "IG       I       G         6500.0   0.00000   1.00000                2.22e+08       12300  \n",
      "GH       G       H         5500.0   0.00000   1.00000                2.22e+08       12300  \n",
      "JK       J       K         6500.0   0.00000   1.00000                2.22e+08       12300  \n",
      "KL       K       L         5500.0   0.00000   1.00000                2.22e+08       12300  \n",
      "CF       C       F        10500.0   1.00000   0.00000                4.88e+08       13500  \n",
      "BE       B       E        10500.0   1.00000   0.00000  W460x106      4.88e+08       13500  \n",
      "FH       F       H        10000.0   1.00000   0.00000                4.88e+08       13500  MZJ,MZK\n",
      "EG       E       G        10000.0   1.00000   0.00000                4.88e+08       13500  MZJ,MZK\n",
      "KB       K       B        10000.0   1.00000   0.00000                4.88e+08       13500  MZJ,MZK\n",
      "LC       L       C        10000.0   1.00000   0.00000                4.88e+08       13500  MZJ,MZK\n",
      "\n",
      "\n",
      "\n",
      "Node Loads:\n",
      "===========\n",
      "\n",
      "Node  Dirn     Load\n",
      "----  ----    -----\n",
      "G     FX      43400\n",
      "H     FX      21900\n",
      "\n",
      "Member Loads:\n",
      "=============\n",
      "\n",
      "Member  Load\n",
      "------  ----------------\n",
      "CF      UDL(L=10500.0,W1=-45)\n",
      "BE      UDL(L=10500.0,W1=-55)\n",
      "FH      UDL(L=10000.0,W1=-45)\n",
      "EG      UDL(L=10000.0,W1=-55)\n",
      "KB      UDL(L=10000.0,W1=-55)\n",
      "LC      UDL(L=10000.0,W1=-45)\n",
      "\n",
      "\n",
      "\n",
      "Node Displacements:\n",
      "===================\n",
      "\n",
      "Node        DX         DY      Rotation\n",
      "----      ------     ------   ---------\n",
      "A          0.000      0.000   0.0000000\n",
      "B         22.180     -2.628  -0.0071701\n",
      "C         34.685     -3.640  -0.0074115\n",
      "D          0.000      0.000   0.0000000\n",
      "E         22.532     -2.789   0.0030960\n",
      "F         34.332     -3.840   0.0057038\n",
      "G         22.674     -1.321  -0.0027559\n",
      "H         34.423     -1.824  -0.0018264\n",
      "I          0.000      0.000  -0.0038545\n",
      "J          0.000      0.000  -0.0037166\n",
      "K         22.165     -1.321  -0.0027967\n",
      "L         34.693     -1.824  -0.0020184\n",
      "\n",
      "\n",
      "\n",
      "Reactions:\n",
      "==========\n",
      "\n",
      "Node        FX         FY         MZ  \n",
      "----     -------    -------    -------\n",
      "A          2.178    994.654     41.900\n",
      "D        -63.236   1055.346    184.368\n",
      "I         -2.309    500.000      --   \n",
      "J         -1.933    500.000      --   \n",
      "\n",
      "\n",
      "\n",
      "Member End Forces:\n",
      "==================\n",
      "\n",
      "          /----- Axial -----/   /----- Shear -----/   /----- Moment ----/\n",
      "Member       FX J       FX K       FY J       FY K       MZ J       MZ K\n",
      "------     -------    -------    -------    -------    -------    -------\n",
      "AB         994.654   -994.654     -2.178      2.178     41.900    -56.055\n",
      "BC         452.382   -452.382    -88.371     88.371   -241.073   -244.970\n",
      "DE        1055.346  -1055.346     63.236    -63.236    184.368    226.664\n",
      "EF         470.118   -470.118    115.285   -115.285    295.981    338.086\n",
      "IG         500.000   -500.000      2.309     -2.309      0.000     15.008\n",
      "GH         225.000   -225.000     -2.729      2.729    -15.008      0.000\n",
      "JK         500.000   -500.000      1.933     -1.933      0.000     12.566\n",
      "KL         225.000   -225.000     -2.285      2.285    -12.566      0.000\n",
      "CF          90.656    -90.656    227.382    245.118    244.970   -338.086\n",
      "BE         -90.412     90.412    267.272    310.228    297.128   -522.645\n",
      "FH         -24.629     24.629    225.000    225.000      0.000      0.000\n",
      "EG         -38.362     38.362    275.000    275.000      0.000      0.000\n",
      "KB          -4.218      4.218    275.000    275.000      0.000      0.000\n",
      "LC           2.285     -2.285    225.000    225.000      0.000      0.000\n"
     ]
    }
   ],
   "source": [
    "frame.doall()"
   ]
  },
  {
   "cell_type": "markdown",
   "metadata": {
    "collapsed": false
   },
   "source": [
    "The above are the results of a first-order analysis and should be compared with those shown in the following figure from Kulak & Grondin:\n",
    "\n",
    "![Frame](KG82.d/KG82b.jpg)"
   ]
  },
  {
   "cell_type": "markdown",
   "metadata": {},
   "source": [
    "### $P-\\Delta$ Analysis"
   ]
  },
  {
   "cell_type": "code",
   "execution_count": 7,
   "metadata": {
    "collapsed": false
   },
   "outputs": [
    {
     "name": "stdout",
     "output_type": "stream",
     "text": [
      "iter=1, max D=40.0705905519, max chg=5.37754613514, max % chg=13.4201818867\n",
      "iter=2, max D=40.9144007916, max chg=0.843834955693, max % chg=2.06243997069\n",
      "iter=3, max D=41.0471570086, max chg=0.132760379933, max % chg=0.323433800557\n",
      "iter=4, max D=41.0680614969, max chg=0.0209051473164, max % chg=0.0509036622484\n",
      "iter=5, max D=41.0713541602, max chg=0.00329276702251, max % chg=0.00801718640606\n",
      "\n",
      "\n",
      "\n",
      "Node Displacements:\n",
      "===================\n",
      "\n",
      "Node        DX         DY      Rotation\n",
      "----      ------     ------   ---------\n",
      "A          0.000      0.000   0.0000000\n",
      "B         26.392     -2.614  -0.0075457\n",
      "C         41.059     -3.622  -0.0075611\n",
      "D          0.000      0.000   0.0000000\n",
      "E         26.745     -2.803   0.0027204\n",
      "F         40.706     -3.858   0.0055544\n",
      "G         26.889     -1.321  -0.0032662\n",
      "H         40.801     -1.824  -0.0021613\n",
      "I          0.000      0.000  -0.0045720\n",
      "J          0.000      0.000  -0.0044338\n",
      "K         26.378     -1.321  -0.0033071\n",
      "L         41.071     -1.824  -0.0023537\n",
      "\n",
      "\n",
      "\n",
      "Reactions:\n",
      "==========\n",
      "\n",
      "Node        FX         FY         MZ  \n",
      "----     -------    -------    -------\n",
      "A         -3.625    989.141     63.325\n",
      "D        -69.040   1060.859    205.798\n",
      "I         -2.744    500.000      --   \n",
      "J         -2.368    500.000      --   \n",
      "\n",
      "\n",
      "\n",
      "Member End Forces:\n",
      "==================\n",
      "\n",
      "          /----- Axial -----/   /----- Shear -----/   /----- Moment ----/\n",
      "Member       FX J       FX K       FY J       FY K       MZ J       MZ K\n",
      "------     -------    -------    -------    -------    -------    -------\n",
      "AB         989.141   -989.141      3.625     -3.625     63.325    -39.762\n",
      "BC         450.830   -450.830    -86.072     86.072   -236.573   -236.821\n",
      "DE        1060.859  -1060.859     69.040    -69.040    205.798    242.962\n",
      "EF         471.670   -471.670    117.583   -117.583    300.476    346.232\n",
      "IG         500.000   -500.000      2.744     -2.744     -0.000     17.839\n",
      "GH         225.000   -225.000     -3.243      3.243    -17.839      0.000\n",
      "JK         500.000   -500.000      2.368     -2.368      0.000     15.393\n",
      "KL         225.000   -225.000     -2.799      2.799    -15.393      0.000\n",
      "CF          90.673    -90.673    225.830    246.670    236.821   -346.232\n",
      "BE         -90.622     90.622    263.312    314.188    276.335   -543.438\n",
      "FH         -25.713     25.713    225.000    225.000      0.000      0.000\n",
      "EG         -38.911     38.911    275.000    275.000      0.000      0.000\n",
      "KB          -3.739      3.739    275.000    275.000      0.000      0.000\n",
      "LC           3.400     -3.400    225.000    225.000      0.000      0.000\n"
     ]
    }
   ],
   "source": [
    "frame.doall(pdelta=True,showinput=False)"
   ]
  },
  {
   "cell_type": "markdown",
   "metadata": {
    "collapsed": false
   },
   "source": [
    "The above are the results of a second-order ($P-\\Delta$) analysis and should be compared with the following figure from Kulak & Grondin:\n",
    "\n",
    "![Final P-Delta Result](KG82.d/KG82c.jpg)"
   ]
  },
  {
   "cell_type": "code",
   "execution_count": null,
   "metadata": {
    "collapsed": true
   },
   "outputs": [],
   "source": []
  }
 ],
 "metadata": {
  "kernelspec": {
   "display_name": "Python 2",
   "language": "python",
   "name": "python2"
  },
  "language_info": {
   "codemirror_mode": {
    "name": "ipython",
    "version": 2
   },
   "file_extension": ".py",
   "mimetype": "text/x-python",
   "name": "python",
   "nbconvert_exporter": "python",
   "pygments_lexer": "ipython2",
   "version": "2.7.6"
  }
 },
 "nbformat": 4,
 "nbformat_minor": 0
}
