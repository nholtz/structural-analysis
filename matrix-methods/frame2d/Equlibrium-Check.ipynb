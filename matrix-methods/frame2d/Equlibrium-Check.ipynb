{
 "cells": [
  {
   "cell_type": "code",
   "execution_count": 13,
   "metadata": {
    "collapsed": true
   },
   "outputs": [],
   "source": [
    "dir = 'KG82sd.d'\n",
    "\n",
    "def filename(basename):\n",
    "    return dir + '/' + basename + '.csv'\n",
    "\n",
    "def Warn(msg):\n",
    "    print('!!!!! Warning: {}'.format(msg))"
   ]
  },
  {
   "cell_type": "code",
   "execution_count": 26,
   "metadata": {
    "collapsed": true
   },
   "outputs": [],
   "source": [
    "import pandas as pd\n",
    "import math"
   ]
  },
  {
   "cell_type": "code",
   "execution_count": 15,
   "metadata": {
    "collapsed": false
   },
   "outputs": [],
   "source": [
    "class Node(object):\n",
    "    \n",
    "    def __init__(self,id,x,y):\n",
    "        self.id = id\n",
    "        self.x = x\n",
    "        self.y = y\n",
    "        self.sumFX = 0.\n",
    "        self.sumFY = 0.\n",
    "        self.sumMz = 0."
   ]
  },
  {
   "cell_type": "code",
   "execution_count": 18,
   "metadata": {
    "collapsed": false
   },
   "outputs": [
    {
     "data": {
      "text/plain": [
       "{'A': <__main__.Node at 0x7efd79d949e8>,\n",
       " 'B': <__main__.Node at 0x7efd79d8bcf8>,\n",
       " 'C': <__main__.Node at 0x7efd79d8bda0>,\n",
       " 'D': <__main__.Node at 0x7efd79d8be10>,\n",
       " 'E': <__main__.Node at 0x7efd79d8be48>,\n",
       " 'F': <__main__.Node at 0x7efd79d8be80>,\n",
       " 'G': <__main__.Node at 0x7efd79d8beb8>,\n",
       " 'H': <__main__.Node at 0x7efd79d8bef0>,\n",
       " 'I': <__main__.Node at 0x7efd79d8bf28>,\n",
       " 'J': <__main__.Node at 0x7efd79d8bf60>,\n",
       " 'K': <__main__.Node at 0x7efd79d8bf98>,\n",
       " 'L': <__main__.Node at 0x7efd79d8bfd0>}"
      ]
     },
     "execution_count": 18,
     "metadata": {},
     "output_type": "execute_result"
    }
   ],
   "source": [
    "table = pd.read_csv(filename('nodes'))\n",
    "NODES = {}\n",
    "for i,n in table.iterrows():\n",
    "    if n.ID in NODES:\n",
    "        Warn(\"Node '{}' is multiply defined.\".format(n.ID))\n",
    "    NODES[n.ID] = Node(n.ID,float(n.X),float(n.Y))\n",
    "NODES"
   ]
  },
  {
   "cell_type": "code",
   "execution_count": 23,
   "metadata": {
    "collapsed": true
   },
   "outputs": [],
   "source": [
    "class Member(object):\n",
    "    \n",
    "    def __init__(self,id,nodej,nodek):\n",
    "        self.id = id\n",
    "        self.nodej = nodej\n",
    "        self.nodek = nodek\n",
    "        \n",
    "        dx = nodek.x - nodej.x\n",
    "        dy = nodek.y - nodej.y\n",
    "        self.L = L = math.sqrt(dx*dx + dy*dy)\n",
    "        self.cosx = dx/L\n",
    "        self.cosy = dy/L"
   ]
  },
  {
   "cell_type": "code",
   "execution_count": 28,
   "metadata": {
    "collapsed": false
   },
   "outputs": [
    {
     "data": {
      "text/plain": [
       "{'AB': <__main__.Member at 0x7efd79d8b550>,\n",
       " 'BC': <__main__.Member at 0x7efd79d34470>,\n",
       " 'BE': <__main__.Member at 0x7efd79d34630>,\n",
       " 'CF': <__main__.Member at 0x7efd79d345f8>,\n",
       " 'DE': <__main__.Member at 0x7efd79d344a8>,\n",
       " 'EF': <__main__.Member at 0x7efd79d344e0>,\n",
       " 'EG': <__main__.Member at 0x7efd79d346a0>,\n",
       " 'FH': <__main__.Member at 0x7efd79d34668>,\n",
       " 'GH': <__main__.Member at 0x7efd79d34550>,\n",
       " 'IG': <__main__.Member at 0x7efd79d34518>,\n",
       " 'JK': <__main__.Member at 0x7efd79d34588>,\n",
       " 'KB': <__main__.Member at 0x7efd79d346d8>,\n",
       " 'KL': <__main__.Member at 0x7efd79d345c0>,\n",
       " 'LC': <__main__.Member at 0x7efd79d34710>}"
      ]
     },
     "execution_count": 28,
     "metadata": {},
     "output_type": "execute_result"
    }
   ],
   "source": [
    "table = pd.read_csv(filename('members'))\n",
    "MEMBERS = {}\n",
    "for i,m in table.iterrows():\n",
    "    if m.ID in MEMBERS:\n",
    "        Warn(\"Member '{}' is multiply defined.\".format(m.ID))\n",
    "    MEMBERS[m.ID] = Member(m.ID,NODES[m.NODEJ],NODES[m.NODEK])\n",
    "MEMBERS"
   ]
  },
  {
   "cell_type": "code",
   "execution_count": null,
   "metadata": {
    "collapsed": true
   },
   "outputs": [],
   "source": []
  }
 ],
 "metadata": {
  "kernelspec": {
   "display_name": "Python 3",
   "language": "python",
   "name": "python3"
  },
  "language_info": {
   "codemirror_mode": {
    "name": "ipython",
    "version": 3
   },
   "file_extension": ".py",
   "mimetype": "text/x-python",
   "name": "python",
   "nbconvert_exporter": "python",
   "pygments_lexer": "ipython3",
   "version": "3.4.3"
  }
 },
 "nbformat": 4,
 "nbformat_minor": 0
}
