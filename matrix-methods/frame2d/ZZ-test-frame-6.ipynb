{
 "cells": [
  {
   "cell_type": "code",
   "execution_count": 1,
   "metadata": {
    "collapsed": false
   },
   "outputs": [],
   "source": [
    "from Frame2D import Frame2D"
   ]
  },
  {
   "cell_type": "markdown",
   "metadata": {},
   "source": [
    "![Frame 6](data/frame-6.d/frame-6.svg)"
   ]
  },
  {
   "cell_type": "code",
   "execution_count": 2,
   "metadata": {
    "collapsed": false,
    "scrolled": false
   },
   "outputs": [
    {
     "name": "stdout",
     "output_type": "stream",
     "text": [
      "\n",
      "Frame frame-6:\n",
      "==============\n",
      "\n",
      "\n",
      "              # of nodal degrees of freedom: 12\n",
      "  # of constrained nodal degrees of freedom: 5\n",
      "# of unconstrained nodal degrees of freedom: 7  (= degree of kinematic indeterminacy)\n",
      "\n",
      "                               # of members: 3\n",
      "                             # of reactions: 5\n",
      "                                 # of nodes: 4\n",
      "                            # of conditions: 0\n",
      "           degree of statical indeterminacy: 2\n",
      "\n",
      "\n",
      "\n",
      "Nodes:\n",
      "======\n",
      "\n",
      "Node          X         Y  Constraints  DOF #s\n",
      "----      -----     -----  -----------  ------\n",
      "A             0         0  FX,FY,MZ     7,8,9\n",
      "B             0      4000               0,1,2\n",
      "C          8000      4000               3,4,5\n",
      "D          8000         0  FX,FY        10,11,6\n",
      "\n",
      "\n",
      "\n",
      "Members:\n",
      "========\n",
      "\n",
      "Member   Node-J  Node-K    Length       dcx       dcy  Size                Ix           A  Releases\n",
      "------   ------  ------    ------   -------   -------  --------      --------       -----  --------\n",
      "AB       A       B         4000.0   0.00000   1.00000  W310x97       2.22e+08       12300  \n",
      "BC       B       C         8000.0   1.00000   0.00000  W460x106      4.88e+08       13500  \n",
      "DC       D       C         4000.0   0.00000   1.00000                2.22e+08       12300  \n",
      "\n",
      "\n",
      "\n",
      "Node Loads:\n",
      "===========\n",
      "\n",
      "Type      Node      FX          FY          MZ\n",
      "----      ----  ----------  ----------  ----------\n",
      "wind      B        -200000           0           0\n",
      "\n",
      "Member Loads:\n",
      "=============\n",
      "\n",
      "Type      Member  Load\n",
      "----      ------  ----------------\n",
      "live      BC      UDL(L=8000.0,w=-50)\n",
      "live      BC      PL(L=8000.0,P=-200000,a=5000.0)\n",
      "\n",
      "Support Displacements:\n",
      "======================\n",
      "\n",
      " - - - none - - -\n",
      "\n",
      "Load Combinations:\n",
      "==================\n",
      "\n",
      "Case   Type      Factor\n",
      "-----  ----      ------\n",
      "one    live        1.00\n",
      " \"     wind        1.00\n",
      "all    live        1.00\n",
      " \"     wind        1.00\n",
      "\n",
      "Results for load case: one\n",
      "++++++++++++++++++++++++++\n",
      "\n",
      "\n",
      "Node Displacements:\n",
      "===================\n",
      "\n",
      "Node        DX         DY      Rotation\n",
      "----      ------     ------   ---------\n",
      "A          0.000      0.000   0.0000000\n",
      "B        -22.018     -0.522  -0.0028372\n",
      "C        -22.109     -0.453   0.0091956\n",
      "D          0.000      0.000   0.0036929\n",
      "\n",
      "Reactions:\n",
      "==========\n",
      "\n",
      "Node        FX         FY         MZ  \n",
      "----     -------    -------    -------\n",
      "A        230.540    321.302   -429.587\n",
      "D        -30.540    278.698      --   \n",
      "\n",
      "Member End Forces:\n",
      "==================\n",
      "\n",
      "          /----- Axial -----/   /----- Shear -----/   /----- Moment ----/\n",
      "Member       FX J       FX K       FY J       FY K       MZ J       MZ K\n",
      "------     -------    -------    -------    -------    -------    -------\n",
      "AB         321.302   -321.302   -230.540    230.540   -429.587   -492.573\n",
      "BC          30.540    -30.540    321.302    278.698    492.573   -122.160\n",
      "DC         278.698   -278.698     30.540    -30.540     -0.000    122.160\n"
     ]
    }
   ],
   "source": [
    "f = Frame2D('frame-6')\n",
    "f.input_all()\n",
    "f.print_input()\n",
    "R = f.solve('one')\n",
    "f.print_results(rs=R)"
   ]
  },
  {
   "cell_type": "markdown",
   "metadata": {},
   "source": [
    "Compare the above reactions and displacements with [V03](../Old/frame2d-v03/example-frame-6.ipynb).  They seem to agree."
   ]
  },
  {
   "cell_type": "code",
   "execution_count": null,
   "metadata": {
    "collapsed": true
   },
   "outputs": [],
   "source": []
  }
 ],
 "metadata": {
  "kernelspec": {
   "display_name": "Python 2",
   "language": "python",
   "name": "python2"
  },
  "language_info": {
   "codemirror_mode": {
    "name": "ipython",
    "version": 2
   },
   "file_extension": ".py",
   "mimetype": "text/x-python",
   "name": "python",
   "nbconvert_exporter": "python",
   "pygments_lexer": "ipython2",
   "version": "2.7.6"
  },
  "widgets": {
   "state": {},
   "version": "1.1.1"
  }
 },
 "nbformat": 4,
 "nbformat_minor": 0
}
