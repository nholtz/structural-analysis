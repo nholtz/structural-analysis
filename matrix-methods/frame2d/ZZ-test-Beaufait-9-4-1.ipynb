{
 "cells": [
  {
   "cell_type": "markdown",
   "metadata": {},
   "source": [
    "# Example 9.4.1, Beaufait 1977\n",
    "From, *Basic Concepts of Structural Analysis*, Beaufait, Fred W., Prentice-Hall, 1977."
   ]
  },
  {
   "cell_type": "code",
   "execution_count": 1,
   "metadata": {
    "collapsed": false
   },
   "outputs": [],
   "source": [
    "from salib import import_notebooks\n",
    "from Frame2D import Frame2D\n",
    "from Members import Member"
   ]
  },
  {
   "cell_type": "code",
   "execution_count": 2,
   "metadata": {
    "collapsed": true
   },
   "outputs": [],
   "source": [
    "# because units are kips, inches\n",
    "\n",
    "Member.E = 30000.    #ksi\n",
    "Member.G = 11500."
   ]
  },
  {
   "cell_type": "code",
   "execution_count": 3,
   "metadata": {
    "collapsed": false
   },
   "outputs": [
    {
     "name": "stdout",
     "output_type": "stream",
     "text": [
      "\n",
      "Frame Beaufait-9-4-1:\n",
      "=====================\n",
      "\n",
      "\n",
      "              # of nodal degrees of freedom: 12\n",
      "  # of constrained nodal degrees of freedom: 6\n",
      "# of unconstrained nodal degrees of freedom: 6  (= degree of kinematic indeterminacy)\n",
      "\n",
      "                               # of members: 3\n",
      "                             # of reactions: 6\n",
      "                                 # of nodes: 4\n",
      "                            # of conditions: 0\n",
      "           degree of statical indeterminacy: 3\n",
      "\n",
      "\n",
      "\n",
      "Nodes:\n",
      "======\n",
      "\n",
      "Node          X         Y  Constraints  DOF #s\n",
      "----      -----     -----  -----------  ------\n",
      "N1            0         0  FX,FY,MZ     6,7,8\n",
      "N2            0       180               0,1,2\n",
      "N3          288       300               3,4,5\n",
      "N4          288         0  FX,FY,MZ     9,10,11\n",
      "\n",
      "\n",
      "\n",
      "Members:\n",
      "========\n",
      "\n",
      "Member   Node-J  Node-K    Length       dcx       dcy  Size                Ix           A  Releases\n",
      "------   ------  ------    ------   -------   -------  --------      --------       -----  --------\n",
      "M1       N1      N2         180.0   0.00000   1.00000                     450          15  \n",
      "M2       N2      N3         312.0   0.92308   0.38462                    1800          15  \n",
      "M3       N3      N4         300.0   0.00000  -1.00000                     900          30  \n",
      "\n",
      "\n",
      "\n",
      "Node Loads:\n",
      "===========\n",
      "\n",
      "Type      Node      FX          FY          MZ\n",
      "----      ----  ----------  ----------  ----------\n",
      "wind      N2             8           0           0\n",
      "\n",
      "Member Loads:\n",
      "=============\n",
      "\n",
      "Type      Member  Load\n",
      "----      ------  ----------------\n",
      "snow      M2      PL(L=312.0,P=-24.0,a=156.0)\n",
      "snow      M2      PLA(L=312.0,P=-10.0,a=156.0)\n",
      "\n",
      "Support Displacements:\n",
      "======================\n",
      "\n",
      " - - - none - - -\n",
      "\n",
      "Load Combinations:\n",
      "==================\n",
      "\n",
      "Case   Type      Factor\n",
      "-----  ----      ------\n",
      "all    snow        1.00\n",
      " \"     wind        1.00\n",
      "\n",
      "Results for load case: all\n",
      "++++++++++++++++++++++++++\n",
      "\n",
      "\n",
      "Node Displacements:\n",
      "===================\n",
      "\n",
      "Node        DX         DY      Rotation\n",
      "----      ------     ------   ---------\n",
      "N1         0.000      0.000   0.0000000\n",
      "N2         0.280     -0.005  -0.0020236\n",
      "N3         0.277     -0.005   0.0010855\n",
      "N4         0.000      0.000   0.0000000\n",
      "\n",
      "Reactions:\n",
      "==========\n",
      "\n",
      "Node        FX         FY         MZ  \n",
      "----     -------    -------    -------\n",
      "N1        -2.724     11.787     33.075\n",
      "N4        -5.276     14.213     57.813\n",
      "\n",
      "Member End Forces:\n",
      "==================\n",
      "\n",
      "          /----- Axial -----/   /----- Shear -----/   /----- Moment ----/\n",
      "Member       FX J       FX K       FY J       FY K       MZ J       MZ K\n",
      "------     -------    -------    -------    -------    -------    -------\n",
      "M1          11.787    -11.787      2.724     -2.724     33.075      7.780\n",
      "M2           9.404      0.596      8.851     15.149     -7.780    -74.095\n",
      "M3          14.213    -14.213      5.276     -5.276     74.095     57.813\n"
     ]
    }
   ],
   "source": [
    "frame = Frame2D('Beaufait-9-4-1')   # Example 9.4.1, p. 460\n",
    "frame.input_all()\n",
    "rs = frame.solve()\n",
    "frame.print_input()\n",
    "frame.print_results(rs,mult=[1.,1.,1./12.])"
   ]
  },
  {
   "cell_type": "markdown",
   "metadata": {},
   "source": [
    "### Compare Solution Here with that in the Book"
   ]
  },
  {
   "cell_type": "code",
   "execution_count": 4,
   "metadata": {
    "collapsed": false
   },
   "outputs": [
    {
     "data": {
      "text/html": [
       "<div>\n",
       "<table border=\"1\" class=\"dataframe\">\n",
       "  <thead>\n",
       "    <tr style=\"text-align: right;\">\n",
       "      <th></th>\n",
       "      <th>FXJ</th>\n",
       "      <th>FYJ</th>\n",
       "      <th>MZJ</th>\n",
       "      <th>FXK</th>\n",
       "      <th>FYK</th>\n",
       "      <th>MZK</th>\n",
       "    </tr>\n",
       "    <tr>\n",
       "      <th>ID</th>\n",
       "      <th></th>\n",
       "      <th></th>\n",
       "      <th></th>\n",
       "      <th></th>\n",
       "      <th></th>\n",
       "      <th></th>\n",
       "    </tr>\n",
       "  </thead>\n",
       "  <tbody>\n",
       "    <tr>\n",
       "      <th>M1</th>\n",
       "      <td>11.77</td>\n",
       "      <td>2.72</td>\n",
       "      <td>396.72</td>\n",
       "      <td>-11.77</td>\n",
       "      <td>-2.72</td>\n",
       "      <td>93.00</td>\n",
       "    </tr>\n",
       "    <tr>\n",
       "      <th>M2</th>\n",
       "      <td>9.40</td>\n",
       "      <td>8.85</td>\n",
       "      <td>-93.96</td>\n",
       "      <td>0.60</td>\n",
       "      <td>15.15</td>\n",
       "      <td>-889.32</td>\n",
       "    </tr>\n",
       "    <tr>\n",
       "      <th>M3</th>\n",
       "      <td>14.18</td>\n",
       "      <td>5.27</td>\n",
       "      <td>889.20</td>\n",
       "      <td>-14.18</td>\n",
       "      <td>-5.27</td>\n",
       "      <td>693.72</td>\n",
       "    </tr>\n",
       "  </tbody>\n",
       "</table>\n",
       "</div>"
      ],
      "text/plain": [
       "      FXJ   FYJ     MZJ    FXK    FYK     MZK\n",
       "ID                                           \n",
       "M1  11.77  2.72  396.72 -11.77  -2.72   93.00\n",
       "M2   9.40  8.85  -93.96   0.60  15.15 -889.32\n",
       "M3  14.18  5.27  889.20 -14.18  -5.27  693.72"
      ]
     },
     "execution_count": 4,
     "metadata": {},
     "output_type": "execute_result"
    }
   ],
   "source": [
    "import pandas as pd\n",
    "efs = [('M1',11.77,2.72,33.06,-11.77,-2.72,7.75),  # end forces from soln, Beaufait, p 473\n",
    "       ('M2',9.40,8.85,-7.83,0.60,15.15,-74.11),\n",
    "       ('M3',14.18,5.27,74.10,-14.18,-5.27,57.81)]\n",
    "BOOK_MEFS = pd.DataFrame(efs,columns='ID,FXJ,FYJ,MZJ,FXK,FYK,MZK'.split(',')).set_index('ID')\n",
    "BOOK_MEFS[['MZJ','MZK']] *= 12.   # convert ft-kips to in-kips\n",
    "BOOK_MEFS"
   ]
  },
  {
   "cell_type": "code",
   "execution_count": 5,
   "metadata": {
    "collapsed": false
   },
   "outputs": [
    {
     "data": {
      "text/html": [
       "<div>\n",
       "<table border=\"1\" class=\"dataframe\">\n",
       "  <thead>\n",
       "    <tr style=\"text-align: right;\">\n",
       "      <th></th>\n",
       "      <th>FXJ</th>\n",
       "      <th>FYJ</th>\n",
       "      <th>MZJ</th>\n",
       "      <th>FXK</th>\n",
       "      <th>FYK</th>\n",
       "      <th>MZK</th>\n",
       "    </tr>\n",
       "    <tr>\n",
       "      <th>ID</th>\n",
       "      <th></th>\n",
       "      <th></th>\n",
       "      <th></th>\n",
       "      <th></th>\n",
       "      <th></th>\n",
       "      <th></th>\n",
       "    </tr>\n",
       "  </thead>\n",
       "  <tbody>\n",
       "    <tr>\n",
       "      <th>M1</th>\n",
       "      <td>11.787008</td>\n",
       "      <td>2.723643</td>\n",
       "      <td>396.897076</td>\n",
       "      <td>-11.787008</td>\n",
       "      <td>-2.723643</td>\n",
       "      <td>93.358711</td>\n",
       "    </tr>\n",
       "    <tr>\n",
       "      <th>M2</th>\n",
       "      <td>9.403948</td>\n",
       "      <td>8.850947</td>\n",
       "      <td>-93.358711</td>\n",
       "      <td>0.596052</td>\n",
       "      <td>15.149053</td>\n",
       "      <td>-889.145838</td>\n",
       "    </tr>\n",
       "    <tr>\n",
       "      <th>M3</th>\n",
       "      <td>14.212992</td>\n",
       "      <td>5.276357</td>\n",
       "      <td>889.145838</td>\n",
       "      <td>-14.212992</td>\n",
       "      <td>-5.276357</td>\n",
       "      <td>693.761182</td>\n",
       "    </tr>\n",
       "  </tbody>\n",
       "</table>\n",
       "</div>"
      ],
      "text/plain": [
       "          FXJ       FYJ         MZJ        FXK        FYK         MZK\n",
       "ID                                                                   \n",
       "M1  11.787008  2.723643  396.897076 -11.787008  -2.723643   93.358711\n",
       "M2   9.403948  8.850947  -93.358711   0.596052  15.149053 -889.145838\n",
       "M3  14.212992  5.276357  889.145838 -14.212992  -5.276357  693.761182"
      ]
     },
     "execution_count": 5,
     "metadata": {},
     "output_type": "execute_result"
    }
   ],
   "source": [
    "HERE_MEFS = pd.DataFrame(frame.list_member_end_forces(rs),\n",
    "                         columns='ID,FXJ,FYJ,MZJ,FXK,FYK,MZK'.split(',')).set_index('ID')\n",
    "HERE_MEFS"
   ]
  },
  {
   "cell_type": "code",
   "execution_count": 6,
   "metadata": {
    "collapsed": false
   },
   "outputs": [
    {
     "data": {
      "text/html": [
       "<div>\n",
       "<table border=\"1\" class=\"dataframe\">\n",
       "  <thead>\n",
       "    <tr style=\"text-align: right;\">\n",
       "      <th></th>\n",
       "      <th>FXJ</th>\n",
       "      <th>FYJ</th>\n",
       "      <th>MZJ</th>\n",
       "      <th>FXK</th>\n",
       "      <th>FYK</th>\n",
       "      <th>MZK</th>\n",
       "    </tr>\n",
       "    <tr>\n",
       "      <th>ID</th>\n",
       "      <th></th>\n",
       "      <th></th>\n",
       "      <th></th>\n",
       "      <th></th>\n",
       "      <th></th>\n",
       "      <th></th>\n",
       "    </tr>\n",
       "  </thead>\n",
       "  <tbody>\n",
       "    <tr>\n",
       "      <th>M1</th>\n",
       "      <td>0.14</td>\n",
       "      <td>0.13</td>\n",
       "      <td>0.04</td>\n",
       "      <td>0.14</td>\n",
       "      <td>0.13</td>\n",
       "      <td>0.39</td>\n",
       "    </tr>\n",
       "    <tr>\n",
       "      <th>M2</th>\n",
       "      <td>0.04</td>\n",
       "      <td>0.01</td>\n",
       "      <td>-0.64</td>\n",
       "      <td>-0.66</td>\n",
       "      <td>-0.01</td>\n",
       "      <td>-0.02</td>\n",
       "    </tr>\n",
       "    <tr>\n",
       "      <th>M3</th>\n",
       "      <td>0.23</td>\n",
       "      <td>0.12</td>\n",
       "      <td>-0.01</td>\n",
       "      <td>0.23</td>\n",
       "      <td>0.12</td>\n",
       "      <td>0.01</td>\n",
       "    </tr>\n",
       "  </tbody>\n",
       "</table>\n",
       "</div>"
      ],
      "text/plain": [
       "     FXJ   FYJ   MZJ   FXK   FYK   MZK\n",
       "ID                                    \n",
       "M1  0.14  0.13  0.04  0.14  0.13  0.39\n",
       "M2  0.04  0.01 -0.64 -0.66 -0.01 -0.02\n",
       "M3  0.23  0.12 -0.01  0.23  0.12  0.01"
      ]
     },
     "execution_count": 6,
     "metadata": {},
     "output_type": "execute_result"
    }
   ],
   "source": [
    "pdiff = (100*(HERE_MEFS-BOOK_MEFS)/BOOK_MEFS)\n",
    "pdiff.round(2)"
   ]
  },
  {
   "cell_type": "markdown",
   "metadata": {},
   "source": [
    "Max difference is 0.66%"
   ]
  },
  {
   "cell_type": "code",
   "execution_count": null,
   "metadata": {
    "collapsed": true
   },
   "outputs": [],
   "source": []
  }
 ],
 "metadata": {
  "kernelspec": {
   "display_name": "Python 2",
   "language": "python",
   "name": "python2"
  },
  "language_info": {
   "codemirror_mode": {
    "name": "ipython",
    "version": 2
   },
   "file_extension": ".py",
   "mimetype": "text/x-python",
   "name": "python",
   "nbconvert_exporter": "python",
   "pygments_lexer": "ipython2",
   "version": "2.7.6"
  },
  "widgets": {
   "state": {},
   "version": "1.1.1"
  }
 },
 "nbformat": 4,
 "nbformat_minor": 0
}
