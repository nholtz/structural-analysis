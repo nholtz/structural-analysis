{
 "cells": [
  {
   "cell_type": "markdown",
   "metadata": {},
   "source": [
    "# Class Node\n",
    "Class `Node` represents the nodes (or joints) of the structure.  A node\n",
    "has $x-$ and $y-$ coordinate values, a set of up to 3 constrained\n",
    "directions, and a list giving the DOF #'s for each of the\n",
    "three directions (the DOF#'s are used to build the structural stiffness and other matrices)."
   ]
  },
  {
   "cell_type": "code",
   "execution_count": 1,
   "metadata": {
    "collapsed": true
   },
   "outputs": [],
   "source": [
    "import math"
   ]
  },
  {
   "cell_type": "code",
   "execution_count": 2,
   "metadata": {
    "collapsed": true
   },
   "outputs": [],
   "source": [
    "class Node(object):\n",
    "    \n",
    "    DIRECTIONS = {'FX':0, 'FY':1, 'MZ':2}\n",
    "    \n",
    "    def __init__(self,ident,x,y):\n",
    "        \"\"\"Initialize a new instance with the given identifier and x-\n",
    "        and y- coordinate values. The set of constraints is set to empty,\n",
    "        and the 3 dof numbers are unset.\"\"\"\n",
    "        self.id = ident\n",
    "        self.x = x\n",
    "        self.y = y\n",
    "        self.constraints = set()\n",
    "        self.dofnums = [None] * 3\n",
    "        \n",
    "    def add_constraint(self,cname):\n",
    "        \"\"\"Add a constrained direction to the set of constraints.  The constraint\n",
    "        name, cname, must be one of the 3 valid directions (FX, FY or MZ).\"\"\"\n",
    "        c = cname.upper()\n",
    "        if c not in self.DIRECTIONS:\n",
    "            raise ValueError('Invalid constraint name: {}'.format(cname))\n",
    "        self.constraints.add(c)\n",
    "        \n",
    "    def to(self,other):\n",
    "        \"\"\"Return the directional cosines and distance to the other node as\n",
    "        a 3-tuple.\"\"\"\n",
    "        dx = other.x-self.x\n",
    "        dy = other.y-self.y\n",
    "        L = math.sqrt(dx*dx + dy*dy)\n",
    "        return dx/L,dy/L,L\n",
    "        \n",
    "    def __repr__(self):\n",
    "        return '{}(\"{}\",{},{})'.format(self.__class__.__name__,self.id,self.x,self.y)"
   ]
  },
  {
   "cell_type": "code",
   "execution_count": 3,
   "metadata": {
    "collapsed": false
   },
   "outputs": [
    {
     "data": {
      "text/plain": [
       "(Node(\"A\",10.0,20.0), Node(\"B\",14.0,17.0), (0.8, -0.6, 5.0))"
      ]
     },
     "execution_count": 3,
     "metadata": {},
     "output_type": "execute_result"
    }
   ],
   "source": [
    "##test:\n",
    "a = Node('A',10.,20.)\n",
    "b = Node('B',a.x+4.,a.y-3.)\n",
    "a,b,a.to(b)"
   ]
  },
  {
   "cell_type": "code",
   "execution_count": 4,
   "metadata": {
    "collapsed": false
   },
   "outputs": [
    {
     "data": {
      "text/plain": [
       "(5.0, -0.8, 0.6)"
      ]
     },
     "execution_count": 4,
     "metadata": {},
     "output_type": "execute_result"
    }
   ],
   "source": [
    "##test:\n",
    "cx,cy,l = b.to(a)\n",
    "l,cx,cy"
   ]
  }
 ],
 "metadata": {
  "kernelspec": {
   "display_name": "Python 2",
   "language": "python",
   "name": "python2"
  },
  "language_info": {
   "codemirror_mode": {
    "name": "ipython",
    "version": 2
   },
   "file_extension": ".py",
   "mimetype": "text/x-python",
   "name": "python",
   "nbconvert_exporter": "python",
   "pygments_lexer": "ipython2",
   "version": "2.7.6"
  },
  "widgets": {
   "state": {},
   "version": "1.1.1"
  }
 },
 "nbformat": 4,
 "nbformat_minor": 0
}
