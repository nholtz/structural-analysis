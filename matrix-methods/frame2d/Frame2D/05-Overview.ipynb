{
 "cells": [
  {
   "cell_type": "markdown",
   "metadata": {},
   "source": [
    "# Overview of Frame2D\n",
    "This notebook provides a brief overview of the implementation of matrix stiffness analysis of 2-Dimensional\n",
    "structural frames."
   ]
  },
  {
   "cell_type": "markdown",
   "metadata": {},
   "source": [
    "#### Processing node data input\n",
    "The `node` table is processed and a [Node](Nodes.ipynb) object is created for each row.  Initially, each object\n",
    "contains only the node ID and the x- and y- coordinate values.  Eventually, each node object will also\n",
    "contain information about constraints and DOF #s - at this stage they are initialized to null values.\n",
    "If two nodes with the same ID are noted, and exception is raised.\n",
    "\n",
    "Then the `supports` table is processed; each row contains a node id and up to 3 constraint specifications\n",
    "(a constraint specification is one of the indicators `FX`, `FY`, or `MZ`).  The set of constraints\n",
    "maintained with each node is updated."
   ]
  },
  {
   "cell_type": "markdown",
   "metadata": {},
   "source": [
    "#### Processing member data input\n",
    "The `member` table specifies the connectivity of structural members; each row contains the\n",
    "ID of a member and the two ID's of the nodes at either end.  For each row, a [Member](Members.ipynb)\n",
    "object is created.  Each object contains the member ID and the node objects for each end (the j- and the\n",
    "k- end).  When the member object is created, the constructor computes the length and the direction\n",
    "cosines (using the node coordinates of course).\n",
    "\n",
    "Each member object will eventually contain member properties ($I_x$ and $A$), a set of force releases,\n",
    "a member stiffness matrix in local and global coordinates, and a transformation matrix from global to local\n",
    "coordinates.  When the object is first created, the constructor initialzes these to null values.\n",
    "\n",
    "  > **Note:** it may be a mistake to carry the matrices along with the member object;  a full second\n",
    "  > order analysis will write the equilibrium equations on the deformed structure, and these will\n",
    "  > have to be recomputed from updated node coordinates on each iteration.  It may be better to\n",
    "  > maintain them in a separate data structure - perhaps a dictionary indexed by member.  But for\n",
    "  > now, do as described above.\n",
    "\n",
    "The `member_releases` table specifies force releases internal to members.  Currently only moment releases\n",
    "at either end are supported (this constrain the internal moment to zero, and thus correspond to 'pins').\n",
    "This table is processed, and the releases indicated are added to the force release set in the\n",
    "appropriate member objects.  Eventually, the release information will be used to modify the\n",
    "local member stiffness matrices.\n",
    "\n",
    "The `properties table` specifies the moment of intertia, $I_x$, and cross-sectional area, $A$, of\n",
    "each member.  Some convenience facilities are provide: the size may be given using a structural\n",
    "shape designation, such as 'W310x34', and values may be left blank in the CSV data to indicate\n",
    "replication of values from above.  There should be one row for each member; this file is processed\n",
    "and the propertie values of each member object are updated."
   ]
  },
  {
   "cell_type": "markdown",
   "metadata": {},
   "source": [
    "#### Processing node loads input"
   ]
  },
  {
   "cell_type": "markdown",
   "metadata": {},
   "source": [
    "#### Processing constrained node displacement inputs"
   ]
  },
  {
   "cell_type": "markdown",
   "metadata": {},
   "source": [
    "#### Processing member loads input"
   ]
  },
  {
   "cell_type": "markdown",
   "metadata": {},
   "source": [
    "#### Processing load combination input"
   ]
  },
  {
   "cell_type": "markdown",
   "metadata": {},
   "source": [
    "#### Numbering the degrees of freedom"
   ]
  },
  {
   "cell_type": "markdown",
   "metadata": {},
   "source": [
    "#### Creating load, displacement and stiffness matrices"
   ]
  }
 ],
 "metadata": {
  "kernelspec": {
   "display_name": "Python 2",
   "language": "python",
   "name": "python2"
  },
  "language_info": {
   "codemirror_mode": {
    "name": "ipython",
    "version": 2
   },
   "file_extension": ".py",
   "mimetype": "text/x-python",
   "name": "python",
   "nbconvert_exporter": "python",
   "pygments_lexer": "ipython2",
   "version": "2.7.6"
  },
  "widgets": {
   "state": {},
   "version": "1.1.1"
  }
 },
 "nbformat": 4,
 "nbformat_minor": 0
}
