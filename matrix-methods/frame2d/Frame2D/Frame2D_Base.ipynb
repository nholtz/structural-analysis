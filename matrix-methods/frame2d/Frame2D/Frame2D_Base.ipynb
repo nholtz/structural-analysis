{
 "cells": [
  {
   "cell_type": "code",
   "execution_count": 1,
   "metadata": {
    "collapsed": true
   },
   "outputs": [],
   "source": [
    "from __future__ import print_function"
   ]
  },
  {
   "cell_type": "code",
   "execution_count": 2,
   "metadata": {
    "collapsed": true
   },
   "outputs": [],
   "source": [
    "from collections import OrderedDict, defaultdict\n",
    "from .LoadSets import LoadSet, LoadCombination\n",
    "from .Tables import DataSource"
   ]
  },
  {
   "cell_type": "code",
   "execution_count": 3,
   "metadata": {
    "collapsed": true
   },
   "outputs": [],
   "source": [
    "class Object(object):\n",
    "    pass\n",
    "\n",
    "class Frame2D(object):\n",
    "    \n",
    "    def __init__(self,dsname=None):\n",
    "        self.dsname = dsname\n",
    "        if dsname is not None:\n",
    "            DataSource.set_source(dsname)\n",
    "        self.reset()\n",
    "        \n",
    "    def reset(self):\n",
    "        self.rawdata = Object()\n",
    "        self.nodes = OrderedDict()\n",
    "        self.members = OrderedDict()\n",
    "        self.nodeloads = LoadSet()\n",
    "        self.nodedeltas = LoadSet()\n",
    "        self.memberloads = LoadSet()\n",
    "        self.loadcombinations = LoadCombination()\n",
    "        self.dofdesc = []\n",
    "        self.loadcase_fefs = {}\n",
    "        self.ndof = 0\n",
    "        self.nfree = 0\n",
    "        self.ncons = 0\n",
    "        self.R = None\n",
    "        self.D = None\n",
    "        self.PDF = None    # P-Delta forces"
   ]
  },
  {
   "cell_type": "code",
   "execution_count": 4,
   "metadata": {
    "collapsed": true
   },
   "outputs": [],
   "source": [
    "class ResultSet(object):\n",
    "    \n",
    "    \"\"\"Instances of class ResultSet gather together all of the results from\n",
    "    one complete structural analysis of one load case.\"\"\"\n",
    "    \n",
    "    def __init__(self,loadcase):\n",
    "        self.loadcase = loadcase\n",
    "        self.node_P = None       # applied node loads\n",
    "        self.memb_P = None       # applied fixed end member forces\n",
    "        self.memb_fefs = {}      # fixed end member forces, indexed by member\n",
    "        self.node_displacements = None  # all node displacements\n",
    "        self.reaction_displacements = None # constrained node displacements\n",
    "        self.reaction_forces = None        # constrained node reactions\n",
    "        self.member_efs = {}                 # member end forces, indexed by member\n",
    "        self.pdelta = False\n",
    "        self.pdelta_forces = None"
   ]
  },
  {
   "cell_type": "code",
   "execution_count": null,
   "metadata": {
    "collapsed": true
   },
   "outputs": [],
   "source": []
  }
 ],
 "metadata": {
  "kernelspec": {
   "display_name": "Python 2",
   "language": "python",
   "name": "python2"
  },
  "language_info": {
   "codemirror_mode": {
    "name": "ipython",
    "version": 3
   },
   "file_extension": ".py",
   "mimetype": "text/x-python",
   "name": "python",
   "nbconvert_exporter": "python",
   "pygments_lexer": "ipython3",
   "version": "3.5.3"
  },
  "widgets": {
   "state": {},
   "version": "1.1.1"
  }
 },
 "nbformat": 4,
 "nbformat_minor": 1
}
