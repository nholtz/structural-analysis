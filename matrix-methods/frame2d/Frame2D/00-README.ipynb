{
 "cells": [
  {
   "cell_type": "markdown",
   "metadata": {},
   "source": [
    "# 2-D Frame Analysis\n",
    "The code here will be displayed in the style of *semi-literate* program.  Fragments of code will be shown\n",
    "preceded by explanation and followed by examples and testing.\n",
    "\n",
    "At least, that is the theory.  Tere is very little explanation here, yet, but that will come.\n",
    "There are lots of examples (undocumented, of course)."
   ]
  },
  {
   "cell_type": "markdown",
   "metadata": {},
   "source": [
    "This might be a reasonable order for reading:"
   ]
  },
  {
   "cell_type": "markdown",
   "metadata": {
    "collapsed": true
   },
   "source": [
    "- [05-Overview](05-Overview.ipynb) - an overview of the input/solution process.\n",
    "- [Tables.ipynb](Tables.ipynb)  - general table and data source handling.\n",
    "- [Frame2D_Input.ipynb](Frame2D_Input.ipynb) - all of the input data tables and translation into internal data structures.\n",
    "- [Frame2D_SolveFirstOrder.ipynb](Frame2D_SolveFirstOrder.ipynb) - forming the load and stiffness matrix and obtaining a solution.\n",
    "- [Frame2D_Base.ipynb](Frame2D_Base.ipynb) - two base classws, `Frame2D` and `ResultSet`.\n",
    "- [Frame2D_Display.ipynb](Frame2D_Display.ipynb) - print input and results.\n",
    "- [Frame2D_Output.ipynb](Frame2D_Output.ipynb) - outputing frame and results to data files.\n",
    "- [Nodes.ipynb](Nodes.ipynb)  - class for Nodes.\n",
    "- [Members.ipynb](Members.ipynb)  - class for Members.\n",
    "- [NodeLoads.ipynb](NodeLoads.ipynb)  - class for loads on Nodes.\n",
    "- [MemberLoads.ipynb](MemberLoads.ipynb)  - classes for loads on Members.\n",
    "- [LoadSets.ipynb](LoadSets.ipynb) - sets of loads and combinations.\n"
   ]
  }
 ],
 "metadata": {
  "kernelspec": {
   "display_name": "Python 2",
   "language": "python",
   "name": "python2"
  },
  "language_info": {
   "codemirror_mode": {
    "name": "ipython",
    "version": 2
   },
   "file_extension": ".py",
   "mimetype": "text/x-python",
   "name": "python",
   "nbconvert_exporter": "python",
   "pygments_lexer": "ipython2",
   "version": "2.7.6"
  },
  "widgets": {
   "state": {},
   "version": "1.1.1"
  }
 },
 "nbformat": 4,
 "nbformat_minor": 0
}
