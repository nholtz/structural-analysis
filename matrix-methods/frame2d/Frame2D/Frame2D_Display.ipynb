{
 "cells": [
  {
   "cell_type": "markdown",
   "metadata": {},
   "source": [
    "# Display Inputs and Results"
   ]
  },
  {
   "cell_type": "code",
   "execution_count": 1,
   "metadata": {
    "collapsed": true
   },
   "outputs": [],
   "source": [
    "from __future__ import print_function"
   ]
  },
  {
   "cell_type": "code",
   "execution_count": 2,
   "metadata": {},
   "outputs": [],
   "source": [
    "from salib import extend, import_notebooks\n",
    "from .Nodes import Node\n",
    "from .Members import Member"
   ]
  },
  {
   "cell_type": "code",
   "execution_count": 3,
   "metadata": {},
   "outputs": [
    {
     "name": "stdout",
     "output_type": "stream",
     "text": [
      "Compiling notebook 'Frame2D_Base.ipynb' to 'Frame2D_Base.py'.\n"
     ]
    }
   ],
   "source": [
    "from .Frame2D_Base import Frame2D\n",
    "from . import Frame2D_Input"
   ]
  },
  {
   "cell_type": "code",
   "execution_count": 4,
   "metadata": {
    "collapsed": true
   },
   "outputs": [],
   "source": [
    "##test:\n",
    "f = Frame2D('frame-1')\n",
    "f.input_all()"
   ]
  },
  {
   "cell_type": "markdown",
   "metadata": {},
   "source": [
    "## Display Nodes"
   ]
  },
  {
   "cell_type": "code",
   "execution_count": 5,
   "metadata": {
    "collapsed": true
   },
   "outputs": [],
   "source": [
    "def prhead(txt,ul='='):\n",
    "    \"\"\"Print a heading and underline it.\"\"\"\n",
    "    print()\n",
    "    print(txt)\n",
    "    if ul:\n",
    "        print(ul*(len(txt)//len(ul)))\n",
    "    print()"
   ]
  },
  {
   "cell_type": "code",
   "execution_count": 6,
   "metadata": {},
   "outputs": [],
   "source": [
    "@extend\n",
    "class Frame2D:\n",
    "\n",
    "    def print_nodes(self,precision=0,printdof=False):\n",
    "        prhead('Nodes:')\n",
    "        print('Node          X         Y  Constraints  DOF #s')\n",
    "        print('----      -----     -----  -----------  ------')\n",
    "        for nid,node in self.nodes.items():\n",
    "            ct = ','.join(sorted(node.constraints,key=lambda t: Node.DIRECTIONS[t]))\n",
    "            dt = ','.join([str(x) for x in node.dofnums])\n",
    "            print('{:<5s}{:>10.{precision}f}{:>10.{precision}f}  {:<11s}  {}'\\\n",
    "                  .format(nid,node.x,node.y,ct,dt,precision=precision))\n",
    "        if not printdof:\n",
    "            return\n",
    "        print()\n",
    "        print('DOF#   Node  Dirn')\n",
    "        print('----   ----  ----')\n",
    "        for i in range(len(self.dofdesc)):\n",
    "            node,dirn = self.dofdesc[i]\n",
    "            print('{:>4d}   {:<4s}  {}'.format(i,node.id,dirn))\n"
   ]
  },
  {
   "cell_type": "code",
   "execution_count": 7,
   "metadata": {},
   "outputs": [
    {
     "name": "stdout",
     "output_type": "stream",
     "text": [
      "\n",
      "Nodes:\n",
      "======\n",
      "\n",
      "Node          X         Y  Constraints  DOF #s\n",
      "----      -----     -----  -----------  ------\n",
      "A             0         0  FX,FY,MZ     7,8,9\n",
      "B             0      4000               0,1,2\n",
      "C          8000      4000               3,4,5\n",
      "D          8000         0  FX,FY        10,11,6\n",
      "\n",
      "DOF#   Node  Dirn\n",
      "----   ----  ----\n",
      "   0   B     FX\n",
      "   1   B     FY\n",
      "   2   B     MZ\n",
      "   3   C     FX\n",
      "   4   C     FY\n",
      "   5   C     MZ\n",
      "   6   D     MZ\n",
      "   7   A     FX\n",
      "   8   A     FY\n",
      "   9   A     MZ\n",
      "  10   D     FX\n",
      "  11   D     FY\n"
     ]
    }
   ],
   "source": [
    "##test:\n",
    "f.print_nodes(printdof=True)"
   ]
  },
  {
   "cell_type": "markdown",
   "metadata": {},
   "source": [
    "## Display Members"
   ]
  },
  {
   "cell_type": "code",
   "execution_count": 8,
   "metadata": {},
   "outputs": [],
   "source": [
    "@extend\n",
    "class Frame2D:\n",
    "    \n",
    "    def print_members(self,precision=1):\n",
    "        prhead('Members:')\n",
    "        print('Member   Node-J  Node-K    Length       dcx       dcy  Size                Ix           A  Releases')\n",
    "        print('------   ------  ------    ------   -------   -------  --------      --------       -----  --------')\n",
    "        for mid,memb in self.members.items():\n",
    "            nj = memb.nodej\n",
    "            nk = memb.nodek\n",
    "            rt = ','.join(sorted(memb.releases,key=lambda t: Member.RELEASES[t]))\n",
    "            print('{:<7s}  {:<6s}  {:<6s}  {:>8.{precision}f}  {:>8.5f}  {:>8.5f}  {:<10s}  {:>10g}  {:>10g}  {}'\\\n",
    "                  .format(memb.id,nj.id,nk.id,memb.L,memb.dcx,memb.dcy,str(memb.size),memb.Ix,memb.A,rt,precision=precision))"
   ]
  },
  {
   "cell_type": "code",
   "execution_count": 9,
   "metadata": {},
   "outputs": [
    {
     "name": "stdout",
     "output_type": "stream",
     "text": [
      "\n",
      "Members:\n",
      "========\n",
      "\n",
      "Member   Node-J  Node-K    Length       dcx       dcy  Size                Ix           A  Releases\n",
      "------   ------  ------    ------   -------   -------  --------      --------       -----  --------\n",
      "AB       A       B         4000.0   0.00000   1.00000  W310x97       2.22e+08       12300  MZK\n",
      "BC       B       C         8000.0   1.00000   0.00000  W460x106      4.88e+08       13500  \n",
      "CD       C       D         4000.0   0.00000  -1.00000                2.22e+08       12300  MZJ\n"
     ]
    }
   ],
   "source": [
    "##test:\n",
    "f.print_members()"
   ]
  },
  {
   "cell_type": "markdown",
   "metadata": {},
   "source": [
    "## Display loads"
   ]
  },
  {
   "cell_type": "code",
   "execution_count": 10,
   "metadata": {},
   "outputs": [],
   "source": [
    "@extend\n",
    "class Frame2D:\n",
    "    \n",
    "    def print_loads(self,precision=0):\n",
    "        \n",
    "        prhead('Node Loads:')\n",
    "        if self.nodeloads:\n",
    "            print('Type      Node      FX          FY          MZ')\n",
    "            print('----      ----  ----------  ----------  ----------')\n",
    "            for lname,node,load in self.nodeloads:\n",
    "                print('{:<8s}  {:<4s}  {:>10.{precision}f}  {:>10.{precision}f}  {:>10.{precision}f}'\n",
    "                      .format(lname,node.id,load.fx,load.fy,load.mz,precision=precision))\n",
    "        else:\n",
    "            print(\" - - - none - - -\")\n",
    "\n",
    "        prhead('Member Loads:')\n",
    "        if self.memberloads:\n",
    "            print('Type      Member  Load')\n",
    "            print('----      ------  ----------------')\n",
    "            for lname,memb,load in self.memberloads:\n",
    "                print(\"{:<8s}  {:<6s}  {}\".format(lname,memb.id,load))\n",
    "        else:\n",
    "            print(\" - - - none - - -\")\n",
    "\n",
    "        prhead('Support Displacements:')\n",
    "        if self.nodedeltas:\n",
    "            print('Type      Node      DX          DY          TZ')\n",
    "            print('----      ----  ----------  ----------  ----------')\n",
    "            for lname,node,load in self.nodedeltas:\n",
    "                print('{:<8s}  {:<4s}  {:>10.{precision}f}  {:>10.{precision}f}  {:>10.{precision}f}'\n",
    "                      .format(lname,node.id,load.fx,load.fy,load.mz,precision=precision))\n",
    "        else:\n",
    "            print(\" - - - none - - -\")\n",
    "\n",
    "        prhead(\"Load Combinations:\")\n",
    "        if self.loadcombinations:\n",
    "            print('Case   Type      Factor')\n",
    "            print('-----  ----      ------')\n",
    "            prev = None\n",
    "            for cname,lname,f in self.loadcombinations:\n",
    "                cn = ' '*(len(prev)//2)+'\"' if cname == prev else cname\n",
    "                print(\"{:<5s}  {:<8s}  {:>6.2f}\".format(cn,lname,f))\n",
    "                prev = cname\n",
    "        else:\n",
    "            print(\" - - - none - - -\")\n"
   ]
  },
  {
   "cell_type": "code",
   "execution_count": 11,
   "metadata": {},
   "outputs": [
    {
     "name": "stdout",
     "output_type": "stream",
     "text": [
      "\n",
      "Node Loads:\n",
      "===========\n",
      "\n",
      "Type      Node      FX          FY          MZ\n",
      "----      ----  ----------  ----------  ----------\n",
      "wind      B        -200000           0           0\n",
      "\n",
      "Member Loads:\n",
      "=============\n",
      "\n",
      "Type      Member  Load\n",
      "----      ------  ----------------\n",
      "live      BC      UDL(L=8000.0,w=-50)\n",
      "live      BC      PL(L=8000.0,P=-200000,a=5000.0)\n",
      "\n",
      "Support Displacements:\n",
      "======================\n",
      "\n",
      "Type      Node      DX          DY          TZ\n",
      "----      ----  ----------  ----------  ----------\n",
      "other     A              0         -10           0\n",
      "\n",
      "Load Combinations:\n",
      "==================\n",
      "\n",
      "Case   Type      Factor\n",
      "-----  ----      ------\n",
      "one    live        1.50\n",
      " \"     wind        1.75\n",
      "all    live        1.00\n",
      " \"     other       1.00\n",
      " \"     wind        1.00\n"
     ]
    }
   ],
   "source": [
    "##test:\n",
    "f.print_loads()"
   ]
  },
  {
   "cell_type": "code",
   "execution_count": 12,
   "metadata": {},
   "outputs": [],
   "source": [
    "@extend\n",
    "class Frame2D:\n",
    "    \n",
    "    def print_input(self):\n",
    "        \n",
    "        prhead('Frame '+str(self.dsname)+':')\n",
    "        print()\n",
    "        print('              # of nodal degrees of freedom:',self.ndof)\n",
    "        print('  # of constrained nodal degrees of freedom:',self.ncons)\n",
    "        print('# of unconstrained nodal degrees of freedom:',self.nfree,' (= degree of kinematic indeterminacy)')\n",
    "        m = len(self.members)\n",
    "        r = self.ncons\n",
    "        j = len(self.nodes)\n",
    "        c = len(self.rawdata.releases)\n",
    "        print()\n",
    "        print('                               # of members:',m)\n",
    "        print('                             # of reactions:',r)\n",
    "        print('                                 # of nodes:',j)\n",
    "        print('                            # of conditions:',c)\n",
    "        print('           degree of statical indeterminacy:',(3*m+r)-(3*j+c))\n",
    "        print('\\n')\n",
    "\n",
    "        self.print_nodes()\n",
    "        print('\\n')\n",
    "        self.print_members()\n",
    "        print('\\n')\n",
    "        self.print_loads()"
   ]
  },
  {
   "cell_type": "code",
   "execution_count": 13,
   "metadata": {},
   "outputs": [
    {
     "name": "stdout",
     "output_type": "stream",
     "text": [
      "\n",
      "Frame frame-1:\n",
      "==============\n",
      "\n",
      "\n",
      "              # of nodal degrees of freedom: 12\n",
      "  # of constrained nodal degrees of freedom: 5\n",
      "# of unconstrained nodal degrees of freedom: 7  (= degree of kinematic indeterminacy)\n",
      "\n",
      "                               # of members: 3\n",
      "                             # of reactions: 5\n",
      "                                 # of nodes: 4\n",
      "                            # of conditions: 2\n",
      "           degree of statical indeterminacy: 0\n",
      "\n",
      "\n",
      "\n",
      "Nodes:\n",
      "======\n",
      "\n",
      "Node          X         Y  Constraints  DOF #s\n",
      "----      -----     -----  -----------  ------\n",
      "A             0         0  FX,FY,MZ     7,8,9\n",
      "B             0      4000               0,1,2\n",
      "C          8000      4000               3,4,5\n",
      "D          8000         0  FX,FY        10,11,6\n",
      "\n",
      "\n",
      "\n",
      "Members:\n",
      "========\n",
      "\n",
      "Member   Node-J  Node-K    Length       dcx       dcy  Size                Ix           A  Releases\n",
      "------   ------  ------    ------   -------   -------  --------      --------       -----  --------\n",
      "AB       A       B         4000.0   0.00000   1.00000  W310x97       2.22e+08       12300  MZK\n",
      "BC       B       C         8000.0   1.00000   0.00000  W460x106      4.88e+08       13500  \n",
      "CD       C       D         4000.0   0.00000  -1.00000                2.22e+08       12300  MZJ\n",
      "\n",
      "\n",
      "\n",
      "Node Loads:\n",
      "===========\n",
      "\n",
      "Type      Node      FX          FY          MZ\n",
      "----      ----  ----------  ----------  ----------\n",
      "wind      B        -200000           0           0\n",
      "\n",
      "Member Loads:\n",
      "=============\n",
      "\n",
      "Type      Member  Load\n",
      "----      ------  ----------------\n",
      "live      BC      UDL(L=8000.0,w=-50)\n",
      "live      BC      PL(L=8000.0,P=-200000,a=5000.0)\n",
      "\n",
      "Support Displacements:\n",
      "======================\n",
      "\n",
      "Type      Node      DX          DY          TZ\n",
      "----      ----  ----------  ----------  ----------\n",
      "other     A              0         -10           0\n",
      "\n",
      "Load Combinations:\n",
      "==================\n",
      "\n",
      "Case   Type      Factor\n",
      "-----  ----      ------\n",
      "one    live        1.50\n",
      " \"     wind        1.75\n",
      "all    live        1.00\n",
      " \"     other       1.00\n",
      " \"     wind        1.00\n"
     ]
    }
   ],
   "source": [
    "##test:\n",
    "f.print_input()"
   ]
  },
  {
   "cell_type": "code",
   "execution_count": 23,
   "metadata": {
    "collapsed": true
   },
   "outputs": [],
   "source": [
    "@extend\n",
    "class Frame2D:\n",
    "    \n",
    "    COLUMNS_pdelta_forces = ['NODEID','FX','FY','MZ']\n",
    "    \n",
    "    def list_pdelta_forces(self,rs,):\n",
    "        ans = []\n",
    "        if not rs.pdelta:\n",
    "            return ans\n",
    "        pdf = rs.pdelta_forces\n",
    "        for node in self.nodes.values():\n",
    "            p = pdf[node.dofnums]\n",
    "            if p[0,0] or p[1,0] or p[2,0]:\n",
    "                ans.append((node.id,p[0,0],p[1,0],p[2,0]))\n",
    "        return ans\n",
    "    \n",
    "    def print_pdelta_forces(self,rs,mult=[1e-3,1e-3,1e-6]):\n",
    "        plist = self.list_pdelta_forces(rs)\n",
    "        if not plist:\n",
    "            return\n",
    "        prhead('P-Delta Node Forces:')\n",
    "        print('Node        FX         FY         MZ  ')\n",
    "        print('----     -------    -------    -------')\n",
    "        for nid,fx,fy,mz in plist:\n",
    "            print('{:<5s} {:>10.3f} {:>10.3f} {:>11.7f}'.format(nid,fx*mult[0],fy*mult[1],mz*mult[2]))"
   ]
  },
  {
   "cell_type": "code",
   "execution_count": 24,
   "metadata": {
    "collapsed": true
   },
   "outputs": [],
   "source": [
    "@extend\n",
    "class Frame2D:\n",
    "    \n",
    "    def print_node_displacements(self,D=None,rs=None):\n",
    "        if rs is not None and D is None:\n",
    "            D = rs.node_displacements\n",
    "        prhead('Node Displacements:')\n",
    "        print('Node        DX         DY      Rotation')\n",
    "        print('----      ------     ------   ---------')\n",
    "        for node in self.nodes.values():\n",
    "            d = D[node.dofnums]\n",
    "            print('{:<5s} {:>10.3f} {:>10.3f} {:>11.7f}'.format(node.id,d[0,0],d[1,0],d[2,0]))    "
   ]
  },
  {
   "cell_type": "code",
   "execution_count": 25,
   "metadata": {},
   "outputs": [
    {
     "name": "stdout",
     "output_type": "stream",
     "text": [
      "\n",
      "Node Displacements:\n",
      "===================\n",
      "\n",
      "Node        DX         DY      Rotation\n",
      "----      ------     ------   ---------\n",
      "A          0.551      0.569   0.0873133\n",
      "B          0.373      0.451   0.7165907\n",
      "C          0.365      0.935   0.2958221\n",
      "D          0.685      0.521   0.4446164\n"
     ]
    }
   ],
   "source": [
    "##test:\n",
    "import numpy as np\n",
    "f.print_node_displacements(D=np.random.rand(f.ndof,1))"
   ]
  },
  {
   "cell_type": "code",
   "execution_count": 26,
   "metadata": {},
   "outputs": [],
   "source": [
    "@extend\n",
    "class Frame2D:\n",
    "    \n",
    "    def print_reactions(self,R=None,rs=None,mult=[1E-3,1E-3,1E-6]):\n",
    "        if R is None and rs is not None:\n",
    "            R = rs.reaction_forces\n",
    "        prhead('Reactions:')\n",
    "        print('Node        FX         FY         MZ  ')\n",
    "        print('----     -------    -------    -------')\n",
    "        for node in self.nodes.values():\n",
    "            if node.constraints:\n",
    "                efs = ['--   '] * 3\n",
    "                for dirn in node.constraints:\n",
    "                    i = Node.DIRECTIONS[dirn]\n",
    "                    j = node.dofnums[i]\n",
    "                    val = R[j-self.nfree,0]\n",
    "                    efs[i] = '{:>10.3f}'.format(val*mult[i])\n",
    "                print('{:<5s} {:>10s} {:>10s} {:>10s}'.format(node.id, *efs))"
   ]
  },
  {
   "cell_type": "code",
   "execution_count": 27,
   "metadata": {},
   "outputs": [
    {
     "name": "stdout",
     "output_type": "stream",
     "text": [
      "\n",
      "Reactions:\n",
      "==========\n",
      "\n",
      "Node        FX         FY         MZ  \n",
      "----     -------    -------    -------\n",
      "A          0.177      0.054      0.713\n",
      "D          0.979      0.787      --   \n"
     ]
    }
   ],
   "source": [
    "##test:\n",
    "f.print_reactions(R=np.random.rand(f.ncons,1),mult=[1,1,1])"
   ]
  },
  {
   "cell_type": "code",
   "execution_count": 28,
   "metadata": {},
   "outputs": [],
   "source": [
    "@extend\n",
    "class Frame2D:\n",
    "    \n",
    "    def print_mefs(self,rs,mult=[1E-3,1E-3,1E-6],precision=3):\n",
    "        prhead('Member End Forces:')\n",
    "        print('          /----- Axial -----/   /----- Shear -----/   /----- Moment ----/')\n",
    "        print('Member       FX J       FX K       FY J       FY K       MZ J       MZ K')\n",
    "        print('------     -------    -------    -------    -------    -------    -------')\n",
    "        for memb in self.members.values():\n",
    "            mefs = rs.member_efs[memb].fefs\n",
    "            fs = [mefs[i,0]*mult[i%len(mult)] for i in [0,3,1,4,2,5]]\n",
    "            s = ['{:>10.{precision}f}'.format(x,precision=precision) for x in fs]\n",
    "            print('{:<7s} {}'.format(memb.id,' '.join(s)))"
   ]
  },
  {
   "cell_type": "code",
   "execution_count": 29,
   "metadata": {
    "collapsed": true
   },
   "outputs": [],
   "source": [
    "@extend\n",
    "class Frame2D:\n",
    "    \n",
    "    def print_results(self,rs,mult=[1E-3,1E-3,1E-6]):\n",
    "        prhead('Results for load case: {}'.format(rs.loadcase),ul='+')\n",
    "        self.print_node_displacements(rs=rs)\n",
    "        self.print_pdelta_forces(rs=rs,mult=mult)\n",
    "        self.print_reactions(rs=rs,mult=mult)\n",
    "        self.print_mefs(rs=rs,mult=mult)"
   ]
  },
  {
   "cell_type": "code",
   "execution_count": 30,
   "metadata": {},
   "outputs": [
    {
     "name": "stdout",
     "output_type": "stream",
     "text": [
      "iter=1, max D=95.5189423658, max chg=0.600287975663, max % chg=0.628449144008\n",
      "iter=2, max D=95.5233118933, max chg=0.00451404125013, max % chg=0.00472559123073\n",
      "\n",
      "\n",
      "Results for load case: all\n",
      "++++++++++++++++++++++++++\n",
      "\n",
      "\n",
      "P-Delta Node Forces:\n",
      "====================\n",
      "\n",
      "Node        FX         FY         MZ  \n",
      "----     -------    -------    -------\n",
      "B         -6.567      0.000   0.0000000\n",
      "C          7.759      0.000   0.0000000\n",
      "\n",
      "Node Displacements:\n",
      "===================\n",
      "\n",
      "Node        DX         DY      Rotation\n",
      "----      ------     ------   ---------\n",
      "A          0.000    -10.000   0.0000000\n",
      "B        -95.523    -10.447  -0.0167332\n",
      "C        -95.500     -0.528   0.0204936\n",
      "D          0.000      0.000   0.0238751\n",
      "\n",
      "Reactions:\n",
      "==========\n",
      "\n",
      "Node        FX         FY         MZ  \n",
      "----     -------    -------    -------\n",
      "A        198.808    275.000   -795.232\n",
      "D         -0.000    325.000      --   \n",
      "\n",
      "Member End Forces:\n",
      "==================\n",
      "\n",
      "          /----- Axial -----/   /----- Shear -----/   /----- Moment ----/\n",
      "Member       FX J       FX K       FY J       FY K       MZ J       MZ K\n",
      "------     -------    -------    -------    -------    -------    -------\n",
      "AB         275.000   -275.000   -198.808    198.808   -795.232      0.000\n",
      "BC          -7.759      7.759    275.000    325.000     -0.000     -0.000\n",
      "CD         325.000   -325.000      0.000     -0.000      0.000      0.000\n"
     ]
    }
   ],
   "source": [
    "##test:\n",
    "import Frame2D_SolveFirstOrder\n",
    "f.reset()\n",
    "f.input_all()\n",
    "rs = f.solve(pdelta=True)\n",
    "f.print_results(rs)"
   ]
  },
  {
   "cell_type": "code",
   "execution_count": null,
   "metadata": {
    "collapsed": true
   },
   "outputs": [],
   "source": [
    "import numpy as np\n",
    "import matplotlib.pyplot as plt\n",
    "\n",
    "@extend\n",
    "class Frame2D:\n",
    "    \n",
    "    def show(self):\n",
    "        \"\"\"Draw the frame geometry.\"\"\"\n",
    "        # reformat the coordinates to that expected by plt.plot()\n",
    "        # (where each column of x is plotted against the corresponding column of y)\n",
    "        # Thus each column of x contains the x-coords at either end of member; y similar\n",
    "        n = len(self.members)\n",
    "        x = np.zeros((2,n))\n",
    "        y = np.zeros((2,n))\n",
    "        for j,m in enumerate(self.members.values()):\n",
    "            x[0,j] = m.nodej.x\n",
    "            x[1,j] = m.nodek.x\n",
    "            y[0,j] = m.nodej.y\n",
    "            y[1,j] = m.nodek.y\n",
    "        # size and set the drawing limits s.t. x- and y-scales are roughly the same\n",
    "        xmin = np.min(x)\n",
    "        xmax = np.max(x)\n",
    "        ymin = np.min(y)\n",
    "        ymax = np.max(y)\n",
    "        size = max(xmax-xmin,ymax-ymin)*1.05\n",
    "        xmid = (xmax+xmin)/2.\n",
    "        ymid = (ymax+ymin)/2.\n",
    "        \n",
    "        plt.figure(figsize=(8.,8.))\n",
    "        plt.axis([xmid-size/2.,xmid+size/2.,ymid-size/2.,ymid+size/2.])\n",
    "        plt.grid(True)\n",
    "        plt.plot(x,y,'b-')"
   ]
  },
  {
   "cell_type": "code",
   "execution_count": null,
   "metadata": {},
   "outputs": [],
   "source": [
    "##test:\n",
    "%matplotlib inline\n",
    "f.show()"
   ]
  }
 ],
 "metadata": {
  "kernelspec": {
   "display_name": "Python 2",
   "language": "python",
   "name": "python2"
  },
  "language_info": {
   "codemirror_mode": {
    "name": "ipython",
    "version": 2
   },
   "file_extension": ".py",
   "mimetype": "text/x-python",
   "name": "python",
   "nbconvert_exporter": "python",
   "pygments_lexer": "ipython2",
   "version": "2.7.12"
  },
  "widgets": {
   "state": {},
   "version": "1.1.1"
  }
 },
 "nbformat": 4,
 "nbformat_minor": 1
}
