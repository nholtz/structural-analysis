{
 "cells": [
  {
   "cell_type": "markdown",
   "metadata": {},
   "source": [
    "# Tables\n",
    "Module to simplify handling of input and output tables (as .csv files).  "
   ]
  },
  {
   "cell_type": "code",
   "execution_count": 1,
   "metadata": {
    "collapsed": false
   },
   "outputs": [],
   "source": [
    "from __future__ import print_function\n",
    "\n",
    "from salib import extend\n",
    "import pandas as pd\n",
    "import os, os.path\n",
    "import StringIO\n",
    "import hashlib\n",
    "from IPython.core.magic import register_cell_magic\n",
    "import re"
   ]
  },
  {
   "cell_type": "markdown",
   "metadata": {},
   "source": [
    "## class Table"
   ]
  },
  {
   "cell_type": "code",
   "execution_count": 2,
   "metadata": {
    "collapsed": false
   },
   "outputs": [],
   "source": [
    "class Table(pd.DataFrame):\n",
    "    \n",
    "    \"\"\"A Table is just like a pandas DataFrame except that it has\n",
    "    a table name, a data set name, and a file name - the latter two describing\n",
    "    the source of the data.\"\"\"\n",
    "    \n",
    "    _internal_names = pd.DataFrame._internal_names + ['filename','tablename']\n",
    "    _internal_names_set = set(_internal_names)\n",
    "\n",
    "    _metadata = ['dsname']\n",
    "            \n",
    "    def __init__(self,*args,**kwargs):\n",
    "        dsname = kwargs.pop('dsname',None)\n",
    "        tablename = kwargs.pop('tablename',None)\n",
    "        filename = kwargs.pop('filename',None)\n",
    "        super(self.__class__,self).__init__(*args,**kwargs)\n",
    "        if dsname is not None:\n",
    "            self.dsname = dsname\n",
    "        if tablename is not None:\n",
    "            self.tablename = tablename\n",
    "        if filename is not None:\n",
    "            self.filename = filename\n",
    "        \n",
    "    @property\n",
    "    def _constructor(self):\n",
    "        return self.__class__"
   ]
  },
  {
   "cell_type": "code",
   "execution_count": 3,
   "metadata": {
    "collapsed": false
   },
   "outputs": [
    {
     "data": {
      "text/html": [
       "<div>\n",
       "<table border=\"1\" class=\"dataframe\">\n",
       "  <thead>\n",
       "    <tr style=\"text-align: right;\">\n",
       "      <th></th>\n",
       "      <th>I</th>\n",
       "      <th>F</th>\n",
       "      <th>S</th>\n",
       "    </tr>\n",
       "  </thead>\n",
       "  <tbody>\n",
       "    <tr>\n",
       "      <th>0</th>\n",
       "      <td>10</td>\n",
       "      <td>20.0</td>\n",
       "      <td>a</td>\n",
       "    </tr>\n",
       "    <tr>\n",
       "      <th>1</th>\n",
       "      <td>11</td>\n",
       "      <td>22.0</td>\n",
       "      <td>b</td>\n",
       "    </tr>\n",
       "    <tr>\n",
       "      <th>2</th>\n",
       "      <td>12</td>\n",
       "      <td>23.0</td>\n",
       "      <td>c</td>\n",
       "    </tr>\n",
       "  </tbody>\n",
       "</table>\n",
       "</div>"
      ],
      "text/plain": [
       "    I     F  S\n",
       "0  10  20.0  a\n",
       "1  11  22.0  b\n",
       "2  12  23.0  c"
      ]
     },
     "execution_count": 3,
     "metadata": {},
     "output_type": "execute_result"
    }
   ],
   "source": [
    "##test:\n",
    "t = Table(data=[(10,20.,'a'),(11,22.,'b'),(12,23.,'c')],\n",
    "          columns=['I','F','S'],tablename='Test',dsname='Notebook')\n",
    "t"
   ]
  },
  {
   "cell_type": "code",
   "execution_count": 4,
   "metadata": {
    "collapsed": false
   },
   "outputs": [
    {
     "data": {
      "text/plain": [
       "I      int64\n",
       "F    float64\n",
       "S     object\n",
       "dtype: object"
      ]
     },
     "execution_count": 4,
     "metadata": {},
     "output_type": "execute_result"
    }
   ],
   "source": [
    "##test:\n",
    "t.dtypes"
   ]
  },
  {
   "cell_type": "code",
   "execution_count": 5,
   "metadata": {
    "collapsed": false
   },
   "outputs": [
    {
     "data": {
      "text/plain": [
       "('Test', 'Notebook')"
      ]
     },
     "execution_count": 5,
     "metadata": {},
     "output_type": "execute_result"
    }
   ],
   "source": [
    "##test:\n",
    "t.tablename, t.dsname"
   ]
  },
  {
   "cell_type": "code",
   "execution_count": 6,
   "metadata": {
    "collapsed": false
   },
   "outputs": [
    {
     "data": {
      "text/html": [
       "<div>\n",
       "<table border=\"1\" class=\"dataframe\">\n",
       "  <thead>\n",
       "    <tr style=\"text-align: right;\">\n",
       "      <th></th>\n",
       "      <th>S</th>\n",
       "      <th>I</th>\n",
       "    </tr>\n",
       "  </thead>\n",
       "  <tbody>\n",
       "    <tr>\n",
       "      <th>0</th>\n",
       "      <td>a</td>\n",
       "      <td>10</td>\n",
       "    </tr>\n",
       "    <tr>\n",
       "      <th>1</th>\n",
       "      <td>b</td>\n",
       "      <td>11</td>\n",
       "    </tr>\n",
       "    <tr>\n",
       "      <th>2</th>\n",
       "      <td>c</td>\n",
       "      <td>12</td>\n",
       "    </tr>\n",
       "  </tbody>\n",
       "</table>\n",
       "</div>"
      ],
      "text/plain": [
       "   S   I\n",
       "0  a  10\n",
       "1  b  11\n",
       "2  c  12"
      ]
     },
     "execution_count": 6,
     "metadata": {},
     "output_type": "execute_result"
    }
   ],
   "source": [
    "##test:\n",
    "t2 = t[['S','I']]\n",
    "t2"
   ]
  },
  {
   "cell_type": "code",
   "execution_count": 7,
   "metadata": {
    "collapsed": false
   },
   "outputs": [
    {
     "data": {
      "text/plain": [
       "(False, True)"
      ]
     },
     "execution_count": 7,
     "metadata": {},
     "output_type": "execute_result"
    }
   ],
   "source": [
    "##test:\n",
    "hasattr(t2,'tablename'), hasattr(t2,'dsname')"
   ]
  },
  {
   "cell_type": "code",
   "execution_count": 8,
   "metadata": {
    "collapsed": false
   },
   "outputs": [
    {
     "data": {
      "text/plain": [
       "'Notebook'"
      ]
     },
     "execution_count": 8,
     "metadata": {},
     "output_type": "execute_result"
    }
   ],
   "source": [
    "##test:\n",
    "t2.dsname"
   ]
  },
  {
   "cell_type": "code",
   "execution_count": 9,
   "metadata": {
    "collapsed": false
   },
   "outputs": [
    {
     "data": {
      "text/html": [
       "<div>\n",
       "<table border=\"1\" class=\"dataframe\">\n",
       "  <thead>\n",
       "    <tr style=\"text-align: right;\">\n",
       "      <th></th>\n",
       "      <th>I</th>\n",
       "      <th>F</th>\n",
       "      <th>S</th>\n",
       "    </tr>\n",
       "  </thead>\n",
       "  <tbody>\n",
       "    <tr>\n",
       "      <th>0</th>\n",
       "      <td>10</td>\n",
       "      <td>20.0</td>\n",
       "      <td>a</td>\n",
       "    </tr>\n",
       "    <tr>\n",
       "      <th>1</th>\n",
       "      <td>11</td>\n",
       "      <td>22.0</td>\n",
       "      <td>b</td>\n",
       "    </tr>\n",
       "    <tr>\n",
       "      <th>2</th>\n",
       "      <td>12</td>\n",
       "      <td>23.0</td>\n",
       "      <td>c</td>\n",
       "    </tr>\n",
       "  </tbody>\n",
       "</table>\n",
       "</div>"
      ],
      "text/plain": [
       "    I     F  S\n",
       "0  10  20.0  a\n",
       "1  11  22.0  b\n",
       "2  12  23.0  c"
      ]
     },
     "execution_count": 9,
     "metadata": {},
     "output_type": "execute_result"
    }
   ],
   "source": [
    "##test:\n",
    "t = pd.DataFrame(data=[(10,20.,'a'),(11,22.,'b'),(12,23.,'c')],columns=['I','F','S'])\n",
    "u = Table(data=t,dsname='foo',copy=False)\n",
    "u"
   ]
  },
  {
   "cell_type": "code",
   "execution_count": 10,
   "metadata": {
    "collapsed": false
   },
   "outputs": [
    {
     "data": {
      "text/html": [
       "<div>\n",
       "<table border=\"1\" class=\"dataframe\">\n",
       "  <thead>\n",
       "    <tr style=\"text-align: right;\">\n",
       "      <th></th>\n",
       "      <th>I</th>\n",
       "      <th>F</th>\n",
       "      <th>S</th>\n",
       "    </tr>\n",
       "  </thead>\n",
       "  <tbody>\n",
       "    <tr>\n",
       "      <th>0</th>\n",
       "      <td>10</td>\n",
       "      <td>60.0</td>\n",
       "      <td>a</td>\n",
       "    </tr>\n",
       "    <tr>\n",
       "      <th>1</th>\n",
       "      <td>11</td>\n",
       "      <td>66.0</td>\n",
       "      <td>b</td>\n",
       "    </tr>\n",
       "    <tr>\n",
       "      <th>2</th>\n",
       "      <td>12</td>\n",
       "      <td>69.0</td>\n",
       "      <td>c</td>\n",
       "    </tr>\n",
       "  </tbody>\n",
       "</table>\n",
       "</div>"
      ],
      "text/plain": [
       "    I     F  S\n",
       "0  10  60.0  a\n",
       "1  11  66.0  b\n",
       "2  12  69.0  c"
      ]
     },
     "execution_count": 10,
     "metadata": {},
     "output_type": "execute_result"
    }
   ],
   "source": [
    "##test:\n",
    "u['F'] *= 3\n",
    "u"
   ]
  },
  {
   "cell_type": "code",
   "execution_count": 11,
   "metadata": {
    "collapsed": false
   },
   "outputs": [
    {
     "data": {
      "text/html": [
       "<div>\n",
       "<table border=\"1\" class=\"dataframe\">\n",
       "  <thead>\n",
       "    <tr style=\"text-align: right;\">\n",
       "      <th></th>\n",
       "      <th>I</th>\n",
       "      <th>F</th>\n",
       "      <th>S</th>\n",
       "    </tr>\n",
       "  </thead>\n",
       "  <tbody>\n",
       "    <tr>\n",
       "      <th>0</th>\n",
       "      <td>10</td>\n",
       "      <td>60.0</td>\n",
       "      <td>a</td>\n",
       "    </tr>\n",
       "    <tr>\n",
       "      <th>1</th>\n",
       "      <td>11</td>\n",
       "      <td>66.0</td>\n",
       "      <td>b</td>\n",
       "    </tr>\n",
       "    <tr>\n",
       "      <th>2</th>\n",
       "      <td>12</td>\n",
       "      <td>69.0</td>\n",
       "      <td>c</td>\n",
       "    </tr>\n",
       "  </tbody>\n",
       "</table>\n",
       "</div>"
      ],
      "text/plain": [
       "    I     F  S\n",
       "0  10  60.0  a\n",
       "1  11  66.0  b\n",
       "2  12  69.0  c"
      ]
     },
     "execution_count": 11,
     "metadata": {},
     "output_type": "execute_result"
    }
   ],
   "source": [
    "##test:\n",
    "t"
   ]
  },
  {
   "cell_type": "code",
   "execution_count": 12,
   "metadata": {
    "collapsed": false
   },
   "outputs": [
    {
     "data": {
      "text/plain": [
       "'foo'"
      ]
     },
     "execution_count": 12,
     "metadata": {},
     "output_type": "execute_result"
    }
   ],
   "source": [
    "##test:\n",
    "u.dsname"
   ]
  },
  {
   "cell_type": "markdown",
   "metadata": {},
   "source": [
    "## class DataSource\n",
    "Class to unify the source of tables.  For now, this assumes that a table:\n",
    " * has been specified directly via '`.set_data`', or\n",
    " * has been provided in CSV form using the cell magic '`%%Table`', or\n",
    " * is in a CSV file available in a directory '`<root>/xyz.d`',  where '`xyz`' is the \n",
    "   'data set name'.  \n",
    "   \n",
    "Eventually, we will have a way of archiving sets of files in .zip files."
   ]
  },
  {
   "cell_type": "code",
   "execution_count": 13,
   "metadata": {
    "collapsed": true
   },
   "outputs": [],
   "source": [
    "class DataSource(object):\n",
    "    \n",
    "    ROOT = 'data'\n",
    "    DSNAME = None     # default data set name\n",
    "    DSTYPE = 'dir'    # someday we will allow 'zip' for zip archives\n",
    "    #DSTYPE = 'cell'  # for CSV data provided via %%Table cell magic\n",
    "    #DSTYPE = 'data'  # for dataframe data provided directly\n",
    "    CELLDATA = {}     # csv text from %%Table magic cells, indexed by table name\n",
    "    TABLES = {}       # dataframes directly provided by client, indexed by table name\n",
    "    \n",
    "    DATASOURCE = None # the one and only data source\n",
    "    \n",
    "    def __init__(self):\n",
    "        cls = self.__class__\n",
    "        if cls.DATASOURCE is not None:\n",
    "            raise ValueError(\"Can only create one instance of class '{}'\".format(cls.__name__))\n",
    "        self.root = cls.ROOT\n",
    "        self.dsname = cls.DSNAME\n",
    "        self.prefix = None\n",
    "        self.dstype = cls.DSTYPE\n",
    "        self.celldata = cls.CELLDATA\n",
    "        self.tables = cls.TABLES\n",
    "        cls.DATASOURCE = self"
   ]
  },
  {
   "cell_type": "code",
   "execution_count": 14,
   "metadata": {
    "collapsed": false
   },
   "outputs": [
    {
     "data": {
      "text/plain": [
       "{'celldata': {},\n",
       " 'dsname': None,\n",
       " 'dstype': 'dir',\n",
       " 'prefix': None,\n",
       " 'root': 'data',\n",
       " 'tables': {}}"
      ]
     },
     "execution_count": 14,
     "metadata": {},
     "output_type": "execute_result"
    }
   ],
   "source": [
    "##test:\n",
    "d = DataSource()\n",
    "vars(d)"
   ]
  },
  {
   "cell_type": "code",
   "execution_count": 15,
   "metadata": {
    "collapsed": false
   },
   "outputs": [
    {
     "name": "stdout",
     "output_type": "stream",
     "text": [
      "***** Can only create one instance of class 'DataSource'\n"
     ]
    }
   ],
   "source": [
    "##test:\n",
    "try:\n",
    "    d2 = DataSource()\n",
    "except Exception as e:\n",
    "    print('*'*5,e)\n",
    "    d2 = None\n",
    "d2"
   ]
  },
  {
   "cell_type": "code",
   "execution_count": 16,
   "metadata": {
    "collapsed": true
   },
   "outputs": [],
   "source": [
    "@extend\n",
    "class DataSource:\n",
    "    \n",
    "    @classmethod\n",
    "    def set_root(cls,newroot):\n",
    "        self = cls.DATASOURCE\n",
    "        if not os.path.exists(newroot):\n",
    "            raise ValueError,\"Root '{}' does not exist.\".format(newroot)\n",
    "        self.root = newroot\n",
    "\n",
    "    @classmethod\n",
    "    def set_source(cls,dsname,dstype=None):\n",
    "        self = cls.DATASOURCE\n",
    "        if dsname is not None:\n",
    "            if dstype is None:\n",
    "                dirname = self.root + '/' + dsname + '.d'\n",
    "                if os.path.exists(dirname):\n",
    "                    dstype = 'dir'\n",
    "                else:\n",
    "                    dstype = 'unknown'\n",
    "            if dstype not in ['dir','cell','data']:\n",
    "                raise ValueError,\"dstype '{}' is invalid.\".format(dstype)\n",
    "        self.dsname = dsname\n",
    "        self.dstype = dstype\n",
    "        self.celldata = {}\n",
    "        self.tables = {}\n",
    "        \n",
    "    @classmethod\n",
    "    def set_table(cls,tablename,table):\n",
    "        self = cls.DATASOURCE\n",
    "        self.tables[tablename] = table\n",
    "        if tablename in self.celldata:\n",
    "            del self.celldata[tablename]\n",
    "    \n",
    "    @classmethod\n",
    "    def set_celldata(cls,tablename,celltext):\n",
    "        self = cls.DATASOURCE\n",
    "        self.celldata[tablename] = celltext\n",
    "        if tablename in self.tables:\n",
    "            del self.tables[tablename]\n",
    "    \n",
    "    def _file_name(self,tablename,prefix=None):\n",
    "        n = tablename\n",
    "        if prefix:\n",
    "            n = prefix + '/' + tablename\n",
    "        return self.root + '/' + self.dsname + '.d/' + n + '.csv'"
   ]
  },
  {
   "cell_type": "code",
   "execution_count": 17,
   "metadata": {
    "collapsed": false
   },
   "outputs": [
    {
     "data": {
      "text/plain": [
       "{'celldata': {},\n",
       " 'dsname': None,\n",
       " 'dstype': 'dir',\n",
       " 'prefix': None,\n",
       " 'root': 'data',\n",
       " 'tables': {}}"
      ]
     },
     "execution_count": 17,
     "metadata": {},
     "output_type": "execute_result"
    }
   ],
   "source": [
    "##test:\n",
    "DataSource.DATASOURCE = None\n",
    "ds = DataSource()\n",
    "vars(ds)"
   ]
  },
  {
   "cell_type": "code",
   "execution_count": 18,
   "metadata": {
    "collapsed": false
   },
   "outputs": [
    {
     "name": "stdout",
     "output_type": "stream",
     "text": [
      "***** Root 'foo' does not exist.\n"
     ]
    },
    {
     "data": {
      "text/plain": [
       "{'celldata': {},\n",
       " 'dsname': None,\n",
       " 'dstype': 'dir',\n",
       " 'prefix': None,\n",
       " 'root': 'data',\n",
       " 'tables': {}}"
      ]
     },
     "execution_count": 18,
     "metadata": {},
     "output_type": "execute_result"
    }
   ],
   "source": [
    "##test:\n",
    "try:\n",
    "    DataSource.set_root('foo')\n",
    "except Exception as e:\n",
    "    print('*'*5,e)\n",
    "vars(ds)"
   ]
  },
  {
   "cell_type": "code",
   "execution_count": 19,
   "metadata": {
    "collapsed": false
   },
   "outputs": [
    {
     "data": {
      "text/plain": [
       "{'celldata': {},\n",
       " 'dsname': None,\n",
       " 'dstype': 'dir',\n",
       " 'prefix': None,\n",
       " 'root': 'img',\n",
       " 'tables': {}}"
      ]
     },
     "execution_count": 19,
     "metadata": {},
     "output_type": "execute_result"
    }
   ],
   "source": [
    "##test:\n",
    "DataSource.set_root('img')\n",
    "vars(ds)"
   ]
  },
  {
   "cell_type": "code",
   "execution_count": 20,
   "metadata": {
    "collapsed": true
   },
   "outputs": [],
   "source": [
    "##test:\n",
    "DataSource.set_root('data')"
   ]
  },
  {
   "cell_type": "code",
   "execution_count": 21,
   "metadata": {
    "collapsed": false
   },
   "outputs": [
    {
     "data": {
      "text/plain": [
       "{'celldata': {},\n",
       " 'dsname': 'frame-1',\n",
       " 'dstype': 'dir',\n",
       " 'prefix': None,\n",
       " 'root': 'data',\n",
       " 'tables': {}}"
      ]
     },
     "execution_count": 21,
     "metadata": {},
     "output_type": "execute_result"
    }
   ],
   "source": [
    "##test:\n",
    "DataSource.set_source('frame-1')\n",
    "vars(ds)"
   ]
  },
  {
   "cell_type": "code",
   "execution_count": 22,
   "metadata": {
    "collapsed": false
   },
   "outputs": [
    {
     "data": {
      "text/plain": [
       "{'celldata': {},\n",
       " 'dsname': 'frame-1',\n",
       " 'dstype': 'dir',\n",
       " 'prefix': None,\n",
       " 'root': 'data',\n",
       " 'tables': {'joints': [{'NODEID': 'A', 'X': 10, 'Y': 20},\n",
       "   {'NODEID': 'B', 'X': 30, 'Y': 20}]}}"
      ]
     },
     "execution_count": 22,
     "metadata": {},
     "output_type": "execute_result"
    }
   ],
   "source": [
    "##test:\n",
    "DataSource.set_table('joints',[dict(NODEID='A',X=10,Y=20),dict(NODEID='B',Y=20,X=30)])\n",
    "vars(ds)"
   ]
  },
  {
   "cell_type": "code",
   "execution_count": 23,
   "metadata": {
    "collapsed": false
   },
   "outputs": [
    {
     "data": {
      "text/plain": [
       "{'celldata': {'joints': 'NODEID,X,Y\\nA,10,20\\nB,30,20'},\n",
       " 'dsname': 'frame-1',\n",
       " 'dstype': 'dir',\n",
       " 'prefix': None,\n",
       " 'root': 'data',\n",
       " 'tables': {}}"
      ]
     },
     "execution_count": 23,
     "metadata": {},
     "output_type": "execute_result"
    }
   ],
   "source": [
    "##test:\n",
    "DataSource.set_celldata('joints','NODEID,X,Y\\nA,10,20\\nB,30,20')\n",
    "vars(ds)"
   ]
  },
  {
   "cell_type": "code",
   "execution_count": 24,
   "metadata": {
    "collapsed": false
   },
   "outputs": [
    {
     "data": {
      "text/plain": [
       "'data/frame-1.d/joints.csv'"
      ]
     },
     "execution_count": 24,
     "metadata": {},
     "output_type": "execute_result"
    }
   ],
   "source": [
    "##test:\n",
    "ds._file_name('joints')"
   ]
  },
  {
   "cell_type": "code",
   "execution_count": 25,
   "metadata": {
    "collapsed": false
   },
   "outputs": [
    {
     "data": {
      "text/plain": [
       "'data/frame-1.d/lcase1/joints.csv'"
      ]
     },
     "execution_count": 25,
     "metadata": {},
     "output_type": "execute_result"
    }
   ],
   "source": [
    "##test:\n",
    "ds._file_name('joints',prefix='lcase1')"
   ]
  },
  {
   "cell_type": "markdown",
   "metadata": {},
   "source": [
    "#### Reading Tables"
   ]
  },
  {
   "cell_type": "code",
   "execution_count": 26,
   "metadata": {
    "collapsed": true
   },
   "outputs": [],
   "source": [
    "@extend\n",
    "class DataSource:\n",
    "    \n",
    "    @classmethod\n",
    "    def read_table(cls,tablename,optional=False,prefix=None,columns=None,extrasok=True):\n",
    "        self = cls.DATASOURCE\n",
    "        stream = None\n",
    "        filename = None\n",
    "        t = None\n",
    "        if tablename in self.tables:\n",
    "            t = self.tables[tablename]\n",
    "        else:\n",
    "            if tablename in self.celldata:\n",
    "                stream = StringIO.StringIO(self.celldata[tablename])\n",
    "            else:\n",
    "                if self.dsname is not None:\n",
    "                    filename = self._file_name(tablename,prefix=prefix)\n",
    "                    if os.path.exists(filename):\n",
    "                        stream = file(filename,'r')\n",
    "            if stream is None:\n",
    "                if optional:\n",
    "                    d = pd.DataFrame(columns=columns)\n",
    "                else:\n",
    "                    raise ValueError(\"Table '{}' does not exist.\".format(tablename))\n",
    "            else:\n",
    "                d = pd.read_csv(stream,index_col=None,skipinitialspace=True)\n",
    "            t = Table(d,dsname=self.dsname,tablename=tablename,filename=filename)\n",
    "\n",
    "        if columns is None:\n",
    "            return t\n",
    "        prov = set(t.columns)\n",
    "        reqd = set(columns)\n",
    "        if reqd-prov:\n",
    "            raise ValueError(\"Columns missing for table '{}': {}. Required columns are: {}\"\n",
    "                             .format(tablename,list(reqd-prov),columns))\n",
    "        if prov-reqd:\n",
    "            if not extrasok:\n",
    "                raise ValueError(\"Extra columns for table '{}': {}. Required columns are: '{}'\"\n",
    "                                .format(tablename,list(prov-reqd),columns))\n",
    "            t = t[columns]\n",
    "        return t"
   ]
  },
  {
   "cell_type": "code",
   "execution_count": 27,
   "metadata": {
    "collapsed": false
   },
   "outputs": [
    {
     "data": {
      "text/html": [
       "<div>\n",
       "<table border=\"1\" class=\"dataframe\">\n",
       "  <thead>\n",
       "    <tr style=\"text-align: right;\">\n",
       "      <th></th>\n",
       "      <th>NODEID</th>\n",
       "      <th>X</th>\n",
       "      <th>Y</th>\n",
       "      <th>Z</th>\n",
       "    </tr>\n",
       "  </thead>\n",
       "  <tbody>\n",
       "    <tr>\n",
       "      <th>0</th>\n",
       "      <td>A</td>\n",
       "      <td>0</td>\n",
       "      <td>0</td>\n",
       "      <td>5000</td>\n",
       "    </tr>\n",
       "    <tr>\n",
       "      <th>1</th>\n",
       "      <td>B</td>\n",
       "      <td>0</td>\n",
       "      <td>4000</td>\n",
       "      <td>5000</td>\n",
       "    </tr>\n",
       "    <tr>\n",
       "      <th>2</th>\n",
       "      <td>C</td>\n",
       "      <td>8000</td>\n",
       "      <td>4000</td>\n",
       "      <td>5000</td>\n",
       "    </tr>\n",
       "    <tr>\n",
       "      <th>3</th>\n",
       "      <td>D</td>\n",
       "      <td>8000</td>\n",
       "      <td>0</td>\n",
       "      <td>5000</td>\n",
       "    </tr>\n",
       "  </tbody>\n",
       "</table>\n",
       "</div>"
      ],
      "text/plain": [
       "  NODEID     X     Y     Z\n",
       "0      A     0     0  5000\n",
       "1      B     0  4000  5000\n",
       "2      C  8000  4000  5000\n",
       "3      D  8000     0  5000"
      ]
     },
     "execution_count": 27,
     "metadata": {},
     "output_type": "execute_result"
    }
   ],
   "source": [
    "##test:\n",
    "DataSource.set_source('frame-6')\n",
    "t = DataSource.read_table('nodes')\n",
    "t"
   ]
  },
  {
   "cell_type": "code",
   "execution_count": 28,
   "metadata": {
    "collapsed": false
   },
   "outputs": [
    {
     "data": {
      "text/plain": [
       "__main__.Table"
      ]
     },
     "execution_count": 28,
     "metadata": {},
     "output_type": "execute_result"
    }
   ],
   "source": [
    "##test:\n",
    "type(t)"
   ]
  },
  {
   "cell_type": "code",
   "execution_count": 29,
   "metadata": {
    "collapsed": false
   },
   "outputs": [
    {
     "data": {
      "text/plain": [
       "4"
      ]
     },
     "execution_count": 29,
     "metadata": {},
     "output_type": "execute_result"
    }
   ],
   "source": [
    "##test:\n",
    "len(t)"
   ]
  },
  {
   "cell_type": "code",
   "execution_count": 30,
   "metadata": {
    "collapsed": false
   },
   "outputs": [
    {
     "data": {
      "text/html": [
       "<div>\n",
       "<table border=\"1\" class=\"dataframe\">\n",
       "  <thead>\n",
       "    <tr style=\"text-align: right;\">\n",
       "      <th></th>\n",
       "      <th>NODEID</th>\n",
       "      <th>X</th>\n",
       "      <th>Y</th>\n",
       "      <th>Z</th>\n",
       "    </tr>\n",
       "  </thead>\n",
       "  <tbody>\n",
       "    <tr>\n",
       "      <th>0</th>\n",
       "      <td>A</td>\n",
       "      <td>0.000000</td>\n",
       "      <td>0.000000</td>\n",
       "      <td>5000</td>\n",
       "    </tr>\n",
       "    <tr>\n",
       "      <th>1</th>\n",
       "      <td>B</td>\n",
       "      <td>0.000000</td>\n",
       "      <td>1333.333333</td>\n",
       "      <td>5000</td>\n",
       "    </tr>\n",
       "    <tr>\n",
       "      <th>2</th>\n",
       "      <td>C</td>\n",
       "      <td>2666.666667</td>\n",
       "      <td>1333.333333</td>\n",
       "      <td>5000</td>\n",
       "    </tr>\n",
       "    <tr>\n",
       "      <th>3</th>\n",
       "      <td>D</td>\n",
       "      <td>2666.666667</td>\n",
       "      <td>0.000000</td>\n",
       "      <td>5000</td>\n",
       "    </tr>\n",
       "  </tbody>\n",
       "</table>\n",
       "</div>"
      ],
      "text/plain": [
       "  NODEID            X            Y     Z\n",
       "0      A     0.000000     0.000000  5000\n",
       "1      B     0.000000  1333.333333  5000\n",
       "2      C  2666.666667  1333.333333  5000\n",
       "3      D  2666.666667     0.000000  5000"
      ]
     },
     "execution_count": 30,
     "metadata": {},
     "output_type": "execute_result"
    }
   ],
   "source": [
    "##test:\n",
    "t[['X','Y']] /= 3.\n",
    "t"
   ]
  },
  {
   "cell_type": "code",
   "execution_count": 31,
   "metadata": {
    "collapsed": false
   },
   "outputs": [
    {
     "data": {
      "text/plain": [
       "{'_data': BlockManager\n",
       " Items: Index([u'NODEID', u'X', u'Y', u'Z'], dtype='object')\n",
       " Axis 1: RangeIndex(start=0, stop=4, step=1)\n",
       " IntBlock: slice(3, 4, 1), 1 x 4, dtype: int64\n",
       " ObjectBlock: slice(0, 1, 1), 1 x 4, dtype: object\n",
       " FloatBlock: slice(1, 2, 1), 1 x 4, dtype: float64\n",
       " FloatBlock: slice(2, 3, 1), 1 x 4, dtype: float64,\n",
       " '_iloc': <pandas.core.indexing._iLocIndexer at 0x7fc1bc1f9750>,\n",
       " '_item_cache': {},\n",
       " '_ix': <pandas.core.indexing._IXIndexer at 0x7fc1bc1f9390>,\n",
       " 'dsname': 'frame-6',\n",
       " 'filename': 'data/frame-6.d/nodes.csv',\n",
       " 'is_copy': None,\n",
       " 'tablename': 'nodes'}"
      ]
     },
     "execution_count": 31,
     "metadata": {},
     "output_type": "execute_result"
    }
   ],
   "source": [
    "##test:\n",
    "vars(t)"
   ]
  },
  {
   "cell_type": "code",
   "execution_count": 32,
   "metadata": {
    "collapsed": false
   },
   "outputs": [
    {
     "data": {
      "text/html": [
       "<div>\n",
       "<table border=\"1\" class=\"dataframe\">\n",
       "  <thead>\n",
       "    <tr style=\"text-align: right;\">\n",
       "      <th></th>\n",
       "      <th>NODEID</th>\n",
       "      <th>Y</th>\n",
       "      <th>X</th>\n",
       "    </tr>\n",
       "  </thead>\n",
       "  <tbody>\n",
       "    <tr>\n",
       "      <th>0</th>\n",
       "      <td>A</td>\n",
       "      <td>0</td>\n",
       "      <td>0</td>\n",
       "    </tr>\n",
       "    <tr>\n",
       "      <th>1</th>\n",
       "      <td>B</td>\n",
       "      <td>4000</td>\n",
       "      <td>0</td>\n",
       "    </tr>\n",
       "    <tr>\n",
       "      <th>2</th>\n",
       "      <td>C</td>\n",
       "      <td>4000</td>\n",
       "      <td>8000</td>\n",
       "    </tr>\n",
       "    <tr>\n",
       "      <th>3</th>\n",
       "      <td>D</td>\n",
       "      <td>0</td>\n",
       "      <td>8000</td>\n",
       "    </tr>\n",
       "  </tbody>\n",
       "</table>\n",
       "</div>"
      ],
      "text/plain": [
       "  NODEID     Y     X\n",
       "0      A     0     0\n",
       "1      B  4000     0\n",
       "2      C  4000  8000\n",
       "3      D     0  8000"
      ]
     },
     "execution_count": 32,
     "metadata": {},
     "output_type": "execute_result"
    }
   ],
   "source": [
    "##test:\n",
    "DataSource.read_table('nodes',columns=['NODEID','Y','X'])"
   ]
  },
  {
   "cell_type": "code",
   "execution_count": 33,
   "metadata": {
    "collapsed": false
   },
   "outputs": [
    {
     "name": "stdout",
     "output_type": "stream",
     "text": [
      "*** Extra columns for table 'nodes': ['Z']. Required columns are: '['NODEID', 'Y', 'X']'\n"
     ]
    }
   ],
   "source": [
    "##test:\n",
    "try:\n",
    "    t = DataSource.read_table('nodes',columns=['NODEID','Y','X'],extrasok=False)\n",
    "except Exception as e:\n",
    "    print('***',e)\n",
    "    t = None\n",
    "t"
   ]
  },
  {
   "cell_type": "code",
   "execution_count": 34,
   "metadata": {
    "collapsed": false
   },
   "outputs": [
    {
     "name": "stdout",
     "output_type": "stream",
     "text": [
      "*** Columns missing for table 'nodes': ['C', 'D']. Required columns are: ['NODEID', 'Y', 'X', 'C', 'D']\n"
     ]
    }
   ],
   "source": [
    "##test:\n",
    "try:\n",
    "    t = DataSource.read_table('nodes',columns=['NODEID','Y','X','C','D'])\n",
    "except Exception as e:\n",
    "    print('***',e)\n",
    "    t = None\n",
    "t"
   ]
  },
  {
   "cell_type": "code",
   "execution_count": 35,
   "metadata": {
    "collapsed": false
   },
   "outputs": [
    {
     "name": "stdout",
     "output_type": "stream",
     "text": [
      "*** Table 'nodesxxx' does not exist.\n"
     ]
    }
   ],
   "source": [
    "##test:\n",
    "try:\n",
    "    t = DataSource.read_table('nodesxxx',columns=['NODEID','Y','X'],extrasok=False)\n",
    "except Exception as e:\n",
    "    print('***',e)\n",
    "    t = None\n",
    "t"
   ]
  },
  {
   "cell_type": "code",
   "execution_count": 36,
   "metadata": {
    "collapsed": false
   },
   "outputs": [
    {
     "data": {
      "text/html": [
       "<div>\n",
       "<table border=\"1\" class=\"dataframe\">\n",
       "  <thead>\n",
       "    <tr style=\"text-align: right;\">\n",
       "      <th></th>\n",
       "      <th>NODEID</th>\n",
       "      <th>Y</th>\n",
       "      <th>X</th>\n",
       "    </tr>\n",
       "  </thead>\n",
       "  <tbody>\n",
       "  </tbody>\n",
       "</table>\n",
       "</div>"
      ],
      "text/plain": [
       "Empty Table\n",
       "Columns: [NODEID, Y, X]\n",
       "Index: []"
      ]
     },
     "execution_count": 36,
     "metadata": {},
     "output_type": "execute_result"
    }
   ],
   "source": [
    "##test:\n",
    "try:\n",
    "    t = DataSource.read_table('nodesxxx',columns=['NODEID','Y','X'],extrasok=False,optional=True)\n",
    "except Exception as e:\n",
    "    print('***',e)\n",
    "    t = None\n",
    "t"
   ]
  },
  {
   "cell_type": "code",
   "execution_count": 37,
   "metadata": {
    "collapsed": true
   },
   "outputs": [],
   "source": [
    "@register_cell_magic('Table')\n",
    "def cell_table(line,celltext):\n",
    "    mo = re.match(r'\\s*(\\S+)\\s*$',line)\n",
    "    if not mo:\n",
    "        raise ValueError('Usage: %%Table tablename')\n",
    "    tablename = mo.group(1)\n",
    "    global DataSource\n",
    "    DataSource.set_celldata(tablename,celltext)"
   ]
  },
  {
   "cell_type": "code",
   "execution_count": 38,
   "metadata": {
    "collapsed": false
   },
   "outputs": [],
   "source": [
    "%%Table nodes\n",
    "NODEID,X,Y,Z\n",
    "A,0.,0.,50001\n",
    "B,0,4000,50002\n",
    "C,8000,4000,50003\n",
    "D,8000,0,50004"
   ]
  },
  {
   "cell_type": "code",
   "execution_count": 39,
   "metadata": {
    "collapsed": false
   },
   "outputs": [
    {
     "data": {
      "text/html": [
       "<div>\n",
       "<table border=\"1\" class=\"dataframe\">\n",
       "  <thead>\n",
       "    <tr style=\"text-align: right;\">\n",
       "      <th></th>\n",
       "      <th>NODEID</th>\n",
       "      <th>X</th>\n",
       "      <th>Y</th>\n",
       "      <th>Z</th>\n",
       "    </tr>\n",
       "  </thead>\n",
       "  <tbody>\n",
       "    <tr>\n",
       "      <th>0</th>\n",
       "      <td>A</td>\n",
       "      <td>0.0</td>\n",
       "      <td>0.0</td>\n",
       "      <td>50001</td>\n",
       "    </tr>\n",
       "    <tr>\n",
       "      <th>1</th>\n",
       "      <td>B</td>\n",
       "      <td>0.0</td>\n",
       "      <td>4000.0</td>\n",
       "      <td>50002</td>\n",
       "    </tr>\n",
       "    <tr>\n",
       "      <th>2</th>\n",
       "      <td>C</td>\n",
       "      <td>8000.0</td>\n",
       "      <td>4000.0</td>\n",
       "      <td>50003</td>\n",
       "    </tr>\n",
       "    <tr>\n",
       "      <th>3</th>\n",
       "      <td>D</td>\n",
       "      <td>8000.0</td>\n",
       "      <td>0.0</td>\n",
       "      <td>50004</td>\n",
       "    </tr>\n",
       "  </tbody>\n",
       "</table>\n",
       "</div>"
      ],
      "text/plain": [
       "  NODEID       X       Y      Z\n",
       "0      A     0.0     0.0  50001\n",
       "1      B     0.0  4000.0  50002\n",
       "2      C  8000.0  4000.0  50003\n",
       "3      D  8000.0     0.0  50004"
      ]
     },
     "execution_count": 39,
     "metadata": {},
     "output_type": "execute_result"
    }
   ],
   "source": [
    "##test:\n",
    "t2 = DataSource.read_table('nodes')\n",
    "t2"
   ]
  },
  {
   "cell_type": "code",
   "execution_count": 40,
   "metadata": {
    "collapsed": false
   },
   "outputs": [
    {
     "data": {
      "text/html": [
       "<div>\n",
       "<table border=\"1\" class=\"dataframe\">\n",
       "  <thead>\n",
       "    <tr style=\"text-align: right;\">\n",
       "      <th></th>\n",
       "      <th>NODEID</th>\n",
       "      <th>X</th>\n",
       "      <th>Y</th>\n",
       "      <th>Z</th>\n",
       "    </tr>\n",
       "  </thead>\n",
       "  <tbody>\n",
       "    <tr>\n",
       "      <th>0</th>\n",
       "      <td>AA</td>\n",
       "      <td>0.0</td>\n",
       "      <td>0.0</td>\n",
       "      <td>100002</td>\n",
       "    </tr>\n",
       "    <tr>\n",
       "      <th>1</th>\n",
       "      <td>BB</td>\n",
       "      <td>0.0</td>\n",
       "      <td>8000.0</td>\n",
       "      <td>100004</td>\n",
       "    </tr>\n",
       "    <tr>\n",
       "      <th>2</th>\n",
       "      <td>CC</td>\n",
       "      <td>16000.0</td>\n",
       "      <td>8000.0</td>\n",
       "      <td>100006</td>\n",
       "    </tr>\n",
       "    <tr>\n",
       "      <th>3</th>\n",
       "      <td>DD</td>\n",
       "      <td>16000.0</td>\n",
       "      <td>0.0</td>\n",
       "      <td>100008</td>\n",
       "    </tr>\n",
       "  </tbody>\n",
       "</table>\n",
       "</div>"
      ],
      "text/plain": [
       "  NODEID        X       Y       Z\n",
       "0     AA      0.0     0.0  100002\n",
       "1     BB      0.0  8000.0  100004\n",
       "2     CC  16000.0  8000.0  100006\n",
       "3     DD  16000.0     0.0  100008"
      ]
     },
     "execution_count": 40,
     "metadata": {},
     "output_type": "execute_result"
    }
   ],
   "source": [
    "##test:\n",
    "DataSource.set_table('nodes',t2+t2)\n",
    "t3 = DataSource.read_table('nodes')\n",
    "t3"
   ]
  },
  {
   "cell_type": "code",
   "execution_count": 41,
   "metadata": {
    "collapsed": false
   },
   "outputs": [
    {
     "data": {
      "text/plain": [
       "{'_data': BlockManager\n",
       " Items: Index([u'NODEID', u'X', u'Y', u'Z'], dtype='object')\n",
       " Axis 1: RangeIndex(start=0, stop=4, step=1)\n",
       " FloatBlock: slice(1, 3, 1), 2 x 4, dtype: float64\n",
       " IntBlock: slice(3, 4, 1), 1 x 4, dtype: int64\n",
       " ObjectBlock: slice(0, 1, 1), 1 x 4, dtype: object,\n",
       " '_iloc': <pandas.core.indexing._iLocIndexer at 0x7fc1bc1f9210>,\n",
       " '_item_cache': {},\n",
       " 'dsname': 'frame-6',\n",
       " 'is_copy': None,\n",
       " 'tablename': 'nodes'}"
      ]
     },
     "execution_count": 41,
     "metadata": {},
     "output_type": "execute_result"
    }
   ],
   "source": [
    "##test:\n",
    "vars(t2)"
   ]
  },
  {
   "cell_type": "markdown",
   "metadata": {
    "collapsed": false
   },
   "source": [
    "#### Writing Tables\n",
    "# Not Done Below:"
   ]
  },
  {
   "cell_type": "code",
   "execution_count": 53,
   "metadata": {
    "collapsed": true
   },
   "outputs": [],
   "source": [
    "@extend\n",
    "class DataSource:\n",
    "    \n",
    "    @classmethod\n",
    "    def write_table(cls,table,root=None,dsname=None,tablename=None,prefix=None,precision=None,index=False,makedir=False):\n",
    "        self = cls.DATASOURCE\n",
    "        if root is None:\n",
    "            root = self.root\n",
    "        if dsname is None:\n",
    "            dsname = self.dsname\n",
    "        if tablename is None:\n",
    "            tablename = table.tablename\n",
    "        dirname = root + '/' + dsname + '.d'\n",
    "        if makedir and not os.path.exists(dirname):\n",
    "            os.mkdir(dirname)\n",
    "        if prefix is not None:\n",
    "            dirname = dirname + '/' + prefix\n",
    "            if makedir and not os.path.exists(dirname):\n",
    "                os.mkdir(dirname)\n",
    "                \n",
    "        table.tablename = tablename\n",
    "        table.dsname = dsname\n",
    "        table.filename = filename = dirname + '/' + tablename + '.csv'\n",
    "        \n",
    "        float_format = None\n",
    "        if precision is not None:\n",
    "            float_format = '%.{:d}g'.format(precision)\n",
    "        table.to_csv(filename,index=index,float_format=float_format)\n",
    "        return filename"
   ]
  },
  {
   "cell_type": "code",
   "execution_count": 43,
   "metadata": {
    "collapsed": true
   },
   "outputs": [],
   "source": [
    "@extend\n",
    "class Table:\n",
    "    \n",
    "    def signature(self):\n",
    "        filename = self.filename\n",
    "        if os.path.exists(filename):\n",
    "            return (self.tablename,self.filename,signature(filename))\n",
    "        raise ValueError,\"Table {}: filename: {} - does not exist.\".format(self.tablename,self.filename)\n",
    "    \n",
    "def signature(filename):\n",
    "    f = open(filename,mode='rb')\n",
    "    m = hashlib.sha256(f.read())\n",
    "    f.close()\n",
    "    return m.hexdigest()"
   ]
  },
  {
   "cell_type": "code",
   "execution_count": 44,
   "metadata": {
    "collapsed": false
   },
   "outputs": [],
   "source": [
    "DataSource.DATASOURCE = None\n",
    "__ds__ = DataSource()"
   ]
  },
  {
   "cell_type": "code",
   "execution_count": 45,
   "metadata": {
    "collapsed": true
   },
   "outputs": [],
   "source": [
    "%%Table nodes\n",
    "NODEID,X,Y,Z\n",
    "A,0.,0.,6002.\n",
    "B,0,4000,7003\n",
    "C,8000,4000,8004\n",
    "D,8000,0,9005"
   ]
  },
  {
   "cell_type": "code",
   "execution_count": 46,
   "metadata": {
    "collapsed": false
   },
   "outputs": [
    {
     "data": {
      "text/html": [
       "<div>\n",
       "<table border=\"1\" class=\"dataframe\">\n",
       "  <thead>\n",
       "    <tr style=\"text-align: right;\">\n",
       "      <th></th>\n",
       "      <th>NODEID</th>\n",
       "      <th>X</th>\n",
       "      <th>Y</th>\n",
       "      <th>Z</th>\n",
       "    </tr>\n",
       "  </thead>\n",
       "  <tbody>\n",
       "    <tr>\n",
       "      <th>0</th>\n",
       "      <td>A</td>\n",
       "      <td>0.0</td>\n",
       "      <td>0.0</td>\n",
       "      <td>6002.0</td>\n",
       "    </tr>\n",
       "    <tr>\n",
       "      <th>1</th>\n",
       "      <td>B</td>\n",
       "      <td>0.0</td>\n",
       "      <td>4000.0</td>\n",
       "      <td>7003.0</td>\n",
       "    </tr>\n",
       "    <tr>\n",
       "      <th>2</th>\n",
       "      <td>C</td>\n",
       "      <td>8000.0</td>\n",
       "      <td>4000.0</td>\n",
       "      <td>8004.0</td>\n",
       "    </tr>\n",
       "    <tr>\n",
       "      <th>3</th>\n",
       "      <td>D</td>\n",
       "      <td>8000.0</td>\n",
       "      <td>0.0</td>\n",
       "      <td>9005.0</td>\n",
       "    </tr>\n",
       "  </tbody>\n",
       "</table>\n",
       "</div>"
      ],
      "text/plain": [
       "  NODEID       X       Y       Z\n",
       "0      A     0.0     0.0  6002.0\n",
       "1      B     0.0  4000.0  7003.0\n",
       "2      C  8000.0  4000.0  8004.0\n",
       "3      D  8000.0     0.0  9005.0"
      ]
     },
     "execution_count": 46,
     "metadata": {},
     "output_type": "execute_result"
    }
   ],
   "source": [
    "##test:\n",
    "t = DataSource.read_table('nodes')\n",
    "t"
   ]
  },
  {
   "cell_type": "code",
   "execution_count": 47,
   "metadata": {
    "collapsed": false
   },
   "outputs": [
    {
     "data": {
      "text/html": [
       "<div>\n",
       "<table border=\"1\" class=\"dataframe\">\n",
       "  <thead>\n",
       "    <tr style=\"text-align: right;\">\n",
       "      <th></th>\n",
       "      <th>NODEID</th>\n",
       "      <th>X</th>\n",
       "      <th>Y</th>\n",
       "      <th>Z</th>\n",
       "    </tr>\n",
       "  </thead>\n",
       "  <tbody>\n",
       "    <tr>\n",
       "      <th>0</th>\n",
       "      <td>A</td>\n",
       "      <td>0.000000</td>\n",
       "      <td>0.0</td>\n",
       "      <td>2000.666667</td>\n",
       "    </tr>\n",
       "    <tr>\n",
       "      <th>1</th>\n",
       "      <td>B</td>\n",
       "      <td>0.000000</td>\n",
       "      <td>4000.0</td>\n",
       "      <td>2334.333333</td>\n",
       "    </tr>\n",
       "    <tr>\n",
       "      <th>2</th>\n",
       "      <td>C</td>\n",
       "      <td>2666.666667</td>\n",
       "      <td>4000.0</td>\n",
       "      <td>2668.000000</td>\n",
       "    </tr>\n",
       "    <tr>\n",
       "      <th>3</th>\n",
       "      <td>D</td>\n",
       "      <td>2666.666667</td>\n",
       "      <td>0.0</td>\n",
       "      <td>3001.666667</td>\n",
       "    </tr>\n",
       "  </tbody>\n",
       "</table>\n",
       "</div>"
      ],
      "text/plain": [
       "  NODEID            X       Y            Z\n",
       "0      A     0.000000     0.0  2000.666667\n",
       "1      B     0.000000  4000.0  2334.333333\n",
       "2      C  2666.666667  4000.0  2668.000000\n",
       "3      D  2666.666667     0.0  3001.666667"
      ]
     },
     "execution_count": 47,
     "metadata": {},
     "output_type": "execute_result"
    }
   ],
   "source": [
    "##test:\n",
    "t[['X','Z']] /= 3\n",
    "t"
   ]
  },
  {
   "cell_type": "code",
   "execution_count": 49,
   "metadata": {
    "collapsed": false
   },
   "outputs": [
    {
     "data": {
      "text/plain": [
       "{'_data': BlockManager\n",
       " Items: Index([u'NODEID', u'X', u'Y', u'Z'], dtype='object')\n",
       " Axis 1: RangeIndex(start=0, stop=4, step=1)\n",
       " FloatBlock: slice(1, 4, 1), 3 x 4, dtype: float64\n",
       " ObjectBlock: slice(0, 1, 1), 1 x 4, dtype: object,\n",
       " '_iloc': <pandas.core.indexing._iLocIndexer at 0x7fc1bc1afcd0>,\n",
       " '_item_cache': {},\n",
       " '_ix': <pandas.core.indexing._IXIndexer at 0x7fc1bc455850>,\n",
       " 'is_copy': None,\n",
       " 'tablename': 'nodes'}"
      ]
     },
     "execution_count": 49,
     "metadata": {},
     "output_type": "execute_result"
    }
   ],
   "source": [
    "##test:\n",
    "vars(t)"
   ]
  },
  {
   "cell_type": "code",
   "execution_count": 57,
   "metadata": {
    "collapsed": false
   },
   "outputs": [
    {
     "name": "stdout",
     "output_type": "stream",
     "text": [
      "***** [Errno 2] No such file or directory: 'data/test.d/pfx/nodes2.csv'\n"
     ]
    }
   ],
   "source": [
    "##test:\n",
    "try:\n",
    "    DataSource.write_table(t,dsname='test',prefix='pfx',tablename='nodes2')\n",
    "except Exception as e:\n",
    "    print('*'*5,e)"
   ]
  },
  {
   "cell_type": "code",
   "execution_count": 74,
   "metadata": {
    "collapsed": false
   },
   "outputs": [
    {
     "data": {
      "text/plain": [
       "'data/test.d/pfx/nodes2.csv'"
      ]
     },
     "execution_count": 74,
     "metadata": {},
     "output_type": "execute_result"
    }
   ],
   "source": [
    "##test:\n",
    "%rm -rf data/test.d\n",
    "try:\n",
    "    r = DataSource.write_table(t,dsname='test',prefix='pfx',tablename='nodes2',makedir=True,precision=15)\n",
    "except Exception as e:\n",
    "    print('*'*5,e)\n",
    "r"
   ]
  },
  {
   "cell_type": "code",
   "execution_count": 75,
   "metadata": {
    "collapsed": false
   },
   "outputs": [
    {
     "name": "stdout",
     "output_type": "stream",
     "text": [
      "NODEID,X,Y,Z\r\n",
      "A,0,0,2000.66666666667\r\n",
      "B,0,4000,2334.33333333333\r\n",
      "C,2666.66666666667,4000,2668\r\n",
      "D,2666.66666666667,0,3001.66666666667\r\n"
     ]
    }
   ],
   "source": [
    "##test:\n",
    "%cat data/test.d/pfx/nodes2.csv"
   ]
  },
  {
   "cell_type": "code",
   "execution_count": 76,
   "metadata": {
    "collapsed": false
   },
   "outputs": [
    {
     "data": {
      "text/plain": [
       "('nodes2',\n",
       " 'data/test.d/pfx/nodes2.csv',\n",
       " '112e27f0a17e1ca9a580922707bb2fcf63146625708d2f2ec5e6f879b176e2b7')"
      ]
     },
     "execution_count": 76,
     "metadata": {},
     "output_type": "execute_result"
    }
   ],
   "source": [
    "##test:\n",
    "t.signature()"
   ]
  },
  {
   "cell_type": "code",
   "execution_count": 77,
   "metadata": {
    "collapsed": true
   },
   "outputs": [],
   "source": [
    "##test:\n",
    "%rm -rf data/test.d"
   ]
  },
  {
   "cell_type": "code",
   "execution_count": 78,
   "metadata": {
    "collapsed": false
   },
   "outputs": [
    {
     "data": {
      "text/plain": [
       "{'_data': BlockManager\n",
       " Items: Index([u'NODEID', u'X', u'Y', u'Z'], dtype='object')\n",
       " Axis 1: RangeIndex(start=0, stop=4, step=1)\n",
       " FloatBlock: slice(1, 4, 1), 3 x 4, dtype: float64\n",
       " ObjectBlock: slice(0, 1, 1), 1 x 4, dtype: object,\n",
       " '_iloc': <pandas.core.indexing._iLocIndexer at 0x7fc1bc1afcd0>,\n",
       " '_item_cache': {},\n",
       " '_ix': <pandas.core.indexing._IXIndexer at 0x7fc1bc455850>,\n",
       " 'dsname': 'test',\n",
       " 'filename': 'data/test.d/pfx/nodes2.csv',\n",
       " 'is_copy': None,\n",
       " 'tablename': 'nodes2'}"
      ]
     },
     "execution_count": 78,
     "metadata": {},
     "output_type": "execute_result"
    }
   ],
   "source": [
    "##test:\n",
    "vars(t)"
   ]
  },
  {
   "cell_type": "code",
   "execution_count": 70,
   "metadata": {
    "collapsed": true
   },
   "outputs": [],
   "source": [
    "DataSource.DATASOURCE = None\n",
    "__ds__ = DataSource()"
   ]
  }
 ],
 "metadata": {
  "kernelspec": {
   "display_name": "Python 2",
   "language": "python",
   "name": "python2"
  },
  "language_info": {
   "codemirror_mode": {
    "name": "ipython",
    "version": 2
   },
   "file_extension": ".py",
   "mimetype": "text/x-python",
   "name": "python",
   "nbconvert_exporter": "python",
   "pygments_lexer": "ipython2",
   "version": "2.7.6"
  },
  "widgets": {
   "state": {},
   "version": "1.1.1"
  }
 },
 "nbformat": 4,
 "nbformat_minor": 0
}
