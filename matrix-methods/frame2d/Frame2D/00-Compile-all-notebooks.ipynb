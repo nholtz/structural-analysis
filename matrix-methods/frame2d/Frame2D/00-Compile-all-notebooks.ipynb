{
 "cells": [
  {
   "cell_type": "code",
   "execution_count": 1,
   "metadata": {},
   "outputs": [],
   "source": [
    "import sys\n",
    "import os, os.path\n",
    "from IPython import get_ipython\n",
    "import nbformat\n",
    "import io\n",
    "import time\n",
    "\n",
    "NBVERSION = 4"
   ]
  },
  {
   "cell_type": "code",
   "execution_count": 3,
   "metadata": {},
   "outputs": [],
   "source": [
    "def compile_to_py(nb_path,py_path):\n",
    "\n",
    "    shell = get_ipython()\n",
    "\n",
    "    # load the notebook object\n",
    "    with io.open(nb_path, 'r', encoding='utf-8') as f:\n",
    "        nb = nbformat.read(f,NBVERSION)\n",
    "\n",
    "    with io.open(py_path,'w',encoding='utf-8') as pyf:\n",
    "        pyf.write(u'## Compiled from {} on {}\\n'.format(nb_path,time.ctime()))\n",
    "        for cell in nb['cells']:\n",
    "            if cell['cell_type'] == 'code':\n",
    "                # transform the input to executable Python\n",
    "                ##print (\"Source\",cell['source'])\n",
    "                ec = cell['execution_count']\n",
    "                code = shell.input_transformer_manager.transform_cell(cell['source'])\n",
    "                if code.startswith('##test:'):\n",
    "                    continue\n",
    "                if code.startswith('get_ipython().run_cell_magic('):\n",
    "                    continue\n",
    "                if code.startswith('## Test Section:'):\n",
    "                    pyf.write(u'\\n## Import ended by \"## Test Section:\"\\n')\n",
    "                    break\n",
    "                if code.startswith('#### End Import ####'):\n",
    "                    pyf.write(u'\\n## Import ended by \"#### End Import ####\"\\n')\n",
    "                    break\n",
    "\n",
    "                pyf.write(u'\\n')\n",
    "                pyf.write(u'## In [{}]:\\n'.format(' ' if ec is None else ec))\n",
    "                pyf.write(code)\n"
   ]
  },
  {
   "cell_type": "code",
   "execution_count": 10,
   "metadata": {},
   "outputs": [],
   "source": [
    "def must_compile(nb_path,py_path):\n",
    "    if nb_path.startswith('00'):\n",
    "        return False\n",
    "    if nb_path.startswith('05'):\n",
    "        return False\n",
    "    if not os.path.exists(py_path):\n",
    "        return True\n",
    "    nbt = os.path.getmtime(nb_path)\n",
    "    pyt = os.path.getmtime(py_path)\n",
    "    return pyt < nbt"
   ]
  },
  {
   "cell_type": "code",
   "execution_count": 14,
   "metadata": {},
   "outputs": [
    {
     "name": "stdout",
     "output_type": "stream",
     "text": [
      "Compiling Frame2D_Base.ipynb => Frame2D_Base.py\n",
      "Compiling Frame2D_Display.ipynb => Frame2D_Display.py\n",
      "Compiling Frame2D_Input.ipynb => Frame2D_Input.py\n",
      "Compiling Frame2D_Output.ipynb => Frame2D_Output.py\n",
      "Compiling Frame2D_SolveFirstOrder.ipynb => Frame2D_SolveFirstOrder.py\n",
      "Compiling LoadSets.ipynb => LoadSets.py\n",
      "Compiling MemberLoads.ipynb => MemberLoads.py\n",
      "Compiling Members.ipynb => Members.py\n",
      "Compiling NodeLoads.ipynb => NodeLoads.py\n",
      "Compiling Nodes.ipynb => Nodes.py\n",
      "Compiling Tables.ipynb => Tables.py\n"
     ]
    }
   ],
   "source": [
    "flist = !ls *.ipynb\n",
    "for inf in flist:\n",
    "    outf = inf[:-6] + '.py'\n",
    "    if must_compile(inf,outf):\n",
    "        print('Compiling {} => {}'.format(inf,outf))\n",
    "        compile_to_py(inf,outf)"
   ]
  },
  {
   "cell_type": "code",
   "execution_count": 12,
   "metadata": {},
   "outputs": [
    {
     "name": "stdout",
     "output_type": "stream",
     "text": [
      "Frame2D_Base.py     Frame2D_SolveFirstOrder.py\tMemberLoads.py\tTables.py\r\n",
      "Frame2D_Display.py  __init__.py\t\t\tMembers.py\ttest.py\r\n",
      "Frame2D_Input.py    ipynb_compiler.py\t\tNodeLoads.py\r\n",
      "Frame2D_Output.py   LoadSets.py\t\t\tNodes.py\r\n"
     ]
    }
   ],
   "source": [
    "!ls *.py"
   ]
  },
  {
   "cell_type": "code",
   "execution_count": 13,
   "metadata": {},
   "outputs": [],
   "source": [
    "!touch *.ipynb"
   ]
  },
  {
   "cell_type": "code",
   "execution_count": null,
   "metadata": {},
   "outputs": [],
   "source": []
  }
 ],
 "metadata": {
  "kernelspec": {
   "display_name": "Python 3",
   "language": "python",
   "name": "python3"
  },
  "language_info": {
   "codemirror_mode": {
    "name": "ipython",
    "version": 3
   },
   "file_extension": ".py",
   "mimetype": "text/x-python",
   "name": "python",
   "nbconvert_exporter": "python",
   "pygments_lexer": "ipython3",
   "version": "3.5.2"
  }
 },
 "nbformat": 4,
 "nbformat_minor": 2
}
