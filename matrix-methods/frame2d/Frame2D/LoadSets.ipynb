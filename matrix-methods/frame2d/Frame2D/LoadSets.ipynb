{
 "cells": [
  {
   "cell_type": "code",
   "execution_count": 1,
   "metadata": {},
   "outputs": [],
   "source": [
    "from collections import OrderedDict"
   ]
  },
  {
   "cell_type": "code",
   "execution_count": 2,
   "metadata": {},
   "outputs": [],
   "source": [
    "class LoadSet(object):\n",
    "    \n",
    "    def __init__(self):\n",
    "        self.loadlist = []\n",
    "        self.names = set()\n",
    "        \n",
    "    def append(self,name,obj,load):\n",
    "        name = name.lower()\n",
    "        self.loadlist.append((name,obj,load))\n",
    "        self.names.add(name)\n",
    "        \n",
    "    def iterloads(self,name):\n",
    "        name = name.lower()\n",
    "        ##if name not in self.names:\n",
    "        ##    raise ValueError(\"Invalid load name: {}.  Must be one of: {}\"\n",
    "        ##                    .format(name,', '.join(sorted(list(self.names)))))\n",
    "        for n,o,l in self.loadlist:\n",
    "            if n == name:\n",
    "                yield (o,l,1.0)\n",
    "                \n",
    "    def __len__(self):\n",
    "        return len(self.names)\n",
    "    \n",
    "    def __iter__(self):\n",
    "        return iter(self.loadlist)\n",
    "    \n",
    "    def __contains__(self,key):\n",
    "        return key.lower() in self.names"
   ]
  },
  {
   "cell_type": "code",
   "execution_count": 3,
   "metadata": {},
   "outputs": [
    {
     "data": {
      "text/plain": [
       "{'live', 'snow', 'wind'}"
      ]
     },
     "execution_count": 3,
     "metadata": {},
     "output_type": "execute_result"
    }
   ],
   "source": [
    "##test:\n",
    "ls = LoadSet()\n",
    "for n,o,l in [('wind',10,20),('Wind',20,30),('live',30,40),('snow',40,50),('wind',50,60),('LIVE',60,70)]:\n",
    "    ls.append(n,o,l)\n",
    "ls.names"
   ]
  },
  {
   "cell_type": "code",
   "execution_count": 4,
   "metadata": {},
   "outputs": [
    {
     "name": "stdout",
     "output_type": "stream",
     "text": [
      "('wind', 10, 20)\n",
      "('wind', 20, 30)\n",
      "('live', 30, 40)\n",
      "('snow', 40, 50)\n",
      "('wind', 50, 60)\n",
      "('live', 60, 70)\n"
     ]
    }
   ],
   "source": [
    "##test:\n",
    "for t in ls:\n",
    "    print(t)"
   ]
  },
  {
   "cell_type": "code",
   "execution_count": 5,
   "metadata": {},
   "outputs": [
    {
     "data": {
      "text/plain": [
       "(True, False)"
      ]
     },
     "execution_count": 5,
     "metadata": {},
     "output_type": "execute_result"
    }
   ],
   "source": [
    "##test:\n",
    "'live' in ls, 'xxx' in ls"
   ]
  },
  {
   "cell_type": "code",
   "execution_count": 6,
   "metadata": {},
   "outputs": [],
   "source": [
    "class LoadCombination(object):\n",
    "\n",
    "    def __init__(self):\n",
    "        self.combos = OrderedDict()\n",
    "        \n",
    "    def append(self,combo_name,load_name,factor):\n",
    "        combo_name = combo_name.lower()\n",
    "        load_name = load_name.lower()\n",
    "        if combo_name not in self.combos:\n",
    "            self.combos[combo_name] = OrderedDict()\n",
    "        d = self.combos[combo_name]\n",
    "        if load_name in d:\n",
    "            raise ValueError(\"Load '{}' is multiply defined on combo '{}'\".format(load_name.combo_name))\n",
    "        d[load_name] = factor\n",
    "        \n",
    "    def iterloads(self,name,loadset):\n",
    "        name = name.lower()\n",
    "        if name not in self.combos:\n",
    "            raise ValueError(\"Invalid load combination name: {}; must be one of '{}'\"\n",
    "                            .format(name,', '.join(sorted(self.combos.keys()))))\n",
    "        for load_name,factor in self.combos[name].items():\n",
    "            for obj,load,f in loadset.iterloads(load_name):\n",
    "                yield obj,load,f*factor\n",
    "                \n",
    "    def __len__(self):\n",
    "        return len(self.combos)\n",
    "    \n",
    "    def __iter__(self):\n",
    "        for cname,llist in self.combos.items():\n",
    "            for lname,factor in llist.items():\n",
    "                yield cname,lname,factor\n",
    "                \n",
    "    def __contains__(self,key):\n",
    "        return key.lower() in self.combos"
   ]
  },
  {
   "cell_type": "code",
   "execution_count": 7,
   "metadata": {},
   "outputs": [
    {
     "data": {
      "text/plain": [
       "OrderedDict([('case-1',\n",
       "              OrderedDict([('wind', 1.25), ('live', 1.5), ('snow', 3)])),\n",
       "             ('case-2', OrderedDict([('wind', 1.5), ('live', 2)]))])"
      ]
     },
     "execution_count": 7,
     "metadata": {},
     "output_type": "execute_result"
    }
   ],
   "source": [
    "##test:\n",
    "lc = LoadCombination()\n",
    "for c,l,f in [('Case-1','Wind',1.25),('Case-2','Wind',1.5),('Case-1','live',1.5),('case-2','live',2),('case-1','snow',3)]:\n",
    "    lc.append(c,l,f)\n",
    "lc.combos"
   ]
  },
  {
   "cell_type": "code",
   "execution_count": 8,
   "metadata": {},
   "outputs": [
    {
     "name": "stdout",
     "output_type": "stream",
     "text": [
      "(10, 20, 1.5)\n",
      "(20, 30, 1.5)\n",
      "(50, 60, 1.5)\n",
      "(30, 40, 2.0)\n",
      "(60, 70, 2.0)\n"
     ]
    }
   ],
   "source": [
    "##test:\n",
    "for t in lc.iterloads('case-2',ls):\n",
    "    print(t)"
   ]
  },
  {
   "cell_type": "code",
   "execution_count": 9,
   "metadata": {},
   "outputs": [
    {
     "name": "stdout",
     "output_type": "stream",
     "text": [
      "('case-1', 'wind', 1.25)\n",
      "('case-1', 'live', 1.5)\n",
      "('case-1', 'snow', 3)\n",
      "('case-2', 'wind', 1.5)\n",
      "('case-2', 'live', 2)\n"
     ]
    }
   ],
   "source": [
    "##test:\n",
    "for t in lc:\n",
    "    print(t)"
   ]
  },
  {
   "cell_type": "code",
   "execution_count": 10,
   "metadata": {},
   "outputs": [
    {
     "data": {
      "text/plain": [
       "(True, False)"
      ]
     },
     "execution_count": 10,
     "metadata": {},
     "output_type": "execute_result"
    }
   ],
   "source": [
    "##test:\n",
    "'CASE-2' in lc, 'foo' in lc"
   ]
  },
  {
   "cell_type": "code",
   "execution_count": null,
   "metadata": {
    "collapsed": true
   },
   "outputs": [],
   "source": []
  }
 ],
 "metadata": {
  "kernelspec": {
   "display_name": "Python 3",
   "language": "python",
   "name": "python3"
  },
  "language_info": {
   "codemirror_mode": {
    "name": "ipython",
    "version": 3
   },
   "file_extension": ".py",
   "mimetype": "text/x-python",
   "name": "python",
   "nbconvert_exporter": "python",
   "pygments_lexer": "ipython3",
   "version": "3.6.3"
  },
  "widgets": {
   "state": {},
   "version": "1.1.1"
  }
 },
 "nbformat": 4,
 "nbformat_minor": 1
}
