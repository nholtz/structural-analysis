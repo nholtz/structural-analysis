{
 "cells": [
  {
   "cell_type": "code",
   "execution_count": 12,
   "metadata": {
    "collapsed": false
   },
   "outputs": [],
   "source": [
    "from odf.opendocument import OpenDocumentSpreadsheet, load"
   ]
  },
  {
   "cell_type": "code",
   "execution_count": 13,
   "metadata": {
    "collapsed": false
   },
   "outputs": [],
   "source": [
    "doc = load('data/frame-6.ods')"
   ]
  },
  {
   "cell_type": "code",
   "execution_count": 14,
   "metadata": {
    "collapsed": false,
    "scrolled": false
   },
   "outputs": [
    {
     "name": "stdout",
     "output_type": "stream",
     "text": [
      "\n",
      "NODEIDXYZA05000.1B040005000C800040005000D800005000\n",
      "MEMBERIDNODEJNODEKABABBCBCDCDC\n",
      "NODEIDC0C1C2AFXFYMZDFXFY\n",
      "MEMBERIDRELEASE\n",
      "MEMBERIDSIZEIXABCW460x10648800000013500ABW310x9722200000012300DC\n",
      "LOADNODEIDDIRNFWindBFX-200000\n",
      "LOADMEMBERIDTYPEW1W2ABCLiveBCUDL-50LiveBCPL-2000005000\n",
      "LOADNODEIDDIRNDELTA\n",
      "CASELOADFACTOROneLive1OneWind1\n",
      "\n"
     ]
    }
   ],
   "source": [
    "for e in doc.spreadsheet.childNodes:\n",
    "    print str(e)"
   ]
  },
  {
   "cell_type": "code",
   "execution_count": 15,
   "metadata": {
    "collapsed": false
   },
   "outputs": [
    {
     "data": {
      "text/plain": [
       "OrderedDict([(u'Image', [[]]),\n",
       "             (u'nodes',\n",
       "              [[u'NODEID', u'X', u'Y', u'Z'],\n",
       "               [u'A', 0, 0, 5000.1],\n",
       "               [u'B', 0, 4000, 5000],\n",
       "               [u'C', 8000, 4000, 5000],\n",
       "               [u'D', 8000, 0, 5000]]),\n",
       "             (u'members',\n",
       "              [[u'MEMBERID', u'NODEJ', u'NODEK'],\n",
       "               [u'AB', u'A', u'B'],\n",
       "               [u'BC', u'B', u'C'],\n",
       "               [u'DC', u'D', u'C']]),\n",
       "             (u'supports',\n",
       "              [[u'NODEID', u'C0', u'C1', u'C2'],\n",
       "               [u'A', u'FX', u'FY', u'MZ'],\n",
       "               [u'D', u'FX', u'FY']]),\n",
       "             (u'releases', [[u'MEMBERID', u'RELEASE']]),\n",
       "             (u'properties',\n",
       "              [[u'MEMBERID', u'SIZE', u'IX', u'A'],\n",
       "               [u'BC', u'W460x106', 488000000, 13500],\n",
       "               [u'AB', u'W310x97', 222000000, 12300],\n",
       "               [u'DC']]),\n",
       "             (u'node_loads',\n",
       "              [[u'LOAD', u'NODEID', u'DIRN', u'F'],\n",
       "               [u'Wind', u'B', u'FX', -200000]]),\n",
       "             (u'member_loads',\n",
       "              [[u'LOAD', u'MEMBERID', u'TYPE', u'W1', u'W2', u'A', u'B', u'C'],\n",
       "               [u'Live', u'BC', u'UDL', -50],\n",
       "               [u'Live', u'BC', u'PL', -200000, '', 5000]]),\n",
       "             (u'support_displacements',\n",
       "              [[u'LOAD', u'NODEID', u'DIRN', u'DELTA']]),\n",
       "             (u'load_combinations',\n",
       "              [[u'CASE', u'LOAD', u'FACTOR'],\n",
       "               [u'One', u'Live', 1],\n",
       "               [u'One', u'Wind', 1]])])"
      ]
     },
     "execution_count": 15,
     "metadata": {},
     "output_type": "execute_result"
    }
   ],
   "source": [
    "from pyexcel_ods import get_data\n",
    "data = get_data(\"data/frame-6.ods\")\n",
    "data"
   ]
  },
  {
   "cell_type": "code",
   "execution_count": 16,
   "metadata": {
    "collapsed": false
   },
   "outputs": [
    {
     "name": "stdout",
     "output_type": "stream",
     "text": [
      "{\"Image\": [[]], \"nodes\": [[\"NODEID\", \"X\", \"Y\", \"Z\"], [\"A\", 0, 0, 5000.1], [\"B\", 0, 4000, 5000], [\"C\", 8000, 4000, 5000], [\"D\", 8000, 0, 5000]], \"members\": [[\"MEMBERID\", \"NODEJ\", \"NODEK\"], [\"AB\", \"A\", \"B\"], [\"BC\", \"B\", \"C\"], [\"DC\", \"D\", \"C\"]], \"supports\": [[\"NODEID\", \"C0\", \"C1\", \"C2\"], [\"A\", \"FX\", \"FY\", \"MZ\"], [\"D\", \"FX\", \"FY\"]], \"releases\": [[\"MEMBERID\", \"RELEASE\"]], \"properties\": [[\"MEMBERID\", \"SIZE\", \"IX\", \"A\"], [\"BC\", \"W460x106\", 488000000, 13500], [\"AB\", \"W310x97\", 222000000, 12300], [\"DC\"]], \"node_loads\": [[\"LOAD\", \"NODEID\", \"DIRN\", \"F\"], [\"Wind\", \"B\", \"FX\", -200000]], \"member_loads\": [[\"LOAD\", \"MEMBERID\", \"TYPE\", \"W1\", \"W2\", \"A\", \"B\", \"C\"], [\"Live\", \"BC\", \"UDL\", -50], [\"Live\", \"BC\", \"PL\", -200000, \"\", 5000]], \"support_displacements\": [[\"LOAD\", \"NODEID\", \"DIRN\", \"DELTA\"]], \"load_combinations\": [[\"CASE\", \"LOAD\", \"FACTOR\"], [\"One\", \"Live\", 1], [\"One\", \"Wind\", 1]]}\n"
     ]
    }
   ],
   "source": [
    "import json\n",
    "print json.dumps(data)"
   ]
  },
  {
   "cell_type": "code",
   "execution_count": 17,
   "metadata": {
    "collapsed": false
   },
   "outputs": [
    {
     "data": {
      "text/plain": [
       "[[u'MEMBERID', u'NODEJ', u'NODEK'],\n",
       " [u'AB', u'A', u'B'],\n",
       " [u'BC', u'B', u'C'],\n",
       " [u'DC', u'D', u'C']]"
      ]
     },
     "execution_count": 17,
     "metadata": {},
     "output_type": "execute_result"
    }
   ],
   "source": [
    "data['members']"
   ]
  },
  {
   "cell_type": "code",
   "execution_count": 18,
   "metadata": {
    "collapsed": true
   },
   "outputs": [],
   "source": [
    "# convert ints to floats"
   ]
  },
  {
   "cell_type": "code",
   "execution_count": 19,
   "metadata": {
    "collapsed": false
   },
   "outputs": [
    {
     "data": {
      "text/plain": [
       "[[u'NODEID', u'X', u'Y', u'Z'],\n",
       " [u'A', 0, 0, 5000.1],\n",
       " [u'B', 0, 4000, 5000],\n",
       " [u'C', 8000, 4000, 5000],\n",
       " [u'D', 8000, 0, 5000]]"
      ]
     },
     "execution_count": 19,
     "metadata": {},
     "output_type": "execute_result"
    }
   ],
   "source": [
    "data['nodes']"
   ]
  },
  {
   "cell_type": "code",
   "execution_count": 20,
   "metadata": {
    "collapsed": false
   },
   "outputs": [
    {
     "data": {
      "text/plain": [
       "[unicode, int, int, float]"
      ]
     },
     "execution_count": 20,
     "metadata": {},
     "output_type": "execute_result"
    }
   ],
   "source": [
    "[type(x) for x in data['nodes'][1]]"
   ]
  },
  {
   "cell_type": "code",
   "execution_count": 22,
   "metadata": {
    "collapsed": false
   },
   "outputs": [
    {
     "data": {
      "text/plain": [
       "[u'A', 0.0, 0.0, 5000.1]"
      ]
     },
     "execution_count": 22,
     "metadata": {},
     "output_type": "execute_result"
    }
   ],
   "source": [
    "[ float(x) if type(x) is int else x for x in data['nodes'][1]]"
   ]
  },
  {
   "cell_type": "code",
   "execution_count": null,
   "metadata": {
    "collapsed": true
   },
   "outputs": [],
   "source": []
  }
 ],
 "metadata": {
  "kernelspec": {
   "display_name": "Python 2",
   "language": "python",
   "name": "python2"
  },
  "language_info": {
   "codemirror_mode": {
    "name": "ipython",
    "version": 2
   },
   "file_extension": ".py",
   "mimetype": "text/x-python",
   "name": "python",
   "nbconvert_exporter": "python",
   "pygments_lexer": "ipython2",
   "version": "2.7.6"
  }
 },
 "nbformat": 4,
 "nbformat_minor": 0
}
