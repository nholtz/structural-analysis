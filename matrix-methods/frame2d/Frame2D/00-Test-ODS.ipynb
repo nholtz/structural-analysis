{
 "cells": [
  {
   "cell_type": "markdown",
   "metadata": {},
   "source": [
    "```\n",
    "sudo apt install python3-odf\n",
    "sudo python3 -m pip install pyexcel-ods\n",
    "```"
   ]
  },
  {
   "cell_type": "code",
   "execution_count": 2,
   "metadata": {},
   "outputs": [],
   "source": [
    "from odf.opendocument import OpenDocumentSpreadsheet, load"
   ]
  },
  {
   "cell_type": "code",
   "execution_count": 3,
   "metadata": {},
   "outputs": [],
   "source": [
    "doc = load('data/frame-6.ods')"
   ]
  },
  {
   "cell_type": "code",
   "execution_count": 4,
   "metadata": {
    "scrolled": false
   },
   "outputs": [
    {
     "name": "stdout",
     "output_type": "stream",
     "text": [
      "\n",
      "NODEIDXYZA05000.1B040005000C800040005000D800005000\n",
      "MEMBERIDNODEJNODEKABABBCBCDCDC\n",
      "NODEIDC0C1C2AFXFYMZDFXFY\n",
      "MEMBERIDRELEASE\n",
      "MEMBERIDSIZEIXABCW460x10648800000013500ABW310x9722200000012300DC\n",
      "LOADNODEIDDIRNFWindBFX-200000\n",
      "LOADMEMBERIDTYPEW1W2ABCLiveBCUDL-50LiveBCPL-2000005000\n",
      "LOADNODEIDDIRNDELTA\n",
      "CASELOADFACTOROneLive1OneWind1\n",
      "\n"
     ]
    }
   ],
   "source": [
    "for e in doc.spreadsheet.childNodes:\n",
    "    print(str(e))"
   ]
  },
  {
   "cell_type": "code",
   "execution_count": 8,
   "metadata": {},
   "outputs": [
    {
     "data": {
      "text/plain": [
       "OrderedDict([('Image', [[]]),\n",
       "             ('nodes',\n",
       "              [['NODEID', 'X', 'Y', 'Z'],\n",
       "               ['A', 0, 0, 5000.1],\n",
       "               ['B', 0, 4000, 5000],\n",
       "               ['C', 8000, 4000, 5000],\n",
       "               ['D', 8000, 0, 5000]]),\n",
       "             ('members',\n",
       "              [['MEMBERID', 'NODEJ', 'NODEK'],\n",
       "               ['AB', 'A', 'B'],\n",
       "               ['BC', 'B', 'C'],\n",
       "               ['DC', 'D', 'C']]),\n",
       "             ('supports',\n",
       "              [['NODEID', 'C0', 'C1', 'C2'],\n",
       "               ['A', 'FX', 'FY', 'MZ'],\n",
       "               ['D', 'FX', 'FY']]),\n",
       "             ('releases', [['MEMBERID', 'RELEASE']]),\n",
       "             ('properties',\n",
       "              [['MEMBERID', 'SIZE', 'IX', 'A'],\n",
       "               ['BC', 'W460x106', 488000000, 13500],\n",
       "               ['AB', 'W310x97', 222000000, 12300],\n",
       "               ['DC']]),\n",
       "             ('node_loads',\n",
       "              [['LOAD', 'NODEID', 'DIRN', 'F'], ['Wind', 'B', 'FX', -200000]]),\n",
       "             ('member_loads',\n",
       "              [['LOAD', 'MEMBERID', 'TYPE', 'W1', 'W2', 'A', 'B', 'C'],\n",
       "               ['Live', 'BC', 'UDL', -50],\n",
       "               ['Live', 'BC', 'PL', -200000, '', 5000]]),\n",
       "             ('support_displacements', [['LOAD', 'NODEID', 'DIRN', 'DELTA']]),\n",
       "             ('load_combinations',\n",
       "              [['CASE', 'LOAD', 'FACTOR'],\n",
       "               ['One', 'Live', 1],\n",
       "               ['One', 'Wind', 1]])])"
      ]
     },
     "execution_count": 8,
     "metadata": {},
     "output_type": "execute_result"
    }
   ],
   "source": [
    "from pyexcel_ods import get_data\n",
    "data = get_data(\"data/frame-6.ods\")\n",
    "data"
   ]
  },
  {
   "cell_type": "code",
   "execution_count": 9,
   "metadata": {},
   "outputs": [
    {
     "name": "stdout",
     "output_type": "stream",
     "text": [
      "{\"Image\": [[]], \"nodes\": [[\"NODEID\", \"X\", \"Y\", \"Z\"], [\"A\", 0, 0, 5000.1], [\"B\", 0, 4000, 5000], [\"C\", 8000, 4000, 5000], [\"D\", 8000, 0, 5000]], \"members\": [[\"MEMBERID\", \"NODEJ\", \"NODEK\"], [\"AB\", \"A\", \"B\"], [\"BC\", \"B\", \"C\"], [\"DC\", \"D\", \"C\"]], \"supports\": [[\"NODEID\", \"C0\", \"C1\", \"C2\"], [\"A\", \"FX\", \"FY\", \"MZ\"], [\"D\", \"FX\", \"FY\"]], \"releases\": [[\"MEMBERID\", \"RELEASE\"]], \"properties\": [[\"MEMBERID\", \"SIZE\", \"IX\", \"A\"], [\"BC\", \"W460x106\", 488000000, 13500], [\"AB\", \"W310x97\", 222000000, 12300], [\"DC\"]], \"node_loads\": [[\"LOAD\", \"NODEID\", \"DIRN\", \"F\"], [\"Wind\", \"B\", \"FX\", -200000]], \"member_loads\": [[\"LOAD\", \"MEMBERID\", \"TYPE\", \"W1\", \"W2\", \"A\", \"B\", \"C\"], [\"Live\", \"BC\", \"UDL\", -50], [\"Live\", \"BC\", \"PL\", -200000, \"\", 5000]], \"support_displacements\": [[\"LOAD\", \"NODEID\", \"DIRN\", \"DELTA\"]], \"load_combinations\": [[\"CASE\", \"LOAD\", \"FACTOR\"], [\"One\", \"Live\", 1], [\"One\", \"Wind\", 1]]}\n"
     ]
    }
   ],
   "source": [
    "import json\n",
    "print(json.dumps(data))"
   ]
  },
  {
   "cell_type": "code",
   "execution_count": 10,
   "metadata": {},
   "outputs": [
    {
     "data": {
      "text/plain": [
       "[['MEMBERID', 'NODEJ', 'NODEK'],\n",
       " ['AB', 'A', 'B'],\n",
       " ['BC', 'B', 'C'],\n",
       " ['DC', 'D', 'C']]"
      ]
     },
     "execution_count": 10,
     "metadata": {},
     "output_type": "execute_result"
    }
   ],
   "source": [
    "data['members']"
   ]
  },
  {
   "cell_type": "code",
   "execution_count": 11,
   "metadata": {},
   "outputs": [],
   "source": [
    "# convert ints to floats"
   ]
  },
  {
   "cell_type": "code",
   "execution_count": 12,
   "metadata": {},
   "outputs": [
    {
     "data": {
      "text/plain": [
       "[['NODEID', 'X', 'Y', 'Z'],\n",
       " ['A', 0, 0, 5000.1],\n",
       " ['B', 0, 4000, 5000],\n",
       " ['C', 8000, 4000, 5000],\n",
       " ['D', 8000, 0, 5000]]"
      ]
     },
     "execution_count": 12,
     "metadata": {},
     "output_type": "execute_result"
    }
   ],
   "source": [
    "data['nodes']"
   ]
  },
  {
   "cell_type": "code",
   "execution_count": 13,
   "metadata": {},
   "outputs": [
    {
     "data": {
      "text/plain": [
       "[str, int, int, float]"
      ]
     },
     "execution_count": 13,
     "metadata": {},
     "output_type": "execute_result"
    }
   ],
   "source": [
    "[type(x) for x in data['nodes'][1]]"
   ]
  },
  {
   "cell_type": "code",
   "execution_count": 14,
   "metadata": {},
   "outputs": [
    {
     "data": {
      "text/plain": [
       "['A', 0.0, 0.0, 5000.1]"
      ]
     },
     "execution_count": 14,
     "metadata": {},
     "output_type": "execute_result"
    }
   ],
   "source": [
    "[ float(x) if type(x) is int else x for x in data['nodes'][1]]"
   ]
  },
  {
   "cell_type": "code",
   "execution_count": null,
   "metadata": {
    "collapsed": true
   },
   "outputs": [],
   "source": []
  }
 ],
 "metadata": {
  "kernelspec": {
   "display_name": "Python 3",
   "language": "python",
   "name": "python3"
  },
  "language_info": {
   "codemirror_mode": {
    "name": "ipython",
    "version": 3
   },
   "file_extension": ".py",
   "mimetype": "text/x-python",
   "name": "python",
   "nbconvert_exporter": "python",
   "pygments_lexer": "ipython3",
   "version": "3.6.3"
  }
 },
 "nbformat": 4,
 "nbformat_minor": 1
}
