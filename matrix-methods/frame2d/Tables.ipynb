{
 "cells": [
  {
   "cell_type": "markdown",
   "metadata": {},
   "source": [
    "# Tables\n",
    "Module to simplify handling of input and output tables (as .csv files).  "
   ]
  },
  {
   "cell_type": "code",
   "execution_count": 1,
   "metadata": {
    "collapsed": false
   },
   "outputs": [],
   "source": [
    "from __future__ import print_function\n",
    "\n",
    "from salib import extend\n",
    "import pandas as pd\n",
    "import os, os.path\n",
    "import StringIO\n",
    "import hashlib\n",
    "from IPython.core.magic import register_cell_magic\n",
    "import re"
   ]
  },
  {
   "cell_type": "markdown",
   "metadata": {},
   "source": [
    "## class Table"
   ]
  },
  {
   "cell_type": "code",
   "execution_count": 2,
   "metadata": {
    "collapsed": false
   },
   "outputs": [],
   "source": [
    "class Table(pd.DataFrame):\n",
    "    \n",
    "    \"\"\"A Table is just like a pandas DataFrame except that it has\n",
    "    a table name, a data set name, and a file name - the latter two describing\n",
    "    the source of the data.\"\"\"\n",
    "    \n",
    "    _internal_names = pd.DataFrame._internal_names + ['filename','tablename']\n",
    "    _internal_names_set = set(_internal_names)\n",
    "\n",
    "    _metadata = ['dsname']\n",
    "            \n",
    "    def __init__(self,*args,**kwargs):\n",
    "        dsname = kwargs.pop('dsname',None)\n",
    "        tablename = kwargs.pop('tablename',None)\n",
    "        filename = kwargs.pop('filename',None)\n",
    "        super(self.__class__,self).__init__(*args,**kwargs)\n",
    "        if dsname is not None:\n",
    "            self.dsname = dsname\n",
    "        if tablename is not None:\n",
    "            self.tablename = tablename\n",
    "        if filename is not None:\n",
    "            self.filename = filename\n",
    "        \n",
    "    @property\n",
    "    def _constructor(self):\n",
    "        return self.__class__"
   ]
  },
  {
   "cell_type": "code",
   "execution_count": 3,
   "metadata": {
    "collapsed": false
   },
   "outputs": [
    {
     "data": {
      "text/html": [
       "<div>\n",
       "<table border=\"1\" class=\"dataframe\">\n",
       "  <thead>\n",
       "    <tr style=\"text-align: right;\">\n",
       "      <th></th>\n",
       "      <th>I</th>\n",
       "      <th>F</th>\n",
       "      <th>S</th>\n",
       "    </tr>\n",
       "  </thead>\n",
       "  <tbody>\n",
       "    <tr>\n",
       "      <th>0</th>\n",
       "      <td>10</td>\n",
       "      <td>20</td>\n",
       "      <td>a</td>\n",
       "    </tr>\n",
       "    <tr>\n",
       "      <th>1</th>\n",
       "      <td>11</td>\n",
       "      <td>22</td>\n",
       "      <td>b</td>\n",
       "    </tr>\n",
       "    <tr>\n",
       "      <th>2</th>\n",
       "      <td>12</td>\n",
       "      <td>23</td>\n",
       "      <td>c</td>\n",
       "    </tr>\n",
       "  </tbody>\n",
       "</table>\n",
       "</div>"
      ],
      "text/plain": [
       "    I   F  S\n",
       "0  10  20  a\n",
       "1  11  22  b\n",
       "2  12  23  c"
      ]
     },
     "execution_count": 3,
     "metadata": {},
     "output_type": "execute_result"
    }
   ],
   "source": [
    "##test:\n",
    "t = Table(data=[(10,20.,'a'),(11,22.,'b'),(12,23.,'c')],\n",
    "          columns=['I','F','S'],tablename='Test',dsname='Notebook')\n",
    "t"
   ]
  },
  {
   "cell_type": "code",
   "execution_count": 4,
   "metadata": {
    "collapsed": false
   },
   "outputs": [
    {
     "data": {
      "text/plain": [
       "I      int64\n",
       "F    float64\n",
       "S     object\n",
       "dtype: object"
      ]
     },
     "execution_count": 4,
     "metadata": {},
     "output_type": "execute_result"
    }
   ],
   "source": [
    "##test:\n",
    "t.dtypes"
   ]
  },
  {
   "cell_type": "code",
   "execution_count": 5,
   "metadata": {
    "collapsed": false
   },
   "outputs": [
    {
     "data": {
      "text/plain": [
       "('Test', 'Notebook')"
      ]
     },
     "execution_count": 5,
     "metadata": {},
     "output_type": "execute_result"
    }
   ],
   "source": [
    "##test:\n",
    "t.tablename, t.dsname"
   ]
  },
  {
   "cell_type": "code",
   "execution_count": 6,
   "metadata": {
    "collapsed": false
   },
   "outputs": [
    {
     "data": {
      "text/html": [
       "<div>\n",
       "<table border=\"1\" class=\"dataframe\">\n",
       "  <thead>\n",
       "    <tr style=\"text-align: right;\">\n",
       "      <th></th>\n",
       "      <th>S</th>\n",
       "      <th>I</th>\n",
       "    </tr>\n",
       "  </thead>\n",
       "  <tbody>\n",
       "    <tr>\n",
       "      <th>0</th>\n",
       "      <td>a</td>\n",
       "      <td>10</td>\n",
       "    </tr>\n",
       "    <tr>\n",
       "      <th>1</th>\n",
       "      <td>b</td>\n",
       "      <td>11</td>\n",
       "    </tr>\n",
       "    <tr>\n",
       "      <th>2</th>\n",
       "      <td>c</td>\n",
       "      <td>12</td>\n",
       "    </tr>\n",
       "  </tbody>\n",
       "</table>\n",
       "</div>"
      ],
      "text/plain": [
       "   S   I\n",
       "0  a  10\n",
       "1  b  11\n",
       "2  c  12"
      ]
     },
     "execution_count": 6,
     "metadata": {},
     "output_type": "execute_result"
    }
   ],
   "source": [
    "##test:\n",
    "t2 = t[['S','I']]\n",
    "t2"
   ]
  },
  {
   "cell_type": "code",
   "execution_count": 7,
   "metadata": {
    "collapsed": false
   },
   "outputs": [
    {
     "data": {
      "text/plain": [
       "(False, True)"
      ]
     },
     "execution_count": 7,
     "metadata": {},
     "output_type": "execute_result"
    }
   ],
   "source": [
    "##test:\n",
    "hasattr(t2,'tablename'), hasattr(t2,'dsname')"
   ]
  },
  {
   "cell_type": "code",
   "execution_count": 8,
   "metadata": {
    "collapsed": false
   },
   "outputs": [
    {
     "data": {
      "text/plain": [
       "'Notebook'"
      ]
     },
     "execution_count": 8,
     "metadata": {},
     "output_type": "execute_result"
    }
   ],
   "source": [
    "##test:\n",
    "t2.dsname"
   ]
  },
  {
   "cell_type": "code",
   "execution_count": 9,
   "metadata": {
    "collapsed": false
   },
   "outputs": [
    {
     "data": {
      "text/html": [
       "<div>\n",
       "<table border=\"1\" class=\"dataframe\">\n",
       "  <thead>\n",
       "    <tr style=\"text-align: right;\">\n",
       "      <th></th>\n",
       "      <th>I</th>\n",
       "      <th>F</th>\n",
       "      <th>S</th>\n",
       "    </tr>\n",
       "  </thead>\n",
       "  <tbody>\n",
       "    <tr>\n",
       "      <th>0</th>\n",
       "      <td>10</td>\n",
       "      <td>20</td>\n",
       "      <td>a</td>\n",
       "    </tr>\n",
       "    <tr>\n",
       "      <th>1</th>\n",
       "      <td>11</td>\n",
       "      <td>22</td>\n",
       "      <td>b</td>\n",
       "    </tr>\n",
       "    <tr>\n",
       "      <th>2</th>\n",
       "      <td>12</td>\n",
       "      <td>23</td>\n",
       "      <td>c</td>\n",
       "    </tr>\n",
       "  </tbody>\n",
       "</table>\n",
       "</div>"
      ],
      "text/plain": [
       "    I   F  S\n",
       "0  10  20  a\n",
       "1  11  22  b\n",
       "2  12  23  c"
      ]
     },
     "execution_count": 9,
     "metadata": {},
     "output_type": "execute_result"
    }
   ],
   "source": [
    "##test:\n",
    "t = pd.DataFrame(data=[(10,20.,'a'),(11,22.,'b'),(12,23.,'c')],columns=['I','F','S'])\n",
    "u = Table(data=t,dsname='foo',copy=False)\n",
    "u"
   ]
  },
  {
   "cell_type": "code",
   "execution_count": 10,
   "metadata": {
    "collapsed": false
   },
   "outputs": [
    {
     "data": {
      "text/html": [
       "<div>\n",
       "<table border=\"1\" class=\"dataframe\">\n",
       "  <thead>\n",
       "    <tr style=\"text-align: right;\">\n",
       "      <th></th>\n",
       "      <th>I</th>\n",
       "      <th>F</th>\n",
       "      <th>S</th>\n",
       "    </tr>\n",
       "  </thead>\n",
       "  <tbody>\n",
       "    <tr>\n",
       "      <th>0</th>\n",
       "      <td>10</td>\n",
       "      <td>60</td>\n",
       "      <td>a</td>\n",
       "    </tr>\n",
       "    <tr>\n",
       "      <th>1</th>\n",
       "      <td>11</td>\n",
       "      <td>66</td>\n",
       "      <td>b</td>\n",
       "    </tr>\n",
       "    <tr>\n",
       "      <th>2</th>\n",
       "      <td>12</td>\n",
       "      <td>69</td>\n",
       "      <td>c</td>\n",
       "    </tr>\n",
       "  </tbody>\n",
       "</table>\n",
       "</div>"
      ],
      "text/plain": [
       "    I   F  S\n",
       "0  10  60  a\n",
       "1  11  66  b\n",
       "2  12  69  c"
      ]
     },
     "execution_count": 10,
     "metadata": {},
     "output_type": "execute_result"
    }
   ],
   "source": [
    "##test:\n",
    "u['F'] *= 3\n",
    "u"
   ]
  },
  {
   "cell_type": "code",
   "execution_count": 11,
   "metadata": {
    "collapsed": false
   },
   "outputs": [
    {
     "data": {
      "text/html": [
       "<div>\n",
       "<table border=\"1\" class=\"dataframe\">\n",
       "  <thead>\n",
       "    <tr style=\"text-align: right;\">\n",
       "      <th></th>\n",
       "      <th>I</th>\n",
       "      <th>F</th>\n",
       "      <th>S</th>\n",
       "    </tr>\n",
       "  </thead>\n",
       "  <tbody>\n",
       "    <tr>\n",
       "      <th>0</th>\n",
       "      <td>10</td>\n",
       "      <td>60</td>\n",
       "      <td>a</td>\n",
       "    </tr>\n",
       "    <tr>\n",
       "      <th>1</th>\n",
       "      <td>11</td>\n",
       "      <td>66</td>\n",
       "      <td>b</td>\n",
       "    </tr>\n",
       "    <tr>\n",
       "      <th>2</th>\n",
       "      <td>12</td>\n",
       "      <td>69</td>\n",
       "      <td>c</td>\n",
       "    </tr>\n",
       "  </tbody>\n",
       "</table>\n",
       "</div>"
      ],
      "text/plain": [
       "    I   F  S\n",
       "0  10  60  a\n",
       "1  11  66  b\n",
       "2  12  69  c"
      ]
     },
     "execution_count": 11,
     "metadata": {},
     "output_type": "execute_result"
    }
   ],
   "source": [
    "##test:\n",
    "t"
   ]
  },
  {
   "cell_type": "code",
   "execution_count": 12,
   "metadata": {
    "collapsed": false
   },
   "outputs": [
    {
     "data": {
      "text/plain": [
       "'foo'"
      ]
     },
     "execution_count": 12,
     "metadata": {},
     "output_type": "execute_result"
    }
   ],
   "source": [
    "##test:\n",
    "u.dsname"
   ]
  },
  {
   "cell_type": "markdown",
   "metadata": {},
   "source": [
    "## class DataSource\n",
    "Class to unify the source of tables.  For now, this assumes that a table:\n",
    " * has been specified directly via '`.set_data`', or\n",
    " * has been provided in CSV form using the cell magic '`%%Table`', or\n",
    " * is in a CSV file available in a directory '`<root>/xyz.d`',  where '`xyz`' is the \n",
    "   'data set name'.  \n",
    "   \n",
    "Eventually, we will have a way of archiving sets of files in .zip files."
   ]
  },
  {
   "cell_type": "code",
   "execution_count": 13,
   "metadata": {
    "collapsed": true
   },
   "outputs": [],
   "source": [
    "class DataSource(object):\n",
    "    \n",
    "    ROOT = 'data'\n",
    "    DSNAME = None     # default data set name\n",
    "    DSTYPE = 'dir'    # someday we will allow 'zip' for zip archives\n",
    "    #DSTYPE = 'cell'  # for CSV data provided via %%Table cell magic\n",
    "    #DSTYPE = 'data'  # for dataframe data provided directly\n",
    "    CELLDATA = {}     # csv text from %%Table magic cells, indexed by table name\n",
    "    TABLES = {}       # dataframes directly provided by client, indexed by table name\n",
    "    \n",
    "    DATASOURCE = None # the one and only data source\n",
    "    \n",
    "    def __init__(self):\n",
    "        cls = self.__class__\n",
    "        if cls.DATASOURCE is not None:\n",
    "            raise ValueError(\"Can only create one instance of class '{}'\".format(cls.__name__))\n",
    "        self.root = cls.ROOT\n",
    "        self.dsname = cls.DSNAME\n",
    "        self.prefix = None\n",
    "        self.dstype = cls.DSTYPE\n",
    "        self.celldata = cls.CELLDATA\n",
    "        self.tables = cls.TABLES\n",
    "        cls.DATASOURCE = self"
   ]
  },
  {
   "cell_type": "code",
   "execution_count": 14,
   "metadata": {
    "collapsed": false
   },
   "outputs": [
    {
     "data": {
      "text/plain": [
       "{'celldata': {},\n",
       " 'dsname': None,\n",
       " 'dstype': 'dir',\n",
       " 'prefix': None,\n",
       " 'root': 'data',\n",
       " 'tables': {}}"
      ]
     },
     "execution_count": 14,
     "metadata": {},
     "output_type": "execute_result"
    }
   ],
   "source": [
    "##test:\n",
    "d = DataSource()\n",
    "vars(d)"
   ]
  },
  {
   "cell_type": "code",
   "execution_count": 15,
   "metadata": {
    "collapsed": false
   },
   "outputs": [
    {
     "name": "stdout",
     "output_type": "stream",
     "text": [
      "***** Can only create one instance of class 'DataSource'\n"
     ]
    }
   ],
   "source": [
    "##test:\n",
    "try:\n",
    "    d2 = DataSource()\n",
    "except Exception as e:\n",
    "    print('*'*5,e)\n",
    "    d2 = None\n",
    "d2"
   ]
  },
  {
   "cell_type": "code",
   "execution_count": 26,
   "metadata": {
    "collapsed": true
   },
   "outputs": [],
   "source": [
    "@extend\n",
    "class DataSource:\n",
    "    \n",
    "    @classmethod\n",
    "    def set_root(cls,newroot):\n",
    "        self = cls.DATASOURCE\n",
    "        if not os.path.exists(newroot):\n",
    "            raise ValueError,\"Root '{}' does not exist.\".format(newroot)\n",
    "        self.root = newroot\n",
    "\n",
    "    @classmethod\n",
    "    def set_source(cls,dsname,dstype=None):\n",
    "        self = cls.DATASOURCE\n",
    "        if dstype is None:\n",
    "            dirname = self.root + '/' + dsname + '.d'\n",
    "            if os.path.exists(dirname):\n",
    "                dstype = 'dir'\n",
    "            else:\n",
    "                dstype = 'unknown'\n",
    "        if dstype not in ['dir','cell','data']:\n",
    "            raise ValueError,\"dstype '{}' is invalid.\".format(dstype)\n",
    "        self.dsname = dsname\n",
    "        self.dstype = dstype\n",
    "        self.celldata = {}\n",
    "        self.tables = {}\n",
    "        \n",
    "    @classmethod\n",
    "    def set_table(cls,tablename,table):\n",
    "        self = cls.DATASOURCE\n",
    "        self.tables[tablename] = table\n",
    "        if tablename in self.celldata:\n",
    "            del self.celldata[tablename]\n",
    "    \n",
    "    @classmethod\n",
    "    def set_celldata(cls,tablename,celltext):\n",
    "        self = cls.DATASOURCE\n",
    "        self.celldata[tablename] = celltext\n",
    "        if tablename in self.tables:\n",
    "            del self.tables[tablename]\n",
    "    \n",
    "    def _file_name(self,tablename,prefix=None):\n",
    "        n = tablename\n",
    "        if prefix:\n",
    "            n = prefix + '/' + tablename\n",
    "        return self.root + '/' + self.dsname + '.d/' + n + '.csv'"
   ]
  },
  {
   "cell_type": "code",
   "execution_count": 27,
   "metadata": {
    "collapsed": false
   },
   "outputs": [
    {
     "data": {
      "text/plain": [
       "{'celldata': {},\n",
       " 'dsname': None,\n",
       " 'dstype': 'dir',\n",
       " 'prefix': None,\n",
       " 'root': 'data',\n",
       " 'tables': {}}"
      ]
     },
     "execution_count": 27,
     "metadata": {},
     "output_type": "execute_result"
    }
   ],
   "source": [
    "##test:\n",
    "DataSource.DATASOURCE = None\n",
    "ds = DataSource()\n",
    "vars(ds)"
   ]
  },
  {
   "cell_type": "code",
   "execution_count": 28,
   "metadata": {
    "collapsed": false
   },
   "outputs": [
    {
     "name": "stdout",
     "output_type": "stream",
     "text": [
      "***** Root 'foo' does not exist.\n"
     ]
    },
    {
     "data": {
      "text/plain": [
       "{'celldata': {},\n",
       " 'dsname': None,\n",
       " 'dstype': 'dir',\n",
       " 'prefix': None,\n",
       " 'root': 'data',\n",
       " 'tables': {}}"
      ]
     },
     "execution_count": 28,
     "metadata": {},
     "output_type": "execute_result"
    }
   ],
   "source": [
    "##test:\n",
    "try:\n",
    "    DataSource.set_root('foo')\n",
    "except Exception as e:\n",
    "    print('*'*5,e)\n",
    "vars(ds)"
   ]
  },
  {
   "cell_type": "code",
   "execution_count": 32,
   "metadata": {
    "collapsed": false
   },
   "outputs": [
    {
     "data": {
      "text/plain": [
       "{'celldata': {},\n",
       " 'dsname': None,\n",
       " 'dstype': 'dir',\n",
       " 'prefix': None,\n",
       " 'root': 'img',\n",
       " 'tables': {}}"
      ]
     },
     "execution_count": 32,
     "metadata": {},
     "output_type": "execute_result"
    }
   ],
   "source": [
    "##test:\n",
    "DataSource.set_root('img')\n",
    "vars(ds)"
   ]
  },
  {
   "cell_type": "code",
   "execution_count": 34,
   "metadata": {
    "collapsed": true
   },
   "outputs": [],
   "source": [
    "##test:\n",
    "DataSource.set_root('data')"
   ]
  },
  {
   "cell_type": "code",
   "execution_count": 38,
   "metadata": {
    "collapsed": false
   },
   "outputs": [
    {
     "data": {
      "text/plain": [
       "{'celldata': {},\n",
       " 'dsname': 'frame-1',\n",
       " 'dstype': 'dir',\n",
       " 'prefix': None,\n",
       " 'root': 'data',\n",
       " 'tables': {}}"
      ]
     },
     "execution_count": 38,
     "metadata": {},
     "output_type": "execute_result"
    }
   ],
   "source": [
    "##test:\n",
    "DataSource.set_source('frame-1')\n",
    "vars(ds)"
   ]
  },
  {
   "cell_type": "code",
   "execution_count": 39,
   "metadata": {
    "collapsed": false
   },
   "outputs": [
    {
     "data": {
      "text/plain": [
       "{'celldata': {},\n",
       " 'dsname': 'frame-1',\n",
       " 'dstype': 'dir',\n",
       " 'prefix': None,\n",
       " 'root': 'data',\n",
       " 'tables': {'joints': [{'NODEID': 'A', 'X': 10, 'Y': 20},\n",
       "   {'NODEID': 'B', 'X': 30, 'Y': 20}]}}"
      ]
     },
     "execution_count": 39,
     "metadata": {},
     "output_type": "execute_result"
    }
   ],
   "source": [
    "##test:\n",
    "DataSource.set_table('joints',[dict(NODEID='A',X=10,Y=20),dict(NODEID='B',Y=20,X=30)])\n",
    "vars(ds)"
   ]
  },
  {
   "cell_type": "code",
   "execution_count": 41,
   "metadata": {
    "collapsed": false
   },
   "outputs": [
    {
     "data": {
      "text/plain": [
       "{'celldata': {'joints': 'NODEID,X,Y\\nA,10,20\\nB,30,20'},\n",
       " 'dsname': 'frame-1',\n",
       " 'dstype': 'dir',\n",
       " 'prefix': None,\n",
       " 'root': 'data',\n",
       " 'tables': {}}"
      ]
     },
     "execution_count": 41,
     "metadata": {},
     "output_type": "execute_result"
    }
   ],
   "source": [
    "##test:\n",
    "DataSource.set_celldata('joints','NODEID,X,Y\\nA,10,20\\nB,30,20')\n",
    "vars(ds)"
   ]
  },
  {
   "cell_type": "code",
   "execution_count": 42,
   "metadata": {
    "collapsed": false
   },
   "outputs": [
    {
     "data": {
      "text/plain": [
       "'data/frame-1.d/joints.csv'"
      ]
     },
     "execution_count": 42,
     "metadata": {},
     "output_type": "execute_result"
    }
   ],
   "source": [
    "ds._file_name('joints')"
   ]
  },
  {
   "cell_type": "code",
   "execution_count": 43,
   "metadata": {
    "collapsed": false
   },
   "outputs": [
    {
     "data": {
      "text/plain": [
       "'data/frame-1.d/lcase1/joints.csv'"
      ]
     },
     "execution_count": 43,
     "metadata": {},
     "output_type": "execute_result"
    }
   ],
   "source": [
    "ds._file_name('joints',prefix='lcase1')"
   ]
  },
  {
   "cell_type": "code",
   "execution_count": null,
   "metadata": {
    "collapsed": true
   },
   "outputs": [],
   "source": [
    "@extend\n",
    "class DataSource:\n",
    "    \n",
    "    @classmethod\n",
    "    def read_table(cls,tablename,optional=False,prefix=None,columns=None,extrasok=True):\n",
    "        self = cls.DATASOURCE\n",
    "        stream = None\n",
    "        filename = None\n",
    "        t = None\n",
    "        if tablename in self.tables:\n",
    "            t = self.tables[tablename]\n",
    "        else:\n",
    "            if tablename in self.celldata:\n",
    "                stream = StringIO.StringIO(self.celldata[tablename])\n",
    "            else:\n",
    "                filename = self._file_name(tablename,prefix=prefix)\n",
    "                if os.path.exists(filename):\n",
    "                    stream = file(filename,'r')\n",
    "            if stream is None:\n",
    "                if optional:\n",
    "                    d = pd.DataFrame(columns=columns)\n",
    "                else:\n",
    "                    raise ValueError(\"Table '{}' does not exist.\".format(tablename))\n",
    "            else:\n",
    "                d = pd.read_csv(stream,index_col=None,skipinitialspace=True)\n",
    "            t = Table(d,dsname=self.dsname,tablename=tablename,filename=filename)\n",
    "\n",
    "        if columns is None:\n",
    "            return t\n",
    "        prov = set(t.columns)\n",
    "        reqd = set(columns)\n",
    "        if reqd-prov:\n",
    "            raise ValueError(\"Columns missing for table '{}': {}. Required columns are: {}\"\n",
    "                             .format(tablename,list(reqd-prov),columns))\n",
    "        if prov-reqd:\n",
    "            if not extrasok:\n",
    "                raise ValueError(\"Extra columns for table '{}': {}. Required columns are: '{}'\"\n",
    "                                .format(tablename,list(prov-reqd),columns))\n",
    "            t = t[columns]\n",
    "        return t"
   ]
  },
  {
   "cell_type": "code",
   "execution_count": null,
   "metadata": {
    "collapsed": false
   },
   "outputs": [],
   "source": [
    "##test:\n",
    "Table.DSNAME = 'frame-6'\n",
    "t = Table('nodes',columns=['NODEID','X','Y'])"
   ]
  },
  {
   "cell_type": "code",
   "execution_count": null,
   "metadata": {
    "collapsed": false
   },
   "outputs": [],
   "source": [
    "##test:\n",
    "t.read()"
   ]
  },
  {
   "cell_type": "code",
   "execution_count": null,
   "metadata": {
    "collapsed": false
   },
   "outputs": [],
   "source": [
    "##test:\n",
    "len(t)"
   ]
  },
  {
   "cell_type": "code",
   "execution_count": null,
   "metadata": {
    "collapsed": false
   },
   "outputs": [],
   "source": [
    "##test:\n",
    "t.data.loc[:,['X','Y']] /= 3.\n",
    "t.data"
   ]
  },
  {
   "cell_type": "code",
   "execution_count": null,
   "metadata": {
    "collapsed": false
   },
   "outputs": [],
   "source": [
    "##test:\n",
    "t.write(precision=7,prefix='out',makedir=True)"
   ]
  },
  {
   "cell_type": "code",
   "execution_count": null,
   "metadata": {
    "collapsed": false
   },
   "outputs": [],
   "source": [
    "##test:\n",
    "t.signature()"
   ]
  },
  {
   "cell_type": "code",
   "execution_count": null,
   "metadata": {
    "collapsed": false
   },
   "outputs": [],
   "source": [
    "##test:\n",
    "vars(t)"
   ]
  },
  {
   "cell_type": "code",
   "execution_count": null,
   "metadata": {
    "collapsed": false
   },
   "outputs": [],
   "source": [
    "##test:\n",
    "t.read()"
   ]
  },
  {
   "cell_type": "code",
   "execution_count": null,
   "metadata": {
    "collapsed": false
   },
   "outputs": [],
   "source": [
    "##test:\n",
    "vars(t)"
   ]
  },
  {
   "cell_type": "code",
   "execution_count": null,
   "metadata": {
    "collapsed": true
   },
   "outputs": [],
   "source": [
    "@register_cell_magic('Table')\n",
    "def cell_table(line,cell):\n",
    "    mo = re.match(r'\\s*(\\S+)\\s*$',line)\n",
    "    if not mo:\n",
    "        raise ValueError('Usage: %%Table tablename')\n",
    "    table_name = mo.group(1)\n",
    "    global Table\n",
    "    Table.DSTYPE = 'cell'\n",
    "    Table.CELLDATA[table_name] = cell"
   ]
  },
  {
   "cell_type": "code",
   "execution_count": null,
   "metadata": {
    "collapsed": false
   },
   "outputs": [],
   "source": [
    "%%Table nodes\n",
    "NODEID,X,Y,Z\n",
    "A,0,0,5000\n",
    "B,0,4000,5000\n",
    "C,8000,4000,5000\n",
    "D,8000,0,5000"
   ]
  },
  {
   "cell_type": "code",
   "execution_count": null,
   "metadata": {
    "collapsed": false
   },
   "outputs": [],
   "source": [
    "##test:\n",
    "Table.DSTYPE"
   ]
  },
  {
   "cell_type": "code",
   "execution_count": null,
   "metadata": {
    "collapsed": false
   },
   "outputs": [],
   "source": [
    "##test:\n",
    "Table.CELLDATA"
   ]
  },
  {
   "cell_type": "code",
   "execution_count": null,
   "metadata": {
    "collapsed": false
   },
   "outputs": [],
   "source": [
    "##test:\n",
    "t = Table('nodes',columns=['NODEID','Y','Z'])\n",
    "t.read()"
   ]
  },
  {
   "cell_type": "code",
   "execution_count": null,
   "metadata": {
    "collapsed": false
   },
   "outputs": [],
   "source": [
    "##test:\n",
    "Table.set_source('xxx','data')\n",
    "Table.set_data('nodes',t.data)\n",
    "tt = Table('nodes',columns=['NODEID','Y','Z'])\n",
    "tt.read()"
   ]
  },
  {
   "cell_type": "code",
   "execution_count": null,
   "metadata": {
    "collapsed": true
   },
   "outputs": [],
   "source": [
    "##test:\n",
    "tt.file_name"
   ]
  },
  {
   "cell_type": "code",
   "execution_count": null,
   "metadata": {
    "collapsed": false
   },
   "outputs": [],
   "source": [
    "##test:\n",
    "vars(tt)"
   ]
  },
  {
   "cell_type": "code",
   "execution_count": null,
   "metadata": {
    "collapsed": true
   },
   "outputs": [],
   "source": [
    "@extend\n",
    "class DataSource:\n",
    "    \n",
    "    def write(self,ds_name=None,precision=None,index=False,prefix=None,makedir=False):\n",
    "        if ds_name is None:\n",
    "            ds_name = self.ds_name\n",
    "        dirname = 'data/' + ds_name + '.d'\n",
    "        if makedir and not os.path.exists(dirname):\n",
    "            os.mkdir(dirname)\n",
    "        if prefix is not None:\n",
    "            dirname = dirname + '/' + prefix\n",
    "            if makedir and not os.path.exists(dirname):\n",
    "                os.mkdir(dirname)\n",
    "        self.file_name = file_name = dirname + '/' + self.table_name + '.csv'\n",
    "        float_format = None\n",
    "        if precision is not None:\n",
    "            float_format = '%.{:d}g'.format(precision)\n",
    "        self.data.to_csv(file_name,index=index,float_format=float_format)\n",
    "        return file_name\n",
    "        \n",
    "    def basename(self,file_name=None):\n",
    "        if file_name is None:\n",
    "            file_name = self.file_name\n",
    "        return os.path.basename(file_name)\n",
    "    \n",
    "    def signature(self):\n",
    "        file_name = self.file_name\n",
    "        return (self.table_name,file_name,signature(file_name))\n",
    "    \n",
    "def signature(file_name):\n",
    "    f = open(file_name,mode='rb')\n",
    "    m = hashlib.sha256(f.read())\n",
    "    f.close()\n",
    "    return m.hexdigest()"
   ]
  },
  {
   "cell_type": "code",
   "execution_count": null,
   "metadata": {
    "collapsed": true
   },
   "outputs": [],
   "source": []
  }
 ],
 "metadata": {
  "kernelspec": {
   "display_name": "Python 2",
   "language": "python",
   "name": "python2"
  },
  "language_info": {
   "codemirror_mode": {
    "name": "ipython",
    "version": 2
   },
   "file_extension": ".py",
   "mimetype": "text/x-python",
   "name": "python",
   "nbconvert_exporter": "python",
   "pygments_lexer": "ipython2",
   "version": "2.7.6"
  },
  "widgets": {
   "state": {},
   "version": "1.1.1"
  }
 },
 "nbformat": 4,
 "nbformat_minor": 0
}
