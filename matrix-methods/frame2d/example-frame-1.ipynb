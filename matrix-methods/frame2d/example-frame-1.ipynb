{
 "cells": [
  {
   "cell_type": "markdown",
   "metadata": {},
   "source": [
    "# Matrix Methods Example - Frame 1\n",
    "This is the same frame as solved using the method of slope-deflection\n",
    "[here](../../slope-deflection/Slope-Deflection-Frame-1-Version-2.ipynb).  All of the data are provided\n",
    "in CSV form directly in the cells, below."
   ]
  },
  {
   "cell_type": "code",
   "execution_count": 1,
   "metadata": {
    "collapsed": false
   },
   "outputs": [],
   "source": [
    "from __future__ import division, print_function\n",
    "from IPython import display\n",
    "import salib.nbloader    # so that we can directly import other notebooks"
   ]
  },
  {
   "cell_type": "code",
   "execution_count": 2,
   "metadata": {
    "collapsed": false
   },
   "outputs": [],
   "source": [
    "import Frame2D_v03 as f2d"
   ]
  },
  {
   "cell_type": "markdown",
   "metadata": {
    "collapsed": false
   },
   "source": [
    "![Test Frame 1](frame-1.d/frame-1.svg)"
   ]
  },
  {
   "cell_type": "code",
   "execution_count": 3,
   "metadata": {
    "collapsed": false
   },
   "outputs": [],
   "source": [
    "frame = f2d.Frame2D()"
   ]
  },
  {
   "cell_type": "code",
   "execution_count": 4,
   "metadata": {
    "collapsed": false
   },
   "outputs": [],
   "source": [
    "%%frame_data frame nodes\n",
    "ID,X,Y\n",
    "a,0,0\n",
    "b,0,3000\n",
    "c,6000,3000\n",
    "d,6000,1000"
   ]
  },
  {
   "cell_type": "code",
   "execution_count": 5,
   "metadata": {
    "collapsed": false
   },
   "outputs": [],
   "source": [
    "%%frame_data frame members\n",
    "ID,NODEJ,NODEK\n",
    "ab,a,b\n",
    "bc,b,c\n",
    "cd,c,d"
   ]
  },
  {
   "cell_type": "code",
   "execution_count": 6,
   "metadata": {
    "collapsed": true
   },
   "outputs": [],
   "source": [
    "%%frame_data frame supports\n",
    "ID,C0,C1,C2\n",
    "a,FX,FY,\n",
    "d,FX,FY,MZ"
   ]
  },
  {
   "cell_type": "code",
   "execution_count": 7,
   "metadata": {
    "collapsed": true
   },
   "outputs": [],
   "source": [
    "%%frame_data frame releases\n",
    "ID,R"
   ]
  },
  {
   "cell_type": "markdown",
   "metadata": {},
   "source": [
    "Use very large areas so that axial deformations will be very small so as to more closely replicate\n",
    "the slope deflection analysis."
   ]
  },
  {
   "cell_type": "code",
   "execution_count": 8,
   "metadata": {
    "collapsed": false
   },
   "outputs": [],
   "source": [
    "%%frame_data frame properties\n",
    "ID,SIZE,Ix,A\n",
    "bc,,200E6,100E10\n",
    "ab,,100E6,\n",
    "cd,,,"
   ]
  },
  {
   "cell_type": "code",
   "execution_count": 9,
   "metadata": {
    "collapsed": true
   },
   "outputs": [],
   "source": [
    "%%frame_data frame node_loads\n",
    "ID,DIRN,F\n",
    "b,FX,60000"
   ]
  },
  {
   "cell_type": "code",
   "execution_count": 10,
   "metadata": {
    "collapsed": false
   },
   "outputs": [],
   "source": [
    "%%frame_data frame member_loads\n",
    "ID,TYPE,W1,W2,A,B,C\n",
    "bc,UDL,-36,,,,"
   ]
  },
  {
   "cell_type": "code",
   "execution_count": 11,
   "metadata": {
    "collapsed": false
   },
   "outputs": [
    {
     "name": "stdout",
     "output_type": "stream",
     "text": [
      "\n",
      "ndof = 12, nfree = 7, nconstraints = 5\n",
      "\n",
      "\n",
      "\n",
      "Nodes:\n",
      "======\n",
      "\n",
      "Node          X         Y  Constraints  DOF #s\n",
      "----      -----     -----  -----------  ------\n",
      "a             0         0  FX,FY        7,8,0\n",
      "b             0      3000               1,2,3\n",
      "c          6000      3000               4,5,6\n",
      "d          6000      1000  FX,FY,MZ     9,10,11\n",
      "\n",
      "\n",
      "\n",
      "Members:\n",
      "========\n",
      "\n",
      "Member   Node-J  Node-K    Length       dcx       dcy  Size                Ix           A  Releases\n",
      "------   ------  ------    ------   -------   -------  --------      --------       -----  --------\n",
      "ab       a       b         3000.0   0.00000   1.00000                   1e+08       1e+12  \n",
      "bc       b       c         6000.0   1.00000   0.00000                   2e+08       1e+12  \n",
      "cd       c       d         2000.0   0.00000  -1.00000                   1e+08       1e+12  \n",
      "\n",
      "\n",
      "\n",
      "Node Loads:\n",
      "===========\n",
      "\n",
      "Node  Dirn     Load\n",
      "----  ----    -----\n",
      "b     FX      60000\n",
      "\n",
      "Member Loads:\n",
      "=============\n",
      "\n",
      "Member  Load\n",
      "------  ----------------\n",
      "bc      UDL(L=6000.0,W1=-36)\n",
      "\n",
      "\n",
      "\n",
      "Node Displacements:\n",
      "===================\n",
      "\n",
      "Node        DX         DY      Rotation\n",
      "----      ------     ------   ---------\n",
      "a          0.000      0.000   0.0011211\n",
      "b          0.714     -0.000  -0.0029563\n",
      "c          0.714     -0.000   0.0018899\n",
      "d          0.000      0.000   0.0000000\n",
      "\n",
      "\n",
      "\n",
      "Reactions:\n",
      "==========\n",
      "\n",
      "Node        FX         FY         MZ  \n",
      "----     -------    -------    -------\n",
      "a         18.121    100.891      --   \n",
      "d        -78.121    115.109     59.223\n",
      "\n",
      "\n",
      "\n",
      "Member End Forces:\n",
      "==================\n",
      "\n",
      "          /----- Axial -----/   /----- Shear -----/   /----- Moment ----/\n",
      "Member       FX J       FX K       FY J       FY K       MZ J       MZ K\n",
      "------     -------    -------    -------    -------    -------    -------\n",
      "ab         100.891   -100.891    -18.121     18.121      0.000    -54.364\n",
      "bc          78.121    -78.121    100.891    115.109     54.364    -97.020\n",
      "cd         115.109   -115.109     78.121    -78.121     97.020     59.223\n"
     ]
    }
   ],
   "source": [
    "frame.doall()"
   ]
  },
  {
   "cell_type": "markdown",
   "metadata": {},
   "source": [
    "### Compare to slope-deflection solution:"
   ]
  },
  {
   "cell_type": "markdown",
   "metadata": {},
   "source": [
    "The solutions as given in the\n",
    "[slope-deflection example](../../slope-deflection/Slope-Deflection-Frame-1-Version-2.ipynb):\n",
    "\n",
    "Member end forces:\n",
    "\n",
    "```\n",
    "{'Mab': 0,\n",
    " 'Mba': 54.36,\n",
    " 'Mbc': -54.36,\n",
    " 'Mcb': 97.02,\n",
    " 'Mcd': -97.02,\n",
    " 'Mdc': -59.22,\n",
    " 'Vab': -18.12,\n",
    " 'Vdc': 78.12}\n",
    " ```\n",
    " \n",
    "Except for a sign change, these seem consistent.  We might have a different sign convention here - I'll check into that.\n",
    " \n",
    " Reactions:\n",
    " \n",
    " ```\n",
    " [v.subs(soln).n(4) for v in [Ra,Ha,Rd,Hd,Md]]\n",
    " [100.9,18.12,115.1,−78.12,−59.22]\n",
    " ```\n",
    " \n",
    " and except for sign, these are OK as well.\n",
    " \n",
    " As for deflection, in $kN m^2$, the product $EI$ used here is:"
   ]
  },
  {
   "cell_type": "code",
   "execution_count": 12,
   "metadata": {
    "collapsed": false
   },
   "outputs": [
    {
     "data": {
      "text/plain": [
       "20000.0"
      ]
     },
     "execution_count": 12,
     "metadata": {},
     "output_type": "execute_result"
    }
   ],
   "source": [
    "EI = 200000. * 100E6 / (1000*1000**2)\n",
    "EI"
   ]
  },
  {
   "cell_type": "markdown",
   "metadata": {},
   "source": [
    "and the lateral deflection of nodes $b$ and $c$ computed by slope-deflection, in $mm$, was:"
   ]
  },
  {
   "cell_type": "code",
   "execution_count": 13,
   "metadata": {
    "collapsed": false
   },
   "outputs": [
    {
     "data": {
      "text/plain": [
       "0.71417004048583"
      ]
     },
     "execution_count": 13,
     "metadata": {},
     "output_type": "execute_result"
    }
   ],
   "source": [
    "(3528/(247*EI)) * 1000"
   ]
  },
  {
   "cell_type": "markdown",
   "metadata": {},
   "source": [
    "which agrees with the displayed result, above.  (note that units in the slope-deflection example were\n",
    "$kN$ and $m$ and here they are $N$ and $mm$)."
   ]
  },
  {
   "cell_type": "markdown",
   "metadata": {},
   "source": [
    "## $P-\\Delta$ Analysis\n",
    "We wouldn't expect much difference as sidesway is pretty small:"
   ]
  },
  {
   "cell_type": "code",
   "execution_count": 14,
   "metadata": {
    "collapsed": false
   },
   "outputs": [
    {
     "name": "stdout",
     "output_type": "stream",
     "text": [
      "iter=1, max D=0.7132569222027835, max chg=0.0009131037313158119, max % chg=0.12801890916050734\n",
      "iter=2, max D=0.7132581790102385, max chg=1.2568074559959896e-06, max % chg=0.000176206525628632\n",
      "\n",
      "ndof = 12, nfree = 7, nconstraints = 5\n",
      "\n",
      "\n",
      "\n",
      "Nodes:\n",
      "======\n",
      "\n",
      "Node          X         Y  Constraints  DOF #s\n",
      "----      -----     -----  -----------  ------\n",
      "a             0         0  FX,FY        7,8,0\n",
      "b             0      3000               1,2,3\n",
      "c          6000      3000               4,5,6\n",
      "d          6000      1000  FX,FY,MZ     9,10,11\n",
      "\n",
      "\n",
      "\n",
      "Members:\n",
      "========\n",
      "\n",
      "Member   Node-J  Node-K    Length       dcx       dcy  Size                Ix           A  Releases\n",
      "------   ------  ------    ------   -------   -------  --------      --------       -----  --------\n",
      "ab       a       b         3000.0   0.00000   1.00000                   1e+08       1e+12  \n",
      "bc       b       c         6000.0   1.00000   0.00000                   2e+08       1e+12  \n",
      "cd       c       d         2000.0   0.00000  -1.00000                   1e+08       1e+12  \n",
      "\n",
      "\n",
      "\n",
      "Node Loads:\n",
      "===========\n",
      "\n",
      "Node  Dirn     Load\n",
      "----  ----    -----\n",
      "b     FX      60000\n",
      "\n",
      "Member Loads:\n",
      "=============\n",
      "\n",
      "Member  Load\n",
      "------  ----------------\n",
      "bc      UDL(L=6000.0,W1=-36)\n",
      "\n",
      "\n",
      "\n",
      "Node Displacements:\n",
      "===================\n",
      "\n",
      "Node        DX         DY      Rotation\n",
      "----      ------     ------   ---------\n",
      "a          0.000      0.000   0.0011215\n",
      "b          0.713     -0.000  -0.0029563\n",
      "c          0.713     -0.000   0.0018903\n",
      "d          0.000      0.000   0.0000000\n",
      "\n",
      "\n",
      "\n",
      "Reactions:\n",
      "==========\n",
      "\n",
      "Node        FX         FY         MZ  \n",
      "----     -------    -------    -------\n",
      "a         18.123    100.893      --   \n",
      "d        -78.106    115.107     59.203\n",
      "\n",
      "\n",
      "\n",
      "Member End Forces:\n",
      "==================\n",
      "\n",
      "          /----- Axial -----/   /----- Shear -----/   /----- Moment ----/\n",
      "Member       FX J       FX K       FY J       FY K       MZ J       MZ K\n",
      "------     -------    -------    -------    -------    -------    -------\n",
      "ab         100.893   -100.893    -18.123     18.123      0.000    -54.370\n",
      "bc          78.147    -78.147    100.893    115.107     54.370    -97.009\n",
      "cd         115.107   -115.107     78.106    -78.106     97.009     59.203\n"
     ]
    }
   ],
   "source": [
    "frame.doall(pdelta=True)"
   ]
  },
  {
   "cell_type": "code",
   "execution_count": null,
   "metadata": {
    "collapsed": true
   },
   "outputs": [],
   "source": []
  }
 ],
 "metadata": {
  "kernelspec": {
   "display_name": "Python 3",
   "language": "python",
   "name": "python3"
  },
  "language_info": {
   "codemirror_mode": {
    "name": "ipython",
    "version": 3
   },
   "file_extension": ".py",
   "mimetype": "text/x-python",
   "name": "python",
   "nbconvert_exporter": "python",
   "pygments_lexer": "ipython3",
   "version": "3.4.3"
  }
 },
 "nbformat": 4,
 "nbformat_minor": 0
}
