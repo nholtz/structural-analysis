{
 "cells": [
  {
   "cell_type": "markdown",
   "metadata": {},
   "source": [
    "# Example 6-b\n",
    "\n",
    "In this example, all input data is given directly in the notebook cells below.  The data is given\n",
    "in CSV form precisely as would be given in data files.  For each table started by the cell\n",
    "magic `%%Table`, the table name follows immediately.  If the data was instead provided in a data file\n",
    "the file name would be the table name + `.csv`.\n",
    "\n",
    "This example is statically determinate for ease of checking -- the rightmost figure shows\n",
    "the reactions corresponding to factored values of the loads shown in the left figure.\n",
    "Units are $N$ and $mm$.\n",
    "\n",
    "## Test Frame\n",
    "![test frame](data/frame-6b.d/frame-6b.svg)"
   ]
  },
  {
   "cell_type": "code",
   "execution_count": 1,
   "metadata": {},
   "outputs": [],
   "source": [
    "from Frame2D import Frame2D\n",
    "\n",
    "f6b = Frame2D('frame-6b')"
   ]
  },
  {
   "cell_type": "markdown",
   "metadata": {},
   "source": [
    "# Input Data"
   ]
  },
  {
   "cell_type": "markdown",
   "metadata": {},
   "source": [
    "## Nodes\n",
    "Table `nodes` (file `nodes.csv`) provides the $x$-$y$ coordinates of each node.  Other columns, such \n",
    "as the $z$- coordinate are optional, and ignored if given."
   ]
  },
  {
   "cell_type": "code",
   "execution_count": 2,
   "metadata": {},
   "outputs": [],
   "source": [
    "%%Table nodes\n",
    "NODEID,X,Y,Z\n",
    "A,0.,0.,5000.\n",
    "B,0,4000,5000\n",
    "C,8000,4000,5000\n",
    "D,8000,0,5000"
   ]
  },
  {
   "cell_type": "markdown",
   "metadata": {},
   "source": [
    "## Supports\n",
    "Table `supports` (file `supports.csv`) specifies the support fixity, by indicating the constrained\n",
    "direction for each node.  There can be 1, 2 or 3 constraints, selected from the set '`FX`', '`FY`' or '`MZ`',\n",
    "in any order for each constrained node.  Directions not mentioned are 'free' or unconstrained."
   ]
  },
  {
   "cell_type": "code",
   "execution_count": 3,
   "metadata": {},
   "outputs": [],
   "source": [
    "%%Table supports\n",
    "NODEID,C0,C1,C2\n",
    "A,FX,FY,MZ\n",
    "D,FX,FY"
   ]
  },
  {
   "cell_type": "markdown",
   "metadata": {},
   "source": [
    "## Members\n",
    "Table `members` (file `members.csv`) specifies the member incidences.  For each member, specify\n",
    "the id of the nodes at the 'j-' and 'k-' ends.  These ends are used to interpret the signs of various values."
   ]
  },
  {
   "cell_type": "code",
   "execution_count": 4,
   "metadata": {},
   "outputs": [],
   "source": [
    "%%Table members\n",
    "MEMBERID,NODEJ,NODEK\n",
    "AB,A,B\n",
    "BC,B,C\n",
    "CD,C,D"
   ]
  },
  {
   "cell_type": "markdown",
   "metadata": {},
   "source": [
    "## Releases\n",
    "Table `releases` (file `releases.csv`) is optional and specifies internal force releases in some members.\n",
    "Currently only moment releases at the 'j-' end ('`MZJ`') and 'k-' end ('`MZK`') are supported.  These specify\n",
    "that the internal bending moment at those locations are zero.  You can only specify one release per line,\n",
    "but you can have more than one line for a member."
   ]
  },
  {
   "cell_type": "code",
   "execution_count": 5,
   "metadata": {},
   "outputs": [],
   "source": [
    "%%Table releases\n",
    "MEMBERID,RELEASE\n",
    "AB,MZK\n",
    "CD,MZJ"
   ]
  },
  {
   "cell_type": "markdown",
   "metadata": {},
   "source": [
    "## Properties\n",
    "Table `properties` (file `properties.csv`) specifies the member properties for each member.\n",
    "If the '`SST`' library is available, you may specify the size of the member by using the\n",
    "designation of a shape in the CISC Structural Section Tables.  If either `IX` or `A` is missing,\n",
    "it is retreived using the `sst` library.  If the values on any line are missing, they\n",
    "are copied from the line above."
   ]
  },
  {
   "cell_type": "code",
   "execution_count": 6,
   "metadata": {},
   "outputs": [],
   "source": [
    "%%Table properties\n",
    "MEMBERID,SIZE,IX,A\n",
    "BC,W460x106,,\n",
    "AB,W310x97,,\n",
    "CD,,"
   ]
  },
  {
   "cell_type": "markdown",
   "metadata": {},
   "source": [
    "## Node Loads\n",
    "Table `node_loads` (file `node_loads.csv`) specifies the forces applied directly to the nodes.\n",
    "`DIRN` (direction) may be one of `'FX,FY,MZ'`.  'LOAD' is an identifier of the kind of load\n",
    "being applied and `F` is the value of the load, normally given as a service or specified load.\n",
    "A later input table will specify load combinations and factors.\n"
   ]
  },
  {
   "cell_type": "code",
   "execution_count": 7,
   "metadata": {},
   "outputs": [],
   "source": [
    "%%Table node_loads\n",
    "LOAD,NODEID,DIRN,F\n",
    "Wind,B,FX,-200000."
   ]
  },
  {
   "cell_type": "markdown",
   "metadata": {},
   "source": [
    "## Support Displacements\n",
    "Table `support_displacements` (file `support_displacements.csv`) is optional and specifies imposed displacements\n",
    "of the supports.  `DIRN` (direction) is one of `'DX, DY, RZ'`.  `LOAD` is as for Node Loads, above.\n",
    "\n",
    "Of course, in this example the frame is statically determinate and so the support displacement\n",
    "will have no effect on the reactions or member end forces."
   ]
  },
  {
   "cell_type": "code",
   "execution_count": 8,
   "metadata": {},
   "outputs": [],
   "source": [
    "%%Table support_displacements\n",
    "LOAD,NODEID,DIRN,DELTA\n",
    "Other,A,DY,-10"
   ]
  },
  {
   "cell_type": "markdown",
   "metadata": {},
   "source": [
    "## Member Loads\n",
    "Table `member_loads` (file `member_loads.csv`) specifies loads acting on members.  Current\n",
    "types are `PL` (concentrated transverse, ie point load), `CM` (concentrated moment), `UDL` (uniformly\n",
    "distributed load over entire span), `LVL` (linearly varying load over a portion of the span) and `PLA` (point load applied parallel to member coincident with centroidal axis).  Values `W1` and `W2` are loads or\n",
    "load intensities and `A`, `B`, and `C` are dimensions appropriate to the kind of load."
   ]
  },
  {
   "cell_type": "code",
   "execution_count": 9,
   "metadata": {},
   "outputs": [],
   "source": [
    "%%Table member_loads\n",
    "LOAD,MEMBERID,TYPE,W1,W2,A,B,C\n",
    "Live,BC,UDL,-50,,,,\n",
    "Live,BC,PL,-200000,,5000"
   ]
  },
  {
   "cell_type": "markdown",
   "metadata": {},
   "source": [
    "## Load Combinations\n",
    "Table `load_combinations` (file `load_combinations.csv`) is optional and specifies\n",
    "factored combinations of loads.  By default, there is always a load combination\n",
    "called `all` that includes all loads with a factor of 1.0.   A frame solution (see below)\n",
    "indicates which `CASE` to use."
   ]
  },
  {
   "cell_type": "code",
   "execution_count": 10,
   "metadata": {},
   "outputs": [],
   "source": [
    "%%Table load_combinations\n",
    "CASE,LOAD,FACTOR\n",
    "One,Live,1.5\n",
    "One,Wind,1.75\n",
    "One,Other,2.0"
   ]
  },
  {
   "cell_type": "markdown",
   "metadata": {},
   "source": [
    "## Solution\n",
    "The following outputs all tables, prints a description of the input data,\n",
    "produces a solution for load case '`one`' (all load and case names are case-insensitive)\n",
    "and finally prints the results."
   ]
  },
  {
   "cell_type": "code",
   "execution_count": 11,
   "metadata": {
    "scrolled": false
   },
   "outputs": [
    {
     "name": "stdout",
     "output_type": "stream",
     "text": [
      "\n",
      "Frame frame-6b:\n",
      "===============\n",
      "\n",
      "\n",
      "              # of nodal degrees of freedom: 12\n",
      "  # of constrained nodal degrees of freedom: 5\n",
      "# of unconstrained nodal degrees of freedom: 7  (= degree of kinematic indeterminacy)\n",
      "\n",
      "                               # of members: 3\n",
      "                             # of reactions: 5\n",
      "                                 # of nodes: 4\n",
      "                            # of conditions: 2\n",
      "           degree of statical indeterminacy: 0\n",
      "\n",
      "\n",
      "\n",
      "Nodes:\n",
      "======\n",
      "\n",
      "Node          X         Y  Constraints  DOF #s\n",
      "----      -----     -----  -----------  ------\n",
      "A             0         0  FX,FY,MZ     7,8,9\n",
      "B             0      4000               0,1,2\n",
      "C          8000      4000               3,4,5\n",
      "D          8000         0  FX,FY        10,11,6\n",
      "\n",
      "\n",
      "\n",
      "Members:\n",
      "========\n",
      "\n",
      "Member   Node-J  Node-K    Length       dcx       dcy  Size                Ix           A  Releases\n",
      "------   ------  ------    ------   -------   -------  --------      --------       -----  --------\n",
      "AB       A       B         4000.0   0.00000   1.00000  W310x97       2.22e+08       12300  MZK\n",
      "BC       B       C         8000.0   1.00000   0.00000  W460x106      4.88e+08       13500  \n",
      "CD       C       D         4000.0   0.00000  -1.00000                2.22e+08       12300  MZJ\n",
      "\n",
      "\n",
      "\n",
      "Node Loads:\n",
      "===========\n",
      "\n",
      "Type      Node      FX          FY          MZ\n",
      "----      ----  ----------  ----------  ----------\n",
      "wind      B        -200000           0           0\n",
      "\n",
      "Member Loads:\n",
      "=============\n",
      "\n",
      "Type      Member  Load\n",
      "----      ------  ----------------\n",
      "live      BC      UDL(L=8000.0,w=-50)\n",
      "live      BC      PL(L=8000.0,P=-200000,a=5000.0)\n",
      "\n",
      "Support Displacements:\n",
      "======================\n",
      "\n",
      "Type      Node      DX          DY          TZ\n",
      "----      ----  ----------  ----------  ----------\n",
      "other     A              0         -10           0\n",
      "\n",
      "Load Combinations:\n",
      "==================\n",
      "\n",
      "Case   Type      Factor\n",
      "-----  ----      ------\n",
      "one    live        1.50\n",
      " \"     wind        1.75\n",
      " \"     other       2.00\n",
      "all    other       1.00\n",
      " \"     live        1.00\n",
      " \"     wind        1.00\n",
      "\n",
      "Results for load case: one\n",
      "++++++++++++++++++++++++++\n",
      "\n",
      "\n",
      "Node Displacements:\n",
      "===================\n",
      "\n",
      "Node        DX         DY      Rotation\n",
      "----      ------     ------   ---------\n",
      "A          0.000    -20.000   0.0000000\n",
      "B       -168.168    -20.671  -0.0244748\n",
      "C       -168.168     -0.793   0.0313654\n",
      "D          0.000      0.000   0.0420420\n",
      "\n",
      "Reactions:\n",
      "==========\n",
      "\n",
      "Node        FX         FY         MZ  \n",
      "----     -------    -------    -------\n",
      "A        350.000    412.500  -1400.000\n",
      "D         -0.000    487.500      --   \n",
      "\n",
      "Member End Forces:\n",
      "==================\n",
      "\n",
      "          /----- Axial -----/   /----- Shear -----/   /----- Moment ----/\n",
      "Member       FX J       FX K       FY J       FY K       MZ J       MZ K\n",
      "------     -------    -------    -------    -------    -------    -------\n",
      "AB         412.500   -412.500   -350.000    350.000  -1400.000      0.000\n",
      "BC           0.000      0.000    412.500    487.500     -0.000     -0.000\n",
      "CD         487.500   -487.500      0.000     -0.000      0.000      0.000\n"
     ]
    }
   ],
   "source": [
    "f6b.input_all()\n",
    "f6b.print_input()\n",
    "RS = f6b.solve('one')\n",
    "f6b.print_results(rs=RS)"
   ]
  },
  {
   "cell_type": "code",
   "execution_count": null,
   "metadata": {},
   "outputs": [],
   "source": []
  }
 ],
 "metadata": {
  "kernelspec": {
   "display_name": "Python 3",
   "language": "python",
   "name": "python3"
  },
  "language_info": {
   "codemirror_mode": {
    "name": "ipython",
    "version": 3
   },
   "file_extension": ".py",
   "mimetype": "text/x-python",
   "name": "python",
   "nbconvert_exporter": "python",
   "pygments_lexer": "ipython3",
   "version": "3.6.3"
  },
  "widgets": {
   "state": {},
   "version": "1.1.1"
  }
 },
 "nbformat": 4,
 "nbformat_minor": 1
}
