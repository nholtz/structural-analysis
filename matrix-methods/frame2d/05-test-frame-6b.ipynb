{
 "cells": [
  {
   "cell_type": "markdown",
   "metadata": {},
   "source": [
    "# Example 6-b\n",
    "\n",
    "In this example, all input data is given directly in the notebook cells below.  The data is given\n",
    "in CSV form precisely as would be given in data files.  For each table started by the cell\n",
    "magic `%%Table`, the table name follows immediately.  If the data was instead provided in a data file\n",
    "the file name would be the table name + `.csv`.\n",
    "\n",
    "This example is statically determinate for ease of checking -- the rightmost figure shows\n",
    "the reactions corresponding to factored values of the loads shown in the left figure.\n",
    "Units are $N$ and $mm$.\n",
    "\n",
    "## Test Frame"
   ]
  },
  {
   "cell_type": "code",
   "execution_count": 1,
   "metadata": {},
   "outputs": [
    {
     "data": {
      "image/svg+xml": [
       "<svg height=\"3.4810026in\" id=\"svg2\" inkscape:version=\"0.91 r\" sodipodi:docname=\"frame-6b.svg\" version=\"1.1\" width=\"10.4613in\" xmlns=\"http://www.w3.org/2000/svg\" xmlns:cc=\"http://creativecommons.org/ns#\" xmlns:dc=\"http://purl.org/dc/elements/1.1/\" xmlns:inkscape=\"http://www.inkscape.org/namespaces/inkscape\" xmlns:rdf=\"http://www.w3.org/1999/02/22-rdf-syntax-ns#\" xmlns:sodipodi=\"http://sodipodi.sourceforge.net/DTD/sodipodi-0.dtd\" xmlns:svg=\"http://www.w3.org/2000/svg\" xmlns:xlink=\"http://www.w3.org/1999/xlink\">\n",
       "  <sodipodi:namedview bordercolor=\"#666666\" borderopacity=\"1.0\" fit-margin-bottom=\"0.2\" fit-margin-left=\"0.2\" fit-margin-right=\"0.2\" fit-margin-top=\"0.2\" id=\"base\" inkscape:current-layer=\"layer1\" inkscape:cx=\"405.99484\" inkscape:cy=\"130.62509\" inkscape:document-units=\"in\" inkscape:pageopacity=\"0.0\" inkscape:pageshadow=\"2\" inkscape:snap-grids=\"true\" inkscape:window-height=\"882\" inkscape:window-maximized=\"0\" inkscape:window-width=\"1272\" inkscape:window-x=\"205\" inkscape:window-y=\"35\" inkscape:zoom=\"1.1575154\" pagecolor=\"#ffffff\" showgrid=\"true\" showguides=\"true\" units=\"in\">\n",
       "    <inkscape:grid empspacing=\"5\" enabled=\"true\" id=\"grid2985\" originx=\"-69.099609\" originy=\"-643.61017\" snapvisiblegridlinesonly=\"true\" spacingx=\"0.1in\" spacingy=\"0.1in\" type=\"xygrid\" units=\"in\" visible=\"true\"/>\n",
       "    <sodipodi:guide id=\"guide3042\" orientation=\"0,765\" position=\"-69.099609,-643.61017\"/>\n",
       "    <sodipodi:guide id=\"guide3044\" orientation=\"-990,0\" position=\"695.90039,-643.61017\"/>\n",
       "    <sodipodi:guide id=\"guide3046\" orientation=\"0,-765\" position=\"695.90039,346.38983\"/>\n",
       "    <sodipodi:guide id=\"guide3048\" orientation=\"990,0\" position=\"-69.099609,346.38983\"/>\n",
       "    <sodipodi:guide id=\"guide3050\" orientation=\"0,765\" position=\"650.90039,-598.61017\"/>\n",
       "    <sodipodi:guide id=\"guide3054\" orientation=\"0,-765\" position=\"-33.099609,301.38983\"/>\n",
       "    <sodipodi:guide id=\"guide3056\" orientation=\"990,0\" position=\"-24.099609,229.38983\"/>\n",
       "  </sodipodi:namedview>\n",
       "  <script id=\"script3033\" xlink:href=\"\"/>\n",
       "  <defs id=\"defs4\">\n",
       "    <pattern id=\"pattern3530\" inkscape:collect=\"always\" patternTransform=\"matrix(0.99796804,0,0,1.3640134,225.90763,135.74022)\" xlink:href=\"#pattern2251\"/>\n",
       "    <pattern id=\"pattern3528\" inkscape:collect=\"always\" patternTransform=\"matrix(0.99796804,0,0,1.3640134,225.90763,135.74022)\" xlink:href=\"#pattern2251\"/>\n",
       "    <!-- markers by NMH <nholtz@cee.carleton.ca> -->\n",
       "    <marker id=\"DimensionTick\" inkscape:stockid=\"DimensionTick\" orient=\"auto\" refX=\"0\" refY=\"0\" style=\"overflow:visible\">\n",
       "      <path d=\"M 0,0 8,8\" id=\"path6\" inkscape:connector-curvature=\"0\" style=\"stroke:#4d4d4d;stroke-width:1px;marker-start:none\" transform=\"translate(-4,-4)\"/>\n",
       "    </marker>\n",
       "    <marker id=\"TrussNodeS\" inkscape:stockid=\"TrussNodeS\" markerUnits=\"userSpaceOnUse\" orient=\"auto\" refX=\"0\" refY=\"0\" style=\"overflow:visible\">\n",
       "      <circle cx=\"0\" cy=\"0\" id=\"circle9\" r=\"3\" style=\"fill:#ffffff;stroke:#000000;stroke-width:1\"/>\n",
       "    </marker>\n",
       "    <marker id=\"TrussNodeM\" inkscape:stockid=\"TrussNodeM\" markerUnits=\"userSpaceOnUse\" orient=\"auto\" refX=\"0\" refY=\"0\" style=\"overflow:visible\">\n",
       "      <circle cx=\"0\" cy=\"0\" id=\"circle12\" r=\"4\" style=\"fill:#ffffff;stroke:#000000;stroke-width:1\"/>\n",
       "    </marker>\n",
       "    <!-- patternss by NMH <nholtz@cee.carleton.ca> -->\n",
       "    <pattern height=\"18\" id=\"black-stripes-on-red\" patternUnits=\"userSpaceOnUse\" width=\"18\" x=\"0\" y=\"0\">\n",
       "      <path d=\"M 0,0 18,0 18,18 0,18 z\" id=\"path3006\" inkscape:connector-curvature=\"0\" style=\"fill:#ff0000;stroke:none\"/>\n",
       "      <path d=\"M 0,9 9,0 11,0 0,11 z\" id=\"path3008\" inkscape:connector-curvature=\"0\" style=\"fill:#000000;stroke:none\"/>\n",
       "      <path d=\"m 9,18 9,-9 0,2 -7,7 z\" id=\"path5234\" inkscape:connector-curvature=\"0\" style=\"fill:#000000;stroke:none\"/>\n",
       "    </pattern>\n",
       "    <marker id=\"CLArrowEnd\" markerHeight=\"6\" markerUnits=\"userSpaceOnUse\" markerWidth=\"10\" orient=\"auto\" refX=\"7\" refY=\"3\" viewBox=\"0 0 10 6\">\n",
       "      <path d=\"M 0,0 10,3 0,6 2,3 Z\" id=\"path3451\" inkscape:connector-curvature=\"0\"/>\n",
       "    </marker>\n",
       "    <pattern id=\"pattern2251\" inkscape:collect=\"always\" patternTransform=\"matrix(0.99796804,0,0,1.3640134,225.90763,135.74022)\" xlink:href=\"#pattern4949\"/>\n",
       "    <pattern id=\"pattern4949\" inkscape:collect=\"always\" patternTransform=\"matrix(0.99796804,0,0,1.3640134,316.09135,828.80233)\" xlink:href=\"#pattern4380\"/>\n",
       "    <pattern height=\"83.375\" id=\"pattern4380\" patternTransform=\"translate(216,485.362)\" patternUnits=\"userSpaceOnUse\" width=\"36\">\n",
       "      <g id=\"g4376\" transform=\"translate(-216,-485.362)\">\n",
       "        <polygon class=\"dload\" id=\"polygon3581-2\" points=\"360,0 0,0 0,-12 360,-12 \" style=\"fill:#f0f0f0;stroke:none;visibility:visible\" transform=\"matrix(0.1,0,0,6.75,216,566.362)\"/>\n",
       "        <path class=\"cload\" d=\"m 234,485.362 0,78.625\" id=\"path3627-7\" inkscape:connector-curvature=\"0\" style=\"fill:none;stroke:#000000;stroke-width:1.58746088;marker-end:url(#CLArrowEnd-8);visibility:visible\"/>\n",
       "      </g>\n",
       "    </pattern>\n",
       "    <marker id=\"CLArrowEnd-8\" markerHeight=\"6\" markerUnits=\"userSpaceOnUse\" markerWidth=\"10\" orient=\"auto\" refX=\"7\" refY=\"3\" viewBox=\"0 0 10 6\">\n",
       "      <path d=\"M 0,0 10,3 0,6 2,3 Z\" id=\"path3451-4\" inkscape:connector-curvature=\"0\"/>\n",
       "    </marker>\n",
       "  </defs>\n",
       "  <metadata id=\"metadata7\">\n",
       "    <rdf:RDF>\n",
       "      <cc:Work rdf:about=\"\">\n",
       "        <dc:format>image/svg+xml</dc:format>\n",
       "        <dc:type rdf:resource=\"http://purl.org/dc/dcmitype/StillImage\"/>\n",
       "        <dc:title/>\n",
       "        <cc:license rdf:resource=\"http://creativecommons.org/licenses/by-nc/3.0/\"/>\n",
       "      </cc:Work>\n",
       "      <cc:License rdf:about=\"http://creativecommons.org/licenses/by-nc/3.0/\">\n",
       "        <cc:permits rdf:resource=\"http://creativecommons.org/ns#Reproduction\"/>\n",
       "        <cc:permits rdf:resource=\"http://creativecommons.org/ns#Distribution\"/>\n",
       "        <cc:requires rdf:resource=\"http://creativecommons.org/ns#Notice\"/>\n",
       "        <cc:requires rdf:resource=\"http://creativecommons.org/ns#Attribution\"/>\n",
       "        <cc:prohibits rdf:resource=\"http://creativecommons.org/ns#CommercialUse\"/>\n",
       "        <cc:permits rdf:resource=\"http://creativecommons.org/ns#DerivativeWorks\"/>\n",
       "      </cc:License>\n",
       "    </rdf:RDF>\n",
       "  </metadata>\n",
       "  <g id=\"layer1\" inkscape:groupmode=\"layer\" inkscape:label=\"Layer 1\" transform=\"translate(-69.099609,-33.09961)\">\n",
       "    <path d=\"m 225,270 0,-135 270,0 0,134.80677\" id=\"path27\" inkscape:connector-curvature=\"0\" sodipodi:nodetypes=\"cccc\" style=\"fill:#000000;fill-opacity:0;fill-rule:nonzero;stroke:#000000;stroke-width:2;stroke-linecap:butt;stroke-linejoin:miter;stroke-miterlimit:4;stroke-dasharray:none;stroke-dashoffset:0;stroke-opacity:1\"/>\n",
       "    <g id=\"g10775\" transform=\"translate(239.51101,-85.699974)\">\n",
       "      <title id=\"title3737\">Pin Support</title>\n",
       "      <g id=\"use90\" transform=\"matrix(1.25,0,0,1.25,255.65647,356.59727)\">\n",
       "        <path d=\"m 0.19825424,-1.057356 4.99127116,6.9251865 -10.5112203,0 z\" id=\"path5224\" inkscape:connector-curvature=\"0\" sodipodi:nodetypes=\"cccc\" style=\"fill:#000000;stroke:#000000;stroke-width:0\"/>\n",
       "        <path d=\"M -6,6 6,6\" id=\"path5226\" inkscape:connector-curvature=\"0\" style=\"fill:none;stroke:#000000;stroke-width:1\"/>\n",
       "        <path d=\"M 6,6 3,9 M 3,6 0,9 M 0,6 -3,9 m 0,-3 -3,3 m 0,-3 -3,3\" id=\"path5228\" inkscape:connector-curvature=\"0\" style=\"fill:none;stroke:#000000;stroke-width:1\"/>\n",
       "      </g>\n",
       "    </g>\n",
       "    <g id=\"use3511\" transform=\"matrix(0,-1.25,1.25,0,224.27492,270.09814)\">\n",
       "      <title id=\"title3743\">Fixed Support</title>\n",
       "      <path d=\"M 0,-6 0,6\" id=\"path3409\" inkscape:connector-curvature=\"0\" style=\"fill:none;stroke:#000000;stroke-width:1\"/>\n",
       "      <path d=\"m 0,-6 -3,3 m 3,0 -3,3 m 3,0 -3,3 m 3,0 -3,3 m 3,0 -3,3\" id=\"path3411\" inkscape:connector-curvature=\"0\" style=\"fill:none;stroke:#000000;stroke-width:1\"/>\n",
       "    </g>\n",
       "    <path d=\"m 225,288 0,27\" id=\"path409\" inkscape:connector-curvature=\"0\" style=\"fill:#000000;fill-opacity:0;fill-rule:nonzero;stroke:#606060;stroke-width:1;stroke-linecap:butt;stroke-linejoin:miter;stroke-miterlimit:4;stroke-dasharray:none;stroke-dashoffset:0;stroke-opacity:1\"/>\n",
       "    <path d=\"M 495,287.90814 495,315\" id=\"path411\" inkscape:connector-curvature=\"0\" sodipodi:nodetypes=\"cc\" style=\"fill:#000000;fill-opacity:0;fill-rule:nonzero;stroke:#606060;stroke-width:1;stroke-linecap:butt;stroke-linejoin:miter;stroke-miterlimit:4;stroke-dasharray:none;stroke-dashoffset:0;stroke-opacity:1\"/>\n",
       "    <path d=\"m 225,306 270,0\" id=\"path413\" inkscape:connector-curvature=\"0\" style=\"fill:#000000;fill-opacity:0;fill-rule:nonzero;stroke:#606060;stroke-width:1;stroke-linecap:butt;stroke-linejoin:miter;stroke-miterlimit:4;stroke-dasharray:none;stroke-dashoffset:0;stroke-opacity:1;marker-start:url(#DimensionTick);marker-mid:url(#DimensionTick);marker-end:url(#DimensionTick)\"/>\n",
       "    <path d=\"M 209.69905,270 90,270\" id=\"path421\" inkscape:connector-curvature=\"0\" sodipodi:nodetypes=\"cc\" style=\"fill:#000000;fill-opacity:0;fill-rule:nonzero;stroke:#606060;stroke-width:1;stroke-linecap:butt;stroke-linejoin:miter;stroke-miterlimit:4;stroke-dasharray:none;stroke-dashoffset:0;stroke-opacity:1\"/>\n",
       "    <path d=\"m 171,135 -81,0\" id=\"path423\" inkscape:connector-curvature=\"0\" style=\"fill:#000000;fill-opacity:0;fill-rule:nonzero;stroke:#606060;stroke-width:1;stroke-linecap:butt;stroke-linejoin:miter;stroke-miterlimit:4;stroke-dasharray:none;stroke-dashoffset:0;stroke-opacity:1\"/>\n",
       "    <path d=\"M 99,270 99,135\" id=\"path425\" inkscape:connector-curvature=\"0\" style=\"fill:#000000;fill-opacity:0;fill-rule:nonzero;stroke:#606060;stroke-width:1;stroke-linecap:butt;stroke-linejoin:miter;stroke-miterlimit:4;stroke-dasharray:none;stroke-dashoffset:0;stroke-opacity:1;marker-start:url(#DimensionTick);marker-mid:url(#DimensionTick);marker-end:url(#DimensionTick)\"/>\n",
       "    <path class=\"cload\" d=\"m 223.12445,135.12366 -40.13614,0.49505\" id=\"path3405\" inkscape:connector-curvature=\"0\" sodipodi:nodetypes=\"cc\" style=\"fill:none;stroke:#000000;stroke-width:1.25;marker-end:url(#CLArrowEnd)\"/>\n",
       "    <rect height=\"17.99999\" id=\"rect3421\" style=\"fill:url(#pattern3530);fill-opacity:1;stroke:#000000;stroke-width:0.90483356\" width=\"270\" x=\"225\" y=\"117\"/>\n",
       "    <text id=\"text2306\" sodipodi:linespacing=\"125%\" style=\"font-style:normal;font-variant:normal;font-weight:normal;font-stretch:normal;font-size:12px;line-height:125%;font-family:verdana;-inkscape-font-specification:Sans;text-align:start;letter-spacing:0px;word-spacing:0px;writing-mode:lr-tb;text-anchor:start;fill:#000000;fill-opacity:1;stroke:none\" transform=\"translate(4.00276,-0.30096)\" x=\"341.79724\" xml:space=\"preserve\" y=\"303.30096\"><tspan id=\"tspan2308\" sodipodi:role=\"line\" x=\"341.79724\" y=\"303.30096\">8000</tspan></text>\n",
       "    <text id=\"text2310\" sodipodi:linespacing=\"125%\" style=\"font-style:normal;font-variant:normal;font-weight:normal;font-stretch:normal;font-size:12px;line-height:125%;font-family:verdana;-inkscape-font-specification:Sans;text-align:start;letter-spacing:0px;word-spacing:0px;writing-mode:lr-tb;text-anchor:start;fill:#000000;fill-opacity:1;stroke:none\" transform=\"matrix(0,-1,1,0,1.012016,5.11698)\" x=\"-211.58302\" xml:space=\"preserve\" y=\"94.987984\"><tspan id=\"tspan2312\" sodipodi:role=\"line\" x=\"-211.58302\" y=\"94.987984\">4000</tspan></text>\n",
       "    <text id=\"text2318\" sodipodi:linespacing=\"125%\" style=\"font-style:normal;font-variant:normal;font-weight:normal;font-stretch:normal;font-size:12.5px;line-height:125%;font-family:Verdana;-inkscape-font-specification:Sans;text-align:start;letter-spacing:0px;word-spacing:0px;writing-mode:lr-tb;text-anchor:start;fill:#000000;fill-opacity:1;stroke:none\" transform=\"matrix(0,-1,1,0,0,0)\" x=\"-239.82979\" xml:space=\"preserve\" y=\"238.94885\"><tspan id=\"tspan2320\" sodipodi:role=\"line\" x=\"-239.82979\" y=\"238.94885\">W310x97</tspan></text>\n",
       "    <text id=\"text2326\" sodipodi:linespacing=\"125%\" style=\"font-style:normal;font-variant:normal;font-weight:normal;font-stretch:normal;font-size:12.5px;line-height:125%;font-family:Verdana;-inkscape-font-specification:Sans;text-align:start;letter-spacing:0px;word-spacing:0px;writing-mode:lr-tb;text-anchor:start;fill:#000000;fill-opacity:1;stroke:none\" x=\"322.41159\" xml:space=\"preserve\" y=\"151.05498\"><tspan id=\"tspan2328\" sodipodi:role=\"line\" x=\"322.41159\" y=\"151.05498\">W460x106</tspan></text>\n",
       "    <text id=\"text2330\" sodipodi:linespacing=\"125%\" style=\"font-style:normal;font-variant:normal;font-weight:normal;font-stretch:normal;font-size:12.5px;line-height:125%;font-family:Verdana;-inkscape-font-specification:Sans;text-align:start;letter-spacing:0px;word-spacing:0px;writing-mode:lr-tb;text-anchor:start;fill:#000000;fill-opacity:1;stroke:none\" x=\"287.00226\" xml:space=\"preserve\" y=\"111.43433\"><tspan id=\"tspan2332\" sodipodi:role=\"line\" x=\"287.00226\" y=\"111.43433\">50</tspan></text>\n",
       "    <text id=\"text2334\" sodipodi:linespacing=\"125%\" style=\"font-style:normal;font-variant:normal;font-weight:normal;font-stretch:normal;font-size:12.5px;line-height:125%;font-family:Verdana;-inkscape-font-specification:Sans;text-align:start;letter-spacing:0px;word-spacing:0px;writing-mode:lr-tb;text-anchor:start;fill:#000000;fill-opacity:1;stroke:none\" x=\"168.97653\" xml:space=\"preserve\" y=\"130.74544\"><tspan id=\"tspan2336\" sodipodi:role=\"line\" x=\"168.97653\" y=\"130.74544\">200000</tspan></text>\n",
       "    <path class=\"cload\" d=\"m 405.13941,90.79942 0.49505,40.13614\" id=\"path4443\" inkscape:connector-curvature=\"0\" sodipodi:nodetypes=\"cc\" style=\"fill:none;stroke:#000000;stroke-width:1.25;marker-end:url(#CLArrowEnd)\"/>\n",
       "    <text id=\"text4445\" sodipodi:linespacing=\"125%\" style=\"font-style:normal;font-variant:normal;font-weight:normal;font-stretch:normal;font-size:12.5px;line-height:125%;font-family:Verdana;-inkscape-font-specification:Sans;text-align:start;letter-spacing:0px;word-spacing:0px;writing-mode:lr-tb;text-anchor:start;fill:#000000;fill-opacity:1;stroke:none\" x=\"407.01248\" xml:space=\"preserve\" y=\"100.64089\"><tspan id=\"tspan4447\" sodipodi:role=\"line\" x=\"407.01248\" y=\"100.64089\">200000</tspan></text>\n",
       "    <path d=\"m 225,108 0,-54\" id=\"path4449\" inkscape:connector-curvature=\"0\" style=\"opacity:0.6;fill:none;fill-opacity:1;stroke:#606060;stroke-width:1;stroke-linecap:round;stroke-linejoin:bevel;stroke-miterlimit:6.66666651;stroke-dasharray:none;stroke-dashoffset:0;stroke-opacity:1\"/>\n",
       "    <path d=\"m 405,81 0,-27\" id=\"path4451\" inkscape:connector-curvature=\"0\" style=\"opacity:0.6;fill:none;fill-opacity:1;stroke:#606060;stroke-width:1;stroke-linecap:round;stroke-linejoin:bevel;stroke-miterlimit:6.66666651;stroke-dasharray:none;stroke-dashoffset:0;stroke-opacity:1\"/>\n",
       "    <path d=\"m 225,63 180,0\" id=\"path4453\" inkscape:connector-curvature=\"0\" style=\"opacity:0.6;fill:none;fill-opacity:1;stroke:#606060;stroke-width:1;stroke-linecap:round;stroke-linejoin:bevel;stroke-miterlimit:6.66666651;stroke-dasharray:none;stroke-dashoffset:0;stroke-opacity:1;marker-start:url(#DimensionTick);marker-mid:url(#DimensionTick);marker-end:url(#DimensionTick)\"/>\n",
       "    <text id=\"text4455\" sodipodi:linespacing=\"125%\" style=\"font-style:normal;font-variant:normal;font-weight:normal;font-stretch:normal;font-size:12px;line-height:125%;font-family:verdana;-inkscape-font-specification:Sans;text-align:start;letter-spacing:0px;word-spacing:0px;writing-mode:lr-tb;text-anchor:start;fill:#000000;fill-opacity:1;stroke:none\" transform=\"translate(-2.49141,3.13625)\" x=\"303.29141\" xml:space=\"preserve\" y=\"56.86375\"><tspan id=\"tspan4457\" sodipodi:role=\"line\" x=\"303.29141\" y=\"56.86375\">5000</tspan></text>\n",
       "    <text id=\"text4605\" sodipodi:linespacing=\"125%\" style=\"font-style:normal;font-variant:normal;font-weight:normal;font-stretch:normal;font-size:12.5px;line-height:125%;font-family:Verdana;-inkscape-font-specification:Sans;text-align:start;letter-spacing:0px;word-spacing:0px;writing-mode:lr-tb;text-anchor:start;fill:#000000;fill-opacity:1;stroke:none\" transform=\"matrix(0,-1,1,0,0,0)\" x=\"-241.9301\" xml:space=\"preserve\" y=\"489.5867\"><tspan id=\"tspan4607\" sodipodi:role=\"line\" x=\"-241.9301\" y=\"489.5867\">W310x97</tspan></text>\n",
       "    <text id=\"text4609\" sodipodi:linespacing=\"125%\" style=\"color:#000000;font-style:normal;font-variant:normal;font-weight:normal;font-stretch:normal;font-size:10px;line-height:125%;font-family:Verdana;-inkscape-font-specification:Verdana;text-indent:0;text-align:start;text-decoration:none;text-decoration-line:none;text-decoration-style:solid;text-decoration-color:#000000;letter-spacing:0px;word-spacing:0px;text-transform:none;direction:ltr;block-progression:tb;writing-mode:lr-tb;baseline-shift:baseline;text-anchor:start;white-space:normal;clip-rule:nonzero;display:inline;overflow:visible;visibility:visible;opacity:1;isolation:auto;mix-blend-mode:normal;color-interpolation:sRGB;color-interpolation-filters:linearRGB;solid-color:#000000;solid-opacity:1;fill:#000000;fill-opacity:1;fill-rule:nonzero;stroke:none;stroke-width:0.46875;stroke-linecap:butt;stroke-linejoin:miter;stroke-miterlimit:4;stroke-dasharray:none;stroke-dashoffset:0;stroke-opacity:1;color-rendering:auto;image-rendering:auto;shape-rendering:auto;text-rendering:auto;enable-background:accumulate\" x=\"323.604\" xml:space=\"preserve\" y=\"206.5945\"><tspan id=\"tspan4611\" sodipodi:role=\"line\" x=\"323.604\" y=\"206.5945\">Units: N, mm</tspan></text>\n",
       "    <text id=\"text4613\" sodipodi:linespacing=\"125%\" style=\"color:#000000;font-style:normal;font-variant:normal;font-weight:normal;font-stretch:normal;font-size:12.5px;line-height:125%;font-family:Verdana;-inkscape-font-specification:Verdana;text-indent:0;text-align:start;text-decoration:none;text-decoration-line:none;text-decoration-style:solid;text-decoration-color:#000000;letter-spacing:0px;word-spacing:0px;text-transform:none;direction:ltr;block-progression:tb;writing-mode:lr-tb;baseline-shift:baseline;text-anchor:start;white-space:normal;clip-rule:nonzero;display:inline;overflow:visible;visibility:visible;opacity:1;isolation:auto;mix-blend-mode:normal;color-interpolation:sRGB;color-interpolation-filters:linearRGB;solid-color:#000000;solid-opacity:1;fill:#000000;fill-opacity:1;fill-rule:nonzero;stroke:none;stroke-width:0.46875;stroke-linecap:butt;stroke-linejoin:miter;stroke-miterlimit:4;stroke-dasharray:none;stroke-dashoffset:0;stroke-opacity:1;color-rendering:auto;image-rendering:auto;shape-rendering:auto;text-rendering:auto;enable-background:accumulate\" x=\"230.59132\" xml:space=\"preserve\" y=\"265.698\"><tspan id=\"tspan4615\" sodipodi:role=\"line\" x=\"230.59132\" y=\"265.698\">A</tspan></text>\n",
       "    <text id=\"text4617\" sodipodi:linespacing=\"125%\" style=\"color:#000000;font-style:normal;font-variant:normal;font-weight:normal;font-stretch:normal;font-size:12.5px;line-height:125%;font-family:Verdana;-inkscape-font-specification:Verdana;text-indent:0;text-align:start;text-decoration:none;text-decoration-line:none;text-decoration-style:solid;text-decoration-color:#000000;letter-spacing:0px;word-spacing:0px;text-transform:none;direction:ltr;block-progression:tb;writing-mode:lr-tb;baseline-shift:baseline;text-anchor:start;white-space:normal;clip-rule:nonzero;display:inline;overflow:visible;visibility:visible;opacity:1;isolation:auto;mix-blend-mode:normal;color-interpolation:sRGB;color-interpolation-filters:linearRGB;solid-color:#000000;solid-opacity:1;fill:#000000;fill-opacity:1;fill-rule:nonzero;stroke:none;stroke-width:0.46875;stroke-linecap:butt;stroke-linejoin:miter;stroke-miterlimit:4;stroke-dasharray:none;stroke-dashoffset:0;stroke-opacity:1;color-rendering:auto;image-rendering:auto;shape-rendering:auto;text-rendering:auto;enable-background:accumulate\" x=\"229.5871\" xml:space=\"preserve\" y=\"149.6832\"><tspan id=\"tspan4619\" sodipodi:role=\"line\" x=\"229.5871\" y=\"149.6832\">B</tspan></text>\n",
       "    <text id=\"text4621\" sodipodi:linespacing=\"125%\" style=\"color:#000000;font-style:normal;font-variant:normal;font-weight:normal;font-stretch:normal;font-size:12.5px;line-height:125%;font-family:Verdana;-inkscape-font-specification:Verdana;text-indent:0;text-align:start;text-decoration:none;text-decoration-line:none;text-decoration-style:solid;text-decoration-color:#000000;letter-spacing:0px;word-spacing:0px;text-transform:none;direction:ltr;block-progression:tb;writing-mode:lr-tb;baseline-shift:baseline;text-anchor:start;white-space:normal;clip-rule:nonzero;display:inline;overflow:visible;visibility:visible;opacity:1;isolation:auto;mix-blend-mode:normal;color-interpolation:sRGB;color-interpolation-filters:linearRGB;solid-color:#000000;solid-opacity:1;fill:#000000;fill-opacity:1;fill-rule:nonzero;stroke:none;stroke-width:0.46875;stroke-linecap:butt;stroke-linejoin:miter;stroke-miterlimit:4;stroke-dasharray:none;stroke-dashoffset:0;stroke-opacity:1;color-rendering:auto;image-rendering:auto;shape-rendering:auto;text-rendering:auto;enable-background:accumulate\" x=\"481.21967\" xml:space=\"preserve\" y=\"149.78456\"><tspan id=\"tspan4623\" sodipodi:role=\"line\" x=\"481.21967\" y=\"149.78456\">C</tspan></text>\n",
       "    <text id=\"text4625\" sodipodi:linespacing=\"125%\" style=\"color:#000000;font-style:normal;font-variant:normal;font-weight:normal;font-stretch:normal;font-size:12.5px;line-height:125%;font-family:Verdana;-inkscape-font-specification:Verdana;text-indent:0;text-align:start;text-decoration:none;text-decoration-line:none;text-decoration-style:solid;text-decoration-color:#000000;letter-spacing:0px;word-spacing:0px;text-transform:none;direction:ltr;block-progression:tb;writing-mode:lr-tb;baseline-shift:baseline;text-anchor:start;white-space:normal;clip-rule:nonzero;display:inline;overflow:visible;visibility:visible;opacity:1;isolation:auto;mix-blend-mode:normal;color-interpolation:sRGB;color-interpolation-filters:linearRGB;solid-color:#000000;solid-opacity:1;fill:#000000;fill-opacity:1;fill-rule:nonzero;stroke:none;stroke-width:0.46875;stroke-linecap:butt;stroke-linejoin:miter;stroke-miterlimit:4;stroke-dasharray:none;stroke-dashoffset:0;stroke-opacity:1;color-rendering:auto;image-rendering:auto;shape-rendering:auto;text-rendering:auto;enable-background:accumulate\" x=\"480.61142\" xml:space=\"preserve\" y=\"267.19958\"><tspan id=\"tspan4627\" sodipodi:role=\"line\" x=\"480.61142\" y=\"267.19958\">D</tspan></text>\n",
       "    <text id=\"text4629\" sodipodi:linespacing=\"125%\" style=\"color:#000000;font-style:normal;font-variant:normal;font-weight:normal;font-stretch:normal;font-size:12.5px;line-height:125%;font-family:Verdana;-inkscape-font-specification:Verdana;text-indent:0;text-align:start;text-decoration:none;text-decoration-line:none;text-decoration-style:solid;text-decoration-color:#000000;letter-spacing:0px;word-spacing:0px;text-transform:none;direction:ltr;block-progression:tb;writing-mode:lr-tb;baseline-shift:baseline;text-anchor:start;white-space:normal;clip-rule:nonzero;display:inline;overflow:visible;visibility:visible;opacity:1;isolation:auto;mix-blend-mode:normal;color-interpolation:sRGB;color-interpolation-filters:linearRGB;solid-color:#000000;solid-opacity:1;fill:#000000;fill-opacity:1;fill-rule:nonzero;stroke:none;stroke-width:0.46875;stroke-linecap:butt;stroke-linejoin:miter;stroke-miterlimit:4;stroke-dasharray:none;stroke-dashoffset:0;stroke-opacity:1;color-rendering:auto;image-rendering:auto;shape-rendering:auto;text-rendering:auto;enable-background:accumulate\" x=\"325.80954\" xml:space=\"preserve\" y=\"333.38412\"><tspan id=\"tspan4631\" sodipodi:role=\"line\" x=\"325.80954\" y=\"333.38412\">frame-6b</tspan></text>\n",
       "    <circle cx=\"224.82755\" cy=\"138.01883\" id=\"path4458\" r=\"1.7433337\" style=\"opacity:1;fill:#ffffff;fill-opacity:1;stroke:#000000;stroke-width:0.49999997;stroke-linecap:round;stroke-linejoin:bevel;stroke-miterlimit:4;stroke-dasharray:none;stroke-dashoffset:0;stroke-opacity:1\"/>\n",
       "    <circle cx=\"494.82755\" cy=\"138.01883\" id=\"circle3417\" r=\"1.7433337\" style=\"opacity:1;fill:#ffffff;fill-opacity:1;stroke:#000000;stroke-width:0.49999997;stroke-linecap:round;stroke-linejoin:bevel;stroke-miterlimit:4;stroke-dasharray:none;stroke-dashoffset:0;stroke-opacity:1\"/>\n",
       "    <path d=\"m 719.33469,270 0,-135 270,0 0,134.80677\" id=\"path3418\" inkscape:connector-curvature=\"0\" sodipodi:nodetypes=\"cccc\" style=\"fill:#000000;fill-opacity:0;fill-rule:nonzero;stroke:#000000;stroke-width:2;stroke-linecap:butt;stroke-linejoin:miter;stroke-miterlimit:4;stroke-dasharray:none;stroke-dashoffset:0;stroke-opacity:1\"/>\n",
       "    <path class=\"cload\" d=\"M 717.45914,135.12366 677.323,135.61871\" id=\"path3452\" inkscape:connector-curvature=\"0\" sodipodi:nodetypes=\"cc\" style=\"fill:none;stroke:#000000;stroke-width:1.25;marker-end:url(#CLArrowEnd)\"/>\n",
       "    <rect height=\"17.99999\" id=\"rect3454\" style=\"fill:url(#pattern3528);fill-opacity:1;stroke:#000000;stroke-width:0.90483356\" width=\"270\" x=\"719.33478\" y=\"117\"/>\n",
       "    <text id=\"text3464\" sodipodi:linespacing=\"125%\" style=\"font-style:normal;font-variant:normal;font-weight:normal;font-stretch:normal;font-size:12.5px;line-height:125%;font-family:Verdana;-inkscape-font-specification:Sans;text-align:start;letter-spacing:0px;word-spacing:0px;writing-mode:lr-tb;text-anchor:start;fill:#000000;fill-opacity:1;stroke:none\" transform=\"matrix(0,-1,1,0,0,0)\" x=\"-239.82979\" xml:space=\"preserve\" y=\"733.28363\"><tspan id=\"tspan3466\" sodipodi:role=\"line\" x=\"-239.82979\" y=\"733.28363\">W310x97</tspan></text>\n",
       "    <text id=\"text3468\" sodipodi:linespacing=\"125%\" style=\"font-style:normal;font-variant:normal;font-weight:normal;font-stretch:normal;font-size:12.5px;line-height:125%;font-family:Verdana;-inkscape-font-specification:Sans;text-align:start;letter-spacing:0px;word-spacing:0px;writing-mode:lr-tb;text-anchor:start;fill:#000000;fill-opacity:1;stroke:none\" x=\"816.7464\" xml:space=\"preserve\" y=\"151.05498\"><tspan id=\"tspan3470\" sodipodi:role=\"line\" x=\"816.7464\" y=\"151.05498\">W460x106</tspan></text>\n",
       "    <text id=\"text3472\" sodipodi:linespacing=\"125%\" style=\"font-style:normal;font-variant:normal;font-weight:normal;font-stretch:normal;font-size:12.5px;line-height:125%;font-family:Verdana;-inkscape-font-specification:Sans;text-align:start;letter-spacing:0px;word-spacing:0px;writing-mode:lr-tb;text-anchor:start;fill:#000000;fill-opacity:1;stroke:none\" x=\"781.33704\" xml:space=\"preserve\" y=\"111.43433\"><tspan id=\"tspan3474\" sodipodi:role=\"line\" x=\"781.33704\" y=\"111.43433\">50x1.5</tspan></text>\n",
       "    <text id=\"text3476\" sodipodi:linespacing=\"125%\" style=\"font-style:normal;font-variant:normal;font-weight:normal;font-stretch:normal;font-size:12.5px;line-height:125%;font-family:Verdana;-inkscape-font-specification:Sans;text-align:start;letter-spacing:0px;word-spacing:0px;writing-mode:lr-tb;text-anchor:start;fill:#000000;fill-opacity:1;stroke:none\" x=\"626.04749\" xml:space=\"preserve\" y=\"127.69102\"><tspan id=\"tspan3478\" sodipodi:role=\"line\" x=\"626.04749\" y=\"127.69102\">200000x1.75</tspan></text>\n",
       "    <path class=\"cload\" d=\"m 899.4741,90.79942 0.49505,40.13614\" id=\"path3480\" inkscape:connector-curvature=\"0\" sodipodi:nodetypes=\"cc\" style=\"fill:none;stroke:#000000;stroke-width:1.25;marker-end:url(#CLArrowEnd)\"/>\n",
       "    <text id=\"text3482\" sodipodi:linespacing=\"125%\" style=\"font-style:normal;font-variant:normal;font-weight:normal;font-stretch:normal;font-size:12.5px;line-height:125%;font-family:Verdana;-inkscape-font-specification:Sans;text-align:start;letter-spacing:0px;word-spacing:0px;writing-mode:lr-tb;text-anchor:start;fill:#000000;fill-opacity:1;stroke:none\" x=\"901.34723\" xml:space=\"preserve\" y=\"100.64089\"><tspan id=\"tspan3484\" sodipodi:role=\"line\" x=\"901.34723\" y=\"100.64089\">200000x1.5</tspan></text>\n",
       "    <text id=\"text3496\" sodipodi:linespacing=\"125%\" style=\"font-style:normal;font-variant:normal;font-weight:normal;font-stretch:normal;font-size:12.5px;line-height:125%;font-family:Verdana;-inkscape-font-specification:Sans;text-align:start;letter-spacing:0px;word-spacing:0px;writing-mode:lr-tb;text-anchor:start;fill:#000000;fill-opacity:1;stroke:none\" transform=\"matrix(0,-1,1,0,0,0)\" x=\"-241.9301\" xml:space=\"preserve\" y=\"983.92145\"><tspan id=\"tspan3498\" sodipodi:role=\"line\" x=\"-241.9301\" y=\"983.92145\">W310x97</tspan></text>\n",
       "    <text id=\"text3504\" sodipodi:linespacing=\"125%\" style=\"color:#000000;font-style:normal;font-variant:normal;font-weight:normal;font-stretch:normal;font-size:12.5px;line-height:125%;font-family:Verdana;-inkscape-font-specification:Verdana;text-indent:0;text-align:start;text-decoration:none;text-decoration-line:none;text-decoration-style:solid;text-decoration-color:#000000;letter-spacing:0px;word-spacing:0px;text-transform:none;direction:ltr;block-progression:tb;writing-mode:lr-tb;baseline-shift:baseline;text-anchor:start;white-space:normal;clip-rule:nonzero;display:inline;overflow:visible;visibility:visible;opacity:1;isolation:auto;mix-blend-mode:normal;color-interpolation:sRGB;color-interpolation-filters:linearRGB;solid-color:#000000;solid-opacity:1;fill:#000000;fill-opacity:1;fill-rule:nonzero;stroke:none;stroke-width:0.46875;stroke-linecap:butt;stroke-linejoin:miter;stroke-miterlimit:4;stroke-dasharray:none;stroke-dashoffset:0;stroke-opacity:1;color-rendering:auto;image-rendering:auto;shape-rendering:auto;text-rendering:auto;enable-background:accumulate\" x=\"724.92609\" xml:space=\"preserve\" y=\"265.698\"><tspan id=\"tspan3506\" sodipodi:role=\"line\" x=\"724.92609\" y=\"265.698\">A</tspan></text>\n",
       "    <text id=\"text3508\" sodipodi:linespacing=\"125%\" style=\"color:#000000;font-style:normal;font-variant:normal;font-weight:normal;font-stretch:normal;font-size:12.5px;line-height:125%;font-family:Verdana;-inkscape-font-specification:Verdana;text-indent:0;text-align:start;text-decoration:none;text-decoration-line:none;text-decoration-style:solid;text-decoration-color:#000000;letter-spacing:0px;word-spacing:0px;text-transform:none;direction:ltr;block-progression:tb;writing-mode:lr-tb;baseline-shift:baseline;text-anchor:start;white-space:normal;clip-rule:nonzero;display:inline;overflow:visible;visibility:visible;opacity:1;isolation:auto;mix-blend-mode:normal;color-interpolation:sRGB;color-interpolation-filters:linearRGB;solid-color:#000000;solid-opacity:1;fill:#000000;fill-opacity:1;fill-rule:nonzero;stroke:none;stroke-width:0.46875;stroke-linecap:butt;stroke-linejoin:miter;stroke-miterlimit:4;stroke-dasharray:none;stroke-dashoffset:0;stroke-opacity:1;color-rendering:auto;image-rendering:auto;shape-rendering:auto;text-rendering:auto;enable-background:accumulate\" x=\"723.92188\" xml:space=\"preserve\" y=\"149.6832\"><tspan id=\"tspan3510\" sodipodi:role=\"line\" x=\"723.92188\" y=\"149.6832\">B</tspan></text>\n",
       "    <text id=\"text3512\" sodipodi:linespacing=\"125%\" style=\"color:#000000;font-style:normal;font-variant:normal;font-weight:normal;font-stretch:normal;font-size:12.5px;line-height:125%;font-family:Verdana;-inkscape-font-specification:Verdana;text-indent:0;text-align:start;text-decoration:none;text-decoration-line:none;text-decoration-style:solid;text-decoration-color:#000000;letter-spacing:0px;word-spacing:0px;text-transform:none;direction:ltr;block-progression:tb;writing-mode:lr-tb;baseline-shift:baseline;text-anchor:start;white-space:normal;clip-rule:nonzero;display:inline;overflow:visible;visibility:visible;opacity:1;isolation:auto;mix-blend-mode:normal;color-interpolation:sRGB;color-interpolation-filters:linearRGB;solid-color:#000000;solid-opacity:1;fill:#000000;fill-opacity:1;fill-rule:nonzero;stroke:none;stroke-width:0.46875;stroke-linecap:butt;stroke-linejoin:miter;stroke-miterlimit:4;stroke-dasharray:none;stroke-dashoffset:0;stroke-opacity:1;color-rendering:auto;image-rendering:auto;shape-rendering:auto;text-rendering:auto;enable-background:accumulate\" x=\"975.55444\" xml:space=\"preserve\" y=\"149.78456\"><tspan id=\"tspan3514\" sodipodi:role=\"line\" x=\"975.55444\" y=\"149.78456\">C</tspan></text>\n",
       "    <text id=\"text3516\" sodipodi:linespacing=\"125%\" style=\"color:#000000;font-style:normal;font-variant:normal;font-weight:normal;font-stretch:normal;font-size:12.5px;line-height:125%;font-family:Verdana;-inkscape-font-specification:Verdana;text-indent:0;text-align:start;text-decoration:none;text-decoration-line:none;text-decoration-style:solid;text-decoration-color:#000000;letter-spacing:0px;word-spacing:0px;text-transform:none;direction:ltr;block-progression:tb;writing-mode:lr-tb;baseline-shift:baseline;text-anchor:start;white-space:normal;clip-rule:nonzero;display:inline;overflow:visible;visibility:visible;opacity:1;isolation:auto;mix-blend-mode:normal;color-interpolation:sRGB;color-interpolation-filters:linearRGB;solid-color:#000000;solid-opacity:1;fill:#000000;fill-opacity:1;fill-rule:nonzero;stroke:none;stroke-width:0.46875;stroke-linecap:butt;stroke-linejoin:miter;stroke-miterlimit:4;stroke-dasharray:none;stroke-dashoffset:0;stroke-opacity:1;color-rendering:auto;image-rendering:auto;shape-rendering:auto;text-rendering:auto;enable-background:accumulate\" x=\"974.94623\" xml:space=\"preserve\" y=\"267.19958\"><tspan id=\"tspan3518\" sodipodi:role=\"line\" x=\"974.94623\" y=\"267.19958\">D</tspan></text>\n",
       "    <circle cx=\"719.16229\" cy=\"138.01883\" id=\"circle3524\" r=\"1.7433337\" style=\"opacity:1;fill:#ffffff;fill-opacity:1;stroke:#000000;stroke-width:0.49999997;stroke-linecap:round;stroke-linejoin:bevel;stroke-miterlimit:4;stroke-dasharray:none;stroke-dashoffset:0;stroke-opacity:1\"/>\n",
       "    <circle cx=\"989.16229\" cy=\"138.01883\" id=\"circle3526\" r=\"1.7433337\" style=\"opacity:1;fill:#ffffff;fill-opacity:1;stroke:#000000;stroke-width:0.49999997;stroke-linecap:round;stroke-linejoin:bevel;stroke-miterlimit:4;stroke-dasharray:none;stroke-dashoffset:0;stroke-opacity:1\"/>\n",
       "    <text id=\"text3532\" sodipodi:linespacing=\"125%\" style=\"font-style:normal;font-weight:normal;font-size:12.5px;line-height:125%;font-family:sans-serif;letter-spacing:0px;word-spacing:0px;fill:#000000;fill-opacity:1;stroke:none;stroke-width:1px;stroke-linecap:butt;stroke-linejoin:miter;stroke-opacity:1\" x=\"777.99176\" xml:space=\"preserve\" y=\"70.941475\"><tspan id=\"tspan3534\" sodipodi:role=\"line\" x=\"777.99176\" y=\"70.941475\">Factored Loads, Reactions</tspan></text>\n",
       "    <path class=\"cload\" d=\"m 724.42337,270.12887 40.13614,0.49505\" id=\"path3536\" inkscape:connector-curvature=\"0\" sodipodi:nodetypes=\"cc\" style=\"fill:none;stroke:#000000;stroke-width:1.25;marker-end:url(#CLArrowEnd)\"/>\n",
       "    <path class=\"cload\" d=\"m 989.20811,315.49067 0.49505,-40.13613\" id=\"path3538\" inkscape:connector-curvature=\"0\" sodipodi:nodetypes=\"cc\" style=\"fill:none;stroke:#000000;stroke-width:1.25;marker-end:url(#CLArrowEnd)\"/>\n",
       "    <path class=\"cload\" d=\"m 718.58681,314.87979 0.49505,-40.13613\" id=\"path3540\" inkscape:connector-curvature=\"0\" sodipodi:nodetypes=\"cc\" style=\"fill:none;stroke:#000000;stroke-width:1.25;marker-end:url(#CLArrowEnd)\"/>\n",
       "    <g id=\"g4377\" transform=\"translate(79.480587,0.86391943)\">\n",
       "      <path d=\"m 666,265.49997 a 22.5,22.499979 0 0 1 -22.24534,22.49854 22.5,22.499979 0 0 1 -22.7489,-21.98925\" id=\"path3542\" sodipodi:cx=\"643.5\" sodipodi:cy=\"265.49997\" sodipodi:end=\"3.1189557\" sodipodi:open=\"true\" sodipodi:rx=\"22.5\" sodipodi:ry=\"22.499979\" sodipodi:start=\"0\" sodipodi:type=\"arc\" style=\"fill:none;stroke:#000000;stroke-width:0.99000001;stroke-miterlimit:4;stroke-dasharray:none;stroke-dashoffset:0\"/>\n",
       "      <path class=\"cload\" d=\"m 620.9196,266.63288 0.0631,-6.65925\" id=\"path4374\" inkscape:connector-curvature=\"0\" sodipodi:nodetypes=\"cc\" style=\"fill:none;stroke:#000000;stroke-width:1.25;marker-end:url(#CLArrowEnd)\"/>\n",
       "    </g>\n",
       "    <text id=\"text4381\" sodipodi:linespacing=\"125%\" style=\"font-style:normal;font-weight:normal;font-size:12.5px;line-height:125%;font-family:sans-serif;letter-spacing:0px;word-spacing:0px;fill:#000000;fill-opacity:1;stroke:none;stroke-width:1px;stroke-linecap:butt;stroke-linejoin:miter;stroke-opacity:1\" x=\"937.43317\" xml:space=\"preserve\" y=\"309.9588\"><tspan id=\"tspan4383\" sodipodi:role=\"line\" x=\"937.43317\" y=\"309.9588\">487500</tspan></text>\n",
       "    <text id=\"text4385\" sodipodi:linespacing=\"125%\" style=\"font-style:normal;font-weight:normal;font-size:12.5px;line-height:125%;font-family:sans-serif;letter-spacing:0px;word-spacing:0px;fill:#000000;fill-opacity:1;stroke:none;stroke-width:1px;stroke-linecap:butt;stroke-linejoin:miter;stroke-opacity:1\" x=\"721.80408\" xml:space=\"preserve\" y=\"313.63297\"><tspan id=\"tspan4387\" sodipodi:role=\"line\" x=\"721.80408\" y=\"313.63297\">412500</tspan></text>\n",
       "    <text id=\"text4389\" sodipodi:linespacing=\"125%\" style=\"font-style:normal;font-weight:normal;font-size:12.5px;line-height:125%;font-family:sans-serif;letter-spacing:0px;word-spacing:0px;fill:#000000;fill-opacity:1;stroke:none;stroke-width:1px;stroke-linecap:butt;stroke-linejoin:miter;stroke-opacity:1\" x=\"751.53809\" xml:space=\"preserve\" y=\"286.41443\"><tspan id=\"tspan4391\" sodipodi:role=\"line\" x=\"751.53809\" y=\"286.41443\">350000</tspan></text>\n",
       "    <text id=\"text4393\" sodipodi:linespacing=\"125%\" style=\"font-style:normal;font-weight:normal;font-size:12.5px;line-height:125%;font-family:sans-serif;letter-spacing:0px;word-spacing:0px;fill:#000000;fill-opacity:1;stroke:none;stroke-width:1px;stroke-linecap:butt;stroke-linejoin:miter;stroke-opacity:1\" x=\"637.6991\" xml:space=\"preserve\" y=\"284.40201\"><tspan id=\"tspan4395\" sodipodi:role=\"line\" x=\"637.6991\" y=\"284.40201\">1400x10<tspan id=\"tspan4397\" style=\"font-size:64.99999762%;baseline-shift:super\">6</tspan></tspan></text>\n",
       "  </g>\n",
       "</svg>"
      ],
      "text/plain": [
       "<IPython.core.display.SVG object>"
      ]
     },
     "execution_count": 1,
     "metadata": {},
     "output_type": "execute_result"
    }
   ],
   "source": [
    "from IPython import display\n",
    "display.SVG('data/frame-6b.d/frame-6b.svg')"
   ]
  },
  {
   "cell_type": "code",
   "execution_count": 2,
   "metadata": {},
   "outputs": [],
   "source": [
    "from Frame2D import Frame2D\n",
    "\n",
    "f6b = Frame2D('frame-6b')"
   ]
  },
  {
   "cell_type": "markdown",
   "metadata": {},
   "source": [
    "# Input Data"
   ]
  },
  {
   "cell_type": "markdown",
   "metadata": {},
   "source": [
    "## Nodes\n",
    "Table `nodes` (file `nodes.csv`) provides the $x$-$y$ coordinates of each node.  Other columns, such \n",
    "as the $z$- coordinate are optional, and ignored if given."
   ]
  },
  {
   "cell_type": "code",
   "execution_count": 3,
   "metadata": {},
   "outputs": [],
   "source": [
    "%%Table nodes\n",
    "NODEID,X,Y,Z\n",
    "A,0.,0.,5000.\n",
    "B,0,4000,5000\n",
    "C,8000,4000,5000\n",
    "D,8000,0,5000"
   ]
  },
  {
   "cell_type": "markdown",
   "metadata": {},
   "source": [
    "## Supports\n",
    "Table `supports` (file `supports.csv`) specifies the support fixity, by indicating the constrained\n",
    "direction for each node.  There can be 1, 2 or 3 constraints, selected from the set '`FX`', '`FY`' or '`MZ`',\n",
    "in any order for each constrained node.  Directions not mentioned are 'free' or unconstrained."
   ]
  },
  {
   "cell_type": "code",
   "execution_count": 4,
   "metadata": {},
   "outputs": [],
   "source": [
    "%%Table supports\n",
    "NODEID,C0,C1,C2\n",
    "A,FX,FY,MZ\n",
    "D,FX,FY"
   ]
  },
  {
   "cell_type": "markdown",
   "metadata": {},
   "source": [
    "## Members\n",
    "Table `members` (file `members.csv`) specifies the member incidences.  For each member, specify\n",
    "the id of the nodes at the 'j-' and 'k-' ends.  These ends are used to interpret the signs of various values."
   ]
  },
  {
   "cell_type": "code",
   "execution_count": 5,
   "metadata": {},
   "outputs": [],
   "source": [
    "%%Table members\n",
    "MEMBERID,NODEJ,NODEK\n",
    "AB,A,B\n",
    "BC,B,C\n",
    "CD,C,D"
   ]
  },
  {
   "cell_type": "markdown",
   "metadata": {},
   "source": [
    "## Releases\n",
    "Table `releases` (file `releases.csv`) is optional and specifies internal force releases in some members.\n",
    "Currently only moment releases at the 'j-' end ('`MZJ`') and 'k-' end ('`MZK`') are supported.  These specify\n",
    "that the internal bending moment at those locations are zero.  You can only specify one release per line,\n",
    "but you can have more than one line for a member."
   ]
  },
  {
   "cell_type": "code",
   "execution_count": 6,
   "metadata": {},
   "outputs": [],
   "source": [
    "%%Table releases\n",
    "MEMBERID,RELEASE\n",
    "AB,MZK\n",
    "CD,MZJ"
   ]
  },
  {
   "cell_type": "markdown",
   "metadata": {},
   "source": [
    "## Properties\n",
    "Table `properties` (file `properties.csv`) specifies the member properties for each member.\n",
    "If the '`SST`' library is available, you may specify the size of the member by using the\n",
    "designation of a shape in the CISC Structural Section Tables.  If either `IX` or `A` is missing,\n",
    "it is retreived using the `sst` library.  If the values on any line are missing, they\n",
    "are copied from the line above."
   ]
  },
  {
   "cell_type": "code",
   "execution_count": 7,
   "metadata": {},
   "outputs": [],
   "source": [
    "%%Table properties\n",
    "MEMBERID,SIZE,IX,A\n",
    "BC,W460x106,,\n",
    "AB,W310x97,,\n",
    "CD,,"
   ]
  },
  {
   "cell_type": "markdown",
   "metadata": {},
   "source": [
    "## Node Loads\n",
    "Table `node_loads` (file `node_loads.csv`) specifies the forces applied directly to the nodes.\n",
    "`DIRN` (direction) may be one of `'FX,FY,MZ'`.  'LOAD' is an identifier of the kind of load\n",
    "being applied and `F` is the value of the load, normally given as a service or specified load.\n",
    "A later input table will specify load combinations and factors.\n"
   ]
  },
  {
   "cell_type": "code",
   "execution_count": 8,
   "metadata": {},
   "outputs": [],
   "source": [
    "%%Table node_loads\n",
    "LOAD,NODEID,DIRN,F\n",
    "Wind,B,FX,-200000."
   ]
  },
  {
   "cell_type": "markdown",
   "metadata": {},
   "source": [
    "## Support Displacements\n",
    "Table `support_displacements` (file `support_displacements.csv`) is optional and specifies imposed displacements\n",
    "of the supports.  `DIRN` (direction) is one of `'DX, DY, RZ'`.  `LOAD` is as for Node Loads, above.\n",
    "\n",
    "Of course, in this example the frame is statically determinate and so the support displacement\n",
    "will have no effect on the reactions or member end forces."
   ]
  },
  {
   "cell_type": "code",
   "execution_count": 9,
   "metadata": {},
   "outputs": [],
   "source": [
    "%%Table support_displacements\n",
    "LOAD,NODEID,DIRN,DELTA\n",
    "Other,A,DY,-10"
   ]
  },
  {
   "cell_type": "markdown",
   "metadata": {},
   "source": [
    "## Member Loads\n",
    "Table `member_loads` (file `member_loads.csv`) specifies loads acting on members.  Current\n",
    "types are `PL` (concentrated transverse, ie point load), `CM` (concentrated moment), `UDL` (uniformly\n",
    "distributed load over entire span), `LVL` (linearly varying load over a portion of the span) and `PLA` (point load applied parallel to member coincident with centroidal axis).  Values `W1` and `W2` are loads or\n",
    "load intensities and `A`, `B`, and `C` are dimensions appropriate to the kind of load."
   ]
  },
  {
   "cell_type": "code",
   "execution_count": 10,
   "metadata": {},
   "outputs": [],
   "source": [
    "%%Table member_loads\n",
    "LOAD,MEMBERID,TYPE,W1,W2,A,B,C\n",
    "Live,BC,UDL,-50,,,,\n",
    "Live,BC,PL,-200000,,5000"
   ]
  },
  {
   "cell_type": "markdown",
   "metadata": {},
   "source": [
    "## Load Combinations\n",
    "Table `load_combinations` (file `load_combinations.csv`) is optional and specifies\n",
    "factored combinations of loads.  By default, there is always a load combination\n",
    "called `all` that includes all loads with a factor of 1.0.   A frame solution (see below)\n",
    "indicates which `CASE` to use."
   ]
  },
  {
   "cell_type": "code",
   "execution_count": 11,
   "metadata": {},
   "outputs": [],
   "source": [
    "%%Table load_combinations\n",
    "CASE,LOAD,FACTOR\n",
    "One,Live,1.5\n",
    "One,Wind,1.75\n",
    "One,Other,2.0"
   ]
  },
  {
   "cell_type": "markdown",
   "metadata": {},
   "source": [
    "## Solution\n",
    "The following outputs all tables, prints a description of the input data,\n",
    "produces a solution for load case '`one`' (all load and case names are case-insensitive)\n",
    "and finally prints the results."
   ]
  },
  {
   "cell_type": "code",
   "execution_count": 12,
   "metadata": {
    "scrolled": false
   },
   "outputs": [
    {
     "name": "stdout",
     "output_type": "stream",
     "text": [
      "\n",
      "Frame frame-6b:\n",
      "===============\n",
      "\n",
      "\n",
      "              # of nodal degrees of freedom: 12\n",
      "  # of constrained nodal degrees of freedom: 5\n",
      "# of unconstrained nodal degrees of freedom: 7  (= degree of kinematic indeterminacy)\n",
      "\n",
      "                               # of members: 3\n",
      "                             # of reactions: 5\n",
      "                                 # of nodes: 4\n",
      "                            # of conditions: 2\n",
      "           degree of statical indeterminacy: 0\n",
      "\n",
      "\n",
      "\n",
      "Nodes:\n",
      "======\n",
      "\n",
      "Node          X         Y  Constraints  DOF #s\n",
      "----      -----     -----  -----------  ------\n",
      "A             0         0  FX,FY,MZ     7,8,9\n",
      "B             0      4000               0,1,2\n",
      "C          8000      4000               3,4,5\n",
      "D          8000         0  FX,FY        10,11,6\n",
      "\n",
      "\n",
      "\n",
      "Members:\n",
      "========\n",
      "\n",
      "Member   Node-J  Node-K    Length       dcx       dcy  Size                Ix           A  Releases\n",
      "------   ------  ------    ------   -------   -------  --------      --------       -----  --------\n",
      "AB       A       B         4000.0   0.00000   1.00000  W310x97       2.22e+08       12300  MZK\n",
      "BC       B       C         8000.0   1.00000   0.00000  W460x106      4.88e+08       13500  \n",
      "CD       C       D         4000.0   0.00000  -1.00000                2.22e+08       12300  MZJ\n",
      "\n",
      "\n",
      "\n",
      "Node Loads:\n",
      "===========\n",
      "\n",
      "Type      Node      FX          FY          MZ\n",
      "----      ----  ----------  ----------  ----------\n",
      "wind      B        -200000           0           0\n",
      "\n",
      "Member Loads:\n",
      "=============\n",
      "\n",
      "Type      Member  Load\n",
      "----      ------  ----------------\n",
      "live      BC      UDL(L=8000.0,w=-50)\n",
      "live      BC      PL(L=8000.0,P=-200000,a=5000.0)\n",
      "\n",
      "Support Displacements:\n",
      "======================\n",
      "\n",
      "Type      Node      DX          DY          TZ\n",
      "----      ----  ----------  ----------  ----------\n",
      "other     A              0         -10           0\n",
      "\n",
      "Load Combinations:\n",
      "==================\n",
      "\n",
      "Case   Type      Factor\n",
      "-----  ----      ------\n",
      "one    live        1.50\n",
      " \"     wind        1.75\n",
      " \"     other       2.00\n",
      "all    other       1.00\n",
      " \"     live        1.00\n",
      " \"     wind        1.00\n",
      "\n",
      "Results for load case: one\n",
      "++++++++++++++++++++++++++\n",
      "\n",
      "\n",
      "Node Displacements:\n",
      "===================\n",
      "\n",
      "Node        DX         DY      Rotation\n",
      "----      ------     ------   ---------\n",
      "A          0.000    -20.000   0.0000000\n",
      "B       -168.168    -20.671  -0.0244748\n",
      "C       -168.168     -0.793   0.0313654\n",
      "D          0.000      0.000   0.0420420\n",
      "\n",
      "Reactions:\n",
      "==========\n",
      "\n",
      "Node        FX         FY         MZ  \n",
      "----     -------    -------    -------\n",
      "A        350.000    412.500  -1400.000\n",
      "D         -0.000    487.500      --   \n",
      "\n",
      "Member End Forces:\n",
      "==================\n",
      "\n",
      "          /----- Axial -----/   /----- Shear -----/   /----- Moment ----/\n",
      "Member       FX J       FX K       FY J       FY K       MZ J       MZ K\n",
      "------     -------    -------    -------    -------    -------    -------\n",
      "AB         412.500   -412.500   -350.000    350.000  -1400.000      0.000\n",
      "BC           0.000      0.000    412.500    487.500     -0.000     -0.000\n",
      "CD         487.500   -487.500      0.000     -0.000      0.000      0.000\n"
     ]
    }
   ],
   "source": [
    "f6b.input_all()\n",
    "f6b.print_input()\n",
    "RS = f6b.solve('one')\n",
    "f6b.print_results(rs=RS)"
   ]
  },
  {
   "cell_type": "code",
   "execution_count": null,
   "metadata": {},
   "outputs": [],
   "source": []
  }
 ],
 "metadata": {
  "kernelspec": {
   "display_name": "Python 3",
   "language": "python",
   "name": "python3"
  },
  "language_info": {
   "codemirror_mode": {
    "name": "ipython",
    "version": 3
   },
   "file_extension": ".py",
   "mimetype": "text/x-python",
   "name": "python",
   "nbconvert_exporter": "python",
   "pygments_lexer": "ipython3",
   "version": "3.6.3"
  },
  "widgets": {
   "state": {},
   "version": "1.1.1"
  }
 },
 "nbformat": 4,
 "nbformat_minor": 2
}
